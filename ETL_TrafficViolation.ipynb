{
  "nbformat": 4,
  "nbformat_minor": 0,
  "metadata": {
    "colab": {
      "provenance": []
    },
    "kernelspec": {
      "name": "python3",
      "display_name": "Python 3"
    },
    "language_info": {
      "name": "python"
    }
  },
  "cells": [
    {
      "cell_type": "markdown",
      "source": [
        "\n",
        "Installing Spark on google collab\n",
        "\n"
      ],
      "metadata": {
        "id": "GrJsv6A7FJ5Y"
      }
    },
    {
      "cell_type": "code",
      "source": [
        "#Install JDK\n",
        "!apt-get install openjdk-8-jdk-headless -qq > /dev/null"
      ],
      "metadata": {
        "id": "dQazozg5yQgp"
      },
      "execution_count": 1,
      "outputs": []
    },
    {
      "cell_type": "code",
      "source": [
        "# Donwload Spark\n",
        "!wget -q https://archive.apache.org/dist/spark/spark-3.1.2/spark-3.1.2-bin-hadoop2.7.tgz"
      ],
      "metadata": {
        "id": "hpQwjD31ySFi"
      },
      "execution_count": 2,
      "outputs": []
    },
    {
      "cell_type": "code",
      "source": [
        "# Unzip spark folder\n",
        "!tar xf /content/spark-3.1.2-bin-hadoop2.7.tgz"
      ],
      "metadata": {
        "id": "R7sk0pqlyUSP"
      },
      "execution_count": 3,
      "outputs": []
    },
    {
      "cell_type": "code",
      "source": [
        "!pip install -q findspark"
      ],
      "metadata": {
        "id": "_UBBRK2-yYVz"
      },
      "execution_count": 4,
      "outputs": []
    },
    {
      "cell_type": "code",
      "source": [
        "# Create env variables\n",
        "import os\n",
        "os.environ[\"JAVA_HOME\"] = \"/usr/lib/jvm/java-8-openjdk-amd64\"\n",
        "os.environ[\"SPARK_HOME\"] = \"/content/spark-3.1.2-bin-hadoop2.7\""
      ],
      "metadata": {
        "id": "TVOsSR8CyaOd"
      },
      "execution_count": 5,
      "outputs": []
    },
    {
      "cell_type": "code",
      "source": [
        "# Import findspark, that helps find the Spark on the system and import as a regular lib\n",
        "import findspark\n",
        "findspark.init()"
      ],
      "metadata": {
        "id": "mdrtcZoWycNj"
      },
      "execution_count": 6,
      "outputs": []
    },
    {
      "cell_type": "markdown",
      "source": [
        "Donwload files traffic violations zipped folder"
      ],
      "metadata": {
        "id": "YqHmdVLgFOQC"
      }
    },
    {
      "cell_type": "code",
      "source": [
        "import re\n",
        "# Let's first download the data from the government site, this is one of my updates on the tutor´s code\n",
        "# I download the code automatically from the site\n",
        "import requests\n",
        "import zipfile\n",
        "\n",
        "def download_and_extract_file(url, destination):\n",
        "    response = requests.get(url)\n",
        "    if response.status_code == 200:\n",
        "        with open(destination, 'wb') as file:\n",
        "            file.write(response.content)\n",
        "        print(\"File downloaded successfully.\")\n",
        "\n",
        "        # Extract the file\n",
        "        with zipfile.ZipFile(destination, 'r') as zip_ref:\n",
        "            zip_ref.extractall(os.path.dirname(destination))\n",
        "        print(\"File extracted successfully.\")\n",
        "\n",
        "        # Delete the .zip file\n",
        "        os.remove(destination)\n",
        "        print(\".zip file deleted.\")\n",
        "    else:\n",
        "        print(\"Failed to download the file.\")"
      ],
      "metadata": {
        "id": "czklR6HssC4q"
      },
      "execution_count": 7,
      "outputs": []
    },
    {
      "cell_type": "code",
      "source": [
        "folder_name = \"data\"\n",
        "\n",
        "# Check if the folder exists\n",
        "if not os.path.exists(folder_name):\n",
        "    # Create the folder\n",
        "    os.makedirs(folder_name)\n",
        "    print(f\"Folder '{folder_name}' created successfully.\")\n",
        "else:\n",
        "    print(f\"Folder '{folder_name}' already exists.\")"
      ],
      "metadata": {
        "colab": {
          "base_uri": "https://localhost:8080/"
        },
        "id": "Fr1qJIvH3Ezc",
        "outputId": "4b4480f3-5183-45ce-eecd-b32ffbe94e4f"
      },
      "execution_count": 8,
      "outputs": [
        {
          "output_type": "stream",
          "name": "stdout",
          "text": [
            "Folder 'data' created successfully.\n"
          ]
        }
      ]
    },
    {
      "cell_type": "code",
      "source": [
        "# Download 2022 traffic violation data\n",
        "file_url = 'https://drive.google.com/u/0/uc?id=1-oY2e1W4cjmbZCgdcGnmPCIod4MFCSpg&export=download&confirm=t&uuid=c1ebf929-8b62-4489-a46d-5284482747fb&at=AKKF8vwfciU3oT68KlBtF4jj14Wl:1688604985049'\n",
        "file_destination = '/content/data/infracoes_2022.zip'\n",
        "\n",
        "download_and_extract_file(file_url, file_destination)"
      ],
      "metadata": {
        "colab": {
          "base_uri": "https://localhost:8080/"
        },
        "id": "hc7NPCWnwAZK",
        "outputId": "e2ebc77e-f8c7-4658-fa3a-1806e0bb1846"
      },
      "execution_count": 9,
      "outputs": [
        {
          "output_type": "stream",
          "name": "stdout",
          "text": [
            "File downloaded successfully.\n",
            "File extracted successfully.\n",
            ".zip file deleted.\n"
          ]
        }
      ]
    },
    {
      "cell_type": "code",
      "source": [
        "# Download 2023 traffic violation data\n",
        "file_url = 'https://drive.google.com/u/0/uc?id=106pwbYv84gCtLhhcbi0B_4qyUQxfH2n3&export=download&confirm=t&uuid=3967f839-2af2-437b-8f60-bb84c592767d&at=AKKF8vxhyEJdMfwlL_zzAfR9M7ZO:1688605862920'\n",
        "file_destination = '/content/data/infracoes_2023.zip'\n",
        "\n",
        "download_and_extract_file(file_url, file_destination)"
      ],
      "metadata": {
        "colab": {
          "base_uri": "https://localhost:8080/"
        },
        "id": "Irq0oTp4u099",
        "outputId": "97c4a84d-6b7c-43f7-9cac-87a5f5a954d8"
      },
      "execution_count": 10,
      "outputs": [
        {
          "output_type": "stream",
          "name": "stdout",
          "text": [
            "File downloaded successfully.\n",
            "File extracted successfully.\n",
            ".zip file deleted.\n"
          ]
        }
      ]
    },
    {
      "cell_type": "markdown",
      "source": [
        "Appeding each file content on a conselidated dataframe"
      ],
      "metadata": {
        "id": "mxg2llGEFZ8l"
      }
    },
    {
      "cell_type": "code",
      "source": [
        "from pyspark.sql import SparkSession\n",
        "import os\n",
        "\n",
        "def create_dataframe_with_file_content(directory_path):\n",
        "    # List the files in the directory\n",
        "    files = os.listdir(directory_path)\n",
        "\n",
        "    # Create an empty list to store the DataFrames\n",
        "    dataframes = []\n",
        "    print(\"Processing files:\")\n",
        "    # Loop to consolidate the files\n",
        "    for counter, file_name in enumerate(files):\n",
        "        print(counter, file_name)\n",
        "\n",
        "        # Read the file into a DataFrame\n",
        "        file_path = os.path.join(directory_path, file_name)\n",
        "        base_data = spark.read.format(\"csv\").option(\"header\", \"true\").option(\"sep\", \";\").option(\"encoding\", \"latin1\").load(file_path)\n",
        "\n",
        "        # Append the DataFrame to the list\n",
        "        dataframes.append(base_data)\n",
        "\n",
        "    # Union all the DataFrames in the list\n",
        "    consolidated_data = dataframes[0]\n",
        "    for i in range(1, len(dataframes)):\n",
        "        consolidated_data = consolidated_data.union(dataframes[i])\n",
        "\n",
        "    # Get the shape of the consolidated DataFrame\n",
        "    print(\"Files content were consolidated.\")\n",
        "    print((consolidated_data.count(), len(consolidated_data.columns)))\n",
        "    print(\"\")\n",
        "    return consolidated_data"
      ],
      "metadata": {
        "id": "yXcc3S1JDgd3"
      },
      "execution_count": 11,
      "outputs": []
    },
    {
      "cell_type": "code",
      "source": [
        "# Create a SparkSession\n",
        "spark = SparkSession.builder\\\n",
        "        .master('local')\\\n",
        "        .appName('TVextraction')\\\n",
        "        .getOrCreate()\n",
        "\n",
        "# Creating Traffic violation 2022 dataframe\n",
        "TV22 = create_dataframe_with_file_content('/content/data/ajustados_2022')"
      ],
      "metadata": {
        "colab": {
          "base_uri": "https://localhost:8080/"
        },
        "id": "8TNcv5Kf5r9i",
        "outputId": "a0477eca-2f9f-4dce-a39c-929f47033e05"
      },
      "execution_count": 12,
      "outputs": [
        {
          "output_type": "stream",
          "name": "stdout",
          "text": [
            "Processing files:\n",
            "0 infraçoes2022_11.csv\n",
            "1 infraçoes2022_03.csv\n",
            "2 infraçoes2022_02.csv\n",
            "3 infraçoes2022_12.csv\n",
            "4 infraçoes2022_07.csv\n",
            "5 infraçoes2022_01.csv\n",
            "6 infraçoes2022_05.csv\n",
            "7 infraçoes2022_08.csv\n",
            "8 infraçoes2022_09.csv\n",
            "9 infraçoes2022_06.csv\n",
            "10 infraçoes2022_04.csv\n",
            "11 infraçoes2022_10.csv\n",
            "Files content were consolidated.\n",
            "(4135523, 25)\n",
            "\n"
          ]
        }
      ]
    },
    {
      "cell_type": "code",
      "source": [
        "# Checking columns types\n",
        "TV22.printSchema()"
      ],
      "metadata": {
        "colab": {
          "base_uri": "https://localhost:8080/"
        },
        "id": "lEA58rPW2jOq",
        "outputId": "789e0983-dab2-4b95-83ff-eaa0e87040e4"
      },
      "execution_count": 13,
      "outputs": [
        {
          "output_type": "stream",
          "name": "stdout",
          "text": [
            "root\n",
            " |-- Número do Auto: string (nullable = true)\n",
            " |-- Data da Infração (DD/MM/AAAA): string (nullable = true)\n",
            " |-- Indicador de Abordagem: string (nullable = true)\n",
            " |-- Assinatura do Auto: string (nullable = true)\n",
            " |-- Sentido Trafego: string (nullable = true)\n",
            " |-- UF Infração: string (nullable = true)\n",
            " |-- BR Infração: string (nullable = true)\n",
            " |-- Km Infração: string (nullable = true)\n",
            " |-- Município: string (nullable = true)\n",
            " |-- Indicador Veiculo Estrangeiro: string (nullable = true)\n",
            " |-- UF Placa: string (nullable = true)\n",
            " |-- Descrição Especie Veículo: string (nullable = true)\n",
            " |-- Descrição Marca Veículo: string (nullable = true)\n",
            " |-- Descrição Tipo Veículo: string (nullable = true)\n",
            " |-- Descrição Modelo Veiculo: string (nullable = true)\n",
            " |-- Código da Infração: string (nullable = true)\n",
            " |-- Descrição Abreviada Infração: string (nullable = true)\n",
            " |-- Enquadramento da Infração: string (nullable = true)\n",
            " |-- Início Vigência da Infração: string (nullable = true)\n",
            " |-- Fim Vigência Infração: string (nullable = true)\n",
            " |-- Medição Infração: string (nullable = true)\n",
            " |-- Hora Infração: string (nullable = true)\n",
            " |-- Medição Considerada: string (nullable = true)\n",
            " |-- Excesso Verificado: string (nullable = true)\n",
            " |-- Qtd Infrações: string (nullable = true)\n",
            "\n"
          ]
        }
      ]
    },
    {
      "cell_type": "code",
      "source": [
        "TV22.show(10)"
      ],
      "metadata": {
        "colab": {
          "base_uri": "https://localhost:8080/"
        },
        "id": "I9m4Ioz8EEOR",
        "outputId": "8c16f5f0-6633-46ec-fec8-9b5653088759"
      },
      "execution_count": 14,
      "outputs": [
        {
          "output_type": "stream",
          "name": "stdout",
          "text": [
            "+---------------+-----------------------------+----------------------+------------------+---------------+-----------+-----------+-----------+--------------+-----------------------------+--------+-------------------------+-----------------------+----------------------+------------------------+------------------+----------------------------+-------------------------+---------------------------+---------------------+----------------+-------------+-------------------+------------------+-------------+\n",
            "| Número do Auto|Data da Infração (DD/MM/AAAA)|Indicador de Abordagem|Assinatura do Auto|Sentido Trafego|UF Infração|BR Infração|Km Infração|     Município|Indicador Veiculo Estrangeiro|UF Placa|Descrição Especie Veículo|Descrição Marca Veículo|Descrição Tipo Veículo|Descrição Modelo Veiculo|Código da Infração|Descrição Abreviada Infração|Enquadramento da Infração|Início Vigência da Infração|Fim Vigência Infração|Medição Infração|Hora Infração|Medição Considerada|Excesso Verificado|Qtd Infrações|\n",
            "+---------------+-----------------------------+----------------------+------------------+---------------+-----------+-----------+-----------+--------------+-----------------------------+--------+-------------------------+-----------------------+----------------------+------------------------+------------------+----------------------------+-------------------------+---------------------------+---------------------+----------------+-------------+-------------------+------------------+-------------+\n",
            "|417bd7baa9bc69c|                   2022-11-18|                     C|                 N|              D|         RJ|        101|        473|ANGRA DOS REIS|                            N|      SP|               PASSAGEIRO|         FIAT/MOBI LIKE|             AUTOMOVEL|          FIAT/MOBI LIKE|             61731|        Deixar de dar pre...|                  215 I a|                 2016-11-01|                   NA|         Nenhuma|           19|                  0|                 0|            1|\n",
            "|323224d85634a12|                   2022-11-07|                     S|                 N|              C|         MG|        040|        471|   SETE LAGOAS|                            N|      SP|                    CARGA|      VW/24.280 CRM 6X2|              CAMINHAO|           24280 CRM 6X2|             58350|        Desobedecer às or...|                      195|                 2016-11-01|                   NA|         Nenhuma|           10|                  0|                 0|            1|\n",
            "|2538920957320bc|                   2022-11-07|                     S|                 N|              C|         MG|        040|        471|   SETE LAGOAS|                            N|      MG|                   TRACAO|      VOLVO/FH 440 6X4T|       CAMINHAO TRATOR|             FH 440 6X4T|             58350|        Desobedecer às or...|                      195|                 2016-11-01|                   NA|         Nenhuma|           10|                  0|                 0|            1|\n",
            "|69d97290f5acee2|                   2022-11-04|                     S|                 N|              C|         MG|        040|        471|   SETE LAGOAS|                            N|      MG|                    CARGA|          M.BENZ/L 1620|              CAMINHAO|                  L 1620|             58350|        Desobedecer às or...|                      195|                 2016-11-01|                   NA|         Nenhuma|           10|                  0|                 0|            1|\n",
            "|903f82369261633|                   2022-11-23|                     C|                 N|              D|         MG|        050|        176|       UBERABA|                            N|      SP|               PASSAGEIRO|   FIAT/PALIO WK ADV...|             AUTOMOVEL|           Não Informado|             76173|        Usar qq veiculo p...|                    253-A|                 2016-11-01|                   NA|         Nenhuma|           13|                  0|                 0|            1|\n",
            "|06ba4d68f5ff3a4|                   2022-11-23|                     C|                 N|              C|         MG|        364|         27|        FRUTAL|                            N|      MG|               PASSAGEIRO|   FIAT/PALIO FIRE FLEX|             AUTOMOVEL|           Não Informado|             76173|        Usar qq veiculo p...|                    253-A|                 2016-11-01|                   NA|         Nenhuma|           17|                  0|                 0|            1|\n",
            "|40f59604b2191c4|                   2022-11-23|                     S|                 N|              D|         MG|        050|        176|       UBERABA|                            N|      MG|               PASSAGEIRO|     HONDA/BIZ 125 MAIS|              MOTONETA|                 BIZ 125|             76173|        Usar qq veiculo p...|                    253-A|                 2016-11-01|                   NA|         Nenhuma|           13|                  0|                 0|            1|\n",
            "|f187adce12e4b86|                   2022-11-23|                     S|                 N|              C|         MG|        364|         27|        FRUTAL|                            N|      MG|                    CARGA|   VW/SAVEIRO 1.6 CE...|           CAMINHONETE|              SAVEIRO CE|             76173|        Usar qq veiculo p...|                    253-A|                 2016-11-01|                   NA|         Nenhuma|           17|                  0|                 0|            1|\n",
            "|4cbf450dae86540|                   2022-11-23|                     S|                 N|              D|         MG|        050|        176|       UBERABA|                            N|      MG|               PASSAGEIRO|   I/FIAT CRONOS DRI...|             AUTOMOVEL|                  CRONOS|             76173|        Usar qq veiculo p...|                    253-A|                 2016-11-01|                   NA|         Nenhuma|           13|                  0|                 0|            1|\n",
            "|ee15daa77033c19|                   2022-11-23|                     S|                 N|              D|         MG|        050|        176|       UBERABA|                            N|      MG|               PASSAGEIRO|     HONDA/CIVIC EX CVT|             AUTOMOVEL|                CIVIC EX|             76173|        Usar qq veiculo p...|                    253-A|                 2016-11-01|                   NA|         Nenhuma|           13|                  0|                 0|            1|\n",
            "+---------------+-----------------------------+----------------------+------------------+---------------+-----------+-----------+-----------+--------------+-----------------------------+--------+-------------------------+-----------------------+----------------------+------------------------+------------------+----------------------------+-------------------------+---------------------------+---------------------+----------------+-------------+-------------------+------------------+-------------+\n",
            "only showing top 10 rows\n",
            "\n"
          ]
        }
      ]
    },
    {
      "cell_type": "code",
      "source": [
        "# Creating Traffic violation 2022 dataframe\n",
        "TV23 = create_dataframe_with_file_content('/content/data/ajustados_2023')"
      ],
      "metadata": {
        "colab": {
          "base_uri": "https://localhost:8080/"
        },
        "id": "bLIY4feUFz9f",
        "outputId": "c8e73acb-8c68-4896-d6e2-24e5b6ea7248"
      },
      "execution_count": 15,
      "outputs": [
        {
          "output_type": "stream",
          "name": "stdout",
          "text": [
            "Processing files:\n",
            "0 infraçoes2023_05.csv\n",
            "1 infraçoes2023_03.csv\n",
            "2 infraçoes2023_01.csv\n",
            "3 infraçoes2023_04.csv\n",
            "4 infraçoes2023_02.csv\n",
            "Files content were consolidated.\n",
            "(2105730, 25)\n",
            "\n"
          ]
        }
      ]
    },
    {
      "cell_type": "code",
      "source": [
        "TV23.printSchema()"
      ],
      "metadata": {
        "colab": {
          "base_uri": "https://localhost:8080/"
        },
        "id": "eZAHqv92D7O3",
        "outputId": "cb6165c8-fed0-4d7e-fe79-aee1a9110e5d"
      },
      "execution_count": 16,
      "outputs": [
        {
          "output_type": "stream",
          "name": "stdout",
          "text": [
            "root\n",
            " |-- Número do Auto: string (nullable = true)\n",
            " |-- Data da Infração (DD/MM/AAAA): string (nullable = true)\n",
            " |-- Indicador de Abordagem: string (nullable = true)\n",
            " |-- Assinatura do Auto: string (nullable = true)\n",
            " |-- Sentido Trafego: string (nullable = true)\n",
            " |-- UF Infração: string (nullable = true)\n",
            " |-- BR Infração: string (nullable = true)\n",
            " |-- Km Infração: string (nullable = true)\n",
            " |-- Município: string (nullable = true)\n",
            " |-- Indicador Veiculo Estrangeiro: string (nullable = true)\n",
            " |-- UF Placa: string (nullable = true)\n",
            " |-- Descrição Especie Veículo: string (nullable = true)\n",
            " |-- Descrição Marca Veículo: string (nullable = true)\n",
            " |-- Descrição Tipo Veículo: string (nullable = true)\n",
            " |-- Descrição Modelo Veiculo: string (nullable = true)\n",
            " |-- Código da Infração: string (nullable = true)\n",
            " |-- Descrição Abreviada Infração: string (nullable = true)\n",
            " |-- Enquadramento da Infração: string (nullable = true)\n",
            " |-- Início Vigência da Infração: string (nullable = true)\n",
            " |-- Fim Vigência Infração: string (nullable = true)\n",
            " |-- Medição Infração: string (nullable = true)\n",
            " |-- Hora Infração: string (nullable = true)\n",
            " |-- Medição Considerada: string (nullable = true)\n",
            " |-- Excesso Verificado: string (nullable = true)\n",
            " |-- Qtd Infrações: string (nullable = true)\n",
            "\n"
          ]
        }
      ]
    },
    {
      "cell_type": "code",
      "source": [
        "TV23.show(10)"
      ],
      "metadata": {
        "colab": {
          "base_uri": "https://localhost:8080/"
        },
        "id": "_4sD4V2UEOKx",
        "outputId": "169aa418-4db3-4707-923b-4e1812cbb649"
      },
      "execution_count": 17,
      "outputs": [
        {
          "output_type": "stream",
          "name": "stdout",
          "text": [
            "+---------------+-----------------------------+----------------------+------------------+---------------+-----------+-----------+-----------+---------+-----------------------------+--------+-------------------------+-----------------------+----------------------+------------------------+------------------+----------------------------+-------------------------+---------------------------+---------------------+----------------+-------------+-------------------+------------------+-------------+\n",
            "| Número do Auto|Data da Infração (DD/MM/AAAA)|Indicador de Abordagem|Assinatura do Auto|Sentido Trafego|UF Infração|BR Infração|Km Infração|Município|Indicador Veiculo Estrangeiro|UF Placa|Descrição Especie Veículo|Descrição Marca Veículo|Descrição Tipo Veículo|Descrição Modelo Veiculo|Código da Infração|Descrição Abreviada Infração|Enquadramento da Infração|Início Vigência da Infração|Fim Vigência Infração|Medição Infração|Hora Infração|Medição Considerada|Excesso Verificado|Qtd Infrações|\n",
            "+---------------+-----------------------------+----------------------+------------------+---------------+-----------+-----------+-----------+---------+-----------------------------+--------+-------------------------+-----------------------+----------------------+------------------------+------------------+----------------------------+-------------------------+---------------------------+---------------------+----------------+-------------+-------------------+------------------+-------------+\n",
            "|5f07fcd6c7dcce0|                   2023-05-14|                     C|                 N|              D|         BA|        101|        507|  ITABUNA|                            N|      BA|               PASSAGEIRO|         YAMAHA/NEO 125|              MOTONETA|                 NEO 125|             65991|        Conduzir o veícul...|                  230 * V|                 2016-11-01|                   NA|         Nenhuma|           15|                  0|                 0|            1|\n",
            "|ebe0991d078414b|                   2023-05-20|                     C|                 S|              D|         SC|        153|         92|CONCORDIA|                            N|      BA|                    CARGA|   SR/LIBRELATO SRCA 4E|          SEMI-REBOQUE|              SR/SRCA 4E|             65992|        Conduzir o veícul...|                  230 * V|                 2016-11-01|                   NA|         Nenhuma|            9|                  0|                 0|            1|\n",
            "|6ea71db7667c912|                   2023-05-30|                     C|                 S|              D|         SP|        153|        345| OURINHOS|                            /|       /|           Não encontrado|         Não encontrado|        Não encontrado|          Não encontrado|             65991|        Conduzir o veícul...|                  230 * V|                 2016-11-01|                   NA|         Nenhuma|           11|                  0|                 0|            1|\n",
            "|257a7a65de0c315|                   2023-05-14|                     C|                 N|              D|         BA|        101|        507|  ITABUNA|                            N|      BA|               PASSAGEIRO|         YAMAHA/NEO 125|              MOTONETA|                 NEO 125|             50371|        Dirigir veículo c...|                  162 III|                 2016-11-01|                   NA|         Nenhuma|           15|                  0|                 0|            1|\n",
            "|d829c2fc5833aef|                   2023-05-14|                     C|                 N|              D|         BA|        101|        507|  ITABUNA|                            N|      BA|               PASSAGEIRO|         YAMAHA/NEO 125|              MOTONETA|                 NEO 125|             51341|        Permitir posse/co...|          164 c/c 162 III|                 2016-11-01|                   NA|         Nenhuma|           15|                  0|                 0|            1|\n",
            "|8d58f1b47e07771|                   2023-05-10|                     C|                 N|              C|         MT|        163|        733|  SORRISO|                            N|     '-1|               PASSAGEIRO|       HONDA/CG 160 FAN|           MOTOCICLETA|              CG 160 FAN|             50100|        Dirigir veículo s...|                    162 I|                 2016-11-01|                   NA|         Nenhuma|           21|                  0|                 0|            1|\n",
            "|38f8cfbd2072f01|                   2023-05-10|                     C|                 N|              C|         MT|        163|        733|  SORRISO|                            N|     '-1|               PASSAGEIRO|       HONDA/CG 160 FAN|           MOTOCICLETA|              CB 160 FAN|             65991|        Conduzir o veícul...|                  230 * V|                 2016-11-01|                   NA|         Nenhuma|           21|                  0|                 0|            1|\n",
            "|461db6ce47baf05|                   2023-05-10|                     C|                 N|              C|         MT|        163|        733|  SORRISO|                            N|     '-1|               PASSAGEIRO|       HONDA/CG 160 FAN|           MOTOCICLETA|              CG 160 FAN|             66450|        Conduzir o veícul...|                    230 X|                 2016-11-01|                   NA|         Nenhuma|           21|                  0|                 0|            1|\n",
            "|4f0aaaf52a7562d|                   2023-05-10|                     C|                 N|              D|         MS|        163|        728|    COXIM|                            N|      MS|                    CARGA|   FIAT/STRADA WORKI...|           CAMINHONETE|           Não Informado|             66610|        Conduzir o veícul...|                  230 XII|                 2016-11-01|                   NA|         Nenhuma|           16|                  0|                 0|            1|\n",
            "|c7317c3dc8ce91f|                   2023-05-10|                     C|                 N|              D|         MS|        163|        728|    COXIM|                            N|      MS|                    CARGA|   FIAT/STRADA WORKI...|           CAMINHONETE|           Não Informado|             65800|        Conduzir o veícul...|                   230 IV|                 2016-11-01|                   NA|         Nenhuma|           16|                  0|                 0|            1|\n",
            "+---------------+-----------------------------+----------------------+------------------+---------------+-----------+-----------+-----------+---------+-----------------------------+--------+-------------------------+-----------------------+----------------------+------------------------+------------------+----------------------------+-------------------------+---------------------------+---------------------+----------------+-------------+-------------------+------------------+-------------+\n",
            "only showing top 10 rows\n",
            "\n"
          ]
        }
      ]
    },
    {
      "cell_type": "markdown",
      "source": [
        "Saving dataframe as parquet"
      ],
      "metadata": {
        "id": "xOEQH0ZxFFX5"
      }
    },
    {
      "cell_type": "code",
      "source": [
        "from pyspark.sql.functions import col\n",
        "\n",
        "def df_to_parquet(consolidated_data, file_path):\n",
        "  # Convert columns to string type\n",
        "  for col_name in consolidated_data.columns:\n",
        "      # Remove invalid characters from the column name\n",
        "      new_col_name = col_name.replace(\" \", \"_\").replace(\",\", \"\").replace(\";\", \"\").replace(\"{\", \"\").replace(\"}\", \"\").replace(\"(\", \"\").replace(\")\", \"\").replace(\"\\n\", \"\").replace(\"\\t\", \"\").replace(\"=\", \"\")\n",
        "      # Rename the column\n",
        "      consolidated_data = consolidated_data.withColumnRenamed(col_name, new_col_name).withColumn(new_col_name, col(new_col_name).cast(\"string\"))\n",
        "\n",
        "  consolidated_data.write.parquet(file_path, compression=\"gzip\")\n",
        "  print(\"Parquet file was created and saved on \" + file_path)"
      ],
      "metadata": {
        "id": "vS2ANf0PFFG1"
      },
      "execution_count": 18,
      "outputs": []
    },
    {
      "cell_type": "code",
      "source": [
        "# Save the TV23 dataFrame as a Parquet file\n",
        "df_to_parquet(TV22,\"/content/traffic_violations_2022.parquet\")"
      ],
      "metadata": {
        "colab": {
          "base_uri": "https://localhost:8080/"
        },
        "id": "FflfRAGpG9iz",
        "outputId": "7999d16a-17bb-4a5b-aef5-6f9e9a88002c"
      },
      "execution_count": 19,
      "outputs": [
        {
          "output_type": "stream",
          "name": "stdout",
          "text": [
            "Parquet file was created and saved on /content/traffic_violations_2022.parquet\n"
          ]
        }
      ]
    },
    {
      "cell_type": "code",
      "source": [
        "# Save the TV23 dataFrame as a Parquet file\n",
        "df_to_parquet(TV23,\"/content/traffic_violations_2023.parquet\")"
      ],
      "metadata": {
        "colab": {
          "base_uri": "https://localhost:8080/"
        },
        "id": "TBJn9PCxF-uk",
        "outputId": "ce788e18-c4cd-4e6e-cec8-33cadbb66b3b"
      },
      "execution_count": 20,
      "outputs": [
        {
          "output_type": "stream",
          "name": "stdout",
          "text": [
            "Parquet file was created and saved on /content/traffic_violations_2023.parquet\n"
          ]
        }
      ]
    },
    {
      "cell_type": "code",
      "source": [
        "# Close the SparkSession of Extraction\n",
        "# I don't want to use the same spark context on the next steps\n",
        "spark.stop()"
      ],
      "metadata": {
        "id": "QWOB0fcXL2-K"
      },
      "execution_count": 21,
      "outputs": []
    },
    {
      "cell_type": "markdown",
      "source": [
        "End of the extraction and load section"
      ],
      "metadata": {
        "id": "VyRIm1V8Zp7s"
      }
    },
    {
      "cell_type": "markdown",
      "source": [
        "Exploratory Data Analysis"
      ],
      "metadata": {
        "id": "fip69Re7NCGh"
      }
    },
    {
      "cell_type": "markdown",
      "source": [
        "Import parquet files"
      ],
      "metadata": {
        "id": "_sOpdjKPZwby"
      }
    },
    {
      "cell_type": "code",
      "source": [
        "# Import Traffic violation parquet files as a spark dataframe\n",
        "\n",
        "# Create a SparkSession\n",
        "spark = SparkSession.builder\\\n",
        "        .master('local')\\\n",
        "        .appName('TVanalysis')\\\n",
        "        .getOrCreate()\n",
        "\n",
        "# Read 2022 traffic violations\n",
        "TV22 = spark.read.parquet(\"/content/traffic_violations_2022.parquet\")\n",
        "# TV22 Shape\n",
        "print(\"2022 Traffic violations Dataframe shape:\")\n",
        "print((TV22.count(), len(TV22.columns)))"
      ],
      "metadata": {
        "colab": {
          "base_uri": "https://localhost:8080/"
        },
        "id": "GdIRWaYCYbhV",
        "outputId": "b33efa70-8f18-4c05-8b8d-cab9fa3b3f60"
      },
      "execution_count": 22,
      "outputs": [
        {
          "output_type": "stream",
          "name": "stdout",
          "text": [
            "2022 Traffic violations Dataframe shape:\n",
            "(4135523, 25)\n"
          ]
        }
      ]
    },
    {
      "cell_type": "code",
      "source": [
        "# Read 2023 traffic violations\n",
        "TV23 = spark.read.parquet(\"/content/traffic_violations_2023.parquet\")\n",
        "#TV23 Shape\n",
        "print(\"2023 Traffic violations Dataframe shape:\")\n",
        "print((TV23.count(), len(TV23.columns)))"
      ],
      "metadata": {
        "colab": {
          "base_uri": "https://localhost:8080/"
        },
        "id": "96crArfmZUkQ",
        "outputId": "33d92f4e-90f3-43df-baa0-cea8d669e4d9"
      },
      "execution_count": 23,
      "outputs": [
        {
          "output_type": "stream",
          "name": "stdout",
          "text": [
            "2023 Traffic violations Dataframe shape:\n",
            "(2105730, 25)\n"
          ]
        }
      ]
    },
    {
      "cell_type": "code",
      "source": [
        "print(\"Dataframe type:\")\n",
        "type(TV22)"
      ],
      "metadata": {
        "colab": {
          "base_uri": "https://localhost:8080/"
        },
        "id": "Nx_XiiP1aapz",
        "outputId": "67371b52-06d0-49a8-be77-c8e27deee2fe"
      },
      "execution_count": 24,
      "outputs": [
        {
          "output_type": "stream",
          "name": "stdout",
          "text": [
            "Dataframe type:\n"
          ]
        },
        {
          "output_type": "execute_result",
          "data": {
            "text/plain": [
              "pyspark.sql.dataframe.DataFrame"
            ]
          },
          "metadata": {},
          "execution_count": 24
        }
      ]
    },
    {
      "cell_type": "code",
      "source": [
        "# Define a translation dictionary for column translations\n",
        "translation_dict = {\n",
        "    \"Número_do_Auto\": \"Auto_Number\",\n",
        "    \"Data_da_Infração_DD/MM/AAAA\": \"Date_of_Violation_DD/MM/YYYY\",\n",
        "    \"Indicador_de_Abordagem\": \"Approach_Indicator\",\n",
        "    \"Assinatura_do_Auto\": \"Auto_Signature\",\n",
        "    \"Sentido_Trafego\": \"Traffic_Direction\",\n",
        "    \"UF_Infração\": \"Infraction_State\",\n",
        "    \"BR_Infração\": \"Infraction_BR\",\n",
        "    \"Km_Infração\": \"Infraction_Km\",\n",
        "    \"Município\": \"City\",\n",
        "    \"Indicador_Veiculo_Estrangeiro\": \"Foreign_Vehicle_Indicator\",\n",
        "    \"UF_Placa\": \"License_Plate_State\",\n",
        "    \"Descrição_Especie_Veículo\": \"Vehicle_Species_Description\",\n",
        "    \"Descrição_Marca_Veículo\": \"Vehicle_Brand_Description\",\n",
        "    \"Descrição_Tipo_Veículo\": \"Vehicle_Type_Description\",\n",
        "    \"Descrição_Modelo_Veiculo\": \"Vehicle_Model_Description\",\n",
        "    \"Código_da_Infração\": \"Infraction_Code\",\n",
        "    \"Descrição_Abreviada_Infração\": \"Abbreviated_Infraction_Description\",\n",
        "    \"Enquadramento_da_Infração\": \"Infraction_Framing\",\n",
        "    \"Início_Vigência_da_Infração\": \"Infraction_Start_Vigency\",\n",
        "    \"Fim_Vigência_Infração\": \"Infraction_End_Vigency\",\n",
        "    \"Medição_Infração\": \"Infraction_Measurement\",\n",
        "    \"Hora_Infração\": \"Infraction_Time\",\n",
        "    \"Medição_Considerada\": \"Considered_Measurement\",\n",
        "    \"Excesso_Verificado\": \"Verified_Excess\",\n",
        "    \"Qtd_Infrações\": \"Infraction_Quantity\"\n",
        "}\n",
        "\n",
        "# Translate the column names\n",
        "TV22 = TV22.select(\n",
        "    *[col(c).alias(translation_dict.get(c, c)) for c in TV22.columns]\n",
        ")"
      ],
      "metadata": {
        "id": "8luYQ3A2qnJ4"
      },
      "execution_count": 96,
      "outputs": []
    },
    {
      "cell_type": "code",
      "source": [
        "print(\"2022 Traffic violations Dataframe schema:\")\n",
        "TV22.printSchema()"
      ],
      "metadata": {
        "colab": {
          "base_uri": "https://localhost:8080/"
        },
        "id": "oJLIpkn0aFzh",
        "outputId": "6b9a583f-a83a-4570-ecf9-3abddc0c948d"
      },
      "execution_count": 31,
      "outputs": [
        {
          "output_type": "stream",
          "name": "stdout",
          "text": [
            "2022 Traffic violations Dataframe schema:\n",
            "root\n",
            " |-- Auto_Number: string (nullable = true)\n",
            " |-- Date_of_Violation_DD/MM/YYYY: date (nullable = true)\n",
            " |-- Approach_Indicator: string (nullable = true)\n",
            " |-- Auto_Signature: string (nullable = true)\n",
            " |-- Traffic_Direction: string (nullable = true)\n",
            " |-- Infraction_State: string (nullable = true)\n",
            " |-- Infraction_BR: string (nullable = true)\n",
            " |-- Infraction_Km: string (nullable = true)\n",
            " |-- City: string (nullable = true)\n",
            " |-- Foreign_Vehicle_Indicator: string (nullable = true)\n",
            " |-- License_Plate_State: string (nullable = true)\n",
            " |-- Vehicle_Species_Description: string (nullable = true)\n",
            " |-- Vehicle_Brand_Description: string (nullable = true)\n",
            " |-- Vehicle_Type_Description: string (nullable = true)\n",
            " |-- Vehicle_Model_Description: string (nullable = true)\n",
            " |-- Infraction_Code: string (nullable = true)\n",
            " |-- Abbreviated_Infraction_Description: string (nullable = true)\n",
            " |-- Infraction_Framing: string (nullable = true)\n",
            " |-- Infraction_Start_Vigency: string (nullable = true)\n",
            " |-- Infraction_End_Vigency: string (nullable = true)\n",
            " |-- Infraction_Measurement: string (nullable = true)\n",
            " |-- Infraction_Time: string (nullable = true)\n",
            " |-- Considered_Measurement: string (nullable = true)\n",
            " |-- Verified_Excess: string (nullable = true)\n",
            " |-- Infraction_Quantity: string (nullable = true)\n",
            "\n"
          ]
        }
      ]
    },
    {
      "cell_type": "code",
      "source": [
        "from pyspark.sql.functions import col, sum as spark_sum\n",
        "# Count the number of null values in each column\n",
        "null_counts = TV22.select([spark_sum(col(c).isNull().cast(\"integer\")).alias(c) for c in TV22.columns])\n",
        "# Display the null counts\n",
        "print(\"Count the number of null values in each column:\")\n",
        "null_counts.show()"
      ],
      "metadata": {
        "colab": {
          "base_uri": "https://localhost:8080/"
        },
        "id": "3JLAS1Kya5Wt",
        "outputId": "46713bac-17b9-4f39-a7c7-6583724bd3f5"
      },
      "execution_count": 32,
      "outputs": [
        {
          "output_type": "stream",
          "name": "stdout",
          "text": [
            "Count the number of null values in each column:\n",
            "+-----------+----------------------------+------------------+--------------+-----------------+----------------+-------------+-------------+----+-------------------------+-------------------+---------------------------+-------------------------+------------------------+-------------------------+---------------+----------------------------------+------------------+------------------------+----------------------+----------------------+---------------+----------------------+---------------+-------------------+\n",
            "|Auto_Number|Date_of_Violation_DD/MM/YYYY|Approach_Indicator|Auto_Signature|Traffic_Direction|Infraction_State|Infraction_BR|Infraction_Km|City|Foreign_Vehicle_Indicator|License_Plate_State|Vehicle_Species_Description|Vehicle_Brand_Description|Vehicle_Type_Description|Vehicle_Model_Description|Infraction_Code|Abbreviated_Infraction_Description|Infraction_Framing|Infraction_Start_Vigency|Infraction_End_Vigency|Infraction_Measurement|Infraction_Time|Considered_Measurement|Verified_Excess|Infraction_Quantity|\n",
            "+-----------+----------------------------+------------------+--------------+-----------------+----------------+-------------+-------------+----+-------------------------+-------------------+---------------------------+-------------------------+------------------------+-------------------------+---------------+----------------------------------+------------------+------------------------+----------------------+----------------------+---------------+----------------------+---------------+-------------------+\n",
            "|          0|                           0|                 0|             0|                0|               0|            0|            0|   0|                        0|                  0|                          0|                        0|                       0|                        0|              0|                                 0|                 0|                       0|                     0|                     0|              0|                     0|              1|                  1|\n",
            "+-----------+----------------------------+------------------+--------------+-----------------+----------------+-------------+-------------+----+-------------------------+-------------------+---------------------------+-------------------------+------------------------+-------------------------+---------------+----------------------------------+------------------+------------------------+----------------------+----------------------+---------------+----------------------+---------------+-------------------+\n",
            "\n"
          ]
        }
      ]
    },
    {
      "cell_type": "code",
      "source": [
        "from pyspark.sql.functions import countDistinct\n",
        "# Calculate the number of unique values in each column\n",
        "nunique_counts = TV22.agg(*[countDistinct(col_name).alias(col_name) for col_name in TV22.columns])\n",
        "# Display the number of unique values\n",
        "print(\"Calculate the number of unique values in each column:\")\n",
        "nunique_counts.show()"
      ],
      "metadata": {
        "colab": {
          "base_uri": "https://localhost:8080/"
        },
        "id": "44XeiBYOb2PN",
        "outputId": "a7d6b6ec-03c2-4b04-99a6-62a99da11edd"
      },
      "execution_count": 33,
      "outputs": [
        {
          "output_type": "stream",
          "name": "stdout",
          "text": [
            "Calculate the number of unique values in each column:\n",
            "+-----------+----------------------------+------------------+--------------+-----------------+----------------+-------------+-------------+----+-------------------------+-------------------+---------------------------+-------------------------+------------------------+-------------------------+---------------+----------------------------------+------------------+------------------------+----------------------+----------------------+---------------+----------------------+---------------+-------------------+\n",
            "|Auto_Number|Date_of_Violation_DD/MM/YYYY|Approach_Indicator|Auto_Signature|Traffic_Direction|Infraction_State|Infraction_BR|Infraction_Km|City|Foreign_Vehicle_Indicator|License_Plate_State|Vehicle_Species_Description|Vehicle_Brand_Description|Vehicle_Type_Description|Vehicle_Model_Description|Infraction_Code|Abbreviated_Infraction_Description|Infraction_Framing|Infraction_Start_Vigency|Infraction_End_Vigency|Infraction_Measurement|Infraction_Time|Considered_Measurement|Verified_Excess|Infraction_Quantity|\n",
            "+-----------+----------------------------+------------------+--------------+-----------------+----------------+-------------+-------------+----+-------------------------+-------------------+---------------------------+-------------------------+------------------------+-------------------------+---------------+----------------------------------+------------------+------------------------+----------------------+----------------------+---------------+----------------------+---------------+-------------------+\n",
            "|    4135523|                         365|                 2|             2|                2|              27|          127|         1223|2078|                        3|                 90|                         14|                    13173|                      24|                    25719|            379|                               379|               240|                       9|                     2|                     6|             24|                 11978|           8518|                  1|\n",
            "+-----------+----------------------------+------------------+--------------+-----------------+----------------+-------------+-------------+----+-------------------------+-------------------+---------------------------+-------------------------+------------------------+-------------------------+---------------+----------------------------------+------------------+------------------------+----------------------+----------------------+---------------+----------------------+---------------+-------------------+\n",
            "\n"
          ]
        }
      ]
    },
    {
      "cell_type": "code",
      "source": [
        "# Get the total number of rows\n",
        "total_multa = int(TV22.count())\n",
        "# Print the total number of multas\n",
        "print(f'Total of 2022 Traffic Violations: {total_multa}')"
      ],
      "metadata": {
        "colab": {
          "base_uri": "https://localhost:8080/"
        },
        "id": "f_FKSLLneyH8",
        "outputId": "a3941856-f379-4d85-c722-d9696f1f0c26"
      },
      "execution_count": 34,
      "outputs": [
        {
          "output_type": "stream",
          "name": "stdout",
          "text": [
            "Total of 2022 Traffic Violations: 4135523\n"
          ]
        }
      ]
    },
    {
      "cell_type": "code",
      "source": [
        "from pyspark.sql.functions import col, to_date\n",
        "# Convert the column to date type\n",
        "TV22 = TV22.withColumn('Date_of_Violation_DD/MM/YYYY', to_date(col('Date_of_Violation_DD/MM/YYYY'), 'yyyy-MM-dd'))\n",
        "# Print the updated data type of the column\n",
        "TV22.printSchema()"
      ],
      "metadata": {
        "colab": {
          "base_uri": "https://localhost:8080/"
        },
        "id": "KyfXw0N9gmsb",
        "outputId": "6cf8871b-4411-4a8d-cd48-0754312398e5"
      },
      "execution_count": 35,
      "outputs": [
        {
          "output_type": "stream",
          "name": "stdout",
          "text": [
            "root\n",
            " |-- Auto_Number: string (nullable = true)\n",
            " |-- Date_of_Violation_DD/MM/YYYY: date (nullable = true)\n",
            " |-- Approach_Indicator: string (nullable = true)\n",
            " |-- Auto_Signature: string (nullable = true)\n",
            " |-- Traffic_Direction: string (nullable = true)\n",
            " |-- Infraction_State: string (nullable = true)\n",
            " |-- Infraction_BR: string (nullable = true)\n",
            " |-- Infraction_Km: string (nullable = true)\n",
            " |-- City: string (nullable = true)\n",
            " |-- Foreign_Vehicle_Indicator: string (nullable = true)\n",
            " |-- License_Plate_State: string (nullable = true)\n",
            " |-- Vehicle_Species_Description: string (nullable = true)\n",
            " |-- Vehicle_Brand_Description: string (nullable = true)\n",
            " |-- Vehicle_Type_Description: string (nullable = true)\n",
            " |-- Vehicle_Model_Description: string (nullable = true)\n",
            " |-- Infraction_Code: string (nullable = true)\n",
            " |-- Abbreviated_Infraction_Description: string (nullable = true)\n",
            " |-- Infraction_Framing: string (nullable = true)\n",
            " |-- Infraction_Start_Vigency: string (nullable = true)\n",
            " |-- Infraction_End_Vigency: string (nullable = true)\n",
            " |-- Infraction_Measurement: string (nullable = true)\n",
            " |-- Infraction_Time: string (nullable = true)\n",
            " |-- Considered_Measurement: string (nullable = true)\n",
            " |-- Verified_Excess: string (nullable = true)\n",
            " |-- Infraction_Quantity: string (nullable = true)\n",
            "\n"
          ]
        }
      ]
    },
    {
      "cell_type": "code",
      "source": [
        "from pyspark.sql.functions import expr\n",
        "from pyspark.sql.window import Window\n",
        "\n",
        "# Creating a temporary view called TV22\n",
        "TV22.createOrReplaceTempView(\"TV22\")\n",
        "\n",
        "# Creating a query, to get the contect from the temp view\n",
        "query = \"SELECT\\\n",
        "            `Date_of_Violation_DD/MM/YYYY` AS `Date`, \\\n",
        "            COUNT(*) AS `Violations_Count`, \\\n",
        "            MONTH(`Date_of_Violation_DD/MM/YYYY`) AS `Month`, \\\n",
        "            DAY(`Date_of_Violation_DD/MM/YYYY`) AS `Day`\\\n",
        "        FROM \\\n",
        "            TV22 \\\n",
        "        GROUP BY \\\n",
        "            `Date_of_Violation_DD/MM/YYYY` \\\n",
        "        ORDER BY \\\n",
        "            `Date_of_Violation_DD/MM/YYYY`\"\n",
        "\n",
        "# run the query and storying in another variable called flights10\n",
        "violations_per_day = spark.sql(query)\n",
        "\n",
        "# Get the moving avarage\n",
        "window_spec = Window.orderBy(\"Date\").rowsBetween(-6, 0)\n",
        "violations_per_day = violations_per_day.withColumn(\"moving_avarage\", expr(\"avg(Violations_Count)\").over(window_spec))\n",
        "\n",
        "# see result\n",
        "violations_per_day.show(10)"
      ],
      "metadata": {
        "colab": {
          "base_uri": "https://localhost:8080/"
        },
        "id": "oV1uzaKpp1xL",
        "outputId": "39208a35-7dd3-4be0-b100-1f6b7811bfe1"
      },
      "execution_count": 36,
      "outputs": [
        {
          "output_type": "stream",
          "name": "stdout",
          "text": [
            "+----------+----------------+-----+---+------------------+\n",
            "|      Date|Violations_Count|Month|Day|    moving_avarage|\n",
            "+----------+----------------+-----+---+------------------+\n",
            "|2022-01-01|            8533|    1|  1|            8533.0|\n",
            "|2022-01-02|           13146|    1|  2|           10839.5|\n",
            "|2022-01-03|           12012|    1|  3|11230.333333333334|\n",
            "|2022-01-04|           11248|    1|  4|          11234.75|\n",
            "|2022-01-05|           11159|    1|  5|           11219.6|\n",
            "|2022-01-06|           10167|    1|  6|11044.166666666666|\n",
            "|2022-01-07|           11150|    1|  7|11059.285714285714|\n",
            "|2022-01-08|            8321|    1|  8|           11029.0|\n",
            "|2022-01-09|            8788|    1|  9| 10406.42857142857|\n",
            "|2022-01-10|            8520|    1| 10|  9907.57142857143|\n",
            "+----------+----------------+-----+---+------------------+\n",
            "only showing top 10 rows\n",
            "\n"
          ]
        }
      ]
    },
    {
      "cell_type": "code",
      "source": [
        "violations_per_day.printSchema()"
      ],
      "metadata": {
        "colab": {
          "base_uri": "https://localhost:8080/"
        },
        "id": "jr2-gJlHuMoU",
        "outputId": "21bda4b7-8271-4c36-8d04-aab7ed524ee4"
      },
      "execution_count": 37,
      "outputs": [
        {
          "output_type": "stream",
          "name": "stdout",
          "text": [
            "root\n",
            " |-- Date: date (nullable = true)\n",
            " |-- Violations_Count: long (nullable = false)\n",
            " |-- Month: integer (nullable = true)\n",
            " |-- Day: integer (nullable = true)\n",
            " |-- moving_avarage: double (nullable = true)\n",
            "\n"
          ]
        }
      ]
    },
    {
      "cell_type": "code",
      "source": [
        "import plotly.express as px\n",
        "import plotly.graph_objects as go\n",
        "from plotly.subplots import make_subplots"
      ],
      "metadata": {
        "id": "QUDq2E_CX0hH"
      },
      "execution_count": 38,
      "outputs": []
    },
    {
      "cell_type": "code",
      "source": [
        "!pip install plotly"
      ],
      "metadata": {
        "colab": {
          "base_uri": "https://localhost:8080/"
        },
        "id": "Fc_uSoXpX0p3",
        "outputId": "fb54b26c-1622-4a6e-8205-fe3d9dfd8a15"
      },
      "execution_count": 39,
      "outputs": [
        {
          "output_type": "stream",
          "name": "stdout",
          "text": [
            "Requirement already satisfied: plotly in /usr/local/lib/python3.10/dist-packages (5.13.1)\n",
            "Requirement already satisfied: tenacity>=6.2.0 in /usr/local/lib/python3.10/dist-packages (from plotly) (8.2.2)\n"
          ]
        }
      ]
    },
    {
      "cell_type": "code",
      "source": [
        "# Import pandas lib\n",
        "import pandas as pd\n",
        "\n",
        "# Converting Spark Dataframe to Pandas Dataframe\n",
        "df_violations_per_day = violations_per_day.toPandas()"
      ],
      "metadata": {
        "id": "xBeO9K9vvDDM"
      },
      "execution_count": 40,
      "outputs": []
    },
    {
      "cell_type": "code",
      "source": [
        "px.line(\n",
        "    df_violations_per_day,\n",
        "    x='Date',\n",
        "    y='Violations_Count'\n",
        ")"
      ],
      "metadata": {
        "colab": {
          "base_uri": "https://localhost:8080/",
          "height": 542
        },
        "id": "A7vFDNzeuWCB",
        "outputId": "43a12bb6-d1bb-4d8a-8745-6e9f20a9a1ef"
      },
      "execution_count": 41,
      "outputs": [
        {
          "output_type": "display_data",
          "data": {
            "text/html": [
              "<html>\n",
              "<head><meta charset=\"utf-8\" /></head>\n",
              "<body>\n",
              "    <div>            <script src=\"https://cdnjs.cloudflare.com/ajax/libs/mathjax/2.7.5/MathJax.js?config=TeX-AMS-MML_SVG\"></script><script type=\"text/javascript\">if (window.MathJax && window.MathJax.Hub && window.MathJax.Hub.Config) {window.MathJax.Hub.Config({SVG: {font: \"STIX-Web\"}});}</script>                <script type=\"text/javascript\">window.PlotlyConfig = {MathJaxConfig: 'local'};</script>\n",
              "        <script src=\"https://cdn.plot.ly/plotly-2.18.2.min.js\"></script>                <div id=\"cafe22c4-5c28-4c13-95db-fcbdc3b91bd1\" class=\"plotly-graph-div\" style=\"height:525px; width:100%;\"></div>            <script type=\"text/javascript\">                                    window.PLOTLYENV=window.PLOTLYENV || {};                                    if (document.getElementById(\"cafe22c4-5c28-4c13-95db-fcbdc3b91bd1\")) {                    Plotly.newPlot(                        \"cafe22c4-5c28-4c13-95db-fcbdc3b91bd1\",                        [{\"hovertemplate\":\"Date=%{x}<br>Violations_Count=%{y}<extra></extra>\",\"legendgroup\":\"\",\"line\":{\"color\":\"#636efa\",\"dash\":\"solid\"},\"marker\":{\"symbol\":\"circle\"},\"mode\":\"lines\",\"name\":\"\",\"orientation\":\"v\",\"showlegend\":false,\"x\":[\"2022-01-01\",\"2022-01-02\",\"2022-01-03\",\"2022-01-04\",\"2022-01-05\",\"2022-01-06\",\"2022-01-07\",\"2022-01-08\",\"2022-01-09\",\"2022-01-10\",\"2022-01-11\",\"2022-01-12\",\"2022-01-13\",\"2022-01-14\",\"2022-01-15\",\"2022-01-16\",\"2022-01-17\",\"2022-01-18\",\"2022-01-19\",\"2022-01-20\",\"2022-01-21\",\"2022-01-22\",\"2022-01-23\",\"2022-01-24\",\"2022-01-25\",\"2022-01-26\",\"2022-01-27\",\"2022-01-28\",\"2022-01-29\",\"2022-01-30\",\"2022-01-31\",\"2022-02-01\",\"2022-02-02\",\"2022-02-03\",\"2022-02-04\",\"2022-02-05\",\"2022-02-06\",\"2022-02-07\",\"2022-02-08\",\"2022-02-09\",\"2022-02-10\",\"2022-02-11\",\"2022-02-12\",\"2022-02-13\",\"2022-02-14\",\"2022-02-15\",\"2022-02-16\",\"2022-02-17\",\"2022-02-18\",\"2022-02-19\",\"2022-02-20\",\"2022-02-21\",\"2022-02-22\",\"2022-02-23\",\"2022-02-24\",\"2022-02-25\",\"2022-02-26\",\"2022-02-27\",\"2022-02-28\",\"2022-03-01\",\"2022-03-02\",\"2022-03-03\",\"2022-03-04\",\"2022-03-05\",\"2022-03-06\",\"2022-03-07\",\"2022-03-08\",\"2022-03-09\",\"2022-03-10\",\"2022-03-11\",\"2022-03-12\",\"2022-03-13\",\"2022-03-14\",\"2022-03-15\",\"2022-03-16\",\"2022-03-17\",\"2022-03-18\",\"2022-03-19\",\"2022-03-20\",\"2022-03-21\",\"2022-03-22\",\"2022-03-23\",\"2022-03-24\",\"2022-03-25\",\"2022-03-26\",\"2022-03-27\",\"2022-03-28\",\"2022-03-29\",\"2022-03-30\",\"2022-03-31\",\"2022-04-01\",\"2022-04-02\",\"2022-04-03\",\"2022-04-04\",\"2022-04-05\",\"2022-04-06\",\"2022-04-07\",\"2022-04-08\",\"2022-04-09\",\"2022-04-10\",\"2022-04-11\",\"2022-04-12\",\"2022-04-13\",\"2022-04-14\",\"2022-04-15\",\"2022-04-16\",\"2022-04-17\",\"2022-04-18\",\"2022-04-19\",\"2022-04-20\",\"2022-04-21\",\"2022-04-22\",\"2022-04-23\",\"2022-04-24\",\"2022-04-25\",\"2022-04-26\",\"2022-04-27\",\"2022-04-28\",\"2022-04-29\",\"2022-04-30\",\"2022-05-01\",\"2022-05-02\",\"2022-05-03\",\"2022-05-04\",\"2022-05-05\",\"2022-05-06\",\"2022-05-07\",\"2022-05-08\",\"2022-05-09\",\"2022-05-10\",\"2022-05-11\",\"2022-05-12\",\"2022-05-13\",\"2022-05-14\",\"2022-05-15\",\"2022-05-16\",\"2022-05-17\",\"2022-05-18\",\"2022-05-19\",\"2022-05-20\",\"2022-05-21\",\"2022-05-22\",\"2022-05-23\",\"2022-05-24\",\"2022-05-25\",\"2022-05-26\",\"2022-05-27\",\"2022-05-28\",\"2022-05-29\",\"2022-05-30\",\"2022-05-31\",\"2022-06-01\",\"2022-06-02\",\"2022-06-03\",\"2022-06-04\",\"2022-06-05\",\"2022-06-06\",\"2022-06-07\",\"2022-06-08\",\"2022-06-09\",\"2022-06-10\",\"2022-06-11\",\"2022-06-12\",\"2022-06-13\",\"2022-06-14\",\"2022-06-15\",\"2022-06-16\",\"2022-06-17\",\"2022-06-18\",\"2022-06-19\",\"2022-06-20\",\"2022-06-21\",\"2022-06-22\",\"2022-06-23\",\"2022-06-24\",\"2022-06-25\",\"2022-06-26\",\"2022-06-27\",\"2022-06-28\",\"2022-06-29\",\"2022-06-30\",\"2022-07-01\",\"2022-07-02\",\"2022-07-03\",\"2022-07-04\",\"2022-07-05\",\"2022-07-06\",\"2022-07-07\",\"2022-07-08\",\"2022-07-09\",\"2022-07-10\",\"2022-07-11\",\"2022-07-12\",\"2022-07-13\",\"2022-07-14\",\"2022-07-15\",\"2022-07-16\",\"2022-07-17\",\"2022-07-18\",\"2022-07-19\",\"2022-07-20\",\"2022-07-21\",\"2022-07-22\",\"2022-07-23\",\"2022-07-24\",\"2022-07-25\",\"2022-07-26\",\"2022-07-27\",\"2022-07-28\",\"2022-07-29\",\"2022-07-30\",\"2022-07-31\",\"2022-08-01\",\"2022-08-02\",\"2022-08-03\",\"2022-08-04\",\"2022-08-05\",\"2022-08-06\",\"2022-08-07\",\"2022-08-08\",\"2022-08-09\",\"2022-08-10\",\"2022-08-11\",\"2022-08-12\",\"2022-08-13\",\"2022-08-14\",\"2022-08-15\",\"2022-08-16\",\"2022-08-17\",\"2022-08-18\",\"2022-08-19\",\"2022-08-20\",\"2022-08-21\",\"2022-08-22\",\"2022-08-23\",\"2022-08-24\",\"2022-08-25\",\"2022-08-26\",\"2022-08-27\",\"2022-08-28\",\"2022-08-29\",\"2022-08-30\",\"2022-08-31\",\"2022-09-01\",\"2022-09-02\",\"2022-09-03\",\"2022-09-04\",\"2022-09-05\",\"2022-09-06\",\"2022-09-07\",\"2022-09-08\",\"2022-09-09\",\"2022-09-10\",\"2022-09-11\",\"2022-09-12\",\"2022-09-13\",\"2022-09-14\",\"2022-09-15\",\"2022-09-16\",\"2022-09-17\",\"2022-09-18\",\"2022-09-19\",\"2022-09-20\",\"2022-09-21\",\"2022-09-22\",\"2022-09-23\",\"2022-09-24\",\"2022-09-25\",\"2022-09-26\",\"2022-09-27\",\"2022-09-28\",\"2022-09-29\",\"2022-09-30\",\"2022-10-01\",\"2022-10-02\",\"2022-10-03\",\"2022-10-04\",\"2022-10-05\",\"2022-10-06\",\"2022-10-07\",\"2022-10-08\",\"2022-10-09\",\"2022-10-10\",\"2022-10-11\",\"2022-10-12\",\"2022-10-13\",\"2022-10-14\",\"2022-10-15\",\"2022-10-16\",\"2022-10-17\",\"2022-10-18\",\"2022-10-19\",\"2022-10-20\",\"2022-10-21\",\"2022-10-22\",\"2022-10-23\",\"2022-10-24\",\"2022-10-25\",\"2022-10-26\",\"2022-10-27\",\"2022-10-28\",\"2022-10-29\",\"2022-10-30\",\"2022-10-31\",\"2022-11-01\",\"2022-11-02\",\"2022-11-03\",\"2022-11-04\",\"2022-11-05\",\"2022-11-06\",\"2022-11-07\",\"2022-11-08\",\"2022-11-09\",\"2022-11-10\",\"2022-11-11\",\"2022-11-12\",\"2022-11-13\",\"2022-11-14\",\"2022-11-15\",\"2022-11-16\",\"2022-11-17\",\"2022-11-18\",\"2022-11-19\",\"2022-11-20\",\"2022-11-21\",\"2022-11-22\",\"2022-11-23\",\"2022-11-24\",\"2022-11-25\",\"2022-11-26\",\"2022-11-27\",\"2022-11-28\",\"2022-11-29\",\"2022-11-30\",\"2022-12-01\",\"2022-12-02\",\"2022-12-03\",\"2022-12-04\",\"2022-12-05\",\"2022-12-06\",\"2022-12-07\",\"2022-12-08\",\"2022-12-09\",\"2022-12-10\",\"2022-12-11\",\"2022-12-12\",\"2022-12-13\",\"2022-12-14\",\"2022-12-15\",\"2022-12-16\",\"2022-12-17\",\"2022-12-18\",\"2022-12-19\",\"2022-12-20\",\"2022-12-21\",\"2022-12-22\",\"2022-12-23\",\"2022-12-24\",\"2022-12-25\",\"2022-12-26\",\"2022-12-27\",\"2022-12-28\",\"2022-12-29\",\"2022-12-30\",\"2022-12-31\"],\"xaxis\":\"x\",\"y\":[8533,13146,12012,11248,11159,10167,11150,8321,8788,8520,8008,11553,9564,10799,8761,9670,10299,11576,11487,11246,14586,10223,9998,10691,10912,11103,12401,13628,11067,14135,12187,11218,11569,13506,12327,11417,9994,11294,14704,13394,12463,14952,10230,14511,13735,13051,13149,12544,13820,10624,12048,11664,12366,15191,12739,21477,21715,14993,15133,18936,18655,12157,12275,9503,14031,11579,11271,10105,11899,11003,10979,11574,12563,12339,13798,12569,13343,11273,10645,12221,13081,14022,13757,13008,11748,11576,14342,12214,12984,13211,11691,10583,12795,12619,13237,14175,12679,13456,11193,11253,11455,13132,12741,18161,17162,12422,16867,11647,10864,12624,19261,14933,14090,17675,14224,13316,14058,12619,15075,12525,12489,14937,14668,14144,16248,16765,9140,8143,12599,11647,10678,15285,9483,8253,6774,10567,10468,8511,8635,9827,7547,6569,13820,12184,13045,11643,13056,11423,10876,11539,10711,8452,11073,11662,10500,10731,11752,10086,12071,11683,13802,10849,10253,15085,10638,14153,14358,7357,7007,13663,9562,9302,9816,10199,10286,10183,10637,10101,10080,9109,10574,9472,10572,10208,10737,9076,9737,9169,10815,9123,10856,11660,11146,9812,10964,10770,8404,9872,10130,10418,10036,9643,11634,8985,9064,9948,8809,9142,10116,10082,8877,8969,9521,9795,9525,9656,10548,8047,8000,10647,8930,10525,10429,12014,8195,8069,11584,11570,10661,11117,9491,8806,9351,12918,10597,11348,11578,12334,9884,10883,10346,10334,11420,10562,10531,9730,10891,13580,10106,10884,10486,12517,9645,10381,10809,10183,8544,11114,11737,10091,10081,11190,12571,12108,10784,12943,10501,9522,11612,9074,10532,11880,13979,14241,15781,10458,9766,10257,9532,11802,10645,9507,9646,11046,11134,10946,11550,9801,10653,12259,10363,11629,10526,11617,9884,8445,11659,9902,10925,10096,19007,18238,14719,7005,5853,9888,6831,7737,6605,9804,10581,9188,10851,9397,13189,14878,12679,12027,16559,10511,9556,11007,7979,7886,5382,7665,5472,4033,9001,7948,7967,8423,8579,8549,9001,7815,8858,8973,9824,10717,10960,11293,10910,9656,10233,11251,8561,11701,11957,12950,15465,12248,10361,12476,12679,11912,16523,13654,11021,15214,12077,11332,12226,15801,13216],\"yaxis\":\"y\",\"type\":\"scatter\"}],                        {\"template\":{\"data\":{\"histogram2dcontour\":[{\"type\":\"histogram2dcontour\",\"colorbar\":{\"outlinewidth\":0,\"ticks\":\"\"},\"colorscale\":[[0.0,\"#0d0887\"],[0.1111111111111111,\"#46039f\"],[0.2222222222222222,\"#7201a8\"],[0.3333333333333333,\"#9c179e\"],[0.4444444444444444,\"#bd3786\"],[0.5555555555555556,\"#d8576b\"],[0.6666666666666666,\"#ed7953\"],[0.7777777777777778,\"#fb9f3a\"],[0.8888888888888888,\"#fdca26\"],[1.0,\"#f0f921\"]]}],\"choropleth\":[{\"type\":\"choropleth\",\"colorbar\":{\"outlinewidth\":0,\"ticks\":\"\"}}],\"histogram2d\":[{\"type\":\"histogram2d\",\"colorbar\":{\"outlinewidth\":0,\"ticks\":\"\"},\"colorscale\":[[0.0,\"#0d0887\"],[0.1111111111111111,\"#46039f\"],[0.2222222222222222,\"#7201a8\"],[0.3333333333333333,\"#9c179e\"],[0.4444444444444444,\"#bd3786\"],[0.5555555555555556,\"#d8576b\"],[0.6666666666666666,\"#ed7953\"],[0.7777777777777778,\"#fb9f3a\"],[0.8888888888888888,\"#fdca26\"],[1.0,\"#f0f921\"]]}],\"heatmap\":[{\"type\":\"heatmap\",\"colorbar\":{\"outlinewidth\":0,\"ticks\":\"\"},\"colorscale\":[[0.0,\"#0d0887\"],[0.1111111111111111,\"#46039f\"],[0.2222222222222222,\"#7201a8\"],[0.3333333333333333,\"#9c179e\"],[0.4444444444444444,\"#bd3786\"],[0.5555555555555556,\"#d8576b\"],[0.6666666666666666,\"#ed7953\"],[0.7777777777777778,\"#fb9f3a\"],[0.8888888888888888,\"#fdca26\"],[1.0,\"#f0f921\"]]}],\"heatmapgl\":[{\"type\":\"heatmapgl\",\"colorbar\":{\"outlinewidth\":0,\"ticks\":\"\"},\"colorscale\":[[0.0,\"#0d0887\"],[0.1111111111111111,\"#46039f\"],[0.2222222222222222,\"#7201a8\"],[0.3333333333333333,\"#9c179e\"],[0.4444444444444444,\"#bd3786\"],[0.5555555555555556,\"#d8576b\"],[0.6666666666666666,\"#ed7953\"],[0.7777777777777778,\"#fb9f3a\"],[0.8888888888888888,\"#fdca26\"],[1.0,\"#f0f921\"]]}],\"contourcarpet\":[{\"type\":\"contourcarpet\",\"colorbar\":{\"outlinewidth\":0,\"ticks\":\"\"}}],\"contour\":[{\"type\":\"contour\",\"colorbar\":{\"outlinewidth\":0,\"ticks\":\"\"},\"colorscale\":[[0.0,\"#0d0887\"],[0.1111111111111111,\"#46039f\"],[0.2222222222222222,\"#7201a8\"],[0.3333333333333333,\"#9c179e\"],[0.4444444444444444,\"#bd3786\"],[0.5555555555555556,\"#d8576b\"],[0.6666666666666666,\"#ed7953\"],[0.7777777777777778,\"#fb9f3a\"],[0.8888888888888888,\"#fdca26\"],[1.0,\"#f0f921\"]]}],\"surface\":[{\"type\":\"surface\",\"colorbar\":{\"outlinewidth\":0,\"ticks\":\"\"},\"colorscale\":[[0.0,\"#0d0887\"],[0.1111111111111111,\"#46039f\"],[0.2222222222222222,\"#7201a8\"],[0.3333333333333333,\"#9c179e\"],[0.4444444444444444,\"#bd3786\"],[0.5555555555555556,\"#d8576b\"],[0.6666666666666666,\"#ed7953\"],[0.7777777777777778,\"#fb9f3a\"],[0.8888888888888888,\"#fdca26\"],[1.0,\"#f0f921\"]]}],\"mesh3d\":[{\"type\":\"mesh3d\",\"colorbar\":{\"outlinewidth\":0,\"ticks\":\"\"}}],\"scatter\":[{\"fillpattern\":{\"fillmode\":\"overlay\",\"size\":10,\"solidity\":0.2},\"type\":\"scatter\"}],\"parcoords\":[{\"type\":\"parcoords\",\"line\":{\"colorbar\":{\"outlinewidth\":0,\"ticks\":\"\"}}}],\"scatterpolargl\":[{\"type\":\"scatterpolargl\",\"marker\":{\"colorbar\":{\"outlinewidth\":0,\"ticks\":\"\"}}}],\"bar\":[{\"error_x\":{\"color\":\"#2a3f5f\"},\"error_y\":{\"color\":\"#2a3f5f\"},\"marker\":{\"line\":{\"color\":\"#E5ECF6\",\"width\":0.5},\"pattern\":{\"fillmode\":\"overlay\",\"size\":10,\"solidity\":0.2}},\"type\":\"bar\"}],\"scattergeo\":[{\"type\":\"scattergeo\",\"marker\":{\"colorbar\":{\"outlinewidth\":0,\"ticks\":\"\"}}}],\"scatterpolar\":[{\"type\":\"scatterpolar\",\"marker\":{\"colorbar\":{\"outlinewidth\":0,\"ticks\":\"\"}}}],\"histogram\":[{\"marker\":{\"pattern\":{\"fillmode\":\"overlay\",\"size\":10,\"solidity\":0.2}},\"type\":\"histogram\"}],\"scattergl\":[{\"type\":\"scattergl\",\"marker\":{\"colorbar\":{\"outlinewidth\":0,\"ticks\":\"\"}}}],\"scatter3d\":[{\"type\":\"scatter3d\",\"line\":{\"colorbar\":{\"outlinewidth\":0,\"ticks\":\"\"}},\"marker\":{\"colorbar\":{\"outlinewidth\":0,\"ticks\":\"\"}}}],\"scattermapbox\":[{\"type\":\"scattermapbox\",\"marker\":{\"colorbar\":{\"outlinewidth\":0,\"ticks\":\"\"}}}],\"scatterternary\":[{\"type\":\"scatterternary\",\"marker\":{\"colorbar\":{\"outlinewidth\":0,\"ticks\":\"\"}}}],\"scattercarpet\":[{\"type\":\"scattercarpet\",\"marker\":{\"colorbar\":{\"outlinewidth\":0,\"ticks\":\"\"}}}],\"carpet\":[{\"aaxis\":{\"endlinecolor\":\"#2a3f5f\",\"gridcolor\":\"white\",\"linecolor\":\"white\",\"minorgridcolor\":\"white\",\"startlinecolor\":\"#2a3f5f\"},\"baxis\":{\"endlinecolor\":\"#2a3f5f\",\"gridcolor\":\"white\",\"linecolor\":\"white\",\"minorgridcolor\":\"white\",\"startlinecolor\":\"#2a3f5f\"},\"type\":\"carpet\"}],\"table\":[{\"cells\":{\"fill\":{\"color\":\"#EBF0F8\"},\"line\":{\"color\":\"white\"}},\"header\":{\"fill\":{\"color\":\"#C8D4E3\"},\"line\":{\"color\":\"white\"}},\"type\":\"table\"}],\"barpolar\":[{\"marker\":{\"line\":{\"color\":\"#E5ECF6\",\"width\":0.5},\"pattern\":{\"fillmode\":\"overlay\",\"size\":10,\"solidity\":0.2}},\"type\":\"barpolar\"}],\"pie\":[{\"automargin\":true,\"type\":\"pie\"}]},\"layout\":{\"autotypenumbers\":\"strict\",\"colorway\":[\"#636efa\",\"#EF553B\",\"#00cc96\",\"#ab63fa\",\"#FFA15A\",\"#19d3f3\",\"#FF6692\",\"#B6E880\",\"#FF97FF\",\"#FECB52\"],\"font\":{\"color\":\"#2a3f5f\"},\"hovermode\":\"closest\",\"hoverlabel\":{\"align\":\"left\"},\"paper_bgcolor\":\"white\",\"plot_bgcolor\":\"#E5ECF6\",\"polar\":{\"bgcolor\":\"#E5ECF6\",\"angularaxis\":{\"gridcolor\":\"white\",\"linecolor\":\"white\",\"ticks\":\"\"},\"radialaxis\":{\"gridcolor\":\"white\",\"linecolor\":\"white\",\"ticks\":\"\"}},\"ternary\":{\"bgcolor\":\"#E5ECF6\",\"aaxis\":{\"gridcolor\":\"white\",\"linecolor\":\"white\",\"ticks\":\"\"},\"baxis\":{\"gridcolor\":\"white\",\"linecolor\":\"white\",\"ticks\":\"\"},\"caxis\":{\"gridcolor\":\"white\",\"linecolor\":\"white\",\"ticks\":\"\"}},\"coloraxis\":{\"colorbar\":{\"outlinewidth\":0,\"ticks\":\"\"}},\"colorscale\":{\"sequential\":[[0.0,\"#0d0887\"],[0.1111111111111111,\"#46039f\"],[0.2222222222222222,\"#7201a8\"],[0.3333333333333333,\"#9c179e\"],[0.4444444444444444,\"#bd3786\"],[0.5555555555555556,\"#d8576b\"],[0.6666666666666666,\"#ed7953\"],[0.7777777777777778,\"#fb9f3a\"],[0.8888888888888888,\"#fdca26\"],[1.0,\"#f0f921\"]],\"sequentialminus\":[[0.0,\"#0d0887\"],[0.1111111111111111,\"#46039f\"],[0.2222222222222222,\"#7201a8\"],[0.3333333333333333,\"#9c179e\"],[0.4444444444444444,\"#bd3786\"],[0.5555555555555556,\"#d8576b\"],[0.6666666666666666,\"#ed7953\"],[0.7777777777777778,\"#fb9f3a\"],[0.8888888888888888,\"#fdca26\"],[1.0,\"#f0f921\"]],\"diverging\":[[0,\"#8e0152\"],[0.1,\"#c51b7d\"],[0.2,\"#de77ae\"],[0.3,\"#f1b6da\"],[0.4,\"#fde0ef\"],[0.5,\"#f7f7f7\"],[0.6,\"#e6f5d0\"],[0.7,\"#b8e186\"],[0.8,\"#7fbc41\"],[0.9,\"#4d9221\"],[1,\"#276419\"]]},\"xaxis\":{\"gridcolor\":\"white\",\"linecolor\":\"white\",\"ticks\":\"\",\"title\":{\"standoff\":15},\"zerolinecolor\":\"white\",\"automargin\":true,\"zerolinewidth\":2},\"yaxis\":{\"gridcolor\":\"white\",\"linecolor\":\"white\",\"ticks\":\"\",\"title\":{\"standoff\":15},\"zerolinecolor\":\"white\",\"automargin\":true,\"zerolinewidth\":2},\"scene\":{\"xaxis\":{\"backgroundcolor\":\"#E5ECF6\",\"gridcolor\":\"white\",\"linecolor\":\"white\",\"showbackground\":true,\"ticks\":\"\",\"zerolinecolor\":\"white\",\"gridwidth\":2},\"yaxis\":{\"backgroundcolor\":\"#E5ECF6\",\"gridcolor\":\"white\",\"linecolor\":\"white\",\"showbackground\":true,\"ticks\":\"\",\"zerolinecolor\":\"white\",\"gridwidth\":2},\"zaxis\":{\"backgroundcolor\":\"#E5ECF6\",\"gridcolor\":\"white\",\"linecolor\":\"white\",\"showbackground\":true,\"ticks\":\"\",\"zerolinecolor\":\"white\",\"gridwidth\":2}},\"shapedefaults\":{\"line\":{\"color\":\"#2a3f5f\"}},\"annotationdefaults\":{\"arrowcolor\":\"#2a3f5f\",\"arrowhead\":0,\"arrowwidth\":1},\"geo\":{\"bgcolor\":\"white\",\"landcolor\":\"#E5ECF6\",\"subunitcolor\":\"white\",\"showland\":true,\"showlakes\":true,\"lakecolor\":\"white\"},\"title\":{\"x\":0.05},\"mapbox\":{\"style\":\"light\"}}},\"xaxis\":{\"anchor\":\"y\",\"domain\":[0.0,1.0],\"title\":{\"text\":\"Date\"}},\"yaxis\":{\"anchor\":\"x\",\"domain\":[0.0,1.0],\"title\":{\"text\":\"Violations_Count\"}},\"legend\":{\"tracegroupgap\":0},\"margin\":{\"t\":60}},                        {\"responsive\": true}                    ).then(function(){\n",
              "                            \n",
              "var gd = document.getElementById('cafe22c4-5c28-4c13-95db-fcbdc3b91bd1');\n",
              "var x = new MutationObserver(function (mutations, observer) {{\n",
              "        var display = window.getComputedStyle(gd).display;\n",
              "        if (!display || display === 'none') {{\n",
              "            console.log([gd, 'removed!']);\n",
              "            Plotly.purge(gd);\n",
              "            observer.disconnect();\n",
              "        }}\n",
              "}});\n",
              "\n",
              "// Listen for the removal of the full notebook cells\n",
              "var notebookContainer = gd.closest('#notebook-container');\n",
              "if (notebookContainer) {{\n",
              "    x.observe(notebookContainer, {childList: true});\n",
              "}}\n",
              "\n",
              "// Listen for the clearing of the current output cell\n",
              "var outputEl = gd.closest('.output');\n",
              "if (outputEl) {{\n",
              "    x.observe(outputEl, {childList: true});\n",
              "}}\n",
              "\n",
              "                        })                };                            </script>        </div>\n",
              "</body>\n",
              "</html>"
            ]
          },
          "metadata": {}
        }
      ]
    },
    {
      "cell_type": "code",
      "source": [
        "# Boxplot\n",
        "px.box(\n",
        "    df_violations_per_day,\n",
        "    x='Month',\n",
        "    y='Violations_Count',\n",
        "    color='Month',\n",
        "    title='Tickets per Month Distribution'\n",
        ")"
      ],
      "metadata": {
        "colab": {
          "base_uri": "https://localhost:8080/",
          "height": 542
        },
        "id": "g0yOSBVHzgG0",
        "outputId": "1d4e9aed-2767-4336-bdad-5b4d8f20eb94"
      },
      "execution_count": 42,
      "outputs": [
        {
          "output_type": "display_data",
          "data": {
            "text/html": [
              "<html>\n",
              "<head><meta charset=\"utf-8\" /></head>\n",
              "<body>\n",
              "    <div>            <script src=\"https://cdnjs.cloudflare.com/ajax/libs/mathjax/2.7.5/MathJax.js?config=TeX-AMS-MML_SVG\"></script><script type=\"text/javascript\">if (window.MathJax && window.MathJax.Hub && window.MathJax.Hub.Config) {window.MathJax.Hub.Config({SVG: {font: \"STIX-Web\"}});}</script>                <script type=\"text/javascript\">window.PlotlyConfig = {MathJaxConfig: 'local'};</script>\n",
              "        <script src=\"https://cdn.plot.ly/plotly-2.18.2.min.js\"></script>                <div id=\"49d80370-952d-4e35-9b22-9b3ff3cb65e6\" class=\"plotly-graph-div\" style=\"height:525px; width:100%;\"></div>            <script type=\"text/javascript\">                                    window.PLOTLYENV=window.PLOTLYENV || {};                                    if (document.getElementById(\"49d80370-952d-4e35-9b22-9b3ff3cb65e6\")) {                    Plotly.newPlot(                        \"49d80370-952d-4e35-9b22-9b3ff3cb65e6\",                        [{\"alignmentgroup\":\"True\",\"hovertemplate\":\"Month=%{x}<br>Violations_Count=%{y}<extra></extra>\",\"legendgroup\":\"1\",\"marker\":{\"color\":\"#636efa\"},\"name\":\"1\",\"notched\":false,\"offsetgroup\":\"1\",\"orientation\":\"v\",\"showlegend\":true,\"x\":[1,1,1,1,1,1,1,1,1,1,1,1,1,1,1,1,1,1,1,1,1,1,1,1,1,1,1,1,1,1,1],\"x0\":\" \",\"xaxis\":\"x\",\"y\":[8533,13146,12012,11248,11159,10167,11150,8321,8788,8520,8008,11553,9564,10799,8761,9670,10299,11576,11487,11246,14586,10223,9998,10691,10912,11103,12401,13628,11067,14135,12187],\"y0\":\" \",\"yaxis\":\"y\",\"type\":\"box\"},{\"alignmentgroup\":\"True\",\"hovertemplate\":\"Month=%{x}<br>Violations_Count=%{y}<extra></extra>\",\"legendgroup\":\"2\",\"marker\":{\"color\":\"#EF553B\"},\"name\":\"2\",\"notched\":false,\"offsetgroup\":\"2\",\"orientation\":\"v\",\"showlegend\":true,\"x\":[2,2,2,2,2,2,2,2,2,2,2,2,2,2,2,2,2,2,2,2,2,2,2,2,2,2,2,2],\"x0\":\" \",\"xaxis\":\"x\",\"y\":[11218,11569,13506,12327,11417,9994,11294,14704,13394,12463,14952,10230,14511,13735,13051,13149,12544,13820,10624,12048,11664,12366,15191,12739,21477,21715,14993,15133],\"y0\":\" \",\"yaxis\":\"y\",\"type\":\"box\"},{\"alignmentgroup\":\"True\",\"hovertemplate\":\"Month=%{x}<br>Violations_Count=%{y}<extra></extra>\",\"legendgroup\":\"3\",\"marker\":{\"color\":\"#00cc96\"},\"name\":\"3\",\"notched\":false,\"offsetgroup\":\"3\",\"orientation\":\"v\",\"showlegend\":true,\"x\":[3,3,3,3,3,3,3,3,3,3,3,3,3,3,3,3,3,3,3,3,3,3,3,3,3,3,3,3,3,3,3],\"x0\":\" \",\"xaxis\":\"x\",\"y\":[18936,18655,12157,12275,9503,14031,11579,11271,10105,11899,11003,10979,11574,12563,12339,13798,12569,13343,11273,10645,12221,13081,14022,13757,13008,11748,11576,14342,12214,12984,13211],\"y0\":\" \",\"yaxis\":\"y\",\"type\":\"box\"},{\"alignmentgroup\":\"True\",\"hovertemplate\":\"Month=%{x}<br>Violations_Count=%{y}<extra></extra>\",\"legendgroup\":\"4\",\"marker\":{\"color\":\"#ab63fa\"},\"name\":\"4\",\"notched\":false,\"offsetgroup\":\"4\",\"orientation\":\"v\",\"showlegend\":true,\"x\":[4,4,4,4,4,4,4,4,4,4,4,4,4,4,4,4,4,4,4,4,4,4,4,4,4,4,4,4,4,4],\"x0\":\" \",\"xaxis\":\"x\",\"y\":[11691,10583,12795,12619,13237,14175,12679,13456,11193,11253,11455,13132,12741,18161,17162,12422,16867,11647,10864,12624,19261,14933,14090,17675,14224,13316,14058,12619,15075,12525],\"y0\":\" \",\"yaxis\":\"y\",\"type\":\"box\"},{\"alignmentgroup\":\"True\",\"hovertemplate\":\"Month=%{x}<br>Violations_Count=%{y}<extra></extra>\",\"legendgroup\":\"5\",\"marker\":{\"color\":\"#FFA15A\"},\"name\":\"5\",\"notched\":false,\"offsetgroup\":\"5\",\"orientation\":\"v\",\"showlegend\":true,\"x\":[5,5,5,5,5,5,5,5,5,5,5,5,5,5,5,5,5,5,5,5,5,5,5,5,5,5,5,5,5,5,5],\"x0\":\" \",\"xaxis\":\"x\",\"y\":[12489,14937,14668,14144,16248,16765,9140,8143,12599,11647,10678,15285,9483,8253,6774,10567,10468,8511,8635,9827,7547,6569,13820,12184,13045,11643,13056,11423,10876,11539,10711],\"y0\":\" \",\"yaxis\":\"y\",\"type\":\"box\"},{\"alignmentgroup\":\"True\",\"hovertemplate\":\"Month=%{x}<br>Violations_Count=%{y}<extra></extra>\",\"legendgroup\":\"6\",\"marker\":{\"color\":\"#19d3f3\"},\"name\":\"6\",\"notched\":false,\"offsetgroup\":\"6\",\"orientation\":\"v\",\"showlegend\":true,\"x\":[6,6,6,6,6,6,6,6,6,6,6,6,6,6,6,6,6,6,6,6,6,6,6,6,6,6,6,6,6,6],\"x0\":\" \",\"xaxis\":\"x\",\"y\":[8452,11073,11662,10500,10731,11752,10086,12071,11683,13802,10849,10253,15085,10638,14153,14358,7357,7007,13663,9562,9302,9816,10199,10286,10183,10637,10101,10080,9109,10574],\"y0\":\" \",\"yaxis\":\"y\",\"type\":\"box\"},{\"alignmentgroup\":\"True\",\"hovertemplate\":\"Month=%{x}<br>Violations_Count=%{y}<extra></extra>\",\"legendgroup\":\"7\",\"marker\":{\"color\":\"#FF6692\"},\"name\":\"7\",\"notched\":false,\"offsetgroup\":\"7\",\"orientation\":\"v\",\"showlegend\":true,\"x\":[7,7,7,7,7,7,7,7,7,7,7,7,7,7,7,7,7,7,7,7,7,7,7,7,7,7,7,7,7,7,7],\"x0\":\" \",\"xaxis\":\"x\",\"y\":[9472,10572,10208,10737,9076,9737,9169,10815,9123,10856,11660,11146,9812,10964,10770,8404,9872,10130,10418,10036,9643,11634,8985,9064,9948,8809,9142,10116,10082,8877,8969],\"y0\":\" \",\"yaxis\":\"y\",\"type\":\"box\"},{\"alignmentgroup\":\"True\",\"hovertemplate\":\"Month=%{x}<br>Violations_Count=%{y}<extra></extra>\",\"legendgroup\":\"8\",\"marker\":{\"color\":\"#B6E880\"},\"name\":\"8\",\"notched\":false,\"offsetgroup\":\"8\",\"orientation\":\"v\",\"showlegend\":true,\"x\":[8,8,8,8,8,8,8,8,8,8,8,8,8,8,8,8,8,8,8,8,8,8,8,8,8,8,8,8,8,8,8],\"x0\":\" \",\"xaxis\":\"x\",\"y\":[9521,9795,9525,9656,10548,8047,8000,10647,8930,10525,10429,12014,8195,8069,11584,11570,10661,11117,9491,8806,9351,12918,10597,11348,11578,12334,9884,10883,10346,10334,11420],\"y0\":\" \",\"yaxis\":\"y\",\"type\":\"box\"},{\"alignmentgroup\":\"True\",\"hovertemplate\":\"Month=%{x}<br>Violations_Count=%{y}<extra></extra>\",\"legendgroup\":\"9\",\"marker\":{\"color\":\"#FF97FF\"},\"name\":\"9\",\"notched\":false,\"offsetgroup\":\"9\",\"orientation\":\"v\",\"showlegend\":true,\"x\":[9,9,9,9,9,9,9,9,9,9,9,9,9,9,9,9,9,9,9,9,9,9,9,9,9,9,9,9,9,9],\"x0\":\" \",\"xaxis\":\"x\",\"y\":[10562,10531,9730,10891,13580,10106,10884,10486,12517,9645,10381,10809,10183,8544,11114,11737,10091,10081,11190,12571,12108,10784,12943,10501,9522,11612,9074,10532,11880,13979],\"y0\":\" \",\"yaxis\":\"y\",\"type\":\"box\"},{\"alignmentgroup\":\"True\",\"hovertemplate\":\"Month=%{x}<br>Violations_Count=%{y}<extra></extra>\",\"legendgroup\":\"10\",\"marker\":{\"color\":\"#FECB52\"},\"name\":\"10\",\"notched\":false,\"offsetgroup\":\"10\",\"orientation\":\"v\",\"showlegend\":true,\"x\":[10,10,10,10,10,10,10,10,10,10,10,10,10,10,10,10,10,10,10,10,10,10,10,10,10,10,10,10,10,10,10],\"x0\":\" \",\"xaxis\":\"x\",\"y\":[14241,15781,10458,9766,10257,9532,11802,10645,9507,9646,11046,11134,10946,11550,9801,10653,12259,10363,11629,10526,11617,9884,8445,11659,9902,10925,10096,19007,18238,14719,7005],\"y0\":\" \",\"yaxis\":\"y\",\"type\":\"box\"},{\"alignmentgroup\":\"True\",\"hovertemplate\":\"Month=%{x}<br>Violations_Count=%{y}<extra></extra>\",\"legendgroup\":\"11\",\"marker\":{\"color\":\"#636efa\"},\"name\":\"11\",\"notched\":false,\"offsetgroup\":\"11\",\"orientation\":\"v\",\"showlegend\":true,\"x\":[11,11,11,11,11,11,11,11,11,11,11,11,11,11,11,11,11,11,11,11,11,11,11,11,11,11,11,11,11,11],\"x0\":\" \",\"xaxis\":\"x\",\"y\":[5853,9888,6831,7737,6605,9804,10581,9188,10851,9397,13189,14878,12679,12027,16559,10511,9556,11007,7979,7886,5382,7665,5472,4033,9001,7948,7967,8423,8579,8549],\"y0\":\" \",\"yaxis\":\"y\",\"type\":\"box\"},{\"alignmentgroup\":\"True\",\"hovertemplate\":\"Month=%{x}<br>Violations_Count=%{y}<extra></extra>\",\"legendgroup\":\"12\",\"marker\":{\"color\":\"#EF553B\"},\"name\":\"12\",\"notched\":false,\"offsetgroup\":\"12\",\"orientation\":\"v\",\"showlegend\":true,\"x\":[12,12,12,12,12,12,12,12,12,12,12,12,12,12,12,12,12,12,12,12,12,12,12,12,12,12,12,12,12,12,12],\"x0\":\" \",\"xaxis\":\"x\",\"y\":[9001,7815,8858,8973,9824,10717,10960,11293,10910,9656,10233,11251,8561,11701,11957,12950,15465,12248,10361,12476,12679,11912,16523,13654,11021,15214,12077,11332,12226,15801,13216],\"y0\":\" \",\"yaxis\":\"y\",\"type\":\"box\"}],                        {\"template\":{\"data\":{\"histogram2dcontour\":[{\"type\":\"histogram2dcontour\",\"colorbar\":{\"outlinewidth\":0,\"ticks\":\"\"},\"colorscale\":[[0.0,\"#0d0887\"],[0.1111111111111111,\"#46039f\"],[0.2222222222222222,\"#7201a8\"],[0.3333333333333333,\"#9c179e\"],[0.4444444444444444,\"#bd3786\"],[0.5555555555555556,\"#d8576b\"],[0.6666666666666666,\"#ed7953\"],[0.7777777777777778,\"#fb9f3a\"],[0.8888888888888888,\"#fdca26\"],[1.0,\"#f0f921\"]]}],\"choropleth\":[{\"type\":\"choropleth\",\"colorbar\":{\"outlinewidth\":0,\"ticks\":\"\"}}],\"histogram2d\":[{\"type\":\"histogram2d\",\"colorbar\":{\"outlinewidth\":0,\"ticks\":\"\"},\"colorscale\":[[0.0,\"#0d0887\"],[0.1111111111111111,\"#46039f\"],[0.2222222222222222,\"#7201a8\"],[0.3333333333333333,\"#9c179e\"],[0.4444444444444444,\"#bd3786\"],[0.5555555555555556,\"#d8576b\"],[0.6666666666666666,\"#ed7953\"],[0.7777777777777778,\"#fb9f3a\"],[0.8888888888888888,\"#fdca26\"],[1.0,\"#f0f921\"]]}],\"heatmap\":[{\"type\":\"heatmap\",\"colorbar\":{\"outlinewidth\":0,\"ticks\":\"\"},\"colorscale\":[[0.0,\"#0d0887\"],[0.1111111111111111,\"#46039f\"],[0.2222222222222222,\"#7201a8\"],[0.3333333333333333,\"#9c179e\"],[0.4444444444444444,\"#bd3786\"],[0.5555555555555556,\"#d8576b\"],[0.6666666666666666,\"#ed7953\"],[0.7777777777777778,\"#fb9f3a\"],[0.8888888888888888,\"#fdca26\"],[1.0,\"#f0f921\"]]}],\"heatmapgl\":[{\"type\":\"heatmapgl\",\"colorbar\":{\"outlinewidth\":0,\"ticks\":\"\"},\"colorscale\":[[0.0,\"#0d0887\"],[0.1111111111111111,\"#46039f\"],[0.2222222222222222,\"#7201a8\"],[0.3333333333333333,\"#9c179e\"],[0.4444444444444444,\"#bd3786\"],[0.5555555555555556,\"#d8576b\"],[0.6666666666666666,\"#ed7953\"],[0.7777777777777778,\"#fb9f3a\"],[0.8888888888888888,\"#fdca26\"],[1.0,\"#f0f921\"]]}],\"contourcarpet\":[{\"type\":\"contourcarpet\",\"colorbar\":{\"outlinewidth\":0,\"ticks\":\"\"}}],\"contour\":[{\"type\":\"contour\",\"colorbar\":{\"outlinewidth\":0,\"ticks\":\"\"},\"colorscale\":[[0.0,\"#0d0887\"],[0.1111111111111111,\"#46039f\"],[0.2222222222222222,\"#7201a8\"],[0.3333333333333333,\"#9c179e\"],[0.4444444444444444,\"#bd3786\"],[0.5555555555555556,\"#d8576b\"],[0.6666666666666666,\"#ed7953\"],[0.7777777777777778,\"#fb9f3a\"],[0.8888888888888888,\"#fdca26\"],[1.0,\"#f0f921\"]]}],\"surface\":[{\"type\":\"surface\",\"colorbar\":{\"outlinewidth\":0,\"ticks\":\"\"},\"colorscale\":[[0.0,\"#0d0887\"],[0.1111111111111111,\"#46039f\"],[0.2222222222222222,\"#7201a8\"],[0.3333333333333333,\"#9c179e\"],[0.4444444444444444,\"#bd3786\"],[0.5555555555555556,\"#d8576b\"],[0.6666666666666666,\"#ed7953\"],[0.7777777777777778,\"#fb9f3a\"],[0.8888888888888888,\"#fdca26\"],[1.0,\"#f0f921\"]]}],\"mesh3d\":[{\"type\":\"mesh3d\",\"colorbar\":{\"outlinewidth\":0,\"ticks\":\"\"}}],\"scatter\":[{\"fillpattern\":{\"fillmode\":\"overlay\",\"size\":10,\"solidity\":0.2},\"type\":\"scatter\"}],\"parcoords\":[{\"type\":\"parcoords\",\"line\":{\"colorbar\":{\"outlinewidth\":0,\"ticks\":\"\"}}}],\"scatterpolargl\":[{\"type\":\"scatterpolargl\",\"marker\":{\"colorbar\":{\"outlinewidth\":0,\"ticks\":\"\"}}}],\"bar\":[{\"error_x\":{\"color\":\"#2a3f5f\"},\"error_y\":{\"color\":\"#2a3f5f\"},\"marker\":{\"line\":{\"color\":\"#E5ECF6\",\"width\":0.5},\"pattern\":{\"fillmode\":\"overlay\",\"size\":10,\"solidity\":0.2}},\"type\":\"bar\"}],\"scattergeo\":[{\"type\":\"scattergeo\",\"marker\":{\"colorbar\":{\"outlinewidth\":0,\"ticks\":\"\"}}}],\"scatterpolar\":[{\"type\":\"scatterpolar\",\"marker\":{\"colorbar\":{\"outlinewidth\":0,\"ticks\":\"\"}}}],\"histogram\":[{\"marker\":{\"pattern\":{\"fillmode\":\"overlay\",\"size\":10,\"solidity\":0.2}},\"type\":\"histogram\"}],\"scattergl\":[{\"type\":\"scattergl\",\"marker\":{\"colorbar\":{\"outlinewidth\":0,\"ticks\":\"\"}}}],\"scatter3d\":[{\"type\":\"scatter3d\",\"line\":{\"colorbar\":{\"outlinewidth\":0,\"ticks\":\"\"}},\"marker\":{\"colorbar\":{\"outlinewidth\":0,\"ticks\":\"\"}}}],\"scattermapbox\":[{\"type\":\"scattermapbox\",\"marker\":{\"colorbar\":{\"outlinewidth\":0,\"ticks\":\"\"}}}],\"scatterternary\":[{\"type\":\"scatterternary\",\"marker\":{\"colorbar\":{\"outlinewidth\":0,\"ticks\":\"\"}}}],\"scattercarpet\":[{\"type\":\"scattercarpet\",\"marker\":{\"colorbar\":{\"outlinewidth\":0,\"ticks\":\"\"}}}],\"carpet\":[{\"aaxis\":{\"endlinecolor\":\"#2a3f5f\",\"gridcolor\":\"white\",\"linecolor\":\"white\",\"minorgridcolor\":\"white\",\"startlinecolor\":\"#2a3f5f\"},\"baxis\":{\"endlinecolor\":\"#2a3f5f\",\"gridcolor\":\"white\",\"linecolor\":\"white\",\"minorgridcolor\":\"white\",\"startlinecolor\":\"#2a3f5f\"},\"type\":\"carpet\"}],\"table\":[{\"cells\":{\"fill\":{\"color\":\"#EBF0F8\"},\"line\":{\"color\":\"white\"}},\"header\":{\"fill\":{\"color\":\"#C8D4E3\"},\"line\":{\"color\":\"white\"}},\"type\":\"table\"}],\"barpolar\":[{\"marker\":{\"line\":{\"color\":\"#E5ECF6\",\"width\":0.5},\"pattern\":{\"fillmode\":\"overlay\",\"size\":10,\"solidity\":0.2}},\"type\":\"barpolar\"}],\"pie\":[{\"automargin\":true,\"type\":\"pie\"}]},\"layout\":{\"autotypenumbers\":\"strict\",\"colorway\":[\"#636efa\",\"#EF553B\",\"#00cc96\",\"#ab63fa\",\"#FFA15A\",\"#19d3f3\",\"#FF6692\",\"#B6E880\",\"#FF97FF\",\"#FECB52\"],\"font\":{\"color\":\"#2a3f5f\"},\"hovermode\":\"closest\",\"hoverlabel\":{\"align\":\"left\"},\"paper_bgcolor\":\"white\",\"plot_bgcolor\":\"#E5ECF6\",\"polar\":{\"bgcolor\":\"#E5ECF6\",\"angularaxis\":{\"gridcolor\":\"white\",\"linecolor\":\"white\",\"ticks\":\"\"},\"radialaxis\":{\"gridcolor\":\"white\",\"linecolor\":\"white\",\"ticks\":\"\"}},\"ternary\":{\"bgcolor\":\"#E5ECF6\",\"aaxis\":{\"gridcolor\":\"white\",\"linecolor\":\"white\",\"ticks\":\"\"},\"baxis\":{\"gridcolor\":\"white\",\"linecolor\":\"white\",\"ticks\":\"\"},\"caxis\":{\"gridcolor\":\"white\",\"linecolor\":\"white\",\"ticks\":\"\"}},\"coloraxis\":{\"colorbar\":{\"outlinewidth\":0,\"ticks\":\"\"}},\"colorscale\":{\"sequential\":[[0.0,\"#0d0887\"],[0.1111111111111111,\"#46039f\"],[0.2222222222222222,\"#7201a8\"],[0.3333333333333333,\"#9c179e\"],[0.4444444444444444,\"#bd3786\"],[0.5555555555555556,\"#d8576b\"],[0.6666666666666666,\"#ed7953\"],[0.7777777777777778,\"#fb9f3a\"],[0.8888888888888888,\"#fdca26\"],[1.0,\"#f0f921\"]],\"sequentialminus\":[[0.0,\"#0d0887\"],[0.1111111111111111,\"#46039f\"],[0.2222222222222222,\"#7201a8\"],[0.3333333333333333,\"#9c179e\"],[0.4444444444444444,\"#bd3786\"],[0.5555555555555556,\"#d8576b\"],[0.6666666666666666,\"#ed7953\"],[0.7777777777777778,\"#fb9f3a\"],[0.8888888888888888,\"#fdca26\"],[1.0,\"#f0f921\"]],\"diverging\":[[0,\"#8e0152\"],[0.1,\"#c51b7d\"],[0.2,\"#de77ae\"],[0.3,\"#f1b6da\"],[0.4,\"#fde0ef\"],[0.5,\"#f7f7f7\"],[0.6,\"#e6f5d0\"],[0.7,\"#b8e186\"],[0.8,\"#7fbc41\"],[0.9,\"#4d9221\"],[1,\"#276419\"]]},\"xaxis\":{\"gridcolor\":\"white\",\"linecolor\":\"white\",\"ticks\":\"\",\"title\":{\"standoff\":15},\"zerolinecolor\":\"white\",\"automargin\":true,\"zerolinewidth\":2},\"yaxis\":{\"gridcolor\":\"white\",\"linecolor\":\"white\",\"ticks\":\"\",\"title\":{\"standoff\":15},\"zerolinecolor\":\"white\",\"automargin\":true,\"zerolinewidth\":2},\"scene\":{\"xaxis\":{\"backgroundcolor\":\"#E5ECF6\",\"gridcolor\":\"white\",\"linecolor\":\"white\",\"showbackground\":true,\"ticks\":\"\",\"zerolinecolor\":\"white\",\"gridwidth\":2},\"yaxis\":{\"backgroundcolor\":\"#E5ECF6\",\"gridcolor\":\"white\",\"linecolor\":\"white\",\"showbackground\":true,\"ticks\":\"\",\"zerolinecolor\":\"white\",\"gridwidth\":2},\"zaxis\":{\"backgroundcolor\":\"#E5ECF6\",\"gridcolor\":\"white\",\"linecolor\":\"white\",\"showbackground\":true,\"ticks\":\"\",\"zerolinecolor\":\"white\",\"gridwidth\":2}},\"shapedefaults\":{\"line\":{\"color\":\"#2a3f5f\"}},\"annotationdefaults\":{\"arrowcolor\":\"#2a3f5f\",\"arrowhead\":0,\"arrowwidth\":1},\"geo\":{\"bgcolor\":\"white\",\"landcolor\":\"#E5ECF6\",\"subunitcolor\":\"white\",\"showland\":true,\"showlakes\":true,\"lakecolor\":\"white\"},\"title\":{\"x\":0.05},\"mapbox\":{\"style\":\"light\"}}},\"xaxis\":{\"anchor\":\"y\",\"domain\":[0.0,1.0],\"title\":{\"text\":\"Month\"},\"categoryorder\":\"array\",\"categoryarray\":[1,2,3,4,5,6,7,8,9,10,11,12]},\"yaxis\":{\"anchor\":\"x\",\"domain\":[0.0,1.0],\"title\":{\"text\":\"Violations_Count\"}},\"legend\":{\"title\":{\"text\":\"Month\"},\"tracegroupgap\":0},\"title\":{\"text\":\"Tickets per Month Distribution\"},\"boxmode\":\"overlay\"},                        {\"responsive\": true}                    ).then(function(){\n",
              "                            \n",
              "var gd = document.getElementById('49d80370-952d-4e35-9b22-9b3ff3cb65e6');\n",
              "var x = new MutationObserver(function (mutations, observer) {{\n",
              "        var display = window.getComputedStyle(gd).display;\n",
              "        if (!display || display === 'none') {{\n",
              "            console.log([gd, 'removed!']);\n",
              "            Plotly.purge(gd);\n",
              "            observer.disconnect();\n",
              "        }}\n",
              "}});\n",
              "\n",
              "// Listen for the removal of the full notebook cells\n",
              "var notebookContainer = gd.closest('#notebook-container');\n",
              "if (notebookContainer) {{\n",
              "    x.observe(notebookContainer, {childList: true});\n",
              "}}\n",
              "\n",
              "// Listen for the clearing of the current output cell\n",
              "var outputEl = gd.closest('.output');\n",
              "if (outputEl) {{\n",
              "    x.observe(outputEl, {childList: true});\n",
              "}}\n",
              "\n",
              "                        })                };                            </script>        </div>\n",
              "</body>\n",
              "</html>"
            ]
          },
          "metadata": {}
        }
      ]
    },
    {
      "cell_type": "markdown",
      "source": [
        "Month with more outliers: October and June\n",
        "\n",
        "*   List item\n",
        "*   List item\n",
        "\n",
        "\n",
        "Month with the best median: November"
      ],
      "metadata": {
        "id": "yXwKKVp20DL1"
      }
    },
    {
      "cell_type": "code",
      "source": [
        "# Grid System\n",
        "\n",
        "# Grid\n",
        "Grid = make_subplots( rows=1, cols= 2 )\n",
        "\n",
        "# Graph 1\n",
        "Grid.add_trace(\n",
        "    go.Scatter(\n",
        "        x=df_violations_per_day['Date'],\n",
        "        y=df_violations_per_day['Violations_Count'],\n",
        "        mode='lines',\n",
        "        name='Violations Count'\n",
        "    ),\n",
        "    row=1, col=1\n",
        ")\n",
        "\n",
        "# Graph 2\n",
        "Grid.add_trace(\n",
        "    go.Scatter(\n",
        "        x=df_violations_per_day['Date'],\n",
        "        y=df_violations_per_day['moving_avarage'],\n",
        "        mode='lines',\n",
        "        name='Moving Avarage'\n",
        "    ),\n",
        "    row=1, col=2\n",
        ")\n",
        "\n",
        "# Layout Adjust\n",
        "Grid.update_layout(\n",
        "\n",
        "    # title\n",
        "    title='Traffic Violation Analyses per Day - Grid System',\n",
        "\n",
        "    # legend\n",
        "    showlegend=True,\n",
        "\n",
        "    legend=dict(\n",
        "        orientation='h',\n",
        "        yanchor='bottom',\n",
        "        y=1.02,\n",
        "        xanchor='right',\n",
        "        x=1\n",
        "    )\n",
        ")\n",
        "\n",
        "Grid"
      ],
      "metadata": {
        "colab": {
          "base_uri": "https://localhost:8080/",
          "height": 542
        },
        "id": "aQ9kfI7ixIGg",
        "outputId": "bcc9f27e-f266-403d-f22f-4d6132cf4265"
      },
      "execution_count": 43,
      "outputs": [
        {
          "output_type": "display_data",
          "data": {
            "text/html": [
              "<html>\n",
              "<head><meta charset=\"utf-8\" /></head>\n",
              "<body>\n",
              "    <div>            <script src=\"https://cdnjs.cloudflare.com/ajax/libs/mathjax/2.7.5/MathJax.js?config=TeX-AMS-MML_SVG\"></script><script type=\"text/javascript\">if (window.MathJax && window.MathJax.Hub && window.MathJax.Hub.Config) {window.MathJax.Hub.Config({SVG: {font: \"STIX-Web\"}});}</script>                <script type=\"text/javascript\">window.PlotlyConfig = {MathJaxConfig: 'local'};</script>\n",
              "        <script src=\"https://cdn.plot.ly/plotly-2.18.2.min.js\"></script>                <div id=\"f2c8729e-7bc1-40ca-90b5-f999d57e0120\" class=\"plotly-graph-div\" style=\"height:525px; width:100%;\"></div>            <script type=\"text/javascript\">                                    window.PLOTLYENV=window.PLOTLYENV || {};                                    if (document.getElementById(\"f2c8729e-7bc1-40ca-90b5-f999d57e0120\")) {                    Plotly.newPlot(                        \"f2c8729e-7bc1-40ca-90b5-f999d57e0120\",                        [{\"mode\":\"lines\",\"name\":\"Violations Count\",\"x\":[\"2022-01-01\",\"2022-01-02\",\"2022-01-03\",\"2022-01-04\",\"2022-01-05\",\"2022-01-06\",\"2022-01-07\",\"2022-01-08\",\"2022-01-09\",\"2022-01-10\",\"2022-01-11\",\"2022-01-12\",\"2022-01-13\",\"2022-01-14\",\"2022-01-15\",\"2022-01-16\",\"2022-01-17\",\"2022-01-18\",\"2022-01-19\",\"2022-01-20\",\"2022-01-21\",\"2022-01-22\",\"2022-01-23\",\"2022-01-24\",\"2022-01-25\",\"2022-01-26\",\"2022-01-27\",\"2022-01-28\",\"2022-01-29\",\"2022-01-30\",\"2022-01-31\",\"2022-02-01\",\"2022-02-02\",\"2022-02-03\",\"2022-02-04\",\"2022-02-05\",\"2022-02-06\",\"2022-02-07\",\"2022-02-08\",\"2022-02-09\",\"2022-02-10\",\"2022-02-11\",\"2022-02-12\",\"2022-02-13\",\"2022-02-14\",\"2022-02-15\",\"2022-02-16\",\"2022-02-17\",\"2022-02-18\",\"2022-02-19\",\"2022-02-20\",\"2022-02-21\",\"2022-02-22\",\"2022-02-23\",\"2022-02-24\",\"2022-02-25\",\"2022-02-26\",\"2022-02-27\",\"2022-02-28\",\"2022-03-01\",\"2022-03-02\",\"2022-03-03\",\"2022-03-04\",\"2022-03-05\",\"2022-03-06\",\"2022-03-07\",\"2022-03-08\",\"2022-03-09\",\"2022-03-10\",\"2022-03-11\",\"2022-03-12\",\"2022-03-13\",\"2022-03-14\",\"2022-03-15\",\"2022-03-16\",\"2022-03-17\",\"2022-03-18\",\"2022-03-19\",\"2022-03-20\",\"2022-03-21\",\"2022-03-22\",\"2022-03-23\",\"2022-03-24\",\"2022-03-25\",\"2022-03-26\",\"2022-03-27\",\"2022-03-28\",\"2022-03-29\",\"2022-03-30\",\"2022-03-31\",\"2022-04-01\",\"2022-04-02\",\"2022-04-03\",\"2022-04-04\",\"2022-04-05\",\"2022-04-06\",\"2022-04-07\",\"2022-04-08\",\"2022-04-09\",\"2022-04-10\",\"2022-04-11\",\"2022-04-12\",\"2022-04-13\",\"2022-04-14\",\"2022-04-15\",\"2022-04-16\",\"2022-04-17\",\"2022-04-18\",\"2022-04-19\",\"2022-04-20\",\"2022-04-21\",\"2022-04-22\",\"2022-04-23\",\"2022-04-24\",\"2022-04-25\",\"2022-04-26\",\"2022-04-27\",\"2022-04-28\",\"2022-04-29\",\"2022-04-30\",\"2022-05-01\",\"2022-05-02\",\"2022-05-03\",\"2022-05-04\",\"2022-05-05\",\"2022-05-06\",\"2022-05-07\",\"2022-05-08\",\"2022-05-09\",\"2022-05-10\",\"2022-05-11\",\"2022-05-12\",\"2022-05-13\",\"2022-05-14\",\"2022-05-15\",\"2022-05-16\",\"2022-05-17\",\"2022-05-18\",\"2022-05-19\",\"2022-05-20\",\"2022-05-21\",\"2022-05-22\",\"2022-05-23\",\"2022-05-24\",\"2022-05-25\",\"2022-05-26\",\"2022-05-27\",\"2022-05-28\",\"2022-05-29\",\"2022-05-30\",\"2022-05-31\",\"2022-06-01\",\"2022-06-02\",\"2022-06-03\",\"2022-06-04\",\"2022-06-05\",\"2022-06-06\",\"2022-06-07\",\"2022-06-08\",\"2022-06-09\",\"2022-06-10\",\"2022-06-11\",\"2022-06-12\",\"2022-06-13\",\"2022-06-14\",\"2022-06-15\",\"2022-06-16\",\"2022-06-17\",\"2022-06-18\",\"2022-06-19\",\"2022-06-20\",\"2022-06-21\",\"2022-06-22\",\"2022-06-23\",\"2022-06-24\",\"2022-06-25\",\"2022-06-26\",\"2022-06-27\",\"2022-06-28\",\"2022-06-29\",\"2022-06-30\",\"2022-07-01\",\"2022-07-02\",\"2022-07-03\",\"2022-07-04\",\"2022-07-05\",\"2022-07-06\",\"2022-07-07\",\"2022-07-08\",\"2022-07-09\",\"2022-07-10\",\"2022-07-11\",\"2022-07-12\",\"2022-07-13\",\"2022-07-14\",\"2022-07-15\",\"2022-07-16\",\"2022-07-17\",\"2022-07-18\",\"2022-07-19\",\"2022-07-20\",\"2022-07-21\",\"2022-07-22\",\"2022-07-23\",\"2022-07-24\",\"2022-07-25\",\"2022-07-26\",\"2022-07-27\",\"2022-07-28\",\"2022-07-29\",\"2022-07-30\",\"2022-07-31\",\"2022-08-01\",\"2022-08-02\",\"2022-08-03\",\"2022-08-04\",\"2022-08-05\",\"2022-08-06\",\"2022-08-07\",\"2022-08-08\",\"2022-08-09\",\"2022-08-10\",\"2022-08-11\",\"2022-08-12\",\"2022-08-13\",\"2022-08-14\",\"2022-08-15\",\"2022-08-16\",\"2022-08-17\",\"2022-08-18\",\"2022-08-19\",\"2022-08-20\",\"2022-08-21\",\"2022-08-22\",\"2022-08-23\",\"2022-08-24\",\"2022-08-25\",\"2022-08-26\",\"2022-08-27\",\"2022-08-28\",\"2022-08-29\",\"2022-08-30\",\"2022-08-31\",\"2022-09-01\",\"2022-09-02\",\"2022-09-03\",\"2022-09-04\",\"2022-09-05\",\"2022-09-06\",\"2022-09-07\",\"2022-09-08\",\"2022-09-09\",\"2022-09-10\",\"2022-09-11\",\"2022-09-12\",\"2022-09-13\",\"2022-09-14\",\"2022-09-15\",\"2022-09-16\",\"2022-09-17\",\"2022-09-18\",\"2022-09-19\",\"2022-09-20\",\"2022-09-21\",\"2022-09-22\",\"2022-09-23\",\"2022-09-24\",\"2022-09-25\",\"2022-09-26\",\"2022-09-27\",\"2022-09-28\",\"2022-09-29\",\"2022-09-30\",\"2022-10-01\",\"2022-10-02\",\"2022-10-03\",\"2022-10-04\",\"2022-10-05\",\"2022-10-06\",\"2022-10-07\",\"2022-10-08\",\"2022-10-09\",\"2022-10-10\",\"2022-10-11\",\"2022-10-12\",\"2022-10-13\",\"2022-10-14\",\"2022-10-15\",\"2022-10-16\",\"2022-10-17\",\"2022-10-18\",\"2022-10-19\",\"2022-10-20\",\"2022-10-21\",\"2022-10-22\",\"2022-10-23\",\"2022-10-24\",\"2022-10-25\",\"2022-10-26\",\"2022-10-27\",\"2022-10-28\",\"2022-10-29\",\"2022-10-30\",\"2022-10-31\",\"2022-11-01\",\"2022-11-02\",\"2022-11-03\",\"2022-11-04\",\"2022-11-05\",\"2022-11-06\",\"2022-11-07\",\"2022-11-08\",\"2022-11-09\",\"2022-11-10\",\"2022-11-11\",\"2022-11-12\",\"2022-11-13\",\"2022-11-14\",\"2022-11-15\",\"2022-11-16\",\"2022-11-17\",\"2022-11-18\",\"2022-11-19\",\"2022-11-20\",\"2022-11-21\",\"2022-11-22\",\"2022-11-23\",\"2022-11-24\",\"2022-11-25\",\"2022-11-26\",\"2022-11-27\",\"2022-11-28\",\"2022-11-29\",\"2022-11-30\",\"2022-12-01\",\"2022-12-02\",\"2022-12-03\",\"2022-12-04\",\"2022-12-05\",\"2022-12-06\",\"2022-12-07\",\"2022-12-08\",\"2022-12-09\",\"2022-12-10\",\"2022-12-11\",\"2022-12-12\",\"2022-12-13\",\"2022-12-14\",\"2022-12-15\",\"2022-12-16\",\"2022-12-17\",\"2022-12-18\",\"2022-12-19\",\"2022-12-20\",\"2022-12-21\",\"2022-12-22\",\"2022-12-23\",\"2022-12-24\",\"2022-12-25\",\"2022-12-26\",\"2022-12-27\",\"2022-12-28\",\"2022-12-29\",\"2022-12-30\",\"2022-12-31\"],\"y\":[8533,13146,12012,11248,11159,10167,11150,8321,8788,8520,8008,11553,9564,10799,8761,9670,10299,11576,11487,11246,14586,10223,9998,10691,10912,11103,12401,13628,11067,14135,12187,11218,11569,13506,12327,11417,9994,11294,14704,13394,12463,14952,10230,14511,13735,13051,13149,12544,13820,10624,12048,11664,12366,15191,12739,21477,21715,14993,15133,18936,18655,12157,12275,9503,14031,11579,11271,10105,11899,11003,10979,11574,12563,12339,13798,12569,13343,11273,10645,12221,13081,14022,13757,13008,11748,11576,14342,12214,12984,13211,11691,10583,12795,12619,13237,14175,12679,13456,11193,11253,11455,13132,12741,18161,17162,12422,16867,11647,10864,12624,19261,14933,14090,17675,14224,13316,14058,12619,15075,12525,12489,14937,14668,14144,16248,16765,9140,8143,12599,11647,10678,15285,9483,8253,6774,10567,10468,8511,8635,9827,7547,6569,13820,12184,13045,11643,13056,11423,10876,11539,10711,8452,11073,11662,10500,10731,11752,10086,12071,11683,13802,10849,10253,15085,10638,14153,14358,7357,7007,13663,9562,9302,9816,10199,10286,10183,10637,10101,10080,9109,10574,9472,10572,10208,10737,9076,9737,9169,10815,9123,10856,11660,11146,9812,10964,10770,8404,9872,10130,10418,10036,9643,11634,8985,9064,9948,8809,9142,10116,10082,8877,8969,9521,9795,9525,9656,10548,8047,8000,10647,8930,10525,10429,12014,8195,8069,11584,11570,10661,11117,9491,8806,9351,12918,10597,11348,11578,12334,9884,10883,10346,10334,11420,10562,10531,9730,10891,13580,10106,10884,10486,12517,9645,10381,10809,10183,8544,11114,11737,10091,10081,11190,12571,12108,10784,12943,10501,9522,11612,9074,10532,11880,13979,14241,15781,10458,9766,10257,9532,11802,10645,9507,9646,11046,11134,10946,11550,9801,10653,12259,10363,11629,10526,11617,9884,8445,11659,9902,10925,10096,19007,18238,14719,7005,5853,9888,6831,7737,6605,9804,10581,9188,10851,9397,13189,14878,12679,12027,16559,10511,9556,11007,7979,7886,5382,7665,5472,4033,9001,7948,7967,8423,8579,8549,9001,7815,8858,8973,9824,10717,10960,11293,10910,9656,10233,11251,8561,11701,11957,12950,15465,12248,10361,12476,12679,11912,16523,13654,11021,15214,12077,11332,12226,15801,13216],\"type\":\"scatter\",\"xaxis\":\"x\",\"yaxis\":\"y\"},{\"mode\":\"lines\",\"name\":\"Moving Avarage\",\"x\":[\"2022-01-01\",\"2022-01-02\",\"2022-01-03\",\"2022-01-04\",\"2022-01-05\",\"2022-01-06\",\"2022-01-07\",\"2022-01-08\",\"2022-01-09\",\"2022-01-10\",\"2022-01-11\",\"2022-01-12\",\"2022-01-13\",\"2022-01-14\",\"2022-01-15\",\"2022-01-16\",\"2022-01-17\",\"2022-01-18\",\"2022-01-19\",\"2022-01-20\",\"2022-01-21\",\"2022-01-22\",\"2022-01-23\",\"2022-01-24\",\"2022-01-25\",\"2022-01-26\",\"2022-01-27\",\"2022-01-28\",\"2022-01-29\",\"2022-01-30\",\"2022-01-31\",\"2022-02-01\",\"2022-02-02\",\"2022-02-03\",\"2022-02-04\",\"2022-02-05\",\"2022-02-06\",\"2022-02-07\",\"2022-02-08\",\"2022-02-09\",\"2022-02-10\",\"2022-02-11\",\"2022-02-12\",\"2022-02-13\",\"2022-02-14\",\"2022-02-15\",\"2022-02-16\",\"2022-02-17\",\"2022-02-18\",\"2022-02-19\",\"2022-02-20\",\"2022-02-21\",\"2022-02-22\",\"2022-02-23\",\"2022-02-24\",\"2022-02-25\",\"2022-02-26\",\"2022-02-27\",\"2022-02-28\",\"2022-03-01\",\"2022-03-02\",\"2022-03-03\",\"2022-03-04\",\"2022-03-05\",\"2022-03-06\",\"2022-03-07\",\"2022-03-08\",\"2022-03-09\",\"2022-03-10\",\"2022-03-11\",\"2022-03-12\",\"2022-03-13\",\"2022-03-14\",\"2022-03-15\",\"2022-03-16\",\"2022-03-17\",\"2022-03-18\",\"2022-03-19\",\"2022-03-20\",\"2022-03-21\",\"2022-03-22\",\"2022-03-23\",\"2022-03-24\",\"2022-03-25\",\"2022-03-26\",\"2022-03-27\",\"2022-03-28\",\"2022-03-29\",\"2022-03-30\",\"2022-03-31\",\"2022-04-01\",\"2022-04-02\",\"2022-04-03\",\"2022-04-04\",\"2022-04-05\",\"2022-04-06\",\"2022-04-07\",\"2022-04-08\",\"2022-04-09\",\"2022-04-10\",\"2022-04-11\",\"2022-04-12\",\"2022-04-13\",\"2022-04-14\",\"2022-04-15\",\"2022-04-16\",\"2022-04-17\",\"2022-04-18\",\"2022-04-19\",\"2022-04-20\",\"2022-04-21\",\"2022-04-22\",\"2022-04-23\",\"2022-04-24\",\"2022-04-25\",\"2022-04-26\",\"2022-04-27\",\"2022-04-28\",\"2022-04-29\",\"2022-04-30\",\"2022-05-01\",\"2022-05-02\",\"2022-05-03\",\"2022-05-04\",\"2022-05-05\",\"2022-05-06\",\"2022-05-07\",\"2022-05-08\",\"2022-05-09\",\"2022-05-10\",\"2022-05-11\",\"2022-05-12\",\"2022-05-13\",\"2022-05-14\",\"2022-05-15\",\"2022-05-16\",\"2022-05-17\",\"2022-05-18\",\"2022-05-19\",\"2022-05-20\",\"2022-05-21\",\"2022-05-22\",\"2022-05-23\",\"2022-05-24\",\"2022-05-25\",\"2022-05-26\",\"2022-05-27\",\"2022-05-28\",\"2022-05-29\",\"2022-05-30\",\"2022-05-31\",\"2022-06-01\",\"2022-06-02\",\"2022-06-03\",\"2022-06-04\",\"2022-06-05\",\"2022-06-06\",\"2022-06-07\",\"2022-06-08\",\"2022-06-09\",\"2022-06-10\",\"2022-06-11\",\"2022-06-12\",\"2022-06-13\",\"2022-06-14\",\"2022-06-15\",\"2022-06-16\",\"2022-06-17\",\"2022-06-18\",\"2022-06-19\",\"2022-06-20\",\"2022-06-21\",\"2022-06-22\",\"2022-06-23\",\"2022-06-24\",\"2022-06-25\",\"2022-06-26\",\"2022-06-27\",\"2022-06-28\",\"2022-06-29\",\"2022-06-30\",\"2022-07-01\",\"2022-07-02\",\"2022-07-03\",\"2022-07-04\",\"2022-07-05\",\"2022-07-06\",\"2022-07-07\",\"2022-07-08\",\"2022-07-09\",\"2022-07-10\",\"2022-07-11\",\"2022-07-12\",\"2022-07-13\",\"2022-07-14\",\"2022-07-15\",\"2022-07-16\",\"2022-07-17\",\"2022-07-18\",\"2022-07-19\",\"2022-07-20\",\"2022-07-21\",\"2022-07-22\",\"2022-07-23\",\"2022-07-24\",\"2022-07-25\",\"2022-07-26\",\"2022-07-27\",\"2022-07-28\",\"2022-07-29\",\"2022-07-30\",\"2022-07-31\",\"2022-08-01\",\"2022-08-02\",\"2022-08-03\",\"2022-08-04\",\"2022-08-05\",\"2022-08-06\",\"2022-08-07\",\"2022-08-08\",\"2022-08-09\",\"2022-08-10\",\"2022-08-11\",\"2022-08-12\",\"2022-08-13\",\"2022-08-14\",\"2022-08-15\",\"2022-08-16\",\"2022-08-17\",\"2022-08-18\",\"2022-08-19\",\"2022-08-20\",\"2022-08-21\",\"2022-08-22\",\"2022-08-23\",\"2022-08-24\",\"2022-08-25\",\"2022-08-26\",\"2022-08-27\",\"2022-08-28\",\"2022-08-29\",\"2022-08-30\",\"2022-08-31\",\"2022-09-01\",\"2022-09-02\",\"2022-09-03\",\"2022-09-04\",\"2022-09-05\",\"2022-09-06\",\"2022-09-07\",\"2022-09-08\",\"2022-09-09\",\"2022-09-10\",\"2022-09-11\",\"2022-09-12\",\"2022-09-13\",\"2022-09-14\",\"2022-09-15\",\"2022-09-16\",\"2022-09-17\",\"2022-09-18\",\"2022-09-19\",\"2022-09-20\",\"2022-09-21\",\"2022-09-22\",\"2022-09-23\",\"2022-09-24\",\"2022-09-25\",\"2022-09-26\",\"2022-09-27\",\"2022-09-28\",\"2022-09-29\",\"2022-09-30\",\"2022-10-01\",\"2022-10-02\",\"2022-10-03\",\"2022-10-04\",\"2022-10-05\",\"2022-10-06\",\"2022-10-07\",\"2022-10-08\",\"2022-10-09\",\"2022-10-10\",\"2022-10-11\",\"2022-10-12\",\"2022-10-13\",\"2022-10-14\",\"2022-10-15\",\"2022-10-16\",\"2022-10-17\",\"2022-10-18\",\"2022-10-19\",\"2022-10-20\",\"2022-10-21\",\"2022-10-22\",\"2022-10-23\",\"2022-10-24\",\"2022-10-25\",\"2022-10-26\",\"2022-10-27\",\"2022-10-28\",\"2022-10-29\",\"2022-10-30\",\"2022-10-31\",\"2022-11-01\",\"2022-11-02\",\"2022-11-03\",\"2022-11-04\",\"2022-11-05\",\"2022-11-06\",\"2022-11-07\",\"2022-11-08\",\"2022-11-09\",\"2022-11-10\",\"2022-11-11\",\"2022-11-12\",\"2022-11-13\",\"2022-11-14\",\"2022-11-15\",\"2022-11-16\",\"2022-11-17\",\"2022-11-18\",\"2022-11-19\",\"2022-11-20\",\"2022-11-21\",\"2022-11-22\",\"2022-11-23\",\"2022-11-24\",\"2022-11-25\",\"2022-11-26\",\"2022-11-27\",\"2022-11-28\",\"2022-11-29\",\"2022-11-30\",\"2022-12-01\",\"2022-12-02\",\"2022-12-03\",\"2022-12-04\",\"2022-12-05\",\"2022-12-06\",\"2022-12-07\",\"2022-12-08\",\"2022-12-09\",\"2022-12-10\",\"2022-12-11\",\"2022-12-12\",\"2022-12-13\",\"2022-12-14\",\"2022-12-15\",\"2022-12-16\",\"2022-12-17\",\"2022-12-18\",\"2022-12-19\",\"2022-12-20\",\"2022-12-21\",\"2022-12-22\",\"2022-12-23\",\"2022-12-24\",\"2022-12-25\",\"2022-12-26\",\"2022-12-27\",\"2022-12-28\",\"2022-12-29\",\"2022-12-30\",\"2022-12-31\"],\"y\":[8533.0,10839.5,11230.333333333334,11234.75,11219.6,11044.166666666666,11059.285714285714,11029.0,10406.42857142857,9907.57142857143,9444.714285714286,9501.0,9414.857142857143,9364.714285714286,9427.57142857143,9553.57142857143,9807.714285714286,10317.42857142857,10308.0,10548.285714285714,11089.285714285714,11298.142857142857,11345.0,11401.0,11306.142857142857,11251.285714285714,11416.285714285714,11279.42857142857,11400.0,11991.0,12204.714285714286,12248.42857142857,12315.0,12472.857142857143,12287.0,12337.0,11745.42857142857,11617.857142857143,12115.857142857143,12376.57142857143,12227.57142857143,12602.57142857143,12433.0,13078.285714285714,13427.0,13190.857142857143,13155.857142857143,13167.42857142857,13005.714285714286,13062.0,12710.142857142857,12414.285714285714,12316.42857142857,12608.142857142857,12636.0,13729.857142857143,15314.285714285714,15735.0,16230.57142857143,17169.14285714286,17664.0,17580.85714285714,16266.285714285714,14521.714285714286,14384.285714285714,13876.57142857143,12781.57142857143,11560.142857142857,11523.285714285714,11341.57142857143,11552.42857142857,11201.42857142857,11342.0,11494.57142857143,12022.142857142857,12117.857142857143,12452.142857142857,12494.142857142857,12361.42857142857,12312.57142857143,12418.57142857143,12450.57142857143,12620.285714285714,12572.42857142857,12640.285714285714,12773.285714285714,13076.285714285714,12952.42857142857,12804.142857142857,12726.142857142857,12538.0,12371.57142857143,12545.714285714286,12299.57142857143,12445.714285714286,12615.857142857143,12539.857142857143,12792.0,12879.142857142857,12658.857142857143,12492.57142857143,12477.57142857143,12272.714285714286,13055.857142857143,13585.285714285714,13760.857142857143,14562.857142857143,14590.285714285714,14266.285714285714,14249.57142857143,14406.714285714286,14088.285714285714,14326.57142857143,14442.0,14810.142857142857,15160.42857142857,15365.285714285714,14416.42857142857,14436.714285714286,14213.142857142857,13472.285714285714,13574.142857142857,13767.285714285714,13779.57142857143,14298.0,14539.42857142857,14055.857142857143,13435.0,13101.0,12669.42857142857,12174.285714285714,12036.714285714286,10996.42857142857,10869.714285714286,10674.142857142857,10383.857142857143,10215.42857142857,9905.857142857143,8955.857142857143,9005.0,8904.142857142857,8874.857142857143,9339.57142857143,9584.714285714286,10232.42857142857,10662.142857142857,11123.42857142857,11677.142857142857,12292.42857142857,11966.57142857143,11756.142857142857,11100.0,11018.57142857143,10819.42857142857,10687.57142857143,10666.857142857143,10697.285714285714,10608.0,11125.0,11212.142857142857,11517.857142857143,11567.714285714286,11499.42857142857,11975.57142857143,12054.42857142857,12351.857142857143,12734.0,11813.285714285714,11264.42857142857,11751.57142857143,10962.57142857143,10771.714285714286,10152.142857142857,9558.0,9976.42857142857,10430.142857142857,9997.857142857143,10074.857142857143,10186.0,10085.0,10138.57142857143,10022.285714285714,10077.857142857143,10016.57142857143,10107.42857142857,9964.0,10053.714285714286,9853.0,10044.857142857143,9837.857142857143,9930.42857142857,10062.285714285714,10358.0,10368.714285714286,10625.142857142857,10618.714285714286,10516.0,10375.42857142857,10156.857142857143,10052.857142857143,10084.857142857143,9896.142857142857,10019.57142857143,10102.57142857143,9987.142857142857,9961.142857142857,9731.285714285714,9603.57142857143,9671.142857142857,9449.42857142857,9434.0,9420.42857142857,9359.42857142857,9500.285714285714,9555.0,9489.285714285714,9555.857142857143,9437.285714285714,9298.857142857143,9459.714285714286,9336.142857142857,9479.0,9589.42857142857,9798.857142857143,9820.0,9829.857142857143,9963.714285714286,10340.857142857143,10360.285714285714,10458.57142857143,10098.142857142857,10185.42857142857,10368.57142857143,10559.142857142857,10420.142857142857,10518.285714285714,10584.142857142857,10990.285714285714,11144.285714285714,11363.142857142857,10995.714285714286,10958.142857142857,10968.42857142857,10823.285714285714,10565.714285714286,10543.714285714286,10544.857142857143,11006.857142857143,10974.285714285714,10897.714285714286,10886.857142857143,11170.57142857143,11158.42857142857,11085.57142857143,10689.714285714286,10700.714285714286,10366.42857142857,10456.142857142857,10344.714285714286,10408.42857142857,10365.57142857143,10420.0,10761.142857142857,11270.285714285714,11223.142857142857,11395.42857142857,11454.0,11374.142857142857,11434.42857142857,10934.857142857143,10709.714285714286,10866.285714285714,11014.285714285714,11548.57142857143,12442.714285714286,12277.857142857143,12376.714285714286,12337.42857142857,12002.0,11691.0,11177.285714285714,10281.0,10165.0,10347.857142857143,10473.142857142857,10675.142857142857,10639.142857142857,10518.57142857143,10682.285714285714,11055.57142857143,10958.0,11028.714285714286,10968.714285714286,10978.285714285714,10990.142857142857,10674.714285714286,10589.0,10523.142857142857,10422.57142857143,10361.142857142857,11416.857142857143,12610.285714285714,13506.57142857143,12841.714285714286,12263.285714285714,12115.142857142857,11648.714285714286,10038.714285714286,8376.857142857143,7674.714285714285,8185.571428571428,8662.0,8799.57142857143,9166.142857142857,9945.0,11126.857142857143,11537.57142857143,11744.142857142857,12797.142857142857,12748.57142857143,12771.285714285714,12459.57142857143,11474.0,10789.285714285714,9840.0,8569.42857142857,7849.571428571428,7060.571428571428,6774.0,6769.571428571428,6781.142857142857,7215.571428571428,7346.142857142857,7785.714285714285,8495.42857142857,8326.0,8456.0,8599.714285714286,8799.857142857143,9105.285714285714,9449.714285714286,9777.142857142857,10219.285714285714,10333.285714285714,10513.285714285714,10717.142857142857,10409.142857142857,10515.0,10609.857142857143,10901.285714285714,11731.142857142857,12019.0,11891.857142857143,12451.142857142857,12590.857142857143,12584.42857142857,13094.857142857143,12836.142857142857,12660.857142857143,13354.142857142857,13297.142857142857,13104.714285714286,13149.57142857143,13046.42857142857,12983.857142857143],\"type\":\"scatter\",\"xaxis\":\"x2\",\"yaxis\":\"y2\"}],                        {\"template\":{\"data\":{\"histogram2dcontour\":[{\"type\":\"histogram2dcontour\",\"colorbar\":{\"outlinewidth\":0,\"ticks\":\"\"},\"colorscale\":[[0.0,\"#0d0887\"],[0.1111111111111111,\"#46039f\"],[0.2222222222222222,\"#7201a8\"],[0.3333333333333333,\"#9c179e\"],[0.4444444444444444,\"#bd3786\"],[0.5555555555555556,\"#d8576b\"],[0.6666666666666666,\"#ed7953\"],[0.7777777777777778,\"#fb9f3a\"],[0.8888888888888888,\"#fdca26\"],[1.0,\"#f0f921\"]]}],\"choropleth\":[{\"type\":\"choropleth\",\"colorbar\":{\"outlinewidth\":0,\"ticks\":\"\"}}],\"histogram2d\":[{\"type\":\"histogram2d\",\"colorbar\":{\"outlinewidth\":0,\"ticks\":\"\"},\"colorscale\":[[0.0,\"#0d0887\"],[0.1111111111111111,\"#46039f\"],[0.2222222222222222,\"#7201a8\"],[0.3333333333333333,\"#9c179e\"],[0.4444444444444444,\"#bd3786\"],[0.5555555555555556,\"#d8576b\"],[0.6666666666666666,\"#ed7953\"],[0.7777777777777778,\"#fb9f3a\"],[0.8888888888888888,\"#fdca26\"],[1.0,\"#f0f921\"]]}],\"heatmap\":[{\"type\":\"heatmap\",\"colorbar\":{\"outlinewidth\":0,\"ticks\":\"\"},\"colorscale\":[[0.0,\"#0d0887\"],[0.1111111111111111,\"#46039f\"],[0.2222222222222222,\"#7201a8\"],[0.3333333333333333,\"#9c179e\"],[0.4444444444444444,\"#bd3786\"],[0.5555555555555556,\"#d8576b\"],[0.6666666666666666,\"#ed7953\"],[0.7777777777777778,\"#fb9f3a\"],[0.8888888888888888,\"#fdca26\"],[1.0,\"#f0f921\"]]}],\"heatmapgl\":[{\"type\":\"heatmapgl\",\"colorbar\":{\"outlinewidth\":0,\"ticks\":\"\"},\"colorscale\":[[0.0,\"#0d0887\"],[0.1111111111111111,\"#46039f\"],[0.2222222222222222,\"#7201a8\"],[0.3333333333333333,\"#9c179e\"],[0.4444444444444444,\"#bd3786\"],[0.5555555555555556,\"#d8576b\"],[0.6666666666666666,\"#ed7953\"],[0.7777777777777778,\"#fb9f3a\"],[0.8888888888888888,\"#fdca26\"],[1.0,\"#f0f921\"]]}],\"contourcarpet\":[{\"type\":\"contourcarpet\",\"colorbar\":{\"outlinewidth\":0,\"ticks\":\"\"}}],\"contour\":[{\"type\":\"contour\",\"colorbar\":{\"outlinewidth\":0,\"ticks\":\"\"},\"colorscale\":[[0.0,\"#0d0887\"],[0.1111111111111111,\"#46039f\"],[0.2222222222222222,\"#7201a8\"],[0.3333333333333333,\"#9c179e\"],[0.4444444444444444,\"#bd3786\"],[0.5555555555555556,\"#d8576b\"],[0.6666666666666666,\"#ed7953\"],[0.7777777777777778,\"#fb9f3a\"],[0.8888888888888888,\"#fdca26\"],[1.0,\"#f0f921\"]]}],\"surface\":[{\"type\":\"surface\",\"colorbar\":{\"outlinewidth\":0,\"ticks\":\"\"},\"colorscale\":[[0.0,\"#0d0887\"],[0.1111111111111111,\"#46039f\"],[0.2222222222222222,\"#7201a8\"],[0.3333333333333333,\"#9c179e\"],[0.4444444444444444,\"#bd3786\"],[0.5555555555555556,\"#d8576b\"],[0.6666666666666666,\"#ed7953\"],[0.7777777777777778,\"#fb9f3a\"],[0.8888888888888888,\"#fdca26\"],[1.0,\"#f0f921\"]]}],\"mesh3d\":[{\"type\":\"mesh3d\",\"colorbar\":{\"outlinewidth\":0,\"ticks\":\"\"}}],\"scatter\":[{\"fillpattern\":{\"fillmode\":\"overlay\",\"size\":10,\"solidity\":0.2},\"type\":\"scatter\"}],\"parcoords\":[{\"type\":\"parcoords\",\"line\":{\"colorbar\":{\"outlinewidth\":0,\"ticks\":\"\"}}}],\"scatterpolargl\":[{\"type\":\"scatterpolargl\",\"marker\":{\"colorbar\":{\"outlinewidth\":0,\"ticks\":\"\"}}}],\"bar\":[{\"error_x\":{\"color\":\"#2a3f5f\"},\"error_y\":{\"color\":\"#2a3f5f\"},\"marker\":{\"line\":{\"color\":\"#E5ECF6\",\"width\":0.5},\"pattern\":{\"fillmode\":\"overlay\",\"size\":10,\"solidity\":0.2}},\"type\":\"bar\"}],\"scattergeo\":[{\"type\":\"scattergeo\",\"marker\":{\"colorbar\":{\"outlinewidth\":0,\"ticks\":\"\"}}}],\"scatterpolar\":[{\"type\":\"scatterpolar\",\"marker\":{\"colorbar\":{\"outlinewidth\":0,\"ticks\":\"\"}}}],\"histogram\":[{\"marker\":{\"pattern\":{\"fillmode\":\"overlay\",\"size\":10,\"solidity\":0.2}},\"type\":\"histogram\"}],\"scattergl\":[{\"type\":\"scattergl\",\"marker\":{\"colorbar\":{\"outlinewidth\":0,\"ticks\":\"\"}}}],\"scatter3d\":[{\"type\":\"scatter3d\",\"line\":{\"colorbar\":{\"outlinewidth\":0,\"ticks\":\"\"}},\"marker\":{\"colorbar\":{\"outlinewidth\":0,\"ticks\":\"\"}}}],\"scattermapbox\":[{\"type\":\"scattermapbox\",\"marker\":{\"colorbar\":{\"outlinewidth\":0,\"ticks\":\"\"}}}],\"scatterternary\":[{\"type\":\"scatterternary\",\"marker\":{\"colorbar\":{\"outlinewidth\":0,\"ticks\":\"\"}}}],\"scattercarpet\":[{\"type\":\"scattercarpet\",\"marker\":{\"colorbar\":{\"outlinewidth\":0,\"ticks\":\"\"}}}],\"carpet\":[{\"aaxis\":{\"endlinecolor\":\"#2a3f5f\",\"gridcolor\":\"white\",\"linecolor\":\"white\",\"minorgridcolor\":\"white\",\"startlinecolor\":\"#2a3f5f\"},\"baxis\":{\"endlinecolor\":\"#2a3f5f\",\"gridcolor\":\"white\",\"linecolor\":\"white\",\"minorgridcolor\":\"white\",\"startlinecolor\":\"#2a3f5f\"},\"type\":\"carpet\"}],\"table\":[{\"cells\":{\"fill\":{\"color\":\"#EBF0F8\"},\"line\":{\"color\":\"white\"}},\"header\":{\"fill\":{\"color\":\"#C8D4E3\"},\"line\":{\"color\":\"white\"}},\"type\":\"table\"}],\"barpolar\":[{\"marker\":{\"line\":{\"color\":\"#E5ECF6\",\"width\":0.5},\"pattern\":{\"fillmode\":\"overlay\",\"size\":10,\"solidity\":0.2}},\"type\":\"barpolar\"}],\"pie\":[{\"automargin\":true,\"type\":\"pie\"}]},\"layout\":{\"autotypenumbers\":\"strict\",\"colorway\":[\"#636efa\",\"#EF553B\",\"#00cc96\",\"#ab63fa\",\"#FFA15A\",\"#19d3f3\",\"#FF6692\",\"#B6E880\",\"#FF97FF\",\"#FECB52\"],\"font\":{\"color\":\"#2a3f5f\"},\"hovermode\":\"closest\",\"hoverlabel\":{\"align\":\"left\"},\"paper_bgcolor\":\"white\",\"plot_bgcolor\":\"#E5ECF6\",\"polar\":{\"bgcolor\":\"#E5ECF6\",\"angularaxis\":{\"gridcolor\":\"white\",\"linecolor\":\"white\",\"ticks\":\"\"},\"radialaxis\":{\"gridcolor\":\"white\",\"linecolor\":\"white\",\"ticks\":\"\"}},\"ternary\":{\"bgcolor\":\"#E5ECF6\",\"aaxis\":{\"gridcolor\":\"white\",\"linecolor\":\"white\",\"ticks\":\"\"},\"baxis\":{\"gridcolor\":\"white\",\"linecolor\":\"white\",\"ticks\":\"\"},\"caxis\":{\"gridcolor\":\"white\",\"linecolor\":\"white\",\"ticks\":\"\"}},\"coloraxis\":{\"colorbar\":{\"outlinewidth\":0,\"ticks\":\"\"}},\"colorscale\":{\"sequential\":[[0.0,\"#0d0887\"],[0.1111111111111111,\"#46039f\"],[0.2222222222222222,\"#7201a8\"],[0.3333333333333333,\"#9c179e\"],[0.4444444444444444,\"#bd3786\"],[0.5555555555555556,\"#d8576b\"],[0.6666666666666666,\"#ed7953\"],[0.7777777777777778,\"#fb9f3a\"],[0.8888888888888888,\"#fdca26\"],[1.0,\"#f0f921\"]],\"sequentialminus\":[[0.0,\"#0d0887\"],[0.1111111111111111,\"#46039f\"],[0.2222222222222222,\"#7201a8\"],[0.3333333333333333,\"#9c179e\"],[0.4444444444444444,\"#bd3786\"],[0.5555555555555556,\"#d8576b\"],[0.6666666666666666,\"#ed7953\"],[0.7777777777777778,\"#fb9f3a\"],[0.8888888888888888,\"#fdca26\"],[1.0,\"#f0f921\"]],\"diverging\":[[0,\"#8e0152\"],[0.1,\"#c51b7d\"],[0.2,\"#de77ae\"],[0.3,\"#f1b6da\"],[0.4,\"#fde0ef\"],[0.5,\"#f7f7f7\"],[0.6,\"#e6f5d0\"],[0.7,\"#b8e186\"],[0.8,\"#7fbc41\"],[0.9,\"#4d9221\"],[1,\"#276419\"]]},\"xaxis\":{\"gridcolor\":\"white\",\"linecolor\":\"white\",\"ticks\":\"\",\"title\":{\"standoff\":15},\"zerolinecolor\":\"white\",\"automargin\":true,\"zerolinewidth\":2},\"yaxis\":{\"gridcolor\":\"white\",\"linecolor\":\"white\",\"ticks\":\"\",\"title\":{\"standoff\":15},\"zerolinecolor\":\"white\",\"automargin\":true,\"zerolinewidth\":2},\"scene\":{\"xaxis\":{\"backgroundcolor\":\"#E5ECF6\",\"gridcolor\":\"white\",\"linecolor\":\"white\",\"showbackground\":true,\"ticks\":\"\",\"zerolinecolor\":\"white\",\"gridwidth\":2},\"yaxis\":{\"backgroundcolor\":\"#E5ECF6\",\"gridcolor\":\"white\",\"linecolor\":\"white\",\"showbackground\":true,\"ticks\":\"\",\"zerolinecolor\":\"white\",\"gridwidth\":2},\"zaxis\":{\"backgroundcolor\":\"#E5ECF6\",\"gridcolor\":\"white\",\"linecolor\":\"white\",\"showbackground\":true,\"ticks\":\"\",\"zerolinecolor\":\"white\",\"gridwidth\":2}},\"shapedefaults\":{\"line\":{\"color\":\"#2a3f5f\"}},\"annotationdefaults\":{\"arrowcolor\":\"#2a3f5f\",\"arrowhead\":0,\"arrowwidth\":1},\"geo\":{\"bgcolor\":\"white\",\"landcolor\":\"#E5ECF6\",\"subunitcolor\":\"white\",\"showland\":true,\"showlakes\":true,\"lakecolor\":\"white\"},\"title\":{\"x\":0.05},\"mapbox\":{\"style\":\"light\"}}},\"xaxis\":{\"anchor\":\"y\",\"domain\":[0.0,0.45]},\"yaxis\":{\"anchor\":\"x\",\"domain\":[0.0,1.0]},\"xaxis2\":{\"anchor\":\"y2\",\"domain\":[0.55,1.0]},\"yaxis2\":{\"anchor\":\"x2\",\"domain\":[0.0,1.0]},\"legend\":{\"orientation\":\"h\",\"yanchor\":\"bottom\",\"y\":1.02,\"xanchor\":\"right\",\"x\":1},\"title\":{\"text\":\"Traffic Violation Analyses per Day - Grid System\"},\"showlegend\":true},                        {\"responsive\": true}                    ).then(function(){\n",
              "                            \n",
              "var gd = document.getElementById('f2c8729e-7bc1-40ca-90b5-f999d57e0120');\n",
              "var x = new MutationObserver(function (mutations, observer) {{\n",
              "        var display = window.getComputedStyle(gd).display;\n",
              "        if (!display || display === 'none') {{\n",
              "            console.log([gd, 'removed!']);\n",
              "            Plotly.purge(gd);\n",
              "            observer.disconnect();\n",
              "        }}\n",
              "}});\n",
              "\n",
              "// Listen for the removal of the full notebook cells\n",
              "var notebookContainer = gd.closest('#notebook-container');\n",
              "if (notebookContainer) {{\n",
              "    x.observe(notebookContainer, {childList: true});\n",
              "}}\n",
              "\n",
              "// Listen for the clearing of the current output cell\n",
              "var outputEl = gd.closest('.output');\n",
              "if (outputEl) {{\n",
              "    x.observe(outputEl, {childList: true});\n",
              "}}\n",
              "\n",
              "                        })                };                            </script>        </div>\n",
              "</body>\n",
              "</html>"
            ]
          },
          "metadata": {}
        }
      ]
    },
    {
      "cell_type": "code",
      "source": [
        "# Grid\n",
        "Grid = make_subplots( rows=1, cols= 1 )\n",
        "\n",
        "# Graph 1\n",
        "Grid.add_trace(\n",
        "    go.Scatter(\n",
        "        x=df_violations_per_day['Date'],\n",
        "        y=df_violations_per_day['Violations_Count'],\n",
        "        mode='lines',\n",
        "        name='Violations Count'\n",
        "    ),\n",
        "    row=1, col=1\n",
        ")\n",
        "\n",
        "# Graph 2\n",
        "Grid.add_trace(\n",
        "    go.Scatter(\n",
        "        x=df_violations_per_day['Date'],\n",
        "        y=df_violations_per_day['moving_avarage'],\n",
        "        mode='lines',\n",
        "        name='Moving Avarage'\n",
        "    ),\n",
        "    row=1, col=1\n",
        ")\n",
        "\n",
        "# Layout Adjust\n",
        "Grid.update_layout(\n",
        "\n",
        "    # Title\n",
        "    title='Traffic Violation Analyses per Day',\n",
        "\n",
        "    # Legend\n",
        "    showlegend=True,\n",
        "    legend=dict(\n",
        "        orientation='h',\n",
        "        yanchor='bottom',\n",
        "        y=1.02,\n",
        "        xanchor='right',\n",
        "        x=1\n",
        "    )\n",
        ")\n",
        "\n",
        "Grid"
      ],
      "metadata": {
        "colab": {
          "base_uri": "https://localhost:8080/",
          "height": 542
        },
        "id": "10BqUg61ypqV",
        "outputId": "302c1e4c-7970-4f44-b544-6e18ed027585"
      },
      "execution_count": 44,
      "outputs": [
        {
          "output_type": "display_data",
          "data": {
            "text/html": [
              "<html>\n",
              "<head><meta charset=\"utf-8\" /></head>\n",
              "<body>\n",
              "    <div>            <script src=\"https://cdnjs.cloudflare.com/ajax/libs/mathjax/2.7.5/MathJax.js?config=TeX-AMS-MML_SVG\"></script><script type=\"text/javascript\">if (window.MathJax && window.MathJax.Hub && window.MathJax.Hub.Config) {window.MathJax.Hub.Config({SVG: {font: \"STIX-Web\"}});}</script>                <script type=\"text/javascript\">window.PlotlyConfig = {MathJaxConfig: 'local'};</script>\n",
              "        <script src=\"https://cdn.plot.ly/plotly-2.18.2.min.js\"></script>                <div id=\"a5a026c9-3e86-4d08-8c24-405ae6f8862a\" class=\"plotly-graph-div\" style=\"height:525px; width:100%;\"></div>            <script type=\"text/javascript\">                                    window.PLOTLYENV=window.PLOTLYENV || {};                                    if (document.getElementById(\"a5a026c9-3e86-4d08-8c24-405ae6f8862a\")) {                    Plotly.newPlot(                        \"a5a026c9-3e86-4d08-8c24-405ae6f8862a\",                        [{\"mode\":\"lines\",\"name\":\"Violations Count\",\"x\":[\"2022-01-01\",\"2022-01-02\",\"2022-01-03\",\"2022-01-04\",\"2022-01-05\",\"2022-01-06\",\"2022-01-07\",\"2022-01-08\",\"2022-01-09\",\"2022-01-10\",\"2022-01-11\",\"2022-01-12\",\"2022-01-13\",\"2022-01-14\",\"2022-01-15\",\"2022-01-16\",\"2022-01-17\",\"2022-01-18\",\"2022-01-19\",\"2022-01-20\",\"2022-01-21\",\"2022-01-22\",\"2022-01-23\",\"2022-01-24\",\"2022-01-25\",\"2022-01-26\",\"2022-01-27\",\"2022-01-28\",\"2022-01-29\",\"2022-01-30\",\"2022-01-31\",\"2022-02-01\",\"2022-02-02\",\"2022-02-03\",\"2022-02-04\",\"2022-02-05\",\"2022-02-06\",\"2022-02-07\",\"2022-02-08\",\"2022-02-09\",\"2022-02-10\",\"2022-02-11\",\"2022-02-12\",\"2022-02-13\",\"2022-02-14\",\"2022-02-15\",\"2022-02-16\",\"2022-02-17\",\"2022-02-18\",\"2022-02-19\",\"2022-02-20\",\"2022-02-21\",\"2022-02-22\",\"2022-02-23\",\"2022-02-24\",\"2022-02-25\",\"2022-02-26\",\"2022-02-27\",\"2022-02-28\",\"2022-03-01\",\"2022-03-02\",\"2022-03-03\",\"2022-03-04\",\"2022-03-05\",\"2022-03-06\",\"2022-03-07\",\"2022-03-08\",\"2022-03-09\",\"2022-03-10\",\"2022-03-11\",\"2022-03-12\",\"2022-03-13\",\"2022-03-14\",\"2022-03-15\",\"2022-03-16\",\"2022-03-17\",\"2022-03-18\",\"2022-03-19\",\"2022-03-20\",\"2022-03-21\",\"2022-03-22\",\"2022-03-23\",\"2022-03-24\",\"2022-03-25\",\"2022-03-26\",\"2022-03-27\",\"2022-03-28\",\"2022-03-29\",\"2022-03-30\",\"2022-03-31\",\"2022-04-01\",\"2022-04-02\",\"2022-04-03\",\"2022-04-04\",\"2022-04-05\",\"2022-04-06\",\"2022-04-07\",\"2022-04-08\",\"2022-04-09\",\"2022-04-10\",\"2022-04-11\",\"2022-04-12\",\"2022-04-13\",\"2022-04-14\",\"2022-04-15\",\"2022-04-16\",\"2022-04-17\",\"2022-04-18\",\"2022-04-19\",\"2022-04-20\",\"2022-04-21\",\"2022-04-22\",\"2022-04-23\",\"2022-04-24\",\"2022-04-25\",\"2022-04-26\",\"2022-04-27\",\"2022-04-28\",\"2022-04-29\",\"2022-04-30\",\"2022-05-01\",\"2022-05-02\",\"2022-05-03\",\"2022-05-04\",\"2022-05-05\",\"2022-05-06\",\"2022-05-07\",\"2022-05-08\",\"2022-05-09\",\"2022-05-10\",\"2022-05-11\",\"2022-05-12\",\"2022-05-13\",\"2022-05-14\",\"2022-05-15\",\"2022-05-16\",\"2022-05-17\",\"2022-05-18\",\"2022-05-19\",\"2022-05-20\",\"2022-05-21\",\"2022-05-22\",\"2022-05-23\",\"2022-05-24\",\"2022-05-25\",\"2022-05-26\",\"2022-05-27\",\"2022-05-28\",\"2022-05-29\",\"2022-05-30\",\"2022-05-31\",\"2022-06-01\",\"2022-06-02\",\"2022-06-03\",\"2022-06-04\",\"2022-06-05\",\"2022-06-06\",\"2022-06-07\",\"2022-06-08\",\"2022-06-09\",\"2022-06-10\",\"2022-06-11\",\"2022-06-12\",\"2022-06-13\",\"2022-06-14\",\"2022-06-15\",\"2022-06-16\",\"2022-06-17\",\"2022-06-18\",\"2022-06-19\",\"2022-06-20\",\"2022-06-21\",\"2022-06-22\",\"2022-06-23\",\"2022-06-24\",\"2022-06-25\",\"2022-06-26\",\"2022-06-27\",\"2022-06-28\",\"2022-06-29\",\"2022-06-30\",\"2022-07-01\",\"2022-07-02\",\"2022-07-03\",\"2022-07-04\",\"2022-07-05\",\"2022-07-06\",\"2022-07-07\",\"2022-07-08\",\"2022-07-09\",\"2022-07-10\",\"2022-07-11\",\"2022-07-12\",\"2022-07-13\",\"2022-07-14\",\"2022-07-15\",\"2022-07-16\",\"2022-07-17\",\"2022-07-18\",\"2022-07-19\",\"2022-07-20\",\"2022-07-21\",\"2022-07-22\",\"2022-07-23\",\"2022-07-24\",\"2022-07-25\",\"2022-07-26\",\"2022-07-27\",\"2022-07-28\",\"2022-07-29\",\"2022-07-30\",\"2022-07-31\",\"2022-08-01\",\"2022-08-02\",\"2022-08-03\",\"2022-08-04\",\"2022-08-05\",\"2022-08-06\",\"2022-08-07\",\"2022-08-08\",\"2022-08-09\",\"2022-08-10\",\"2022-08-11\",\"2022-08-12\",\"2022-08-13\",\"2022-08-14\",\"2022-08-15\",\"2022-08-16\",\"2022-08-17\",\"2022-08-18\",\"2022-08-19\",\"2022-08-20\",\"2022-08-21\",\"2022-08-22\",\"2022-08-23\",\"2022-08-24\",\"2022-08-25\",\"2022-08-26\",\"2022-08-27\",\"2022-08-28\",\"2022-08-29\",\"2022-08-30\",\"2022-08-31\",\"2022-09-01\",\"2022-09-02\",\"2022-09-03\",\"2022-09-04\",\"2022-09-05\",\"2022-09-06\",\"2022-09-07\",\"2022-09-08\",\"2022-09-09\",\"2022-09-10\",\"2022-09-11\",\"2022-09-12\",\"2022-09-13\",\"2022-09-14\",\"2022-09-15\",\"2022-09-16\",\"2022-09-17\",\"2022-09-18\",\"2022-09-19\",\"2022-09-20\",\"2022-09-21\",\"2022-09-22\",\"2022-09-23\",\"2022-09-24\",\"2022-09-25\",\"2022-09-26\",\"2022-09-27\",\"2022-09-28\",\"2022-09-29\",\"2022-09-30\",\"2022-10-01\",\"2022-10-02\",\"2022-10-03\",\"2022-10-04\",\"2022-10-05\",\"2022-10-06\",\"2022-10-07\",\"2022-10-08\",\"2022-10-09\",\"2022-10-10\",\"2022-10-11\",\"2022-10-12\",\"2022-10-13\",\"2022-10-14\",\"2022-10-15\",\"2022-10-16\",\"2022-10-17\",\"2022-10-18\",\"2022-10-19\",\"2022-10-20\",\"2022-10-21\",\"2022-10-22\",\"2022-10-23\",\"2022-10-24\",\"2022-10-25\",\"2022-10-26\",\"2022-10-27\",\"2022-10-28\",\"2022-10-29\",\"2022-10-30\",\"2022-10-31\",\"2022-11-01\",\"2022-11-02\",\"2022-11-03\",\"2022-11-04\",\"2022-11-05\",\"2022-11-06\",\"2022-11-07\",\"2022-11-08\",\"2022-11-09\",\"2022-11-10\",\"2022-11-11\",\"2022-11-12\",\"2022-11-13\",\"2022-11-14\",\"2022-11-15\",\"2022-11-16\",\"2022-11-17\",\"2022-11-18\",\"2022-11-19\",\"2022-11-20\",\"2022-11-21\",\"2022-11-22\",\"2022-11-23\",\"2022-11-24\",\"2022-11-25\",\"2022-11-26\",\"2022-11-27\",\"2022-11-28\",\"2022-11-29\",\"2022-11-30\",\"2022-12-01\",\"2022-12-02\",\"2022-12-03\",\"2022-12-04\",\"2022-12-05\",\"2022-12-06\",\"2022-12-07\",\"2022-12-08\",\"2022-12-09\",\"2022-12-10\",\"2022-12-11\",\"2022-12-12\",\"2022-12-13\",\"2022-12-14\",\"2022-12-15\",\"2022-12-16\",\"2022-12-17\",\"2022-12-18\",\"2022-12-19\",\"2022-12-20\",\"2022-12-21\",\"2022-12-22\",\"2022-12-23\",\"2022-12-24\",\"2022-12-25\",\"2022-12-26\",\"2022-12-27\",\"2022-12-28\",\"2022-12-29\",\"2022-12-30\",\"2022-12-31\"],\"y\":[8533,13146,12012,11248,11159,10167,11150,8321,8788,8520,8008,11553,9564,10799,8761,9670,10299,11576,11487,11246,14586,10223,9998,10691,10912,11103,12401,13628,11067,14135,12187,11218,11569,13506,12327,11417,9994,11294,14704,13394,12463,14952,10230,14511,13735,13051,13149,12544,13820,10624,12048,11664,12366,15191,12739,21477,21715,14993,15133,18936,18655,12157,12275,9503,14031,11579,11271,10105,11899,11003,10979,11574,12563,12339,13798,12569,13343,11273,10645,12221,13081,14022,13757,13008,11748,11576,14342,12214,12984,13211,11691,10583,12795,12619,13237,14175,12679,13456,11193,11253,11455,13132,12741,18161,17162,12422,16867,11647,10864,12624,19261,14933,14090,17675,14224,13316,14058,12619,15075,12525,12489,14937,14668,14144,16248,16765,9140,8143,12599,11647,10678,15285,9483,8253,6774,10567,10468,8511,8635,9827,7547,6569,13820,12184,13045,11643,13056,11423,10876,11539,10711,8452,11073,11662,10500,10731,11752,10086,12071,11683,13802,10849,10253,15085,10638,14153,14358,7357,7007,13663,9562,9302,9816,10199,10286,10183,10637,10101,10080,9109,10574,9472,10572,10208,10737,9076,9737,9169,10815,9123,10856,11660,11146,9812,10964,10770,8404,9872,10130,10418,10036,9643,11634,8985,9064,9948,8809,9142,10116,10082,8877,8969,9521,9795,9525,9656,10548,8047,8000,10647,8930,10525,10429,12014,8195,8069,11584,11570,10661,11117,9491,8806,9351,12918,10597,11348,11578,12334,9884,10883,10346,10334,11420,10562,10531,9730,10891,13580,10106,10884,10486,12517,9645,10381,10809,10183,8544,11114,11737,10091,10081,11190,12571,12108,10784,12943,10501,9522,11612,9074,10532,11880,13979,14241,15781,10458,9766,10257,9532,11802,10645,9507,9646,11046,11134,10946,11550,9801,10653,12259,10363,11629,10526,11617,9884,8445,11659,9902,10925,10096,19007,18238,14719,7005,5853,9888,6831,7737,6605,9804,10581,9188,10851,9397,13189,14878,12679,12027,16559,10511,9556,11007,7979,7886,5382,7665,5472,4033,9001,7948,7967,8423,8579,8549,9001,7815,8858,8973,9824,10717,10960,11293,10910,9656,10233,11251,8561,11701,11957,12950,15465,12248,10361,12476,12679,11912,16523,13654,11021,15214,12077,11332,12226,15801,13216],\"type\":\"scatter\",\"xaxis\":\"x\",\"yaxis\":\"y\"},{\"mode\":\"lines\",\"name\":\"Moving Avarage\",\"x\":[\"2022-01-01\",\"2022-01-02\",\"2022-01-03\",\"2022-01-04\",\"2022-01-05\",\"2022-01-06\",\"2022-01-07\",\"2022-01-08\",\"2022-01-09\",\"2022-01-10\",\"2022-01-11\",\"2022-01-12\",\"2022-01-13\",\"2022-01-14\",\"2022-01-15\",\"2022-01-16\",\"2022-01-17\",\"2022-01-18\",\"2022-01-19\",\"2022-01-20\",\"2022-01-21\",\"2022-01-22\",\"2022-01-23\",\"2022-01-24\",\"2022-01-25\",\"2022-01-26\",\"2022-01-27\",\"2022-01-28\",\"2022-01-29\",\"2022-01-30\",\"2022-01-31\",\"2022-02-01\",\"2022-02-02\",\"2022-02-03\",\"2022-02-04\",\"2022-02-05\",\"2022-02-06\",\"2022-02-07\",\"2022-02-08\",\"2022-02-09\",\"2022-02-10\",\"2022-02-11\",\"2022-02-12\",\"2022-02-13\",\"2022-02-14\",\"2022-02-15\",\"2022-02-16\",\"2022-02-17\",\"2022-02-18\",\"2022-02-19\",\"2022-02-20\",\"2022-02-21\",\"2022-02-22\",\"2022-02-23\",\"2022-02-24\",\"2022-02-25\",\"2022-02-26\",\"2022-02-27\",\"2022-02-28\",\"2022-03-01\",\"2022-03-02\",\"2022-03-03\",\"2022-03-04\",\"2022-03-05\",\"2022-03-06\",\"2022-03-07\",\"2022-03-08\",\"2022-03-09\",\"2022-03-10\",\"2022-03-11\",\"2022-03-12\",\"2022-03-13\",\"2022-03-14\",\"2022-03-15\",\"2022-03-16\",\"2022-03-17\",\"2022-03-18\",\"2022-03-19\",\"2022-03-20\",\"2022-03-21\",\"2022-03-22\",\"2022-03-23\",\"2022-03-24\",\"2022-03-25\",\"2022-03-26\",\"2022-03-27\",\"2022-03-28\",\"2022-03-29\",\"2022-03-30\",\"2022-03-31\",\"2022-04-01\",\"2022-04-02\",\"2022-04-03\",\"2022-04-04\",\"2022-04-05\",\"2022-04-06\",\"2022-04-07\",\"2022-04-08\",\"2022-04-09\",\"2022-04-10\",\"2022-04-11\",\"2022-04-12\",\"2022-04-13\",\"2022-04-14\",\"2022-04-15\",\"2022-04-16\",\"2022-04-17\",\"2022-04-18\",\"2022-04-19\",\"2022-04-20\",\"2022-04-21\",\"2022-04-22\",\"2022-04-23\",\"2022-04-24\",\"2022-04-25\",\"2022-04-26\",\"2022-04-27\",\"2022-04-28\",\"2022-04-29\",\"2022-04-30\",\"2022-05-01\",\"2022-05-02\",\"2022-05-03\",\"2022-05-04\",\"2022-05-05\",\"2022-05-06\",\"2022-05-07\",\"2022-05-08\",\"2022-05-09\",\"2022-05-10\",\"2022-05-11\",\"2022-05-12\",\"2022-05-13\",\"2022-05-14\",\"2022-05-15\",\"2022-05-16\",\"2022-05-17\",\"2022-05-18\",\"2022-05-19\",\"2022-05-20\",\"2022-05-21\",\"2022-05-22\",\"2022-05-23\",\"2022-05-24\",\"2022-05-25\",\"2022-05-26\",\"2022-05-27\",\"2022-05-28\",\"2022-05-29\",\"2022-05-30\",\"2022-05-31\",\"2022-06-01\",\"2022-06-02\",\"2022-06-03\",\"2022-06-04\",\"2022-06-05\",\"2022-06-06\",\"2022-06-07\",\"2022-06-08\",\"2022-06-09\",\"2022-06-10\",\"2022-06-11\",\"2022-06-12\",\"2022-06-13\",\"2022-06-14\",\"2022-06-15\",\"2022-06-16\",\"2022-06-17\",\"2022-06-18\",\"2022-06-19\",\"2022-06-20\",\"2022-06-21\",\"2022-06-22\",\"2022-06-23\",\"2022-06-24\",\"2022-06-25\",\"2022-06-26\",\"2022-06-27\",\"2022-06-28\",\"2022-06-29\",\"2022-06-30\",\"2022-07-01\",\"2022-07-02\",\"2022-07-03\",\"2022-07-04\",\"2022-07-05\",\"2022-07-06\",\"2022-07-07\",\"2022-07-08\",\"2022-07-09\",\"2022-07-10\",\"2022-07-11\",\"2022-07-12\",\"2022-07-13\",\"2022-07-14\",\"2022-07-15\",\"2022-07-16\",\"2022-07-17\",\"2022-07-18\",\"2022-07-19\",\"2022-07-20\",\"2022-07-21\",\"2022-07-22\",\"2022-07-23\",\"2022-07-24\",\"2022-07-25\",\"2022-07-26\",\"2022-07-27\",\"2022-07-28\",\"2022-07-29\",\"2022-07-30\",\"2022-07-31\",\"2022-08-01\",\"2022-08-02\",\"2022-08-03\",\"2022-08-04\",\"2022-08-05\",\"2022-08-06\",\"2022-08-07\",\"2022-08-08\",\"2022-08-09\",\"2022-08-10\",\"2022-08-11\",\"2022-08-12\",\"2022-08-13\",\"2022-08-14\",\"2022-08-15\",\"2022-08-16\",\"2022-08-17\",\"2022-08-18\",\"2022-08-19\",\"2022-08-20\",\"2022-08-21\",\"2022-08-22\",\"2022-08-23\",\"2022-08-24\",\"2022-08-25\",\"2022-08-26\",\"2022-08-27\",\"2022-08-28\",\"2022-08-29\",\"2022-08-30\",\"2022-08-31\",\"2022-09-01\",\"2022-09-02\",\"2022-09-03\",\"2022-09-04\",\"2022-09-05\",\"2022-09-06\",\"2022-09-07\",\"2022-09-08\",\"2022-09-09\",\"2022-09-10\",\"2022-09-11\",\"2022-09-12\",\"2022-09-13\",\"2022-09-14\",\"2022-09-15\",\"2022-09-16\",\"2022-09-17\",\"2022-09-18\",\"2022-09-19\",\"2022-09-20\",\"2022-09-21\",\"2022-09-22\",\"2022-09-23\",\"2022-09-24\",\"2022-09-25\",\"2022-09-26\",\"2022-09-27\",\"2022-09-28\",\"2022-09-29\",\"2022-09-30\",\"2022-10-01\",\"2022-10-02\",\"2022-10-03\",\"2022-10-04\",\"2022-10-05\",\"2022-10-06\",\"2022-10-07\",\"2022-10-08\",\"2022-10-09\",\"2022-10-10\",\"2022-10-11\",\"2022-10-12\",\"2022-10-13\",\"2022-10-14\",\"2022-10-15\",\"2022-10-16\",\"2022-10-17\",\"2022-10-18\",\"2022-10-19\",\"2022-10-20\",\"2022-10-21\",\"2022-10-22\",\"2022-10-23\",\"2022-10-24\",\"2022-10-25\",\"2022-10-26\",\"2022-10-27\",\"2022-10-28\",\"2022-10-29\",\"2022-10-30\",\"2022-10-31\",\"2022-11-01\",\"2022-11-02\",\"2022-11-03\",\"2022-11-04\",\"2022-11-05\",\"2022-11-06\",\"2022-11-07\",\"2022-11-08\",\"2022-11-09\",\"2022-11-10\",\"2022-11-11\",\"2022-11-12\",\"2022-11-13\",\"2022-11-14\",\"2022-11-15\",\"2022-11-16\",\"2022-11-17\",\"2022-11-18\",\"2022-11-19\",\"2022-11-20\",\"2022-11-21\",\"2022-11-22\",\"2022-11-23\",\"2022-11-24\",\"2022-11-25\",\"2022-11-26\",\"2022-11-27\",\"2022-11-28\",\"2022-11-29\",\"2022-11-30\",\"2022-12-01\",\"2022-12-02\",\"2022-12-03\",\"2022-12-04\",\"2022-12-05\",\"2022-12-06\",\"2022-12-07\",\"2022-12-08\",\"2022-12-09\",\"2022-12-10\",\"2022-12-11\",\"2022-12-12\",\"2022-12-13\",\"2022-12-14\",\"2022-12-15\",\"2022-12-16\",\"2022-12-17\",\"2022-12-18\",\"2022-12-19\",\"2022-12-20\",\"2022-12-21\",\"2022-12-22\",\"2022-12-23\",\"2022-12-24\",\"2022-12-25\",\"2022-12-26\",\"2022-12-27\",\"2022-12-28\",\"2022-12-29\",\"2022-12-30\",\"2022-12-31\"],\"y\":[8533.0,10839.5,11230.333333333334,11234.75,11219.6,11044.166666666666,11059.285714285714,11029.0,10406.42857142857,9907.57142857143,9444.714285714286,9501.0,9414.857142857143,9364.714285714286,9427.57142857143,9553.57142857143,9807.714285714286,10317.42857142857,10308.0,10548.285714285714,11089.285714285714,11298.142857142857,11345.0,11401.0,11306.142857142857,11251.285714285714,11416.285714285714,11279.42857142857,11400.0,11991.0,12204.714285714286,12248.42857142857,12315.0,12472.857142857143,12287.0,12337.0,11745.42857142857,11617.857142857143,12115.857142857143,12376.57142857143,12227.57142857143,12602.57142857143,12433.0,13078.285714285714,13427.0,13190.857142857143,13155.857142857143,13167.42857142857,13005.714285714286,13062.0,12710.142857142857,12414.285714285714,12316.42857142857,12608.142857142857,12636.0,13729.857142857143,15314.285714285714,15735.0,16230.57142857143,17169.14285714286,17664.0,17580.85714285714,16266.285714285714,14521.714285714286,14384.285714285714,13876.57142857143,12781.57142857143,11560.142857142857,11523.285714285714,11341.57142857143,11552.42857142857,11201.42857142857,11342.0,11494.57142857143,12022.142857142857,12117.857142857143,12452.142857142857,12494.142857142857,12361.42857142857,12312.57142857143,12418.57142857143,12450.57142857143,12620.285714285714,12572.42857142857,12640.285714285714,12773.285714285714,13076.285714285714,12952.42857142857,12804.142857142857,12726.142857142857,12538.0,12371.57142857143,12545.714285714286,12299.57142857143,12445.714285714286,12615.857142857143,12539.857142857143,12792.0,12879.142857142857,12658.857142857143,12492.57142857143,12477.57142857143,12272.714285714286,13055.857142857143,13585.285714285714,13760.857142857143,14562.857142857143,14590.285714285714,14266.285714285714,14249.57142857143,14406.714285714286,14088.285714285714,14326.57142857143,14442.0,14810.142857142857,15160.42857142857,15365.285714285714,14416.42857142857,14436.714285714286,14213.142857142857,13472.285714285714,13574.142857142857,13767.285714285714,13779.57142857143,14298.0,14539.42857142857,14055.857142857143,13435.0,13101.0,12669.42857142857,12174.285714285714,12036.714285714286,10996.42857142857,10869.714285714286,10674.142857142857,10383.857142857143,10215.42857142857,9905.857142857143,8955.857142857143,9005.0,8904.142857142857,8874.857142857143,9339.57142857143,9584.714285714286,10232.42857142857,10662.142857142857,11123.42857142857,11677.142857142857,12292.42857142857,11966.57142857143,11756.142857142857,11100.0,11018.57142857143,10819.42857142857,10687.57142857143,10666.857142857143,10697.285714285714,10608.0,11125.0,11212.142857142857,11517.857142857143,11567.714285714286,11499.42857142857,11975.57142857143,12054.42857142857,12351.857142857143,12734.0,11813.285714285714,11264.42857142857,11751.57142857143,10962.57142857143,10771.714285714286,10152.142857142857,9558.0,9976.42857142857,10430.142857142857,9997.857142857143,10074.857142857143,10186.0,10085.0,10138.57142857143,10022.285714285714,10077.857142857143,10016.57142857143,10107.42857142857,9964.0,10053.714285714286,9853.0,10044.857142857143,9837.857142857143,9930.42857142857,10062.285714285714,10358.0,10368.714285714286,10625.142857142857,10618.714285714286,10516.0,10375.42857142857,10156.857142857143,10052.857142857143,10084.857142857143,9896.142857142857,10019.57142857143,10102.57142857143,9987.142857142857,9961.142857142857,9731.285714285714,9603.57142857143,9671.142857142857,9449.42857142857,9434.0,9420.42857142857,9359.42857142857,9500.285714285714,9555.0,9489.285714285714,9555.857142857143,9437.285714285714,9298.857142857143,9459.714285714286,9336.142857142857,9479.0,9589.42857142857,9798.857142857143,9820.0,9829.857142857143,9963.714285714286,10340.857142857143,10360.285714285714,10458.57142857143,10098.142857142857,10185.42857142857,10368.57142857143,10559.142857142857,10420.142857142857,10518.285714285714,10584.142857142857,10990.285714285714,11144.285714285714,11363.142857142857,10995.714285714286,10958.142857142857,10968.42857142857,10823.285714285714,10565.714285714286,10543.714285714286,10544.857142857143,11006.857142857143,10974.285714285714,10897.714285714286,10886.857142857143,11170.57142857143,11158.42857142857,11085.57142857143,10689.714285714286,10700.714285714286,10366.42857142857,10456.142857142857,10344.714285714286,10408.42857142857,10365.57142857143,10420.0,10761.142857142857,11270.285714285714,11223.142857142857,11395.42857142857,11454.0,11374.142857142857,11434.42857142857,10934.857142857143,10709.714285714286,10866.285714285714,11014.285714285714,11548.57142857143,12442.714285714286,12277.857142857143,12376.714285714286,12337.42857142857,12002.0,11691.0,11177.285714285714,10281.0,10165.0,10347.857142857143,10473.142857142857,10675.142857142857,10639.142857142857,10518.57142857143,10682.285714285714,11055.57142857143,10958.0,11028.714285714286,10968.714285714286,10978.285714285714,10990.142857142857,10674.714285714286,10589.0,10523.142857142857,10422.57142857143,10361.142857142857,11416.857142857143,12610.285714285714,13506.57142857143,12841.714285714286,12263.285714285714,12115.142857142857,11648.714285714286,10038.714285714286,8376.857142857143,7674.714285714285,8185.571428571428,8662.0,8799.57142857143,9166.142857142857,9945.0,11126.857142857143,11537.57142857143,11744.142857142857,12797.142857142857,12748.57142857143,12771.285714285714,12459.57142857143,11474.0,10789.285714285714,9840.0,8569.42857142857,7849.571428571428,7060.571428571428,6774.0,6769.571428571428,6781.142857142857,7215.571428571428,7346.142857142857,7785.714285714285,8495.42857142857,8326.0,8456.0,8599.714285714286,8799.857142857143,9105.285714285714,9449.714285714286,9777.142857142857,10219.285714285714,10333.285714285714,10513.285714285714,10717.142857142857,10409.142857142857,10515.0,10609.857142857143,10901.285714285714,11731.142857142857,12019.0,11891.857142857143,12451.142857142857,12590.857142857143,12584.42857142857,13094.857142857143,12836.142857142857,12660.857142857143,13354.142857142857,13297.142857142857,13104.714285714286,13149.57142857143,13046.42857142857,12983.857142857143],\"type\":\"scatter\",\"xaxis\":\"x\",\"yaxis\":\"y\"}],                        {\"template\":{\"data\":{\"histogram2dcontour\":[{\"type\":\"histogram2dcontour\",\"colorbar\":{\"outlinewidth\":0,\"ticks\":\"\"},\"colorscale\":[[0.0,\"#0d0887\"],[0.1111111111111111,\"#46039f\"],[0.2222222222222222,\"#7201a8\"],[0.3333333333333333,\"#9c179e\"],[0.4444444444444444,\"#bd3786\"],[0.5555555555555556,\"#d8576b\"],[0.6666666666666666,\"#ed7953\"],[0.7777777777777778,\"#fb9f3a\"],[0.8888888888888888,\"#fdca26\"],[1.0,\"#f0f921\"]]}],\"choropleth\":[{\"type\":\"choropleth\",\"colorbar\":{\"outlinewidth\":0,\"ticks\":\"\"}}],\"histogram2d\":[{\"type\":\"histogram2d\",\"colorbar\":{\"outlinewidth\":0,\"ticks\":\"\"},\"colorscale\":[[0.0,\"#0d0887\"],[0.1111111111111111,\"#46039f\"],[0.2222222222222222,\"#7201a8\"],[0.3333333333333333,\"#9c179e\"],[0.4444444444444444,\"#bd3786\"],[0.5555555555555556,\"#d8576b\"],[0.6666666666666666,\"#ed7953\"],[0.7777777777777778,\"#fb9f3a\"],[0.8888888888888888,\"#fdca26\"],[1.0,\"#f0f921\"]]}],\"heatmap\":[{\"type\":\"heatmap\",\"colorbar\":{\"outlinewidth\":0,\"ticks\":\"\"},\"colorscale\":[[0.0,\"#0d0887\"],[0.1111111111111111,\"#46039f\"],[0.2222222222222222,\"#7201a8\"],[0.3333333333333333,\"#9c179e\"],[0.4444444444444444,\"#bd3786\"],[0.5555555555555556,\"#d8576b\"],[0.6666666666666666,\"#ed7953\"],[0.7777777777777778,\"#fb9f3a\"],[0.8888888888888888,\"#fdca26\"],[1.0,\"#f0f921\"]]}],\"heatmapgl\":[{\"type\":\"heatmapgl\",\"colorbar\":{\"outlinewidth\":0,\"ticks\":\"\"},\"colorscale\":[[0.0,\"#0d0887\"],[0.1111111111111111,\"#46039f\"],[0.2222222222222222,\"#7201a8\"],[0.3333333333333333,\"#9c179e\"],[0.4444444444444444,\"#bd3786\"],[0.5555555555555556,\"#d8576b\"],[0.6666666666666666,\"#ed7953\"],[0.7777777777777778,\"#fb9f3a\"],[0.8888888888888888,\"#fdca26\"],[1.0,\"#f0f921\"]]}],\"contourcarpet\":[{\"type\":\"contourcarpet\",\"colorbar\":{\"outlinewidth\":0,\"ticks\":\"\"}}],\"contour\":[{\"type\":\"contour\",\"colorbar\":{\"outlinewidth\":0,\"ticks\":\"\"},\"colorscale\":[[0.0,\"#0d0887\"],[0.1111111111111111,\"#46039f\"],[0.2222222222222222,\"#7201a8\"],[0.3333333333333333,\"#9c179e\"],[0.4444444444444444,\"#bd3786\"],[0.5555555555555556,\"#d8576b\"],[0.6666666666666666,\"#ed7953\"],[0.7777777777777778,\"#fb9f3a\"],[0.8888888888888888,\"#fdca26\"],[1.0,\"#f0f921\"]]}],\"surface\":[{\"type\":\"surface\",\"colorbar\":{\"outlinewidth\":0,\"ticks\":\"\"},\"colorscale\":[[0.0,\"#0d0887\"],[0.1111111111111111,\"#46039f\"],[0.2222222222222222,\"#7201a8\"],[0.3333333333333333,\"#9c179e\"],[0.4444444444444444,\"#bd3786\"],[0.5555555555555556,\"#d8576b\"],[0.6666666666666666,\"#ed7953\"],[0.7777777777777778,\"#fb9f3a\"],[0.8888888888888888,\"#fdca26\"],[1.0,\"#f0f921\"]]}],\"mesh3d\":[{\"type\":\"mesh3d\",\"colorbar\":{\"outlinewidth\":0,\"ticks\":\"\"}}],\"scatter\":[{\"fillpattern\":{\"fillmode\":\"overlay\",\"size\":10,\"solidity\":0.2},\"type\":\"scatter\"}],\"parcoords\":[{\"type\":\"parcoords\",\"line\":{\"colorbar\":{\"outlinewidth\":0,\"ticks\":\"\"}}}],\"scatterpolargl\":[{\"type\":\"scatterpolargl\",\"marker\":{\"colorbar\":{\"outlinewidth\":0,\"ticks\":\"\"}}}],\"bar\":[{\"error_x\":{\"color\":\"#2a3f5f\"},\"error_y\":{\"color\":\"#2a3f5f\"},\"marker\":{\"line\":{\"color\":\"#E5ECF6\",\"width\":0.5},\"pattern\":{\"fillmode\":\"overlay\",\"size\":10,\"solidity\":0.2}},\"type\":\"bar\"}],\"scattergeo\":[{\"type\":\"scattergeo\",\"marker\":{\"colorbar\":{\"outlinewidth\":0,\"ticks\":\"\"}}}],\"scatterpolar\":[{\"type\":\"scatterpolar\",\"marker\":{\"colorbar\":{\"outlinewidth\":0,\"ticks\":\"\"}}}],\"histogram\":[{\"marker\":{\"pattern\":{\"fillmode\":\"overlay\",\"size\":10,\"solidity\":0.2}},\"type\":\"histogram\"}],\"scattergl\":[{\"type\":\"scattergl\",\"marker\":{\"colorbar\":{\"outlinewidth\":0,\"ticks\":\"\"}}}],\"scatter3d\":[{\"type\":\"scatter3d\",\"line\":{\"colorbar\":{\"outlinewidth\":0,\"ticks\":\"\"}},\"marker\":{\"colorbar\":{\"outlinewidth\":0,\"ticks\":\"\"}}}],\"scattermapbox\":[{\"type\":\"scattermapbox\",\"marker\":{\"colorbar\":{\"outlinewidth\":0,\"ticks\":\"\"}}}],\"scatterternary\":[{\"type\":\"scatterternary\",\"marker\":{\"colorbar\":{\"outlinewidth\":0,\"ticks\":\"\"}}}],\"scattercarpet\":[{\"type\":\"scattercarpet\",\"marker\":{\"colorbar\":{\"outlinewidth\":0,\"ticks\":\"\"}}}],\"carpet\":[{\"aaxis\":{\"endlinecolor\":\"#2a3f5f\",\"gridcolor\":\"white\",\"linecolor\":\"white\",\"minorgridcolor\":\"white\",\"startlinecolor\":\"#2a3f5f\"},\"baxis\":{\"endlinecolor\":\"#2a3f5f\",\"gridcolor\":\"white\",\"linecolor\":\"white\",\"minorgridcolor\":\"white\",\"startlinecolor\":\"#2a3f5f\"},\"type\":\"carpet\"}],\"table\":[{\"cells\":{\"fill\":{\"color\":\"#EBF0F8\"},\"line\":{\"color\":\"white\"}},\"header\":{\"fill\":{\"color\":\"#C8D4E3\"},\"line\":{\"color\":\"white\"}},\"type\":\"table\"}],\"barpolar\":[{\"marker\":{\"line\":{\"color\":\"#E5ECF6\",\"width\":0.5},\"pattern\":{\"fillmode\":\"overlay\",\"size\":10,\"solidity\":0.2}},\"type\":\"barpolar\"}],\"pie\":[{\"automargin\":true,\"type\":\"pie\"}]},\"layout\":{\"autotypenumbers\":\"strict\",\"colorway\":[\"#636efa\",\"#EF553B\",\"#00cc96\",\"#ab63fa\",\"#FFA15A\",\"#19d3f3\",\"#FF6692\",\"#B6E880\",\"#FF97FF\",\"#FECB52\"],\"font\":{\"color\":\"#2a3f5f\"},\"hovermode\":\"closest\",\"hoverlabel\":{\"align\":\"left\"},\"paper_bgcolor\":\"white\",\"plot_bgcolor\":\"#E5ECF6\",\"polar\":{\"bgcolor\":\"#E5ECF6\",\"angularaxis\":{\"gridcolor\":\"white\",\"linecolor\":\"white\",\"ticks\":\"\"},\"radialaxis\":{\"gridcolor\":\"white\",\"linecolor\":\"white\",\"ticks\":\"\"}},\"ternary\":{\"bgcolor\":\"#E5ECF6\",\"aaxis\":{\"gridcolor\":\"white\",\"linecolor\":\"white\",\"ticks\":\"\"},\"baxis\":{\"gridcolor\":\"white\",\"linecolor\":\"white\",\"ticks\":\"\"},\"caxis\":{\"gridcolor\":\"white\",\"linecolor\":\"white\",\"ticks\":\"\"}},\"coloraxis\":{\"colorbar\":{\"outlinewidth\":0,\"ticks\":\"\"}},\"colorscale\":{\"sequential\":[[0.0,\"#0d0887\"],[0.1111111111111111,\"#46039f\"],[0.2222222222222222,\"#7201a8\"],[0.3333333333333333,\"#9c179e\"],[0.4444444444444444,\"#bd3786\"],[0.5555555555555556,\"#d8576b\"],[0.6666666666666666,\"#ed7953\"],[0.7777777777777778,\"#fb9f3a\"],[0.8888888888888888,\"#fdca26\"],[1.0,\"#f0f921\"]],\"sequentialminus\":[[0.0,\"#0d0887\"],[0.1111111111111111,\"#46039f\"],[0.2222222222222222,\"#7201a8\"],[0.3333333333333333,\"#9c179e\"],[0.4444444444444444,\"#bd3786\"],[0.5555555555555556,\"#d8576b\"],[0.6666666666666666,\"#ed7953\"],[0.7777777777777778,\"#fb9f3a\"],[0.8888888888888888,\"#fdca26\"],[1.0,\"#f0f921\"]],\"diverging\":[[0,\"#8e0152\"],[0.1,\"#c51b7d\"],[0.2,\"#de77ae\"],[0.3,\"#f1b6da\"],[0.4,\"#fde0ef\"],[0.5,\"#f7f7f7\"],[0.6,\"#e6f5d0\"],[0.7,\"#b8e186\"],[0.8,\"#7fbc41\"],[0.9,\"#4d9221\"],[1,\"#276419\"]]},\"xaxis\":{\"gridcolor\":\"white\",\"linecolor\":\"white\",\"ticks\":\"\",\"title\":{\"standoff\":15},\"zerolinecolor\":\"white\",\"automargin\":true,\"zerolinewidth\":2},\"yaxis\":{\"gridcolor\":\"white\",\"linecolor\":\"white\",\"ticks\":\"\",\"title\":{\"standoff\":15},\"zerolinecolor\":\"white\",\"automargin\":true,\"zerolinewidth\":2},\"scene\":{\"xaxis\":{\"backgroundcolor\":\"#E5ECF6\",\"gridcolor\":\"white\",\"linecolor\":\"white\",\"showbackground\":true,\"ticks\":\"\",\"zerolinecolor\":\"white\",\"gridwidth\":2},\"yaxis\":{\"backgroundcolor\":\"#E5ECF6\",\"gridcolor\":\"white\",\"linecolor\":\"white\",\"showbackground\":true,\"ticks\":\"\",\"zerolinecolor\":\"white\",\"gridwidth\":2},\"zaxis\":{\"backgroundcolor\":\"#E5ECF6\",\"gridcolor\":\"white\",\"linecolor\":\"white\",\"showbackground\":true,\"ticks\":\"\",\"zerolinecolor\":\"white\",\"gridwidth\":2}},\"shapedefaults\":{\"line\":{\"color\":\"#2a3f5f\"}},\"annotationdefaults\":{\"arrowcolor\":\"#2a3f5f\",\"arrowhead\":0,\"arrowwidth\":1},\"geo\":{\"bgcolor\":\"white\",\"landcolor\":\"#E5ECF6\",\"subunitcolor\":\"white\",\"showland\":true,\"showlakes\":true,\"lakecolor\":\"white\"},\"title\":{\"x\":0.05},\"mapbox\":{\"style\":\"light\"}}},\"xaxis\":{\"anchor\":\"y\",\"domain\":[0.0,1.0]},\"yaxis\":{\"anchor\":\"x\",\"domain\":[0.0,1.0]},\"legend\":{\"orientation\":\"h\",\"yanchor\":\"bottom\",\"y\":1.02,\"xanchor\":\"right\",\"x\":1},\"title\":{\"text\":\"Traffic Violation Analyses per Day\"},\"showlegend\":true},                        {\"responsive\": true}                    ).then(function(){\n",
              "                            \n",
              "var gd = document.getElementById('a5a026c9-3e86-4d08-8c24-405ae6f8862a');\n",
              "var x = new MutationObserver(function (mutations, observer) {{\n",
              "        var display = window.getComputedStyle(gd).display;\n",
              "        if (!display || display === 'none') {{\n",
              "            console.log([gd, 'removed!']);\n",
              "            Plotly.purge(gd);\n",
              "            observer.disconnect();\n",
              "        }}\n",
              "}});\n",
              "\n",
              "// Listen for the removal of the full notebook cells\n",
              "var notebookContainer = gd.closest('#notebook-container');\n",
              "if (notebookContainer) {{\n",
              "    x.observe(notebookContainer, {childList: true});\n",
              "}}\n",
              "\n",
              "// Listen for the clearing of the current output cell\n",
              "var outputEl = gd.closest('.output');\n",
              "if (outputEl) {{\n",
              "    x.observe(outputEl, {childList: true});\n",
              "}}\n",
              "\n",
              "                        })                };                            </script>        </div>\n",
              "</body>\n",
              "</html>"
            ]
          },
          "metadata": {}
        }
      ]
    },
    {
      "cell_type": "markdown",
      "source": [
        "Lets have a closer look on the Brazilian States"
      ],
      "metadata": {
        "id": "V05dSful2PC8"
      }
    },
    {
      "cell_type": "code",
      "source": [
        "from pyspark.sql.functions import count, sum\n",
        "from pyspark.sql.window import Window\n",
        "\n",
        "# Calculate the sum of infractions by state\n",
        "violations_per_state = TV22.groupBy('Infraction_State').agg(count('*').alias('Violations_Count'))\n",
        "\n",
        "# Calculate the percentage of infractions for each state\n",
        "state_percent = (TV22.groupBy(\"Infraction_State\").agg((count(\"*\") / TV22.count()).alias(\"%violations_Count\"))).orderBy(col(\"%violations_Count\").desc())\n",
        "\n",
        "# Calculate the percentage of infractions for each state (cummulative)\n",
        "windowSpec = Window.orderBy(col(\"%violations_Count\").desc())\n",
        "cum_stata_percent= (\n",
        "    state_percent\n",
        "    .withColumn(\"cumulative_sum\", sum(\"%violations_Count\").over(windowSpec))\n",
        ")\n",
        "\n",
        "# Join the calculated frequencies with the violations_per_state DataFrame\n",
        "violations_per_state = violations_per_state.join(cum_stata_percent, \"Infraction_State\", \"left\").orderBy(col(\"%violations_Count\").desc())\n",
        "\n",
        "# Print the DataFrame\n",
        "violations_per_state.show(27)"
      ],
      "metadata": {
        "colab": {
          "base_uri": "https://localhost:8080/"
        },
        "id": "EI6pemoA2FOV",
        "outputId": "c4fc11e7-9e05-4f85-efb9-e10c36501e23"
      },
      "execution_count": 45,
      "outputs": [
        {
          "output_type": "stream",
          "name": "stdout",
          "text": [
            "+----------------+----------------+--------------------+-------------------+\n",
            "|Infraction_State|Violations_Count|   %violations_Count|     cumulative_sum|\n",
            "+----------------+----------------+--------------------+-------------------+\n",
            "|              MG|          448672| 0.10849220279998442|0.10849220279998442|\n",
            "|              RJ|          418981| 0.10131269974801252|0.20980490254799694|\n",
            "|              BA|          417092| 0.10085592559876949|0.31066082814676643|\n",
            "|              SP|          378074| 0.09142108507194859|  0.402081913218715|\n",
            "|              RS|          252059| 0.06094972751934882| 0.4630316407380638|\n",
            "|              MS|          248186| 0.06001320751933915| 0.5230448482574029|\n",
            "|              PR|          237359| 0.05739515896780165| 0.5804400072252046|\n",
            "|              GO|          230375| 0.05570637619474006| 0.6361463834199447|\n",
            "|              SC|          178040| 0.04305138672907877| 0.6791977701490235|\n",
            "|              MT|          172734| 0.04176835674713936| 0.7209661268961629|\n",
            "|              ES|          150991| 0.03651073878684752| 0.7574768656830104|\n",
            "|              PE|          136373|0.032975998440825986| 0.7904528641238364|\n",
            "|              CE|          127407| 0.03080795343176667| 0.8212608175556031|\n",
            "|              RO|           93106| 0.02251371833743882|  0.843774535893042|\n",
            "|              PI|           85095|0.020576599380537842| 0.8643511352735798|\n",
            "|              PA|           77960| 0.01885130369242294| 0.8832024389660027|\n",
            "|              PB|           77884|0.018832926331204057| 0.9020353652972067|\n",
            "|              RN|           76745|0.018557507720305268|  0.920592873017512|\n",
            "|              DF|           73745|0.017832085566928293| 0.9384249585844403|\n",
            "|              MA|           73250|0.017712390911621093| 0.9561373494960614|\n",
            "|              AL|           40597| 0.00981665438688166| 0.9659540038829431|\n",
            "|              TO|           37861| 0.00915506938300186| 0.9751090732659449|\n",
            "|              SE|           37545|0.009078658249512818| 0.9841877315154577|\n",
            "|              AM|           20102|0.004860812042394638| 0.9890485435578523|\n",
            "|              AP|           17726|0.004286277696920075| 0.9933348212547723|\n",
            "|              AC|           15531|0.003755510488032...| 0.9970903317428049|\n",
            "|              RR|           12033|0.002909668257195...|                1.0|\n",
            "+----------------+----------------+--------------------+-------------------+\n",
            "\n"
          ]
        }
      ]
    },
    {
      "cell_type": "code",
      "source": [
        "# Import pandas lib\n",
        "import pandas as pd\n",
        "\n",
        "# Converting Spark Dataframe to Pandas Dataframe\n",
        "df_violations_per_state = violations_per_state.toPandas()"
      ],
      "metadata": {
        "id": "4PUu5_wQ46gq"
      },
      "execution_count": 46,
      "outputs": []
    },
    {
      "cell_type": "code",
      "source": [
        "df_violations_per_state.head()"
      ],
      "metadata": {
        "colab": {
          "base_uri": "https://localhost:8080/",
          "height": 206
        },
        "id": "ixUrGq525JCd",
        "outputId": "ceb71640-06fb-4eb7-ded9-8551f77f91ce"
      },
      "execution_count": 47,
      "outputs": [
        {
          "output_type": "execute_result",
          "data": {
            "text/plain": [
              "  Infraction_State  Violations_Count  %violations_Count  cumulative_sum\n",
              "0               MG            448672           0.108492        0.108492\n",
              "1               RJ            418981           0.101313        0.209805\n",
              "2               BA            417092           0.100856        0.310661\n",
              "3               SP            378074           0.091421        0.402082\n",
              "4               RS            252059           0.060950        0.463032"
            ],
            "text/html": [
              "\n",
              "  <div id=\"df-29126a84-3cad-4186-bfe8-967e47d2b2f4\">\n",
              "    <div class=\"colab-df-container\">\n",
              "      <div>\n",
              "<style scoped>\n",
              "    .dataframe tbody tr th:only-of-type {\n",
              "        vertical-align: middle;\n",
              "    }\n",
              "\n",
              "    .dataframe tbody tr th {\n",
              "        vertical-align: top;\n",
              "    }\n",
              "\n",
              "    .dataframe thead th {\n",
              "        text-align: right;\n",
              "    }\n",
              "</style>\n",
              "<table border=\"1\" class=\"dataframe\">\n",
              "  <thead>\n",
              "    <tr style=\"text-align: right;\">\n",
              "      <th></th>\n",
              "      <th>Infraction_State</th>\n",
              "      <th>Violations_Count</th>\n",
              "      <th>%violations_Count</th>\n",
              "      <th>cumulative_sum</th>\n",
              "    </tr>\n",
              "  </thead>\n",
              "  <tbody>\n",
              "    <tr>\n",
              "      <th>0</th>\n",
              "      <td>MG</td>\n",
              "      <td>448672</td>\n",
              "      <td>0.108492</td>\n",
              "      <td>0.108492</td>\n",
              "    </tr>\n",
              "    <tr>\n",
              "      <th>1</th>\n",
              "      <td>RJ</td>\n",
              "      <td>418981</td>\n",
              "      <td>0.101313</td>\n",
              "      <td>0.209805</td>\n",
              "    </tr>\n",
              "    <tr>\n",
              "      <th>2</th>\n",
              "      <td>BA</td>\n",
              "      <td>417092</td>\n",
              "      <td>0.100856</td>\n",
              "      <td>0.310661</td>\n",
              "    </tr>\n",
              "    <tr>\n",
              "      <th>3</th>\n",
              "      <td>SP</td>\n",
              "      <td>378074</td>\n",
              "      <td>0.091421</td>\n",
              "      <td>0.402082</td>\n",
              "    </tr>\n",
              "    <tr>\n",
              "      <th>4</th>\n",
              "      <td>RS</td>\n",
              "      <td>252059</td>\n",
              "      <td>0.060950</td>\n",
              "      <td>0.463032</td>\n",
              "    </tr>\n",
              "  </tbody>\n",
              "</table>\n",
              "</div>\n",
              "      <button class=\"colab-df-convert\" onclick=\"convertToInteractive('df-29126a84-3cad-4186-bfe8-967e47d2b2f4')\"\n",
              "              title=\"Convert this dataframe to an interactive table.\"\n",
              "              style=\"display:none;\">\n",
              "        \n",
              "  <svg xmlns=\"http://www.w3.org/2000/svg\" height=\"24px\"viewBox=\"0 0 24 24\"\n",
              "       width=\"24px\">\n",
              "    <path d=\"M0 0h24v24H0V0z\" fill=\"none\"/>\n",
              "    <path d=\"M18.56 5.44l.94 2.06.94-2.06 2.06-.94-2.06-.94-.94-2.06-.94 2.06-2.06.94zm-11 1L8.5 8.5l.94-2.06 2.06-.94-2.06-.94L8.5 2.5l-.94 2.06-2.06.94zm10 10l.94 2.06.94-2.06 2.06-.94-2.06-.94-.94-2.06-.94 2.06-2.06.94z\"/><path d=\"M17.41 7.96l-1.37-1.37c-.4-.4-.92-.59-1.43-.59-.52 0-1.04.2-1.43.59L10.3 9.45l-7.72 7.72c-.78.78-.78 2.05 0 2.83L4 21.41c.39.39.9.59 1.41.59.51 0 1.02-.2 1.41-.59l7.78-7.78 2.81-2.81c.8-.78.8-2.07 0-2.86zM5.41 20L4 18.59l7.72-7.72 1.47 1.35L5.41 20z\"/>\n",
              "  </svg>\n",
              "      </button>\n",
              "      \n",
              "  <style>\n",
              "    .colab-df-container {\n",
              "      display:flex;\n",
              "      flex-wrap:wrap;\n",
              "      gap: 12px;\n",
              "    }\n",
              "\n",
              "    .colab-df-convert {\n",
              "      background-color: #E8F0FE;\n",
              "      border: none;\n",
              "      border-radius: 50%;\n",
              "      cursor: pointer;\n",
              "      display: none;\n",
              "      fill: #1967D2;\n",
              "      height: 32px;\n",
              "      padding: 0 0 0 0;\n",
              "      width: 32px;\n",
              "    }\n",
              "\n",
              "    .colab-df-convert:hover {\n",
              "      background-color: #E2EBFA;\n",
              "      box-shadow: 0px 1px 2px rgba(60, 64, 67, 0.3), 0px 1px 3px 1px rgba(60, 64, 67, 0.15);\n",
              "      fill: #174EA6;\n",
              "    }\n",
              "\n",
              "    [theme=dark] .colab-df-convert {\n",
              "      background-color: #3B4455;\n",
              "      fill: #D2E3FC;\n",
              "    }\n",
              "\n",
              "    [theme=dark] .colab-df-convert:hover {\n",
              "      background-color: #434B5C;\n",
              "      box-shadow: 0px 1px 3px 1px rgba(0, 0, 0, 0.15);\n",
              "      filter: drop-shadow(0px 1px 2px rgba(0, 0, 0, 0.3));\n",
              "      fill: #FFFFFF;\n",
              "    }\n",
              "  </style>\n",
              "\n",
              "      <script>\n",
              "        const buttonEl =\n",
              "          document.querySelector('#df-29126a84-3cad-4186-bfe8-967e47d2b2f4 button.colab-df-convert');\n",
              "        buttonEl.style.display =\n",
              "          google.colab.kernel.accessAllowed ? 'block' : 'none';\n",
              "\n",
              "        async function convertToInteractive(key) {\n",
              "          const element = document.querySelector('#df-29126a84-3cad-4186-bfe8-967e47d2b2f4');\n",
              "          const dataTable =\n",
              "            await google.colab.kernel.invokeFunction('convertToInteractive',\n",
              "                                                     [key], {});\n",
              "          if (!dataTable) return;\n",
              "\n",
              "          const docLinkHtml = 'Like what you see? Visit the ' +\n",
              "            '<a target=\"_blank\" href=https://colab.research.google.com/notebooks/data_table.ipynb>data table notebook</a>'\n",
              "            + ' to learn more about interactive tables.';\n",
              "          element.innerHTML = '';\n",
              "          dataTable['output_type'] = 'display_data';\n",
              "          await google.colab.output.renderOutput(dataTable, element);\n",
              "          const docLink = document.createElement('div');\n",
              "          docLink.innerHTML = docLinkHtml;\n",
              "          element.appendChild(docLink);\n",
              "        }\n",
              "      </script>\n",
              "    </div>\n",
              "  </div>\n",
              "  "
            ]
          },
          "metadata": {},
          "execution_count": 47
        }
      ]
    },
    {
      "cell_type": "code",
      "source": [
        "# Gráfico de funil\n",
        "px.funnel(\n",
        "    df_violations_per_state[ df_violations_per_state['cumulative_sum'] < 0.5 ],\n",
        "    y='Infraction_State',\n",
        "    x='Violations_Count',\n",
        "    title='State Concentration of 50% Traffic Infractions'\n",
        ")"
      ],
      "metadata": {
        "colab": {
          "base_uri": "https://localhost:8080/",
          "height": 542
        },
        "id": "cZrgzc0E49ZZ",
        "outputId": "a962a361-34c8-4744-c528-ec22a76b911f"
      },
      "execution_count": 49,
      "outputs": [
        {
          "output_type": "display_data",
          "data": {
            "text/html": [
              "<html>\n",
              "<head><meta charset=\"utf-8\" /></head>\n",
              "<body>\n",
              "    <div>            <script src=\"https://cdnjs.cloudflare.com/ajax/libs/mathjax/2.7.5/MathJax.js?config=TeX-AMS-MML_SVG\"></script><script type=\"text/javascript\">if (window.MathJax && window.MathJax.Hub && window.MathJax.Hub.Config) {window.MathJax.Hub.Config({SVG: {font: \"STIX-Web\"}});}</script>                <script type=\"text/javascript\">window.PlotlyConfig = {MathJaxConfig: 'local'};</script>\n",
              "        <script src=\"https://cdn.plot.ly/plotly-2.18.2.min.js\"></script>                <div id=\"92e9a9da-77c2-44ee-a58b-6b4218c28e71\" class=\"plotly-graph-div\" style=\"height:525px; width:100%;\"></div>            <script type=\"text/javascript\">                                    window.PLOTLYENV=window.PLOTLYENV || {};                                    if (document.getElementById(\"92e9a9da-77c2-44ee-a58b-6b4218c28e71\")) {                    Plotly.newPlot(                        \"92e9a9da-77c2-44ee-a58b-6b4218c28e71\",                        [{\"hovertemplate\":\"Violations_Count=%{x}<br>Infraction_State=%{y}<extra></extra>\",\"legendgroup\":\"\",\"marker\":{\"color\":\"#636efa\"},\"name\":\"\",\"orientation\":\"h\",\"showlegend\":false,\"x\":[448672,418981,417092,378074,252059],\"xaxis\":\"x\",\"y\":[\"MG\",\"RJ\",\"BA\",\"SP\",\"RS\"],\"yaxis\":\"y\",\"type\":\"funnel\"}],                        {\"template\":{\"data\":{\"histogram2dcontour\":[{\"type\":\"histogram2dcontour\",\"colorbar\":{\"outlinewidth\":0,\"ticks\":\"\"},\"colorscale\":[[0.0,\"#0d0887\"],[0.1111111111111111,\"#46039f\"],[0.2222222222222222,\"#7201a8\"],[0.3333333333333333,\"#9c179e\"],[0.4444444444444444,\"#bd3786\"],[0.5555555555555556,\"#d8576b\"],[0.6666666666666666,\"#ed7953\"],[0.7777777777777778,\"#fb9f3a\"],[0.8888888888888888,\"#fdca26\"],[1.0,\"#f0f921\"]]}],\"choropleth\":[{\"type\":\"choropleth\",\"colorbar\":{\"outlinewidth\":0,\"ticks\":\"\"}}],\"histogram2d\":[{\"type\":\"histogram2d\",\"colorbar\":{\"outlinewidth\":0,\"ticks\":\"\"},\"colorscale\":[[0.0,\"#0d0887\"],[0.1111111111111111,\"#46039f\"],[0.2222222222222222,\"#7201a8\"],[0.3333333333333333,\"#9c179e\"],[0.4444444444444444,\"#bd3786\"],[0.5555555555555556,\"#d8576b\"],[0.6666666666666666,\"#ed7953\"],[0.7777777777777778,\"#fb9f3a\"],[0.8888888888888888,\"#fdca26\"],[1.0,\"#f0f921\"]]}],\"heatmap\":[{\"type\":\"heatmap\",\"colorbar\":{\"outlinewidth\":0,\"ticks\":\"\"},\"colorscale\":[[0.0,\"#0d0887\"],[0.1111111111111111,\"#46039f\"],[0.2222222222222222,\"#7201a8\"],[0.3333333333333333,\"#9c179e\"],[0.4444444444444444,\"#bd3786\"],[0.5555555555555556,\"#d8576b\"],[0.6666666666666666,\"#ed7953\"],[0.7777777777777778,\"#fb9f3a\"],[0.8888888888888888,\"#fdca26\"],[1.0,\"#f0f921\"]]}],\"heatmapgl\":[{\"type\":\"heatmapgl\",\"colorbar\":{\"outlinewidth\":0,\"ticks\":\"\"},\"colorscale\":[[0.0,\"#0d0887\"],[0.1111111111111111,\"#46039f\"],[0.2222222222222222,\"#7201a8\"],[0.3333333333333333,\"#9c179e\"],[0.4444444444444444,\"#bd3786\"],[0.5555555555555556,\"#d8576b\"],[0.6666666666666666,\"#ed7953\"],[0.7777777777777778,\"#fb9f3a\"],[0.8888888888888888,\"#fdca26\"],[1.0,\"#f0f921\"]]}],\"contourcarpet\":[{\"type\":\"contourcarpet\",\"colorbar\":{\"outlinewidth\":0,\"ticks\":\"\"}}],\"contour\":[{\"type\":\"contour\",\"colorbar\":{\"outlinewidth\":0,\"ticks\":\"\"},\"colorscale\":[[0.0,\"#0d0887\"],[0.1111111111111111,\"#46039f\"],[0.2222222222222222,\"#7201a8\"],[0.3333333333333333,\"#9c179e\"],[0.4444444444444444,\"#bd3786\"],[0.5555555555555556,\"#d8576b\"],[0.6666666666666666,\"#ed7953\"],[0.7777777777777778,\"#fb9f3a\"],[0.8888888888888888,\"#fdca26\"],[1.0,\"#f0f921\"]]}],\"surface\":[{\"type\":\"surface\",\"colorbar\":{\"outlinewidth\":0,\"ticks\":\"\"},\"colorscale\":[[0.0,\"#0d0887\"],[0.1111111111111111,\"#46039f\"],[0.2222222222222222,\"#7201a8\"],[0.3333333333333333,\"#9c179e\"],[0.4444444444444444,\"#bd3786\"],[0.5555555555555556,\"#d8576b\"],[0.6666666666666666,\"#ed7953\"],[0.7777777777777778,\"#fb9f3a\"],[0.8888888888888888,\"#fdca26\"],[1.0,\"#f0f921\"]]}],\"mesh3d\":[{\"type\":\"mesh3d\",\"colorbar\":{\"outlinewidth\":0,\"ticks\":\"\"}}],\"scatter\":[{\"fillpattern\":{\"fillmode\":\"overlay\",\"size\":10,\"solidity\":0.2},\"type\":\"scatter\"}],\"parcoords\":[{\"type\":\"parcoords\",\"line\":{\"colorbar\":{\"outlinewidth\":0,\"ticks\":\"\"}}}],\"scatterpolargl\":[{\"type\":\"scatterpolargl\",\"marker\":{\"colorbar\":{\"outlinewidth\":0,\"ticks\":\"\"}}}],\"bar\":[{\"error_x\":{\"color\":\"#2a3f5f\"},\"error_y\":{\"color\":\"#2a3f5f\"},\"marker\":{\"line\":{\"color\":\"#E5ECF6\",\"width\":0.5},\"pattern\":{\"fillmode\":\"overlay\",\"size\":10,\"solidity\":0.2}},\"type\":\"bar\"}],\"scattergeo\":[{\"type\":\"scattergeo\",\"marker\":{\"colorbar\":{\"outlinewidth\":0,\"ticks\":\"\"}}}],\"scatterpolar\":[{\"type\":\"scatterpolar\",\"marker\":{\"colorbar\":{\"outlinewidth\":0,\"ticks\":\"\"}}}],\"histogram\":[{\"marker\":{\"pattern\":{\"fillmode\":\"overlay\",\"size\":10,\"solidity\":0.2}},\"type\":\"histogram\"}],\"scattergl\":[{\"type\":\"scattergl\",\"marker\":{\"colorbar\":{\"outlinewidth\":0,\"ticks\":\"\"}}}],\"scatter3d\":[{\"type\":\"scatter3d\",\"line\":{\"colorbar\":{\"outlinewidth\":0,\"ticks\":\"\"}},\"marker\":{\"colorbar\":{\"outlinewidth\":0,\"ticks\":\"\"}}}],\"scattermapbox\":[{\"type\":\"scattermapbox\",\"marker\":{\"colorbar\":{\"outlinewidth\":0,\"ticks\":\"\"}}}],\"scatterternary\":[{\"type\":\"scatterternary\",\"marker\":{\"colorbar\":{\"outlinewidth\":0,\"ticks\":\"\"}}}],\"scattercarpet\":[{\"type\":\"scattercarpet\",\"marker\":{\"colorbar\":{\"outlinewidth\":0,\"ticks\":\"\"}}}],\"carpet\":[{\"aaxis\":{\"endlinecolor\":\"#2a3f5f\",\"gridcolor\":\"white\",\"linecolor\":\"white\",\"minorgridcolor\":\"white\",\"startlinecolor\":\"#2a3f5f\"},\"baxis\":{\"endlinecolor\":\"#2a3f5f\",\"gridcolor\":\"white\",\"linecolor\":\"white\",\"minorgridcolor\":\"white\",\"startlinecolor\":\"#2a3f5f\"},\"type\":\"carpet\"}],\"table\":[{\"cells\":{\"fill\":{\"color\":\"#EBF0F8\"},\"line\":{\"color\":\"white\"}},\"header\":{\"fill\":{\"color\":\"#C8D4E3\"},\"line\":{\"color\":\"white\"}},\"type\":\"table\"}],\"barpolar\":[{\"marker\":{\"line\":{\"color\":\"#E5ECF6\",\"width\":0.5},\"pattern\":{\"fillmode\":\"overlay\",\"size\":10,\"solidity\":0.2}},\"type\":\"barpolar\"}],\"pie\":[{\"automargin\":true,\"type\":\"pie\"}]},\"layout\":{\"autotypenumbers\":\"strict\",\"colorway\":[\"#636efa\",\"#EF553B\",\"#00cc96\",\"#ab63fa\",\"#FFA15A\",\"#19d3f3\",\"#FF6692\",\"#B6E880\",\"#FF97FF\",\"#FECB52\"],\"font\":{\"color\":\"#2a3f5f\"},\"hovermode\":\"closest\",\"hoverlabel\":{\"align\":\"left\"},\"paper_bgcolor\":\"white\",\"plot_bgcolor\":\"#E5ECF6\",\"polar\":{\"bgcolor\":\"#E5ECF6\",\"angularaxis\":{\"gridcolor\":\"white\",\"linecolor\":\"white\",\"ticks\":\"\"},\"radialaxis\":{\"gridcolor\":\"white\",\"linecolor\":\"white\",\"ticks\":\"\"}},\"ternary\":{\"bgcolor\":\"#E5ECF6\",\"aaxis\":{\"gridcolor\":\"white\",\"linecolor\":\"white\",\"ticks\":\"\"},\"baxis\":{\"gridcolor\":\"white\",\"linecolor\":\"white\",\"ticks\":\"\"},\"caxis\":{\"gridcolor\":\"white\",\"linecolor\":\"white\",\"ticks\":\"\"}},\"coloraxis\":{\"colorbar\":{\"outlinewidth\":0,\"ticks\":\"\"}},\"colorscale\":{\"sequential\":[[0.0,\"#0d0887\"],[0.1111111111111111,\"#46039f\"],[0.2222222222222222,\"#7201a8\"],[0.3333333333333333,\"#9c179e\"],[0.4444444444444444,\"#bd3786\"],[0.5555555555555556,\"#d8576b\"],[0.6666666666666666,\"#ed7953\"],[0.7777777777777778,\"#fb9f3a\"],[0.8888888888888888,\"#fdca26\"],[1.0,\"#f0f921\"]],\"sequentialminus\":[[0.0,\"#0d0887\"],[0.1111111111111111,\"#46039f\"],[0.2222222222222222,\"#7201a8\"],[0.3333333333333333,\"#9c179e\"],[0.4444444444444444,\"#bd3786\"],[0.5555555555555556,\"#d8576b\"],[0.6666666666666666,\"#ed7953\"],[0.7777777777777778,\"#fb9f3a\"],[0.8888888888888888,\"#fdca26\"],[1.0,\"#f0f921\"]],\"diverging\":[[0,\"#8e0152\"],[0.1,\"#c51b7d\"],[0.2,\"#de77ae\"],[0.3,\"#f1b6da\"],[0.4,\"#fde0ef\"],[0.5,\"#f7f7f7\"],[0.6,\"#e6f5d0\"],[0.7,\"#b8e186\"],[0.8,\"#7fbc41\"],[0.9,\"#4d9221\"],[1,\"#276419\"]]},\"xaxis\":{\"gridcolor\":\"white\",\"linecolor\":\"white\",\"ticks\":\"\",\"title\":{\"standoff\":15},\"zerolinecolor\":\"white\",\"automargin\":true,\"zerolinewidth\":2},\"yaxis\":{\"gridcolor\":\"white\",\"linecolor\":\"white\",\"ticks\":\"\",\"title\":{\"standoff\":15},\"zerolinecolor\":\"white\",\"automargin\":true,\"zerolinewidth\":2},\"scene\":{\"xaxis\":{\"backgroundcolor\":\"#E5ECF6\",\"gridcolor\":\"white\",\"linecolor\":\"white\",\"showbackground\":true,\"ticks\":\"\",\"zerolinecolor\":\"white\",\"gridwidth\":2},\"yaxis\":{\"backgroundcolor\":\"#E5ECF6\",\"gridcolor\":\"white\",\"linecolor\":\"white\",\"showbackground\":true,\"ticks\":\"\",\"zerolinecolor\":\"white\",\"gridwidth\":2},\"zaxis\":{\"backgroundcolor\":\"#E5ECF6\",\"gridcolor\":\"white\",\"linecolor\":\"white\",\"showbackground\":true,\"ticks\":\"\",\"zerolinecolor\":\"white\",\"gridwidth\":2}},\"shapedefaults\":{\"line\":{\"color\":\"#2a3f5f\"}},\"annotationdefaults\":{\"arrowcolor\":\"#2a3f5f\",\"arrowhead\":0,\"arrowwidth\":1},\"geo\":{\"bgcolor\":\"white\",\"landcolor\":\"#E5ECF6\",\"subunitcolor\":\"white\",\"showland\":true,\"showlakes\":true,\"lakecolor\":\"white\"},\"title\":{\"x\":0.05},\"mapbox\":{\"style\":\"light\"}}},\"xaxis\":{\"anchor\":\"y\",\"domain\":[0.0,1.0],\"title\":{\"text\":\"Violations_Count\"}},\"yaxis\":{\"anchor\":\"x\",\"domain\":[0.0,1.0],\"title\":{\"text\":\"Infraction_State\"}},\"legend\":{\"tracegroupgap\":0},\"title\":{\"text\":\"State Concentration of 50% Traffic Infractions\"}},                        {\"responsive\": true}                    ).then(function(){\n",
              "                            \n",
              "var gd = document.getElementById('92e9a9da-77c2-44ee-a58b-6b4218c28e71');\n",
              "var x = new MutationObserver(function (mutations, observer) {{\n",
              "        var display = window.getComputedStyle(gd).display;\n",
              "        if (!display || display === 'none') {{\n",
              "            console.log([gd, 'removed!']);\n",
              "            Plotly.purge(gd);\n",
              "            observer.disconnect();\n",
              "        }}\n",
              "}});\n",
              "\n",
              "// Listen for the removal of the full notebook cells\n",
              "var notebookContainer = gd.closest('#notebook-container');\n",
              "if (notebookContainer) {{\n",
              "    x.observe(notebookContainer, {childList: true});\n",
              "}}\n",
              "\n",
              "// Listen for the clearing of the current output cell\n",
              "var outputEl = gd.closest('.output');\n",
              "if (outputEl) {{\n",
              "    x.observe(outputEl, {childList: true});\n",
              "}}\n",
              "\n",
              "                        })                };                            </script>        </div>\n",
              "</body>\n",
              "</html>"
            ]
          },
          "metadata": {}
        }
      ]
    },
    {
      "cell_type": "code",
      "source": [
        "px.bar(\n",
        "    df_violations_per_state,\n",
        "    x='Infraction_State',\n",
        "    y='cumulative_sum',\n",
        "    title='Accumulated Infraction by state'\n",
        ")"
      ],
      "metadata": {
        "colab": {
          "base_uri": "https://localhost:8080/",
          "height": 542
        },
        "id": "g7d2w_YEFpHk",
        "outputId": "f65eaf30-b71d-46bc-e502-245f3b774c5b"
      },
      "execution_count": 50,
      "outputs": [
        {
          "output_type": "display_data",
          "data": {
            "text/html": [
              "<html>\n",
              "<head><meta charset=\"utf-8\" /></head>\n",
              "<body>\n",
              "    <div>            <script src=\"https://cdnjs.cloudflare.com/ajax/libs/mathjax/2.7.5/MathJax.js?config=TeX-AMS-MML_SVG\"></script><script type=\"text/javascript\">if (window.MathJax && window.MathJax.Hub && window.MathJax.Hub.Config) {window.MathJax.Hub.Config({SVG: {font: \"STIX-Web\"}});}</script>                <script type=\"text/javascript\">window.PlotlyConfig = {MathJaxConfig: 'local'};</script>\n",
              "        <script src=\"https://cdn.plot.ly/plotly-2.18.2.min.js\"></script>                <div id=\"e5e369b0-37b4-4bd3-9762-f70e46248ca8\" class=\"plotly-graph-div\" style=\"height:525px; width:100%;\"></div>            <script type=\"text/javascript\">                                    window.PLOTLYENV=window.PLOTLYENV || {};                                    if (document.getElementById(\"e5e369b0-37b4-4bd3-9762-f70e46248ca8\")) {                    Plotly.newPlot(                        \"e5e369b0-37b4-4bd3-9762-f70e46248ca8\",                        [{\"alignmentgroup\":\"True\",\"hovertemplate\":\"Infraction_State=%{x}<br>cumulative_sum=%{y}<extra></extra>\",\"legendgroup\":\"\",\"marker\":{\"color\":\"#636efa\",\"pattern\":{\"shape\":\"\"}},\"name\":\"\",\"offsetgroup\":\"\",\"orientation\":\"v\",\"showlegend\":false,\"textposition\":\"auto\",\"x\":[\"MG\",\"RJ\",\"BA\",\"SP\",\"RS\",\"MS\",\"PR\",\"GO\",\"SC\",\"MT\",\"ES\",\"PE\",\"CE\",\"RO\",\"PI\",\"PA\",\"PB\",\"RN\",\"DF\",\"MA\",\"AL\",\"TO\",\"SE\",\"AM\",\"AP\",\"AC\",\"RR\"],\"xaxis\":\"x\",\"y\":[0.10849220279998442,0.20980490254799694,0.31066082814676643,0.402081913218715,0.4630316407380638,0.5230448482574029,0.5804400072252046,0.6361463834199447,0.6791977701490235,0.7209661268961629,0.7574768656830104,0.7904528641238364,0.8212608175556031,0.843774535893042,0.8643511352735798,0.8832024389660027,0.9020353652972067,0.920592873017512,0.9384249585844403,0.9561373494960614,0.9659540038829431,0.9751090732659449,0.9841877315154577,0.9890485435578523,0.9933348212547723,0.9970903317428049,1.0],\"yaxis\":\"y\",\"type\":\"bar\"}],                        {\"template\":{\"data\":{\"histogram2dcontour\":[{\"type\":\"histogram2dcontour\",\"colorbar\":{\"outlinewidth\":0,\"ticks\":\"\"},\"colorscale\":[[0.0,\"#0d0887\"],[0.1111111111111111,\"#46039f\"],[0.2222222222222222,\"#7201a8\"],[0.3333333333333333,\"#9c179e\"],[0.4444444444444444,\"#bd3786\"],[0.5555555555555556,\"#d8576b\"],[0.6666666666666666,\"#ed7953\"],[0.7777777777777778,\"#fb9f3a\"],[0.8888888888888888,\"#fdca26\"],[1.0,\"#f0f921\"]]}],\"choropleth\":[{\"type\":\"choropleth\",\"colorbar\":{\"outlinewidth\":0,\"ticks\":\"\"}}],\"histogram2d\":[{\"type\":\"histogram2d\",\"colorbar\":{\"outlinewidth\":0,\"ticks\":\"\"},\"colorscale\":[[0.0,\"#0d0887\"],[0.1111111111111111,\"#46039f\"],[0.2222222222222222,\"#7201a8\"],[0.3333333333333333,\"#9c179e\"],[0.4444444444444444,\"#bd3786\"],[0.5555555555555556,\"#d8576b\"],[0.6666666666666666,\"#ed7953\"],[0.7777777777777778,\"#fb9f3a\"],[0.8888888888888888,\"#fdca26\"],[1.0,\"#f0f921\"]]}],\"heatmap\":[{\"type\":\"heatmap\",\"colorbar\":{\"outlinewidth\":0,\"ticks\":\"\"},\"colorscale\":[[0.0,\"#0d0887\"],[0.1111111111111111,\"#46039f\"],[0.2222222222222222,\"#7201a8\"],[0.3333333333333333,\"#9c179e\"],[0.4444444444444444,\"#bd3786\"],[0.5555555555555556,\"#d8576b\"],[0.6666666666666666,\"#ed7953\"],[0.7777777777777778,\"#fb9f3a\"],[0.8888888888888888,\"#fdca26\"],[1.0,\"#f0f921\"]]}],\"heatmapgl\":[{\"type\":\"heatmapgl\",\"colorbar\":{\"outlinewidth\":0,\"ticks\":\"\"},\"colorscale\":[[0.0,\"#0d0887\"],[0.1111111111111111,\"#46039f\"],[0.2222222222222222,\"#7201a8\"],[0.3333333333333333,\"#9c179e\"],[0.4444444444444444,\"#bd3786\"],[0.5555555555555556,\"#d8576b\"],[0.6666666666666666,\"#ed7953\"],[0.7777777777777778,\"#fb9f3a\"],[0.8888888888888888,\"#fdca26\"],[1.0,\"#f0f921\"]]}],\"contourcarpet\":[{\"type\":\"contourcarpet\",\"colorbar\":{\"outlinewidth\":0,\"ticks\":\"\"}}],\"contour\":[{\"type\":\"contour\",\"colorbar\":{\"outlinewidth\":0,\"ticks\":\"\"},\"colorscale\":[[0.0,\"#0d0887\"],[0.1111111111111111,\"#46039f\"],[0.2222222222222222,\"#7201a8\"],[0.3333333333333333,\"#9c179e\"],[0.4444444444444444,\"#bd3786\"],[0.5555555555555556,\"#d8576b\"],[0.6666666666666666,\"#ed7953\"],[0.7777777777777778,\"#fb9f3a\"],[0.8888888888888888,\"#fdca26\"],[1.0,\"#f0f921\"]]}],\"surface\":[{\"type\":\"surface\",\"colorbar\":{\"outlinewidth\":0,\"ticks\":\"\"},\"colorscale\":[[0.0,\"#0d0887\"],[0.1111111111111111,\"#46039f\"],[0.2222222222222222,\"#7201a8\"],[0.3333333333333333,\"#9c179e\"],[0.4444444444444444,\"#bd3786\"],[0.5555555555555556,\"#d8576b\"],[0.6666666666666666,\"#ed7953\"],[0.7777777777777778,\"#fb9f3a\"],[0.8888888888888888,\"#fdca26\"],[1.0,\"#f0f921\"]]}],\"mesh3d\":[{\"type\":\"mesh3d\",\"colorbar\":{\"outlinewidth\":0,\"ticks\":\"\"}}],\"scatter\":[{\"fillpattern\":{\"fillmode\":\"overlay\",\"size\":10,\"solidity\":0.2},\"type\":\"scatter\"}],\"parcoords\":[{\"type\":\"parcoords\",\"line\":{\"colorbar\":{\"outlinewidth\":0,\"ticks\":\"\"}}}],\"scatterpolargl\":[{\"type\":\"scatterpolargl\",\"marker\":{\"colorbar\":{\"outlinewidth\":0,\"ticks\":\"\"}}}],\"bar\":[{\"error_x\":{\"color\":\"#2a3f5f\"},\"error_y\":{\"color\":\"#2a3f5f\"},\"marker\":{\"line\":{\"color\":\"#E5ECF6\",\"width\":0.5},\"pattern\":{\"fillmode\":\"overlay\",\"size\":10,\"solidity\":0.2}},\"type\":\"bar\"}],\"scattergeo\":[{\"type\":\"scattergeo\",\"marker\":{\"colorbar\":{\"outlinewidth\":0,\"ticks\":\"\"}}}],\"scatterpolar\":[{\"type\":\"scatterpolar\",\"marker\":{\"colorbar\":{\"outlinewidth\":0,\"ticks\":\"\"}}}],\"histogram\":[{\"marker\":{\"pattern\":{\"fillmode\":\"overlay\",\"size\":10,\"solidity\":0.2}},\"type\":\"histogram\"}],\"scattergl\":[{\"type\":\"scattergl\",\"marker\":{\"colorbar\":{\"outlinewidth\":0,\"ticks\":\"\"}}}],\"scatter3d\":[{\"type\":\"scatter3d\",\"line\":{\"colorbar\":{\"outlinewidth\":0,\"ticks\":\"\"}},\"marker\":{\"colorbar\":{\"outlinewidth\":0,\"ticks\":\"\"}}}],\"scattermapbox\":[{\"type\":\"scattermapbox\",\"marker\":{\"colorbar\":{\"outlinewidth\":0,\"ticks\":\"\"}}}],\"scatterternary\":[{\"type\":\"scatterternary\",\"marker\":{\"colorbar\":{\"outlinewidth\":0,\"ticks\":\"\"}}}],\"scattercarpet\":[{\"type\":\"scattercarpet\",\"marker\":{\"colorbar\":{\"outlinewidth\":0,\"ticks\":\"\"}}}],\"carpet\":[{\"aaxis\":{\"endlinecolor\":\"#2a3f5f\",\"gridcolor\":\"white\",\"linecolor\":\"white\",\"minorgridcolor\":\"white\",\"startlinecolor\":\"#2a3f5f\"},\"baxis\":{\"endlinecolor\":\"#2a3f5f\",\"gridcolor\":\"white\",\"linecolor\":\"white\",\"minorgridcolor\":\"white\",\"startlinecolor\":\"#2a3f5f\"},\"type\":\"carpet\"}],\"table\":[{\"cells\":{\"fill\":{\"color\":\"#EBF0F8\"},\"line\":{\"color\":\"white\"}},\"header\":{\"fill\":{\"color\":\"#C8D4E3\"},\"line\":{\"color\":\"white\"}},\"type\":\"table\"}],\"barpolar\":[{\"marker\":{\"line\":{\"color\":\"#E5ECF6\",\"width\":0.5},\"pattern\":{\"fillmode\":\"overlay\",\"size\":10,\"solidity\":0.2}},\"type\":\"barpolar\"}],\"pie\":[{\"automargin\":true,\"type\":\"pie\"}]},\"layout\":{\"autotypenumbers\":\"strict\",\"colorway\":[\"#636efa\",\"#EF553B\",\"#00cc96\",\"#ab63fa\",\"#FFA15A\",\"#19d3f3\",\"#FF6692\",\"#B6E880\",\"#FF97FF\",\"#FECB52\"],\"font\":{\"color\":\"#2a3f5f\"},\"hovermode\":\"closest\",\"hoverlabel\":{\"align\":\"left\"},\"paper_bgcolor\":\"white\",\"plot_bgcolor\":\"#E5ECF6\",\"polar\":{\"bgcolor\":\"#E5ECF6\",\"angularaxis\":{\"gridcolor\":\"white\",\"linecolor\":\"white\",\"ticks\":\"\"},\"radialaxis\":{\"gridcolor\":\"white\",\"linecolor\":\"white\",\"ticks\":\"\"}},\"ternary\":{\"bgcolor\":\"#E5ECF6\",\"aaxis\":{\"gridcolor\":\"white\",\"linecolor\":\"white\",\"ticks\":\"\"},\"baxis\":{\"gridcolor\":\"white\",\"linecolor\":\"white\",\"ticks\":\"\"},\"caxis\":{\"gridcolor\":\"white\",\"linecolor\":\"white\",\"ticks\":\"\"}},\"coloraxis\":{\"colorbar\":{\"outlinewidth\":0,\"ticks\":\"\"}},\"colorscale\":{\"sequential\":[[0.0,\"#0d0887\"],[0.1111111111111111,\"#46039f\"],[0.2222222222222222,\"#7201a8\"],[0.3333333333333333,\"#9c179e\"],[0.4444444444444444,\"#bd3786\"],[0.5555555555555556,\"#d8576b\"],[0.6666666666666666,\"#ed7953\"],[0.7777777777777778,\"#fb9f3a\"],[0.8888888888888888,\"#fdca26\"],[1.0,\"#f0f921\"]],\"sequentialminus\":[[0.0,\"#0d0887\"],[0.1111111111111111,\"#46039f\"],[0.2222222222222222,\"#7201a8\"],[0.3333333333333333,\"#9c179e\"],[0.4444444444444444,\"#bd3786\"],[0.5555555555555556,\"#d8576b\"],[0.6666666666666666,\"#ed7953\"],[0.7777777777777778,\"#fb9f3a\"],[0.8888888888888888,\"#fdca26\"],[1.0,\"#f0f921\"]],\"diverging\":[[0,\"#8e0152\"],[0.1,\"#c51b7d\"],[0.2,\"#de77ae\"],[0.3,\"#f1b6da\"],[0.4,\"#fde0ef\"],[0.5,\"#f7f7f7\"],[0.6,\"#e6f5d0\"],[0.7,\"#b8e186\"],[0.8,\"#7fbc41\"],[0.9,\"#4d9221\"],[1,\"#276419\"]]},\"xaxis\":{\"gridcolor\":\"white\",\"linecolor\":\"white\",\"ticks\":\"\",\"title\":{\"standoff\":15},\"zerolinecolor\":\"white\",\"automargin\":true,\"zerolinewidth\":2},\"yaxis\":{\"gridcolor\":\"white\",\"linecolor\":\"white\",\"ticks\":\"\",\"title\":{\"standoff\":15},\"zerolinecolor\":\"white\",\"automargin\":true,\"zerolinewidth\":2},\"scene\":{\"xaxis\":{\"backgroundcolor\":\"#E5ECF6\",\"gridcolor\":\"white\",\"linecolor\":\"white\",\"showbackground\":true,\"ticks\":\"\",\"zerolinecolor\":\"white\",\"gridwidth\":2},\"yaxis\":{\"backgroundcolor\":\"#E5ECF6\",\"gridcolor\":\"white\",\"linecolor\":\"white\",\"showbackground\":true,\"ticks\":\"\",\"zerolinecolor\":\"white\",\"gridwidth\":2},\"zaxis\":{\"backgroundcolor\":\"#E5ECF6\",\"gridcolor\":\"white\",\"linecolor\":\"white\",\"showbackground\":true,\"ticks\":\"\",\"zerolinecolor\":\"white\",\"gridwidth\":2}},\"shapedefaults\":{\"line\":{\"color\":\"#2a3f5f\"}},\"annotationdefaults\":{\"arrowcolor\":\"#2a3f5f\",\"arrowhead\":0,\"arrowwidth\":1},\"geo\":{\"bgcolor\":\"white\",\"landcolor\":\"#E5ECF6\",\"subunitcolor\":\"white\",\"showland\":true,\"showlakes\":true,\"lakecolor\":\"white\"},\"title\":{\"x\":0.05},\"mapbox\":{\"style\":\"light\"}}},\"xaxis\":{\"anchor\":\"y\",\"domain\":[0.0,1.0],\"title\":{\"text\":\"Infraction_State\"}},\"yaxis\":{\"anchor\":\"x\",\"domain\":[0.0,1.0],\"title\":{\"text\":\"cumulative_sum\"}},\"legend\":{\"tracegroupgap\":0},\"title\":{\"text\":\"Accumulated Infraction by state\"},\"barmode\":\"relative\"},                        {\"responsive\": true}                    ).then(function(){\n",
              "                            \n",
              "var gd = document.getElementById('e5e369b0-37b4-4bd3-9762-f70e46248ca8');\n",
              "var x = new MutationObserver(function (mutations, observer) {{\n",
              "        var display = window.getComputedStyle(gd).display;\n",
              "        if (!display || display === 'none') {{\n",
              "            console.log([gd, 'removed!']);\n",
              "            Plotly.purge(gd);\n",
              "            observer.disconnect();\n",
              "        }}\n",
              "}});\n",
              "\n",
              "// Listen for the removal of the full notebook cells\n",
              "var notebookContainer = gd.closest('#notebook-container');\n",
              "if (notebookContainer) {{\n",
              "    x.observe(notebookContainer, {childList: true});\n",
              "}}\n",
              "\n",
              "// Listen for the clearing of the current output cell\n",
              "var outputEl = gd.closest('.output');\n",
              "if (outputEl) {{\n",
              "    x.observe(outputEl, {childList: true});\n",
              "}}\n",
              "\n",
              "                        })                };                            </script>        </div>\n",
              "</body>\n",
              "</html>"
            ]
          },
          "metadata": {}
        }
      ]
    },
    {
      "cell_type": "code",
      "source": [
        "TV22.printSchema()"
      ],
      "metadata": {
        "colab": {
          "base_uri": "https://localhost:8080/"
        },
        "id": "A9Bb36kJJJkC",
        "outputId": "fd1b25c7-f519-480c-a3e1-2d9afd331d95"
      },
      "execution_count": 51,
      "outputs": [
        {
          "output_type": "stream",
          "name": "stdout",
          "text": [
            "root\n",
            " |-- Auto_Number: string (nullable = true)\n",
            " |-- Date_of_Violation_DD/MM/YYYY: date (nullable = true)\n",
            " |-- Approach_Indicator: string (nullable = true)\n",
            " |-- Auto_Signature: string (nullable = true)\n",
            " |-- Traffic_Direction: string (nullable = true)\n",
            " |-- Infraction_State: string (nullable = true)\n",
            " |-- Infraction_BR: string (nullable = true)\n",
            " |-- Infraction_Km: string (nullable = true)\n",
            " |-- City: string (nullable = true)\n",
            " |-- Foreign_Vehicle_Indicator: string (nullable = true)\n",
            " |-- License_Plate_State: string (nullable = true)\n",
            " |-- Vehicle_Species_Description: string (nullable = true)\n",
            " |-- Vehicle_Brand_Description: string (nullable = true)\n",
            " |-- Vehicle_Type_Description: string (nullable = true)\n",
            " |-- Vehicle_Model_Description: string (nullable = true)\n",
            " |-- Infraction_Code: string (nullable = true)\n",
            " |-- Abbreviated_Infraction_Description: string (nullable = true)\n",
            " |-- Infraction_Framing: string (nullable = true)\n",
            " |-- Infraction_Start_Vigency: string (nullable = true)\n",
            " |-- Infraction_End_Vigency: string (nullable = true)\n",
            " |-- Infraction_Measurement: string (nullable = true)\n",
            " |-- Infraction_Time: string (nullable = true)\n",
            " |-- Considered_Measurement: string (nullable = true)\n",
            " |-- Verified_Excess: string (nullable = true)\n",
            " |-- Infraction_Quantity: string (nullable = true)\n",
            "\n"
          ]
        }
      ]
    },
    {
      "cell_type": "code",
      "source": [
        "# Creating a query, to get the contect from the temp view\n",
        "query = \"SELECT * \\\n",
        "        FROM \\\n",
        "            TV22\"\n",
        "\n",
        "query = \"SELECT\\\n",
        "            `Infraction_State` AS `State`, \\\n",
        "            COUNT(*) AS `Violations_Count`, \\\n",
        "            MONTH(`Date_of_Violation_DD/MM/YYYY`) AS `Month` \\\n",
        "        FROM \\\n",
        "            TV22 \\\n",
        "        GROUP BY \\\n",
        "            `Infraction_State`, `Month` \\\n",
        "        ORDER BY \\\n",
        "            `Month`\"\n",
        "\n",
        "# run the query and storying in another variable called flights10\n",
        "violations_month_state = spark.sql(query)\n",
        "\n",
        "# see result\n",
        "violations_month_state.show()"
      ],
      "metadata": {
        "colab": {
          "base_uri": "https://localhost:8080/"
        },
        "id": "YJ0VCwwJIzzV",
        "outputId": "5e804a4c-9182-4be3-bca5-0142cfdc75f7"
      },
      "execution_count": 54,
      "outputs": [
        {
          "output_type": "stream",
          "name": "stdout",
          "text": [
            "+-----+----------------+-----+\n",
            "|State|Violations_Count|Month|\n",
            "+-----+----------------+-----+\n",
            "|   RS|           21648|    1|\n",
            "|   RN|            5390|    1|\n",
            "|   RR|             931|    1|\n",
            "|   SP|           35375|    1|\n",
            "|   PR|           28441|    1|\n",
            "|   AC|            1935|    1|\n",
            "|   DF|            3789|    1|\n",
            "|   MS|           19957|    1|\n",
            "|   ES|            9814|    1|\n",
            "|   AP|            1065|    1|\n",
            "|   PB|            8921|    1|\n",
            "|   BA|           29613|    1|\n",
            "|   MT|           15282|    1|\n",
            "|   TO|            3320|    1|\n",
            "|   SE|            3347|    1|\n",
            "|   CE|           11819|    1|\n",
            "|   MA|            6152|    1|\n",
            "|   MG|           25886|    1|\n",
            "|   RJ|           47616|    1|\n",
            "|   PI|            6897|    1|\n",
            "+-----+----------------+-----+\n",
            "only showing top 20 rows\n",
            "\n"
          ]
        }
      ]
    },
    {
      "cell_type": "code",
      "source": [
        "# Perform the pivot operation\n",
        "pivot_violations_month_state = violations_month_state.groupBy(\"Month\").pivot(\"State\").sum(\"Violations_Count\")\n",
        "\n",
        "# Show the resulting DataFrame\n",
        "pivot_violations_month_state.show()"
      ],
      "metadata": {
        "colab": {
          "base_uri": "https://localhost:8080/"
        },
        "id": "C6IBPOFbMoRS",
        "outputId": "81561c7e-8de7-4d5f-95b0-caa5c149d7f4"
      },
      "execution_count": 56,
      "outputs": [
        {
          "output_type": "stream",
          "name": "stdout",
          "text": [
            "+-----+----+----+----+----+-----+-----+-----+-----+-----+----+-----+-----+-----+----+----+-----+-----+-----+-----+----+----+----+-----+-----+----+-----+----+\n",
            "|Month|  AC|  AL|  AM|  AP|   BA|   CE|   DF|   ES|   GO|  MA|   MG|   MS|   MT|  PA|  PB|   PE|   PI|   PR|   RJ|  RN|  RO|  RR|   RS|   SC|  SE|   SP|  TO|\n",
            "+-----+----+----+----+----+-----+-----+-----+-----+-----+----+-----+-----+-----+----+----+-----+-----+-----+-----+----+----+----+-----+-----+----+-----+----+\n",
            "|   12| 992|3353|1881|2441|36934| 7253| 5360| 6001|18423|7123|39532|32609|17395|6727|5533|10972| 5969|19881|25031|7346|6909|1090|30135|16466|2932|39002|3575|\n",
            "|    1|1935|4145|1960|1065|29613|11819| 3789| 9814|12965|6152|25886|19957|15282|4518|8921| 9599| 6897|28441|47616|5390|7160| 931|21648| 9393|3347|35375|3320|\n",
            "|    6|1199|2133|1780|1048|33048| 7611| 7566|15296|18386|4014|39351|15812|14364|5398|5165| 9545| 5515|12865|47713|5028|7654| 610|15623|14244|1053|29731|3272|\n",
            "|    3|1626|3892|1451|1136|38322|12586| 7749| 9687|26626|7029|38961|22607|15729|6392|7931|14336| 8104|25538|45218|7639|9425|1255|23029|14372|3806|34265|3950|\n",
            "|    5|1056|2950|1658|1599|28583|11562| 9927|14337|22472|4799|41442|15193|16188|7843|6707|14201|10491|18577|41165|6086|8190| 703|19892|17870|3193|21472|3518|\n",
            "|    9|1082|4449|1801|1626|34947|10264| 3117|16495|17573|6990|41478|19202|14088|6303|6126|10821| 6535|15283|20197|7185|9287|1013|19967|16094|3539|30824|2282|\n",
            "|    4|1178|4175|2049|1670|42969|15011|13708|12860|25979|5965|51360|23967|14066|6836|7465|13093| 8156|21734|48050|6544|8750|1523|23871|17591|3901|22893|3168|\n",
            "|    8|1109|2560|1520|1177|34006|10619| 3562|15743|17892|7213|37185|19180|13121|6465|6425| 9846| 6136|16044|22501|6374|9161| 907|18305|14365|2660|31345|2702|\n",
            "|    7|1491|1610|1450| 876|32852| 6897| 8809|14789|18359|5540|29557|19015|12435|6650|4797| 7816| 5585|16983|36345|5192|6754| 538|14714|12415|2429|31650|2698|\n",
            "|   10|1339|3767|1361|1827|41016|11813| 3465|16637|16130|7777|40813|19403|15057|8147|7186|11859| 6570|17804|24220|7429|7893| 921|21528|17167|3874|35017|3019|\n",
            "|   11| 655|3121|1631|1971|27145| 8432| 2187|11161|13768|4749|32376|20275| 9131|5757|4434|11266| 4508|17306|17399|5965|3558|1253|18383|14877|2936|28798|2983|\n",
            "|    2|1869|4442|1560|1290|37657|13540| 4506| 8171|21802|5899|30731|20966|15878|6924|7194|13019|10629|26903|43526|6567|8365|1289|24964|13186|3875|37702|3374|\n",
            "+-----+----+----+----+----+-----+-----+-----+-----+-----+----+-----+-----+-----+----+----+-----+-----+-----+-----+----+----+----+-----+-----+----+-----+----+\n",
            "\n"
          ]
        }
      ]
    },
    {
      "cell_type": "code",
      "source": [
        "# Import pandas lib\n",
        "import pandas as pd\n",
        "\n",
        "# Converting Spark Dataframe to Pandas Dataframe\n",
        "df_pivot_violations_month_state = pivot_violations_month_state.toPandas()"
      ],
      "metadata": {
        "id": "S5jiEQj0NdKU"
      },
      "execution_count": 57,
      "outputs": []
    },
    {
      "cell_type": "code",
      "source": [
        "df_pivot_violations_month_state"
      ],
      "metadata": {
        "colab": {
          "base_uri": "https://localhost:8080/",
          "height": 455
        },
        "id": "mmH6PB-XN2j6",
        "outputId": "e1d6fb24-8728-4214-bd31-3309ac18e509"
      },
      "execution_count": 58,
      "outputs": [
        {
          "output_type": "execute_result",
          "data": {
            "text/plain": [
              "    Month    AC    AL    AM    AP     BA     CE     DF     ES     GO  ...  \\\n",
              "0      12   992  3353  1881  2441  36934   7253   5360   6001  18423  ...   \n",
              "1       1  1935  4145  1960  1065  29613  11819   3789   9814  12965  ...   \n",
              "2       6  1199  2133  1780  1048  33048   7611   7566  15296  18386  ...   \n",
              "3       3  1626  3892  1451  1136  38322  12586   7749   9687  26626  ...   \n",
              "4       5  1056  2950  1658  1599  28583  11562   9927  14337  22472  ...   \n",
              "5       9  1082  4449  1801  1626  34947  10264   3117  16495  17573  ...   \n",
              "6       4  1178  4175  2049  1670  42969  15011  13708  12860  25979  ...   \n",
              "7       8  1109  2560  1520  1177  34006  10619   3562  15743  17892  ...   \n",
              "8       7  1491  1610  1450   876  32852   6897   8809  14789  18359  ...   \n",
              "9      10  1339  3767  1361  1827  41016  11813   3465  16637  16130  ...   \n",
              "10     11   655  3121  1631  1971  27145   8432   2187  11161  13768  ...   \n",
              "11      2  1869  4442  1560  1290  37657  13540   4506   8171  21802  ...   \n",
              "\n",
              "       PR     RJ    RN    RO    RR     RS     SC    SE     SP    TO  \n",
              "0   19881  25031  7346  6909  1090  30135  16466  2932  39002  3575  \n",
              "1   28441  47616  5390  7160   931  21648   9393  3347  35375  3320  \n",
              "2   12865  47713  5028  7654   610  15623  14244  1053  29731  3272  \n",
              "3   25538  45218  7639  9425  1255  23029  14372  3806  34265  3950  \n",
              "4   18577  41165  6086  8190   703  19892  17870  3193  21472  3518  \n",
              "5   15283  20197  7185  9287  1013  19967  16094  3539  30824  2282  \n",
              "6   21734  48050  6544  8750  1523  23871  17591  3901  22893  3168  \n",
              "7   16044  22501  6374  9161   907  18305  14365  2660  31345  2702  \n",
              "8   16983  36345  5192  6754   538  14714  12415  2429  31650  2698  \n",
              "9   17804  24220  7429  7893   921  21528  17167  3874  35017  3019  \n",
              "10  17306  17399  5965  3558  1253  18383  14877  2936  28798  2983  \n",
              "11  26903  43526  6567  8365  1289  24964  13186  3875  37702  3374  \n",
              "\n",
              "[12 rows x 28 columns]"
            ],
            "text/html": [
              "\n",
              "  <div id=\"df-b9cdcd88-6066-4b91-89ba-d726d385c148\">\n",
              "    <div class=\"colab-df-container\">\n",
              "      <div>\n",
              "<style scoped>\n",
              "    .dataframe tbody tr th:only-of-type {\n",
              "        vertical-align: middle;\n",
              "    }\n",
              "\n",
              "    .dataframe tbody tr th {\n",
              "        vertical-align: top;\n",
              "    }\n",
              "\n",
              "    .dataframe thead th {\n",
              "        text-align: right;\n",
              "    }\n",
              "</style>\n",
              "<table border=\"1\" class=\"dataframe\">\n",
              "  <thead>\n",
              "    <tr style=\"text-align: right;\">\n",
              "      <th></th>\n",
              "      <th>Month</th>\n",
              "      <th>AC</th>\n",
              "      <th>AL</th>\n",
              "      <th>AM</th>\n",
              "      <th>AP</th>\n",
              "      <th>BA</th>\n",
              "      <th>CE</th>\n",
              "      <th>DF</th>\n",
              "      <th>ES</th>\n",
              "      <th>GO</th>\n",
              "      <th>...</th>\n",
              "      <th>PR</th>\n",
              "      <th>RJ</th>\n",
              "      <th>RN</th>\n",
              "      <th>RO</th>\n",
              "      <th>RR</th>\n",
              "      <th>RS</th>\n",
              "      <th>SC</th>\n",
              "      <th>SE</th>\n",
              "      <th>SP</th>\n",
              "      <th>TO</th>\n",
              "    </tr>\n",
              "  </thead>\n",
              "  <tbody>\n",
              "    <tr>\n",
              "      <th>0</th>\n",
              "      <td>12</td>\n",
              "      <td>992</td>\n",
              "      <td>3353</td>\n",
              "      <td>1881</td>\n",
              "      <td>2441</td>\n",
              "      <td>36934</td>\n",
              "      <td>7253</td>\n",
              "      <td>5360</td>\n",
              "      <td>6001</td>\n",
              "      <td>18423</td>\n",
              "      <td>...</td>\n",
              "      <td>19881</td>\n",
              "      <td>25031</td>\n",
              "      <td>7346</td>\n",
              "      <td>6909</td>\n",
              "      <td>1090</td>\n",
              "      <td>30135</td>\n",
              "      <td>16466</td>\n",
              "      <td>2932</td>\n",
              "      <td>39002</td>\n",
              "      <td>3575</td>\n",
              "    </tr>\n",
              "    <tr>\n",
              "      <th>1</th>\n",
              "      <td>1</td>\n",
              "      <td>1935</td>\n",
              "      <td>4145</td>\n",
              "      <td>1960</td>\n",
              "      <td>1065</td>\n",
              "      <td>29613</td>\n",
              "      <td>11819</td>\n",
              "      <td>3789</td>\n",
              "      <td>9814</td>\n",
              "      <td>12965</td>\n",
              "      <td>...</td>\n",
              "      <td>28441</td>\n",
              "      <td>47616</td>\n",
              "      <td>5390</td>\n",
              "      <td>7160</td>\n",
              "      <td>931</td>\n",
              "      <td>21648</td>\n",
              "      <td>9393</td>\n",
              "      <td>3347</td>\n",
              "      <td>35375</td>\n",
              "      <td>3320</td>\n",
              "    </tr>\n",
              "    <tr>\n",
              "      <th>2</th>\n",
              "      <td>6</td>\n",
              "      <td>1199</td>\n",
              "      <td>2133</td>\n",
              "      <td>1780</td>\n",
              "      <td>1048</td>\n",
              "      <td>33048</td>\n",
              "      <td>7611</td>\n",
              "      <td>7566</td>\n",
              "      <td>15296</td>\n",
              "      <td>18386</td>\n",
              "      <td>...</td>\n",
              "      <td>12865</td>\n",
              "      <td>47713</td>\n",
              "      <td>5028</td>\n",
              "      <td>7654</td>\n",
              "      <td>610</td>\n",
              "      <td>15623</td>\n",
              "      <td>14244</td>\n",
              "      <td>1053</td>\n",
              "      <td>29731</td>\n",
              "      <td>3272</td>\n",
              "    </tr>\n",
              "    <tr>\n",
              "      <th>3</th>\n",
              "      <td>3</td>\n",
              "      <td>1626</td>\n",
              "      <td>3892</td>\n",
              "      <td>1451</td>\n",
              "      <td>1136</td>\n",
              "      <td>38322</td>\n",
              "      <td>12586</td>\n",
              "      <td>7749</td>\n",
              "      <td>9687</td>\n",
              "      <td>26626</td>\n",
              "      <td>...</td>\n",
              "      <td>25538</td>\n",
              "      <td>45218</td>\n",
              "      <td>7639</td>\n",
              "      <td>9425</td>\n",
              "      <td>1255</td>\n",
              "      <td>23029</td>\n",
              "      <td>14372</td>\n",
              "      <td>3806</td>\n",
              "      <td>34265</td>\n",
              "      <td>3950</td>\n",
              "    </tr>\n",
              "    <tr>\n",
              "      <th>4</th>\n",
              "      <td>5</td>\n",
              "      <td>1056</td>\n",
              "      <td>2950</td>\n",
              "      <td>1658</td>\n",
              "      <td>1599</td>\n",
              "      <td>28583</td>\n",
              "      <td>11562</td>\n",
              "      <td>9927</td>\n",
              "      <td>14337</td>\n",
              "      <td>22472</td>\n",
              "      <td>...</td>\n",
              "      <td>18577</td>\n",
              "      <td>41165</td>\n",
              "      <td>6086</td>\n",
              "      <td>8190</td>\n",
              "      <td>703</td>\n",
              "      <td>19892</td>\n",
              "      <td>17870</td>\n",
              "      <td>3193</td>\n",
              "      <td>21472</td>\n",
              "      <td>3518</td>\n",
              "    </tr>\n",
              "    <tr>\n",
              "      <th>5</th>\n",
              "      <td>9</td>\n",
              "      <td>1082</td>\n",
              "      <td>4449</td>\n",
              "      <td>1801</td>\n",
              "      <td>1626</td>\n",
              "      <td>34947</td>\n",
              "      <td>10264</td>\n",
              "      <td>3117</td>\n",
              "      <td>16495</td>\n",
              "      <td>17573</td>\n",
              "      <td>...</td>\n",
              "      <td>15283</td>\n",
              "      <td>20197</td>\n",
              "      <td>7185</td>\n",
              "      <td>9287</td>\n",
              "      <td>1013</td>\n",
              "      <td>19967</td>\n",
              "      <td>16094</td>\n",
              "      <td>3539</td>\n",
              "      <td>30824</td>\n",
              "      <td>2282</td>\n",
              "    </tr>\n",
              "    <tr>\n",
              "      <th>6</th>\n",
              "      <td>4</td>\n",
              "      <td>1178</td>\n",
              "      <td>4175</td>\n",
              "      <td>2049</td>\n",
              "      <td>1670</td>\n",
              "      <td>42969</td>\n",
              "      <td>15011</td>\n",
              "      <td>13708</td>\n",
              "      <td>12860</td>\n",
              "      <td>25979</td>\n",
              "      <td>...</td>\n",
              "      <td>21734</td>\n",
              "      <td>48050</td>\n",
              "      <td>6544</td>\n",
              "      <td>8750</td>\n",
              "      <td>1523</td>\n",
              "      <td>23871</td>\n",
              "      <td>17591</td>\n",
              "      <td>3901</td>\n",
              "      <td>22893</td>\n",
              "      <td>3168</td>\n",
              "    </tr>\n",
              "    <tr>\n",
              "      <th>7</th>\n",
              "      <td>8</td>\n",
              "      <td>1109</td>\n",
              "      <td>2560</td>\n",
              "      <td>1520</td>\n",
              "      <td>1177</td>\n",
              "      <td>34006</td>\n",
              "      <td>10619</td>\n",
              "      <td>3562</td>\n",
              "      <td>15743</td>\n",
              "      <td>17892</td>\n",
              "      <td>...</td>\n",
              "      <td>16044</td>\n",
              "      <td>22501</td>\n",
              "      <td>6374</td>\n",
              "      <td>9161</td>\n",
              "      <td>907</td>\n",
              "      <td>18305</td>\n",
              "      <td>14365</td>\n",
              "      <td>2660</td>\n",
              "      <td>31345</td>\n",
              "      <td>2702</td>\n",
              "    </tr>\n",
              "    <tr>\n",
              "      <th>8</th>\n",
              "      <td>7</td>\n",
              "      <td>1491</td>\n",
              "      <td>1610</td>\n",
              "      <td>1450</td>\n",
              "      <td>876</td>\n",
              "      <td>32852</td>\n",
              "      <td>6897</td>\n",
              "      <td>8809</td>\n",
              "      <td>14789</td>\n",
              "      <td>18359</td>\n",
              "      <td>...</td>\n",
              "      <td>16983</td>\n",
              "      <td>36345</td>\n",
              "      <td>5192</td>\n",
              "      <td>6754</td>\n",
              "      <td>538</td>\n",
              "      <td>14714</td>\n",
              "      <td>12415</td>\n",
              "      <td>2429</td>\n",
              "      <td>31650</td>\n",
              "      <td>2698</td>\n",
              "    </tr>\n",
              "    <tr>\n",
              "      <th>9</th>\n",
              "      <td>10</td>\n",
              "      <td>1339</td>\n",
              "      <td>3767</td>\n",
              "      <td>1361</td>\n",
              "      <td>1827</td>\n",
              "      <td>41016</td>\n",
              "      <td>11813</td>\n",
              "      <td>3465</td>\n",
              "      <td>16637</td>\n",
              "      <td>16130</td>\n",
              "      <td>...</td>\n",
              "      <td>17804</td>\n",
              "      <td>24220</td>\n",
              "      <td>7429</td>\n",
              "      <td>7893</td>\n",
              "      <td>921</td>\n",
              "      <td>21528</td>\n",
              "      <td>17167</td>\n",
              "      <td>3874</td>\n",
              "      <td>35017</td>\n",
              "      <td>3019</td>\n",
              "    </tr>\n",
              "    <tr>\n",
              "      <th>10</th>\n",
              "      <td>11</td>\n",
              "      <td>655</td>\n",
              "      <td>3121</td>\n",
              "      <td>1631</td>\n",
              "      <td>1971</td>\n",
              "      <td>27145</td>\n",
              "      <td>8432</td>\n",
              "      <td>2187</td>\n",
              "      <td>11161</td>\n",
              "      <td>13768</td>\n",
              "      <td>...</td>\n",
              "      <td>17306</td>\n",
              "      <td>17399</td>\n",
              "      <td>5965</td>\n",
              "      <td>3558</td>\n",
              "      <td>1253</td>\n",
              "      <td>18383</td>\n",
              "      <td>14877</td>\n",
              "      <td>2936</td>\n",
              "      <td>28798</td>\n",
              "      <td>2983</td>\n",
              "    </tr>\n",
              "    <tr>\n",
              "      <th>11</th>\n",
              "      <td>2</td>\n",
              "      <td>1869</td>\n",
              "      <td>4442</td>\n",
              "      <td>1560</td>\n",
              "      <td>1290</td>\n",
              "      <td>37657</td>\n",
              "      <td>13540</td>\n",
              "      <td>4506</td>\n",
              "      <td>8171</td>\n",
              "      <td>21802</td>\n",
              "      <td>...</td>\n",
              "      <td>26903</td>\n",
              "      <td>43526</td>\n",
              "      <td>6567</td>\n",
              "      <td>8365</td>\n",
              "      <td>1289</td>\n",
              "      <td>24964</td>\n",
              "      <td>13186</td>\n",
              "      <td>3875</td>\n",
              "      <td>37702</td>\n",
              "      <td>3374</td>\n",
              "    </tr>\n",
              "  </tbody>\n",
              "</table>\n",
              "<p>12 rows × 28 columns</p>\n",
              "</div>\n",
              "      <button class=\"colab-df-convert\" onclick=\"convertToInteractive('df-b9cdcd88-6066-4b91-89ba-d726d385c148')\"\n",
              "              title=\"Convert this dataframe to an interactive table.\"\n",
              "              style=\"display:none;\">\n",
              "        \n",
              "  <svg xmlns=\"http://www.w3.org/2000/svg\" height=\"24px\"viewBox=\"0 0 24 24\"\n",
              "       width=\"24px\">\n",
              "    <path d=\"M0 0h24v24H0V0z\" fill=\"none\"/>\n",
              "    <path d=\"M18.56 5.44l.94 2.06.94-2.06 2.06-.94-2.06-.94-.94-2.06-.94 2.06-2.06.94zm-11 1L8.5 8.5l.94-2.06 2.06-.94-2.06-.94L8.5 2.5l-.94 2.06-2.06.94zm10 10l.94 2.06.94-2.06 2.06-.94-2.06-.94-.94-2.06-.94 2.06-2.06.94z\"/><path d=\"M17.41 7.96l-1.37-1.37c-.4-.4-.92-.59-1.43-.59-.52 0-1.04.2-1.43.59L10.3 9.45l-7.72 7.72c-.78.78-.78 2.05 0 2.83L4 21.41c.39.39.9.59 1.41.59.51 0 1.02-.2 1.41-.59l7.78-7.78 2.81-2.81c.8-.78.8-2.07 0-2.86zM5.41 20L4 18.59l7.72-7.72 1.47 1.35L5.41 20z\"/>\n",
              "  </svg>\n",
              "      </button>\n",
              "      \n",
              "  <style>\n",
              "    .colab-df-container {\n",
              "      display:flex;\n",
              "      flex-wrap:wrap;\n",
              "      gap: 12px;\n",
              "    }\n",
              "\n",
              "    .colab-df-convert {\n",
              "      background-color: #E8F0FE;\n",
              "      border: none;\n",
              "      border-radius: 50%;\n",
              "      cursor: pointer;\n",
              "      display: none;\n",
              "      fill: #1967D2;\n",
              "      height: 32px;\n",
              "      padding: 0 0 0 0;\n",
              "      width: 32px;\n",
              "    }\n",
              "\n",
              "    .colab-df-convert:hover {\n",
              "      background-color: #E2EBFA;\n",
              "      box-shadow: 0px 1px 2px rgba(60, 64, 67, 0.3), 0px 1px 3px 1px rgba(60, 64, 67, 0.15);\n",
              "      fill: #174EA6;\n",
              "    }\n",
              "\n",
              "    [theme=dark] .colab-df-convert {\n",
              "      background-color: #3B4455;\n",
              "      fill: #D2E3FC;\n",
              "    }\n",
              "\n",
              "    [theme=dark] .colab-df-convert:hover {\n",
              "      background-color: #434B5C;\n",
              "      box-shadow: 0px 1px 3px 1px rgba(0, 0, 0, 0.15);\n",
              "      filter: drop-shadow(0px 1px 2px rgba(0, 0, 0, 0.3));\n",
              "      fill: #FFFFFF;\n",
              "    }\n",
              "  </style>\n",
              "\n",
              "      <script>\n",
              "        const buttonEl =\n",
              "          document.querySelector('#df-b9cdcd88-6066-4b91-89ba-d726d385c148 button.colab-df-convert');\n",
              "        buttonEl.style.display =\n",
              "          google.colab.kernel.accessAllowed ? 'block' : 'none';\n",
              "\n",
              "        async function convertToInteractive(key) {\n",
              "          const element = document.querySelector('#df-b9cdcd88-6066-4b91-89ba-d726d385c148');\n",
              "          const dataTable =\n",
              "            await google.colab.kernel.invokeFunction('convertToInteractive',\n",
              "                                                     [key], {});\n",
              "          if (!dataTable) return;\n",
              "\n",
              "          const docLinkHtml = 'Like what you see? Visit the ' +\n",
              "            '<a target=\"_blank\" href=https://colab.research.google.com/notebooks/data_table.ipynb>data table notebook</a>'\n",
              "            + ' to learn more about interactive tables.';\n",
              "          element.innerHTML = '';\n",
              "          dataTable['output_type'] = 'display_data';\n",
              "          await google.colab.output.renderOutput(dataTable, element);\n",
              "          const docLink = document.createElement('div');\n",
              "          docLink.innerHTML = docLinkHtml;\n",
              "          element.appendChild(docLink);\n",
              "        }\n",
              "      </script>\n",
              "    </div>\n",
              "  </div>\n",
              "  "
            ]
          },
          "metadata": {},
          "execution_count": 58
        }
      ]
    },
    {
      "cell_type": "code",
      "source": [
        "px.imshow(\n",
        "    df_pivot_violations_month_state,\n",
        "    title=' Heatmap | Monthly Traffic Violations by State 2022')"
      ],
      "metadata": {
        "colab": {
          "base_uri": "https://localhost:8080/",
          "height": 542
        },
        "id": "FwaYNYo2NW51",
        "outputId": "2c664f28-487b-4823-ce52-f59ac548416b"
      },
      "execution_count": 62,
      "outputs": [
        {
          "output_type": "display_data",
          "data": {
            "text/html": [
              "<html>\n",
              "<head><meta charset=\"utf-8\" /></head>\n",
              "<body>\n",
              "    <div>            <script src=\"https://cdnjs.cloudflare.com/ajax/libs/mathjax/2.7.5/MathJax.js?config=TeX-AMS-MML_SVG\"></script><script type=\"text/javascript\">if (window.MathJax && window.MathJax.Hub && window.MathJax.Hub.Config) {window.MathJax.Hub.Config({SVG: {font: \"STIX-Web\"}});}</script>                <script type=\"text/javascript\">window.PlotlyConfig = {MathJaxConfig: 'local'};</script>\n",
              "        <script src=\"https://cdn.plot.ly/plotly-2.18.2.min.js\"></script>                <div id=\"84a3a527-fbbe-4f94-b6fe-8c3539ac9056\" class=\"plotly-graph-div\" style=\"height:525px; width:100%;\"></div>            <script type=\"text/javascript\">                                    window.PLOTLYENV=window.PLOTLYENV || {};                                    if (document.getElementById(\"84a3a527-fbbe-4f94-b6fe-8c3539ac9056\")) {                    Plotly.newPlot(                        \"84a3a527-fbbe-4f94-b6fe-8c3539ac9056\",                        [{\"coloraxis\":\"coloraxis\",\"name\":\"0\",\"x\":[\"Month\",\"AC\",\"AL\",\"AM\",\"AP\",\"BA\",\"CE\",\"DF\",\"ES\",\"GO\",\"MA\",\"MG\",\"MS\",\"MT\",\"PA\",\"PB\",\"PE\",\"PI\",\"PR\",\"RJ\",\"RN\",\"RO\",\"RR\",\"RS\",\"SC\",\"SE\",\"SP\",\"TO\"],\"y\":[0,1,2,3,4,5,6,7,8,9,10,11],\"z\":[[12,992,3353,1881,2441,36934,7253,5360,6001,18423,7123,39532,32609,17395,6727,5533,10972,5969,19881,25031,7346,6909,1090,30135,16466,2932,39002,3575],[1,1935,4145,1960,1065,29613,11819,3789,9814,12965,6152,25886,19957,15282,4518,8921,9599,6897,28441,47616,5390,7160,931,21648,9393,3347,35375,3320],[6,1199,2133,1780,1048,33048,7611,7566,15296,18386,4014,39351,15812,14364,5398,5165,9545,5515,12865,47713,5028,7654,610,15623,14244,1053,29731,3272],[3,1626,3892,1451,1136,38322,12586,7749,9687,26626,7029,38961,22607,15729,6392,7931,14336,8104,25538,45218,7639,9425,1255,23029,14372,3806,34265,3950],[5,1056,2950,1658,1599,28583,11562,9927,14337,22472,4799,41442,15193,16188,7843,6707,14201,10491,18577,41165,6086,8190,703,19892,17870,3193,21472,3518],[9,1082,4449,1801,1626,34947,10264,3117,16495,17573,6990,41478,19202,14088,6303,6126,10821,6535,15283,20197,7185,9287,1013,19967,16094,3539,30824,2282],[4,1178,4175,2049,1670,42969,15011,13708,12860,25979,5965,51360,23967,14066,6836,7465,13093,8156,21734,48050,6544,8750,1523,23871,17591,3901,22893,3168],[8,1109,2560,1520,1177,34006,10619,3562,15743,17892,7213,37185,19180,13121,6465,6425,9846,6136,16044,22501,6374,9161,907,18305,14365,2660,31345,2702],[7,1491,1610,1450,876,32852,6897,8809,14789,18359,5540,29557,19015,12435,6650,4797,7816,5585,16983,36345,5192,6754,538,14714,12415,2429,31650,2698],[10,1339,3767,1361,1827,41016,11813,3465,16637,16130,7777,40813,19403,15057,8147,7186,11859,6570,17804,24220,7429,7893,921,21528,17167,3874,35017,3019],[11,655,3121,1631,1971,27145,8432,2187,11161,13768,4749,32376,20275,9131,5757,4434,11266,4508,17306,17399,5965,3558,1253,18383,14877,2936,28798,2983],[2,1869,4442,1560,1290,37657,13540,4506,8171,21802,5899,30731,20966,15878,6924,7194,13019,10629,26903,43526,6567,8365,1289,24964,13186,3875,37702,3374]],\"type\":\"heatmap\",\"xaxis\":\"x\",\"yaxis\":\"y\",\"hovertemplate\":\"x: %{x}<br>y: %{y}<br>color: %{z}<extra></extra>\"}],                        {\"template\":{\"data\":{\"histogram2dcontour\":[{\"type\":\"histogram2dcontour\",\"colorbar\":{\"outlinewidth\":0,\"ticks\":\"\"},\"colorscale\":[[0.0,\"#0d0887\"],[0.1111111111111111,\"#46039f\"],[0.2222222222222222,\"#7201a8\"],[0.3333333333333333,\"#9c179e\"],[0.4444444444444444,\"#bd3786\"],[0.5555555555555556,\"#d8576b\"],[0.6666666666666666,\"#ed7953\"],[0.7777777777777778,\"#fb9f3a\"],[0.8888888888888888,\"#fdca26\"],[1.0,\"#f0f921\"]]}],\"choropleth\":[{\"type\":\"choropleth\",\"colorbar\":{\"outlinewidth\":0,\"ticks\":\"\"}}],\"histogram2d\":[{\"type\":\"histogram2d\",\"colorbar\":{\"outlinewidth\":0,\"ticks\":\"\"},\"colorscale\":[[0.0,\"#0d0887\"],[0.1111111111111111,\"#46039f\"],[0.2222222222222222,\"#7201a8\"],[0.3333333333333333,\"#9c179e\"],[0.4444444444444444,\"#bd3786\"],[0.5555555555555556,\"#d8576b\"],[0.6666666666666666,\"#ed7953\"],[0.7777777777777778,\"#fb9f3a\"],[0.8888888888888888,\"#fdca26\"],[1.0,\"#f0f921\"]]}],\"heatmap\":[{\"type\":\"heatmap\",\"colorbar\":{\"outlinewidth\":0,\"ticks\":\"\"},\"colorscale\":[[0.0,\"#0d0887\"],[0.1111111111111111,\"#46039f\"],[0.2222222222222222,\"#7201a8\"],[0.3333333333333333,\"#9c179e\"],[0.4444444444444444,\"#bd3786\"],[0.5555555555555556,\"#d8576b\"],[0.6666666666666666,\"#ed7953\"],[0.7777777777777778,\"#fb9f3a\"],[0.8888888888888888,\"#fdca26\"],[1.0,\"#f0f921\"]]}],\"heatmapgl\":[{\"type\":\"heatmapgl\",\"colorbar\":{\"outlinewidth\":0,\"ticks\":\"\"},\"colorscale\":[[0.0,\"#0d0887\"],[0.1111111111111111,\"#46039f\"],[0.2222222222222222,\"#7201a8\"],[0.3333333333333333,\"#9c179e\"],[0.4444444444444444,\"#bd3786\"],[0.5555555555555556,\"#d8576b\"],[0.6666666666666666,\"#ed7953\"],[0.7777777777777778,\"#fb9f3a\"],[0.8888888888888888,\"#fdca26\"],[1.0,\"#f0f921\"]]}],\"contourcarpet\":[{\"type\":\"contourcarpet\",\"colorbar\":{\"outlinewidth\":0,\"ticks\":\"\"}}],\"contour\":[{\"type\":\"contour\",\"colorbar\":{\"outlinewidth\":0,\"ticks\":\"\"},\"colorscale\":[[0.0,\"#0d0887\"],[0.1111111111111111,\"#46039f\"],[0.2222222222222222,\"#7201a8\"],[0.3333333333333333,\"#9c179e\"],[0.4444444444444444,\"#bd3786\"],[0.5555555555555556,\"#d8576b\"],[0.6666666666666666,\"#ed7953\"],[0.7777777777777778,\"#fb9f3a\"],[0.8888888888888888,\"#fdca26\"],[1.0,\"#f0f921\"]]}],\"surface\":[{\"type\":\"surface\",\"colorbar\":{\"outlinewidth\":0,\"ticks\":\"\"},\"colorscale\":[[0.0,\"#0d0887\"],[0.1111111111111111,\"#46039f\"],[0.2222222222222222,\"#7201a8\"],[0.3333333333333333,\"#9c179e\"],[0.4444444444444444,\"#bd3786\"],[0.5555555555555556,\"#d8576b\"],[0.6666666666666666,\"#ed7953\"],[0.7777777777777778,\"#fb9f3a\"],[0.8888888888888888,\"#fdca26\"],[1.0,\"#f0f921\"]]}],\"mesh3d\":[{\"type\":\"mesh3d\",\"colorbar\":{\"outlinewidth\":0,\"ticks\":\"\"}}],\"scatter\":[{\"fillpattern\":{\"fillmode\":\"overlay\",\"size\":10,\"solidity\":0.2},\"type\":\"scatter\"}],\"parcoords\":[{\"type\":\"parcoords\",\"line\":{\"colorbar\":{\"outlinewidth\":0,\"ticks\":\"\"}}}],\"scatterpolargl\":[{\"type\":\"scatterpolargl\",\"marker\":{\"colorbar\":{\"outlinewidth\":0,\"ticks\":\"\"}}}],\"bar\":[{\"error_x\":{\"color\":\"#2a3f5f\"},\"error_y\":{\"color\":\"#2a3f5f\"},\"marker\":{\"line\":{\"color\":\"#E5ECF6\",\"width\":0.5},\"pattern\":{\"fillmode\":\"overlay\",\"size\":10,\"solidity\":0.2}},\"type\":\"bar\"}],\"scattergeo\":[{\"type\":\"scattergeo\",\"marker\":{\"colorbar\":{\"outlinewidth\":0,\"ticks\":\"\"}}}],\"scatterpolar\":[{\"type\":\"scatterpolar\",\"marker\":{\"colorbar\":{\"outlinewidth\":0,\"ticks\":\"\"}}}],\"histogram\":[{\"marker\":{\"pattern\":{\"fillmode\":\"overlay\",\"size\":10,\"solidity\":0.2}},\"type\":\"histogram\"}],\"scattergl\":[{\"type\":\"scattergl\",\"marker\":{\"colorbar\":{\"outlinewidth\":0,\"ticks\":\"\"}}}],\"scatter3d\":[{\"type\":\"scatter3d\",\"line\":{\"colorbar\":{\"outlinewidth\":0,\"ticks\":\"\"}},\"marker\":{\"colorbar\":{\"outlinewidth\":0,\"ticks\":\"\"}}}],\"scattermapbox\":[{\"type\":\"scattermapbox\",\"marker\":{\"colorbar\":{\"outlinewidth\":0,\"ticks\":\"\"}}}],\"scatterternary\":[{\"type\":\"scatterternary\",\"marker\":{\"colorbar\":{\"outlinewidth\":0,\"ticks\":\"\"}}}],\"scattercarpet\":[{\"type\":\"scattercarpet\",\"marker\":{\"colorbar\":{\"outlinewidth\":0,\"ticks\":\"\"}}}],\"carpet\":[{\"aaxis\":{\"endlinecolor\":\"#2a3f5f\",\"gridcolor\":\"white\",\"linecolor\":\"white\",\"minorgridcolor\":\"white\",\"startlinecolor\":\"#2a3f5f\"},\"baxis\":{\"endlinecolor\":\"#2a3f5f\",\"gridcolor\":\"white\",\"linecolor\":\"white\",\"minorgridcolor\":\"white\",\"startlinecolor\":\"#2a3f5f\"},\"type\":\"carpet\"}],\"table\":[{\"cells\":{\"fill\":{\"color\":\"#EBF0F8\"},\"line\":{\"color\":\"white\"}},\"header\":{\"fill\":{\"color\":\"#C8D4E3\"},\"line\":{\"color\":\"white\"}},\"type\":\"table\"}],\"barpolar\":[{\"marker\":{\"line\":{\"color\":\"#E5ECF6\",\"width\":0.5},\"pattern\":{\"fillmode\":\"overlay\",\"size\":10,\"solidity\":0.2}},\"type\":\"barpolar\"}],\"pie\":[{\"automargin\":true,\"type\":\"pie\"}]},\"layout\":{\"autotypenumbers\":\"strict\",\"colorway\":[\"#636efa\",\"#EF553B\",\"#00cc96\",\"#ab63fa\",\"#FFA15A\",\"#19d3f3\",\"#FF6692\",\"#B6E880\",\"#FF97FF\",\"#FECB52\"],\"font\":{\"color\":\"#2a3f5f\"},\"hovermode\":\"closest\",\"hoverlabel\":{\"align\":\"left\"},\"paper_bgcolor\":\"white\",\"plot_bgcolor\":\"#E5ECF6\",\"polar\":{\"bgcolor\":\"#E5ECF6\",\"angularaxis\":{\"gridcolor\":\"white\",\"linecolor\":\"white\",\"ticks\":\"\"},\"radialaxis\":{\"gridcolor\":\"white\",\"linecolor\":\"white\",\"ticks\":\"\"}},\"ternary\":{\"bgcolor\":\"#E5ECF6\",\"aaxis\":{\"gridcolor\":\"white\",\"linecolor\":\"white\",\"ticks\":\"\"},\"baxis\":{\"gridcolor\":\"white\",\"linecolor\":\"white\",\"ticks\":\"\"},\"caxis\":{\"gridcolor\":\"white\",\"linecolor\":\"white\",\"ticks\":\"\"}},\"coloraxis\":{\"colorbar\":{\"outlinewidth\":0,\"ticks\":\"\"}},\"colorscale\":{\"sequential\":[[0.0,\"#0d0887\"],[0.1111111111111111,\"#46039f\"],[0.2222222222222222,\"#7201a8\"],[0.3333333333333333,\"#9c179e\"],[0.4444444444444444,\"#bd3786\"],[0.5555555555555556,\"#d8576b\"],[0.6666666666666666,\"#ed7953\"],[0.7777777777777778,\"#fb9f3a\"],[0.8888888888888888,\"#fdca26\"],[1.0,\"#f0f921\"]],\"sequentialminus\":[[0.0,\"#0d0887\"],[0.1111111111111111,\"#46039f\"],[0.2222222222222222,\"#7201a8\"],[0.3333333333333333,\"#9c179e\"],[0.4444444444444444,\"#bd3786\"],[0.5555555555555556,\"#d8576b\"],[0.6666666666666666,\"#ed7953\"],[0.7777777777777778,\"#fb9f3a\"],[0.8888888888888888,\"#fdca26\"],[1.0,\"#f0f921\"]],\"diverging\":[[0,\"#8e0152\"],[0.1,\"#c51b7d\"],[0.2,\"#de77ae\"],[0.3,\"#f1b6da\"],[0.4,\"#fde0ef\"],[0.5,\"#f7f7f7\"],[0.6,\"#e6f5d0\"],[0.7,\"#b8e186\"],[0.8,\"#7fbc41\"],[0.9,\"#4d9221\"],[1,\"#276419\"]]},\"xaxis\":{\"gridcolor\":\"white\",\"linecolor\":\"white\",\"ticks\":\"\",\"title\":{\"standoff\":15},\"zerolinecolor\":\"white\",\"automargin\":true,\"zerolinewidth\":2},\"yaxis\":{\"gridcolor\":\"white\",\"linecolor\":\"white\",\"ticks\":\"\",\"title\":{\"standoff\":15},\"zerolinecolor\":\"white\",\"automargin\":true,\"zerolinewidth\":2},\"scene\":{\"xaxis\":{\"backgroundcolor\":\"#E5ECF6\",\"gridcolor\":\"white\",\"linecolor\":\"white\",\"showbackground\":true,\"ticks\":\"\",\"zerolinecolor\":\"white\",\"gridwidth\":2},\"yaxis\":{\"backgroundcolor\":\"#E5ECF6\",\"gridcolor\":\"white\",\"linecolor\":\"white\",\"showbackground\":true,\"ticks\":\"\",\"zerolinecolor\":\"white\",\"gridwidth\":2},\"zaxis\":{\"backgroundcolor\":\"#E5ECF6\",\"gridcolor\":\"white\",\"linecolor\":\"white\",\"showbackground\":true,\"ticks\":\"\",\"zerolinecolor\":\"white\",\"gridwidth\":2}},\"shapedefaults\":{\"line\":{\"color\":\"#2a3f5f\"}},\"annotationdefaults\":{\"arrowcolor\":\"#2a3f5f\",\"arrowhead\":0,\"arrowwidth\":1},\"geo\":{\"bgcolor\":\"white\",\"landcolor\":\"#E5ECF6\",\"subunitcolor\":\"white\",\"showland\":true,\"showlakes\":true,\"lakecolor\":\"white\"},\"title\":{\"x\":0.05},\"mapbox\":{\"style\":\"light\"}}},\"xaxis\":{\"anchor\":\"y\",\"domain\":[0.0,1.0],\"scaleanchor\":\"y\",\"constrain\":\"domain\"},\"yaxis\":{\"anchor\":\"x\",\"domain\":[0.0,1.0],\"autorange\":\"reversed\",\"constrain\":\"domain\"},\"coloraxis\":{\"colorscale\":[[0.0,\"#0d0887\"],[0.1111111111111111,\"#46039f\"],[0.2222222222222222,\"#7201a8\"],[0.3333333333333333,\"#9c179e\"],[0.4444444444444444,\"#bd3786\"],[0.5555555555555556,\"#d8576b\"],[0.6666666666666666,\"#ed7953\"],[0.7777777777777778,\"#fb9f3a\"],[0.8888888888888888,\"#fdca26\"],[1.0,\"#f0f921\"]]},\"title\":{\"text\":\" Heatmap | Monthly Traffic Violations by State 2022\"}},                        {\"responsive\": true}                    ).then(function(){\n",
              "                            \n",
              "var gd = document.getElementById('84a3a527-fbbe-4f94-b6fe-8c3539ac9056');\n",
              "var x = new MutationObserver(function (mutations, observer) {{\n",
              "        var display = window.getComputedStyle(gd).display;\n",
              "        if (!display || display === 'none') {{\n",
              "            console.log([gd, 'removed!']);\n",
              "            Plotly.purge(gd);\n",
              "            observer.disconnect();\n",
              "        }}\n",
              "}});\n",
              "\n",
              "// Listen for the removal of the full notebook cells\n",
              "var notebookContainer = gd.closest('#notebook-container');\n",
              "if (notebookContainer) {{\n",
              "    x.observe(notebookContainer, {childList: true});\n",
              "}}\n",
              "\n",
              "// Listen for the clearing of the current output cell\n",
              "var outputEl = gd.closest('.output');\n",
              "if (outputEl) {{\n",
              "    x.observe(outputEl, {childList: true});\n",
              "}}\n",
              "\n",
              "                        })                };                            </script>        </div>\n",
              "</body>\n",
              "</html>"
            ]
          },
          "metadata": {}
        }
      ]
    },
    {
      "cell_type": "markdown",
      "source": [
        "Tipos Multas"
      ],
      "metadata": {
        "id": "2ZXRkUSmQNVM"
      }
    },
    {
      "cell_type": "code",
      "source": [
        "# Compute the cumulative percentage\n",
        "violation_type = TV22.select('Infraction_Framing') \\\n",
        "    .groupBy('Infraction_Framing') \\\n",
        "    .count() \\\n",
        "    .withColumn('cumulative_count', sum('count').over(Window.orderBy(col(\"count\").desc()))) \\\n",
        "    .withColumn('cumulative_percentage', col('cumulative_count') / sum('count').over(Window.partitionBy()) * 100)\n",
        "\n",
        "# Show the resulting DataFrame\n",
        "violation_type.show(5)"
      ],
      "metadata": {
        "colab": {
          "base_uri": "https://localhost:8080/"
        },
        "id": "z6Ubrpl-P1Hn",
        "outputId": "bcedfb73-7ae9-41cb-b77e-1efad575c129"
      },
      "execution_count": 64,
      "outputs": [
        {
          "output_type": "stream",
          "name": "stdout",
          "text": [
            "+------------------+-------+----------------+---------------------+\n",
            "|Infraction_Framing|  count|cumulative_count|cumulative_percentage|\n",
            "+------------------+-------+----------------+---------------------+\n",
            "|             218 I|1093345|         1093345|   26.437889476131556|\n",
            "|               167| 228723|         1322068|   31.968580515692935|\n",
            "|             203 V| 206200|         1528268|    36.95464878323733|\n",
            "|           230 * V| 204476|         1732744|      41.899029457701|\n",
            "|            218 II| 182358|         1915102|   46.308580559218264|\n",
            "+------------------+-------+----------------+---------------------+\n",
            "only showing top 5 rows\n",
            "\n"
          ]
        }
      ]
    },
    {
      "cell_type": "code",
      "source": [
        "# Loop no site do Detran e buscar os dados\n",
        "Url = 'https://www.detran.mg.gov.br/infracoes/consultar-tipos-infracoes/index/index/index/index/index/index/index/index/index/index/index/index/index/lista-de-infracoes?artigo=&descricao=&page='\n",
        "\n",
        "# Tabela vazia\n",
        "df_violation_ticket_value = pd.DataFrame()\n",
        "\n",
        "for Loop in range(1, 24):\n",
        "\n",
        "    # Construindo a URL\n",
        "    Link = f'{Url}{Loop}'\n",
        "\n",
        "    # Lendo os dados da Web\n",
        "    web_data = pd.read_html(Link)[0]\n",
        "\n",
        "    # Consolidar\n",
        "    df_violation_ticket_value = pd.concat([df_violation_ticket_value, web_data])"
      ],
      "metadata": {
        "id": "BCLwAxkpTy8f"
      },
      "execution_count": 65,
      "outputs": []
    },
    {
      "cell_type": "code",
      "source": [
        "# Define a translation dictionary for column translations\n",
        "translation_dict = {\n",
        "    \"Código\": \"Code\",\n",
        "    \"Desd.\": \"Desd.\",\n",
        "    \"Infração\": \"Infraction\",\n",
        "    \"Artigo\": \"Article\",\n",
        "    \"Infrator\": \"Offender\",\n",
        "    \"Pts\": \"Points\",\n",
        "    \"Valor\": \"Value\"\n",
        "}\n",
        "\n",
        "df_violation_ticket_value = df_violation_ticket_value.rename(columns=translation_dict)"
      ],
      "metadata": {
        "id": "TzWyO4Cswl4w"
      },
      "execution_count": 98,
      "outputs": []
    },
    {
      "cell_type": "code",
      "source": [
        "df_violation_ticket_value.head()"
      ],
      "metadata": {
        "colab": {
          "base_uri": "https://localhost:8080/",
          "height": 206
        },
        "id": "EunrV8WcUhUb",
        "outputId": "a0d5f849-c5a1-4024-8f7f-265d4c71fa71"
      },
      "execution_count": 102,
      "outputs": [
        {
          "output_type": "execute_result",
          "data": {
            "text/plain": [
              "   Infraction_Code  Desd.                                         Infraction  \\\n",
              "0             5622      4  PARAR NOS CANTEIROS CENTRAIS OU DIVISORES DE P...   \n",
              "1             5622      5                    PARAR NAS MARCAS DE CANALIZACAO   \n",
              "2             5630      0                PARAR NA AREA DE CRUZAMENTO DE VIAS   \n",
              "3             5649      1                                 PARAR NOS VIADUTOS   \n",
              "4             5649      2                                   PARAR NAS PONTES   \n",
              "\n",
              "      Article Offender  Points  Ticket_Value  \n",
              "0    182 * VI      CON       3      0.008838  \n",
              "1    182 * VI      CON       3      0.008838  \n",
              "2   182 * VII      CON       4      0.013016  \n",
              "3  182 * VIII      CON       4      0.013016  \n",
              "4  182 * VIII      CON       4      0.013016  "
            ],
            "text/html": [
              "\n",
              "  <div id=\"df-59c28419-1501-400d-bffc-74460c0a3d51\">\n",
              "    <div class=\"colab-df-container\">\n",
              "      <div>\n",
              "<style scoped>\n",
              "    .dataframe tbody tr th:only-of-type {\n",
              "        vertical-align: middle;\n",
              "    }\n",
              "\n",
              "    .dataframe tbody tr th {\n",
              "        vertical-align: top;\n",
              "    }\n",
              "\n",
              "    .dataframe thead th {\n",
              "        text-align: right;\n",
              "    }\n",
              "</style>\n",
              "<table border=\"1\" class=\"dataframe\">\n",
              "  <thead>\n",
              "    <tr style=\"text-align: right;\">\n",
              "      <th></th>\n",
              "      <th>Infraction_Code</th>\n",
              "      <th>Desd.</th>\n",
              "      <th>Infraction</th>\n",
              "      <th>Article</th>\n",
              "      <th>Offender</th>\n",
              "      <th>Points</th>\n",
              "      <th>Ticket_Value</th>\n",
              "    </tr>\n",
              "  </thead>\n",
              "  <tbody>\n",
              "    <tr>\n",
              "      <th>0</th>\n",
              "      <td>5622</td>\n",
              "      <td>4</td>\n",
              "      <td>PARAR NOS CANTEIROS CENTRAIS OU DIVISORES DE P...</td>\n",
              "      <td>182 * VI</td>\n",
              "      <td>CON</td>\n",
              "      <td>3</td>\n",
              "      <td>0.008838</td>\n",
              "    </tr>\n",
              "    <tr>\n",
              "      <th>1</th>\n",
              "      <td>5622</td>\n",
              "      <td>5</td>\n",
              "      <td>PARAR NAS MARCAS DE CANALIZACAO</td>\n",
              "      <td>182 * VI</td>\n",
              "      <td>CON</td>\n",
              "      <td>3</td>\n",
              "      <td>0.008838</td>\n",
              "    </tr>\n",
              "    <tr>\n",
              "      <th>2</th>\n",
              "      <td>5630</td>\n",
              "      <td>0</td>\n",
              "      <td>PARAR NA AREA DE CRUZAMENTO DE VIAS</td>\n",
              "      <td>182 * VII</td>\n",
              "      <td>CON</td>\n",
              "      <td>4</td>\n",
              "      <td>0.013016</td>\n",
              "    </tr>\n",
              "    <tr>\n",
              "      <th>3</th>\n",
              "      <td>5649</td>\n",
              "      <td>1</td>\n",
              "      <td>PARAR NOS VIADUTOS</td>\n",
              "      <td>182 * VIII</td>\n",
              "      <td>CON</td>\n",
              "      <td>4</td>\n",
              "      <td>0.013016</td>\n",
              "    </tr>\n",
              "    <tr>\n",
              "      <th>4</th>\n",
              "      <td>5649</td>\n",
              "      <td>2</td>\n",
              "      <td>PARAR NAS PONTES</td>\n",
              "      <td>182 * VIII</td>\n",
              "      <td>CON</td>\n",
              "      <td>4</td>\n",
              "      <td>0.013016</td>\n",
              "    </tr>\n",
              "  </tbody>\n",
              "</table>\n",
              "</div>\n",
              "      <button class=\"colab-df-convert\" onclick=\"convertToInteractive('df-59c28419-1501-400d-bffc-74460c0a3d51')\"\n",
              "              title=\"Convert this dataframe to an interactive table.\"\n",
              "              style=\"display:none;\">\n",
              "        \n",
              "  <svg xmlns=\"http://www.w3.org/2000/svg\" height=\"24px\"viewBox=\"0 0 24 24\"\n",
              "       width=\"24px\">\n",
              "    <path d=\"M0 0h24v24H0V0z\" fill=\"none\"/>\n",
              "    <path d=\"M18.56 5.44l.94 2.06.94-2.06 2.06-.94-2.06-.94-.94-2.06-.94 2.06-2.06.94zm-11 1L8.5 8.5l.94-2.06 2.06-.94-2.06-.94L8.5 2.5l-.94 2.06-2.06.94zm10 10l.94 2.06.94-2.06 2.06-.94-2.06-.94-.94-2.06-.94 2.06-2.06.94z\"/><path d=\"M17.41 7.96l-1.37-1.37c-.4-.4-.92-.59-1.43-.59-.52 0-1.04.2-1.43.59L10.3 9.45l-7.72 7.72c-.78.78-.78 2.05 0 2.83L4 21.41c.39.39.9.59 1.41.59.51 0 1.02-.2 1.41-.59l7.78-7.78 2.81-2.81c.8-.78.8-2.07 0-2.86zM5.41 20L4 18.59l7.72-7.72 1.47 1.35L5.41 20z\"/>\n",
              "  </svg>\n",
              "      </button>\n",
              "      \n",
              "  <style>\n",
              "    .colab-df-container {\n",
              "      display:flex;\n",
              "      flex-wrap:wrap;\n",
              "      gap: 12px;\n",
              "    }\n",
              "\n",
              "    .colab-df-convert {\n",
              "      background-color: #E8F0FE;\n",
              "      border: none;\n",
              "      border-radius: 50%;\n",
              "      cursor: pointer;\n",
              "      display: none;\n",
              "      fill: #1967D2;\n",
              "      height: 32px;\n",
              "      padding: 0 0 0 0;\n",
              "      width: 32px;\n",
              "    }\n",
              "\n",
              "    .colab-df-convert:hover {\n",
              "      background-color: #E2EBFA;\n",
              "      box-shadow: 0px 1px 2px rgba(60, 64, 67, 0.3), 0px 1px 3px 1px rgba(60, 64, 67, 0.15);\n",
              "      fill: #174EA6;\n",
              "    }\n",
              "\n",
              "    [theme=dark] .colab-df-convert {\n",
              "      background-color: #3B4455;\n",
              "      fill: #D2E3FC;\n",
              "    }\n",
              "\n",
              "    [theme=dark] .colab-df-convert:hover {\n",
              "      background-color: #434B5C;\n",
              "      box-shadow: 0px 1px 3px 1px rgba(0, 0, 0, 0.15);\n",
              "      filter: drop-shadow(0px 1px 2px rgba(0, 0, 0, 0.3));\n",
              "      fill: #FFFFFF;\n",
              "    }\n",
              "  </style>\n",
              "\n",
              "      <script>\n",
              "        const buttonEl =\n",
              "          document.querySelector('#df-59c28419-1501-400d-bffc-74460c0a3d51 button.colab-df-convert');\n",
              "        buttonEl.style.display =\n",
              "          google.colab.kernel.accessAllowed ? 'block' : 'none';\n",
              "\n",
              "        async function convertToInteractive(key) {\n",
              "          const element = document.querySelector('#df-59c28419-1501-400d-bffc-74460c0a3d51');\n",
              "          const dataTable =\n",
              "            await google.colab.kernel.invokeFunction('convertToInteractive',\n",
              "                                                     [key], {});\n",
              "          if (!dataTable) return;\n",
              "\n",
              "          const docLinkHtml = 'Like what you see? Visit the ' +\n",
              "            '<a target=\"_blank\" href=https://colab.research.google.com/notebooks/data_table.ipynb>data table notebook</a>'\n",
              "            + ' to learn more about interactive tables.';\n",
              "          element.innerHTML = '';\n",
              "          dataTable['output_type'] = 'display_data';\n",
              "          await google.colab.output.renderOutput(dataTable, element);\n",
              "          const docLink = document.createElement('div');\n",
              "          docLink.innerHTML = docLinkHtml;\n",
              "          element.appendChild(docLink);\n",
              "        }\n",
              "      </script>\n",
              "    </div>\n",
              "  </div>\n",
              "  "
            ]
          },
          "metadata": {},
          "execution_count": 102
        }
      ]
    },
    {
      "cell_type": "code",
      "source": [
        "df_violation_ticket_value['Ticket_Value'] = pd.to_numeric(df_violation_ticket_value['Ticket_Value'], errors='coerce')\n",
        "df_violation_ticket_value['Ticket_Value'] = df_violation_ticket_value['Ticket_Value'] / 100"
      ],
      "metadata": {
        "id": "9oVliiGYXmSb"
      },
      "execution_count": 100,
      "outputs": []
    },
    {
      "cell_type": "code",
      "source": [
        "df_violation_ticket_value.head()"
      ],
      "metadata": {
        "colab": {
          "base_uri": "https://localhost:8080/",
          "height": 206
        },
        "id": "hoKiz3WRZnZ-",
        "outputId": "08a57c4e-f2ca-4d1b-840d-d7b596343a61"
      },
      "execution_count": 104,
      "outputs": [
        {
          "output_type": "execute_result",
          "data": {
            "text/plain": [
              "   Infraction_Code  Desd.                                         Infraction  \\\n",
              "0             5622      4  PARAR NOS CANTEIROS CENTRAIS OU DIVISORES DE P...   \n",
              "1             5622      5                    PARAR NAS MARCAS DE CANALIZACAO   \n",
              "2             5630      0                PARAR NA AREA DE CRUZAMENTO DE VIAS   \n",
              "3             5649      1                                 PARAR NOS VIADUTOS   \n",
              "4             5649      2                                   PARAR NAS PONTES   \n",
              "\n",
              "      Article Offender  Points  Ticket_Value  \n",
              "0    182 * VI      CON       3      0.008838  \n",
              "1    182 * VI      CON       3      0.008838  \n",
              "2   182 * VII      CON       4      0.013016  \n",
              "3  182 * VIII      CON       4      0.013016  \n",
              "4  182 * VIII      CON       4      0.013016  "
            ],
            "text/html": [
              "\n",
              "  <div id=\"df-3e2e6e24-8d5c-4e34-ab7e-20b7937f8dd2\">\n",
              "    <div class=\"colab-df-container\">\n",
              "      <div>\n",
              "<style scoped>\n",
              "    .dataframe tbody tr th:only-of-type {\n",
              "        vertical-align: middle;\n",
              "    }\n",
              "\n",
              "    .dataframe tbody tr th {\n",
              "        vertical-align: top;\n",
              "    }\n",
              "\n",
              "    .dataframe thead th {\n",
              "        text-align: right;\n",
              "    }\n",
              "</style>\n",
              "<table border=\"1\" class=\"dataframe\">\n",
              "  <thead>\n",
              "    <tr style=\"text-align: right;\">\n",
              "      <th></th>\n",
              "      <th>Infraction_Code</th>\n",
              "      <th>Desd.</th>\n",
              "      <th>Infraction</th>\n",
              "      <th>Article</th>\n",
              "      <th>Offender</th>\n",
              "      <th>Points</th>\n",
              "      <th>Ticket_Value</th>\n",
              "    </tr>\n",
              "  </thead>\n",
              "  <tbody>\n",
              "    <tr>\n",
              "      <th>0</th>\n",
              "      <td>5622</td>\n",
              "      <td>4</td>\n",
              "      <td>PARAR NOS CANTEIROS CENTRAIS OU DIVISORES DE P...</td>\n",
              "      <td>182 * VI</td>\n",
              "      <td>CON</td>\n",
              "      <td>3</td>\n",
              "      <td>0.008838</td>\n",
              "    </tr>\n",
              "    <tr>\n",
              "      <th>1</th>\n",
              "      <td>5622</td>\n",
              "      <td>5</td>\n",
              "      <td>PARAR NAS MARCAS DE CANALIZACAO</td>\n",
              "      <td>182 * VI</td>\n",
              "      <td>CON</td>\n",
              "      <td>3</td>\n",
              "      <td>0.008838</td>\n",
              "    </tr>\n",
              "    <tr>\n",
              "      <th>2</th>\n",
              "      <td>5630</td>\n",
              "      <td>0</td>\n",
              "      <td>PARAR NA AREA DE CRUZAMENTO DE VIAS</td>\n",
              "      <td>182 * VII</td>\n",
              "      <td>CON</td>\n",
              "      <td>4</td>\n",
              "      <td>0.013016</td>\n",
              "    </tr>\n",
              "    <tr>\n",
              "      <th>3</th>\n",
              "      <td>5649</td>\n",
              "      <td>1</td>\n",
              "      <td>PARAR NOS VIADUTOS</td>\n",
              "      <td>182 * VIII</td>\n",
              "      <td>CON</td>\n",
              "      <td>4</td>\n",
              "      <td>0.013016</td>\n",
              "    </tr>\n",
              "    <tr>\n",
              "      <th>4</th>\n",
              "      <td>5649</td>\n",
              "      <td>2</td>\n",
              "      <td>PARAR NAS PONTES</td>\n",
              "      <td>182 * VIII</td>\n",
              "      <td>CON</td>\n",
              "      <td>4</td>\n",
              "      <td>0.013016</td>\n",
              "    </tr>\n",
              "  </tbody>\n",
              "</table>\n",
              "</div>\n",
              "      <button class=\"colab-df-convert\" onclick=\"convertToInteractive('df-3e2e6e24-8d5c-4e34-ab7e-20b7937f8dd2')\"\n",
              "              title=\"Convert this dataframe to an interactive table.\"\n",
              "              style=\"display:none;\">\n",
              "        \n",
              "  <svg xmlns=\"http://www.w3.org/2000/svg\" height=\"24px\"viewBox=\"0 0 24 24\"\n",
              "       width=\"24px\">\n",
              "    <path d=\"M0 0h24v24H0V0z\" fill=\"none\"/>\n",
              "    <path d=\"M18.56 5.44l.94 2.06.94-2.06 2.06-.94-2.06-.94-.94-2.06-.94 2.06-2.06.94zm-11 1L8.5 8.5l.94-2.06 2.06-.94-2.06-.94L8.5 2.5l-.94 2.06-2.06.94zm10 10l.94 2.06.94-2.06 2.06-.94-2.06-.94-.94-2.06-.94 2.06-2.06.94z\"/><path d=\"M17.41 7.96l-1.37-1.37c-.4-.4-.92-.59-1.43-.59-.52 0-1.04.2-1.43.59L10.3 9.45l-7.72 7.72c-.78.78-.78 2.05 0 2.83L4 21.41c.39.39.9.59 1.41.59.51 0 1.02-.2 1.41-.59l7.78-7.78 2.81-2.81c.8-.78.8-2.07 0-2.86zM5.41 20L4 18.59l7.72-7.72 1.47 1.35L5.41 20z\"/>\n",
              "  </svg>\n",
              "      </button>\n",
              "      \n",
              "  <style>\n",
              "    .colab-df-container {\n",
              "      display:flex;\n",
              "      flex-wrap:wrap;\n",
              "      gap: 12px;\n",
              "    }\n",
              "\n",
              "    .colab-df-convert {\n",
              "      background-color: #E8F0FE;\n",
              "      border: none;\n",
              "      border-radius: 50%;\n",
              "      cursor: pointer;\n",
              "      display: none;\n",
              "      fill: #1967D2;\n",
              "      height: 32px;\n",
              "      padding: 0 0 0 0;\n",
              "      width: 32px;\n",
              "    }\n",
              "\n",
              "    .colab-df-convert:hover {\n",
              "      background-color: #E2EBFA;\n",
              "      box-shadow: 0px 1px 2px rgba(60, 64, 67, 0.3), 0px 1px 3px 1px rgba(60, 64, 67, 0.15);\n",
              "      fill: #174EA6;\n",
              "    }\n",
              "\n",
              "    [theme=dark] .colab-df-convert {\n",
              "      background-color: #3B4455;\n",
              "      fill: #D2E3FC;\n",
              "    }\n",
              "\n",
              "    [theme=dark] .colab-df-convert:hover {\n",
              "      background-color: #434B5C;\n",
              "      box-shadow: 0px 1px 3px 1px rgba(0, 0, 0, 0.15);\n",
              "      filter: drop-shadow(0px 1px 2px rgba(0, 0, 0, 0.3));\n",
              "      fill: #FFFFFF;\n",
              "    }\n",
              "  </style>\n",
              "\n",
              "      <script>\n",
              "        const buttonEl =\n",
              "          document.querySelector('#df-3e2e6e24-8d5c-4e34-ab7e-20b7937f8dd2 button.colab-df-convert');\n",
              "        buttonEl.style.display =\n",
              "          google.colab.kernel.accessAllowed ? 'block' : 'none';\n",
              "\n",
              "        async function convertToInteractive(key) {\n",
              "          const element = document.querySelector('#df-3e2e6e24-8d5c-4e34-ab7e-20b7937f8dd2');\n",
              "          const dataTable =\n",
              "            await google.colab.kernel.invokeFunction('convertToInteractive',\n",
              "                                                     [key], {});\n",
              "          if (!dataTable) return;\n",
              "\n",
              "          const docLinkHtml = 'Like what you see? Visit the ' +\n",
              "            '<a target=\"_blank\" href=https://colab.research.google.com/notebooks/data_table.ipynb>data table notebook</a>'\n",
              "            + ' to learn more about interactive tables.';\n",
              "          element.innerHTML = '';\n",
              "          dataTable['output_type'] = 'display_data';\n",
              "          await google.colab.output.renderOutput(dataTable, element);\n",
              "          const docLink = document.createElement('div');\n",
              "          docLink.innerHTML = docLinkHtml;\n",
              "          element.appendChild(docLink);\n",
              "        }\n",
              "      </script>\n",
              "    </div>\n",
              "  </div>\n",
              "  "
            ]
          },
          "metadata": {},
          "execution_count": 104
        }
      ]
    },
    {
      "cell_type": "code",
      "source": [
        "df_violation_ticket_value.rename( columns={'Code':'Infraction_Code'}, inplace=True )"
      ],
      "metadata": {
        "id": "5ydFhWzpangH"
      },
      "execution_count": 105,
      "outputs": []
    },
    {
      "cell_type": "code",
      "source": [
        "# Ajustando os dados de multas\n",
        "# Codigos has more thna 1 type on infraction, when we try to merge all tables the repeted data will be duplicate\n",
        "# Grouping by the violation code and getting the mean value will prevent this to happen\n",
        "ticket_value = df_violation_ticket_value.groupby( by=['Infraction_Code'] ).mean()['Ticket_Value'].reset_index()"
      ],
      "metadata": {
        "colab": {
          "base_uri": "https://localhost:8080/"
        },
        "id": "0KsJkXFXa4l_",
        "outputId": "a6b53d5e-777c-4c4a-889c-f53f51f159bf"
      },
      "execution_count": 106,
      "outputs": [
        {
          "output_type": "stream",
          "name": "stderr",
          "text": [
            "<ipython-input-106-b06b2be84667>:4: FutureWarning:\n",
            "\n",
            "The default value of numeric_only in DataFrameGroupBy.mean is deprecated. In a future version, numeric_only will default to False. Either specify numeric_only or select only columns which should be valid for the function.\n",
            "\n"
          ]
        }
      ]
    },
    {
      "cell_type": "markdown",
      "source": [
        "codigo de infração é diferente nas tabelas, o ultimo digito não é obrigatorio então pdoemos arrumar isso no nosso dataframe de spark"
      ],
      "metadata": {
        "id": "mlV8SPc9ebTD"
      }
    },
    {
      "cell_type": "code",
      "source": [
        "TV22.show(5)"
      ],
      "metadata": {
        "colab": {
          "base_uri": "https://localhost:8080/"
        },
        "id": "ws7BU7eMbB2g",
        "outputId": "c86b1ec4-6b67-43cb-b049-8aef25a24f25"
      },
      "execution_count": 107,
      "outputs": [
        {
          "output_type": "stream",
          "name": "stdout",
          "text": [
            "+---------------+---------------+----------------------------+------------------+--------------+-----------------+----------------+-------------+-------------+------+-------------------------+-------------------+---------------------------+-------------------------+------------------------+-------------------------+----------------------------------+------------------+------------------------+----------------------+----------------------+---------------+----------------------+---------------+-------------------+------------+\n",
            "|Infraction_Code|    Auto_Number|Date_of_Violation_DD/MM/YYYY|Approach_Indicator|Auto_Signature|Traffic_Direction|Infraction_State|Infraction_BR|Infraction_Km|  City|Foreign_Vehicle_Indicator|License_Plate_State|Vehicle_Species_Description|Vehicle_Brand_Description|Vehicle_Type_Description|Vehicle_Model_Description|Abbreviated_Infraction_Description|Infraction_Framing|Infraction_Start_Vigency|Infraction_End_Vigency|Infraction_Measurement|Infraction_Time|Considered_Measurement|Verified_Excess|Infraction_Quantity|Ticket_Value|\n",
            "+---------------+---------------+----------------------------+------------------+--------------+-----------------+----------------+-------------+-------------+------+-------------------------+-------------------+---------------------------+-------------------------+------------------------+-------------------------+----------------------------------+------------------+------------------------+----------------------+----------------------+---------------+----------------------+---------------+-------------------+------------+\n",
            "|           7340|7d9fa6e5860918b|                  2022-04-09|                 C|             N|                C|              MG|          251|          905|  UNAI|                        N|                 MG|                 PASSAGEIRO|     IMP/VW GOL CL 1.6 MI|               AUTOMOVEL|     IMP/VW GOL CL 1.6 MI|              Dirigir o veíc us...|            252 IV|              2016-11-01|                    NA|               Nenhuma|             22|                     0|              0|                  1|      1.3016|\n",
            "|           7340|97ccaf0c14b6457|                  2022-04-09|                 C|             N|                D|              MG|          251|          905|  UNAI|                        N|                 MG|                 PASSAGEIRO|             YAMAHA/XJ6 N|             MOTOCICLETA|             YAMAHA/XJ6 N|              Dirigir o veíc us...|            252 IV|              2016-11-01|                    NA|               Nenhuma|             22|                     0|              0|                  1|      1.3016|\n",
            "|           7340|e3b1541542c04eb|                  2022-04-12|                 C|             N|                D|              MG|          251|          905|  UNAI|                        N|                 MT|                 PASSAGEIRO|         HONDA/BIZ 125 ES|                MOTONETA|         HONDA/BIZ 125 ES|              Dirigir o veíc us...|            252 IV|              2016-11-01|                    NA|               Nenhuma|             18|                     0|              0|                  1|      1.3016|\n",
            "|           7340|3017608af4bd7b8|                  2022-04-17|                 C|             N|                C|              MG|          259|           28|ITUETA|                        N|                 MG|                   ESPECIAL|     FIAT/STRADA WORKI...|             CAMINHONETE|     FIAT/STRADA WORKI...|              Dirigir o veíc us...|            252 IV|              2016-11-01|                    NA|               Nenhuma|             14|                     0|              0|                  1|      1.3016|\n",
            "|           7340|9d0597fe639a95d|                  2022-04-18|                 C|             N|                C|              MG|          259|           28|ITUETA|                        N|                 ES|                 PASSAGEIRO|     HONDA/CB250F TWIS...|             MOTOCICLETA|       CB250F TWISTER CBS|              Dirigir o veíc us...|            252 IV|              2016-11-01|                    NA|               Nenhuma|              9|                     0|              0|                  1|      1.3016|\n",
            "+---------------+---------------+----------------------------+------------------+--------------+-----------------+----------------+-------------+-------------+------+-------------------------+-------------------+---------------------------+-------------------------+------------------------+-------------------------+----------------------------------+------------------+------------------------+----------------------+----------------------+---------------+----------------------+---------------+-------------------+------------+\n",
            "only showing top 5 rows\n",
            "\n"
          ]
        }
      ]
    },
    {
      "cell_type": "code",
      "source": [
        "ticket_value.head()"
      ],
      "metadata": {
        "colab": {
          "base_uri": "https://localhost:8080/",
          "height": 206
        },
        "id": "7M8N9zvZeVxe",
        "outputId": "d3c8d53c-2842-4d70-e604-d07dd436291d"
      },
      "execution_count": 81,
      "outputs": [
        {
          "output_type": "execute_result",
          "data": {
            "text/plain": [
              "   Infraction_Code  Ticket_Value\n",
              "0             5002        0.0000\n",
              "1             5010        8.8041\n",
              "2             5029        8.8041\n",
              "3             5037        5.8694\n",
              "4             5045        2.9347"
            ],
            "text/html": [
              "\n",
              "  <div id=\"df-a260a3d8-254d-493d-8d24-42311c084382\">\n",
              "    <div class=\"colab-df-container\">\n",
              "      <div>\n",
              "<style scoped>\n",
              "    .dataframe tbody tr th:only-of-type {\n",
              "        vertical-align: middle;\n",
              "    }\n",
              "\n",
              "    .dataframe tbody tr th {\n",
              "        vertical-align: top;\n",
              "    }\n",
              "\n",
              "    .dataframe thead th {\n",
              "        text-align: right;\n",
              "    }\n",
              "</style>\n",
              "<table border=\"1\" class=\"dataframe\">\n",
              "  <thead>\n",
              "    <tr style=\"text-align: right;\">\n",
              "      <th></th>\n",
              "      <th>Infraction_Code</th>\n",
              "      <th>Ticket_Value</th>\n",
              "    </tr>\n",
              "  </thead>\n",
              "  <tbody>\n",
              "    <tr>\n",
              "      <th>0</th>\n",
              "      <td>5002</td>\n",
              "      <td>0.0000</td>\n",
              "    </tr>\n",
              "    <tr>\n",
              "      <th>1</th>\n",
              "      <td>5010</td>\n",
              "      <td>8.8041</td>\n",
              "    </tr>\n",
              "    <tr>\n",
              "      <th>2</th>\n",
              "      <td>5029</td>\n",
              "      <td>8.8041</td>\n",
              "    </tr>\n",
              "    <tr>\n",
              "      <th>3</th>\n",
              "      <td>5037</td>\n",
              "      <td>5.8694</td>\n",
              "    </tr>\n",
              "    <tr>\n",
              "      <th>4</th>\n",
              "      <td>5045</td>\n",
              "      <td>2.9347</td>\n",
              "    </tr>\n",
              "  </tbody>\n",
              "</table>\n",
              "</div>\n",
              "      <button class=\"colab-df-convert\" onclick=\"convertToInteractive('df-a260a3d8-254d-493d-8d24-42311c084382')\"\n",
              "              title=\"Convert this dataframe to an interactive table.\"\n",
              "              style=\"display:none;\">\n",
              "        \n",
              "  <svg xmlns=\"http://www.w3.org/2000/svg\" height=\"24px\"viewBox=\"0 0 24 24\"\n",
              "       width=\"24px\">\n",
              "    <path d=\"M0 0h24v24H0V0z\" fill=\"none\"/>\n",
              "    <path d=\"M18.56 5.44l.94 2.06.94-2.06 2.06-.94-2.06-.94-.94-2.06-.94 2.06-2.06.94zm-11 1L8.5 8.5l.94-2.06 2.06-.94-2.06-.94L8.5 2.5l-.94 2.06-2.06.94zm10 10l.94 2.06.94-2.06 2.06-.94-2.06-.94-.94-2.06-.94 2.06-2.06.94z\"/><path d=\"M17.41 7.96l-1.37-1.37c-.4-.4-.92-.59-1.43-.59-.52 0-1.04.2-1.43.59L10.3 9.45l-7.72 7.72c-.78.78-.78 2.05 0 2.83L4 21.41c.39.39.9.59 1.41.59.51 0 1.02-.2 1.41-.59l7.78-7.78 2.81-2.81c.8-.78.8-2.07 0-2.86zM5.41 20L4 18.59l7.72-7.72 1.47 1.35L5.41 20z\"/>\n",
              "  </svg>\n",
              "      </button>\n",
              "      \n",
              "  <style>\n",
              "    .colab-df-container {\n",
              "      display:flex;\n",
              "      flex-wrap:wrap;\n",
              "      gap: 12px;\n",
              "    }\n",
              "\n",
              "    .colab-df-convert {\n",
              "      background-color: #E8F0FE;\n",
              "      border: none;\n",
              "      border-radius: 50%;\n",
              "      cursor: pointer;\n",
              "      display: none;\n",
              "      fill: #1967D2;\n",
              "      height: 32px;\n",
              "      padding: 0 0 0 0;\n",
              "      width: 32px;\n",
              "    }\n",
              "\n",
              "    .colab-df-convert:hover {\n",
              "      background-color: #E2EBFA;\n",
              "      box-shadow: 0px 1px 2px rgba(60, 64, 67, 0.3), 0px 1px 3px 1px rgba(60, 64, 67, 0.15);\n",
              "      fill: #174EA6;\n",
              "    }\n",
              "\n",
              "    [theme=dark] .colab-df-convert {\n",
              "      background-color: #3B4455;\n",
              "      fill: #D2E3FC;\n",
              "    }\n",
              "\n",
              "    [theme=dark] .colab-df-convert:hover {\n",
              "      background-color: #434B5C;\n",
              "      box-shadow: 0px 1px 3px 1px rgba(0, 0, 0, 0.15);\n",
              "      filter: drop-shadow(0px 1px 2px rgba(0, 0, 0, 0.3));\n",
              "      fill: #FFFFFF;\n",
              "    }\n",
              "  </style>\n",
              "\n",
              "      <script>\n",
              "        const buttonEl =\n",
              "          document.querySelector('#df-a260a3d8-254d-493d-8d24-42311c084382 button.colab-df-convert');\n",
              "        buttonEl.style.display =\n",
              "          google.colab.kernel.accessAllowed ? 'block' : 'none';\n",
              "\n",
              "        async function convertToInteractive(key) {\n",
              "          const element = document.querySelector('#df-a260a3d8-254d-493d-8d24-42311c084382');\n",
              "          const dataTable =\n",
              "            await google.colab.kernel.invokeFunction('convertToInteractive',\n",
              "                                                     [key], {});\n",
              "          if (!dataTable) return;\n",
              "\n",
              "          const docLinkHtml = 'Like what you see? Visit the ' +\n",
              "            '<a target=\"_blank\" href=https://colab.research.google.com/notebooks/data_table.ipynb>data table notebook</a>'\n",
              "            + ' to learn more about interactive tables.';\n",
              "          element.innerHTML = '';\n",
              "          dataTable['output_type'] = 'display_data';\n",
              "          await google.colab.output.renderOutput(dataTable, element);\n",
              "          const docLink = document.createElement('div');\n",
              "          docLink.innerHTML = docLinkHtml;\n",
              "          element.appendChild(docLink);\n",
              "        }\n",
              "      </script>\n",
              "    </div>\n",
              "  </div>\n",
              "  "
            ]
          },
          "metadata": {},
          "execution_count": 81
        }
      ]
    },
    {
      "cell_type": "code",
      "source": [
        "TV22 = TV22.withColumn('Infraction_Code', col('Infraction_Code').substr(1, 4))"
      ],
      "metadata": {
        "id": "09AWA56YgKE0"
      },
      "execution_count": 82,
      "outputs": []
    },
    {
      "cell_type": "code",
      "source": [
        "TV22 = TV22.withColumn(\"Infraction_Code\", col(\"Infraction_Code\").cast(\"int\"))"
      ],
      "metadata": {
        "id": "IuqLgPdfg-r4"
      },
      "execution_count": 83,
      "outputs": []
    },
    {
      "cell_type": "code",
      "source": [
        "TV22.printSchema()"
      ],
      "metadata": {
        "colab": {
          "base_uri": "https://localhost:8080/"
        },
        "id": "PqhBMal3gRJZ",
        "outputId": "7dedddf0-ff8e-42e7-c1df-c120b31445be"
      },
      "execution_count": 84,
      "outputs": [
        {
          "output_type": "stream",
          "name": "stdout",
          "text": [
            "root\n",
            " |-- Auto_Number: string (nullable = true)\n",
            " |-- Date_of_Violation_DD/MM/YYYY: date (nullable = true)\n",
            " |-- Approach_Indicator: string (nullable = true)\n",
            " |-- Auto_Signature: string (nullable = true)\n",
            " |-- Traffic_Direction: string (nullable = true)\n",
            " |-- Infraction_State: string (nullable = true)\n",
            " |-- Infraction_BR: string (nullable = true)\n",
            " |-- Infraction_Km: string (nullable = true)\n",
            " |-- City: string (nullable = true)\n",
            " |-- Foreign_Vehicle_Indicator: string (nullable = true)\n",
            " |-- License_Plate_State: string (nullable = true)\n",
            " |-- Vehicle_Species_Description: string (nullable = true)\n",
            " |-- Vehicle_Brand_Description: string (nullable = true)\n",
            " |-- Vehicle_Type_Description: string (nullable = true)\n",
            " |-- Vehicle_Model_Description: string (nullable = true)\n",
            " |-- Infraction_Code: integer (nullable = true)\n",
            " |-- Abbreviated_Infraction_Description: string (nullable = true)\n",
            " |-- Infraction_Framing: string (nullable = true)\n",
            " |-- Infraction_Start_Vigency: string (nullable = true)\n",
            " |-- Infraction_End_Vigency: string (nullable = true)\n",
            " |-- Infraction_Measurement: string (nullable = true)\n",
            " |-- Infraction_Time: string (nullable = true)\n",
            " |-- Considered_Measurement: string (nullable = true)\n",
            " |-- Verified_Excess: string (nullable = true)\n",
            " |-- Infraction_Quantity: string (nullable = true)\n",
            "\n"
          ]
        }
      ]
    },
    {
      "cell_type": "code",
      "source": [
        "violation_ticket_value = spark.createDataFrame(ticket_value)"
      ],
      "metadata": {
        "colab": {
          "base_uri": "https://localhost:8080/"
        },
        "id": "lvHKa4HUjxHI",
        "outputId": "97b0039f-bdba-4fa3-c92b-761fce05bb20"
      },
      "execution_count": 85,
      "outputs": [
        {
          "output_type": "stream",
          "name": "stderr",
          "text": [
            "/content/spark-3.1.2-bin-hadoop2.7/python/pyspark/sql/pandas/conversion.py:331: FutureWarning:\n",
            "\n",
            "iteritems is deprecated and will be removed in a future version. Use .items instead.\n",
            "\n"
          ]
        }
      ]
    },
    {
      "cell_type": "code",
      "source": [
        "violation_ticket_value = violation_ticket_value.withColumn(\"Infraction_Code\", col(\"Infraction_Code\").cast(\"int\"))\n",
        "violation_ticket_value = violation_ticket_value.withColumn(\"Ticket_Value\", col(\"Ticket_Value\").cast(\"float\"))\n",
        "violation_ticket_value = violation_ticket_value.na.fill(0, subset=[\"Ticket_Value\"])"
      ],
      "metadata": {
        "id": "XMcPc6rUn2lm"
      },
      "execution_count": 86,
      "outputs": []
    },
    {
      "cell_type": "code",
      "source": [
        "violation_ticket_value.printSchema()"
      ],
      "metadata": {
        "colab": {
          "base_uri": "https://localhost:8080/"
        },
        "id": "J7XSLGannq3d",
        "outputId": "db53b1c0-9a29-42e3-f79e-e2705b141880"
      },
      "execution_count": 87,
      "outputs": [
        {
          "output_type": "stream",
          "name": "stdout",
          "text": [
            "root\n",
            " |-- Infraction_Code: integer (nullable = true)\n",
            " |-- Ticket_Value: float (nullable = false)\n",
            "\n"
          ]
        }
      ]
    },
    {
      "cell_type": "code",
      "source": [
        "TV22 = TV22.join(violation_ticket_value, on='Infraction_Code', how='left')"
      ],
      "metadata": {
        "id": "kBXQygr0pTg_"
      },
      "execution_count": 88,
      "outputs": []
    },
    {
      "cell_type": "code",
      "source": [
        "TV22.printSchema()"
      ],
      "metadata": {
        "colab": {
          "base_uri": "https://localhost:8080/"
        },
        "id": "yXCYo8rzpbzy",
        "outputId": "6dd24a3e-a33a-48b0-c0ef-e1f51e8959ea"
      },
      "execution_count": 89,
      "outputs": [
        {
          "output_type": "stream",
          "name": "stdout",
          "text": [
            "root\n",
            " |-- Infraction_Code: integer (nullable = true)\n",
            " |-- Auto_Number: string (nullable = true)\n",
            " |-- Date_of_Violation_DD/MM/YYYY: date (nullable = true)\n",
            " |-- Approach_Indicator: string (nullable = true)\n",
            " |-- Auto_Signature: string (nullable = true)\n",
            " |-- Traffic_Direction: string (nullable = true)\n",
            " |-- Infraction_State: string (nullable = true)\n",
            " |-- Infraction_BR: string (nullable = true)\n",
            " |-- Infraction_Km: string (nullable = true)\n",
            " |-- City: string (nullable = true)\n",
            " |-- Foreign_Vehicle_Indicator: string (nullable = true)\n",
            " |-- License_Plate_State: string (nullable = true)\n",
            " |-- Vehicle_Species_Description: string (nullable = true)\n",
            " |-- Vehicle_Brand_Description: string (nullable = true)\n",
            " |-- Vehicle_Type_Description: string (nullable = true)\n",
            " |-- Vehicle_Model_Description: string (nullable = true)\n",
            " |-- Abbreviated_Infraction_Description: string (nullable = true)\n",
            " |-- Infraction_Framing: string (nullable = true)\n",
            " |-- Infraction_Start_Vigency: string (nullable = true)\n",
            " |-- Infraction_End_Vigency: string (nullable = true)\n",
            " |-- Infraction_Measurement: string (nullable = true)\n",
            " |-- Infraction_Time: string (nullable = true)\n",
            " |-- Considered_Measurement: string (nullable = true)\n",
            " |-- Verified_Excess: string (nullable = true)\n",
            " |-- Infraction_Quantity: string (nullable = true)\n",
            " |-- Ticket_Value: float (nullable = true)\n",
            "\n"
          ]
        }
      ]
    },
    {
      "cell_type": "code",
      "source": [
        "uf_tickets_value = TV22.groupBy('Infraction_State').agg(\n",
        "    count('Ticket_Value').alias('Violations_Count'),\n",
        "    sum('Ticket_Value').alias('Total_ticket_value')\n",
        ")"
      ],
      "metadata": {
        "id": "x-B3R1Baqc8Y"
      },
      "execution_count": 92,
      "outputs": []
    },
    {
      "cell_type": "code",
      "source": [
        "uf_tickets_value.show(5)"
      ],
      "metadata": {
        "colab": {
          "base_uri": "https://localhost:8080/"
        },
        "id": "TJOnPYTHqh7w",
        "outputId": "8e5a1316-2f15-4e78-b297-860668fe8d61"
      },
      "execution_count": 93,
      "outputs": [
        {
          "output_type": "stream",
          "name": "stdout",
          "text": [
            "+----------------+----------------+------------------+\n",
            "|Infraction_State|Violations_Count|Total_ticket_value|\n",
            "+----------------+----------------+------------------+\n",
            "|              SC|          178040|388509.02505350113|\n",
            "|              RO|           93105|203286.07065975666|\n",
            "|              PI|           85095|231887.64160454273|\n",
            "|              AM|           20102|48127.907032608986|\n",
            "|              RR|           12033| 33874.69310545921|\n",
            "+----------------+----------------+------------------+\n",
            "only showing top 5 rows\n",
            "\n"
          ]
        }
      ]
    },
    {
      "cell_type": "code",
      "source": [
        "# Import pandas lib\n",
        "import pandas as pd\n",
        "\n",
        "# Converting Spark Dataframe to Pandas Dataframe\n",
        "df_uf_tickets_value = uf_tickets_value.toPandas()"
      ],
      "metadata": {
        "id": "gEEzU1Pdyk4n"
      },
      "execution_count": 94,
      "outputs": []
    },
    {
      "cell_type": "code",
      "source": [
        "px.scatter(\n",
        "    df_uf_tickets_value,\n",
        "    x='Violations_Count',\n",
        "    y='Total_ticket_value',\n",
        "    color='Infraction_State',\n",
        "    size='Violations_Count',\n",
        "    log_x=True,\n",
        "    size_max=60,\n",
        "    title='Bubble PLOT' )"
      ],
      "metadata": {
        "colab": {
          "base_uri": "https://localhost:8080/",
          "height": 542
        },
        "id": "mVkcKsbOrlQ1",
        "outputId": "b56b4238-f00c-43ca-be4f-581a864e21d1"
      },
      "execution_count": 95,
      "outputs": [
        {
          "output_type": "display_data",
          "data": {
            "text/html": [
              "<html>\n",
              "<head><meta charset=\"utf-8\" /></head>\n",
              "<body>\n",
              "    <div>            <script src=\"https://cdnjs.cloudflare.com/ajax/libs/mathjax/2.7.5/MathJax.js?config=TeX-AMS-MML_SVG\"></script><script type=\"text/javascript\">if (window.MathJax && window.MathJax.Hub && window.MathJax.Hub.Config) {window.MathJax.Hub.Config({SVG: {font: \"STIX-Web\"}});}</script>                <script type=\"text/javascript\">window.PlotlyConfig = {MathJaxConfig: 'local'};</script>\n",
              "        <script src=\"https://cdn.plot.ly/plotly-2.18.2.min.js\"></script>                <div id=\"8568ad22-6e3f-44c3-97db-8464b2600319\" class=\"plotly-graph-div\" style=\"height:525px; width:100%;\"></div>            <script type=\"text/javascript\">                                    window.PLOTLYENV=window.PLOTLYENV || {};                                    if (document.getElementById(\"8568ad22-6e3f-44c3-97db-8464b2600319\")) {                    Plotly.newPlot(                        \"8568ad22-6e3f-44c3-97db-8464b2600319\",                        [{\"hovertemplate\":\"Infraction_State=SC<br>Violations_Count=%{marker.size}<br>Total_ticket_value=%{y}<extra></extra>\",\"legendgroup\":\"SC\",\"marker\":{\"color\":\"#636efa\",\"size\":[178040],\"sizemode\":\"area\",\"sizeref\":124.63111111111111,\"symbol\":\"circle\"},\"mode\":\"markers\",\"name\":\"SC\",\"orientation\":\"v\",\"showlegend\":true,\"x\":[178040],\"xaxis\":\"x\",\"y\":[388509.02505350113],\"yaxis\":\"y\",\"type\":\"scatter\"},{\"hovertemplate\":\"Infraction_State=RO<br>Violations_Count=%{marker.size}<br>Total_ticket_value=%{y}<extra></extra>\",\"legendgroup\":\"RO\",\"marker\":{\"color\":\"#EF553B\",\"size\":[93105],\"sizemode\":\"area\",\"sizeref\":124.63111111111111,\"symbol\":\"circle\"},\"mode\":\"markers\",\"name\":\"RO\",\"orientation\":\"v\",\"showlegend\":true,\"x\":[93105],\"xaxis\":\"x\",\"y\":[203286.07065975666],\"yaxis\":\"y\",\"type\":\"scatter\"},{\"hovertemplate\":\"Infraction_State=PI<br>Violations_Count=%{marker.size}<br>Total_ticket_value=%{y}<extra></extra>\",\"legendgroup\":\"PI\",\"marker\":{\"color\":\"#00cc96\",\"size\":[85095],\"sizemode\":\"area\",\"sizeref\":124.63111111111111,\"symbol\":\"circle\"},\"mode\":\"markers\",\"name\":\"PI\",\"orientation\":\"v\",\"showlegend\":true,\"x\":[85095],\"xaxis\":\"x\",\"y\":[231887.64160454273],\"yaxis\":\"y\",\"type\":\"scatter\"},{\"hovertemplate\":\"Infraction_State=AM<br>Violations_Count=%{marker.size}<br>Total_ticket_value=%{y}<extra></extra>\",\"legendgroup\":\"AM\",\"marker\":{\"color\":\"#ab63fa\",\"size\":[20102],\"sizemode\":\"area\",\"sizeref\":124.63111111111111,\"symbol\":\"circle\"},\"mode\":\"markers\",\"name\":\"AM\",\"orientation\":\"v\",\"showlegend\":true,\"x\":[20102],\"xaxis\":\"x\",\"y\":[48127.907032608986],\"yaxis\":\"y\",\"type\":\"scatter\"},{\"hovertemplate\":\"Infraction_State=RR<br>Violations_Count=%{marker.size}<br>Total_ticket_value=%{y}<extra></extra>\",\"legendgroup\":\"RR\",\"marker\":{\"color\":\"#FFA15A\",\"size\":[12033],\"sizemode\":\"area\",\"sizeref\":124.63111111111111,\"symbol\":\"circle\"},\"mode\":\"markers\",\"name\":\"RR\",\"orientation\":\"v\",\"showlegend\":true,\"x\":[12033],\"xaxis\":\"x\",\"y\":[33874.69310545921],\"yaxis\":\"y\",\"type\":\"scatter\"},{\"hovertemplate\":\"Infraction_State=GO<br>Violations_Count=%{marker.size}<br>Total_ticket_value=%{y}<extra></extra>\",\"legendgroup\":\"GO\",\"marker\":{\"color\":\"#19d3f3\",\"size\":[230375],\"sizemode\":\"area\",\"sizeref\":124.63111111111111,\"symbol\":\"circle\"},\"mode\":\"markers\",\"name\":\"GO\",\"orientation\":\"v\",\"showlegend\":true,\"x\":[230375],\"xaxis\":\"x\",\"y\":[506615.2811744213],\"yaxis\":\"y\",\"type\":\"scatter\"},{\"hovertemplate\":\"Infraction_State=TO<br>Violations_Count=%{marker.size}<br>Total_ticket_value=%{y}<extra></extra>\",\"legendgroup\":\"TO\",\"marker\":{\"color\":\"#FF6692\",\"size\":[37861],\"sizemode\":\"area\",\"sizeref\":124.63111111111111,\"symbol\":\"circle\"},\"mode\":\"markers\",\"name\":\"TO\",\"orientation\":\"v\",\"showlegend\":true,\"x\":[37861],\"xaxis\":\"x\",\"y\":[82344.4036937952],\"yaxis\":\"y\",\"type\":\"scatter\"},{\"hovertemplate\":\"Infraction_State=MT<br>Violations_Count=%{marker.size}<br>Total_ticket_value=%{y}<extra></extra>\",\"legendgroup\":\"MT\",\"marker\":{\"color\":\"#B6E880\",\"size\":[172734],\"sizemode\":\"area\",\"sizeref\":124.63111111111111,\"symbol\":\"circle\"},\"mode\":\"markers\",\"name\":\"MT\",\"orientation\":\"v\",\"showlegend\":true,\"x\":[172734],\"xaxis\":\"x\",\"y\":[358175.5754237175],\"yaxis\":\"y\",\"type\":\"scatter\"},{\"hovertemplate\":\"Infraction_State=SP<br>Violations_Count=%{marker.size}<br>Total_ticket_value=%{y}<extra></extra>\",\"legendgroup\":\"SP\",\"marker\":{\"color\":\"#FF97FF\",\"size\":[378074],\"sizemode\":\"area\",\"sizeref\":124.63111111111111,\"symbol\":\"circle\"},\"mode\":\"markers\",\"name\":\"SP\",\"orientation\":\"v\",\"showlegend\":true,\"x\":[378074],\"xaxis\":\"x\",\"y\":[781308.5461201668],\"yaxis\":\"y\",\"type\":\"scatter\"},{\"hovertemplate\":\"Infraction_State=ES<br>Violations_Count=%{marker.size}<br>Total_ticket_value=%{y}<extra></extra>\",\"legendgroup\":\"ES\",\"marker\":{\"color\":\"#FECB52\",\"size\":[150991],\"sizemode\":\"area\",\"sizeref\":124.63111111111111,\"symbol\":\"circle\"},\"mode\":\"markers\",\"name\":\"ES\",\"orientation\":\"v\",\"showlegend\":true,\"x\":[150991],\"xaxis\":\"x\",\"y\":[285565.99660623074],\"yaxis\":\"y\",\"type\":\"scatter\"},{\"hovertemplate\":\"Infraction_State=PB<br>Violations_Count=%{marker.size}<br>Total_ticket_value=%{y}<extra></extra>\",\"legendgroup\":\"PB\",\"marker\":{\"color\":\"#636efa\",\"size\":[77884],\"sizemode\":\"area\",\"sizeref\":124.63111111111111,\"symbol\":\"circle\"},\"mode\":\"markers\",\"name\":\"PB\",\"orientation\":\"v\",\"showlegend\":true,\"x\":[77884],\"xaxis\":\"x\",\"y\":[196979.84594535828],\"yaxis\":\"y\",\"type\":\"scatter\"},{\"hovertemplate\":\"Infraction_State=RS<br>Violations_Count=%{marker.size}<br>Total_ticket_value=%{y}<extra></extra>\",\"legendgroup\":\"RS\",\"marker\":{\"color\":\"#EF553B\",\"size\":[252059],\"sizemode\":\"area\",\"sizeref\":124.63111111111111,\"symbol\":\"circle\"},\"mode\":\"markers\",\"name\":\"RS\",\"orientation\":\"v\",\"showlegend\":true,\"x\":[252059],\"xaxis\":\"x\",\"y\":[532912.6364691257],\"yaxis\":\"y\",\"type\":\"scatter\"},{\"hovertemplate\":\"Infraction_State=MS<br>Violations_Count=%{marker.size}<br>Total_ticket_value=%{y}<extra></extra>\",\"legendgroup\":\"MS\",\"marker\":{\"color\":\"#00cc96\",\"size\":[248186],\"sizemode\":\"area\",\"sizeref\":124.63111111111111,\"symbol\":\"circle\"},\"mode\":\"markers\",\"name\":\"MS\",\"orientation\":\"v\",\"showlegend\":true,\"x\":[248186],\"xaxis\":\"x\",\"y\":[452157.78863966465],\"yaxis\":\"y\",\"type\":\"scatter\"},{\"hovertemplate\":\"Infraction_State=AL<br>Violations_Count=%{marker.size}<br>Total_ticket_value=%{y}<extra></extra>\",\"legendgroup\":\"AL\",\"marker\":{\"color\":\"#ab63fa\",\"size\":[40597],\"sizemode\":\"area\",\"sizeref\":124.63111111111111,\"symbol\":\"circle\"},\"mode\":\"markers\",\"name\":\"AL\",\"orientation\":\"v\",\"showlegend\":true,\"x\":[40597],\"xaxis\":\"x\",\"y\":[100122.47756230831],\"yaxis\":\"y\",\"type\":\"scatter\"},{\"hovertemplate\":\"Infraction_State=MG<br>Violations_Count=%{marker.size}<br>Total_ticket_value=%{y}<extra></extra>\",\"legendgroup\":\"MG\",\"marker\":{\"color\":\"#FFA15A\",\"size\":[448672],\"sizemode\":\"area\",\"sizeref\":124.63111111111111,\"symbol\":\"circle\"},\"mode\":\"markers\",\"name\":\"MG\",\"orientation\":\"v\",\"showlegend\":true,\"x\":[448672],\"xaxis\":\"x\",\"y\":[929493.9567955732],\"yaxis\":\"y\",\"type\":\"scatter\"},{\"hovertemplate\":\"Infraction_State=PA<br>Violations_Count=%{marker.size}<br>Total_ticket_value=%{y}<extra></extra>\",\"legendgroup\":\"PA\",\"marker\":{\"color\":\"#19d3f3\",\"size\":[77960],\"sizemode\":\"area\",\"sizeref\":124.63111111111111,\"symbol\":\"circle\"},\"mode\":\"markers\",\"name\":\"PA\",\"orientation\":\"v\",\"showlegend\":true,\"x\":[77960],\"xaxis\":\"x\",\"y\":[198602.0660134554],\"yaxis\":\"y\",\"type\":\"scatter\"},{\"hovertemplate\":\"Infraction_State=BA<br>Violations_Count=%{marker.size}<br>Total_ticket_value=%{y}<extra></extra>\",\"legendgroup\":\"BA\",\"marker\":{\"color\":\"#FF6692\",\"size\":[417092],\"sizemode\":\"area\",\"sizeref\":124.63111111111111,\"symbol\":\"circle\"},\"mode\":\"markers\",\"name\":\"BA\",\"orientation\":\"v\",\"showlegend\":true,\"x\":[417092],\"xaxis\":\"x\",\"y\":[764838.5137500763],\"yaxis\":\"y\",\"type\":\"scatter\"},{\"hovertemplate\":\"Infraction_State=SE<br>Violations_Count=%{marker.size}<br>Total_ticket_value=%{y}<extra></extra>\",\"legendgroup\":\"SE\",\"marker\":{\"color\":\"#B6E880\",\"size\":[37545],\"sizemode\":\"area\",\"sizeref\":124.63111111111111,\"symbol\":\"circle\"},\"mode\":\"markers\",\"name\":\"SE\",\"orientation\":\"v\",\"showlegend\":true,\"x\":[37545],\"xaxis\":\"x\",\"y\":[97595.31993842125],\"yaxis\":\"y\",\"type\":\"scatter\"},{\"hovertemplate\":\"Infraction_State=PE<br>Violations_Count=%{marker.size}<br>Total_ticket_value=%{y}<extra></extra>\",\"legendgroup\":\"PE\",\"marker\":{\"color\":\"#FF97FF\",\"size\":[136373],\"sizemode\":\"area\",\"sizeref\":124.63111111111111,\"symbol\":\"circle\"},\"mode\":\"markers\",\"name\":\"PE\",\"orientation\":\"v\",\"showlegend\":true,\"x\":[136373],\"xaxis\":\"x\",\"y\":[369701.09049773216],\"yaxis\":\"y\",\"type\":\"scatter\"},{\"hovertemplate\":\"Infraction_State=CE<br>Violations_Count=%{marker.size}<br>Total_ticket_value=%{y}<extra></extra>\",\"legendgroup\":\"CE\",\"marker\":{\"color\":\"#FECB52\",\"size\":[127407],\"sizemode\":\"area\",\"sizeref\":124.63111111111111,\"symbol\":\"circle\"},\"mode\":\"markers\",\"name\":\"CE\",\"orientation\":\"v\",\"showlegend\":true,\"x\":[127407],\"xaxis\":\"x\",\"y\":[274504.4552053213],\"yaxis\":\"y\",\"type\":\"scatter\"},{\"hovertemplate\":\"Infraction_State=RN<br>Violations_Count=%{marker.size}<br>Total_ticket_value=%{y}<extra></extra>\",\"legendgroup\":\"RN\",\"marker\":{\"color\":\"#636efa\",\"size\":[76745],\"sizemode\":\"area\",\"sizeref\":124.63111111111111,\"symbol\":\"circle\"},\"mode\":\"markers\",\"name\":\"RN\",\"orientation\":\"v\",\"showlegend\":true,\"x\":[76745],\"xaxis\":\"x\",\"y\":[198783.89303648472],\"yaxis\":\"y\",\"type\":\"scatter\"},{\"hovertemplate\":\"Infraction_State=RJ<br>Violations_Count=%{marker.size}<br>Total_ticket_value=%{y}<extra></extra>\",\"legendgroup\":\"RJ\",\"marker\":{\"color\":\"#EF553B\",\"size\":[418981],\"sizemode\":\"area\",\"sizeref\":124.63111111111111,\"symbol\":\"circle\"},\"mode\":\"markers\",\"name\":\"RJ\",\"orientation\":\"v\",\"showlegend\":true,\"x\":[418981],\"xaxis\":\"x\",\"y\":[927166.8698049784],\"yaxis\":\"y\",\"type\":\"scatter\"},{\"hovertemplate\":\"Infraction_State=MA<br>Violations_Count=%{marker.size}<br>Total_ticket_value=%{y}<extra></extra>\",\"legendgroup\":\"MA\",\"marker\":{\"color\":\"#00cc96\",\"size\":[73250],\"sizemode\":\"area\",\"sizeref\":124.63111111111111,\"symbol\":\"circle\"},\"mode\":\"markers\",\"name\":\"MA\",\"orientation\":\"v\",\"showlegend\":true,\"x\":[73250],\"xaxis\":\"x\",\"y\":[237788.0090587139],\"yaxis\":\"y\",\"type\":\"scatter\"},{\"hovertemplate\":\"Infraction_State=AC<br>Violations_Count=%{marker.size}<br>Total_ticket_value=%{y}<extra></extra>\",\"legendgroup\":\"AC\",\"marker\":{\"color\":\"#ab63fa\",\"size\":[15531],\"sizemode\":\"area\",\"sizeref\":124.63111111111111,\"symbol\":\"circle\"},\"mode\":\"markers\",\"name\":\"AC\",\"orientation\":\"v\",\"showlegend\":true,\"x\":[15531],\"xaxis\":\"x\",\"y\":[38158.00956273079],\"yaxis\":\"y\",\"type\":\"scatter\"},{\"hovertemplate\":\"Infraction_State=DF<br>Violations_Count=%{marker.size}<br>Total_ticket_value=%{y}<extra></extra>\",\"legendgroup\":\"DF\",\"marker\":{\"color\":\"#FFA15A\",\"size\":[73745],\"sizemode\":\"area\",\"sizeref\":124.63111111111111,\"symbol\":\"circle\"},\"mode\":\"markers\",\"name\":\"DF\",\"orientation\":\"v\",\"showlegend\":true,\"x\":[73745],\"xaxis\":\"x\",\"y\":[165532.85148239136],\"yaxis\":\"y\",\"type\":\"scatter\"},{\"hovertemplate\":\"Infraction_State=PR<br>Violations_Count=%{marker.size}<br>Total_ticket_value=%{y}<extra></extra>\",\"legendgroup\":\"PR\",\"marker\":{\"color\":\"#19d3f3\",\"size\":[237359],\"sizemode\":\"area\",\"sizeref\":124.63111111111111,\"symbol\":\"circle\"},\"mode\":\"markers\",\"name\":\"PR\",\"orientation\":\"v\",\"showlegend\":true,\"x\":[237359],\"xaxis\":\"x\",\"y\":[492065.6725436449],\"yaxis\":\"y\",\"type\":\"scatter\"},{\"hovertemplate\":\"Infraction_State=AP<br>Violations_Count=%{marker.size}<br>Total_ticket_value=%{y}<extra></extra>\",\"legendgroup\":\"AP\",\"marker\":{\"color\":\"#FF6692\",\"size\":[17726],\"sizemode\":\"area\",\"sizeref\":124.63111111111111,\"symbol\":\"circle\"},\"mode\":\"markers\",\"name\":\"AP\",\"orientation\":\"v\",\"showlegend\":true,\"x\":[17726],\"xaxis\":\"x\",\"y\":[53764.11092507839],\"yaxis\":\"y\",\"type\":\"scatter\"}],                        {\"template\":{\"data\":{\"histogram2dcontour\":[{\"type\":\"histogram2dcontour\",\"colorbar\":{\"outlinewidth\":0,\"ticks\":\"\"},\"colorscale\":[[0.0,\"#0d0887\"],[0.1111111111111111,\"#46039f\"],[0.2222222222222222,\"#7201a8\"],[0.3333333333333333,\"#9c179e\"],[0.4444444444444444,\"#bd3786\"],[0.5555555555555556,\"#d8576b\"],[0.6666666666666666,\"#ed7953\"],[0.7777777777777778,\"#fb9f3a\"],[0.8888888888888888,\"#fdca26\"],[1.0,\"#f0f921\"]]}],\"choropleth\":[{\"type\":\"choropleth\",\"colorbar\":{\"outlinewidth\":0,\"ticks\":\"\"}}],\"histogram2d\":[{\"type\":\"histogram2d\",\"colorbar\":{\"outlinewidth\":0,\"ticks\":\"\"},\"colorscale\":[[0.0,\"#0d0887\"],[0.1111111111111111,\"#46039f\"],[0.2222222222222222,\"#7201a8\"],[0.3333333333333333,\"#9c179e\"],[0.4444444444444444,\"#bd3786\"],[0.5555555555555556,\"#d8576b\"],[0.6666666666666666,\"#ed7953\"],[0.7777777777777778,\"#fb9f3a\"],[0.8888888888888888,\"#fdca26\"],[1.0,\"#f0f921\"]]}],\"heatmap\":[{\"type\":\"heatmap\",\"colorbar\":{\"outlinewidth\":0,\"ticks\":\"\"},\"colorscale\":[[0.0,\"#0d0887\"],[0.1111111111111111,\"#46039f\"],[0.2222222222222222,\"#7201a8\"],[0.3333333333333333,\"#9c179e\"],[0.4444444444444444,\"#bd3786\"],[0.5555555555555556,\"#d8576b\"],[0.6666666666666666,\"#ed7953\"],[0.7777777777777778,\"#fb9f3a\"],[0.8888888888888888,\"#fdca26\"],[1.0,\"#f0f921\"]]}],\"heatmapgl\":[{\"type\":\"heatmapgl\",\"colorbar\":{\"outlinewidth\":0,\"ticks\":\"\"},\"colorscale\":[[0.0,\"#0d0887\"],[0.1111111111111111,\"#46039f\"],[0.2222222222222222,\"#7201a8\"],[0.3333333333333333,\"#9c179e\"],[0.4444444444444444,\"#bd3786\"],[0.5555555555555556,\"#d8576b\"],[0.6666666666666666,\"#ed7953\"],[0.7777777777777778,\"#fb9f3a\"],[0.8888888888888888,\"#fdca26\"],[1.0,\"#f0f921\"]]}],\"contourcarpet\":[{\"type\":\"contourcarpet\",\"colorbar\":{\"outlinewidth\":0,\"ticks\":\"\"}}],\"contour\":[{\"type\":\"contour\",\"colorbar\":{\"outlinewidth\":0,\"ticks\":\"\"},\"colorscale\":[[0.0,\"#0d0887\"],[0.1111111111111111,\"#46039f\"],[0.2222222222222222,\"#7201a8\"],[0.3333333333333333,\"#9c179e\"],[0.4444444444444444,\"#bd3786\"],[0.5555555555555556,\"#d8576b\"],[0.6666666666666666,\"#ed7953\"],[0.7777777777777778,\"#fb9f3a\"],[0.8888888888888888,\"#fdca26\"],[1.0,\"#f0f921\"]]}],\"surface\":[{\"type\":\"surface\",\"colorbar\":{\"outlinewidth\":0,\"ticks\":\"\"},\"colorscale\":[[0.0,\"#0d0887\"],[0.1111111111111111,\"#46039f\"],[0.2222222222222222,\"#7201a8\"],[0.3333333333333333,\"#9c179e\"],[0.4444444444444444,\"#bd3786\"],[0.5555555555555556,\"#d8576b\"],[0.6666666666666666,\"#ed7953\"],[0.7777777777777778,\"#fb9f3a\"],[0.8888888888888888,\"#fdca26\"],[1.0,\"#f0f921\"]]}],\"mesh3d\":[{\"type\":\"mesh3d\",\"colorbar\":{\"outlinewidth\":0,\"ticks\":\"\"}}],\"scatter\":[{\"fillpattern\":{\"fillmode\":\"overlay\",\"size\":10,\"solidity\":0.2},\"type\":\"scatter\"}],\"parcoords\":[{\"type\":\"parcoords\",\"line\":{\"colorbar\":{\"outlinewidth\":0,\"ticks\":\"\"}}}],\"scatterpolargl\":[{\"type\":\"scatterpolargl\",\"marker\":{\"colorbar\":{\"outlinewidth\":0,\"ticks\":\"\"}}}],\"bar\":[{\"error_x\":{\"color\":\"#2a3f5f\"},\"error_y\":{\"color\":\"#2a3f5f\"},\"marker\":{\"line\":{\"color\":\"#E5ECF6\",\"width\":0.5},\"pattern\":{\"fillmode\":\"overlay\",\"size\":10,\"solidity\":0.2}},\"type\":\"bar\"}],\"scattergeo\":[{\"type\":\"scattergeo\",\"marker\":{\"colorbar\":{\"outlinewidth\":0,\"ticks\":\"\"}}}],\"scatterpolar\":[{\"type\":\"scatterpolar\",\"marker\":{\"colorbar\":{\"outlinewidth\":0,\"ticks\":\"\"}}}],\"histogram\":[{\"marker\":{\"pattern\":{\"fillmode\":\"overlay\",\"size\":10,\"solidity\":0.2}},\"type\":\"histogram\"}],\"scattergl\":[{\"type\":\"scattergl\",\"marker\":{\"colorbar\":{\"outlinewidth\":0,\"ticks\":\"\"}}}],\"scatter3d\":[{\"type\":\"scatter3d\",\"line\":{\"colorbar\":{\"outlinewidth\":0,\"ticks\":\"\"}},\"marker\":{\"colorbar\":{\"outlinewidth\":0,\"ticks\":\"\"}}}],\"scattermapbox\":[{\"type\":\"scattermapbox\",\"marker\":{\"colorbar\":{\"outlinewidth\":0,\"ticks\":\"\"}}}],\"scatterternary\":[{\"type\":\"scatterternary\",\"marker\":{\"colorbar\":{\"outlinewidth\":0,\"ticks\":\"\"}}}],\"scattercarpet\":[{\"type\":\"scattercarpet\",\"marker\":{\"colorbar\":{\"outlinewidth\":0,\"ticks\":\"\"}}}],\"carpet\":[{\"aaxis\":{\"endlinecolor\":\"#2a3f5f\",\"gridcolor\":\"white\",\"linecolor\":\"white\",\"minorgridcolor\":\"white\",\"startlinecolor\":\"#2a3f5f\"},\"baxis\":{\"endlinecolor\":\"#2a3f5f\",\"gridcolor\":\"white\",\"linecolor\":\"white\",\"minorgridcolor\":\"white\",\"startlinecolor\":\"#2a3f5f\"},\"type\":\"carpet\"}],\"table\":[{\"cells\":{\"fill\":{\"color\":\"#EBF0F8\"},\"line\":{\"color\":\"white\"}},\"header\":{\"fill\":{\"color\":\"#C8D4E3\"},\"line\":{\"color\":\"white\"}},\"type\":\"table\"}],\"barpolar\":[{\"marker\":{\"line\":{\"color\":\"#E5ECF6\",\"width\":0.5},\"pattern\":{\"fillmode\":\"overlay\",\"size\":10,\"solidity\":0.2}},\"type\":\"barpolar\"}],\"pie\":[{\"automargin\":true,\"type\":\"pie\"}]},\"layout\":{\"autotypenumbers\":\"strict\",\"colorway\":[\"#636efa\",\"#EF553B\",\"#00cc96\",\"#ab63fa\",\"#FFA15A\",\"#19d3f3\",\"#FF6692\",\"#B6E880\",\"#FF97FF\",\"#FECB52\"],\"font\":{\"color\":\"#2a3f5f\"},\"hovermode\":\"closest\",\"hoverlabel\":{\"align\":\"left\"},\"paper_bgcolor\":\"white\",\"plot_bgcolor\":\"#E5ECF6\",\"polar\":{\"bgcolor\":\"#E5ECF6\",\"angularaxis\":{\"gridcolor\":\"white\",\"linecolor\":\"white\",\"ticks\":\"\"},\"radialaxis\":{\"gridcolor\":\"white\",\"linecolor\":\"white\",\"ticks\":\"\"}},\"ternary\":{\"bgcolor\":\"#E5ECF6\",\"aaxis\":{\"gridcolor\":\"white\",\"linecolor\":\"white\",\"ticks\":\"\"},\"baxis\":{\"gridcolor\":\"white\",\"linecolor\":\"white\",\"ticks\":\"\"},\"caxis\":{\"gridcolor\":\"white\",\"linecolor\":\"white\",\"ticks\":\"\"}},\"coloraxis\":{\"colorbar\":{\"outlinewidth\":0,\"ticks\":\"\"}},\"colorscale\":{\"sequential\":[[0.0,\"#0d0887\"],[0.1111111111111111,\"#46039f\"],[0.2222222222222222,\"#7201a8\"],[0.3333333333333333,\"#9c179e\"],[0.4444444444444444,\"#bd3786\"],[0.5555555555555556,\"#d8576b\"],[0.6666666666666666,\"#ed7953\"],[0.7777777777777778,\"#fb9f3a\"],[0.8888888888888888,\"#fdca26\"],[1.0,\"#f0f921\"]],\"sequentialminus\":[[0.0,\"#0d0887\"],[0.1111111111111111,\"#46039f\"],[0.2222222222222222,\"#7201a8\"],[0.3333333333333333,\"#9c179e\"],[0.4444444444444444,\"#bd3786\"],[0.5555555555555556,\"#d8576b\"],[0.6666666666666666,\"#ed7953\"],[0.7777777777777778,\"#fb9f3a\"],[0.8888888888888888,\"#fdca26\"],[1.0,\"#f0f921\"]],\"diverging\":[[0,\"#8e0152\"],[0.1,\"#c51b7d\"],[0.2,\"#de77ae\"],[0.3,\"#f1b6da\"],[0.4,\"#fde0ef\"],[0.5,\"#f7f7f7\"],[0.6,\"#e6f5d0\"],[0.7,\"#b8e186\"],[0.8,\"#7fbc41\"],[0.9,\"#4d9221\"],[1,\"#276419\"]]},\"xaxis\":{\"gridcolor\":\"white\",\"linecolor\":\"white\",\"ticks\":\"\",\"title\":{\"standoff\":15},\"zerolinecolor\":\"white\",\"automargin\":true,\"zerolinewidth\":2},\"yaxis\":{\"gridcolor\":\"white\",\"linecolor\":\"white\",\"ticks\":\"\",\"title\":{\"standoff\":15},\"zerolinecolor\":\"white\",\"automargin\":true,\"zerolinewidth\":2},\"scene\":{\"xaxis\":{\"backgroundcolor\":\"#E5ECF6\",\"gridcolor\":\"white\",\"linecolor\":\"white\",\"showbackground\":true,\"ticks\":\"\",\"zerolinecolor\":\"white\",\"gridwidth\":2},\"yaxis\":{\"backgroundcolor\":\"#E5ECF6\",\"gridcolor\":\"white\",\"linecolor\":\"white\",\"showbackground\":true,\"ticks\":\"\",\"zerolinecolor\":\"white\",\"gridwidth\":2},\"zaxis\":{\"backgroundcolor\":\"#E5ECF6\",\"gridcolor\":\"white\",\"linecolor\":\"white\",\"showbackground\":true,\"ticks\":\"\",\"zerolinecolor\":\"white\",\"gridwidth\":2}},\"shapedefaults\":{\"line\":{\"color\":\"#2a3f5f\"}},\"annotationdefaults\":{\"arrowcolor\":\"#2a3f5f\",\"arrowhead\":0,\"arrowwidth\":1},\"geo\":{\"bgcolor\":\"white\",\"landcolor\":\"#E5ECF6\",\"subunitcolor\":\"white\",\"showland\":true,\"showlakes\":true,\"lakecolor\":\"white\"},\"title\":{\"x\":0.05},\"mapbox\":{\"style\":\"light\"}}},\"xaxis\":{\"anchor\":\"y\",\"domain\":[0.0,1.0],\"title\":{\"text\":\"Violations_Count\"},\"type\":\"log\"},\"yaxis\":{\"anchor\":\"x\",\"domain\":[0.0,1.0],\"title\":{\"text\":\"Total_ticket_value\"}},\"legend\":{\"title\":{\"text\":\"Infraction_State\"},\"tracegroupgap\":0,\"itemsizing\":\"constant\"},\"title\":{\"text\":\"Bubble PLOT\"}},                        {\"responsive\": true}                    ).then(function(){\n",
              "                            \n",
              "var gd = document.getElementById('8568ad22-6e3f-44c3-97db-8464b2600319');\n",
              "var x = new MutationObserver(function (mutations, observer) {{\n",
              "        var display = window.getComputedStyle(gd).display;\n",
              "        if (!display || display === 'none') {{\n",
              "            console.log([gd, 'removed!']);\n",
              "            Plotly.purge(gd);\n",
              "            observer.disconnect();\n",
              "        }}\n",
              "}});\n",
              "\n",
              "// Listen for the removal of the full notebook cells\n",
              "var notebookContainer = gd.closest('#notebook-container');\n",
              "if (notebookContainer) {{\n",
              "    x.observe(notebookContainer, {childList: true});\n",
              "}}\n",
              "\n",
              "// Listen for the clearing of the current output cell\n",
              "var outputEl = gd.closest('.output');\n",
              "if (outputEl) {{\n",
              "    x.observe(outputEl, {childList: true});\n",
              "}}\n",
              "\n",
              "                        })                };                            </script>        </div>\n",
              "</body>\n",
              "</html>"
            ]
          },
          "metadata": {}
        }
      ]
    },
    {
      "cell_type": "code",
      "source": [
        "from pyspark.sql.functions import col, month\n",
        "\n",
        "# Create a new column 'Month' extracting the month from the 'Data' column\n",
        "TV22 = TV22.withColumn('Month', month(col('Date_of_Violation_DD/MM/YYYY')))\n",
        "\n",
        "# Perform the group by and sum operation\n",
        "Monht_ticket_value = TV22.groupBy('Month').agg(spark_sum('Ticket_Value').alias('Ticket_Value')).orderBy('Month')\n",
        "\n",
        "Monht_ticket_value.show()\n"
      ],
      "metadata": {
        "colab": {
          "base_uri": "https://localhost:8080/"
        },
        "id": "4DfQmTaZ0Onp",
        "outputId": "cff70e30-5cd2-4a20-a912-03d4f92d0546"
      },
      "execution_count": 109,
      "outputs": [
        {
          "output_type": "stream",
          "name": "stdout",
          "text": [
            "+-----+-----------------+\n",
            "|Month|     Ticket_Value|\n",
            "+-----+-----------------+\n",
            "|    1|713407.0195646286|\n",
            "|    2|834084.5111181736|\n",
            "|    3|864017.0587791204|\n",
            "|    4|868528.2317457199|\n",
            "|    5| 757905.422765255|\n",
            "|    6|678707.0027419329|\n",
            "|    7|642468.1340513229|\n",
            "|    8|683430.6101783514|\n",
            "|    9|723646.8828046322|\n",
            "|   10|793083.8065972328|\n",
            "|   11|597179.8242362738|\n",
            "|   12|793404.2031226158|\n",
            "+-----+-----------------+\n",
            "\n"
          ]
        }
      ]
    }
  ]
}