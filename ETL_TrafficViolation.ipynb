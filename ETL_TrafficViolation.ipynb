{
  "nbformat": 4,
  "nbformat_minor": 0,
  "metadata": {
    "colab": {
      "provenance": []
    },
    "kernelspec": {
      "name": "python3",
      "display_name": "Python 3"
    },
    "language_info": {
      "name": "python"
    }
  },
  "cells": [
    {
      "cell_type": "markdown",
      "source": [
        "\n",
        "Installing Spark on google collab\n",
        "\n"
      ],
      "metadata": {
        "id": "GrJsv6A7FJ5Y"
      }
    },
    {
      "cell_type": "code",
      "source": [
        "#Install JDK\n",
        "!apt-get install openjdk-8-jdk-headless -qq > /dev/null"
      ],
      "metadata": {
        "id": "dQazozg5yQgp"
      },
      "execution_count": 309,
      "outputs": []
    },
    {
      "cell_type": "code",
      "source": [
        "# Donwload Spark\n",
        "!wget -q https://archive.apache.org/dist/spark/spark-3.1.2/spark-3.1.2-bin-hadoop2.7.tgz"
      ],
      "metadata": {
        "id": "hpQwjD31ySFi"
      },
      "execution_count": 310,
      "outputs": []
    },
    {
      "cell_type": "code",
      "source": [
        "# Unzip spark folder\n",
        "!tar xf /content/spark-3.1.2-bin-hadoop2.7.tgz"
      ],
      "metadata": {
        "id": "R7sk0pqlyUSP"
      },
      "execution_count": 311,
      "outputs": []
    },
    {
      "cell_type": "code",
      "source": [
        "!pip install -q findspark"
      ],
      "metadata": {
        "id": "_UBBRK2-yYVz"
      },
      "execution_count": 312,
      "outputs": []
    },
    {
      "cell_type": "code",
      "source": [
        "# Create env variables\n",
        "import os\n",
        "os.environ[\"JAVA_HOME\"] = \"/usr/lib/jvm/java-8-openjdk-amd64\"\n",
        "os.environ[\"SPARK_HOME\"] = \"/content/spark-3.1.2-bin-hadoop2.7\""
      ],
      "metadata": {
        "id": "TVOsSR8CyaOd"
      },
      "execution_count": 313,
      "outputs": []
    },
    {
      "cell_type": "code",
      "source": [
        "# Import findspark, that helps find the Spark on the system and import as a regular lib\n",
        "import findspark\n",
        "findspark.init()"
      ],
      "metadata": {
        "id": "mdrtcZoWycNj"
      },
      "execution_count": 314,
      "outputs": []
    },
    {
      "cell_type": "markdown",
      "source": [
        "Donwload files traffic violations zipped folder"
      ],
      "metadata": {
        "id": "YqHmdVLgFOQC"
      }
    },
    {
      "cell_type": "code",
      "source": [
        "import re\n",
        "# Let's first download the data from the government site, this is one of my updates on the tutor´s code\n",
        "# I download the code automatically from the site\n",
        "import requests\n",
        "import zipfile\n",
        "\n",
        "def download_and_extract_file(url, destination):\n",
        "    response = requests.get(url)\n",
        "    if response.status_code == 200:\n",
        "        with open(destination, 'wb') as file:\n",
        "            file.write(response.content)\n",
        "        print(\"File downloaded successfully.\")\n",
        "\n",
        "        # Extract the file\n",
        "        with zipfile.ZipFile(destination, 'r') as zip_ref:\n",
        "            zip_ref.extractall(os.path.dirname(destination))\n",
        "        print(\"File extracted successfully.\")\n",
        "\n",
        "        # Delete the .zip file\n",
        "        os.remove(destination)\n",
        "        print(\".zip file deleted.\")\n",
        "    else:\n",
        "        print(\"Failed to download the file.\")"
      ],
      "metadata": {
        "id": "czklR6HssC4q"
      },
      "execution_count": 430,
      "outputs": []
    },
    {
      "cell_type": "code",
      "source": [
        "# Download 2022 traffic violation data\n",
        "file_url = 'https://drive.google.com/u/0/uc?id=1-oY2e1W4cjmbZCgdcGnmPCIod4MFCSpg&export=download&confirm=t&uuid=c1ebf929-8b62-4489-a46d-5284482747fb&at=AKKF8vwfciU3oT68KlBtF4jj14Wl:1688604985049'\n",
        "file_destination = '/content/data/infracoes_2022.zip'\n",
        "\n",
        "download_and_extract_file(file_url, file_destination)"
      ],
      "metadata": {
        "colab": {
          "base_uri": "https://localhost:8080/"
        },
        "id": "hc7NPCWnwAZK",
        "outputId": "38c2a659-fcdd-461e-e23c-27f5b28b0d46"
      },
      "execution_count": 316,
      "outputs": [
        {
          "output_type": "stream",
          "name": "stdout",
          "text": [
            "File downloaded successfully.\n",
            "File extracted successfully.\n",
            ".zip file deleted.\n"
          ]
        }
      ]
    },
    {
      "cell_type": "code",
      "source": [
        "# Download 2023 traffic violation data\n",
        "file_url = 'https://drive.google.com/u/0/uc?id=106pwbYv84gCtLhhcbi0B_4qyUQxfH2n3&export=download&confirm=t&uuid=3967f839-2af2-437b-8f60-bb84c592767d&at=AKKF8vxhyEJdMfwlL_zzAfR9M7ZO:1688605862920'\n",
        "file_destination = '/content/data/infracoes_2023.zip'\n",
        "\n",
        "download_and_extract_file(file_url, file_destination)"
      ],
      "metadata": {
        "colab": {
          "base_uri": "https://localhost:8080/"
        },
        "id": "Irq0oTp4u099",
        "outputId": "ced67a78-6bd4-48b5-f14c-f7492ebbbd6b"
      },
      "execution_count": 317,
      "outputs": [
        {
          "output_type": "stream",
          "name": "stdout",
          "text": [
            "File downloaded successfully.\n",
            "File extracted successfully.\n",
            ".zip file deleted.\n"
          ]
        }
      ]
    },
    {
      "cell_type": "markdown",
      "source": [
        "Appeding each file content on a conselidated dataframe"
      ],
      "metadata": {
        "id": "mxg2llGEFZ8l"
      }
    },
    {
      "cell_type": "code",
      "source": [
        "from pyspark.sql import SparkSession\n",
        "import os\n",
        "\n",
        "def create_dataframe_with_file_content(directory_path):\n",
        "    # List the files in the directory\n",
        "    files = os.listdir(directory_path)\n",
        "\n",
        "    # Create an empty list to store the DataFrames\n",
        "    dataframes = []\n",
        "    print(\"Processing files:\")\n",
        "    # Loop to consolidate the files\n",
        "    for counter, file_name in enumerate(files):\n",
        "        print(counter, file_name)\n",
        "\n",
        "        # Read the file into a DataFrame\n",
        "        file_path = os.path.join(directory_path, file_name)\n",
        "        base_data = spark.read.format(\"csv\").option(\"header\", \"true\").option(\"sep\", \";\").option(\"encoding\", \"latin1\").load(file_path)\n",
        "\n",
        "        # Append the DataFrame to the list\n",
        "        dataframes.append(base_data)\n",
        "\n",
        "    # Union all the DataFrames in the list\n",
        "    consolidated_data = dataframes[0]\n",
        "    for i in range(1, len(dataframes)):\n",
        "        consolidated_data = consolidated_data.union(dataframes[i])\n",
        "\n",
        "    # Get the shape of the consolidated DataFrame\n",
        "    print(\"Files content were consolidated.\")\n",
        "    print((consolidated_data.count(), len(consolidated_data.columns)))\n",
        "    print(\"\")\n",
        "    return consolidated_data"
      ],
      "metadata": {
        "id": "yXcc3S1JDgd3"
      },
      "execution_count": 431,
      "outputs": []
    },
    {
      "cell_type": "code",
      "source": [
        "# Create a SparkSession\n",
        "spark = SparkSession.builder\\\n",
        "        .master('local')\\\n",
        "        .appName('TVextraction')\\\n",
        "        .getOrCreate()\n",
        "\n",
        "# Creating Traffic violation 2022 dataframe\n",
        "TV22 = create_dataframe_with_file_content('/content/data/ajustados_2022')"
      ],
      "metadata": {
        "colab": {
          "base_uri": "https://localhost:8080/"
        },
        "id": "8TNcv5Kf5r9i",
        "outputId": "65832084-a052-4b66-f79b-b4c81d97d720"
      },
      "execution_count": 432,
      "outputs": [
        {
          "output_type": "stream",
          "name": "stdout",
          "text": [
            "Processing files:\n",
            "0 infraçoes2022_01.csv\n",
            "1 infraçoes2022_10.csv\n",
            "2 infraçoes2022_02.csv\n",
            "3 infraçoes2022_11.csv\n",
            "4 infraçoes2022_09.csv\n",
            "5 infraçoes2022_04.csv\n",
            "6 infraçoes2022_08.csv\n",
            "7 infraçoes2022_12.csv\n",
            "8 infraçoes2022_03.csv\n",
            "9 infraçoes2022_07.csv\n",
            "10 infraçoes2022_05.csv\n",
            "11 infraçoes2022_06.csv\n",
            "Files content were consolidated.\n",
            "(4135523, 25)\n",
            "\n"
          ]
        }
      ]
    },
    {
      "cell_type": "code",
      "source": [
        "# Checking columns types\n",
        "TV22.printSchema()"
      ],
      "metadata": {
        "colab": {
          "base_uri": "https://localhost:8080/"
        },
        "id": "lEA58rPW2jOq",
        "outputId": "9faececc-4088-40ff-9da5-9908365d623b"
      },
      "execution_count": 320,
      "outputs": [
        {
          "output_type": "stream",
          "name": "stdout",
          "text": [
            "root\n",
            " |-- Número do Auto: string (nullable = true)\n",
            " |-- Data da Infração (DD/MM/AAAA): string (nullable = true)\n",
            " |-- Indicador de Abordagem: string (nullable = true)\n",
            " |-- Assinatura do Auto: string (nullable = true)\n",
            " |-- Sentido Trafego: string (nullable = true)\n",
            " |-- UF Infração: string (nullable = true)\n",
            " |-- BR Infração: string (nullable = true)\n",
            " |-- Km Infração: string (nullable = true)\n",
            " |-- Município: string (nullable = true)\n",
            " |-- Indicador Veiculo Estrangeiro: string (nullable = true)\n",
            " |-- UF Placa: string (nullable = true)\n",
            " |-- Descrição Especie Veículo: string (nullable = true)\n",
            " |-- Descrição Marca Veículo: string (nullable = true)\n",
            " |-- Descrição Tipo Veículo: string (nullable = true)\n",
            " |-- Descrição Modelo Veiculo: string (nullable = true)\n",
            " |-- Código da Infração: string (nullable = true)\n",
            " |-- Descrição Abreviada Infração: string (nullable = true)\n",
            " |-- Enquadramento da Infração: string (nullable = true)\n",
            " |-- Início Vigência da Infração: string (nullable = true)\n",
            " |-- Fim Vigência Infração: string (nullable = true)\n",
            " |-- Medição Infração: string (nullable = true)\n",
            " |-- Hora Infração: string (nullable = true)\n",
            " |-- Medição Considerada: string (nullable = true)\n",
            " |-- Excesso Verificado: string (nullable = true)\n",
            " |-- Qtd Infrações: string (nullable = true)\n",
            "\n"
          ]
        }
      ]
    },
    {
      "cell_type": "code",
      "source": [
        "TV22.show(10)"
      ],
      "metadata": {
        "colab": {
          "base_uri": "https://localhost:8080/"
        },
        "id": "I9m4Ioz8EEOR",
        "outputId": "4bd8045f-3c80-400f-8480-c7f677ae1808"
      },
      "execution_count": 321,
      "outputs": [
        {
          "output_type": "stream",
          "name": "stdout",
          "text": [
            "+---------------+-----------------------------+----------------------+------------------+---------------+-----------+-----------+-----------+---------+-----------------------------+--------+-------------------------+-----------------------+----------------------+------------------------+------------------+----------------------------+-------------------------+---------------------------+---------------------+----------------+-------------+-------------------+------------------+-------------+\n",
            "| Número do Auto|Data da Infração (DD/MM/AAAA)|Indicador de Abordagem|Assinatura do Auto|Sentido Trafego|UF Infração|BR Infração|Km Infração|Município|Indicador Veiculo Estrangeiro|UF Placa|Descrição Especie Veículo|Descrição Marca Veículo|Descrição Tipo Veículo|Descrição Modelo Veiculo|Código da Infração|Descrição Abreviada Infração|Enquadramento da Infração|Início Vigência da Infração|Fim Vigência Infração|Medição Infração|Hora Infração|Medição Considerada|Excesso Verificado|Qtd Infrações|\n",
            "+---------------+-----------------------------+----------------------+------------------+---------------+-----------+-----------+-----------+---------+-----------------------------+--------+-------------------------+-----------------------+----------------------+------------------------+------------------+----------------------------+-------------------------+---------------------------+---------------------+----------------+-------------+-------------------+------------------+-------------+\n",
            "|61eabcb9b7e0679|                   2022-01-14|                     C|                 S|              D|         MA|        230|        404|   BALSAS|                            N|      MA|                 ESPECIAL|   FIAT/STRADA ENDUR...|           CAMINHONETE|     STRADA ENDURANCE CD|             65991|        Conduzir o veícul...|                  230 * V|                 2016-11-01|                   NA|         Nenhuma|           16|                  0|                 0|            1|\n",
            "|d97a34e658d2e6c|                   2022-01-30|                     C|                 N|              D|         MA|        230|        413|   BALSAS|                            N|      GO|               PASSAGEIRO|             VW/GOL 1.0|             AUTOMOVEL|              VW/GOL 1.0|             50100|        Dirigir veículo s...|                    162 I|                 2016-11-01|                   NA|         Nenhuma|           17|                  0|                 0|            1|\n",
            "|397168b4d993a8f|                   2022-01-30|                     C|                 N|              D|         MA|        230|        413|   BALSAS|                            N|      GO|               PASSAGEIRO|             VW/GOL 1.0|             AUTOMOVEL|              VW/GOL 1.0|             51180|        Permitir posse/co...|            164 c/c 162 I|                 2016-11-01|                   NA|         Nenhuma|           17|                  0|                 0|            1|\n",
            "|a86157cf8d604d0|                   2022-01-21|                     C|                 N|              D|         PR|        277|         31| MORRETES|                            N|      PR|               PASSAGEIRO|         I/BMW R1200 GS|           MOTOCICLETA|          I/BMW R1200 GS|             65992|        Conduzir o veícul...|                  230 * V|                 2016-11-01|                   NA|         Nenhuma|           12|                  0|                 0|            1|\n",
            "|1302ba8ba04bb2f|                   2022-01-24|                     C|                 S|              D|         MG|        040|        554|NOVA LIMA|                            N|      RJ|                    MISTO|   I/TOYOTA HILUX SW...|            UTILITARIO|    I/TOYOTA HILUX SW...|             65991|        Conduzir o veícul...|                  230 * V|                 2016-11-01|                   NA|         Nenhuma|           17|                  0|                 0|            1|\n",
            "|721fb2f74b83999|                   2022-01-24|                     C|                 S|              D|         MG|        040|        554|NOVA LIMA|                            N|      RJ|                    MISTO|   I/TOYOTA HILUX SW...|            UTILITARIO|    I/TOYOTA HILUX SW...|             51852|        Deixar o passagei...|                      167|                 2016-11-01|                   NA|         Nenhuma|           17|                  0|                 0|            1|\n",
            "|69b897a0f2f91c7|                   2022-01-24|                     C|                 S|              D|         MG|        040|        554|NOVA LIMA|                            N|      RJ|                    MISTO|   I/TOYOTA HILUX SW...|            UTILITARIO|    I/TOYOTA HILUX SW...|             66372|        Conduzir o veícul...|                   230 IX|                 2016-11-01|                   NA|         Nenhuma|           17|                  0|                 0|            1|\n",
            "|bde175760b4f590|                   2022-01-27|                     C|                 S|              C|         MG|        381|        450|   SABARA|                            N|      SP|                 ESPECIAL|   FIAT/TORO RANCH A...|           CAMINHONETE|      TORO RANCH AT9 4X4|             65991|        Conduzir o veícul...|                  230 * V|                 2016-11-01|                   NA|         Nenhuma|           17|                  0|                 0|            1|\n",
            "|8e565c4243555a9|                   2022-01-08|                     C|                 N|              C|         SC|        101|        201| SAO JOSE|                            N|      SC|                      '-1|                    '-1|           MOTOCICLETA|    HONDA/CG 150 TITA...|             65992|        Conduzir o veícul...|                  230 * V|                 2016-11-01|                   NA|         Nenhuma|           23|                  0|                 0|            1|\n",
            "|a26d27a20a4ea3c|                   2022-01-08|                     C|                 N|              C|         SC|        101|        201| SAO JOSE|                            N|      SC|                      '-1|                    '-1|           MOTOCICLETA|    HONDA/CG 150 TITA...|             67261|        Conduzir o veícul...|                230 XVIII|                 2016-11-01|                   NA|         Nenhuma|           23|                  0|                 0|            1|\n",
            "+---------------+-----------------------------+----------------------+------------------+---------------+-----------+-----------+-----------+---------+-----------------------------+--------+-------------------------+-----------------------+----------------------+------------------------+------------------+----------------------------+-------------------------+---------------------------+---------------------+----------------+-------------+-------------------+------------------+-------------+\n",
            "only showing top 10 rows\n",
            "\n"
          ]
        }
      ]
    },
    {
      "cell_type": "code",
      "source": [
        "# Creating Traffic violation 2022 dataframe\n",
        "TV23 = create_dataframe_with_file_content('/content/data/ajustados_2023')"
      ],
      "metadata": {
        "colab": {
          "base_uri": "https://localhost:8080/"
        },
        "id": "bLIY4feUFz9f",
        "outputId": "c9fb814d-f74e-4257-dbaa-2128a72abb5f"
      },
      "execution_count": 322,
      "outputs": [
        {
          "output_type": "stream",
          "name": "stdout",
          "text": [
            "Processing files:\n",
            "0 infraçoes2023_05.csv\n",
            "1 infraçoes2023_03.csv\n",
            "2 infraçoes2023_04.csv\n",
            "3 infraçoes2023_01.csv\n",
            "4 infraçoes2023_02.csv\n",
            "Files content were consolidated.\n",
            "(2105730, 25)\n",
            "\n"
          ]
        }
      ]
    },
    {
      "cell_type": "code",
      "source": [
        "TV23.printSchema()"
      ],
      "metadata": {
        "colab": {
          "base_uri": "https://localhost:8080/"
        },
        "id": "eZAHqv92D7O3",
        "outputId": "3d1633bc-8af2-4aa6-c3b5-baa7af4c74b4"
      },
      "execution_count": 323,
      "outputs": [
        {
          "output_type": "stream",
          "name": "stdout",
          "text": [
            "root\n",
            " |-- Número do Auto: string (nullable = true)\n",
            " |-- Data da Infração (DD/MM/AAAA): string (nullable = true)\n",
            " |-- Indicador de Abordagem: string (nullable = true)\n",
            " |-- Assinatura do Auto: string (nullable = true)\n",
            " |-- Sentido Trafego: string (nullable = true)\n",
            " |-- UF Infração: string (nullable = true)\n",
            " |-- BR Infração: string (nullable = true)\n",
            " |-- Km Infração: string (nullable = true)\n",
            " |-- Município: string (nullable = true)\n",
            " |-- Indicador Veiculo Estrangeiro: string (nullable = true)\n",
            " |-- UF Placa: string (nullable = true)\n",
            " |-- Descrição Especie Veículo: string (nullable = true)\n",
            " |-- Descrição Marca Veículo: string (nullable = true)\n",
            " |-- Descrição Tipo Veículo: string (nullable = true)\n",
            " |-- Descrição Modelo Veiculo: string (nullable = true)\n",
            " |-- Código da Infração: string (nullable = true)\n",
            " |-- Descrição Abreviada Infração: string (nullable = true)\n",
            " |-- Enquadramento da Infração: string (nullable = true)\n",
            " |-- Início Vigência da Infração: string (nullable = true)\n",
            " |-- Fim Vigência Infração: string (nullable = true)\n",
            " |-- Medição Infração: string (nullable = true)\n",
            " |-- Hora Infração: string (nullable = true)\n",
            " |-- Medição Considerada: string (nullable = true)\n",
            " |-- Excesso Verificado: string (nullable = true)\n",
            " |-- Qtd Infrações: string (nullable = true)\n",
            "\n"
          ]
        }
      ]
    },
    {
      "cell_type": "code",
      "source": [
        "TV23.show(10)"
      ],
      "metadata": {
        "colab": {
          "base_uri": "https://localhost:8080/"
        },
        "id": "_4sD4V2UEOKx",
        "outputId": "3177b5b0-ebef-4ce3-a7bd-88215b2ce064"
      },
      "execution_count": 324,
      "outputs": [
        {
          "output_type": "stream",
          "name": "stdout",
          "text": [
            "+---------------+-----------------------------+----------------------+------------------+---------------+-----------+-----------+-----------+---------+-----------------------------+--------+-------------------------+-----------------------+----------------------+------------------------+------------------+----------------------------+-------------------------+---------------------------+---------------------+----------------+-------------+-------------------+------------------+-------------+\n",
            "| Número do Auto|Data da Infração (DD/MM/AAAA)|Indicador de Abordagem|Assinatura do Auto|Sentido Trafego|UF Infração|BR Infração|Km Infração|Município|Indicador Veiculo Estrangeiro|UF Placa|Descrição Especie Veículo|Descrição Marca Veículo|Descrição Tipo Veículo|Descrição Modelo Veiculo|Código da Infração|Descrição Abreviada Infração|Enquadramento da Infração|Início Vigência da Infração|Fim Vigência Infração|Medição Infração|Hora Infração|Medição Considerada|Excesso Verificado|Qtd Infrações|\n",
            "+---------------+-----------------------------+----------------------+------------------+---------------+-----------+-----------+-----------+---------+-----------------------------+--------+-------------------------+-----------------------+----------------------+------------------------+------------------+----------------------------+-------------------------+---------------------------+---------------------+----------------+-------------+-------------------+------------------+-------------+\n",
            "|5f07fcd6c7dcce0|                   2023-05-14|                     C|                 N|              D|         BA|        101|        507|  ITABUNA|                            N|      BA|               PASSAGEIRO|         YAMAHA/NEO 125|              MOTONETA|                 NEO 125|             65991|        Conduzir o veícul...|                  230 * V|                 2016-11-01|                   NA|         Nenhuma|           15|                  0|                 0|            1|\n",
            "|ebe0991d078414b|                   2023-05-20|                     C|                 S|              D|         SC|        153|         92|CONCORDIA|                            N|      BA|                    CARGA|   SR/LIBRELATO SRCA 4E|          SEMI-REBOQUE|              SR/SRCA 4E|             65992|        Conduzir o veícul...|                  230 * V|                 2016-11-01|                   NA|         Nenhuma|            9|                  0|                 0|            1|\n",
            "|6ea71db7667c912|                   2023-05-30|                     C|                 S|              D|         SP|        153|        345| OURINHOS|                            /|       /|           Não encontrado|         Não encontrado|        Não encontrado|          Não encontrado|             65991|        Conduzir o veícul...|                  230 * V|                 2016-11-01|                   NA|         Nenhuma|           11|                  0|                 0|            1|\n",
            "|257a7a65de0c315|                   2023-05-14|                     C|                 N|              D|         BA|        101|        507|  ITABUNA|                            N|      BA|               PASSAGEIRO|         YAMAHA/NEO 125|              MOTONETA|                 NEO 125|             50371|        Dirigir veículo c...|                  162 III|                 2016-11-01|                   NA|         Nenhuma|           15|                  0|                 0|            1|\n",
            "|d829c2fc5833aef|                   2023-05-14|                     C|                 N|              D|         BA|        101|        507|  ITABUNA|                            N|      BA|               PASSAGEIRO|         YAMAHA/NEO 125|              MOTONETA|                 NEO 125|             51341|        Permitir posse/co...|          164 c/c 162 III|                 2016-11-01|                   NA|         Nenhuma|           15|                  0|                 0|            1|\n",
            "|8d58f1b47e07771|                   2023-05-10|                     C|                 N|              C|         MT|        163|        733|  SORRISO|                            N|     '-1|               PASSAGEIRO|       HONDA/CG 160 FAN|           MOTOCICLETA|              CG 160 FAN|             50100|        Dirigir veículo s...|                    162 I|                 2016-11-01|                   NA|         Nenhuma|           21|                  0|                 0|            1|\n",
            "|38f8cfbd2072f01|                   2023-05-10|                     C|                 N|              C|         MT|        163|        733|  SORRISO|                            N|     '-1|               PASSAGEIRO|       HONDA/CG 160 FAN|           MOTOCICLETA|              CB 160 FAN|             65991|        Conduzir o veícul...|                  230 * V|                 2016-11-01|                   NA|         Nenhuma|           21|                  0|                 0|            1|\n",
            "|461db6ce47baf05|                   2023-05-10|                     C|                 N|              C|         MT|        163|        733|  SORRISO|                            N|     '-1|               PASSAGEIRO|       HONDA/CG 160 FAN|           MOTOCICLETA|              CG 160 FAN|             66450|        Conduzir o veícul...|                    230 X|                 2016-11-01|                   NA|         Nenhuma|           21|                  0|                 0|            1|\n",
            "|4f0aaaf52a7562d|                   2023-05-10|                     C|                 N|              D|         MS|        163|        728|    COXIM|                            N|      MS|                    CARGA|   FIAT/STRADA WORKI...|           CAMINHONETE|           Não Informado|             66610|        Conduzir o veícul...|                  230 XII|                 2016-11-01|                   NA|         Nenhuma|           16|                  0|                 0|            1|\n",
            "|c7317c3dc8ce91f|                   2023-05-10|                     C|                 N|              D|         MS|        163|        728|    COXIM|                            N|      MS|                    CARGA|   FIAT/STRADA WORKI...|           CAMINHONETE|           Não Informado|             65800|        Conduzir o veícul...|                   230 IV|                 2016-11-01|                   NA|         Nenhuma|           16|                  0|                 0|            1|\n",
            "+---------------+-----------------------------+----------------------+------------------+---------------+-----------+-----------+-----------+---------+-----------------------------+--------+-------------------------+-----------------------+----------------------+------------------------+------------------+----------------------------+-------------------------+---------------------------+---------------------+----------------+-------------+-------------------+------------------+-------------+\n",
            "only showing top 10 rows\n",
            "\n"
          ]
        }
      ]
    },
    {
      "cell_type": "markdown",
      "source": [
        "Saving dataframe as parquet"
      ],
      "metadata": {
        "id": "xOEQH0ZxFFX5"
      }
    },
    {
      "cell_type": "code",
      "source": [
        "from pyspark.sql.functions import col\n",
        "\n",
        "def df_to_parquet(consolidated_data, file_path):\n",
        "  # Convert columns to string type\n",
        "  for col_name in consolidated_data.columns:\n",
        "      # Remove invalid characters from the column name\n",
        "      new_col_name = col_name.replace(\" \", \"_\").replace(\",\", \"\").replace(\";\", \"\").replace(\"{\", \"\").replace(\"}\", \"\").replace(\"(\", \"\").replace(\")\", \"\").replace(\"\\n\", \"\").replace(\"\\t\", \"\").replace(\"=\", \"\")\n",
        "      # Rename the column\n",
        "      consolidated_data = consolidated_data.withColumnRenamed(col_name, new_col_name).withColumn(new_col_name, col(new_col_name).cast(\"string\"))\n",
        "\n",
        "  consolidated_data.write.parquet(file_path, compression=\"gzip\")\n",
        "  print(\"Parquet file was created and saved on \" + file_path)"
      ],
      "metadata": {
        "id": "vS2ANf0PFFG1"
      },
      "execution_count": 325,
      "outputs": []
    },
    {
      "cell_type": "code",
      "source": [
        "# Save the TV23 dataFrame as a Parquet file\n",
        "df_to_parquet(TV22,\"/content/traffic_violations_2022.parquet\")"
      ],
      "metadata": {
        "id": "FflfRAGpG9iz"
      },
      "execution_count": null,
      "outputs": []
    },
    {
      "cell_type": "code",
      "source": [
        "# Save the TV23 dataFrame as a Parquet file\n",
        "df_to_parquet(TV23,\"/content/traffic_violations_2023.parquet\")"
      ],
      "metadata": {
        "colab": {
          "base_uri": "https://localhost:8080/"
        },
        "id": "TBJn9PCxF-uk",
        "outputId": "a9352793-019f-4f49-b709-25f7a4784802"
      },
      "execution_count": 51,
      "outputs": [
        {
          "output_type": "stream",
          "name": "stdout",
          "text": [
            "Parquet file was created and saved on /content/traffic_violations_2023.parquet\n"
          ]
        }
      ]
    },
    {
      "cell_type": "code",
      "source": [
        "# Close the SparkSession of Extraction\n",
        "# I don't want to use the same spark context on the next steps\n",
        "spark.stop()"
      ],
      "metadata": {
        "id": "QWOB0fcXL2-K"
      },
      "execution_count": 327,
      "outputs": []
    },
    {
      "cell_type": "markdown",
      "source": [
        "End of the extraction and load section"
      ],
      "metadata": {
        "id": "VyRIm1V8Zp7s"
      }
    },
    {
      "cell_type": "markdown",
      "source": [
        "Exploratory Data Analysis"
      ],
      "metadata": {
        "id": "fip69Re7NCGh"
      }
    },
    {
      "cell_type": "markdown",
      "source": [
        "Import parquet files"
      ],
      "metadata": {
        "id": "_sOpdjKPZwby"
      }
    },
    {
      "cell_type": "code",
      "source": [
        "# Import Traffic violation parquet files as a spark dataframe\n",
        "\n",
        "# Create a SparkSession\n",
        "spark = SparkSession.builder\\\n",
        "        .master('local')\\\n",
        "        .appName('TVanalysis')\\\n",
        "        .getOrCreate()\n",
        "\n",
        "# Read 2022 traffic violations\n",
        "TV22 = spark.read.parquet(\"/content/traffic_violations_2022.parquet\")\n",
        "# TV22 Shape\n",
        "print(\"2022 Traffic violations Dataframe shape:\")\n",
        "print((TV22.count(), len(TV22.columns)))"
      ],
      "metadata": {
        "colab": {
          "base_uri": "https://localhost:8080/"
        },
        "id": "GdIRWaYCYbhV",
        "outputId": "cce9fb02-6519-43a8-ff9b-e3639f77b948"
      },
      "execution_count": 433,
      "outputs": [
        {
          "output_type": "stream",
          "name": "stdout",
          "text": [
            "2022 Traffic violations Dataframe shape:\n",
            "(4135523, 25)\n"
          ]
        }
      ]
    },
    {
      "cell_type": "code",
      "source": [
        "# Read 2023 traffic violations\n",
        "TV23 = spark.read.parquet(\"/content/traffic_violations_2023.parquet\")\n",
        "#TV23 Shape\n",
        "print(\"2023 Traffic violations Dataframe shape:\")\n",
        "print((TV23.count(), len(TV23.columns)))"
      ],
      "metadata": {
        "colab": {
          "base_uri": "https://localhost:8080/"
        },
        "id": "96crArfmZUkQ",
        "outputId": "bc71ce6f-508e-4168-85f1-47c396b605e8"
      },
      "execution_count": 434,
      "outputs": [
        {
          "output_type": "stream",
          "name": "stdout",
          "text": [
            "2023 Traffic violations Dataframe shape:\n",
            "(2105730, 25)\n"
          ]
        }
      ]
    },
    {
      "cell_type": "code",
      "source": [
        "print(\"Dataframe type:\")\n",
        "type(TV22)"
      ],
      "metadata": {
        "colab": {
          "base_uri": "https://localhost:8080/"
        },
        "id": "Nx_XiiP1aapz",
        "outputId": "e78e2331-fbab-4649-ca28-811afb6b66b2"
      },
      "execution_count": 435,
      "outputs": [
        {
          "output_type": "stream",
          "name": "stdout",
          "text": [
            "Dataframe type:\n"
          ]
        },
        {
          "output_type": "execute_result",
          "data": {
            "text/plain": [
              "pyspark.sql.dataframe.DataFrame"
            ]
          },
          "metadata": {},
          "execution_count": 435
        }
      ]
    },
    {
      "cell_type": "code",
      "source": [
        "print(\"2022 Traffic violations Dataframe schema:\")\n",
        "TV22.printSchema()"
      ],
      "metadata": {
        "colab": {
          "base_uri": "https://localhost:8080/"
        },
        "id": "oJLIpkn0aFzh",
        "outputId": "34d77e19-e33e-4ee9-a8ea-b8095b5312a1"
      },
      "execution_count": 436,
      "outputs": [
        {
          "output_type": "stream",
          "name": "stdout",
          "text": [
            "2022 Traffic violations Dataframe schema:\n",
            "root\n",
            " |-- Número_do_Auto: string (nullable = true)\n",
            " |-- Data_da_Infração_DD/MM/AAAA: string (nullable = true)\n",
            " |-- Indicador_de_Abordagem: string (nullable = true)\n",
            " |-- Assinatura_do_Auto: string (nullable = true)\n",
            " |-- Sentido_Trafego: string (nullable = true)\n",
            " |-- UF_Infração: string (nullable = true)\n",
            " |-- BR_Infração: string (nullable = true)\n",
            " |-- Km_Infração: string (nullable = true)\n",
            " |-- Município: string (nullable = true)\n",
            " |-- Indicador_Veiculo_Estrangeiro: string (nullable = true)\n",
            " |-- UF_Placa: string (nullable = true)\n",
            " |-- Descrição_Especie_Veículo: string (nullable = true)\n",
            " |-- Descrição_Marca_Veículo: string (nullable = true)\n",
            " |-- Descrição_Tipo_Veículo: string (nullable = true)\n",
            " |-- Descrição_Modelo_Veiculo: string (nullable = true)\n",
            " |-- Código_da_Infração: string (nullable = true)\n",
            " |-- Descrição_Abreviada_Infração: string (nullable = true)\n",
            " |-- Enquadramento_da_Infração: string (nullable = true)\n",
            " |-- Início_Vigência_da_Infração: string (nullable = true)\n",
            " |-- Fim_Vigência_Infração: string (nullable = true)\n",
            " |-- Medição_Infração: string (nullable = true)\n",
            " |-- Hora_Infração: string (nullable = true)\n",
            " |-- Medição_Considerada: string (nullable = true)\n",
            " |-- Excesso_Verificado: string (nullable = true)\n",
            " |-- Qtd_Infrações: string (nullable = true)\n",
            "\n"
          ]
        }
      ]
    },
    {
      "cell_type": "code",
      "source": [
        "from pyspark.sql.functions import col, sum as spark_sum\n",
        "# Count the number of null values in each column\n",
        "null_counts = TV22.select([spark_sum(col(c).isNull().cast(\"integer\")).alias(c) for c in TV22.columns])\n",
        "# Display the null counts\n",
        "print(\"Count the number of null values in each column:\")\n",
        "null_counts.show()"
      ],
      "metadata": {
        "colab": {
          "base_uri": "https://localhost:8080/"
        },
        "id": "3JLAS1Kya5Wt",
        "outputId": "84bd6582-71e0-49a1-af2e-609808f5ef37"
      },
      "execution_count": 437,
      "outputs": [
        {
          "output_type": "stream",
          "name": "stdout",
          "text": [
            "Count the number of null values in each column:\n",
            "+--------------+---------------------------+----------------------+------------------+---------------+-----------+-----------+-----------+---------+-----------------------------+--------+-------------------------+-----------------------+----------------------+------------------------+------------------+----------------------------+-------------------------+---------------------------+---------------------+----------------+-------------+-------------------+------------------+-------------+\n",
            "|Número_do_Auto|Data_da_Infração_DD/MM/AAAA|Indicador_de_Abordagem|Assinatura_do_Auto|Sentido_Trafego|UF_Infração|BR_Infração|Km_Infração|Município|Indicador_Veiculo_Estrangeiro|UF_Placa|Descrição_Especie_Veículo|Descrição_Marca_Veículo|Descrição_Tipo_Veículo|Descrição_Modelo_Veiculo|Código_da_Infração|Descrição_Abreviada_Infração|Enquadramento_da_Infração|Início_Vigência_da_Infração|Fim_Vigência_Infração|Medição_Infração|Hora_Infração|Medição_Considerada|Excesso_Verificado|Qtd_Infrações|\n",
            "+--------------+---------------------------+----------------------+------------------+---------------+-----------+-----------+-----------+---------+-----------------------------+--------+-------------------------+-----------------------+----------------------+------------------------+------------------+----------------------------+-------------------------+---------------------------+---------------------+----------------+-------------+-------------------+------------------+-------------+\n",
            "|             0|                          0|                     0|                 0|              0|          0|          0|          0|        0|                            0|       0|                        0|                      0|                     0|                       0|                 0|                           0|                        0|                          0|                    0|               0|            0|                  0|                 1|            1|\n",
            "+--------------+---------------------------+----------------------+------------------+---------------+-----------+-----------+-----------+---------+-----------------------------+--------+-------------------------+-----------------------+----------------------+------------------------+------------------+----------------------------+-------------------------+---------------------------+---------------------+----------------+-------------+-------------------+------------------+-------------+\n",
            "\n"
          ]
        }
      ]
    },
    {
      "cell_type": "code",
      "source": [
        "from pyspark.sql.functions import countDistinct\n",
        "# Calculate the number of unique values in each column\n",
        "nunique_counts = TV22.agg(*[countDistinct(col_name).alias(col_name) for col_name in TV22.columns])\n",
        "# Display the number of unique values\n",
        "print(\"Calculate the number of unique values in each column:\")\n",
        "nunique_counts.show()"
      ],
      "metadata": {
        "colab": {
          "base_uri": "https://localhost:8080/"
        },
        "id": "44XeiBYOb2PN",
        "outputId": "6c2b34da-df93-4460-827f-d9c2d797a152"
      },
      "execution_count": 438,
      "outputs": [
        {
          "output_type": "stream",
          "name": "stdout",
          "text": [
            "Calculate the number of unique values in each column:\n",
            "+--------------+---------------------------+----------------------+------------------+---------------+-----------+-----------+-----------+---------+-----------------------------+--------+-------------------------+-----------------------+----------------------+------------------------+------------------+----------------------------+-------------------------+---------------------------+---------------------+----------------+-------------+-------------------+------------------+-------------+\n",
            "|Número_do_Auto|Data_da_Infração_DD/MM/AAAA|Indicador_de_Abordagem|Assinatura_do_Auto|Sentido_Trafego|UF_Infração|BR_Infração|Km_Infração|Município|Indicador_Veiculo_Estrangeiro|UF_Placa|Descrição_Especie_Veículo|Descrição_Marca_Veículo|Descrição_Tipo_Veículo|Descrição_Modelo_Veiculo|Código_da_Infração|Descrição_Abreviada_Infração|Enquadramento_da_Infração|Início_Vigência_da_Infração|Fim_Vigência_Infração|Medição_Infração|Hora_Infração|Medição_Considerada|Excesso_Verificado|Qtd_Infrações|\n",
            "+--------------+---------------------------+----------------------+------------------+---------------+-----------+-----------+-----------+---------+-----------------------------+--------+-------------------------+-----------------------+----------------------+------------------------+------------------+----------------------------+-------------------------+---------------------------+---------------------+----------------+-------------+-------------------+------------------+-------------+\n",
            "|       4135523|                        365|                     2|                 2|              2|         27|        127|       1223|     2078|                            3|      90|                       14|                  13173|                    24|                   25719|               379|                         379|                      240|                          9|                    2|               6|           24|              11978|              8518|            1|\n",
            "+--------------+---------------------------+----------------------+------------------+---------------+-----------+-----------+-----------+---------+-----------------------------+--------+-------------------------+-----------------------+----------------------+------------------------+------------------+----------------------------+-------------------------+---------------------------+---------------------+----------------+-------------+-------------------+------------------+-------------+\n",
            "\n"
          ]
        }
      ]
    },
    {
      "cell_type": "code",
      "source": [
        "# Get the total number of rows\n",
        "total_multa = int(TV22.count())\n",
        "# Print the total number of multas\n",
        "print(f'Total of 2022 Traffic Violations: {total_multa}')"
      ],
      "metadata": {
        "colab": {
          "base_uri": "https://localhost:8080/"
        },
        "id": "f_FKSLLneyH8",
        "outputId": "54f3994f-df5e-4985-fff1-ea7b14fdcfc7"
      },
      "execution_count": 439,
      "outputs": [
        {
          "output_type": "stream",
          "name": "stdout",
          "text": [
            "Total of 2022 Traffic Violations: 4135523\n"
          ]
        }
      ]
    },
    {
      "cell_type": "code",
      "source": [
        "from pyspark.sql.functions import col, to_date\n",
        "# Convert the column to date type\n",
        "TV22 = TV22.withColumn('Data_da_Infração_DD/MM/AAAA', to_date(col('Data_da_Infração_DD/MM/AAAA'), 'yyyy-MM-dd'))\n",
        "# Print the updated data type of the column\n",
        "TV22.printSchema()"
      ],
      "metadata": {
        "colab": {
          "base_uri": "https://localhost:8080/"
        },
        "id": "KyfXw0N9gmsb",
        "outputId": "dd584d73-6ed8-4976-ff6e-8500cee785cf"
      },
      "execution_count": 440,
      "outputs": [
        {
          "output_type": "stream",
          "name": "stdout",
          "text": [
            "root\n",
            " |-- Número_do_Auto: string (nullable = true)\n",
            " |-- Data_da_Infração_DD/MM/AAAA: date (nullable = true)\n",
            " |-- Indicador_de_Abordagem: string (nullable = true)\n",
            " |-- Assinatura_do_Auto: string (nullable = true)\n",
            " |-- Sentido_Trafego: string (nullable = true)\n",
            " |-- UF_Infração: string (nullable = true)\n",
            " |-- BR_Infração: string (nullable = true)\n",
            " |-- Km_Infração: string (nullable = true)\n",
            " |-- Município: string (nullable = true)\n",
            " |-- Indicador_Veiculo_Estrangeiro: string (nullable = true)\n",
            " |-- UF_Placa: string (nullable = true)\n",
            " |-- Descrição_Especie_Veículo: string (nullable = true)\n",
            " |-- Descrição_Marca_Veículo: string (nullable = true)\n",
            " |-- Descrição_Tipo_Veículo: string (nullable = true)\n",
            " |-- Descrição_Modelo_Veiculo: string (nullable = true)\n",
            " |-- Código_da_Infração: string (nullable = true)\n",
            " |-- Descrição_Abreviada_Infração: string (nullable = true)\n",
            " |-- Enquadramento_da_Infração: string (nullable = true)\n",
            " |-- Início_Vigência_da_Infração: string (nullable = true)\n",
            " |-- Fim_Vigência_Infração: string (nullable = true)\n",
            " |-- Medição_Infração: string (nullable = true)\n",
            " |-- Hora_Infração: string (nullable = true)\n",
            " |-- Medição_Considerada: string (nullable = true)\n",
            " |-- Excesso_Verificado: string (nullable = true)\n",
            " |-- Qtd_Infrações: string (nullable = true)\n",
            "\n"
          ]
        }
      ]
    },
    {
      "cell_type": "code",
      "source": [
        "from pyspark.sql.functions import expr\n",
        "from pyspark.sql.window import Window\n",
        "\n",
        "# Creating a temporary view called TV22\n",
        "TV22.createOrReplaceTempView(\"TV22\")\n",
        "\n",
        "# Creating a query, to get the contect from the temp view\n",
        "query = \"SELECT\\\n",
        "            `Data_da_Infração_DD/MM/AAAA` AS `Date`, \\\n",
        "            COUNT(*) AS `Violations_Count`, \\\n",
        "            MONTH(`Data_da_Infração_DD/MM/AAAA`) AS `Month`, \\\n",
        "            DAY(`Data_da_Infração_DD/MM/AAAA`) AS `Day`\\\n",
        "        FROM \\\n",
        "            TV22 \\\n",
        "        GROUP BY \\\n",
        "            `Data_da_Infração_DD/MM/AAAA` \\\n",
        "        ORDER BY \\\n",
        "            `Data_da_Infração_DD/MM/AAAA`\"\n",
        "\n",
        "# run the query and storying in another variable called flights10\n",
        "violations_per_day = spark.sql(query)\n",
        "\n",
        "# Get the moving avarage\n",
        "window_spec = Window.orderBy(\"Date\").rowsBetween(-6, 0)\n",
        "violations_per_day = violations_per_day.withColumn(\"moving_avarage\", expr(\"avg(Violations_Count)\").over(window_spec))\n",
        "\n",
        "# see result\n",
        "violations_per_day.show(10)"
      ],
      "metadata": {
        "colab": {
          "base_uri": "https://localhost:8080/"
        },
        "id": "oV1uzaKpp1xL",
        "outputId": "149ee394-71fe-4e5b-a875-67d686d16a96"
      },
      "execution_count": 441,
      "outputs": [
        {
          "output_type": "stream",
          "name": "stdout",
          "text": [
            "+----------+----------------+-----+---+------------------+\n",
            "|      Date|Violations_Count|Month|Day|    moving_avarage|\n",
            "+----------+----------------+-----+---+------------------+\n",
            "|2022-01-01|            8533|    1|  1|            8533.0|\n",
            "|2022-01-02|           13146|    1|  2|           10839.5|\n",
            "|2022-01-03|           12012|    1|  3|11230.333333333334|\n",
            "|2022-01-04|           11248|    1|  4|          11234.75|\n",
            "|2022-01-05|           11159|    1|  5|           11219.6|\n",
            "|2022-01-06|           10167|    1|  6|11044.166666666666|\n",
            "|2022-01-07|           11150|    1|  7|11059.285714285714|\n",
            "|2022-01-08|            8321|    1|  8|           11029.0|\n",
            "|2022-01-09|            8788|    1|  9| 10406.42857142857|\n",
            "|2022-01-10|            8520|    1| 10|  9907.57142857143|\n",
            "+----------+----------------+-----+---+------------------+\n",
            "only showing top 10 rows\n",
            "\n"
          ]
        }
      ]
    },
    {
      "cell_type": "code",
      "source": [
        "violations_per_day.printSchema()"
      ],
      "metadata": {
        "colab": {
          "base_uri": "https://localhost:8080/"
        },
        "id": "jr2-gJlHuMoU",
        "outputId": "d74062f9-a56c-4b44-f0a4-8c109f89ed27"
      },
      "execution_count": 442,
      "outputs": [
        {
          "output_type": "stream",
          "name": "stdout",
          "text": [
            "root\n",
            " |-- Date: date (nullable = true)\n",
            " |-- Violations_Count: long (nullable = false)\n",
            " |-- Month: integer (nullable = true)\n",
            " |-- Day: integer (nullable = true)\n",
            " |-- moving_avarage: double (nullable = true)\n",
            "\n"
          ]
        }
      ]
    },
    {
      "cell_type": "code",
      "source": [
        "import plotly.express as px\n",
        "import plotly.graph_objects as go\n",
        "from plotly.subplots import make_subplots"
      ],
      "metadata": {
        "id": "QUDq2E_CX0hH"
      },
      "execution_count": 443,
      "outputs": []
    },
    {
      "cell_type": "code",
      "source": [
        "!pip install plotly"
      ],
      "metadata": {
        "colab": {
          "base_uri": "https://localhost:8080/"
        },
        "id": "Fc_uSoXpX0p3",
        "outputId": "f0b73833-1ec9-4311-c05a-fddd24f078c3"
      },
      "execution_count": 444,
      "outputs": [
        {
          "output_type": "stream",
          "name": "stdout",
          "text": [
            "Requirement already satisfied: plotly in /usr/local/lib/python3.10/dist-packages (5.13.1)\n",
            "Requirement already satisfied: tenacity>=6.2.0 in /usr/local/lib/python3.10/dist-packages (from plotly) (8.2.2)\n"
          ]
        }
      ]
    },
    {
      "cell_type": "code",
      "source": [
        "# Import pandas lib\n",
        "import pandas as pd\n",
        "\n",
        "# Converting Spark Dataframe to Pandas Dataframe\n",
        "df_violations_per_day = violations_per_day.toPandas()"
      ],
      "metadata": {
        "id": "xBeO9K9vvDDM"
      },
      "execution_count": 445,
      "outputs": []
    },
    {
      "cell_type": "code",
      "source": [
        "px.line(\n",
        "    df_violations_per_day,\n",
        "    x='Date',\n",
        "    y='Violations_Count'\n",
        ")"
      ],
      "metadata": {
        "colab": {
          "base_uri": "https://localhost:8080/",
          "height": 542
        },
        "id": "A7vFDNzeuWCB",
        "outputId": "0d77021d-be82-46e9-c5c8-2e9241f544e7"
      },
      "execution_count": 446,
      "outputs": [
        {
          "output_type": "display_data",
          "data": {
            "text/html": [
              "<html>\n",
              "<head><meta charset=\"utf-8\" /></head>\n",
              "<body>\n",
              "    <div>            <script src=\"https://cdnjs.cloudflare.com/ajax/libs/mathjax/2.7.5/MathJax.js?config=TeX-AMS-MML_SVG\"></script><script type=\"text/javascript\">if (window.MathJax && window.MathJax.Hub && window.MathJax.Hub.Config) {window.MathJax.Hub.Config({SVG: {font: \"STIX-Web\"}});}</script>                <script type=\"text/javascript\">window.PlotlyConfig = {MathJaxConfig: 'local'};</script>\n",
              "        <script src=\"https://cdn.plot.ly/plotly-2.18.2.min.js\"></script>                <div id=\"d9780c2c-3b64-4edc-a936-eb158ecb40ae\" class=\"plotly-graph-div\" style=\"height:525px; width:100%;\"></div>            <script type=\"text/javascript\">                                    window.PLOTLYENV=window.PLOTLYENV || {};                                    if (document.getElementById(\"d9780c2c-3b64-4edc-a936-eb158ecb40ae\")) {                    Plotly.newPlot(                        \"d9780c2c-3b64-4edc-a936-eb158ecb40ae\",                        [{\"hovertemplate\":\"Date=%{x}<br>Violations_Count=%{y}<extra></extra>\",\"legendgroup\":\"\",\"line\":{\"color\":\"#636efa\",\"dash\":\"solid\"},\"marker\":{\"symbol\":\"circle\"},\"mode\":\"lines\",\"name\":\"\",\"orientation\":\"v\",\"showlegend\":false,\"x\":[\"2022-01-01\",\"2022-01-02\",\"2022-01-03\",\"2022-01-04\",\"2022-01-05\",\"2022-01-06\",\"2022-01-07\",\"2022-01-08\",\"2022-01-09\",\"2022-01-10\",\"2022-01-11\",\"2022-01-12\",\"2022-01-13\",\"2022-01-14\",\"2022-01-15\",\"2022-01-16\",\"2022-01-17\",\"2022-01-18\",\"2022-01-19\",\"2022-01-20\",\"2022-01-21\",\"2022-01-22\",\"2022-01-23\",\"2022-01-24\",\"2022-01-25\",\"2022-01-26\",\"2022-01-27\",\"2022-01-28\",\"2022-01-29\",\"2022-01-30\",\"2022-01-31\",\"2022-02-01\",\"2022-02-02\",\"2022-02-03\",\"2022-02-04\",\"2022-02-05\",\"2022-02-06\",\"2022-02-07\",\"2022-02-08\",\"2022-02-09\",\"2022-02-10\",\"2022-02-11\",\"2022-02-12\",\"2022-02-13\",\"2022-02-14\",\"2022-02-15\",\"2022-02-16\",\"2022-02-17\",\"2022-02-18\",\"2022-02-19\",\"2022-02-20\",\"2022-02-21\",\"2022-02-22\",\"2022-02-23\",\"2022-02-24\",\"2022-02-25\",\"2022-02-26\",\"2022-02-27\",\"2022-02-28\",\"2022-03-01\",\"2022-03-02\",\"2022-03-03\",\"2022-03-04\",\"2022-03-05\",\"2022-03-06\",\"2022-03-07\",\"2022-03-08\",\"2022-03-09\",\"2022-03-10\",\"2022-03-11\",\"2022-03-12\",\"2022-03-13\",\"2022-03-14\",\"2022-03-15\",\"2022-03-16\",\"2022-03-17\",\"2022-03-18\",\"2022-03-19\",\"2022-03-20\",\"2022-03-21\",\"2022-03-22\",\"2022-03-23\",\"2022-03-24\",\"2022-03-25\",\"2022-03-26\",\"2022-03-27\",\"2022-03-28\",\"2022-03-29\",\"2022-03-30\",\"2022-03-31\",\"2022-04-01\",\"2022-04-02\",\"2022-04-03\",\"2022-04-04\",\"2022-04-05\",\"2022-04-06\",\"2022-04-07\",\"2022-04-08\",\"2022-04-09\",\"2022-04-10\",\"2022-04-11\",\"2022-04-12\",\"2022-04-13\",\"2022-04-14\",\"2022-04-15\",\"2022-04-16\",\"2022-04-17\",\"2022-04-18\",\"2022-04-19\",\"2022-04-20\",\"2022-04-21\",\"2022-04-22\",\"2022-04-23\",\"2022-04-24\",\"2022-04-25\",\"2022-04-26\",\"2022-04-27\",\"2022-04-28\",\"2022-04-29\",\"2022-04-30\",\"2022-05-01\",\"2022-05-02\",\"2022-05-03\",\"2022-05-04\",\"2022-05-05\",\"2022-05-06\",\"2022-05-07\",\"2022-05-08\",\"2022-05-09\",\"2022-05-10\",\"2022-05-11\",\"2022-05-12\",\"2022-05-13\",\"2022-05-14\",\"2022-05-15\",\"2022-05-16\",\"2022-05-17\",\"2022-05-18\",\"2022-05-19\",\"2022-05-20\",\"2022-05-21\",\"2022-05-22\",\"2022-05-23\",\"2022-05-24\",\"2022-05-25\",\"2022-05-26\",\"2022-05-27\",\"2022-05-28\",\"2022-05-29\",\"2022-05-30\",\"2022-05-31\",\"2022-06-01\",\"2022-06-02\",\"2022-06-03\",\"2022-06-04\",\"2022-06-05\",\"2022-06-06\",\"2022-06-07\",\"2022-06-08\",\"2022-06-09\",\"2022-06-10\",\"2022-06-11\",\"2022-06-12\",\"2022-06-13\",\"2022-06-14\",\"2022-06-15\",\"2022-06-16\",\"2022-06-17\",\"2022-06-18\",\"2022-06-19\",\"2022-06-20\",\"2022-06-21\",\"2022-06-22\",\"2022-06-23\",\"2022-06-24\",\"2022-06-25\",\"2022-06-26\",\"2022-06-27\",\"2022-06-28\",\"2022-06-29\",\"2022-06-30\",\"2022-07-01\",\"2022-07-02\",\"2022-07-03\",\"2022-07-04\",\"2022-07-05\",\"2022-07-06\",\"2022-07-07\",\"2022-07-08\",\"2022-07-09\",\"2022-07-10\",\"2022-07-11\",\"2022-07-12\",\"2022-07-13\",\"2022-07-14\",\"2022-07-15\",\"2022-07-16\",\"2022-07-17\",\"2022-07-18\",\"2022-07-19\",\"2022-07-20\",\"2022-07-21\",\"2022-07-22\",\"2022-07-23\",\"2022-07-24\",\"2022-07-25\",\"2022-07-26\",\"2022-07-27\",\"2022-07-28\",\"2022-07-29\",\"2022-07-30\",\"2022-07-31\",\"2022-08-01\",\"2022-08-02\",\"2022-08-03\",\"2022-08-04\",\"2022-08-05\",\"2022-08-06\",\"2022-08-07\",\"2022-08-08\",\"2022-08-09\",\"2022-08-10\",\"2022-08-11\",\"2022-08-12\",\"2022-08-13\",\"2022-08-14\",\"2022-08-15\",\"2022-08-16\",\"2022-08-17\",\"2022-08-18\",\"2022-08-19\",\"2022-08-20\",\"2022-08-21\",\"2022-08-22\",\"2022-08-23\",\"2022-08-24\",\"2022-08-25\",\"2022-08-26\",\"2022-08-27\",\"2022-08-28\",\"2022-08-29\",\"2022-08-30\",\"2022-08-31\",\"2022-09-01\",\"2022-09-02\",\"2022-09-03\",\"2022-09-04\",\"2022-09-05\",\"2022-09-06\",\"2022-09-07\",\"2022-09-08\",\"2022-09-09\",\"2022-09-10\",\"2022-09-11\",\"2022-09-12\",\"2022-09-13\",\"2022-09-14\",\"2022-09-15\",\"2022-09-16\",\"2022-09-17\",\"2022-09-18\",\"2022-09-19\",\"2022-09-20\",\"2022-09-21\",\"2022-09-22\",\"2022-09-23\",\"2022-09-24\",\"2022-09-25\",\"2022-09-26\",\"2022-09-27\",\"2022-09-28\",\"2022-09-29\",\"2022-09-30\",\"2022-10-01\",\"2022-10-02\",\"2022-10-03\",\"2022-10-04\",\"2022-10-05\",\"2022-10-06\",\"2022-10-07\",\"2022-10-08\",\"2022-10-09\",\"2022-10-10\",\"2022-10-11\",\"2022-10-12\",\"2022-10-13\",\"2022-10-14\",\"2022-10-15\",\"2022-10-16\",\"2022-10-17\",\"2022-10-18\",\"2022-10-19\",\"2022-10-20\",\"2022-10-21\",\"2022-10-22\",\"2022-10-23\",\"2022-10-24\",\"2022-10-25\",\"2022-10-26\",\"2022-10-27\",\"2022-10-28\",\"2022-10-29\",\"2022-10-30\",\"2022-10-31\",\"2022-11-01\",\"2022-11-02\",\"2022-11-03\",\"2022-11-04\",\"2022-11-05\",\"2022-11-06\",\"2022-11-07\",\"2022-11-08\",\"2022-11-09\",\"2022-11-10\",\"2022-11-11\",\"2022-11-12\",\"2022-11-13\",\"2022-11-14\",\"2022-11-15\",\"2022-11-16\",\"2022-11-17\",\"2022-11-18\",\"2022-11-19\",\"2022-11-20\",\"2022-11-21\",\"2022-11-22\",\"2022-11-23\",\"2022-11-24\",\"2022-11-25\",\"2022-11-26\",\"2022-11-27\",\"2022-11-28\",\"2022-11-29\",\"2022-11-30\",\"2022-12-01\",\"2022-12-02\",\"2022-12-03\",\"2022-12-04\",\"2022-12-05\",\"2022-12-06\",\"2022-12-07\",\"2022-12-08\",\"2022-12-09\",\"2022-12-10\",\"2022-12-11\",\"2022-12-12\",\"2022-12-13\",\"2022-12-14\",\"2022-12-15\",\"2022-12-16\",\"2022-12-17\",\"2022-12-18\",\"2022-12-19\",\"2022-12-20\",\"2022-12-21\",\"2022-12-22\",\"2022-12-23\",\"2022-12-24\",\"2022-12-25\",\"2022-12-26\",\"2022-12-27\",\"2022-12-28\",\"2022-12-29\",\"2022-12-30\",\"2022-12-31\"],\"xaxis\":\"x\",\"y\":[8533,13146,12012,11248,11159,10167,11150,8321,8788,8520,8008,11553,9564,10799,8761,9670,10299,11576,11487,11246,14586,10223,9998,10691,10912,11103,12401,13628,11067,14135,12187,11218,11569,13506,12327,11417,9994,11294,14704,13394,12463,14952,10230,14511,13735,13051,13149,12544,13820,10624,12048,11664,12366,15191,12739,21477,21715,14993,15133,18936,18655,12157,12275,9503,14031,11579,11271,10105,11899,11003,10979,11574,12563,12339,13798,12569,13343,11273,10645,12221,13081,14022,13757,13008,11748,11576,14342,12214,12984,13211,11691,10583,12795,12619,13237,14175,12679,13456,11193,11253,11455,13132,12741,18161,17162,12422,16867,11647,10864,12624,19261,14933,14090,17675,14224,13316,14058,12619,15075,12525,12489,14937,14668,14144,16248,16765,9140,8143,12599,11647,10678,15285,9483,8253,6774,10567,10468,8511,8635,9827,7547,6569,13820,12184,13045,11643,13056,11423,10876,11539,10711,8452,11073,11662,10500,10731,11752,10086,12071,11683,13802,10849,10253,15085,10638,14153,14358,7357,7007,13663,9562,9302,9816,10199,10286,10183,10637,10101,10080,9109,10574,9472,10572,10208,10737,9076,9737,9169,10815,9123,10856,11660,11146,9812,10964,10770,8404,9872,10130,10418,10036,9643,11634,8985,9064,9948,8809,9142,10116,10082,8877,8969,9521,9795,9525,9656,10548,8047,8000,10647,8930,10525,10429,12014,8195,8069,11584,11570,10661,11117,9491,8806,9351,12918,10597,11348,11578,12334,9884,10883,10346,10334,11420,10562,10531,9730,10891,13580,10106,10884,10486,12517,9645,10381,10809,10183,8544,11114,11737,10091,10081,11190,12571,12108,10784,12943,10501,9522,11612,9074,10532,11880,13979,14241,15781,10458,9766,10257,9532,11802,10645,9507,9646,11046,11134,10946,11550,9801,10653,12259,10363,11629,10526,11617,9884,8445,11659,9902,10925,10096,19007,18238,14719,7005,5853,9888,6831,7737,6605,9804,10581,9188,10851,9397,13189,14878,12679,12027,16559,10511,9556,11007,7979,7886,5382,7665,5472,4033,9001,7948,7967,8423,8579,8549,9001,7815,8858,8973,9824,10717,10960,11293,10910,9656,10233,11251,8561,11701,11957,12950,15465,12248,10361,12476,12679,11912,16523,13654,11021,15214,12077,11332,12226,15801,13216],\"yaxis\":\"y\",\"type\":\"scatter\"}],                        {\"template\":{\"data\":{\"histogram2dcontour\":[{\"type\":\"histogram2dcontour\",\"colorbar\":{\"outlinewidth\":0,\"ticks\":\"\"},\"colorscale\":[[0.0,\"#0d0887\"],[0.1111111111111111,\"#46039f\"],[0.2222222222222222,\"#7201a8\"],[0.3333333333333333,\"#9c179e\"],[0.4444444444444444,\"#bd3786\"],[0.5555555555555556,\"#d8576b\"],[0.6666666666666666,\"#ed7953\"],[0.7777777777777778,\"#fb9f3a\"],[0.8888888888888888,\"#fdca26\"],[1.0,\"#f0f921\"]]}],\"choropleth\":[{\"type\":\"choropleth\",\"colorbar\":{\"outlinewidth\":0,\"ticks\":\"\"}}],\"histogram2d\":[{\"type\":\"histogram2d\",\"colorbar\":{\"outlinewidth\":0,\"ticks\":\"\"},\"colorscale\":[[0.0,\"#0d0887\"],[0.1111111111111111,\"#46039f\"],[0.2222222222222222,\"#7201a8\"],[0.3333333333333333,\"#9c179e\"],[0.4444444444444444,\"#bd3786\"],[0.5555555555555556,\"#d8576b\"],[0.6666666666666666,\"#ed7953\"],[0.7777777777777778,\"#fb9f3a\"],[0.8888888888888888,\"#fdca26\"],[1.0,\"#f0f921\"]]}],\"heatmap\":[{\"type\":\"heatmap\",\"colorbar\":{\"outlinewidth\":0,\"ticks\":\"\"},\"colorscale\":[[0.0,\"#0d0887\"],[0.1111111111111111,\"#46039f\"],[0.2222222222222222,\"#7201a8\"],[0.3333333333333333,\"#9c179e\"],[0.4444444444444444,\"#bd3786\"],[0.5555555555555556,\"#d8576b\"],[0.6666666666666666,\"#ed7953\"],[0.7777777777777778,\"#fb9f3a\"],[0.8888888888888888,\"#fdca26\"],[1.0,\"#f0f921\"]]}],\"heatmapgl\":[{\"type\":\"heatmapgl\",\"colorbar\":{\"outlinewidth\":0,\"ticks\":\"\"},\"colorscale\":[[0.0,\"#0d0887\"],[0.1111111111111111,\"#46039f\"],[0.2222222222222222,\"#7201a8\"],[0.3333333333333333,\"#9c179e\"],[0.4444444444444444,\"#bd3786\"],[0.5555555555555556,\"#d8576b\"],[0.6666666666666666,\"#ed7953\"],[0.7777777777777778,\"#fb9f3a\"],[0.8888888888888888,\"#fdca26\"],[1.0,\"#f0f921\"]]}],\"contourcarpet\":[{\"type\":\"contourcarpet\",\"colorbar\":{\"outlinewidth\":0,\"ticks\":\"\"}}],\"contour\":[{\"type\":\"contour\",\"colorbar\":{\"outlinewidth\":0,\"ticks\":\"\"},\"colorscale\":[[0.0,\"#0d0887\"],[0.1111111111111111,\"#46039f\"],[0.2222222222222222,\"#7201a8\"],[0.3333333333333333,\"#9c179e\"],[0.4444444444444444,\"#bd3786\"],[0.5555555555555556,\"#d8576b\"],[0.6666666666666666,\"#ed7953\"],[0.7777777777777778,\"#fb9f3a\"],[0.8888888888888888,\"#fdca26\"],[1.0,\"#f0f921\"]]}],\"surface\":[{\"type\":\"surface\",\"colorbar\":{\"outlinewidth\":0,\"ticks\":\"\"},\"colorscale\":[[0.0,\"#0d0887\"],[0.1111111111111111,\"#46039f\"],[0.2222222222222222,\"#7201a8\"],[0.3333333333333333,\"#9c179e\"],[0.4444444444444444,\"#bd3786\"],[0.5555555555555556,\"#d8576b\"],[0.6666666666666666,\"#ed7953\"],[0.7777777777777778,\"#fb9f3a\"],[0.8888888888888888,\"#fdca26\"],[1.0,\"#f0f921\"]]}],\"mesh3d\":[{\"type\":\"mesh3d\",\"colorbar\":{\"outlinewidth\":0,\"ticks\":\"\"}}],\"scatter\":[{\"fillpattern\":{\"fillmode\":\"overlay\",\"size\":10,\"solidity\":0.2},\"type\":\"scatter\"}],\"parcoords\":[{\"type\":\"parcoords\",\"line\":{\"colorbar\":{\"outlinewidth\":0,\"ticks\":\"\"}}}],\"scatterpolargl\":[{\"type\":\"scatterpolargl\",\"marker\":{\"colorbar\":{\"outlinewidth\":0,\"ticks\":\"\"}}}],\"bar\":[{\"error_x\":{\"color\":\"#2a3f5f\"},\"error_y\":{\"color\":\"#2a3f5f\"},\"marker\":{\"line\":{\"color\":\"#E5ECF6\",\"width\":0.5},\"pattern\":{\"fillmode\":\"overlay\",\"size\":10,\"solidity\":0.2}},\"type\":\"bar\"}],\"scattergeo\":[{\"type\":\"scattergeo\",\"marker\":{\"colorbar\":{\"outlinewidth\":0,\"ticks\":\"\"}}}],\"scatterpolar\":[{\"type\":\"scatterpolar\",\"marker\":{\"colorbar\":{\"outlinewidth\":0,\"ticks\":\"\"}}}],\"histogram\":[{\"marker\":{\"pattern\":{\"fillmode\":\"overlay\",\"size\":10,\"solidity\":0.2}},\"type\":\"histogram\"}],\"scattergl\":[{\"type\":\"scattergl\",\"marker\":{\"colorbar\":{\"outlinewidth\":0,\"ticks\":\"\"}}}],\"scatter3d\":[{\"type\":\"scatter3d\",\"line\":{\"colorbar\":{\"outlinewidth\":0,\"ticks\":\"\"}},\"marker\":{\"colorbar\":{\"outlinewidth\":0,\"ticks\":\"\"}}}],\"scattermapbox\":[{\"type\":\"scattermapbox\",\"marker\":{\"colorbar\":{\"outlinewidth\":0,\"ticks\":\"\"}}}],\"scatterternary\":[{\"type\":\"scatterternary\",\"marker\":{\"colorbar\":{\"outlinewidth\":0,\"ticks\":\"\"}}}],\"scattercarpet\":[{\"type\":\"scattercarpet\",\"marker\":{\"colorbar\":{\"outlinewidth\":0,\"ticks\":\"\"}}}],\"carpet\":[{\"aaxis\":{\"endlinecolor\":\"#2a3f5f\",\"gridcolor\":\"white\",\"linecolor\":\"white\",\"minorgridcolor\":\"white\",\"startlinecolor\":\"#2a3f5f\"},\"baxis\":{\"endlinecolor\":\"#2a3f5f\",\"gridcolor\":\"white\",\"linecolor\":\"white\",\"minorgridcolor\":\"white\",\"startlinecolor\":\"#2a3f5f\"},\"type\":\"carpet\"}],\"table\":[{\"cells\":{\"fill\":{\"color\":\"#EBF0F8\"},\"line\":{\"color\":\"white\"}},\"header\":{\"fill\":{\"color\":\"#C8D4E3\"},\"line\":{\"color\":\"white\"}},\"type\":\"table\"}],\"barpolar\":[{\"marker\":{\"line\":{\"color\":\"#E5ECF6\",\"width\":0.5},\"pattern\":{\"fillmode\":\"overlay\",\"size\":10,\"solidity\":0.2}},\"type\":\"barpolar\"}],\"pie\":[{\"automargin\":true,\"type\":\"pie\"}]},\"layout\":{\"autotypenumbers\":\"strict\",\"colorway\":[\"#636efa\",\"#EF553B\",\"#00cc96\",\"#ab63fa\",\"#FFA15A\",\"#19d3f3\",\"#FF6692\",\"#B6E880\",\"#FF97FF\",\"#FECB52\"],\"font\":{\"color\":\"#2a3f5f\"},\"hovermode\":\"closest\",\"hoverlabel\":{\"align\":\"left\"},\"paper_bgcolor\":\"white\",\"plot_bgcolor\":\"#E5ECF6\",\"polar\":{\"bgcolor\":\"#E5ECF6\",\"angularaxis\":{\"gridcolor\":\"white\",\"linecolor\":\"white\",\"ticks\":\"\"},\"radialaxis\":{\"gridcolor\":\"white\",\"linecolor\":\"white\",\"ticks\":\"\"}},\"ternary\":{\"bgcolor\":\"#E5ECF6\",\"aaxis\":{\"gridcolor\":\"white\",\"linecolor\":\"white\",\"ticks\":\"\"},\"baxis\":{\"gridcolor\":\"white\",\"linecolor\":\"white\",\"ticks\":\"\"},\"caxis\":{\"gridcolor\":\"white\",\"linecolor\":\"white\",\"ticks\":\"\"}},\"coloraxis\":{\"colorbar\":{\"outlinewidth\":0,\"ticks\":\"\"}},\"colorscale\":{\"sequential\":[[0.0,\"#0d0887\"],[0.1111111111111111,\"#46039f\"],[0.2222222222222222,\"#7201a8\"],[0.3333333333333333,\"#9c179e\"],[0.4444444444444444,\"#bd3786\"],[0.5555555555555556,\"#d8576b\"],[0.6666666666666666,\"#ed7953\"],[0.7777777777777778,\"#fb9f3a\"],[0.8888888888888888,\"#fdca26\"],[1.0,\"#f0f921\"]],\"sequentialminus\":[[0.0,\"#0d0887\"],[0.1111111111111111,\"#46039f\"],[0.2222222222222222,\"#7201a8\"],[0.3333333333333333,\"#9c179e\"],[0.4444444444444444,\"#bd3786\"],[0.5555555555555556,\"#d8576b\"],[0.6666666666666666,\"#ed7953\"],[0.7777777777777778,\"#fb9f3a\"],[0.8888888888888888,\"#fdca26\"],[1.0,\"#f0f921\"]],\"diverging\":[[0,\"#8e0152\"],[0.1,\"#c51b7d\"],[0.2,\"#de77ae\"],[0.3,\"#f1b6da\"],[0.4,\"#fde0ef\"],[0.5,\"#f7f7f7\"],[0.6,\"#e6f5d0\"],[0.7,\"#b8e186\"],[0.8,\"#7fbc41\"],[0.9,\"#4d9221\"],[1,\"#276419\"]]},\"xaxis\":{\"gridcolor\":\"white\",\"linecolor\":\"white\",\"ticks\":\"\",\"title\":{\"standoff\":15},\"zerolinecolor\":\"white\",\"automargin\":true,\"zerolinewidth\":2},\"yaxis\":{\"gridcolor\":\"white\",\"linecolor\":\"white\",\"ticks\":\"\",\"title\":{\"standoff\":15},\"zerolinecolor\":\"white\",\"automargin\":true,\"zerolinewidth\":2},\"scene\":{\"xaxis\":{\"backgroundcolor\":\"#E5ECF6\",\"gridcolor\":\"white\",\"linecolor\":\"white\",\"showbackground\":true,\"ticks\":\"\",\"zerolinecolor\":\"white\",\"gridwidth\":2},\"yaxis\":{\"backgroundcolor\":\"#E5ECF6\",\"gridcolor\":\"white\",\"linecolor\":\"white\",\"showbackground\":true,\"ticks\":\"\",\"zerolinecolor\":\"white\",\"gridwidth\":2},\"zaxis\":{\"backgroundcolor\":\"#E5ECF6\",\"gridcolor\":\"white\",\"linecolor\":\"white\",\"showbackground\":true,\"ticks\":\"\",\"zerolinecolor\":\"white\",\"gridwidth\":2}},\"shapedefaults\":{\"line\":{\"color\":\"#2a3f5f\"}},\"annotationdefaults\":{\"arrowcolor\":\"#2a3f5f\",\"arrowhead\":0,\"arrowwidth\":1},\"geo\":{\"bgcolor\":\"white\",\"landcolor\":\"#E5ECF6\",\"subunitcolor\":\"white\",\"showland\":true,\"showlakes\":true,\"lakecolor\":\"white\"},\"title\":{\"x\":0.05},\"mapbox\":{\"style\":\"light\"}}},\"xaxis\":{\"anchor\":\"y\",\"domain\":[0.0,1.0],\"title\":{\"text\":\"Date\"}},\"yaxis\":{\"anchor\":\"x\",\"domain\":[0.0,1.0],\"title\":{\"text\":\"Violations_Count\"}},\"legend\":{\"tracegroupgap\":0},\"margin\":{\"t\":60}},                        {\"responsive\": true}                    ).then(function(){\n",
              "                            \n",
              "var gd = document.getElementById('d9780c2c-3b64-4edc-a936-eb158ecb40ae');\n",
              "var x = new MutationObserver(function (mutations, observer) {{\n",
              "        var display = window.getComputedStyle(gd).display;\n",
              "        if (!display || display === 'none') {{\n",
              "            console.log([gd, 'removed!']);\n",
              "            Plotly.purge(gd);\n",
              "            observer.disconnect();\n",
              "        }}\n",
              "}});\n",
              "\n",
              "// Listen for the removal of the full notebook cells\n",
              "var notebookContainer = gd.closest('#notebook-container');\n",
              "if (notebookContainer) {{\n",
              "    x.observe(notebookContainer, {childList: true});\n",
              "}}\n",
              "\n",
              "// Listen for the clearing of the current output cell\n",
              "var outputEl = gd.closest('.output');\n",
              "if (outputEl) {{\n",
              "    x.observe(outputEl, {childList: true});\n",
              "}}\n",
              "\n",
              "                        })                };                            </script>        </div>\n",
              "</body>\n",
              "</html>"
            ]
          },
          "metadata": {}
        }
      ]
    },
    {
      "cell_type": "code",
      "source": [
        "# Boxplot\n",
        "px.box(\n",
        "    df_violations_per_day,\n",
        "    x='Month',\n",
        "    y='Violations_Count',\n",
        "    color='Month',\n",
        "    title='Tickets per Month Distribution'\n",
        ")"
      ],
      "metadata": {
        "colab": {
          "base_uri": "https://localhost:8080/",
          "height": 542
        },
        "id": "g0yOSBVHzgG0",
        "outputId": "5b2101e7-9c87-4b67-8a2f-03a8c41d69a7"
      },
      "execution_count": 447,
      "outputs": [
        {
          "output_type": "display_data",
          "data": {
            "text/html": [
              "<html>\n",
              "<head><meta charset=\"utf-8\" /></head>\n",
              "<body>\n",
              "    <div>            <script src=\"https://cdnjs.cloudflare.com/ajax/libs/mathjax/2.7.5/MathJax.js?config=TeX-AMS-MML_SVG\"></script><script type=\"text/javascript\">if (window.MathJax && window.MathJax.Hub && window.MathJax.Hub.Config) {window.MathJax.Hub.Config({SVG: {font: \"STIX-Web\"}});}</script>                <script type=\"text/javascript\">window.PlotlyConfig = {MathJaxConfig: 'local'};</script>\n",
              "        <script src=\"https://cdn.plot.ly/plotly-2.18.2.min.js\"></script>                <div id=\"6ec49783-7d73-4a2b-83e9-7f60d2cc8d91\" class=\"plotly-graph-div\" style=\"height:525px; width:100%;\"></div>            <script type=\"text/javascript\">                                    window.PLOTLYENV=window.PLOTLYENV || {};                                    if (document.getElementById(\"6ec49783-7d73-4a2b-83e9-7f60d2cc8d91\")) {                    Plotly.newPlot(                        \"6ec49783-7d73-4a2b-83e9-7f60d2cc8d91\",                        [{\"alignmentgroup\":\"True\",\"hovertemplate\":\"Month=%{x}<br>Violations_Count=%{y}<extra></extra>\",\"legendgroup\":\"1\",\"marker\":{\"color\":\"#636efa\"},\"name\":\"1\",\"notched\":false,\"offsetgroup\":\"1\",\"orientation\":\"v\",\"showlegend\":true,\"x\":[1,1,1,1,1,1,1,1,1,1,1,1,1,1,1,1,1,1,1,1,1,1,1,1,1,1,1,1,1,1,1],\"x0\":\" \",\"xaxis\":\"x\",\"y\":[8533,13146,12012,11248,11159,10167,11150,8321,8788,8520,8008,11553,9564,10799,8761,9670,10299,11576,11487,11246,14586,10223,9998,10691,10912,11103,12401,13628,11067,14135,12187],\"y0\":\" \",\"yaxis\":\"y\",\"type\":\"box\"},{\"alignmentgroup\":\"True\",\"hovertemplate\":\"Month=%{x}<br>Violations_Count=%{y}<extra></extra>\",\"legendgroup\":\"2\",\"marker\":{\"color\":\"#EF553B\"},\"name\":\"2\",\"notched\":false,\"offsetgroup\":\"2\",\"orientation\":\"v\",\"showlegend\":true,\"x\":[2,2,2,2,2,2,2,2,2,2,2,2,2,2,2,2,2,2,2,2,2,2,2,2,2,2,2,2],\"x0\":\" \",\"xaxis\":\"x\",\"y\":[11218,11569,13506,12327,11417,9994,11294,14704,13394,12463,14952,10230,14511,13735,13051,13149,12544,13820,10624,12048,11664,12366,15191,12739,21477,21715,14993,15133],\"y0\":\" \",\"yaxis\":\"y\",\"type\":\"box\"},{\"alignmentgroup\":\"True\",\"hovertemplate\":\"Month=%{x}<br>Violations_Count=%{y}<extra></extra>\",\"legendgroup\":\"3\",\"marker\":{\"color\":\"#00cc96\"},\"name\":\"3\",\"notched\":false,\"offsetgroup\":\"3\",\"orientation\":\"v\",\"showlegend\":true,\"x\":[3,3,3,3,3,3,3,3,3,3,3,3,3,3,3,3,3,3,3,3,3,3,3,3,3,3,3,3,3,3,3],\"x0\":\" \",\"xaxis\":\"x\",\"y\":[18936,18655,12157,12275,9503,14031,11579,11271,10105,11899,11003,10979,11574,12563,12339,13798,12569,13343,11273,10645,12221,13081,14022,13757,13008,11748,11576,14342,12214,12984,13211],\"y0\":\" \",\"yaxis\":\"y\",\"type\":\"box\"},{\"alignmentgroup\":\"True\",\"hovertemplate\":\"Month=%{x}<br>Violations_Count=%{y}<extra></extra>\",\"legendgroup\":\"4\",\"marker\":{\"color\":\"#ab63fa\"},\"name\":\"4\",\"notched\":false,\"offsetgroup\":\"4\",\"orientation\":\"v\",\"showlegend\":true,\"x\":[4,4,4,4,4,4,4,4,4,4,4,4,4,4,4,4,4,4,4,4,4,4,4,4,4,4,4,4,4,4],\"x0\":\" \",\"xaxis\":\"x\",\"y\":[11691,10583,12795,12619,13237,14175,12679,13456,11193,11253,11455,13132,12741,18161,17162,12422,16867,11647,10864,12624,19261,14933,14090,17675,14224,13316,14058,12619,15075,12525],\"y0\":\" \",\"yaxis\":\"y\",\"type\":\"box\"},{\"alignmentgroup\":\"True\",\"hovertemplate\":\"Month=%{x}<br>Violations_Count=%{y}<extra></extra>\",\"legendgroup\":\"5\",\"marker\":{\"color\":\"#FFA15A\"},\"name\":\"5\",\"notched\":false,\"offsetgroup\":\"5\",\"orientation\":\"v\",\"showlegend\":true,\"x\":[5,5,5,5,5,5,5,5,5,5,5,5,5,5,5,5,5,5,5,5,5,5,5,5,5,5,5,5,5,5,5],\"x0\":\" \",\"xaxis\":\"x\",\"y\":[12489,14937,14668,14144,16248,16765,9140,8143,12599,11647,10678,15285,9483,8253,6774,10567,10468,8511,8635,9827,7547,6569,13820,12184,13045,11643,13056,11423,10876,11539,10711],\"y0\":\" \",\"yaxis\":\"y\",\"type\":\"box\"},{\"alignmentgroup\":\"True\",\"hovertemplate\":\"Month=%{x}<br>Violations_Count=%{y}<extra></extra>\",\"legendgroup\":\"6\",\"marker\":{\"color\":\"#19d3f3\"},\"name\":\"6\",\"notched\":false,\"offsetgroup\":\"6\",\"orientation\":\"v\",\"showlegend\":true,\"x\":[6,6,6,6,6,6,6,6,6,6,6,6,6,6,6,6,6,6,6,6,6,6,6,6,6,6,6,6,6,6],\"x0\":\" \",\"xaxis\":\"x\",\"y\":[8452,11073,11662,10500,10731,11752,10086,12071,11683,13802,10849,10253,15085,10638,14153,14358,7357,7007,13663,9562,9302,9816,10199,10286,10183,10637,10101,10080,9109,10574],\"y0\":\" \",\"yaxis\":\"y\",\"type\":\"box\"},{\"alignmentgroup\":\"True\",\"hovertemplate\":\"Month=%{x}<br>Violations_Count=%{y}<extra></extra>\",\"legendgroup\":\"7\",\"marker\":{\"color\":\"#FF6692\"},\"name\":\"7\",\"notched\":false,\"offsetgroup\":\"7\",\"orientation\":\"v\",\"showlegend\":true,\"x\":[7,7,7,7,7,7,7,7,7,7,7,7,7,7,7,7,7,7,7,7,7,7,7,7,7,7,7,7,7,7,7],\"x0\":\" \",\"xaxis\":\"x\",\"y\":[9472,10572,10208,10737,9076,9737,9169,10815,9123,10856,11660,11146,9812,10964,10770,8404,9872,10130,10418,10036,9643,11634,8985,9064,9948,8809,9142,10116,10082,8877,8969],\"y0\":\" \",\"yaxis\":\"y\",\"type\":\"box\"},{\"alignmentgroup\":\"True\",\"hovertemplate\":\"Month=%{x}<br>Violations_Count=%{y}<extra></extra>\",\"legendgroup\":\"8\",\"marker\":{\"color\":\"#B6E880\"},\"name\":\"8\",\"notched\":false,\"offsetgroup\":\"8\",\"orientation\":\"v\",\"showlegend\":true,\"x\":[8,8,8,8,8,8,8,8,8,8,8,8,8,8,8,8,8,8,8,8,8,8,8,8,8,8,8,8,8,8,8],\"x0\":\" \",\"xaxis\":\"x\",\"y\":[9521,9795,9525,9656,10548,8047,8000,10647,8930,10525,10429,12014,8195,8069,11584,11570,10661,11117,9491,8806,9351,12918,10597,11348,11578,12334,9884,10883,10346,10334,11420],\"y0\":\" \",\"yaxis\":\"y\",\"type\":\"box\"},{\"alignmentgroup\":\"True\",\"hovertemplate\":\"Month=%{x}<br>Violations_Count=%{y}<extra></extra>\",\"legendgroup\":\"9\",\"marker\":{\"color\":\"#FF97FF\"},\"name\":\"9\",\"notched\":false,\"offsetgroup\":\"9\",\"orientation\":\"v\",\"showlegend\":true,\"x\":[9,9,9,9,9,9,9,9,9,9,9,9,9,9,9,9,9,9,9,9,9,9,9,9,9,9,9,9,9,9],\"x0\":\" \",\"xaxis\":\"x\",\"y\":[10562,10531,9730,10891,13580,10106,10884,10486,12517,9645,10381,10809,10183,8544,11114,11737,10091,10081,11190,12571,12108,10784,12943,10501,9522,11612,9074,10532,11880,13979],\"y0\":\" \",\"yaxis\":\"y\",\"type\":\"box\"},{\"alignmentgroup\":\"True\",\"hovertemplate\":\"Month=%{x}<br>Violations_Count=%{y}<extra></extra>\",\"legendgroup\":\"10\",\"marker\":{\"color\":\"#FECB52\"},\"name\":\"10\",\"notched\":false,\"offsetgroup\":\"10\",\"orientation\":\"v\",\"showlegend\":true,\"x\":[10,10,10,10,10,10,10,10,10,10,10,10,10,10,10,10,10,10,10,10,10,10,10,10,10,10,10,10,10,10,10],\"x0\":\" \",\"xaxis\":\"x\",\"y\":[14241,15781,10458,9766,10257,9532,11802,10645,9507,9646,11046,11134,10946,11550,9801,10653,12259,10363,11629,10526,11617,9884,8445,11659,9902,10925,10096,19007,18238,14719,7005],\"y0\":\" \",\"yaxis\":\"y\",\"type\":\"box\"},{\"alignmentgroup\":\"True\",\"hovertemplate\":\"Month=%{x}<br>Violations_Count=%{y}<extra></extra>\",\"legendgroup\":\"11\",\"marker\":{\"color\":\"#636efa\"},\"name\":\"11\",\"notched\":false,\"offsetgroup\":\"11\",\"orientation\":\"v\",\"showlegend\":true,\"x\":[11,11,11,11,11,11,11,11,11,11,11,11,11,11,11,11,11,11,11,11,11,11,11,11,11,11,11,11,11,11],\"x0\":\" \",\"xaxis\":\"x\",\"y\":[5853,9888,6831,7737,6605,9804,10581,9188,10851,9397,13189,14878,12679,12027,16559,10511,9556,11007,7979,7886,5382,7665,5472,4033,9001,7948,7967,8423,8579,8549],\"y0\":\" \",\"yaxis\":\"y\",\"type\":\"box\"},{\"alignmentgroup\":\"True\",\"hovertemplate\":\"Month=%{x}<br>Violations_Count=%{y}<extra></extra>\",\"legendgroup\":\"12\",\"marker\":{\"color\":\"#EF553B\"},\"name\":\"12\",\"notched\":false,\"offsetgroup\":\"12\",\"orientation\":\"v\",\"showlegend\":true,\"x\":[12,12,12,12,12,12,12,12,12,12,12,12,12,12,12,12,12,12,12,12,12,12,12,12,12,12,12,12,12,12,12],\"x0\":\" \",\"xaxis\":\"x\",\"y\":[9001,7815,8858,8973,9824,10717,10960,11293,10910,9656,10233,11251,8561,11701,11957,12950,15465,12248,10361,12476,12679,11912,16523,13654,11021,15214,12077,11332,12226,15801,13216],\"y0\":\" \",\"yaxis\":\"y\",\"type\":\"box\"}],                        {\"template\":{\"data\":{\"histogram2dcontour\":[{\"type\":\"histogram2dcontour\",\"colorbar\":{\"outlinewidth\":0,\"ticks\":\"\"},\"colorscale\":[[0.0,\"#0d0887\"],[0.1111111111111111,\"#46039f\"],[0.2222222222222222,\"#7201a8\"],[0.3333333333333333,\"#9c179e\"],[0.4444444444444444,\"#bd3786\"],[0.5555555555555556,\"#d8576b\"],[0.6666666666666666,\"#ed7953\"],[0.7777777777777778,\"#fb9f3a\"],[0.8888888888888888,\"#fdca26\"],[1.0,\"#f0f921\"]]}],\"choropleth\":[{\"type\":\"choropleth\",\"colorbar\":{\"outlinewidth\":0,\"ticks\":\"\"}}],\"histogram2d\":[{\"type\":\"histogram2d\",\"colorbar\":{\"outlinewidth\":0,\"ticks\":\"\"},\"colorscale\":[[0.0,\"#0d0887\"],[0.1111111111111111,\"#46039f\"],[0.2222222222222222,\"#7201a8\"],[0.3333333333333333,\"#9c179e\"],[0.4444444444444444,\"#bd3786\"],[0.5555555555555556,\"#d8576b\"],[0.6666666666666666,\"#ed7953\"],[0.7777777777777778,\"#fb9f3a\"],[0.8888888888888888,\"#fdca26\"],[1.0,\"#f0f921\"]]}],\"heatmap\":[{\"type\":\"heatmap\",\"colorbar\":{\"outlinewidth\":0,\"ticks\":\"\"},\"colorscale\":[[0.0,\"#0d0887\"],[0.1111111111111111,\"#46039f\"],[0.2222222222222222,\"#7201a8\"],[0.3333333333333333,\"#9c179e\"],[0.4444444444444444,\"#bd3786\"],[0.5555555555555556,\"#d8576b\"],[0.6666666666666666,\"#ed7953\"],[0.7777777777777778,\"#fb9f3a\"],[0.8888888888888888,\"#fdca26\"],[1.0,\"#f0f921\"]]}],\"heatmapgl\":[{\"type\":\"heatmapgl\",\"colorbar\":{\"outlinewidth\":0,\"ticks\":\"\"},\"colorscale\":[[0.0,\"#0d0887\"],[0.1111111111111111,\"#46039f\"],[0.2222222222222222,\"#7201a8\"],[0.3333333333333333,\"#9c179e\"],[0.4444444444444444,\"#bd3786\"],[0.5555555555555556,\"#d8576b\"],[0.6666666666666666,\"#ed7953\"],[0.7777777777777778,\"#fb9f3a\"],[0.8888888888888888,\"#fdca26\"],[1.0,\"#f0f921\"]]}],\"contourcarpet\":[{\"type\":\"contourcarpet\",\"colorbar\":{\"outlinewidth\":0,\"ticks\":\"\"}}],\"contour\":[{\"type\":\"contour\",\"colorbar\":{\"outlinewidth\":0,\"ticks\":\"\"},\"colorscale\":[[0.0,\"#0d0887\"],[0.1111111111111111,\"#46039f\"],[0.2222222222222222,\"#7201a8\"],[0.3333333333333333,\"#9c179e\"],[0.4444444444444444,\"#bd3786\"],[0.5555555555555556,\"#d8576b\"],[0.6666666666666666,\"#ed7953\"],[0.7777777777777778,\"#fb9f3a\"],[0.8888888888888888,\"#fdca26\"],[1.0,\"#f0f921\"]]}],\"surface\":[{\"type\":\"surface\",\"colorbar\":{\"outlinewidth\":0,\"ticks\":\"\"},\"colorscale\":[[0.0,\"#0d0887\"],[0.1111111111111111,\"#46039f\"],[0.2222222222222222,\"#7201a8\"],[0.3333333333333333,\"#9c179e\"],[0.4444444444444444,\"#bd3786\"],[0.5555555555555556,\"#d8576b\"],[0.6666666666666666,\"#ed7953\"],[0.7777777777777778,\"#fb9f3a\"],[0.8888888888888888,\"#fdca26\"],[1.0,\"#f0f921\"]]}],\"mesh3d\":[{\"type\":\"mesh3d\",\"colorbar\":{\"outlinewidth\":0,\"ticks\":\"\"}}],\"scatter\":[{\"fillpattern\":{\"fillmode\":\"overlay\",\"size\":10,\"solidity\":0.2},\"type\":\"scatter\"}],\"parcoords\":[{\"type\":\"parcoords\",\"line\":{\"colorbar\":{\"outlinewidth\":0,\"ticks\":\"\"}}}],\"scatterpolargl\":[{\"type\":\"scatterpolargl\",\"marker\":{\"colorbar\":{\"outlinewidth\":0,\"ticks\":\"\"}}}],\"bar\":[{\"error_x\":{\"color\":\"#2a3f5f\"},\"error_y\":{\"color\":\"#2a3f5f\"},\"marker\":{\"line\":{\"color\":\"#E5ECF6\",\"width\":0.5},\"pattern\":{\"fillmode\":\"overlay\",\"size\":10,\"solidity\":0.2}},\"type\":\"bar\"}],\"scattergeo\":[{\"type\":\"scattergeo\",\"marker\":{\"colorbar\":{\"outlinewidth\":0,\"ticks\":\"\"}}}],\"scatterpolar\":[{\"type\":\"scatterpolar\",\"marker\":{\"colorbar\":{\"outlinewidth\":0,\"ticks\":\"\"}}}],\"histogram\":[{\"marker\":{\"pattern\":{\"fillmode\":\"overlay\",\"size\":10,\"solidity\":0.2}},\"type\":\"histogram\"}],\"scattergl\":[{\"type\":\"scattergl\",\"marker\":{\"colorbar\":{\"outlinewidth\":0,\"ticks\":\"\"}}}],\"scatter3d\":[{\"type\":\"scatter3d\",\"line\":{\"colorbar\":{\"outlinewidth\":0,\"ticks\":\"\"}},\"marker\":{\"colorbar\":{\"outlinewidth\":0,\"ticks\":\"\"}}}],\"scattermapbox\":[{\"type\":\"scattermapbox\",\"marker\":{\"colorbar\":{\"outlinewidth\":0,\"ticks\":\"\"}}}],\"scatterternary\":[{\"type\":\"scatterternary\",\"marker\":{\"colorbar\":{\"outlinewidth\":0,\"ticks\":\"\"}}}],\"scattercarpet\":[{\"type\":\"scattercarpet\",\"marker\":{\"colorbar\":{\"outlinewidth\":0,\"ticks\":\"\"}}}],\"carpet\":[{\"aaxis\":{\"endlinecolor\":\"#2a3f5f\",\"gridcolor\":\"white\",\"linecolor\":\"white\",\"minorgridcolor\":\"white\",\"startlinecolor\":\"#2a3f5f\"},\"baxis\":{\"endlinecolor\":\"#2a3f5f\",\"gridcolor\":\"white\",\"linecolor\":\"white\",\"minorgridcolor\":\"white\",\"startlinecolor\":\"#2a3f5f\"},\"type\":\"carpet\"}],\"table\":[{\"cells\":{\"fill\":{\"color\":\"#EBF0F8\"},\"line\":{\"color\":\"white\"}},\"header\":{\"fill\":{\"color\":\"#C8D4E3\"},\"line\":{\"color\":\"white\"}},\"type\":\"table\"}],\"barpolar\":[{\"marker\":{\"line\":{\"color\":\"#E5ECF6\",\"width\":0.5},\"pattern\":{\"fillmode\":\"overlay\",\"size\":10,\"solidity\":0.2}},\"type\":\"barpolar\"}],\"pie\":[{\"automargin\":true,\"type\":\"pie\"}]},\"layout\":{\"autotypenumbers\":\"strict\",\"colorway\":[\"#636efa\",\"#EF553B\",\"#00cc96\",\"#ab63fa\",\"#FFA15A\",\"#19d3f3\",\"#FF6692\",\"#B6E880\",\"#FF97FF\",\"#FECB52\"],\"font\":{\"color\":\"#2a3f5f\"},\"hovermode\":\"closest\",\"hoverlabel\":{\"align\":\"left\"},\"paper_bgcolor\":\"white\",\"plot_bgcolor\":\"#E5ECF6\",\"polar\":{\"bgcolor\":\"#E5ECF6\",\"angularaxis\":{\"gridcolor\":\"white\",\"linecolor\":\"white\",\"ticks\":\"\"},\"radialaxis\":{\"gridcolor\":\"white\",\"linecolor\":\"white\",\"ticks\":\"\"}},\"ternary\":{\"bgcolor\":\"#E5ECF6\",\"aaxis\":{\"gridcolor\":\"white\",\"linecolor\":\"white\",\"ticks\":\"\"},\"baxis\":{\"gridcolor\":\"white\",\"linecolor\":\"white\",\"ticks\":\"\"},\"caxis\":{\"gridcolor\":\"white\",\"linecolor\":\"white\",\"ticks\":\"\"}},\"coloraxis\":{\"colorbar\":{\"outlinewidth\":0,\"ticks\":\"\"}},\"colorscale\":{\"sequential\":[[0.0,\"#0d0887\"],[0.1111111111111111,\"#46039f\"],[0.2222222222222222,\"#7201a8\"],[0.3333333333333333,\"#9c179e\"],[0.4444444444444444,\"#bd3786\"],[0.5555555555555556,\"#d8576b\"],[0.6666666666666666,\"#ed7953\"],[0.7777777777777778,\"#fb9f3a\"],[0.8888888888888888,\"#fdca26\"],[1.0,\"#f0f921\"]],\"sequentialminus\":[[0.0,\"#0d0887\"],[0.1111111111111111,\"#46039f\"],[0.2222222222222222,\"#7201a8\"],[0.3333333333333333,\"#9c179e\"],[0.4444444444444444,\"#bd3786\"],[0.5555555555555556,\"#d8576b\"],[0.6666666666666666,\"#ed7953\"],[0.7777777777777778,\"#fb9f3a\"],[0.8888888888888888,\"#fdca26\"],[1.0,\"#f0f921\"]],\"diverging\":[[0,\"#8e0152\"],[0.1,\"#c51b7d\"],[0.2,\"#de77ae\"],[0.3,\"#f1b6da\"],[0.4,\"#fde0ef\"],[0.5,\"#f7f7f7\"],[0.6,\"#e6f5d0\"],[0.7,\"#b8e186\"],[0.8,\"#7fbc41\"],[0.9,\"#4d9221\"],[1,\"#276419\"]]},\"xaxis\":{\"gridcolor\":\"white\",\"linecolor\":\"white\",\"ticks\":\"\",\"title\":{\"standoff\":15},\"zerolinecolor\":\"white\",\"automargin\":true,\"zerolinewidth\":2},\"yaxis\":{\"gridcolor\":\"white\",\"linecolor\":\"white\",\"ticks\":\"\",\"title\":{\"standoff\":15},\"zerolinecolor\":\"white\",\"automargin\":true,\"zerolinewidth\":2},\"scene\":{\"xaxis\":{\"backgroundcolor\":\"#E5ECF6\",\"gridcolor\":\"white\",\"linecolor\":\"white\",\"showbackground\":true,\"ticks\":\"\",\"zerolinecolor\":\"white\",\"gridwidth\":2},\"yaxis\":{\"backgroundcolor\":\"#E5ECF6\",\"gridcolor\":\"white\",\"linecolor\":\"white\",\"showbackground\":true,\"ticks\":\"\",\"zerolinecolor\":\"white\",\"gridwidth\":2},\"zaxis\":{\"backgroundcolor\":\"#E5ECF6\",\"gridcolor\":\"white\",\"linecolor\":\"white\",\"showbackground\":true,\"ticks\":\"\",\"zerolinecolor\":\"white\",\"gridwidth\":2}},\"shapedefaults\":{\"line\":{\"color\":\"#2a3f5f\"}},\"annotationdefaults\":{\"arrowcolor\":\"#2a3f5f\",\"arrowhead\":0,\"arrowwidth\":1},\"geo\":{\"bgcolor\":\"white\",\"landcolor\":\"#E5ECF6\",\"subunitcolor\":\"white\",\"showland\":true,\"showlakes\":true,\"lakecolor\":\"white\"},\"title\":{\"x\":0.05},\"mapbox\":{\"style\":\"light\"}}},\"xaxis\":{\"anchor\":\"y\",\"domain\":[0.0,1.0],\"title\":{\"text\":\"Month\"},\"categoryorder\":\"array\",\"categoryarray\":[1,2,3,4,5,6,7,8,9,10,11,12]},\"yaxis\":{\"anchor\":\"x\",\"domain\":[0.0,1.0],\"title\":{\"text\":\"Violations_Count\"}},\"legend\":{\"title\":{\"text\":\"Month\"},\"tracegroupgap\":0},\"title\":{\"text\":\"Tickets per Month Distribution\"},\"boxmode\":\"overlay\"},                        {\"responsive\": true}                    ).then(function(){\n",
              "                            \n",
              "var gd = document.getElementById('6ec49783-7d73-4a2b-83e9-7f60d2cc8d91');\n",
              "var x = new MutationObserver(function (mutations, observer) {{\n",
              "        var display = window.getComputedStyle(gd).display;\n",
              "        if (!display || display === 'none') {{\n",
              "            console.log([gd, 'removed!']);\n",
              "            Plotly.purge(gd);\n",
              "            observer.disconnect();\n",
              "        }}\n",
              "}});\n",
              "\n",
              "// Listen for the removal of the full notebook cells\n",
              "var notebookContainer = gd.closest('#notebook-container');\n",
              "if (notebookContainer) {{\n",
              "    x.observe(notebookContainer, {childList: true});\n",
              "}}\n",
              "\n",
              "// Listen for the clearing of the current output cell\n",
              "var outputEl = gd.closest('.output');\n",
              "if (outputEl) {{\n",
              "    x.observe(outputEl, {childList: true});\n",
              "}}\n",
              "\n",
              "                        })                };                            </script>        </div>\n",
              "</body>\n",
              "</html>"
            ]
          },
          "metadata": {}
        }
      ]
    },
    {
      "cell_type": "markdown",
      "source": [
        "Month with more outliers: October and June\n",
        "\n",
        "*   List item\n",
        "*   List item\n",
        "\n",
        "\n",
        "Month with the best median: November"
      ],
      "metadata": {
        "id": "yXwKKVp20DL1"
      }
    },
    {
      "cell_type": "code",
      "source": [
        "# Grid System\n",
        "\n",
        "# Grid\n",
        "Grid = make_subplots( rows=1, cols= 2 )\n",
        "\n",
        "# Graph 1\n",
        "Grid.add_trace(\n",
        "    go.Scatter(\n",
        "        x=df_violations_per_day['Date'],\n",
        "        y=df_violations_per_day['Violations_Count'],\n",
        "        mode='lines',\n",
        "        name='Violations Count'\n",
        "    ),\n",
        "    row=1, col=1\n",
        ")\n",
        "\n",
        "# Graph 2\n",
        "Grid.add_trace(\n",
        "    go.Scatter(\n",
        "        x=df_violations_per_day['Date'],\n",
        "        y=df_violations_per_day['moving_avarage'],\n",
        "        mode='lines',\n",
        "        name='Moving Avarage'\n",
        "    ),\n",
        "    row=1, col=2\n",
        ")\n",
        "\n",
        "# Layout Adjust\n",
        "Grid.update_layout(\n",
        "\n",
        "    # title\n",
        "    title='Traffic Violation Analyses per Day - Grid System',\n",
        "\n",
        "    # legend\n",
        "    showlegend=True,\n",
        "\n",
        "    legend=dict(\n",
        "        orientation='h',\n",
        "        yanchor='bottom',\n",
        "        y=1.02,\n",
        "        xanchor='right',\n",
        "        x=1\n",
        "    )\n",
        ")\n",
        "\n",
        "Grid"
      ],
      "metadata": {
        "colab": {
          "base_uri": "https://localhost:8080/",
          "height": 542
        },
        "id": "aQ9kfI7ixIGg",
        "outputId": "d7b57ddb-9416-46f3-ebcd-ae5315f0e880"
      },
      "execution_count": 448,
      "outputs": [
        {
          "output_type": "display_data",
          "data": {
            "text/html": [
              "<html>\n",
              "<head><meta charset=\"utf-8\" /></head>\n",
              "<body>\n",
              "    <div>            <script src=\"https://cdnjs.cloudflare.com/ajax/libs/mathjax/2.7.5/MathJax.js?config=TeX-AMS-MML_SVG\"></script><script type=\"text/javascript\">if (window.MathJax && window.MathJax.Hub && window.MathJax.Hub.Config) {window.MathJax.Hub.Config({SVG: {font: \"STIX-Web\"}});}</script>                <script type=\"text/javascript\">window.PlotlyConfig = {MathJaxConfig: 'local'};</script>\n",
              "        <script src=\"https://cdn.plot.ly/plotly-2.18.2.min.js\"></script>                <div id=\"437cb8e3-4f8b-4097-a44a-f66c56b8b12b\" class=\"plotly-graph-div\" style=\"height:525px; width:100%;\"></div>            <script type=\"text/javascript\">                                    window.PLOTLYENV=window.PLOTLYENV || {};                                    if (document.getElementById(\"437cb8e3-4f8b-4097-a44a-f66c56b8b12b\")) {                    Plotly.newPlot(                        \"437cb8e3-4f8b-4097-a44a-f66c56b8b12b\",                        [{\"mode\":\"lines\",\"name\":\"Violations Count\",\"x\":[\"2022-01-01\",\"2022-01-02\",\"2022-01-03\",\"2022-01-04\",\"2022-01-05\",\"2022-01-06\",\"2022-01-07\",\"2022-01-08\",\"2022-01-09\",\"2022-01-10\",\"2022-01-11\",\"2022-01-12\",\"2022-01-13\",\"2022-01-14\",\"2022-01-15\",\"2022-01-16\",\"2022-01-17\",\"2022-01-18\",\"2022-01-19\",\"2022-01-20\",\"2022-01-21\",\"2022-01-22\",\"2022-01-23\",\"2022-01-24\",\"2022-01-25\",\"2022-01-26\",\"2022-01-27\",\"2022-01-28\",\"2022-01-29\",\"2022-01-30\",\"2022-01-31\",\"2022-02-01\",\"2022-02-02\",\"2022-02-03\",\"2022-02-04\",\"2022-02-05\",\"2022-02-06\",\"2022-02-07\",\"2022-02-08\",\"2022-02-09\",\"2022-02-10\",\"2022-02-11\",\"2022-02-12\",\"2022-02-13\",\"2022-02-14\",\"2022-02-15\",\"2022-02-16\",\"2022-02-17\",\"2022-02-18\",\"2022-02-19\",\"2022-02-20\",\"2022-02-21\",\"2022-02-22\",\"2022-02-23\",\"2022-02-24\",\"2022-02-25\",\"2022-02-26\",\"2022-02-27\",\"2022-02-28\",\"2022-03-01\",\"2022-03-02\",\"2022-03-03\",\"2022-03-04\",\"2022-03-05\",\"2022-03-06\",\"2022-03-07\",\"2022-03-08\",\"2022-03-09\",\"2022-03-10\",\"2022-03-11\",\"2022-03-12\",\"2022-03-13\",\"2022-03-14\",\"2022-03-15\",\"2022-03-16\",\"2022-03-17\",\"2022-03-18\",\"2022-03-19\",\"2022-03-20\",\"2022-03-21\",\"2022-03-22\",\"2022-03-23\",\"2022-03-24\",\"2022-03-25\",\"2022-03-26\",\"2022-03-27\",\"2022-03-28\",\"2022-03-29\",\"2022-03-30\",\"2022-03-31\",\"2022-04-01\",\"2022-04-02\",\"2022-04-03\",\"2022-04-04\",\"2022-04-05\",\"2022-04-06\",\"2022-04-07\",\"2022-04-08\",\"2022-04-09\",\"2022-04-10\",\"2022-04-11\",\"2022-04-12\",\"2022-04-13\",\"2022-04-14\",\"2022-04-15\",\"2022-04-16\",\"2022-04-17\",\"2022-04-18\",\"2022-04-19\",\"2022-04-20\",\"2022-04-21\",\"2022-04-22\",\"2022-04-23\",\"2022-04-24\",\"2022-04-25\",\"2022-04-26\",\"2022-04-27\",\"2022-04-28\",\"2022-04-29\",\"2022-04-30\",\"2022-05-01\",\"2022-05-02\",\"2022-05-03\",\"2022-05-04\",\"2022-05-05\",\"2022-05-06\",\"2022-05-07\",\"2022-05-08\",\"2022-05-09\",\"2022-05-10\",\"2022-05-11\",\"2022-05-12\",\"2022-05-13\",\"2022-05-14\",\"2022-05-15\",\"2022-05-16\",\"2022-05-17\",\"2022-05-18\",\"2022-05-19\",\"2022-05-20\",\"2022-05-21\",\"2022-05-22\",\"2022-05-23\",\"2022-05-24\",\"2022-05-25\",\"2022-05-26\",\"2022-05-27\",\"2022-05-28\",\"2022-05-29\",\"2022-05-30\",\"2022-05-31\",\"2022-06-01\",\"2022-06-02\",\"2022-06-03\",\"2022-06-04\",\"2022-06-05\",\"2022-06-06\",\"2022-06-07\",\"2022-06-08\",\"2022-06-09\",\"2022-06-10\",\"2022-06-11\",\"2022-06-12\",\"2022-06-13\",\"2022-06-14\",\"2022-06-15\",\"2022-06-16\",\"2022-06-17\",\"2022-06-18\",\"2022-06-19\",\"2022-06-20\",\"2022-06-21\",\"2022-06-22\",\"2022-06-23\",\"2022-06-24\",\"2022-06-25\",\"2022-06-26\",\"2022-06-27\",\"2022-06-28\",\"2022-06-29\",\"2022-06-30\",\"2022-07-01\",\"2022-07-02\",\"2022-07-03\",\"2022-07-04\",\"2022-07-05\",\"2022-07-06\",\"2022-07-07\",\"2022-07-08\",\"2022-07-09\",\"2022-07-10\",\"2022-07-11\",\"2022-07-12\",\"2022-07-13\",\"2022-07-14\",\"2022-07-15\",\"2022-07-16\",\"2022-07-17\",\"2022-07-18\",\"2022-07-19\",\"2022-07-20\",\"2022-07-21\",\"2022-07-22\",\"2022-07-23\",\"2022-07-24\",\"2022-07-25\",\"2022-07-26\",\"2022-07-27\",\"2022-07-28\",\"2022-07-29\",\"2022-07-30\",\"2022-07-31\",\"2022-08-01\",\"2022-08-02\",\"2022-08-03\",\"2022-08-04\",\"2022-08-05\",\"2022-08-06\",\"2022-08-07\",\"2022-08-08\",\"2022-08-09\",\"2022-08-10\",\"2022-08-11\",\"2022-08-12\",\"2022-08-13\",\"2022-08-14\",\"2022-08-15\",\"2022-08-16\",\"2022-08-17\",\"2022-08-18\",\"2022-08-19\",\"2022-08-20\",\"2022-08-21\",\"2022-08-22\",\"2022-08-23\",\"2022-08-24\",\"2022-08-25\",\"2022-08-26\",\"2022-08-27\",\"2022-08-28\",\"2022-08-29\",\"2022-08-30\",\"2022-08-31\",\"2022-09-01\",\"2022-09-02\",\"2022-09-03\",\"2022-09-04\",\"2022-09-05\",\"2022-09-06\",\"2022-09-07\",\"2022-09-08\",\"2022-09-09\",\"2022-09-10\",\"2022-09-11\",\"2022-09-12\",\"2022-09-13\",\"2022-09-14\",\"2022-09-15\",\"2022-09-16\",\"2022-09-17\",\"2022-09-18\",\"2022-09-19\",\"2022-09-20\",\"2022-09-21\",\"2022-09-22\",\"2022-09-23\",\"2022-09-24\",\"2022-09-25\",\"2022-09-26\",\"2022-09-27\",\"2022-09-28\",\"2022-09-29\",\"2022-09-30\",\"2022-10-01\",\"2022-10-02\",\"2022-10-03\",\"2022-10-04\",\"2022-10-05\",\"2022-10-06\",\"2022-10-07\",\"2022-10-08\",\"2022-10-09\",\"2022-10-10\",\"2022-10-11\",\"2022-10-12\",\"2022-10-13\",\"2022-10-14\",\"2022-10-15\",\"2022-10-16\",\"2022-10-17\",\"2022-10-18\",\"2022-10-19\",\"2022-10-20\",\"2022-10-21\",\"2022-10-22\",\"2022-10-23\",\"2022-10-24\",\"2022-10-25\",\"2022-10-26\",\"2022-10-27\",\"2022-10-28\",\"2022-10-29\",\"2022-10-30\",\"2022-10-31\",\"2022-11-01\",\"2022-11-02\",\"2022-11-03\",\"2022-11-04\",\"2022-11-05\",\"2022-11-06\",\"2022-11-07\",\"2022-11-08\",\"2022-11-09\",\"2022-11-10\",\"2022-11-11\",\"2022-11-12\",\"2022-11-13\",\"2022-11-14\",\"2022-11-15\",\"2022-11-16\",\"2022-11-17\",\"2022-11-18\",\"2022-11-19\",\"2022-11-20\",\"2022-11-21\",\"2022-11-22\",\"2022-11-23\",\"2022-11-24\",\"2022-11-25\",\"2022-11-26\",\"2022-11-27\",\"2022-11-28\",\"2022-11-29\",\"2022-11-30\",\"2022-12-01\",\"2022-12-02\",\"2022-12-03\",\"2022-12-04\",\"2022-12-05\",\"2022-12-06\",\"2022-12-07\",\"2022-12-08\",\"2022-12-09\",\"2022-12-10\",\"2022-12-11\",\"2022-12-12\",\"2022-12-13\",\"2022-12-14\",\"2022-12-15\",\"2022-12-16\",\"2022-12-17\",\"2022-12-18\",\"2022-12-19\",\"2022-12-20\",\"2022-12-21\",\"2022-12-22\",\"2022-12-23\",\"2022-12-24\",\"2022-12-25\",\"2022-12-26\",\"2022-12-27\",\"2022-12-28\",\"2022-12-29\",\"2022-12-30\",\"2022-12-31\"],\"y\":[8533,13146,12012,11248,11159,10167,11150,8321,8788,8520,8008,11553,9564,10799,8761,9670,10299,11576,11487,11246,14586,10223,9998,10691,10912,11103,12401,13628,11067,14135,12187,11218,11569,13506,12327,11417,9994,11294,14704,13394,12463,14952,10230,14511,13735,13051,13149,12544,13820,10624,12048,11664,12366,15191,12739,21477,21715,14993,15133,18936,18655,12157,12275,9503,14031,11579,11271,10105,11899,11003,10979,11574,12563,12339,13798,12569,13343,11273,10645,12221,13081,14022,13757,13008,11748,11576,14342,12214,12984,13211,11691,10583,12795,12619,13237,14175,12679,13456,11193,11253,11455,13132,12741,18161,17162,12422,16867,11647,10864,12624,19261,14933,14090,17675,14224,13316,14058,12619,15075,12525,12489,14937,14668,14144,16248,16765,9140,8143,12599,11647,10678,15285,9483,8253,6774,10567,10468,8511,8635,9827,7547,6569,13820,12184,13045,11643,13056,11423,10876,11539,10711,8452,11073,11662,10500,10731,11752,10086,12071,11683,13802,10849,10253,15085,10638,14153,14358,7357,7007,13663,9562,9302,9816,10199,10286,10183,10637,10101,10080,9109,10574,9472,10572,10208,10737,9076,9737,9169,10815,9123,10856,11660,11146,9812,10964,10770,8404,9872,10130,10418,10036,9643,11634,8985,9064,9948,8809,9142,10116,10082,8877,8969,9521,9795,9525,9656,10548,8047,8000,10647,8930,10525,10429,12014,8195,8069,11584,11570,10661,11117,9491,8806,9351,12918,10597,11348,11578,12334,9884,10883,10346,10334,11420,10562,10531,9730,10891,13580,10106,10884,10486,12517,9645,10381,10809,10183,8544,11114,11737,10091,10081,11190,12571,12108,10784,12943,10501,9522,11612,9074,10532,11880,13979,14241,15781,10458,9766,10257,9532,11802,10645,9507,9646,11046,11134,10946,11550,9801,10653,12259,10363,11629,10526,11617,9884,8445,11659,9902,10925,10096,19007,18238,14719,7005,5853,9888,6831,7737,6605,9804,10581,9188,10851,9397,13189,14878,12679,12027,16559,10511,9556,11007,7979,7886,5382,7665,5472,4033,9001,7948,7967,8423,8579,8549,9001,7815,8858,8973,9824,10717,10960,11293,10910,9656,10233,11251,8561,11701,11957,12950,15465,12248,10361,12476,12679,11912,16523,13654,11021,15214,12077,11332,12226,15801,13216],\"type\":\"scatter\",\"xaxis\":\"x\",\"yaxis\":\"y\"},{\"mode\":\"lines\",\"name\":\"Moving Avarage\",\"x\":[\"2022-01-01\",\"2022-01-02\",\"2022-01-03\",\"2022-01-04\",\"2022-01-05\",\"2022-01-06\",\"2022-01-07\",\"2022-01-08\",\"2022-01-09\",\"2022-01-10\",\"2022-01-11\",\"2022-01-12\",\"2022-01-13\",\"2022-01-14\",\"2022-01-15\",\"2022-01-16\",\"2022-01-17\",\"2022-01-18\",\"2022-01-19\",\"2022-01-20\",\"2022-01-21\",\"2022-01-22\",\"2022-01-23\",\"2022-01-24\",\"2022-01-25\",\"2022-01-26\",\"2022-01-27\",\"2022-01-28\",\"2022-01-29\",\"2022-01-30\",\"2022-01-31\",\"2022-02-01\",\"2022-02-02\",\"2022-02-03\",\"2022-02-04\",\"2022-02-05\",\"2022-02-06\",\"2022-02-07\",\"2022-02-08\",\"2022-02-09\",\"2022-02-10\",\"2022-02-11\",\"2022-02-12\",\"2022-02-13\",\"2022-02-14\",\"2022-02-15\",\"2022-02-16\",\"2022-02-17\",\"2022-02-18\",\"2022-02-19\",\"2022-02-20\",\"2022-02-21\",\"2022-02-22\",\"2022-02-23\",\"2022-02-24\",\"2022-02-25\",\"2022-02-26\",\"2022-02-27\",\"2022-02-28\",\"2022-03-01\",\"2022-03-02\",\"2022-03-03\",\"2022-03-04\",\"2022-03-05\",\"2022-03-06\",\"2022-03-07\",\"2022-03-08\",\"2022-03-09\",\"2022-03-10\",\"2022-03-11\",\"2022-03-12\",\"2022-03-13\",\"2022-03-14\",\"2022-03-15\",\"2022-03-16\",\"2022-03-17\",\"2022-03-18\",\"2022-03-19\",\"2022-03-20\",\"2022-03-21\",\"2022-03-22\",\"2022-03-23\",\"2022-03-24\",\"2022-03-25\",\"2022-03-26\",\"2022-03-27\",\"2022-03-28\",\"2022-03-29\",\"2022-03-30\",\"2022-03-31\",\"2022-04-01\",\"2022-04-02\",\"2022-04-03\",\"2022-04-04\",\"2022-04-05\",\"2022-04-06\",\"2022-04-07\",\"2022-04-08\",\"2022-04-09\",\"2022-04-10\",\"2022-04-11\",\"2022-04-12\",\"2022-04-13\",\"2022-04-14\",\"2022-04-15\",\"2022-04-16\",\"2022-04-17\",\"2022-04-18\",\"2022-04-19\",\"2022-04-20\",\"2022-04-21\",\"2022-04-22\",\"2022-04-23\",\"2022-04-24\",\"2022-04-25\",\"2022-04-26\",\"2022-04-27\",\"2022-04-28\",\"2022-04-29\",\"2022-04-30\",\"2022-05-01\",\"2022-05-02\",\"2022-05-03\",\"2022-05-04\",\"2022-05-05\",\"2022-05-06\",\"2022-05-07\",\"2022-05-08\",\"2022-05-09\",\"2022-05-10\",\"2022-05-11\",\"2022-05-12\",\"2022-05-13\",\"2022-05-14\",\"2022-05-15\",\"2022-05-16\",\"2022-05-17\",\"2022-05-18\",\"2022-05-19\",\"2022-05-20\",\"2022-05-21\",\"2022-05-22\",\"2022-05-23\",\"2022-05-24\",\"2022-05-25\",\"2022-05-26\",\"2022-05-27\",\"2022-05-28\",\"2022-05-29\",\"2022-05-30\",\"2022-05-31\",\"2022-06-01\",\"2022-06-02\",\"2022-06-03\",\"2022-06-04\",\"2022-06-05\",\"2022-06-06\",\"2022-06-07\",\"2022-06-08\",\"2022-06-09\",\"2022-06-10\",\"2022-06-11\",\"2022-06-12\",\"2022-06-13\",\"2022-06-14\",\"2022-06-15\",\"2022-06-16\",\"2022-06-17\",\"2022-06-18\",\"2022-06-19\",\"2022-06-20\",\"2022-06-21\",\"2022-06-22\",\"2022-06-23\",\"2022-06-24\",\"2022-06-25\",\"2022-06-26\",\"2022-06-27\",\"2022-06-28\",\"2022-06-29\",\"2022-06-30\",\"2022-07-01\",\"2022-07-02\",\"2022-07-03\",\"2022-07-04\",\"2022-07-05\",\"2022-07-06\",\"2022-07-07\",\"2022-07-08\",\"2022-07-09\",\"2022-07-10\",\"2022-07-11\",\"2022-07-12\",\"2022-07-13\",\"2022-07-14\",\"2022-07-15\",\"2022-07-16\",\"2022-07-17\",\"2022-07-18\",\"2022-07-19\",\"2022-07-20\",\"2022-07-21\",\"2022-07-22\",\"2022-07-23\",\"2022-07-24\",\"2022-07-25\",\"2022-07-26\",\"2022-07-27\",\"2022-07-28\",\"2022-07-29\",\"2022-07-30\",\"2022-07-31\",\"2022-08-01\",\"2022-08-02\",\"2022-08-03\",\"2022-08-04\",\"2022-08-05\",\"2022-08-06\",\"2022-08-07\",\"2022-08-08\",\"2022-08-09\",\"2022-08-10\",\"2022-08-11\",\"2022-08-12\",\"2022-08-13\",\"2022-08-14\",\"2022-08-15\",\"2022-08-16\",\"2022-08-17\",\"2022-08-18\",\"2022-08-19\",\"2022-08-20\",\"2022-08-21\",\"2022-08-22\",\"2022-08-23\",\"2022-08-24\",\"2022-08-25\",\"2022-08-26\",\"2022-08-27\",\"2022-08-28\",\"2022-08-29\",\"2022-08-30\",\"2022-08-31\",\"2022-09-01\",\"2022-09-02\",\"2022-09-03\",\"2022-09-04\",\"2022-09-05\",\"2022-09-06\",\"2022-09-07\",\"2022-09-08\",\"2022-09-09\",\"2022-09-10\",\"2022-09-11\",\"2022-09-12\",\"2022-09-13\",\"2022-09-14\",\"2022-09-15\",\"2022-09-16\",\"2022-09-17\",\"2022-09-18\",\"2022-09-19\",\"2022-09-20\",\"2022-09-21\",\"2022-09-22\",\"2022-09-23\",\"2022-09-24\",\"2022-09-25\",\"2022-09-26\",\"2022-09-27\",\"2022-09-28\",\"2022-09-29\",\"2022-09-30\",\"2022-10-01\",\"2022-10-02\",\"2022-10-03\",\"2022-10-04\",\"2022-10-05\",\"2022-10-06\",\"2022-10-07\",\"2022-10-08\",\"2022-10-09\",\"2022-10-10\",\"2022-10-11\",\"2022-10-12\",\"2022-10-13\",\"2022-10-14\",\"2022-10-15\",\"2022-10-16\",\"2022-10-17\",\"2022-10-18\",\"2022-10-19\",\"2022-10-20\",\"2022-10-21\",\"2022-10-22\",\"2022-10-23\",\"2022-10-24\",\"2022-10-25\",\"2022-10-26\",\"2022-10-27\",\"2022-10-28\",\"2022-10-29\",\"2022-10-30\",\"2022-10-31\",\"2022-11-01\",\"2022-11-02\",\"2022-11-03\",\"2022-11-04\",\"2022-11-05\",\"2022-11-06\",\"2022-11-07\",\"2022-11-08\",\"2022-11-09\",\"2022-11-10\",\"2022-11-11\",\"2022-11-12\",\"2022-11-13\",\"2022-11-14\",\"2022-11-15\",\"2022-11-16\",\"2022-11-17\",\"2022-11-18\",\"2022-11-19\",\"2022-11-20\",\"2022-11-21\",\"2022-11-22\",\"2022-11-23\",\"2022-11-24\",\"2022-11-25\",\"2022-11-26\",\"2022-11-27\",\"2022-11-28\",\"2022-11-29\",\"2022-11-30\",\"2022-12-01\",\"2022-12-02\",\"2022-12-03\",\"2022-12-04\",\"2022-12-05\",\"2022-12-06\",\"2022-12-07\",\"2022-12-08\",\"2022-12-09\",\"2022-12-10\",\"2022-12-11\",\"2022-12-12\",\"2022-12-13\",\"2022-12-14\",\"2022-12-15\",\"2022-12-16\",\"2022-12-17\",\"2022-12-18\",\"2022-12-19\",\"2022-12-20\",\"2022-12-21\",\"2022-12-22\",\"2022-12-23\",\"2022-12-24\",\"2022-12-25\",\"2022-12-26\",\"2022-12-27\",\"2022-12-28\",\"2022-12-29\",\"2022-12-30\",\"2022-12-31\"],\"y\":[8533.0,10839.5,11230.333333333334,11234.75,11219.6,11044.166666666666,11059.285714285714,11029.0,10406.42857142857,9907.57142857143,9444.714285714286,9501.0,9414.857142857143,9364.714285714286,9427.57142857143,9553.57142857143,9807.714285714286,10317.42857142857,10308.0,10548.285714285714,11089.285714285714,11298.142857142857,11345.0,11401.0,11306.142857142857,11251.285714285714,11416.285714285714,11279.42857142857,11400.0,11991.0,12204.714285714286,12248.42857142857,12315.0,12472.857142857143,12287.0,12337.0,11745.42857142857,11617.857142857143,12115.857142857143,12376.57142857143,12227.57142857143,12602.57142857143,12433.0,13078.285714285714,13427.0,13190.857142857143,13155.857142857143,13167.42857142857,13005.714285714286,13062.0,12710.142857142857,12414.285714285714,12316.42857142857,12608.142857142857,12636.0,13729.857142857143,15314.285714285714,15735.0,16230.57142857143,17169.14285714286,17664.0,17580.85714285714,16266.285714285714,14521.714285714286,14384.285714285714,13876.57142857143,12781.57142857143,11560.142857142857,11523.285714285714,11341.57142857143,11552.42857142857,11201.42857142857,11342.0,11494.57142857143,12022.142857142857,12117.857142857143,12452.142857142857,12494.142857142857,12361.42857142857,12312.57142857143,12418.57142857143,12450.57142857143,12620.285714285714,12572.42857142857,12640.285714285714,12773.285714285714,13076.285714285714,12952.42857142857,12804.142857142857,12726.142857142857,12538.0,12371.57142857143,12545.714285714286,12299.57142857143,12445.714285714286,12615.857142857143,12539.857142857143,12792.0,12879.142857142857,12658.857142857143,12492.57142857143,12477.57142857143,12272.714285714286,13055.857142857143,13585.285714285714,13760.857142857143,14562.857142857143,14590.285714285714,14266.285714285714,14249.57142857143,14406.714285714286,14088.285714285714,14326.57142857143,14442.0,14810.142857142857,15160.42857142857,15365.285714285714,14416.42857142857,14436.714285714286,14213.142857142857,13472.285714285714,13574.142857142857,13767.285714285714,13779.57142857143,14298.0,14539.42857142857,14055.857142857143,13435.0,13101.0,12669.42857142857,12174.285714285714,12036.714285714286,10996.42857142857,10869.714285714286,10674.142857142857,10383.857142857143,10215.42857142857,9905.857142857143,8955.857142857143,9005.0,8904.142857142857,8874.857142857143,9339.57142857143,9584.714285714286,10232.42857142857,10662.142857142857,11123.42857142857,11677.142857142857,12292.42857142857,11966.57142857143,11756.142857142857,11100.0,11018.57142857143,10819.42857142857,10687.57142857143,10666.857142857143,10697.285714285714,10608.0,11125.0,11212.142857142857,11517.857142857143,11567.714285714286,11499.42857142857,11975.57142857143,12054.42857142857,12351.857142857143,12734.0,11813.285714285714,11264.42857142857,11751.57142857143,10962.57142857143,10771.714285714286,10152.142857142857,9558.0,9976.42857142857,10430.142857142857,9997.857142857143,10074.857142857143,10186.0,10085.0,10138.57142857143,10022.285714285714,10077.857142857143,10016.57142857143,10107.42857142857,9964.0,10053.714285714286,9853.0,10044.857142857143,9837.857142857143,9930.42857142857,10062.285714285714,10358.0,10368.714285714286,10625.142857142857,10618.714285714286,10516.0,10375.42857142857,10156.857142857143,10052.857142857143,10084.857142857143,9896.142857142857,10019.57142857143,10102.57142857143,9987.142857142857,9961.142857142857,9731.285714285714,9603.57142857143,9671.142857142857,9449.42857142857,9434.0,9420.42857142857,9359.42857142857,9500.285714285714,9555.0,9489.285714285714,9555.857142857143,9437.285714285714,9298.857142857143,9459.714285714286,9336.142857142857,9479.0,9589.42857142857,9798.857142857143,9820.0,9829.857142857143,9963.714285714286,10340.857142857143,10360.285714285714,10458.57142857143,10098.142857142857,10185.42857142857,10368.57142857143,10559.142857142857,10420.142857142857,10518.285714285714,10584.142857142857,10990.285714285714,11144.285714285714,11363.142857142857,10995.714285714286,10958.142857142857,10968.42857142857,10823.285714285714,10565.714285714286,10543.714285714286,10544.857142857143,11006.857142857143,10974.285714285714,10897.714285714286,10886.857142857143,11170.57142857143,11158.42857142857,11085.57142857143,10689.714285714286,10700.714285714286,10366.42857142857,10456.142857142857,10344.714285714286,10408.42857142857,10365.57142857143,10420.0,10761.142857142857,11270.285714285714,11223.142857142857,11395.42857142857,11454.0,11374.142857142857,11434.42857142857,10934.857142857143,10709.714285714286,10866.285714285714,11014.285714285714,11548.57142857143,12442.714285714286,12277.857142857143,12376.714285714286,12337.42857142857,12002.0,11691.0,11177.285714285714,10281.0,10165.0,10347.857142857143,10473.142857142857,10675.142857142857,10639.142857142857,10518.57142857143,10682.285714285714,11055.57142857143,10958.0,11028.714285714286,10968.714285714286,10978.285714285714,10990.142857142857,10674.714285714286,10589.0,10523.142857142857,10422.57142857143,10361.142857142857,11416.857142857143,12610.285714285714,13506.57142857143,12841.714285714286,12263.285714285714,12115.142857142857,11648.714285714286,10038.714285714286,8376.857142857143,7674.714285714285,8185.571428571428,8662.0,8799.57142857143,9166.142857142857,9945.0,11126.857142857143,11537.57142857143,11744.142857142857,12797.142857142857,12748.57142857143,12771.285714285714,12459.57142857143,11474.0,10789.285714285714,9840.0,8569.42857142857,7849.571428571428,7060.571428571428,6774.0,6769.571428571428,6781.142857142857,7215.571428571428,7346.142857142857,7785.714285714285,8495.42857142857,8326.0,8456.0,8599.714285714286,8799.857142857143,9105.285714285714,9449.714285714286,9777.142857142857,10219.285714285714,10333.285714285714,10513.285714285714,10717.142857142857,10409.142857142857,10515.0,10609.857142857143,10901.285714285714,11731.142857142857,12019.0,11891.857142857143,12451.142857142857,12590.857142857143,12584.42857142857,13094.857142857143,12836.142857142857,12660.857142857143,13354.142857142857,13297.142857142857,13104.714285714286,13149.57142857143,13046.42857142857,12983.857142857143],\"type\":\"scatter\",\"xaxis\":\"x2\",\"yaxis\":\"y2\"}],                        {\"template\":{\"data\":{\"histogram2dcontour\":[{\"type\":\"histogram2dcontour\",\"colorbar\":{\"outlinewidth\":0,\"ticks\":\"\"},\"colorscale\":[[0.0,\"#0d0887\"],[0.1111111111111111,\"#46039f\"],[0.2222222222222222,\"#7201a8\"],[0.3333333333333333,\"#9c179e\"],[0.4444444444444444,\"#bd3786\"],[0.5555555555555556,\"#d8576b\"],[0.6666666666666666,\"#ed7953\"],[0.7777777777777778,\"#fb9f3a\"],[0.8888888888888888,\"#fdca26\"],[1.0,\"#f0f921\"]]}],\"choropleth\":[{\"type\":\"choropleth\",\"colorbar\":{\"outlinewidth\":0,\"ticks\":\"\"}}],\"histogram2d\":[{\"type\":\"histogram2d\",\"colorbar\":{\"outlinewidth\":0,\"ticks\":\"\"},\"colorscale\":[[0.0,\"#0d0887\"],[0.1111111111111111,\"#46039f\"],[0.2222222222222222,\"#7201a8\"],[0.3333333333333333,\"#9c179e\"],[0.4444444444444444,\"#bd3786\"],[0.5555555555555556,\"#d8576b\"],[0.6666666666666666,\"#ed7953\"],[0.7777777777777778,\"#fb9f3a\"],[0.8888888888888888,\"#fdca26\"],[1.0,\"#f0f921\"]]}],\"heatmap\":[{\"type\":\"heatmap\",\"colorbar\":{\"outlinewidth\":0,\"ticks\":\"\"},\"colorscale\":[[0.0,\"#0d0887\"],[0.1111111111111111,\"#46039f\"],[0.2222222222222222,\"#7201a8\"],[0.3333333333333333,\"#9c179e\"],[0.4444444444444444,\"#bd3786\"],[0.5555555555555556,\"#d8576b\"],[0.6666666666666666,\"#ed7953\"],[0.7777777777777778,\"#fb9f3a\"],[0.8888888888888888,\"#fdca26\"],[1.0,\"#f0f921\"]]}],\"heatmapgl\":[{\"type\":\"heatmapgl\",\"colorbar\":{\"outlinewidth\":0,\"ticks\":\"\"},\"colorscale\":[[0.0,\"#0d0887\"],[0.1111111111111111,\"#46039f\"],[0.2222222222222222,\"#7201a8\"],[0.3333333333333333,\"#9c179e\"],[0.4444444444444444,\"#bd3786\"],[0.5555555555555556,\"#d8576b\"],[0.6666666666666666,\"#ed7953\"],[0.7777777777777778,\"#fb9f3a\"],[0.8888888888888888,\"#fdca26\"],[1.0,\"#f0f921\"]]}],\"contourcarpet\":[{\"type\":\"contourcarpet\",\"colorbar\":{\"outlinewidth\":0,\"ticks\":\"\"}}],\"contour\":[{\"type\":\"contour\",\"colorbar\":{\"outlinewidth\":0,\"ticks\":\"\"},\"colorscale\":[[0.0,\"#0d0887\"],[0.1111111111111111,\"#46039f\"],[0.2222222222222222,\"#7201a8\"],[0.3333333333333333,\"#9c179e\"],[0.4444444444444444,\"#bd3786\"],[0.5555555555555556,\"#d8576b\"],[0.6666666666666666,\"#ed7953\"],[0.7777777777777778,\"#fb9f3a\"],[0.8888888888888888,\"#fdca26\"],[1.0,\"#f0f921\"]]}],\"surface\":[{\"type\":\"surface\",\"colorbar\":{\"outlinewidth\":0,\"ticks\":\"\"},\"colorscale\":[[0.0,\"#0d0887\"],[0.1111111111111111,\"#46039f\"],[0.2222222222222222,\"#7201a8\"],[0.3333333333333333,\"#9c179e\"],[0.4444444444444444,\"#bd3786\"],[0.5555555555555556,\"#d8576b\"],[0.6666666666666666,\"#ed7953\"],[0.7777777777777778,\"#fb9f3a\"],[0.8888888888888888,\"#fdca26\"],[1.0,\"#f0f921\"]]}],\"mesh3d\":[{\"type\":\"mesh3d\",\"colorbar\":{\"outlinewidth\":0,\"ticks\":\"\"}}],\"scatter\":[{\"fillpattern\":{\"fillmode\":\"overlay\",\"size\":10,\"solidity\":0.2},\"type\":\"scatter\"}],\"parcoords\":[{\"type\":\"parcoords\",\"line\":{\"colorbar\":{\"outlinewidth\":0,\"ticks\":\"\"}}}],\"scatterpolargl\":[{\"type\":\"scatterpolargl\",\"marker\":{\"colorbar\":{\"outlinewidth\":0,\"ticks\":\"\"}}}],\"bar\":[{\"error_x\":{\"color\":\"#2a3f5f\"},\"error_y\":{\"color\":\"#2a3f5f\"},\"marker\":{\"line\":{\"color\":\"#E5ECF6\",\"width\":0.5},\"pattern\":{\"fillmode\":\"overlay\",\"size\":10,\"solidity\":0.2}},\"type\":\"bar\"}],\"scattergeo\":[{\"type\":\"scattergeo\",\"marker\":{\"colorbar\":{\"outlinewidth\":0,\"ticks\":\"\"}}}],\"scatterpolar\":[{\"type\":\"scatterpolar\",\"marker\":{\"colorbar\":{\"outlinewidth\":0,\"ticks\":\"\"}}}],\"histogram\":[{\"marker\":{\"pattern\":{\"fillmode\":\"overlay\",\"size\":10,\"solidity\":0.2}},\"type\":\"histogram\"}],\"scattergl\":[{\"type\":\"scattergl\",\"marker\":{\"colorbar\":{\"outlinewidth\":0,\"ticks\":\"\"}}}],\"scatter3d\":[{\"type\":\"scatter3d\",\"line\":{\"colorbar\":{\"outlinewidth\":0,\"ticks\":\"\"}},\"marker\":{\"colorbar\":{\"outlinewidth\":0,\"ticks\":\"\"}}}],\"scattermapbox\":[{\"type\":\"scattermapbox\",\"marker\":{\"colorbar\":{\"outlinewidth\":0,\"ticks\":\"\"}}}],\"scatterternary\":[{\"type\":\"scatterternary\",\"marker\":{\"colorbar\":{\"outlinewidth\":0,\"ticks\":\"\"}}}],\"scattercarpet\":[{\"type\":\"scattercarpet\",\"marker\":{\"colorbar\":{\"outlinewidth\":0,\"ticks\":\"\"}}}],\"carpet\":[{\"aaxis\":{\"endlinecolor\":\"#2a3f5f\",\"gridcolor\":\"white\",\"linecolor\":\"white\",\"minorgridcolor\":\"white\",\"startlinecolor\":\"#2a3f5f\"},\"baxis\":{\"endlinecolor\":\"#2a3f5f\",\"gridcolor\":\"white\",\"linecolor\":\"white\",\"minorgridcolor\":\"white\",\"startlinecolor\":\"#2a3f5f\"},\"type\":\"carpet\"}],\"table\":[{\"cells\":{\"fill\":{\"color\":\"#EBF0F8\"},\"line\":{\"color\":\"white\"}},\"header\":{\"fill\":{\"color\":\"#C8D4E3\"},\"line\":{\"color\":\"white\"}},\"type\":\"table\"}],\"barpolar\":[{\"marker\":{\"line\":{\"color\":\"#E5ECF6\",\"width\":0.5},\"pattern\":{\"fillmode\":\"overlay\",\"size\":10,\"solidity\":0.2}},\"type\":\"barpolar\"}],\"pie\":[{\"automargin\":true,\"type\":\"pie\"}]},\"layout\":{\"autotypenumbers\":\"strict\",\"colorway\":[\"#636efa\",\"#EF553B\",\"#00cc96\",\"#ab63fa\",\"#FFA15A\",\"#19d3f3\",\"#FF6692\",\"#B6E880\",\"#FF97FF\",\"#FECB52\"],\"font\":{\"color\":\"#2a3f5f\"},\"hovermode\":\"closest\",\"hoverlabel\":{\"align\":\"left\"},\"paper_bgcolor\":\"white\",\"plot_bgcolor\":\"#E5ECF6\",\"polar\":{\"bgcolor\":\"#E5ECF6\",\"angularaxis\":{\"gridcolor\":\"white\",\"linecolor\":\"white\",\"ticks\":\"\"},\"radialaxis\":{\"gridcolor\":\"white\",\"linecolor\":\"white\",\"ticks\":\"\"}},\"ternary\":{\"bgcolor\":\"#E5ECF6\",\"aaxis\":{\"gridcolor\":\"white\",\"linecolor\":\"white\",\"ticks\":\"\"},\"baxis\":{\"gridcolor\":\"white\",\"linecolor\":\"white\",\"ticks\":\"\"},\"caxis\":{\"gridcolor\":\"white\",\"linecolor\":\"white\",\"ticks\":\"\"}},\"coloraxis\":{\"colorbar\":{\"outlinewidth\":0,\"ticks\":\"\"}},\"colorscale\":{\"sequential\":[[0.0,\"#0d0887\"],[0.1111111111111111,\"#46039f\"],[0.2222222222222222,\"#7201a8\"],[0.3333333333333333,\"#9c179e\"],[0.4444444444444444,\"#bd3786\"],[0.5555555555555556,\"#d8576b\"],[0.6666666666666666,\"#ed7953\"],[0.7777777777777778,\"#fb9f3a\"],[0.8888888888888888,\"#fdca26\"],[1.0,\"#f0f921\"]],\"sequentialminus\":[[0.0,\"#0d0887\"],[0.1111111111111111,\"#46039f\"],[0.2222222222222222,\"#7201a8\"],[0.3333333333333333,\"#9c179e\"],[0.4444444444444444,\"#bd3786\"],[0.5555555555555556,\"#d8576b\"],[0.6666666666666666,\"#ed7953\"],[0.7777777777777778,\"#fb9f3a\"],[0.8888888888888888,\"#fdca26\"],[1.0,\"#f0f921\"]],\"diverging\":[[0,\"#8e0152\"],[0.1,\"#c51b7d\"],[0.2,\"#de77ae\"],[0.3,\"#f1b6da\"],[0.4,\"#fde0ef\"],[0.5,\"#f7f7f7\"],[0.6,\"#e6f5d0\"],[0.7,\"#b8e186\"],[0.8,\"#7fbc41\"],[0.9,\"#4d9221\"],[1,\"#276419\"]]},\"xaxis\":{\"gridcolor\":\"white\",\"linecolor\":\"white\",\"ticks\":\"\",\"title\":{\"standoff\":15},\"zerolinecolor\":\"white\",\"automargin\":true,\"zerolinewidth\":2},\"yaxis\":{\"gridcolor\":\"white\",\"linecolor\":\"white\",\"ticks\":\"\",\"title\":{\"standoff\":15},\"zerolinecolor\":\"white\",\"automargin\":true,\"zerolinewidth\":2},\"scene\":{\"xaxis\":{\"backgroundcolor\":\"#E5ECF6\",\"gridcolor\":\"white\",\"linecolor\":\"white\",\"showbackground\":true,\"ticks\":\"\",\"zerolinecolor\":\"white\",\"gridwidth\":2},\"yaxis\":{\"backgroundcolor\":\"#E5ECF6\",\"gridcolor\":\"white\",\"linecolor\":\"white\",\"showbackground\":true,\"ticks\":\"\",\"zerolinecolor\":\"white\",\"gridwidth\":2},\"zaxis\":{\"backgroundcolor\":\"#E5ECF6\",\"gridcolor\":\"white\",\"linecolor\":\"white\",\"showbackground\":true,\"ticks\":\"\",\"zerolinecolor\":\"white\",\"gridwidth\":2}},\"shapedefaults\":{\"line\":{\"color\":\"#2a3f5f\"}},\"annotationdefaults\":{\"arrowcolor\":\"#2a3f5f\",\"arrowhead\":0,\"arrowwidth\":1},\"geo\":{\"bgcolor\":\"white\",\"landcolor\":\"#E5ECF6\",\"subunitcolor\":\"white\",\"showland\":true,\"showlakes\":true,\"lakecolor\":\"white\"},\"title\":{\"x\":0.05},\"mapbox\":{\"style\":\"light\"}}},\"xaxis\":{\"anchor\":\"y\",\"domain\":[0.0,0.45]},\"yaxis\":{\"anchor\":\"x\",\"domain\":[0.0,1.0]},\"xaxis2\":{\"anchor\":\"y2\",\"domain\":[0.55,1.0]},\"yaxis2\":{\"anchor\":\"x2\",\"domain\":[0.0,1.0]},\"legend\":{\"orientation\":\"h\",\"yanchor\":\"bottom\",\"y\":1.02,\"xanchor\":\"right\",\"x\":1},\"title\":{\"text\":\"Traffic Violation Analyses per Day - Grid System\"},\"showlegend\":true},                        {\"responsive\": true}                    ).then(function(){\n",
              "                            \n",
              "var gd = document.getElementById('437cb8e3-4f8b-4097-a44a-f66c56b8b12b');\n",
              "var x = new MutationObserver(function (mutations, observer) {{\n",
              "        var display = window.getComputedStyle(gd).display;\n",
              "        if (!display || display === 'none') {{\n",
              "            console.log([gd, 'removed!']);\n",
              "            Plotly.purge(gd);\n",
              "            observer.disconnect();\n",
              "        }}\n",
              "}});\n",
              "\n",
              "// Listen for the removal of the full notebook cells\n",
              "var notebookContainer = gd.closest('#notebook-container');\n",
              "if (notebookContainer) {{\n",
              "    x.observe(notebookContainer, {childList: true});\n",
              "}}\n",
              "\n",
              "// Listen for the clearing of the current output cell\n",
              "var outputEl = gd.closest('.output');\n",
              "if (outputEl) {{\n",
              "    x.observe(outputEl, {childList: true});\n",
              "}}\n",
              "\n",
              "                        })                };                            </script>        </div>\n",
              "</body>\n",
              "</html>"
            ]
          },
          "metadata": {}
        }
      ]
    },
    {
      "cell_type": "code",
      "source": [
        "# Grid\n",
        "Grid = make_subplots( rows=1, cols= 1 )\n",
        "\n",
        "# Graph 1\n",
        "Grid.add_trace(\n",
        "    go.Scatter(\n",
        "        x=df_violations_per_day['Date'],\n",
        "        y=df_violations_per_day['Violations_Count'],\n",
        "        mode='lines',\n",
        "        name='Violations Count'\n",
        "    ),\n",
        "    row=1, col=1\n",
        ")\n",
        "\n",
        "# Graph 2\n",
        "Grid.add_trace(\n",
        "    go.Scatter(\n",
        "        x=df_violations_per_day['Date'],\n",
        "        y=df_violations_per_day['moving_avarage'],\n",
        "        mode='lines',\n",
        "        name='Moving Avarage'\n",
        "    ),\n",
        "    row=1, col=1\n",
        ")\n",
        "\n",
        "# Layout Adjust\n",
        "Grid.update_layout(\n",
        "\n",
        "    # Title\n",
        "    title='Traffic Violation Analyses per Day',\n",
        "\n",
        "    # Legend\n",
        "    showlegend=True,\n",
        "    legend=dict(\n",
        "        orientation='h',\n",
        "        yanchor='bottom',\n",
        "        y=1.02,\n",
        "        xanchor='right',\n",
        "        x=1\n",
        "    )\n",
        ")\n",
        "\n",
        "Grid"
      ],
      "metadata": {
        "colab": {
          "base_uri": "https://localhost:8080/",
          "height": 542
        },
        "id": "10BqUg61ypqV",
        "outputId": "0a0f5f96-9fa4-4f37-ba51-7240bd801ff3"
      },
      "execution_count": 449,
      "outputs": [
        {
          "output_type": "display_data",
          "data": {
            "text/html": [
              "<html>\n",
              "<head><meta charset=\"utf-8\" /></head>\n",
              "<body>\n",
              "    <div>            <script src=\"https://cdnjs.cloudflare.com/ajax/libs/mathjax/2.7.5/MathJax.js?config=TeX-AMS-MML_SVG\"></script><script type=\"text/javascript\">if (window.MathJax && window.MathJax.Hub && window.MathJax.Hub.Config) {window.MathJax.Hub.Config({SVG: {font: \"STIX-Web\"}});}</script>                <script type=\"text/javascript\">window.PlotlyConfig = {MathJaxConfig: 'local'};</script>\n",
              "        <script src=\"https://cdn.plot.ly/plotly-2.18.2.min.js\"></script>                <div id=\"4af56098-c91b-45dc-aee8-a7e241bcb30d\" class=\"plotly-graph-div\" style=\"height:525px; width:100%;\"></div>            <script type=\"text/javascript\">                                    window.PLOTLYENV=window.PLOTLYENV || {};                                    if (document.getElementById(\"4af56098-c91b-45dc-aee8-a7e241bcb30d\")) {                    Plotly.newPlot(                        \"4af56098-c91b-45dc-aee8-a7e241bcb30d\",                        [{\"mode\":\"lines\",\"name\":\"Violations Count\",\"x\":[\"2022-01-01\",\"2022-01-02\",\"2022-01-03\",\"2022-01-04\",\"2022-01-05\",\"2022-01-06\",\"2022-01-07\",\"2022-01-08\",\"2022-01-09\",\"2022-01-10\",\"2022-01-11\",\"2022-01-12\",\"2022-01-13\",\"2022-01-14\",\"2022-01-15\",\"2022-01-16\",\"2022-01-17\",\"2022-01-18\",\"2022-01-19\",\"2022-01-20\",\"2022-01-21\",\"2022-01-22\",\"2022-01-23\",\"2022-01-24\",\"2022-01-25\",\"2022-01-26\",\"2022-01-27\",\"2022-01-28\",\"2022-01-29\",\"2022-01-30\",\"2022-01-31\",\"2022-02-01\",\"2022-02-02\",\"2022-02-03\",\"2022-02-04\",\"2022-02-05\",\"2022-02-06\",\"2022-02-07\",\"2022-02-08\",\"2022-02-09\",\"2022-02-10\",\"2022-02-11\",\"2022-02-12\",\"2022-02-13\",\"2022-02-14\",\"2022-02-15\",\"2022-02-16\",\"2022-02-17\",\"2022-02-18\",\"2022-02-19\",\"2022-02-20\",\"2022-02-21\",\"2022-02-22\",\"2022-02-23\",\"2022-02-24\",\"2022-02-25\",\"2022-02-26\",\"2022-02-27\",\"2022-02-28\",\"2022-03-01\",\"2022-03-02\",\"2022-03-03\",\"2022-03-04\",\"2022-03-05\",\"2022-03-06\",\"2022-03-07\",\"2022-03-08\",\"2022-03-09\",\"2022-03-10\",\"2022-03-11\",\"2022-03-12\",\"2022-03-13\",\"2022-03-14\",\"2022-03-15\",\"2022-03-16\",\"2022-03-17\",\"2022-03-18\",\"2022-03-19\",\"2022-03-20\",\"2022-03-21\",\"2022-03-22\",\"2022-03-23\",\"2022-03-24\",\"2022-03-25\",\"2022-03-26\",\"2022-03-27\",\"2022-03-28\",\"2022-03-29\",\"2022-03-30\",\"2022-03-31\",\"2022-04-01\",\"2022-04-02\",\"2022-04-03\",\"2022-04-04\",\"2022-04-05\",\"2022-04-06\",\"2022-04-07\",\"2022-04-08\",\"2022-04-09\",\"2022-04-10\",\"2022-04-11\",\"2022-04-12\",\"2022-04-13\",\"2022-04-14\",\"2022-04-15\",\"2022-04-16\",\"2022-04-17\",\"2022-04-18\",\"2022-04-19\",\"2022-04-20\",\"2022-04-21\",\"2022-04-22\",\"2022-04-23\",\"2022-04-24\",\"2022-04-25\",\"2022-04-26\",\"2022-04-27\",\"2022-04-28\",\"2022-04-29\",\"2022-04-30\",\"2022-05-01\",\"2022-05-02\",\"2022-05-03\",\"2022-05-04\",\"2022-05-05\",\"2022-05-06\",\"2022-05-07\",\"2022-05-08\",\"2022-05-09\",\"2022-05-10\",\"2022-05-11\",\"2022-05-12\",\"2022-05-13\",\"2022-05-14\",\"2022-05-15\",\"2022-05-16\",\"2022-05-17\",\"2022-05-18\",\"2022-05-19\",\"2022-05-20\",\"2022-05-21\",\"2022-05-22\",\"2022-05-23\",\"2022-05-24\",\"2022-05-25\",\"2022-05-26\",\"2022-05-27\",\"2022-05-28\",\"2022-05-29\",\"2022-05-30\",\"2022-05-31\",\"2022-06-01\",\"2022-06-02\",\"2022-06-03\",\"2022-06-04\",\"2022-06-05\",\"2022-06-06\",\"2022-06-07\",\"2022-06-08\",\"2022-06-09\",\"2022-06-10\",\"2022-06-11\",\"2022-06-12\",\"2022-06-13\",\"2022-06-14\",\"2022-06-15\",\"2022-06-16\",\"2022-06-17\",\"2022-06-18\",\"2022-06-19\",\"2022-06-20\",\"2022-06-21\",\"2022-06-22\",\"2022-06-23\",\"2022-06-24\",\"2022-06-25\",\"2022-06-26\",\"2022-06-27\",\"2022-06-28\",\"2022-06-29\",\"2022-06-30\",\"2022-07-01\",\"2022-07-02\",\"2022-07-03\",\"2022-07-04\",\"2022-07-05\",\"2022-07-06\",\"2022-07-07\",\"2022-07-08\",\"2022-07-09\",\"2022-07-10\",\"2022-07-11\",\"2022-07-12\",\"2022-07-13\",\"2022-07-14\",\"2022-07-15\",\"2022-07-16\",\"2022-07-17\",\"2022-07-18\",\"2022-07-19\",\"2022-07-20\",\"2022-07-21\",\"2022-07-22\",\"2022-07-23\",\"2022-07-24\",\"2022-07-25\",\"2022-07-26\",\"2022-07-27\",\"2022-07-28\",\"2022-07-29\",\"2022-07-30\",\"2022-07-31\",\"2022-08-01\",\"2022-08-02\",\"2022-08-03\",\"2022-08-04\",\"2022-08-05\",\"2022-08-06\",\"2022-08-07\",\"2022-08-08\",\"2022-08-09\",\"2022-08-10\",\"2022-08-11\",\"2022-08-12\",\"2022-08-13\",\"2022-08-14\",\"2022-08-15\",\"2022-08-16\",\"2022-08-17\",\"2022-08-18\",\"2022-08-19\",\"2022-08-20\",\"2022-08-21\",\"2022-08-22\",\"2022-08-23\",\"2022-08-24\",\"2022-08-25\",\"2022-08-26\",\"2022-08-27\",\"2022-08-28\",\"2022-08-29\",\"2022-08-30\",\"2022-08-31\",\"2022-09-01\",\"2022-09-02\",\"2022-09-03\",\"2022-09-04\",\"2022-09-05\",\"2022-09-06\",\"2022-09-07\",\"2022-09-08\",\"2022-09-09\",\"2022-09-10\",\"2022-09-11\",\"2022-09-12\",\"2022-09-13\",\"2022-09-14\",\"2022-09-15\",\"2022-09-16\",\"2022-09-17\",\"2022-09-18\",\"2022-09-19\",\"2022-09-20\",\"2022-09-21\",\"2022-09-22\",\"2022-09-23\",\"2022-09-24\",\"2022-09-25\",\"2022-09-26\",\"2022-09-27\",\"2022-09-28\",\"2022-09-29\",\"2022-09-30\",\"2022-10-01\",\"2022-10-02\",\"2022-10-03\",\"2022-10-04\",\"2022-10-05\",\"2022-10-06\",\"2022-10-07\",\"2022-10-08\",\"2022-10-09\",\"2022-10-10\",\"2022-10-11\",\"2022-10-12\",\"2022-10-13\",\"2022-10-14\",\"2022-10-15\",\"2022-10-16\",\"2022-10-17\",\"2022-10-18\",\"2022-10-19\",\"2022-10-20\",\"2022-10-21\",\"2022-10-22\",\"2022-10-23\",\"2022-10-24\",\"2022-10-25\",\"2022-10-26\",\"2022-10-27\",\"2022-10-28\",\"2022-10-29\",\"2022-10-30\",\"2022-10-31\",\"2022-11-01\",\"2022-11-02\",\"2022-11-03\",\"2022-11-04\",\"2022-11-05\",\"2022-11-06\",\"2022-11-07\",\"2022-11-08\",\"2022-11-09\",\"2022-11-10\",\"2022-11-11\",\"2022-11-12\",\"2022-11-13\",\"2022-11-14\",\"2022-11-15\",\"2022-11-16\",\"2022-11-17\",\"2022-11-18\",\"2022-11-19\",\"2022-11-20\",\"2022-11-21\",\"2022-11-22\",\"2022-11-23\",\"2022-11-24\",\"2022-11-25\",\"2022-11-26\",\"2022-11-27\",\"2022-11-28\",\"2022-11-29\",\"2022-11-30\",\"2022-12-01\",\"2022-12-02\",\"2022-12-03\",\"2022-12-04\",\"2022-12-05\",\"2022-12-06\",\"2022-12-07\",\"2022-12-08\",\"2022-12-09\",\"2022-12-10\",\"2022-12-11\",\"2022-12-12\",\"2022-12-13\",\"2022-12-14\",\"2022-12-15\",\"2022-12-16\",\"2022-12-17\",\"2022-12-18\",\"2022-12-19\",\"2022-12-20\",\"2022-12-21\",\"2022-12-22\",\"2022-12-23\",\"2022-12-24\",\"2022-12-25\",\"2022-12-26\",\"2022-12-27\",\"2022-12-28\",\"2022-12-29\",\"2022-12-30\",\"2022-12-31\"],\"y\":[8533,13146,12012,11248,11159,10167,11150,8321,8788,8520,8008,11553,9564,10799,8761,9670,10299,11576,11487,11246,14586,10223,9998,10691,10912,11103,12401,13628,11067,14135,12187,11218,11569,13506,12327,11417,9994,11294,14704,13394,12463,14952,10230,14511,13735,13051,13149,12544,13820,10624,12048,11664,12366,15191,12739,21477,21715,14993,15133,18936,18655,12157,12275,9503,14031,11579,11271,10105,11899,11003,10979,11574,12563,12339,13798,12569,13343,11273,10645,12221,13081,14022,13757,13008,11748,11576,14342,12214,12984,13211,11691,10583,12795,12619,13237,14175,12679,13456,11193,11253,11455,13132,12741,18161,17162,12422,16867,11647,10864,12624,19261,14933,14090,17675,14224,13316,14058,12619,15075,12525,12489,14937,14668,14144,16248,16765,9140,8143,12599,11647,10678,15285,9483,8253,6774,10567,10468,8511,8635,9827,7547,6569,13820,12184,13045,11643,13056,11423,10876,11539,10711,8452,11073,11662,10500,10731,11752,10086,12071,11683,13802,10849,10253,15085,10638,14153,14358,7357,7007,13663,9562,9302,9816,10199,10286,10183,10637,10101,10080,9109,10574,9472,10572,10208,10737,9076,9737,9169,10815,9123,10856,11660,11146,9812,10964,10770,8404,9872,10130,10418,10036,9643,11634,8985,9064,9948,8809,9142,10116,10082,8877,8969,9521,9795,9525,9656,10548,8047,8000,10647,8930,10525,10429,12014,8195,8069,11584,11570,10661,11117,9491,8806,9351,12918,10597,11348,11578,12334,9884,10883,10346,10334,11420,10562,10531,9730,10891,13580,10106,10884,10486,12517,9645,10381,10809,10183,8544,11114,11737,10091,10081,11190,12571,12108,10784,12943,10501,9522,11612,9074,10532,11880,13979,14241,15781,10458,9766,10257,9532,11802,10645,9507,9646,11046,11134,10946,11550,9801,10653,12259,10363,11629,10526,11617,9884,8445,11659,9902,10925,10096,19007,18238,14719,7005,5853,9888,6831,7737,6605,9804,10581,9188,10851,9397,13189,14878,12679,12027,16559,10511,9556,11007,7979,7886,5382,7665,5472,4033,9001,7948,7967,8423,8579,8549,9001,7815,8858,8973,9824,10717,10960,11293,10910,9656,10233,11251,8561,11701,11957,12950,15465,12248,10361,12476,12679,11912,16523,13654,11021,15214,12077,11332,12226,15801,13216],\"type\":\"scatter\",\"xaxis\":\"x\",\"yaxis\":\"y\"},{\"mode\":\"lines\",\"name\":\"Moving Avarage\",\"x\":[\"2022-01-01\",\"2022-01-02\",\"2022-01-03\",\"2022-01-04\",\"2022-01-05\",\"2022-01-06\",\"2022-01-07\",\"2022-01-08\",\"2022-01-09\",\"2022-01-10\",\"2022-01-11\",\"2022-01-12\",\"2022-01-13\",\"2022-01-14\",\"2022-01-15\",\"2022-01-16\",\"2022-01-17\",\"2022-01-18\",\"2022-01-19\",\"2022-01-20\",\"2022-01-21\",\"2022-01-22\",\"2022-01-23\",\"2022-01-24\",\"2022-01-25\",\"2022-01-26\",\"2022-01-27\",\"2022-01-28\",\"2022-01-29\",\"2022-01-30\",\"2022-01-31\",\"2022-02-01\",\"2022-02-02\",\"2022-02-03\",\"2022-02-04\",\"2022-02-05\",\"2022-02-06\",\"2022-02-07\",\"2022-02-08\",\"2022-02-09\",\"2022-02-10\",\"2022-02-11\",\"2022-02-12\",\"2022-02-13\",\"2022-02-14\",\"2022-02-15\",\"2022-02-16\",\"2022-02-17\",\"2022-02-18\",\"2022-02-19\",\"2022-02-20\",\"2022-02-21\",\"2022-02-22\",\"2022-02-23\",\"2022-02-24\",\"2022-02-25\",\"2022-02-26\",\"2022-02-27\",\"2022-02-28\",\"2022-03-01\",\"2022-03-02\",\"2022-03-03\",\"2022-03-04\",\"2022-03-05\",\"2022-03-06\",\"2022-03-07\",\"2022-03-08\",\"2022-03-09\",\"2022-03-10\",\"2022-03-11\",\"2022-03-12\",\"2022-03-13\",\"2022-03-14\",\"2022-03-15\",\"2022-03-16\",\"2022-03-17\",\"2022-03-18\",\"2022-03-19\",\"2022-03-20\",\"2022-03-21\",\"2022-03-22\",\"2022-03-23\",\"2022-03-24\",\"2022-03-25\",\"2022-03-26\",\"2022-03-27\",\"2022-03-28\",\"2022-03-29\",\"2022-03-30\",\"2022-03-31\",\"2022-04-01\",\"2022-04-02\",\"2022-04-03\",\"2022-04-04\",\"2022-04-05\",\"2022-04-06\",\"2022-04-07\",\"2022-04-08\",\"2022-04-09\",\"2022-04-10\",\"2022-04-11\",\"2022-04-12\",\"2022-04-13\",\"2022-04-14\",\"2022-04-15\",\"2022-04-16\",\"2022-04-17\",\"2022-04-18\",\"2022-04-19\",\"2022-04-20\",\"2022-04-21\",\"2022-04-22\",\"2022-04-23\",\"2022-04-24\",\"2022-04-25\",\"2022-04-26\",\"2022-04-27\",\"2022-04-28\",\"2022-04-29\",\"2022-04-30\",\"2022-05-01\",\"2022-05-02\",\"2022-05-03\",\"2022-05-04\",\"2022-05-05\",\"2022-05-06\",\"2022-05-07\",\"2022-05-08\",\"2022-05-09\",\"2022-05-10\",\"2022-05-11\",\"2022-05-12\",\"2022-05-13\",\"2022-05-14\",\"2022-05-15\",\"2022-05-16\",\"2022-05-17\",\"2022-05-18\",\"2022-05-19\",\"2022-05-20\",\"2022-05-21\",\"2022-05-22\",\"2022-05-23\",\"2022-05-24\",\"2022-05-25\",\"2022-05-26\",\"2022-05-27\",\"2022-05-28\",\"2022-05-29\",\"2022-05-30\",\"2022-05-31\",\"2022-06-01\",\"2022-06-02\",\"2022-06-03\",\"2022-06-04\",\"2022-06-05\",\"2022-06-06\",\"2022-06-07\",\"2022-06-08\",\"2022-06-09\",\"2022-06-10\",\"2022-06-11\",\"2022-06-12\",\"2022-06-13\",\"2022-06-14\",\"2022-06-15\",\"2022-06-16\",\"2022-06-17\",\"2022-06-18\",\"2022-06-19\",\"2022-06-20\",\"2022-06-21\",\"2022-06-22\",\"2022-06-23\",\"2022-06-24\",\"2022-06-25\",\"2022-06-26\",\"2022-06-27\",\"2022-06-28\",\"2022-06-29\",\"2022-06-30\",\"2022-07-01\",\"2022-07-02\",\"2022-07-03\",\"2022-07-04\",\"2022-07-05\",\"2022-07-06\",\"2022-07-07\",\"2022-07-08\",\"2022-07-09\",\"2022-07-10\",\"2022-07-11\",\"2022-07-12\",\"2022-07-13\",\"2022-07-14\",\"2022-07-15\",\"2022-07-16\",\"2022-07-17\",\"2022-07-18\",\"2022-07-19\",\"2022-07-20\",\"2022-07-21\",\"2022-07-22\",\"2022-07-23\",\"2022-07-24\",\"2022-07-25\",\"2022-07-26\",\"2022-07-27\",\"2022-07-28\",\"2022-07-29\",\"2022-07-30\",\"2022-07-31\",\"2022-08-01\",\"2022-08-02\",\"2022-08-03\",\"2022-08-04\",\"2022-08-05\",\"2022-08-06\",\"2022-08-07\",\"2022-08-08\",\"2022-08-09\",\"2022-08-10\",\"2022-08-11\",\"2022-08-12\",\"2022-08-13\",\"2022-08-14\",\"2022-08-15\",\"2022-08-16\",\"2022-08-17\",\"2022-08-18\",\"2022-08-19\",\"2022-08-20\",\"2022-08-21\",\"2022-08-22\",\"2022-08-23\",\"2022-08-24\",\"2022-08-25\",\"2022-08-26\",\"2022-08-27\",\"2022-08-28\",\"2022-08-29\",\"2022-08-30\",\"2022-08-31\",\"2022-09-01\",\"2022-09-02\",\"2022-09-03\",\"2022-09-04\",\"2022-09-05\",\"2022-09-06\",\"2022-09-07\",\"2022-09-08\",\"2022-09-09\",\"2022-09-10\",\"2022-09-11\",\"2022-09-12\",\"2022-09-13\",\"2022-09-14\",\"2022-09-15\",\"2022-09-16\",\"2022-09-17\",\"2022-09-18\",\"2022-09-19\",\"2022-09-20\",\"2022-09-21\",\"2022-09-22\",\"2022-09-23\",\"2022-09-24\",\"2022-09-25\",\"2022-09-26\",\"2022-09-27\",\"2022-09-28\",\"2022-09-29\",\"2022-09-30\",\"2022-10-01\",\"2022-10-02\",\"2022-10-03\",\"2022-10-04\",\"2022-10-05\",\"2022-10-06\",\"2022-10-07\",\"2022-10-08\",\"2022-10-09\",\"2022-10-10\",\"2022-10-11\",\"2022-10-12\",\"2022-10-13\",\"2022-10-14\",\"2022-10-15\",\"2022-10-16\",\"2022-10-17\",\"2022-10-18\",\"2022-10-19\",\"2022-10-20\",\"2022-10-21\",\"2022-10-22\",\"2022-10-23\",\"2022-10-24\",\"2022-10-25\",\"2022-10-26\",\"2022-10-27\",\"2022-10-28\",\"2022-10-29\",\"2022-10-30\",\"2022-10-31\",\"2022-11-01\",\"2022-11-02\",\"2022-11-03\",\"2022-11-04\",\"2022-11-05\",\"2022-11-06\",\"2022-11-07\",\"2022-11-08\",\"2022-11-09\",\"2022-11-10\",\"2022-11-11\",\"2022-11-12\",\"2022-11-13\",\"2022-11-14\",\"2022-11-15\",\"2022-11-16\",\"2022-11-17\",\"2022-11-18\",\"2022-11-19\",\"2022-11-20\",\"2022-11-21\",\"2022-11-22\",\"2022-11-23\",\"2022-11-24\",\"2022-11-25\",\"2022-11-26\",\"2022-11-27\",\"2022-11-28\",\"2022-11-29\",\"2022-11-30\",\"2022-12-01\",\"2022-12-02\",\"2022-12-03\",\"2022-12-04\",\"2022-12-05\",\"2022-12-06\",\"2022-12-07\",\"2022-12-08\",\"2022-12-09\",\"2022-12-10\",\"2022-12-11\",\"2022-12-12\",\"2022-12-13\",\"2022-12-14\",\"2022-12-15\",\"2022-12-16\",\"2022-12-17\",\"2022-12-18\",\"2022-12-19\",\"2022-12-20\",\"2022-12-21\",\"2022-12-22\",\"2022-12-23\",\"2022-12-24\",\"2022-12-25\",\"2022-12-26\",\"2022-12-27\",\"2022-12-28\",\"2022-12-29\",\"2022-12-30\",\"2022-12-31\"],\"y\":[8533.0,10839.5,11230.333333333334,11234.75,11219.6,11044.166666666666,11059.285714285714,11029.0,10406.42857142857,9907.57142857143,9444.714285714286,9501.0,9414.857142857143,9364.714285714286,9427.57142857143,9553.57142857143,9807.714285714286,10317.42857142857,10308.0,10548.285714285714,11089.285714285714,11298.142857142857,11345.0,11401.0,11306.142857142857,11251.285714285714,11416.285714285714,11279.42857142857,11400.0,11991.0,12204.714285714286,12248.42857142857,12315.0,12472.857142857143,12287.0,12337.0,11745.42857142857,11617.857142857143,12115.857142857143,12376.57142857143,12227.57142857143,12602.57142857143,12433.0,13078.285714285714,13427.0,13190.857142857143,13155.857142857143,13167.42857142857,13005.714285714286,13062.0,12710.142857142857,12414.285714285714,12316.42857142857,12608.142857142857,12636.0,13729.857142857143,15314.285714285714,15735.0,16230.57142857143,17169.14285714286,17664.0,17580.85714285714,16266.285714285714,14521.714285714286,14384.285714285714,13876.57142857143,12781.57142857143,11560.142857142857,11523.285714285714,11341.57142857143,11552.42857142857,11201.42857142857,11342.0,11494.57142857143,12022.142857142857,12117.857142857143,12452.142857142857,12494.142857142857,12361.42857142857,12312.57142857143,12418.57142857143,12450.57142857143,12620.285714285714,12572.42857142857,12640.285714285714,12773.285714285714,13076.285714285714,12952.42857142857,12804.142857142857,12726.142857142857,12538.0,12371.57142857143,12545.714285714286,12299.57142857143,12445.714285714286,12615.857142857143,12539.857142857143,12792.0,12879.142857142857,12658.857142857143,12492.57142857143,12477.57142857143,12272.714285714286,13055.857142857143,13585.285714285714,13760.857142857143,14562.857142857143,14590.285714285714,14266.285714285714,14249.57142857143,14406.714285714286,14088.285714285714,14326.57142857143,14442.0,14810.142857142857,15160.42857142857,15365.285714285714,14416.42857142857,14436.714285714286,14213.142857142857,13472.285714285714,13574.142857142857,13767.285714285714,13779.57142857143,14298.0,14539.42857142857,14055.857142857143,13435.0,13101.0,12669.42857142857,12174.285714285714,12036.714285714286,10996.42857142857,10869.714285714286,10674.142857142857,10383.857142857143,10215.42857142857,9905.857142857143,8955.857142857143,9005.0,8904.142857142857,8874.857142857143,9339.57142857143,9584.714285714286,10232.42857142857,10662.142857142857,11123.42857142857,11677.142857142857,12292.42857142857,11966.57142857143,11756.142857142857,11100.0,11018.57142857143,10819.42857142857,10687.57142857143,10666.857142857143,10697.285714285714,10608.0,11125.0,11212.142857142857,11517.857142857143,11567.714285714286,11499.42857142857,11975.57142857143,12054.42857142857,12351.857142857143,12734.0,11813.285714285714,11264.42857142857,11751.57142857143,10962.57142857143,10771.714285714286,10152.142857142857,9558.0,9976.42857142857,10430.142857142857,9997.857142857143,10074.857142857143,10186.0,10085.0,10138.57142857143,10022.285714285714,10077.857142857143,10016.57142857143,10107.42857142857,9964.0,10053.714285714286,9853.0,10044.857142857143,9837.857142857143,9930.42857142857,10062.285714285714,10358.0,10368.714285714286,10625.142857142857,10618.714285714286,10516.0,10375.42857142857,10156.857142857143,10052.857142857143,10084.857142857143,9896.142857142857,10019.57142857143,10102.57142857143,9987.142857142857,9961.142857142857,9731.285714285714,9603.57142857143,9671.142857142857,9449.42857142857,9434.0,9420.42857142857,9359.42857142857,9500.285714285714,9555.0,9489.285714285714,9555.857142857143,9437.285714285714,9298.857142857143,9459.714285714286,9336.142857142857,9479.0,9589.42857142857,9798.857142857143,9820.0,9829.857142857143,9963.714285714286,10340.857142857143,10360.285714285714,10458.57142857143,10098.142857142857,10185.42857142857,10368.57142857143,10559.142857142857,10420.142857142857,10518.285714285714,10584.142857142857,10990.285714285714,11144.285714285714,11363.142857142857,10995.714285714286,10958.142857142857,10968.42857142857,10823.285714285714,10565.714285714286,10543.714285714286,10544.857142857143,11006.857142857143,10974.285714285714,10897.714285714286,10886.857142857143,11170.57142857143,11158.42857142857,11085.57142857143,10689.714285714286,10700.714285714286,10366.42857142857,10456.142857142857,10344.714285714286,10408.42857142857,10365.57142857143,10420.0,10761.142857142857,11270.285714285714,11223.142857142857,11395.42857142857,11454.0,11374.142857142857,11434.42857142857,10934.857142857143,10709.714285714286,10866.285714285714,11014.285714285714,11548.57142857143,12442.714285714286,12277.857142857143,12376.714285714286,12337.42857142857,12002.0,11691.0,11177.285714285714,10281.0,10165.0,10347.857142857143,10473.142857142857,10675.142857142857,10639.142857142857,10518.57142857143,10682.285714285714,11055.57142857143,10958.0,11028.714285714286,10968.714285714286,10978.285714285714,10990.142857142857,10674.714285714286,10589.0,10523.142857142857,10422.57142857143,10361.142857142857,11416.857142857143,12610.285714285714,13506.57142857143,12841.714285714286,12263.285714285714,12115.142857142857,11648.714285714286,10038.714285714286,8376.857142857143,7674.714285714285,8185.571428571428,8662.0,8799.57142857143,9166.142857142857,9945.0,11126.857142857143,11537.57142857143,11744.142857142857,12797.142857142857,12748.57142857143,12771.285714285714,12459.57142857143,11474.0,10789.285714285714,9840.0,8569.42857142857,7849.571428571428,7060.571428571428,6774.0,6769.571428571428,6781.142857142857,7215.571428571428,7346.142857142857,7785.714285714285,8495.42857142857,8326.0,8456.0,8599.714285714286,8799.857142857143,9105.285714285714,9449.714285714286,9777.142857142857,10219.285714285714,10333.285714285714,10513.285714285714,10717.142857142857,10409.142857142857,10515.0,10609.857142857143,10901.285714285714,11731.142857142857,12019.0,11891.857142857143,12451.142857142857,12590.857142857143,12584.42857142857,13094.857142857143,12836.142857142857,12660.857142857143,13354.142857142857,13297.142857142857,13104.714285714286,13149.57142857143,13046.42857142857,12983.857142857143],\"type\":\"scatter\",\"xaxis\":\"x\",\"yaxis\":\"y\"}],                        {\"template\":{\"data\":{\"histogram2dcontour\":[{\"type\":\"histogram2dcontour\",\"colorbar\":{\"outlinewidth\":0,\"ticks\":\"\"},\"colorscale\":[[0.0,\"#0d0887\"],[0.1111111111111111,\"#46039f\"],[0.2222222222222222,\"#7201a8\"],[0.3333333333333333,\"#9c179e\"],[0.4444444444444444,\"#bd3786\"],[0.5555555555555556,\"#d8576b\"],[0.6666666666666666,\"#ed7953\"],[0.7777777777777778,\"#fb9f3a\"],[0.8888888888888888,\"#fdca26\"],[1.0,\"#f0f921\"]]}],\"choropleth\":[{\"type\":\"choropleth\",\"colorbar\":{\"outlinewidth\":0,\"ticks\":\"\"}}],\"histogram2d\":[{\"type\":\"histogram2d\",\"colorbar\":{\"outlinewidth\":0,\"ticks\":\"\"},\"colorscale\":[[0.0,\"#0d0887\"],[0.1111111111111111,\"#46039f\"],[0.2222222222222222,\"#7201a8\"],[0.3333333333333333,\"#9c179e\"],[0.4444444444444444,\"#bd3786\"],[0.5555555555555556,\"#d8576b\"],[0.6666666666666666,\"#ed7953\"],[0.7777777777777778,\"#fb9f3a\"],[0.8888888888888888,\"#fdca26\"],[1.0,\"#f0f921\"]]}],\"heatmap\":[{\"type\":\"heatmap\",\"colorbar\":{\"outlinewidth\":0,\"ticks\":\"\"},\"colorscale\":[[0.0,\"#0d0887\"],[0.1111111111111111,\"#46039f\"],[0.2222222222222222,\"#7201a8\"],[0.3333333333333333,\"#9c179e\"],[0.4444444444444444,\"#bd3786\"],[0.5555555555555556,\"#d8576b\"],[0.6666666666666666,\"#ed7953\"],[0.7777777777777778,\"#fb9f3a\"],[0.8888888888888888,\"#fdca26\"],[1.0,\"#f0f921\"]]}],\"heatmapgl\":[{\"type\":\"heatmapgl\",\"colorbar\":{\"outlinewidth\":0,\"ticks\":\"\"},\"colorscale\":[[0.0,\"#0d0887\"],[0.1111111111111111,\"#46039f\"],[0.2222222222222222,\"#7201a8\"],[0.3333333333333333,\"#9c179e\"],[0.4444444444444444,\"#bd3786\"],[0.5555555555555556,\"#d8576b\"],[0.6666666666666666,\"#ed7953\"],[0.7777777777777778,\"#fb9f3a\"],[0.8888888888888888,\"#fdca26\"],[1.0,\"#f0f921\"]]}],\"contourcarpet\":[{\"type\":\"contourcarpet\",\"colorbar\":{\"outlinewidth\":0,\"ticks\":\"\"}}],\"contour\":[{\"type\":\"contour\",\"colorbar\":{\"outlinewidth\":0,\"ticks\":\"\"},\"colorscale\":[[0.0,\"#0d0887\"],[0.1111111111111111,\"#46039f\"],[0.2222222222222222,\"#7201a8\"],[0.3333333333333333,\"#9c179e\"],[0.4444444444444444,\"#bd3786\"],[0.5555555555555556,\"#d8576b\"],[0.6666666666666666,\"#ed7953\"],[0.7777777777777778,\"#fb9f3a\"],[0.8888888888888888,\"#fdca26\"],[1.0,\"#f0f921\"]]}],\"surface\":[{\"type\":\"surface\",\"colorbar\":{\"outlinewidth\":0,\"ticks\":\"\"},\"colorscale\":[[0.0,\"#0d0887\"],[0.1111111111111111,\"#46039f\"],[0.2222222222222222,\"#7201a8\"],[0.3333333333333333,\"#9c179e\"],[0.4444444444444444,\"#bd3786\"],[0.5555555555555556,\"#d8576b\"],[0.6666666666666666,\"#ed7953\"],[0.7777777777777778,\"#fb9f3a\"],[0.8888888888888888,\"#fdca26\"],[1.0,\"#f0f921\"]]}],\"mesh3d\":[{\"type\":\"mesh3d\",\"colorbar\":{\"outlinewidth\":0,\"ticks\":\"\"}}],\"scatter\":[{\"fillpattern\":{\"fillmode\":\"overlay\",\"size\":10,\"solidity\":0.2},\"type\":\"scatter\"}],\"parcoords\":[{\"type\":\"parcoords\",\"line\":{\"colorbar\":{\"outlinewidth\":0,\"ticks\":\"\"}}}],\"scatterpolargl\":[{\"type\":\"scatterpolargl\",\"marker\":{\"colorbar\":{\"outlinewidth\":0,\"ticks\":\"\"}}}],\"bar\":[{\"error_x\":{\"color\":\"#2a3f5f\"},\"error_y\":{\"color\":\"#2a3f5f\"},\"marker\":{\"line\":{\"color\":\"#E5ECF6\",\"width\":0.5},\"pattern\":{\"fillmode\":\"overlay\",\"size\":10,\"solidity\":0.2}},\"type\":\"bar\"}],\"scattergeo\":[{\"type\":\"scattergeo\",\"marker\":{\"colorbar\":{\"outlinewidth\":0,\"ticks\":\"\"}}}],\"scatterpolar\":[{\"type\":\"scatterpolar\",\"marker\":{\"colorbar\":{\"outlinewidth\":0,\"ticks\":\"\"}}}],\"histogram\":[{\"marker\":{\"pattern\":{\"fillmode\":\"overlay\",\"size\":10,\"solidity\":0.2}},\"type\":\"histogram\"}],\"scattergl\":[{\"type\":\"scattergl\",\"marker\":{\"colorbar\":{\"outlinewidth\":0,\"ticks\":\"\"}}}],\"scatter3d\":[{\"type\":\"scatter3d\",\"line\":{\"colorbar\":{\"outlinewidth\":0,\"ticks\":\"\"}},\"marker\":{\"colorbar\":{\"outlinewidth\":0,\"ticks\":\"\"}}}],\"scattermapbox\":[{\"type\":\"scattermapbox\",\"marker\":{\"colorbar\":{\"outlinewidth\":0,\"ticks\":\"\"}}}],\"scatterternary\":[{\"type\":\"scatterternary\",\"marker\":{\"colorbar\":{\"outlinewidth\":0,\"ticks\":\"\"}}}],\"scattercarpet\":[{\"type\":\"scattercarpet\",\"marker\":{\"colorbar\":{\"outlinewidth\":0,\"ticks\":\"\"}}}],\"carpet\":[{\"aaxis\":{\"endlinecolor\":\"#2a3f5f\",\"gridcolor\":\"white\",\"linecolor\":\"white\",\"minorgridcolor\":\"white\",\"startlinecolor\":\"#2a3f5f\"},\"baxis\":{\"endlinecolor\":\"#2a3f5f\",\"gridcolor\":\"white\",\"linecolor\":\"white\",\"minorgridcolor\":\"white\",\"startlinecolor\":\"#2a3f5f\"},\"type\":\"carpet\"}],\"table\":[{\"cells\":{\"fill\":{\"color\":\"#EBF0F8\"},\"line\":{\"color\":\"white\"}},\"header\":{\"fill\":{\"color\":\"#C8D4E3\"},\"line\":{\"color\":\"white\"}},\"type\":\"table\"}],\"barpolar\":[{\"marker\":{\"line\":{\"color\":\"#E5ECF6\",\"width\":0.5},\"pattern\":{\"fillmode\":\"overlay\",\"size\":10,\"solidity\":0.2}},\"type\":\"barpolar\"}],\"pie\":[{\"automargin\":true,\"type\":\"pie\"}]},\"layout\":{\"autotypenumbers\":\"strict\",\"colorway\":[\"#636efa\",\"#EF553B\",\"#00cc96\",\"#ab63fa\",\"#FFA15A\",\"#19d3f3\",\"#FF6692\",\"#B6E880\",\"#FF97FF\",\"#FECB52\"],\"font\":{\"color\":\"#2a3f5f\"},\"hovermode\":\"closest\",\"hoverlabel\":{\"align\":\"left\"},\"paper_bgcolor\":\"white\",\"plot_bgcolor\":\"#E5ECF6\",\"polar\":{\"bgcolor\":\"#E5ECF6\",\"angularaxis\":{\"gridcolor\":\"white\",\"linecolor\":\"white\",\"ticks\":\"\"},\"radialaxis\":{\"gridcolor\":\"white\",\"linecolor\":\"white\",\"ticks\":\"\"}},\"ternary\":{\"bgcolor\":\"#E5ECF6\",\"aaxis\":{\"gridcolor\":\"white\",\"linecolor\":\"white\",\"ticks\":\"\"},\"baxis\":{\"gridcolor\":\"white\",\"linecolor\":\"white\",\"ticks\":\"\"},\"caxis\":{\"gridcolor\":\"white\",\"linecolor\":\"white\",\"ticks\":\"\"}},\"coloraxis\":{\"colorbar\":{\"outlinewidth\":0,\"ticks\":\"\"}},\"colorscale\":{\"sequential\":[[0.0,\"#0d0887\"],[0.1111111111111111,\"#46039f\"],[0.2222222222222222,\"#7201a8\"],[0.3333333333333333,\"#9c179e\"],[0.4444444444444444,\"#bd3786\"],[0.5555555555555556,\"#d8576b\"],[0.6666666666666666,\"#ed7953\"],[0.7777777777777778,\"#fb9f3a\"],[0.8888888888888888,\"#fdca26\"],[1.0,\"#f0f921\"]],\"sequentialminus\":[[0.0,\"#0d0887\"],[0.1111111111111111,\"#46039f\"],[0.2222222222222222,\"#7201a8\"],[0.3333333333333333,\"#9c179e\"],[0.4444444444444444,\"#bd3786\"],[0.5555555555555556,\"#d8576b\"],[0.6666666666666666,\"#ed7953\"],[0.7777777777777778,\"#fb9f3a\"],[0.8888888888888888,\"#fdca26\"],[1.0,\"#f0f921\"]],\"diverging\":[[0,\"#8e0152\"],[0.1,\"#c51b7d\"],[0.2,\"#de77ae\"],[0.3,\"#f1b6da\"],[0.4,\"#fde0ef\"],[0.5,\"#f7f7f7\"],[0.6,\"#e6f5d0\"],[0.7,\"#b8e186\"],[0.8,\"#7fbc41\"],[0.9,\"#4d9221\"],[1,\"#276419\"]]},\"xaxis\":{\"gridcolor\":\"white\",\"linecolor\":\"white\",\"ticks\":\"\",\"title\":{\"standoff\":15},\"zerolinecolor\":\"white\",\"automargin\":true,\"zerolinewidth\":2},\"yaxis\":{\"gridcolor\":\"white\",\"linecolor\":\"white\",\"ticks\":\"\",\"title\":{\"standoff\":15},\"zerolinecolor\":\"white\",\"automargin\":true,\"zerolinewidth\":2},\"scene\":{\"xaxis\":{\"backgroundcolor\":\"#E5ECF6\",\"gridcolor\":\"white\",\"linecolor\":\"white\",\"showbackground\":true,\"ticks\":\"\",\"zerolinecolor\":\"white\",\"gridwidth\":2},\"yaxis\":{\"backgroundcolor\":\"#E5ECF6\",\"gridcolor\":\"white\",\"linecolor\":\"white\",\"showbackground\":true,\"ticks\":\"\",\"zerolinecolor\":\"white\",\"gridwidth\":2},\"zaxis\":{\"backgroundcolor\":\"#E5ECF6\",\"gridcolor\":\"white\",\"linecolor\":\"white\",\"showbackground\":true,\"ticks\":\"\",\"zerolinecolor\":\"white\",\"gridwidth\":2}},\"shapedefaults\":{\"line\":{\"color\":\"#2a3f5f\"}},\"annotationdefaults\":{\"arrowcolor\":\"#2a3f5f\",\"arrowhead\":0,\"arrowwidth\":1},\"geo\":{\"bgcolor\":\"white\",\"landcolor\":\"#E5ECF6\",\"subunitcolor\":\"white\",\"showland\":true,\"showlakes\":true,\"lakecolor\":\"white\"},\"title\":{\"x\":0.05},\"mapbox\":{\"style\":\"light\"}}},\"xaxis\":{\"anchor\":\"y\",\"domain\":[0.0,1.0]},\"yaxis\":{\"anchor\":\"x\",\"domain\":[0.0,1.0]},\"legend\":{\"orientation\":\"h\",\"yanchor\":\"bottom\",\"y\":1.02,\"xanchor\":\"right\",\"x\":1},\"title\":{\"text\":\"Traffic Violation Analyses per Day\"},\"showlegend\":true},                        {\"responsive\": true}                    ).then(function(){\n",
              "                            \n",
              "var gd = document.getElementById('4af56098-c91b-45dc-aee8-a7e241bcb30d');\n",
              "var x = new MutationObserver(function (mutations, observer) {{\n",
              "        var display = window.getComputedStyle(gd).display;\n",
              "        if (!display || display === 'none') {{\n",
              "            console.log([gd, 'removed!']);\n",
              "            Plotly.purge(gd);\n",
              "            observer.disconnect();\n",
              "        }}\n",
              "}});\n",
              "\n",
              "// Listen for the removal of the full notebook cells\n",
              "var notebookContainer = gd.closest('#notebook-container');\n",
              "if (notebookContainer) {{\n",
              "    x.observe(notebookContainer, {childList: true});\n",
              "}}\n",
              "\n",
              "// Listen for the clearing of the current output cell\n",
              "var outputEl = gd.closest('.output');\n",
              "if (outputEl) {{\n",
              "    x.observe(outputEl, {childList: true});\n",
              "}}\n",
              "\n",
              "                        })                };                            </script>        </div>\n",
              "</body>\n",
              "</html>"
            ]
          },
          "metadata": {}
        }
      ]
    },
    {
      "cell_type": "markdown",
      "source": [
        "Lets have a closer look on the Brazilian States"
      ],
      "metadata": {
        "id": "V05dSful2PC8"
      }
    },
    {
      "cell_type": "code",
      "source": [
        "from pyspark.sql.functions import count, sum\n",
        "from pyspark.sql.window import Window\n",
        "\n",
        "# Calculate the sum of infractions by state\n",
        "violations_per_state = TV22.groupBy('UF_Infração').agg(count('*').alias('Violations_Count'))\n",
        "\n",
        "# Calculate the percentage of infractions for each state\n",
        "state_percent = (TV22.groupBy(\"UF_Infração\").agg((count(\"*\") / TV22.count()).alias(\"%violations_Count\"))).orderBy(col(\"%violations_Count\").desc())\n",
        "\n",
        "# Calculate the percentage of infractions for each state (cummulative)\n",
        "windowSpec = Window.orderBy(col(\"%violations_Count\").desc())\n",
        "cum_stata_percent= (\n",
        "    state_percent\n",
        "    .withColumn(\"cumulative_sum\", sum(\"%violations_Count\").over(windowSpec))\n",
        ")\n",
        "\n",
        "# Join the calculated frequencies with the violations_per_state DataFrame\n",
        "violations_per_state = violations_per_state.join(cum_stata_percent, \"UF_Infração\", \"left\").orderBy(col(\"%violations_Count\").desc())\n",
        "\n",
        "# Print the DataFrame\n",
        "violations_per_state.show(27)"
      ],
      "metadata": {
        "colab": {
          "base_uri": "https://localhost:8080/"
        },
        "id": "EI6pemoA2FOV",
        "outputId": "c6d7e911-6499-4ce2-e85c-38fcce642daf"
      },
      "execution_count": 450,
      "outputs": [
        {
          "output_type": "stream",
          "name": "stdout",
          "text": [
            "+-----------+----------------+--------------------+-------------------+\n",
            "|UF_Infração|Violations_Count|   %violations_Count|     cumulative_sum|\n",
            "+-----------+----------------+--------------------+-------------------+\n",
            "|         MG|          448672| 0.10849220279998442|0.10849220279998442|\n",
            "|         RJ|          418981| 0.10131269974801252|0.20980490254799694|\n",
            "|         BA|          417092| 0.10085592559876949|0.31066082814676643|\n",
            "|         SP|          378074| 0.09142108507194859|  0.402081913218715|\n",
            "|         RS|          252059| 0.06094972751934882| 0.4630316407380638|\n",
            "|         MS|          248186| 0.06001320751933915| 0.5230448482574029|\n",
            "|         PR|          237359| 0.05739515896780165| 0.5804400072252046|\n",
            "|         GO|          230375| 0.05570637619474006| 0.6361463834199447|\n",
            "|         SC|          178040| 0.04305138672907877| 0.6791977701490235|\n",
            "|         MT|          172734| 0.04176835674713936| 0.7209661268961629|\n",
            "|         ES|          150991| 0.03651073878684752| 0.7574768656830104|\n",
            "|         PE|          136373|0.032975998440825986| 0.7904528641238364|\n",
            "|         CE|          127407| 0.03080795343176667| 0.8212608175556031|\n",
            "|         RO|           93106| 0.02251371833743882|  0.843774535893042|\n",
            "|         PI|           85095|0.020576599380537842| 0.8643511352735798|\n",
            "|         PA|           77960| 0.01885130369242294| 0.8832024389660027|\n",
            "|         PB|           77884|0.018832926331204057| 0.9020353652972067|\n",
            "|         RN|           76745|0.018557507720305268|  0.920592873017512|\n",
            "|         DF|           73745|0.017832085566928293| 0.9384249585844403|\n",
            "|         MA|           73250|0.017712390911621093| 0.9561373494960614|\n",
            "|         AL|           40597| 0.00981665438688166| 0.9659540038829431|\n",
            "|         TO|           37861| 0.00915506938300186| 0.9751090732659449|\n",
            "|         SE|           37545|0.009078658249512818| 0.9841877315154577|\n",
            "|         AM|           20102|0.004860812042394638| 0.9890485435578523|\n",
            "|         AP|           17726|0.004286277696920075| 0.9933348212547723|\n",
            "|         AC|           15531|0.003755510488032...| 0.9970903317428049|\n",
            "|         RR|           12033|0.002909668257195...|                1.0|\n",
            "+-----------+----------------+--------------------+-------------------+\n",
            "\n"
          ]
        }
      ]
    },
    {
      "cell_type": "code",
      "source": [
        "# Import pandas lib\n",
        "import pandas as pd\n",
        "\n",
        "# Converting Spark Dataframe to Pandas Dataframe\n",
        "df_violations_per_state = violations_per_state.toPandas()"
      ],
      "metadata": {
        "id": "4PUu5_wQ46gq"
      },
      "execution_count": 451,
      "outputs": []
    },
    {
      "cell_type": "code",
      "source": [
        "df_violations_per_state.head()"
      ],
      "metadata": {
        "colab": {
          "base_uri": "https://localhost:8080/",
          "height": 206
        },
        "id": "ixUrGq525JCd",
        "outputId": "e8639b17-c99b-4371-9447-1f76b6d58e92"
      },
      "execution_count": 452,
      "outputs": [
        {
          "output_type": "execute_result",
          "data": {
            "text/plain": [
              "  UF_Infração  Violations_Count  %violations_Count  cumulative_sum\n",
              "0          MG            448672           0.108492        0.108492\n",
              "1          RJ            418981           0.101313        0.209805\n",
              "2          BA            417092           0.100856        0.310661\n",
              "3          SP            378074           0.091421        0.402082\n",
              "4          RS            252059           0.060950        0.463032"
            ],
            "text/html": [
              "\n",
              "  <div id=\"df-dfda9d0c-bf6d-4054-b60d-c4b3913e40f7\">\n",
              "    <div class=\"colab-df-container\">\n",
              "      <div>\n",
              "<style scoped>\n",
              "    .dataframe tbody tr th:only-of-type {\n",
              "        vertical-align: middle;\n",
              "    }\n",
              "\n",
              "    .dataframe tbody tr th {\n",
              "        vertical-align: top;\n",
              "    }\n",
              "\n",
              "    .dataframe thead th {\n",
              "        text-align: right;\n",
              "    }\n",
              "</style>\n",
              "<table border=\"1\" class=\"dataframe\">\n",
              "  <thead>\n",
              "    <tr style=\"text-align: right;\">\n",
              "      <th></th>\n",
              "      <th>UF_Infração</th>\n",
              "      <th>Violations_Count</th>\n",
              "      <th>%violations_Count</th>\n",
              "      <th>cumulative_sum</th>\n",
              "    </tr>\n",
              "  </thead>\n",
              "  <tbody>\n",
              "    <tr>\n",
              "      <th>0</th>\n",
              "      <td>MG</td>\n",
              "      <td>448672</td>\n",
              "      <td>0.108492</td>\n",
              "      <td>0.108492</td>\n",
              "    </tr>\n",
              "    <tr>\n",
              "      <th>1</th>\n",
              "      <td>RJ</td>\n",
              "      <td>418981</td>\n",
              "      <td>0.101313</td>\n",
              "      <td>0.209805</td>\n",
              "    </tr>\n",
              "    <tr>\n",
              "      <th>2</th>\n",
              "      <td>BA</td>\n",
              "      <td>417092</td>\n",
              "      <td>0.100856</td>\n",
              "      <td>0.310661</td>\n",
              "    </tr>\n",
              "    <tr>\n",
              "      <th>3</th>\n",
              "      <td>SP</td>\n",
              "      <td>378074</td>\n",
              "      <td>0.091421</td>\n",
              "      <td>0.402082</td>\n",
              "    </tr>\n",
              "    <tr>\n",
              "      <th>4</th>\n",
              "      <td>RS</td>\n",
              "      <td>252059</td>\n",
              "      <td>0.060950</td>\n",
              "      <td>0.463032</td>\n",
              "    </tr>\n",
              "  </tbody>\n",
              "</table>\n",
              "</div>\n",
              "      <button class=\"colab-df-convert\" onclick=\"convertToInteractive('df-dfda9d0c-bf6d-4054-b60d-c4b3913e40f7')\"\n",
              "              title=\"Convert this dataframe to an interactive table.\"\n",
              "              style=\"display:none;\">\n",
              "        \n",
              "  <svg xmlns=\"http://www.w3.org/2000/svg\" height=\"24px\"viewBox=\"0 0 24 24\"\n",
              "       width=\"24px\">\n",
              "    <path d=\"M0 0h24v24H0V0z\" fill=\"none\"/>\n",
              "    <path d=\"M18.56 5.44l.94 2.06.94-2.06 2.06-.94-2.06-.94-.94-2.06-.94 2.06-2.06.94zm-11 1L8.5 8.5l.94-2.06 2.06-.94-2.06-.94L8.5 2.5l-.94 2.06-2.06.94zm10 10l.94 2.06.94-2.06 2.06-.94-2.06-.94-.94-2.06-.94 2.06-2.06.94z\"/><path d=\"M17.41 7.96l-1.37-1.37c-.4-.4-.92-.59-1.43-.59-.52 0-1.04.2-1.43.59L10.3 9.45l-7.72 7.72c-.78.78-.78 2.05 0 2.83L4 21.41c.39.39.9.59 1.41.59.51 0 1.02-.2 1.41-.59l7.78-7.78 2.81-2.81c.8-.78.8-2.07 0-2.86zM5.41 20L4 18.59l7.72-7.72 1.47 1.35L5.41 20z\"/>\n",
              "  </svg>\n",
              "      </button>\n",
              "      \n",
              "  <style>\n",
              "    .colab-df-container {\n",
              "      display:flex;\n",
              "      flex-wrap:wrap;\n",
              "      gap: 12px;\n",
              "    }\n",
              "\n",
              "    .colab-df-convert {\n",
              "      background-color: #E8F0FE;\n",
              "      border: none;\n",
              "      border-radius: 50%;\n",
              "      cursor: pointer;\n",
              "      display: none;\n",
              "      fill: #1967D2;\n",
              "      height: 32px;\n",
              "      padding: 0 0 0 0;\n",
              "      width: 32px;\n",
              "    }\n",
              "\n",
              "    .colab-df-convert:hover {\n",
              "      background-color: #E2EBFA;\n",
              "      box-shadow: 0px 1px 2px rgba(60, 64, 67, 0.3), 0px 1px 3px 1px rgba(60, 64, 67, 0.15);\n",
              "      fill: #174EA6;\n",
              "    }\n",
              "\n",
              "    [theme=dark] .colab-df-convert {\n",
              "      background-color: #3B4455;\n",
              "      fill: #D2E3FC;\n",
              "    }\n",
              "\n",
              "    [theme=dark] .colab-df-convert:hover {\n",
              "      background-color: #434B5C;\n",
              "      box-shadow: 0px 1px 3px 1px rgba(0, 0, 0, 0.15);\n",
              "      filter: drop-shadow(0px 1px 2px rgba(0, 0, 0, 0.3));\n",
              "      fill: #FFFFFF;\n",
              "    }\n",
              "  </style>\n",
              "\n",
              "      <script>\n",
              "        const buttonEl =\n",
              "          document.querySelector('#df-dfda9d0c-bf6d-4054-b60d-c4b3913e40f7 button.colab-df-convert');\n",
              "        buttonEl.style.display =\n",
              "          google.colab.kernel.accessAllowed ? 'block' : 'none';\n",
              "\n",
              "        async function convertToInteractive(key) {\n",
              "          const element = document.querySelector('#df-dfda9d0c-bf6d-4054-b60d-c4b3913e40f7');\n",
              "          const dataTable =\n",
              "            await google.colab.kernel.invokeFunction('convertToInteractive',\n",
              "                                                     [key], {});\n",
              "          if (!dataTable) return;\n",
              "\n",
              "          const docLinkHtml = 'Like what you see? Visit the ' +\n",
              "            '<a target=\"_blank\" href=https://colab.research.google.com/notebooks/data_table.ipynb>data table notebook</a>'\n",
              "            + ' to learn more about interactive tables.';\n",
              "          element.innerHTML = '';\n",
              "          dataTable['output_type'] = 'display_data';\n",
              "          await google.colab.output.renderOutput(dataTable, element);\n",
              "          const docLink = document.createElement('div');\n",
              "          docLink.innerHTML = docLinkHtml;\n",
              "          element.appendChild(docLink);\n",
              "        }\n",
              "      </script>\n",
              "    </div>\n",
              "  </div>\n",
              "  "
            ]
          },
          "metadata": {},
          "execution_count": 452
        }
      ]
    },
    {
      "cell_type": "code",
      "source": [
        "# Gráfico de funil\n",
        "px.funnel(\n",
        "    df_violations_per_state[ df_violations_per_state['cumulative_sum'] < 0.5 ],\n",
        "    y='UF_Infração',\n",
        "    x='Violations_Count',\n",
        "    title='State Concentration of 50% Traffic Infractions'\n",
        ")"
      ],
      "metadata": {
        "colab": {
          "base_uri": "https://localhost:8080/",
          "height": 542
        },
        "id": "cZrgzc0E49ZZ",
        "outputId": "9760ff12-6c60-426f-e290-d11928478869"
      },
      "execution_count": 453,
      "outputs": [
        {
          "output_type": "display_data",
          "data": {
            "text/html": [
              "<html>\n",
              "<head><meta charset=\"utf-8\" /></head>\n",
              "<body>\n",
              "    <div>            <script src=\"https://cdnjs.cloudflare.com/ajax/libs/mathjax/2.7.5/MathJax.js?config=TeX-AMS-MML_SVG\"></script><script type=\"text/javascript\">if (window.MathJax && window.MathJax.Hub && window.MathJax.Hub.Config) {window.MathJax.Hub.Config({SVG: {font: \"STIX-Web\"}});}</script>                <script type=\"text/javascript\">window.PlotlyConfig = {MathJaxConfig: 'local'};</script>\n",
              "        <script src=\"https://cdn.plot.ly/plotly-2.18.2.min.js\"></script>                <div id=\"a2893784-9a4c-4a7c-8c05-0ef868ab21b3\" class=\"plotly-graph-div\" style=\"height:525px; width:100%;\"></div>            <script type=\"text/javascript\">                                    window.PLOTLYENV=window.PLOTLYENV || {};                                    if (document.getElementById(\"a2893784-9a4c-4a7c-8c05-0ef868ab21b3\")) {                    Plotly.newPlot(                        \"a2893784-9a4c-4a7c-8c05-0ef868ab21b3\",                        [{\"hovertemplate\":\"Violations_Count=%{x}<br>UF_Infra\\u00e7\\u00e3o=%{y}<extra></extra>\",\"legendgroup\":\"\",\"marker\":{\"color\":\"#636efa\"},\"name\":\"\",\"orientation\":\"h\",\"showlegend\":false,\"x\":[448672,418981,417092,378074,252059],\"xaxis\":\"x\",\"y\":[\"MG\",\"RJ\",\"BA\",\"SP\",\"RS\"],\"yaxis\":\"y\",\"type\":\"funnel\"}],                        {\"template\":{\"data\":{\"histogram2dcontour\":[{\"type\":\"histogram2dcontour\",\"colorbar\":{\"outlinewidth\":0,\"ticks\":\"\"},\"colorscale\":[[0.0,\"#0d0887\"],[0.1111111111111111,\"#46039f\"],[0.2222222222222222,\"#7201a8\"],[0.3333333333333333,\"#9c179e\"],[0.4444444444444444,\"#bd3786\"],[0.5555555555555556,\"#d8576b\"],[0.6666666666666666,\"#ed7953\"],[0.7777777777777778,\"#fb9f3a\"],[0.8888888888888888,\"#fdca26\"],[1.0,\"#f0f921\"]]}],\"choropleth\":[{\"type\":\"choropleth\",\"colorbar\":{\"outlinewidth\":0,\"ticks\":\"\"}}],\"histogram2d\":[{\"type\":\"histogram2d\",\"colorbar\":{\"outlinewidth\":0,\"ticks\":\"\"},\"colorscale\":[[0.0,\"#0d0887\"],[0.1111111111111111,\"#46039f\"],[0.2222222222222222,\"#7201a8\"],[0.3333333333333333,\"#9c179e\"],[0.4444444444444444,\"#bd3786\"],[0.5555555555555556,\"#d8576b\"],[0.6666666666666666,\"#ed7953\"],[0.7777777777777778,\"#fb9f3a\"],[0.8888888888888888,\"#fdca26\"],[1.0,\"#f0f921\"]]}],\"heatmap\":[{\"type\":\"heatmap\",\"colorbar\":{\"outlinewidth\":0,\"ticks\":\"\"},\"colorscale\":[[0.0,\"#0d0887\"],[0.1111111111111111,\"#46039f\"],[0.2222222222222222,\"#7201a8\"],[0.3333333333333333,\"#9c179e\"],[0.4444444444444444,\"#bd3786\"],[0.5555555555555556,\"#d8576b\"],[0.6666666666666666,\"#ed7953\"],[0.7777777777777778,\"#fb9f3a\"],[0.8888888888888888,\"#fdca26\"],[1.0,\"#f0f921\"]]}],\"heatmapgl\":[{\"type\":\"heatmapgl\",\"colorbar\":{\"outlinewidth\":0,\"ticks\":\"\"},\"colorscale\":[[0.0,\"#0d0887\"],[0.1111111111111111,\"#46039f\"],[0.2222222222222222,\"#7201a8\"],[0.3333333333333333,\"#9c179e\"],[0.4444444444444444,\"#bd3786\"],[0.5555555555555556,\"#d8576b\"],[0.6666666666666666,\"#ed7953\"],[0.7777777777777778,\"#fb9f3a\"],[0.8888888888888888,\"#fdca26\"],[1.0,\"#f0f921\"]]}],\"contourcarpet\":[{\"type\":\"contourcarpet\",\"colorbar\":{\"outlinewidth\":0,\"ticks\":\"\"}}],\"contour\":[{\"type\":\"contour\",\"colorbar\":{\"outlinewidth\":0,\"ticks\":\"\"},\"colorscale\":[[0.0,\"#0d0887\"],[0.1111111111111111,\"#46039f\"],[0.2222222222222222,\"#7201a8\"],[0.3333333333333333,\"#9c179e\"],[0.4444444444444444,\"#bd3786\"],[0.5555555555555556,\"#d8576b\"],[0.6666666666666666,\"#ed7953\"],[0.7777777777777778,\"#fb9f3a\"],[0.8888888888888888,\"#fdca26\"],[1.0,\"#f0f921\"]]}],\"surface\":[{\"type\":\"surface\",\"colorbar\":{\"outlinewidth\":0,\"ticks\":\"\"},\"colorscale\":[[0.0,\"#0d0887\"],[0.1111111111111111,\"#46039f\"],[0.2222222222222222,\"#7201a8\"],[0.3333333333333333,\"#9c179e\"],[0.4444444444444444,\"#bd3786\"],[0.5555555555555556,\"#d8576b\"],[0.6666666666666666,\"#ed7953\"],[0.7777777777777778,\"#fb9f3a\"],[0.8888888888888888,\"#fdca26\"],[1.0,\"#f0f921\"]]}],\"mesh3d\":[{\"type\":\"mesh3d\",\"colorbar\":{\"outlinewidth\":0,\"ticks\":\"\"}}],\"scatter\":[{\"fillpattern\":{\"fillmode\":\"overlay\",\"size\":10,\"solidity\":0.2},\"type\":\"scatter\"}],\"parcoords\":[{\"type\":\"parcoords\",\"line\":{\"colorbar\":{\"outlinewidth\":0,\"ticks\":\"\"}}}],\"scatterpolargl\":[{\"type\":\"scatterpolargl\",\"marker\":{\"colorbar\":{\"outlinewidth\":0,\"ticks\":\"\"}}}],\"bar\":[{\"error_x\":{\"color\":\"#2a3f5f\"},\"error_y\":{\"color\":\"#2a3f5f\"},\"marker\":{\"line\":{\"color\":\"#E5ECF6\",\"width\":0.5},\"pattern\":{\"fillmode\":\"overlay\",\"size\":10,\"solidity\":0.2}},\"type\":\"bar\"}],\"scattergeo\":[{\"type\":\"scattergeo\",\"marker\":{\"colorbar\":{\"outlinewidth\":0,\"ticks\":\"\"}}}],\"scatterpolar\":[{\"type\":\"scatterpolar\",\"marker\":{\"colorbar\":{\"outlinewidth\":0,\"ticks\":\"\"}}}],\"histogram\":[{\"marker\":{\"pattern\":{\"fillmode\":\"overlay\",\"size\":10,\"solidity\":0.2}},\"type\":\"histogram\"}],\"scattergl\":[{\"type\":\"scattergl\",\"marker\":{\"colorbar\":{\"outlinewidth\":0,\"ticks\":\"\"}}}],\"scatter3d\":[{\"type\":\"scatter3d\",\"line\":{\"colorbar\":{\"outlinewidth\":0,\"ticks\":\"\"}},\"marker\":{\"colorbar\":{\"outlinewidth\":0,\"ticks\":\"\"}}}],\"scattermapbox\":[{\"type\":\"scattermapbox\",\"marker\":{\"colorbar\":{\"outlinewidth\":0,\"ticks\":\"\"}}}],\"scatterternary\":[{\"type\":\"scatterternary\",\"marker\":{\"colorbar\":{\"outlinewidth\":0,\"ticks\":\"\"}}}],\"scattercarpet\":[{\"type\":\"scattercarpet\",\"marker\":{\"colorbar\":{\"outlinewidth\":0,\"ticks\":\"\"}}}],\"carpet\":[{\"aaxis\":{\"endlinecolor\":\"#2a3f5f\",\"gridcolor\":\"white\",\"linecolor\":\"white\",\"minorgridcolor\":\"white\",\"startlinecolor\":\"#2a3f5f\"},\"baxis\":{\"endlinecolor\":\"#2a3f5f\",\"gridcolor\":\"white\",\"linecolor\":\"white\",\"minorgridcolor\":\"white\",\"startlinecolor\":\"#2a3f5f\"},\"type\":\"carpet\"}],\"table\":[{\"cells\":{\"fill\":{\"color\":\"#EBF0F8\"},\"line\":{\"color\":\"white\"}},\"header\":{\"fill\":{\"color\":\"#C8D4E3\"},\"line\":{\"color\":\"white\"}},\"type\":\"table\"}],\"barpolar\":[{\"marker\":{\"line\":{\"color\":\"#E5ECF6\",\"width\":0.5},\"pattern\":{\"fillmode\":\"overlay\",\"size\":10,\"solidity\":0.2}},\"type\":\"barpolar\"}],\"pie\":[{\"automargin\":true,\"type\":\"pie\"}]},\"layout\":{\"autotypenumbers\":\"strict\",\"colorway\":[\"#636efa\",\"#EF553B\",\"#00cc96\",\"#ab63fa\",\"#FFA15A\",\"#19d3f3\",\"#FF6692\",\"#B6E880\",\"#FF97FF\",\"#FECB52\"],\"font\":{\"color\":\"#2a3f5f\"},\"hovermode\":\"closest\",\"hoverlabel\":{\"align\":\"left\"},\"paper_bgcolor\":\"white\",\"plot_bgcolor\":\"#E5ECF6\",\"polar\":{\"bgcolor\":\"#E5ECF6\",\"angularaxis\":{\"gridcolor\":\"white\",\"linecolor\":\"white\",\"ticks\":\"\"},\"radialaxis\":{\"gridcolor\":\"white\",\"linecolor\":\"white\",\"ticks\":\"\"}},\"ternary\":{\"bgcolor\":\"#E5ECF6\",\"aaxis\":{\"gridcolor\":\"white\",\"linecolor\":\"white\",\"ticks\":\"\"},\"baxis\":{\"gridcolor\":\"white\",\"linecolor\":\"white\",\"ticks\":\"\"},\"caxis\":{\"gridcolor\":\"white\",\"linecolor\":\"white\",\"ticks\":\"\"}},\"coloraxis\":{\"colorbar\":{\"outlinewidth\":0,\"ticks\":\"\"}},\"colorscale\":{\"sequential\":[[0.0,\"#0d0887\"],[0.1111111111111111,\"#46039f\"],[0.2222222222222222,\"#7201a8\"],[0.3333333333333333,\"#9c179e\"],[0.4444444444444444,\"#bd3786\"],[0.5555555555555556,\"#d8576b\"],[0.6666666666666666,\"#ed7953\"],[0.7777777777777778,\"#fb9f3a\"],[0.8888888888888888,\"#fdca26\"],[1.0,\"#f0f921\"]],\"sequentialminus\":[[0.0,\"#0d0887\"],[0.1111111111111111,\"#46039f\"],[0.2222222222222222,\"#7201a8\"],[0.3333333333333333,\"#9c179e\"],[0.4444444444444444,\"#bd3786\"],[0.5555555555555556,\"#d8576b\"],[0.6666666666666666,\"#ed7953\"],[0.7777777777777778,\"#fb9f3a\"],[0.8888888888888888,\"#fdca26\"],[1.0,\"#f0f921\"]],\"diverging\":[[0,\"#8e0152\"],[0.1,\"#c51b7d\"],[0.2,\"#de77ae\"],[0.3,\"#f1b6da\"],[0.4,\"#fde0ef\"],[0.5,\"#f7f7f7\"],[0.6,\"#e6f5d0\"],[0.7,\"#b8e186\"],[0.8,\"#7fbc41\"],[0.9,\"#4d9221\"],[1,\"#276419\"]]},\"xaxis\":{\"gridcolor\":\"white\",\"linecolor\":\"white\",\"ticks\":\"\",\"title\":{\"standoff\":15},\"zerolinecolor\":\"white\",\"automargin\":true,\"zerolinewidth\":2},\"yaxis\":{\"gridcolor\":\"white\",\"linecolor\":\"white\",\"ticks\":\"\",\"title\":{\"standoff\":15},\"zerolinecolor\":\"white\",\"automargin\":true,\"zerolinewidth\":2},\"scene\":{\"xaxis\":{\"backgroundcolor\":\"#E5ECF6\",\"gridcolor\":\"white\",\"linecolor\":\"white\",\"showbackground\":true,\"ticks\":\"\",\"zerolinecolor\":\"white\",\"gridwidth\":2},\"yaxis\":{\"backgroundcolor\":\"#E5ECF6\",\"gridcolor\":\"white\",\"linecolor\":\"white\",\"showbackground\":true,\"ticks\":\"\",\"zerolinecolor\":\"white\",\"gridwidth\":2},\"zaxis\":{\"backgroundcolor\":\"#E5ECF6\",\"gridcolor\":\"white\",\"linecolor\":\"white\",\"showbackground\":true,\"ticks\":\"\",\"zerolinecolor\":\"white\",\"gridwidth\":2}},\"shapedefaults\":{\"line\":{\"color\":\"#2a3f5f\"}},\"annotationdefaults\":{\"arrowcolor\":\"#2a3f5f\",\"arrowhead\":0,\"arrowwidth\":1},\"geo\":{\"bgcolor\":\"white\",\"landcolor\":\"#E5ECF6\",\"subunitcolor\":\"white\",\"showland\":true,\"showlakes\":true,\"lakecolor\":\"white\"},\"title\":{\"x\":0.05},\"mapbox\":{\"style\":\"light\"}}},\"xaxis\":{\"anchor\":\"y\",\"domain\":[0.0,1.0],\"title\":{\"text\":\"Violations_Count\"}},\"yaxis\":{\"anchor\":\"x\",\"domain\":[0.0,1.0],\"title\":{\"text\":\"UF_Infra\\u00e7\\u00e3o\"}},\"legend\":{\"tracegroupgap\":0},\"title\":{\"text\":\"State Concentration of 50% Traffic Infractions\"}},                        {\"responsive\": true}                    ).then(function(){\n",
              "                            \n",
              "var gd = document.getElementById('a2893784-9a4c-4a7c-8c05-0ef868ab21b3');\n",
              "var x = new MutationObserver(function (mutations, observer) {{\n",
              "        var display = window.getComputedStyle(gd).display;\n",
              "        if (!display || display === 'none') {{\n",
              "            console.log([gd, 'removed!']);\n",
              "            Plotly.purge(gd);\n",
              "            observer.disconnect();\n",
              "        }}\n",
              "}});\n",
              "\n",
              "// Listen for the removal of the full notebook cells\n",
              "var notebookContainer = gd.closest('#notebook-container');\n",
              "if (notebookContainer) {{\n",
              "    x.observe(notebookContainer, {childList: true});\n",
              "}}\n",
              "\n",
              "// Listen for the clearing of the current output cell\n",
              "var outputEl = gd.closest('.output');\n",
              "if (outputEl) {{\n",
              "    x.observe(outputEl, {childList: true});\n",
              "}}\n",
              "\n",
              "                        })                };                            </script>        </div>\n",
              "</body>\n",
              "</html>"
            ]
          },
          "metadata": {}
        }
      ]
    },
    {
      "cell_type": "code",
      "source": [
        "px.bar(\n",
        "    df_violations_per_state,\n",
        "    x='UF_Infração',\n",
        "    y='cumulative_sum',\n",
        "    title='Accumulated Infraction by state'\n",
        ")"
      ],
      "metadata": {
        "colab": {
          "base_uri": "https://localhost:8080/",
          "height": 542
        },
        "id": "g7d2w_YEFpHk",
        "outputId": "5841b848-9414-41d9-cdf6-66eb90673b78"
      },
      "execution_count": 454,
      "outputs": [
        {
          "output_type": "display_data",
          "data": {
            "text/html": [
              "<html>\n",
              "<head><meta charset=\"utf-8\" /></head>\n",
              "<body>\n",
              "    <div>            <script src=\"https://cdnjs.cloudflare.com/ajax/libs/mathjax/2.7.5/MathJax.js?config=TeX-AMS-MML_SVG\"></script><script type=\"text/javascript\">if (window.MathJax && window.MathJax.Hub && window.MathJax.Hub.Config) {window.MathJax.Hub.Config({SVG: {font: \"STIX-Web\"}});}</script>                <script type=\"text/javascript\">window.PlotlyConfig = {MathJaxConfig: 'local'};</script>\n",
              "        <script src=\"https://cdn.plot.ly/plotly-2.18.2.min.js\"></script>                <div id=\"47be966e-c02b-4e82-9991-499e5d5b0ff6\" class=\"plotly-graph-div\" style=\"height:525px; width:100%;\"></div>            <script type=\"text/javascript\">                                    window.PLOTLYENV=window.PLOTLYENV || {};                                    if (document.getElementById(\"47be966e-c02b-4e82-9991-499e5d5b0ff6\")) {                    Plotly.newPlot(                        \"47be966e-c02b-4e82-9991-499e5d5b0ff6\",                        [{\"alignmentgroup\":\"True\",\"hovertemplate\":\"UF_Infra\\u00e7\\u00e3o=%{x}<br>cumulative_sum=%{y}<extra></extra>\",\"legendgroup\":\"\",\"marker\":{\"color\":\"#636efa\",\"pattern\":{\"shape\":\"\"}},\"name\":\"\",\"offsetgroup\":\"\",\"orientation\":\"v\",\"showlegend\":false,\"textposition\":\"auto\",\"x\":[\"MG\",\"RJ\",\"BA\",\"SP\",\"RS\",\"MS\",\"PR\",\"GO\",\"SC\",\"MT\",\"ES\",\"PE\",\"CE\",\"RO\",\"PI\",\"PA\",\"PB\",\"RN\",\"DF\",\"MA\",\"AL\",\"TO\",\"SE\",\"AM\",\"AP\",\"AC\",\"RR\"],\"xaxis\":\"x\",\"y\":[0.10849220279998442,0.20980490254799694,0.31066082814676643,0.402081913218715,0.4630316407380638,0.5230448482574029,0.5804400072252046,0.6361463834199447,0.6791977701490235,0.7209661268961629,0.7574768656830104,0.7904528641238364,0.8212608175556031,0.843774535893042,0.8643511352735798,0.8832024389660027,0.9020353652972067,0.920592873017512,0.9384249585844403,0.9561373494960614,0.9659540038829431,0.9751090732659449,0.9841877315154577,0.9890485435578523,0.9933348212547723,0.9970903317428049,1.0],\"yaxis\":\"y\",\"type\":\"bar\"}],                        {\"template\":{\"data\":{\"histogram2dcontour\":[{\"type\":\"histogram2dcontour\",\"colorbar\":{\"outlinewidth\":0,\"ticks\":\"\"},\"colorscale\":[[0.0,\"#0d0887\"],[0.1111111111111111,\"#46039f\"],[0.2222222222222222,\"#7201a8\"],[0.3333333333333333,\"#9c179e\"],[0.4444444444444444,\"#bd3786\"],[0.5555555555555556,\"#d8576b\"],[0.6666666666666666,\"#ed7953\"],[0.7777777777777778,\"#fb9f3a\"],[0.8888888888888888,\"#fdca26\"],[1.0,\"#f0f921\"]]}],\"choropleth\":[{\"type\":\"choropleth\",\"colorbar\":{\"outlinewidth\":0,\"ticks\":\"\"}}],\"histogram2d\":[{\"type\":\"histogram2d\",\"colorbar\":{\"outlinewidth\":0,\"ticks\":\"\"},\"colorscale\":[[0.0,\"#0d0887\"],[0.1111111111111111,\"#46039f\"],[0.2222222222222222,\"#7201a8\"],[0.3333333333333333,\"#9c179e\"],[0.4444444444444444,\"#bd3786\"],[0.5555555555555556,\"#d8576b\"],[0.6666666666666666,\"#ed7953\"],[0.7777777777777778,\"#fb9f3a\"],[0.8888888888888888,\"#fdca26\"],[1.0,\"#f0f921\"]]}],\"heatmap\":[{\"type\":\"heatmap\",\"colorbar\":{\"outlinewidth\":0,\"ticks\":\"\"},\"colorscale\":[[0.0,\"#0d0887\"],[0.1111111111111111,\"#46039f\"],[0.2222222222222222,\"#7201a8\"],[0.3333333333333333,\"#9c179e\"],[0.4444444444444444,\"#bd3786\"],[0.5555555555555556,\"#d8576b\"],[0.6666666666666666,\"#ed7953\"],[0.7777777777777778,\"#fb9f3a\"],[0.8888888888888888,\"#fdca26\"],[1.0,\"#f0f921\"]]}],\"heatmapgl\":[{\"type\":\"heatmapgl\",\"colorbar\":{\"outlinewidth\":0,\"ticks\":\"\"},\"colorscale\":[[0.0,\"#0d0887\"],[0.1111111111111111,\"#46039f\"],[0.2222222222222222,\"#7201a8\"],[0.3333333333333333,\"#9c179e\"],[0.4444444444444444,\"#bd3786\"],[0.5555555555555556,\"#d8576b\"],[0.6666666666666666,\"#ed7953\"],[0.7777777777777778,\"#fb9f3a\"],[0.8888888888888888,\"#fdca26\"],[1.0,\"#f0f921\"]]}],\"contourcarpet\":[{\"type\":\"contourcarpet\",\"colorbar\":{\"outlinewidth\":0,\"ticks\":\"\"}}],\"contour\":[{\"type\":\"contour\",\"colorbar\":{\"outlinewidth\":0,\"ticks\":\"\"},\"colorscale\":[[0.0,\"#0d0887\"],[0.1111111111111111,\"#46039f\"],[0.2222222222222222,\"#7201a8\"],[0.3333333333333333,\"#9c179e\"],[0.4444444444444444,\"#bd3786\"],[0.5555555555555556,\"#d8576b\"],[0.6666666666666666,\"#ed7953\"],[0.7777777777777778,\"#fb9f3a\"],[0.8888888888888888,\"#fdca26\"],[1.0,\"#f0f921\"]]}],\"surface\":[{\"type\":\"surface\",\"colorbar\":{\"outlinewidth\":0,\"ticks\":\"\"},\"colorscale\":[[0.0,\"#0d0887\"],[0.1111111111111111,\"#46039f\"],[0.2222222222222222,\"#7201a8\"],[0.3333333333333333,\"#9c179e\"],[0.4444444444444444,\"#bd3786\"],[0.5555555555555556,\"#d8576b\"],[0.6666666666666666,\"#ed7953\"],[0.7777777777777778,\"#fb9f3a\"],[0.8888888888888888,\"#fdca26\"],[1.0,\"#f0f921\"]]}],\"mesh3d\":[{\"type\":\"mesh3d\",\"colorbar\":{\"outlinewidth\":0,\"ticks\":\"\"}}],\"scatter\":[{\"fillpattern\":{\"fillmode\":\"overlay\",\"size\":10,\"solidity\":0.2},\"type\":\"scatter\"}],\"parcoords\":[{\"type\":\"parcoords\",\"line\":{\"colorbar\":{\"outlinewidth\":0,\"ticks\":\"\"}}}],\"scatterpolargl\":[{\"type\":\"scatterpolargl\",\"marker\":{\"colorbar\":{\"outlinewidth\":0,\"ticks\":\"\"}}}],\"bar\":[{\"error_x\":{\"color\":\"#2a3f5f\"},\"error_y\":{\"color\":\"#2a3f5f\"},\"marker\":{\"line\":{\"color\":\"#E5ECF6\",\"width\":0.5},\"pattern\":{\"fillmode\":\"overlay\",\"size\":10,\"solidity\":0.2}},\"type\":\"bar\"}],\"scattergeo\":[{\"type\":\"scattergeo\",\"marker\":{\"colorbar\":{\"outlinewidth\":0,\"ticks\":\"\"}}}],\"scatterpolar\":[{\"type\":\"scatterpolar\",\"marker\":{\"colorbar\":{\"outlinewidth\":0,\"ticks\":\"\"}}}],\"histogram\":[{\"marker\":{\"pattern\":{\"fillmode\":\"overlay\",\"size\":10,\"solidity\":0.2}},\"type\":\"histogram\"}],\"scattergl\":[{\"type\":\"scattergl\",\"marker\":{\"colorbar\":{\"outlinewidth\":0,\"ticks\":\"\"}}}],\"scatter3d\":[{\"type\":\"scatter3d\",\"line\":{\"colorbar\":{\"outlinewidth\":0,\"ticks\":\"\"}},\"marker\":{\"colorbar\":{\"outlinewidth\":0,\"ticks\":\"\"}}}],\"scattermapbox\":[{\"type\":\"scattermapbox\",\"marker\":{\"colorbar\":{\"outlinewidth\":0,\"ticks\":\"\"}}}],\"scatterternary\":[{\"type\":\"scatterternary\",\"marker\":{\"colorbar\":{\"outlinewidth\":0,\"ticks\":\"\"}}}],\"scattercarpet\":[{\"type\":\"scattercarpet\",\"marker\":{\"colorbar\":{\"outlinewidth\":0,\"ticks\":\"\"}}}],\"carpet\":[{\"aaxis\":{\"endlinecolor\":\"#2a3f5f\",\"gridcolor\":\"white\",\"linecolor\":\"white\",\"minorgridcolor\":\"white\",\"startlinecolor\":\"#2a3f5f\"},\"baxis\":{\"endlinecolor\":\"#2a3f5f\",\"gridcolor\":\"white\",\"linecolor\":\"white\",\"minorgridcolor\":\"white\",\"startlinecolor\":\"#2a3f5f\"},\"type\":\"carpet\"}],\"table\":[{\"cells\":{\"fill\":{\"color\":\"#EBF0F8\"},\"line\":{\"color\":\"white\"}},\"header\":{\"fill\":{\"color\":\"#C8D4E3\"},\"line\":{\"color\":\"white\"}},\"type\":\"table\"}],\"barpolar\":[{\"marker\":{\"line\":{\"color\":\"#E5ECF6\",\"width\":0.5},\"pattern\":{\"fillmode\":\"overlay\",\"size\":10,\"solidity\":0.2}},\"type\":\"barpolar\"}],\"pie\":[{\"automargin\":true,\"type\":\"pie\"}]},\"layout\":{\"autotypenumbers\":\"strict\",\"colorway\":[\"#636efa\",\"#EF553B\",\"#00cc96\",\"#ab63fa\",\"#FFA15A\",\"#19d3f3\",\"#FF6692\",\"#B6E880\",\"#FF97FF\",\"#FECB52\"],\"font\":{\"color\":\"#2a3f5f\"},\"hovermode\":\"closest\",\"hoverlabel\":{\"align\":\"left\"},\"paper_bgcolor\":\"white\",\"plot_bgcolor\":\"#E5ECF6\",\"polar\":{\"bgcolor\":\"#E5ECF6\",\"angularaxis\":{\"gridcolor\":\"white\",\"linecolor\":\"white\",\"ticks\":\"\"},\"radialaxis\":{\"gridcolor\":\"white\",\"linecolor\":\"white\",\"ticks\":\"\"}},\"ternary\":{\"bgcolor\":\"#E5ECF6\",\"aaxis\":{\"gridcolor\":\"white\",\"linecolor\":\"white\",\"ticks\":\"\"},\"baxis\":{\"gridcolor\":\"white\",\"linecolor\":\"white\",\"ticks\":\"\"},\"caxis\":{\"gridcolor\":\"white\",\"linecolor\":\"white\",\"ticks\":\"\"}},\"coloraxis\":{\"colorbar\":{\"outlinewidth\":0,\"ticks\":\"\"}},\"colorscale\":{\"sequential\":[[0.0,\"#0d0887\"],[0.1111111111111111,\"#46039f\"],[0.2222222222222222,\"#7201a8\"],[0.3333333333333333,\"#9c179e\"],[0.4444444444444444,\"#bd3786\"],[0.5555555555555556,\"#d8576b\"],[0.6666666666666666,\"#ed7953\"],[0.7777777777777778,\"#fb9f3a\"],[0.8888888888888888,\"#fdca26\"],[1.0,\"#f0f921\"]],\"sequentialminus\":[[0.0,\"#0d0887\"],[0.1111111111111111,\"#46039f\"],[0.2222222222222222,\"#7201a8\"],[0.3333333333333333,\"#9c179e\"],[0.4444444444444444,\"#bd3786\"],[0.5555555555555556,\"#d8576b\"],[0.6666666666666666,\"#ed7953\"],[0.7777777777777778,\"#fb9f3a\"],[0.8888888888888888,\"#fdca26\"],[1.0,\"#f0f921\"]],\"diverging\":[[0,\"#8e0152\"],[0.1,\"#c51b7d\"],[0.2,\"#de77ae\"],[0.3,\"#f1b6da\"],[0.4,\"#fde0ef\"],[0.5,\"#f7f7f7\"],[0.6,\"#e6f5d0\"],[0.7,\"#b8e186\"],[0.8,\"#7fbc41\"],[0.9,\"#4d9221\"],[1,\"#276419\"]]},\"xaxis\":{\"gridcolor\":\"white\",\"linecolor\":\"white\",\"ticks\":\"\",\"title\":{\"standoff\":15},\"zerolinecolor\":\"white\",\"automargin\":true,\"zerolinewidth\":2},\"yaxis\":{\"gridcolor\":\"white\",\"linecolor\":\"white\",\"ticks\":\"\",\"title\":{\"standoff\":15},\"zerolinecolor\":\"white\",\"automargin\":true,\"zerolinewidth\":2},\"scene\":{\"xaxis\":{\"backgroundcolor\":\"#E5ECF6\",\"gridcolor\":\"white\",\"linecolor\":\"white\",\"showbackground\":true,\"ticks\":\"\",\"zerolinecolor\":\"white\",\"gridwidth\":2},\"yaxis\":{\"backgroundcolor\":\"#E5ECF6\",\"gridcolor\":\"white\",\"linecolor\":\"white\",\"showbackground\":true,\"ticks\":\"\",\"zerolinecolor\":\"white\",\"gridwidth\":2},\"zaxis\":{\"backgroundcolor\":\"#E5ECF6\",\"gridcolor\":\"white\",\"linecolor\":\"white\",\"showbackground\":true,\"ticks\":\"\",\"zerolinecolor\":\"white\",\"gridwidth\":2}},\"shapedefaults\":{\"line\":{\"color\":\"#2a3f5f\"}},\"annotationdefaults\":{\"arrowcolor\":\"#2a3f5f\",\"arrowhead\":0,\"arrowwidth\":1},\"geo\":{\"bgcolor\":\"white\",\"landcolor\":\"#E5ECF6\",\"subunitcolor\":\"white\",\"showland\":true,\"showlakes\":true,\"lakecolor\":\"white\"},\"title\":{\"x\":0.05},\"mapbox\":{\"style\":\"light\"}}},\"xaxis\":{\"anchor\":\"y\",\"domain\":[0.0,1.0],\"title\":{\"text\":\"UF_Infra\\u00e7\\u00e3o\"}},\"yaxis\":{\"anchor\":\"x\",\"domain\":[0.0,1.0],\"title\":{\"text\":\"cumulative_sum\"}},\"legend\":{\"tracegroupgap\":0},\"title\":{\"text\":\"Accumulated Infraction by state\"},\"barmode\":\"relative\"},                        {\"responsive\": true}                    ).then(function(){\n",
              "                            \n",
              "var gd = document.getElementById('47be966e-c02b-4e82-9991-499e5d5b0ff6');\n",
              "var x = new MutationObserver(function (mutations, observer) {{\n",
              "        var display = window.getComputedStyle(gd).display;\n",
              "        if (!display || display === 'none') {{\n",
              "            console.log([gd, 'removed!']);\n",
              "            Plotly.purge(gd);\n",
              "            observer.disconnect();\n",
              "        }}\n",
              "}});\n",
              "\n",
              "// Listen for the removal of the full notebook cells\n",
              "var notebookContainer = gd.closest('#notebook-container');\n",
              "if (notebookContainer) {{\n",
              "    x.observe(notebookContainer, {childList: true});\n",
              "}}\n",
              "\n",
              "// Listen for the clearing of the current output cell\n",
              "var outputEl = gd.closest('.output');\n",
              "if (outputEl) {{\n",
              "    x.observe(outputEl, {childList: true});\n",
              "}}\n",
              "\n",
              "                        })                };                            </script>        </div>\n",
              "</body>\n",
              "</html>"
            ]
          },
          "metadata": {}
        }
      ]
    },
    {
      "cell_type": "code",
      "source": [
        "TV22.printSchema()"
      ],
      "metadata": {
        "colab": {
          "base_uri": "https://localhost:8080/"
        },
        "id": "A9Bb36kJJJkC",
        "outputId": "af4c8073-b160-464b-8139-c13210d25d51"
      },
      "execution_count": 455,
      "outputs": [
        {
          "output_type": "stream",
          "name": "stdout",
          "text": [
            "root\n",
            " |-- Número_do_Auto: string (nullable = true)\n",
            " |-- Data_da_Infração_DD/MM/AAAA: date (nullable = true)\n",
            " |-- Indicador_de_Abordagem: string (nullable = true)\n",
            " |-- Assinatura_do_Auto: string (nullable = true)\n",
            " |-- Sentido_Trafego: string (nullable = true)\n",
            " |-- UF_Infração: string (nullable = true)\n",
            " |-- BR_Infração: string (nullable = true)\n",
            " |-- Km_Infração: string (nullable = true)\n",
            " |-- Município: string (nullable = true)\n",
            " |-- Indicador_Veiculo_Estrangeiro: string (nullable = true)\n",
            " |-- UF_Placa: string (nullable = true)\n",
            " |-- Descrição_Especie_Veículo: string (nullable = true)\n",
            " |-- Descrição_Marca_Veículo: string (nullable = true)\n",
            " |-- Descrição_Tipo_Veículo: string (nullable = true)\n",
            " |-- Descrição_Modelo_Veiculo: string (nullable = true)\n",
            " |-- Código_da_Infração: string (nullable = true)\n",
            " |-- Descrição_Abreviada_Infração: string (nullable = true)\n",
            " |-- Enquadramento_da_Infração: string (nullable = true)\n",
            " |-- Início_Vigência_da_Infração: string (nullable = true)\n",
            " |-- Fim_Vigência_Infração: string (nullable = true)\n",
            " |-- Medição_Infração: string (nullable = true)\n",
            " |-- Hora_Infração: string (nullable = true)\n",
            " |-- Medição_Considerada: string (nullable = true)\n",
            " |-- Excesso_Verificado: string (nullable = true)\n",
            " |-- Qtd_Infrações: string (nullable = true)\n",
            "\n"
          ]
        }
      ]
    },
    {
      "cell_type": "code",
      "source": [
        "# Creating a query, to get the contect from the temp view\n",
        "query = \"SELECT * \\\n",
        "        FROM \\\n",
        "            TV22\"\n",
        "\n",
        "query = \"SELECT\\\n",
        "            `UF_Infração` AS `UF`, \\\n",
        "            COUNT(*) AS `Violations_Count`, \\\n",
        "            MONTH(`Data_da_Infração_DD/MM/AAAA`) AS `Month` \\\n",
        "        FROM \\\n",
        "            TV22 \\\n",
        "        GROUP BY \\\n",
        "            `UF_Infração`, `Month` \\\n",
        "        ORDER BY \\\n",
        "            `Month`\"\n",
        "\n",
        "# run the query and storying in another variable called flights10\n",
        "violations_month_state = spark.sql(query)\n",
        "\n",
        "# see result\n",
        "violations_month_state.show()"
      ],
      "metadata": {
        "colab": {
          "base_uri": "https://localhost:8080/"
        },
        "id": "YJ0VCwwJIzzV",
        "outputId": "954c5cb1-3758-4ad2-f934-d09b852f0107"
      },
      "execution_count": 456,
      "outputs": [
        {
          "output_type": "stream",
          "name": "stdout",
          "text": [
            "+---+----------------+-----+\n",
            "| UF|Violations_Count|Month|\n",
            "+---+----------------+-----+\n",
            "| RS|           21648|    1|\n",
            "| RN|            5390|    1|\n",
            "| RR|             931|    1|\n",
            "| SP|           35375|    1|\n",
            "| PR|           28441|    1|\n",
            "| AC|            1935|    1|\n",
            "| DF|            3789|    1|\n",
            "| MS|           19957|    1|\n",
            "| ES|            9814|    1|\n",
            "| AP|            1065|    1|\n",
            "| PB|            8921|    1|\n",
            "| BA|           29613|    1|\n",
            "| MT|           15282|    1|\n",
            "| TO|            3320|    1|\n",
            "| SE|            3347|    1|\n",
            "| CE|           11819|    1|\n",
            "| MA|            6152|    1|\n",
            "| MG|           25886|    1|\n",
            "| RJ|           47616|    1|\n",
            "| PI|            6897|    1|\n",
            "+---+----------------+-----+\n",
            "only showing top 20 rows\n",
            "\n"
          ]
        }
      ]
    },
    {
      "cell_type": "code",
      "source": [
        "# Perform the pivot operation\n",
        "pivot_violations_month_state = violations_month_state.groupBy(\"Month\").pivot(\"UF\").sum(\"Violations_Count\")\n",
        "\n",
        "# Show the resulting DataFrame\n",
        "pivot_violations_month_state.show()"
      ],
      "metadata": {
        "colab": {
          "base_uri": "https://localhost:8080/"
        },
        "id": "C6IBPOFbMoRS",
        "outputId": "4312c259-a849-4fad-ab1b-5f4f02038908"
      },
      "execution_count": 457,
      "outputs": [
        {
          "output_type": "stream",
          "name": "stdout",
          "text": [
            "+-----+----+----+----+----+-----+-----+-----+-----+-----+----+-----+-----+-----+----+----+-----+-----+-----+-----+----+----+----+-----+-----+----+-----+----+\n",
            "|Month|  AC|  AL|  AM|  AP|   BA|   CE|   DF|   ES|   GO|  MA|   MG|   MS|   MT|  PA|  PB|   PE|   PI|   PR|   RJ|  RN|  RO|  RR|   RS|   SC|  SE|   SP|  TO|\n",
            "+-----+----+----+----+----+-----+-----+-----+-----+-----+----+-----+-----+-----+----+----+-----+-----+-----+-----+----+----+----+-----+-----+----+-----+----+\n",
            "|   12| 992|3353|1881|2441|36934| 7253| 5360| 6001|18423|7123|39532|32609|17395|6727|5533|10972| 5969|19881|25031|7346|6909|1090|30135|16466|2932|39002|3575|\n",
            "|    1|1935|4145|1960|1065|29613|11819| 3789| 9814|12965|6152|25886|19957|15282|4518|8921| 9599| 6897|28441|47616|5390|7160| 931|21648| 9393|3347|35375|3320|\n",
            "|    6|1199|2133|1780|1048|33048| 7611| 7566|15296|18386|4014|39351|15812|14364|5398|5165| 9545| 5515|12865|47713|5028|7654| 610|15623|14244|1053|29731|3272|\n",
            "|    3|1626|3892|1451|1136|38322|12586| 7749| 9687|26626|7029|38961|22607|15729|6392|7931|14336| 8104|25538|45218|7639|9425|1255|23029|14372|3806|34265|3950|\n",
            "|    5|1056|2950|1658|1599|28583|11562| 9927|14337|22472|4799|41442|15193|16188|7843|6707|14201|10491|18577|41165|6086|8190| 703|19892|17870|3193|21472|3518|\n",
            "|    9|1082|4449|1801|1626|34947|10264| 3117|16495|17573|6990|41478|19202|14088|6303|6126|10821| 6535|15283|20197|7185|9287|1013|19967|16094|3539|30824|2282|\n",
            "|    4|1178|4175|2049|1670|42969|15011|13708|12860|25979|5965|51360|23967|14066|6836|7465|13093| 8156|21734|48050|6544|8750|1523|23871|17591|3901|22893|3168|\n",
            "|    8|1109|2560|1520|1177|34006|10619| 3562|15743|17892|7213|37185|19180|13121|6465|6425| 9846| 6136|16044|22501|6374|9161| 907|18305|14365|2660|31345|2702|\n",
            "|    7|1491|1610|1450| 876|32852| 6897| 8809|14789|18359|5540|29557|19015|12435|6650|4797| 7816| 5585|16983|36345|5192|6754| 538|14714|12415|2429|31650|2698|\n",
            "|   10|1339|3767|1361|1827|41016|11813| 3465|16637|16130|7777|40813|19403|15057|8147|7186|11859| 6570|17804|24220|7429|7893| 921|21528|17167|3874|35017|3019|\n",
            "|   11| 655|3121|1631|1971|27145| 8432| 2187|11161|13768|4749|32376|20275| 9131|5757|4434|11266| 4508|17306|17399|5965|3558|1253|18383|14877|2936|28798|2983|\n",
            "|    2|1869|4442|1560|1290|37657|13540| 4506| 8171|21802|5899|30731|20966|15878|6924|7194|13019|10629|26903|43526|6567|8365|1289|24964|13186|3875|37702|3374|\n",
            "+-----+----+----+----+----+-----+-----+-----+-----+-----+----+-----+-----+-----+----+----+-----+-----+-----+-----+----+----+----+-----+-----+----+-----+----+\n",
            "\n"
          ]
        }
      ]
    },
    {
      "cell_type": "code",
      "source": [
        "# Import pandas lib\n",
        "import pandas as pd\n",
        "\n",
        "# Converting Spark Dataframe to Pandas Dataframe\n",
        "df_pivot_violations_month_state = pivot_violations_month_state.toPandas()"
      ],
      "metadata": {
        "id": "S5jiEQj0NdKU"
      },
      "execution_count": 458,
      "outputs": []
    },
    {
      "cell_type": "code",
      "source": [
        "df_pivot_violations_month_state"
      ],
      "metadata": {
        "colab": {
          "base_uri": "https://localhost:8080/",
          "height": 455
        },
        "id": "mmH6PB-XN2j6",
        "outputId": "591383fb-fb8e-4261-c892-5667a7b49778"
      },
      "execution_count": 459,
      "outputs": [
        {
          "output_type": "execute_result",
          "data": {
            "text/plain": [
              "    Month    AC    AL    AM    AP     BA     CE     DF     ES     GO  ...  \\\n",
              "0      12   992  3353  1881  2441  36934   7253   5360   6001  18423  ...   \n",
              "1       1  1935  4145  1960  1065  29613  11819   3789   9814  12965  ...   \n",
              "2       6  1199  2133  1780  1048  33048   7611   7566  15296  18386  ...   \n",
              "3       3  1626  3892  1451  1136  38322  12586   7749   9687  26626  ...   \n",
              "4       5  1056  2950  1658  1599  28583  11562   9927  14337  22472  ...   \n",
              "5       9  1082  4449  1801  1626  34947  10264   3117  16495  17573  ...   \n",
              "6       4  1178  4175  2049  1670  42969  15011  13708  12860  25979  ...   \n",
              "7       8  1109  2560  1520  1177  34006  10619   3562  15743  17892  ...   \n",
              "8       7  1491  1610  1450   876  32852   6897   8809  14789  18359  ...   \n",
              "9      10  1339  3767  1361  1827  41016  11813   3465  16637  16130  ...   \n",
              "10     11   655  3121  1631  1971  27145   8432   2187  11161  13768  ...   \n",
              "11      2  1869  4442  1560  1290  37657  13540   4506   8171  21802  ...   \n",
              "\n",
              "       PR     RJ    RN    RO    RR     RS     SC    SE     SP    TO  \n",
              "0   19881  25031  7346  6909  1090  30135  16466  2932  39002  3575  \n",
              "1   28441  47616  5390  7160   931  21648   9393  3347  35375  3320  \n",
              "2   12865  47713  5028  7654   610  15623  14244  1053  29731  3272  \n",
              "3   25538  45218  7639  9425  1255  23029  14372  3806  34265  3950  \n",
              "4   18577  41165  6086  8190   703  19892  17870  3193  21472  3518  \n",
              "5   15283  20197  7185  9287  1013  19967  16094  3539  30824  2282  \n",
              "6   21734  48050  6544  8750  1523  23871  17591  3901  22893  3168  \n",
              "7   16044  22501  6374  9161   907  18305  14365  2660  31345  2702  \n",
              "8   16983  36345  5192  6754   538  14714  12415  2429  31650  2698  \n",
              "9   17804  24220  7429  7893   921  21528  17167  3874  35017  3019  \n",
              "10  17306  17399  5965  3558  1253  18383  14877  2936  28798  2983  \n",
              "11  26903  43526  6567  8365  1289  24964  13186  3875  37702  3374  \n",
              "\n",
              "[12 rows x 28 columns]"
            ],
            "text/html": [
              "\n",
              "  <div id=\"df-8a7571d3-a7f9-46d2-b05d-50ba97cf0917\">\n",
              "    <div class=\"colab-df-container\">\n",
              "      <div>\n",
              "<style scoped>\n",
              "    .dataframe tbody tr th:only-of-type {\n",
              "        vertical-align: middle;\n",
              "    }\n",
              "\n",
              "    .dataframe tbody tr th {\n",
              "        vertical-align: top;\n",
              "    }\n",
              "\n",
              "    .dataframe thead th {\n",
              "        text-align: right;\n",
              "    }\n",
              "</style>\n",
              "<table border=\"1\" class=\"dataframe\">\n",
              "  <thead>\n",
              "    <tr style=\"text-align: right;\">\n",
              "      <th></th>\n",
              "      <th>Month</th>\n",
              "      <th>AC</th>\n",
              "      <th>AL</th>\n",
              "      <th>AM</th>\n",
              "      <th>AP</th>\n",
              "      <th>BA</th>\n",
              "      <th>CE</th>\n",
              "      <th>DF</th>\n",
              "      <th>ES</th>\n",
              "      <th>GO</th>\n",
              "      <th>...</th>\n",
              "      <th>PR</th>\n",
              "      <th>RJ</th>\n",
              "      <th>RN</th>\n",
              "      <th>RO</th>\n",
              "      <th>RR</th>\n",
              "      <th>RS</th>\n",
              "      <th>SC</th>\n",
              "      <th>SE</th>\n",
              "      <th>SP</th>\n",
              "      <th>TO</th>\n",
              "    </tr>\n",
              "  </thead>\n",
              "  <tbody>\n",
              "    <tr>\n",
              "      <th>0</th>\n",
              "      <td>12</td>\n",
              "      <td>992</td>\n",
              "      <td>3353</td>\n",
              "      <td>1881</td>\n",
              "      <td>2441</td>\n",
              "      <td>36934</td>\n",
              "      <td>7253</td>\n",
              "      <td>5360</td>\n",
              "      <td>6001</td>\n",
              "      <td>18423</td>\n",
              "      <td>...</td>\n",
              "      <td>19881</td>\n",
              "      <td>25031</td>\n",
              "      <td>7346</td>\n",
              "      <td>6909</td>\n",
              "      <td>1090</td>\n",
              "      <td>30135</td>\n",
              "      <td>16466</td>\n",
              "      <td>2932</td>\n",
              "      <td>39002</td>\n",
              "      <td>3575</td>\n",
              "    </tr>\n",
              "    <tr>\n",
              "      <th>1</th>\n",
              "      <td>1</td>\n",
              "      <td>1935</td>\n",
              "      <td>4145</td>\n",
              "      <td>1960</td>\n",
              "      <td>1065</td>\n",
              "      <td>29613</td>\n",
              "      <td>11819</td>\n",
              "      <td>3789</td>\n",
              "      <td>9814</td>\n",
              "      <td>12965</td>\n",
              "      <td>...</td>\n",
              "      <td>28441</td>\n",
              "      <td>47616</td>\n",
              "      <td>5390</td>\n",
              "      <td>7160</td>\n",
              "      <td>931</td>\n",
              "      <td>21648</td>\n",
              "      <td>9393</td>\n",
              "      <td>3347</td>\n",
              "      <td>35375</td>\n",
              "      <td>3320</td>\n",
              "    </tr>\n",
              "    <tr>\n",
              "      <th>2</th>\n",
              "      <td>6</td>\n",
              "      <td>1199</td>\n",
              "      <td>2133</td>\n",
              "      <td>1780</td>\n",
              "      <td>1048</td>\n",
              "      <td>33048</td>\n",
              "      <td>7611</td>\n",
              "      <td>7566</td>\n",
              "      <td>15296</td>\n",
              "      <td>18386</td>\n",
              "      <td>...</td>\n",
              "      <td>12865</td>\n",
              "      <td>47713</td>\n",
              "      <td>5028</td>\n",
              "      <td>7654</td>\n",
              "      <td>610</td>\n",
              "      <td>15623</td>\n",
              "      <td>14244</td>\n",
              "      <td>1053</td>\n",
              "      <td>29731</td>\n",
              "      <td>3272</td>\n",
              "    </tr>\n",
              "    <tr>\n",
              "      <th>3</th>\n",
              "      <td>3</td>\n",
              "      <td>1626</td>\n",
              "      <td>3892</td>\n",
              "      <td>1451</td>\n",
              "      <td>1136</td>\n",
              "      <td>38322</td>\n",
              "      <td>12586</td>\n",
              "      <td>7749</td>\n",
              "      <td>9687</td>\n",
              "      <td>26626</td>\n",
              "      <td>...</td>\n",
              "      <td>25538</td>\n",
              "      <td>45218</td>\n",
              "      <td>7639</td>\n",
              "      <td>9425</td>\n",
              "      <td>1255</td>\n",
              "      <td>23029</td>\n",
              "      <td>14372</td>\n",
              "      <td>3806</td>\n",
              "      <td>34265</td>\n",
              "      <td>3950</td>\n",
              "    </tr>\n",
              "    <tr>\n",
              "      <th>4</th>\n",
              "      <td>5</td>\n",
              "      <td>1056</td>\n",
              "      <td>2950</td>\n",
              "      <td>1658</td>\n",
              "      <td>1599</td>\n",
              "      <td>28583</td>\n",
              "      <td>11562</td>\n",
              "      <td>9927</td>\n",
              "      <td>14337</td>\n",
              "      <td>22472</td>\n",
              "      <td>...</td>\n",
              "      <td>18577</td>\n",
              "      <td>41165</td>\n",
              "      <td>6086</td>\n",
              "      <td>8190</td>\n",
              "      <td>703</td>\n",
              "      <td>19892</td>\n",
              "      <td>17870</td>\n",
              "      <td>3193</td>\n",
              "      <td>21472</td>\n",
              "      <td>3518</td>\n",
              "    </tr>\n",
              "    <tr>\n",
              "      <th>5</th>\n",
              "      <td>9</td>\n",
              "      <td>1082</td>\n",
              "      <td>4449</td>\n",
              "      <td>1801</td>\n",
              "      <td>1626</td>\n",
              "      <td>34947</td>\n",
              "      <td>10264</td>\n",
              "      <td>3117</td>\n",
              "      <td>16495</td>\n",
              "      <td>17573</td>\n",
              "      <td>...</td>\n",
              "      <td>15283</td>\n",
              "      <td>20197</td>\n",
              "      <td>7185</td>\n",
              "      <td>9287</td>\n",
              "      <td>1013</td>\n",
              "      <td>19967</td>\n",
              "      <td>16094</td>\n",
              "      <td>3539</td>\n",
              "      <td>30824</td>\n",
              "      <td>2282</td>\n",
              "    </tr>\n",
              "    <tr>\n",
              "      <th>6</th>\n",
              "      <td>4</td>\n",
              "      <td>1178</td>\n",
              "      <td>4175</td>\n",
              "      <td>2049</td>\n",
              "      <td>1670</td>\n",
              "      <td>42969</td>\n",
              "      <td>15011</td>\n",
              "      <td>13708</td>\n",
              "      <td>12860</td>\n",
              "      <td>25979</td>\n",
              "      <td>...</td>\n",
              "      <td>21734</td>\n",
              "      <td>48050</td>\n",
              "      <td>6544</td>\n",
              "      <td>8750</td>\n",
              "      <td>1523</td>\n",
              "      <td>23871</td>\n",
              "      <td>17591</td>\n",
              "      <td>3901</td>\n",
              "      <td>22893</td>\n",
              "      <td>3168</td>\n",
              "    </tr>\n",
              "    <tr>\n",
              "      <th>7</th>\n",
              "      <td>8</td>\n",
              "      <td>1109</td>\n",
              "      <td>2560</td>\n",
              "      <td>1520</td>\n",
              "      <td>1177</td>\n",
              "      <td>34006</td>\n",
              "      <td>10619</td>\n",
              "      <td>3562</td>\n",
              "      <td>15743</td>\n",
              "      <td>17892</td>\n",
              "      <td>...</td>\n",
              "      <td>16044</td>\n",
              "      <td>22501</td>\n",
              "      <td>6374</td>\n",
              "      <td>9161</td>\n",
              "      <td>907</td>\n",
              "      <td>18305</td>\n",
              "      <td>14365</td>\n",
              "      <td>2660</td>\n",
              "      <td>31345</td>\n",
              "      <td>2702</td>\n",
              "    </tr>\n",
              "    <tr>\n",
              "      <th>8</th>\n",
              "      <td>7</td>\n",
              "      <td>1491</td>\n",
              "      <td>1610</td>\n",
              "      <td>1450</td>\n",
              "      <td>876</td>\n",
              "      <td>32852</td>\n",
              "      <td>6897</td>\n",
              "      <td>8809</td>\n",
              "      <td>14789</td>\n",
              "      <td>18359</td>\n",
              "      <td>...</td>\n",
              "      <td>16983</td>\n",
              "      <td>36345</td>\n",
              "      <td>5192</td>\n",
              "      <td>6754</td>\n",
              "      <td>538</td>\n",
              "      <td>14714</td>\n",
              "      <td>12415</td>\n",
              "      <td>2429</td>\n",
              "      <td>31650</td>\n",
              "      <td>2698</td>\n",
              "    </tr>\n",
              "    <tr>\n",
              "      <th>9</th>\n",
              "      <td>10</td>\n",
              "      <td>1339</td>\n",
              "      <td>3767</td>\n",
              "      <td>1361</td>\n",
              "      <td>1827</td>\n",
              "      <td>41016</td>\n",
              "      <td>11813</td>\n",
              "      <td>3465</td>\n",
              "      <td>16637</td>\n",
              "      <td>16130</td>\n",
              "      <td>...</td>\n",
              "      <td>17804</td>\n",
              "      <td>24220</td>\n",
              "      <td>7429</td>\n",
              "      <td>7893</td>\n",
              "      <td>921</td>\n",
              "      <td>21528</td>\n",
              "      <td>17167</td>\n",
              "      <td>3874</td>\n",
              "      <td>35017</td>\n",
              "      <td>3019</td>\n",
              "    </tr>\n",
              "    <tr>\n",
              "      <th>10</th>\n",
              "      <td>11</td>\n",
              "      <td>655</td>\n",
              "      <td>3121</td>\n",
              "      <td>1631</td>\n",
              "      <td>1971</td>\n",
              "      <td>27145</td>\n",
              "      <td>8432</td>\n",
              "      <td>2187</td>\n",
              "      <td>11161</td>\n",
              "      <td>13768</td>\n",
              "      <td>...</td>\n",
              "      <td>17306</td>\n",
              "      <td>17399</td>\n",
              "      <td>5965</td>\n",
              "      <td>3558</td>\n",
              "      <td>1253</td>\n",
              "      <td>18383</td>\n",
              "      <td>14877</td>\n",
              "      <td>2936</td>\n",
              "      <td>28798</td>\n",
              "      <td>2983</td>\n",
              "    </tr>\n",
              "    <tr>\n",
              "      <th>11</th>\n",
              "      <td>2</td>\n",
              "      <td>1869</td>\n",
              "      <td>4442</td>\n",
              "      <td>1560</td>\n",
              "      <td>1290</td>\n",
              "      <td>37657</td>\n",
              "      <td>13540</td>\n",
              "      <td>4506</td>\n",
              "      <td>8171</td>\n",
              "      <td>21802</td>\n",
              "      <td>...</td>\n",
              "      <td>26903</td>\n",
              "      <td>43526</td>\n",
              "      <td>6567</td>\n",
              "      <td>8365</td>\n",
              "      <td>1289</td>\n",
              "      <td>24964</td>\n",
              "      <td>13186</td>\n",
              "      <td>3875</td>\n",
              "      <td>37702</td>\n",
              "      <td>3374</td>\n",
              "    </tr>\n",
              "  </tbody>\n",
              "</table>\n",
              "<p>12 rows × 28 columns</p>\n",
              "</div>\n",
              "      <button class=\"colab-df-convert\" onclick=\"convertToInteractive('df-8a7571d3-a7f9-46d2-b05d-50ba97cf0917')\"\n",
              "              title=\"Convert this dataframe to an interactive table.\"\n",
              "              style=\"display:none;\">\n",
              "        \n",
              "  <svg xmlns=\"http://www.w3.org/2000/svg\" height=\"24px\"viewBox=\"0 0 24 24\"\n",
              "       width=\"24px\">\n",
              "    <path d=\"M0 0h24v24H0V0z\" fill=\"none\"/>\n",
              "    <path d=\"M18.56 5.44l.94 2.06.94-2.06 2.06-.94-2.06-.94-.94-2.06-.94 2.06-2.06.94zm-11 1L8.5 8.5l.94-2.06 2.06-.94-2.06-.94L8.5 2.5l-.94 2.06-2.06.94zm10 10l.94 2.06.94-2.06 2.06-.94-2.06-.94-.94-2.06-.94 2.06-2.06.94z\"/><path d=\"M17.41 7.96l-1.37-1.37c-.4-.4-.92-.59-1.43-.59-.52 0-1.04.2-1.43.59L10.3 9.45l-7.72 7.72c-.78.78-.78 2.05 0 2.83L4 21.41c.39.39.9.59 1.41.59.51 0 1.02-.2 1.41-.59l7.78-7.78 2.81-2.81c.8-.78.8-2.07 0-2.86zM5.41 20L4 18.59l7.72-7.72 1.47 1.35L5.41 20z\"/>\n",
              "  </svg>\n",
              "      </button>\n",
              "      \n",
              "  <style>\n",
              "    .colab-df-container {\n",
              "      display:flex;\n",
              "      flex-wrap:wrap;\n",
              "      gap: 12px;\n",
              "    }\n",
              "\n",
              "    .colab-df-convert {\n",
              "      background-color: #E8F0FE;\n",
              "      border: none;\n",
              "      border-radius: 50%;\n",
              "      cursor: pointer;\n",
              "      display: none;\n",
              "      fill: #1967D2;\n",
              "      height: 32px;\n",
              "      padding: 0 0 0 0;\n",
              "      width: 32px;\n",
              "    }\n",
              "\n",
              "    .colab-df-convert:hover {\n",
              "      background-color: #E2EBFA;\n",
              "      box-shadow: 0px 1px 2px rgba(60, 64, 67, 0.3), 0px 1px 3px 1px rgba(60, 64, 67, 0.15);\n",
              "      fill: #174EA6;\n",
              "    }\n",
              "\n",
              "    [theme=dark] .colab-df-convert {\n",
              "      background-color: #3B4455;\n",
              "      fill: #D2E3FC;\n",
              "    }\n",
              "\n",
              "    [theme=dark] .colab-df-convert:hover {\n",
              "      background-color: #434B5C;\n",
              "      box-shadow: 0px 1px 3px 1px rgba(0, 0, 0, 0.15);\n",
              "      filter: drop-shadow(0px 1px 2px rgba(0, 0, 0, 0.3));\n",
              "      fill: #FFFFFF;\n",
              "    }\n",
              "  </style>\n",
              "\n",
              "      <script>\n",
              "        const buttonEl =\n",
              "          document.querySelector('#df-8a7571d3-a7f9-46d2-b05d-50ba97cf0917 button.colab-df-convert');\n",
              "        buttonEl.style.display =\n",
              "          google.colab.kernel.accessAllowed ? 'block' : 'none';\n",
              "\n",
              "        async function convertToInteractive(key) {\n",
              "          const element = document.querySelector('#df-8a7571d3-a7f9-46d2-b05d-50ba97cf0917');\n",
              "          const dataTable =\n",
              "            await google.colab.kernel.invokeFunction('convertToInteractive',\n",
              "                                                     [key], {});\n",
              "          if (!dataTable) return;\n",
              "\n",
              "          const docLinkHtml = 'Like what you see? Visit the ' +\n",
              "            '<a target=\"_blank\" href=https://colab.research.google.com/notebooks/data_table.ipynb>data table notebook</a>'\n",
              "            + ' to learn more about interactive tables.';\n",
              "          element.innerHTML = '';\n",
              "          dataTable['output_type'] = 'display_data';\n",
              "          await google.colab.output.renderOutput(dataTable, element);\n",
              "          const docLink = document.createElement('div');\n",
              "          docLink.innerHTML = docLinkHtml;\n",
              "          element.appendChild(docLink);\n",
              "        }\n",
              "      </script>\n",
              "    </div>\n",
              "  </div>\n",
              "  "
            ]
          },
          "metadata": {},
          "execution_count": 459
        }
      ]
    },
    {
      "cell_type": "code",
      "source": [
        "px.imshow(\n",
        "    df_pivot_violations_month_state,\n",
        "    title=' Heatmap | Monthly Traffic Violations by State 2022')"
      ],
      "metadata": {
        "colab": {
          "base_uri": "https://localhost:8080/",
          "height": 542
        },
        "id": "FwaYNYo2NW51",
        "outputId": "e2fb5ae8-2597-4178-f37e-64e315905402"
      },
      "execution_count": 460,
      "outputs": [
        {
          "output_type": "display_data",
          "data": {
            "text/html": [
              "<html>\n",
              "<head><meta charset=\"utf-8\" /></head>\n",
              "<body>\n",
              "    <div>            <script src=\"https://cdnjs.cloudflare.com/ajax/libs/mathjax/2.7.5/MathJax.js?config=TeX-AMS-MML_SVG\"></script><script type=\"text/javascript\">if (window.MathJax && window.MathJax.Hub && window.MathJax.Hub.Config) {window.MathJax.Hub.Config({SVG: {font: \"STIX-Web\"}});}</script>                <script type=\"text/javascript\">window.PlotlyConfig = {MathJaxConfig: 'local'};</script>\n",
              "        <script src=\"https://cdn.plot.ly/plotly-2.18.2.min.js\"></script>                <div id=\"e663eeb4-c3b5-488a-8342-cb8fc650f61a\" class=\"plotly-graph-div\" style=\"height:525px; width:100%;\"></div>            <script type=\"text/javascript\">                                    window.PLOTLYENV=window.PLOTLYENV || {};                                    if (document.getElementById(\"e663eeb4-c3b5-488a-8342-cb8fc650f61a\")) {                    Plotly.newPlot(                        \"e663eeb4-c3b5-488a-8342-cb8fc650f61a\",                        [{\"coloraxis\":\"coloraxis\",\"name\":\"0\",\"x\":[\"Month\",\"AC\",\"AL\",\"AM\",\"AP\",\"BA\",\"CE\",\"DF\",\"ES\",\"GO\",\"MA\",\"MG\",\"MS\",\"MT\",\"PA\",\"PB\",\"PE\",\"PI\",\"PR\",\"RJ\",\"RN\",\"RO\",\"RR\",\"RS\",\"SC\",\"SE\",\"SP\",\"TO\"],\"y\":[0,1,2,3,4,5,6,7,8,9,10,11],\"z\":[[12,992,3353,1881,2441,36934,7253,5360,6001,18423,7123,39532,32609,17395,6727,5533,10972,5969,19881,25031,7346,6909,1090,30135,16466,2932,39002,3575],[1,1935,4145,1960,1065,29613,11819,3789,9814,12965,6152,25886,19957,15282,4518,8921,9599,6897,28441,47616,5390,7160,931,21648,9393,3347,35375,3320],[6,1199,2133,1780,1048,33048,7611,7566,15296,18386,4014,39351,15812,14364,5398,5165,9545,5515,12865,47713,5028,7654,610,15623,14244,1053,29731,3272],[3,1626,3892,1451,1136,38322,12586,7749,9687,26626,7029,38961,22607,15729,6392,7931,14336,8104,25538,45218,7639,9425,1255,23029,14372,3806,34265,3950],[5,1056,2950,1658,1599,28583,11562,9927,14337,22472,4799,41442,15193,16188,7843,6707,14201,10491,18577,41165,6086,8190,703,19892,17870,3193,21472,3518],[9,1082,4449,1801,1626,34947,10264,3117,16495,17573,6990,41478,19202,14088,6303,6126,10821,6535,15283,20197,7185,9287,1013,19967,16094,3539,30824,2282],[4,1178,4175,2049,1670,42969,15011,13708,12860,25979,5965,51360,23967,14066,6836,7465,13093,8156,21734,48050,6544,8750,1523,23871,17591,3901,22893,3168],[8,1109,2560,1520,1177,34006,10619,3562,15743,17892,7213,37185,19180,13121,6465,6425,9846,6136,16044,22501,6374,9161,907,18305,14365,2660,31345,2702],[7,1491,1610,1450,876,32852,6897,8809,14789,18359,5540,29557,19015,12435,6650,4797,7816,5585,16983,36345,5192,6754,538,14714,12415,2429,31650,2698],[10,1339,3767,1361,1827,41016,11813,3465,16637,16130,7777,40813,19403,15057,8147,7186,11859,6570,17804,24220,7429,7893,921,21528,17167,3874,35017,3019],[11,655,3121,1631,1971,27145,8432,2187,11161,13768,4749,32376,20275,9131,5757,4434,11266,4508,17306,17399,5965,3558,1253,18383,14877,2936,28798,2983],[2,1869,4442,1560,1290,37657,13540,4506,8171,21802,5899,30731,20966,15878,6924,7194,13019,10629,26903,43526,6567,8365,1289,24964,13186,3875,37702,3374]],\"type\":\"heatmap\",\"xaxis\":\"x\",\"yaxis\":\"y\",\"hovertemplate\":\"x: %{x}<br>y: %{y}<br>color: %{z}<extra></extra>\"}],                        {\"template\":{\"data\":{\"histogram2dcontour\":[{\"type\":\"histogram2dcontour\",\"colorbar\":{\"outlinewidth\":0,\"ticks\":\"\"},\"colorscale\":[[0.0,\"#0d0887\"],[0.1111111111111111,\"#46039f\"],[0.2222222222222222,\"#7201a8\"],[0.3333333333333333,\"#9c179e\"],[0.4444444444444444,\"#bd3786\"],[0.5555555555555556,\"#d8576b\"],[0.6666666666666666,\"#ed7953\"],[0.7777777777777778,\"#fb9f3a\"],[0.8888888888888888,\"#fdca26\"],[1.0,\"#f0f921\"]]}],\"choropleth\":[{\"type\":\"choropleth\",\"colorbar\":{\"outlinewidth\":0,\"ticks\":\"\"}}],\"histogram2d\":[{\"type\":\"histogram2d\",\"colorbar\":{\"outlinewidth\":0,\"ticks\":\"\"},\"colorscale\":[[0.0,\"#0d0887\"],[0.1111111111111111,\"#46039f\"],[0.2222222222222222,\"#7201a8\"],[0.3333333333333333,\"#9c179e\"],[0.4444444444444444,\"#bd3786\"],[0.5555555555555556,\"#d8576b\"],[0.6666666666666666,\"#ed7953\"],[0.7777777777777778,\"#fb9f3a\"],[0.8888888888888888,\"#fdca26\"],[1.0,\"#f0f921\"]]}],\"heatmap\":[{\"type\":\"heatmap\",\"colorbar\":{\"outlinewidth\":0,\"ticks\":\"\"},\"colorscale\":[[0.0,\"#0d0887\"],[0.1111111111111111,\"#46039f\"],[0.2222222222222222,\"#7201a8\"],[0.3333333333333333,\"#9c179e\"],[0.4444444444444444,\"#bd3786\"],[0.5555555555555556,\"#d8576b\"],[0.6666666666666666,\"#ed7953\"],[0.7777777777777778,\"#fb9f3a\"],[0.8888888888888888,\"#fdca26\"],[1.0,\"#f0f921\"]]}],\"heatmapgl\":[{\"type\":\"heatmapgl\",\"colorbar\":{\"outlinewidth\":0,\"ticks\":\"\"},\"colorscale\":[[0.0,\"#0d0887\"],[0.1111111111111111,\"#46039f\"],[0.2222222222222222,\"#7201a8\"],[0.3333333333333333,\"#9c179e\"],[0.4444444444444444,\"#bd3786\"],[0.5555555555555556,\"#d8576b\"],[0.6666666666666666,\"#ed7953\"],[0.7777777777777778,\"#fb9f3a\"],[0.8888888888888888,\"#fdca26\"],[1.0,\"#f0f921\"]]}],\"contourcarpet\":[{\"type\":\"contourcarpet\",\"colorbar\":{\"outlinewidth\":0,\"ticks\":\"\"}}],\"contour\":[{\"type\":\"contour\",\"colorbar\":{\"outlinewidth\":0,\"ticks\":\"\"},\"colorscale\":[[0.0,\"#0d0887\"],[0.1111111111111111,\"#46039f\"],[0.2222222222222222,\"#7201a8\"],[0.3333333333333333,\"#9c179e\"],[0.4444444444444444,\"#bd3786\"],[0.5555555555555556,\"#d8576b\"],[0.6666666666666666,\"#ed7953\"],[0.7777777777777778,\"#fb9f3a\"],[0.8888888888888888,\"#fdca26\"],[1.0,\"#f0f921\"]]}],\"surface\":[{\"type\":\"surface\",\"colorbar\":{\"outlinewidth\":0,\"ticks\":\"\"},\"colorscale\":[[0.0,\"#0d0887\"],[0.1111111111111111,\"#46039f\"],[0.2222222222222222,\"#7201a8\"],[0.3333333333333333,\"#9c179e\"],[0.4444444444444444,\"#bd3786\"],[0.5555555555555556,\"#d8576b\"],[0.6666666666666666,\"#ed7953\"],[0.7777777777777778,\"#fb9f3a\"],[0.8888888888888888,\"#fdca26\"],[1.0,\"#f0f921\"]]}],\"mesh3d\":[{\"type\":\"mesh3d\",\"colorbar\":{\"outlinewidth\":0,\"ticks\":\"\"}}],\"scatter\":[{\"fillpattern\":{\"fillmode\":\"overlay\",\"size\":10,\"solidity\":0.2},\"type\":\"scatter\"}],\"parcoords\":[{\"type\":\"parcoords\",\"line\":{\"colorbar\":{\"outlinewidth\":0,\"ticks\":\"\"}}}],\"scatterpolargl\":[{\"type\":\"scatterpolargl\",\"marker\":{\"colorbar\":{\"outlinewidth\":0,\"ticks\":\"\"}}}],\"bar\":[{\"error_x\":{\"color\":\"#2a3f5f\"},\"error_y\":{\"color\":\"#2a3f5f\"},\"marker\":{\"line\":{\"color\":\"#E5ECF6\",\"width\":0.5},\"pattern\":{\"fillmode\":\"overlay\",\"size\":10,\"solidity\":0.2}},\"type\":\"bar\"}],\"scattergeo\":[{\"type\":\"scattergeo\",\"marker\":{\"colorbar\":{\"outlinewidth\":0,\"ticks\":\"\"}}}],\"scatterpolar\":[{\"type\":\"scatterpolar\",\"marker\":{\"colorbar\":{\"outlinewidth\":0,\"ticks\":\"\"}}}],\"histogram\":[{\"marker\":{\"pattern\":{\"fillmode\":\"overlay\",\"size\":10,\"solidity\":0.2}},\"type\":\"histogram\"}],\"scattergl\":[{\"type\":\"scattergl\",\"marker\":{\"colorbar\":{\"outlinewidth\":0,\"ticks\":\"\"}}}],\"scatter3d\":[{\"type\":\"scatter3d\",\"line\":{\"colorbar\":{\"outlinewidth\":0,\"ticks\":\"\"}},\"marker\":{\"colorbar\":{\"outlinewidth\":0,\"ticks\":\"\"}}}],\"scattermapbox\":[{\"type\":\"scattermapbox\",\"marker\":{\"colorbar\":{\"outlinewidth\":0,\"ticks\":\"\"}}}],\"scatterternary\":[{\"type\":\"scatterternary\",\"marker\":{\"colorbar\":{\"outlinewidth\":0,\"ticks\":\"\"}}}],\"scattercarpet\":[{\"type\":\"scattercarpet\",\"marker\":{\"colorbar\":{\"outlinewidth\":0,\"ticks\":\"\"}}}],\"carpet\":[{\"aaxis\":{\"endlinecolor\":\"#2a3f5f\",\"gridcolor\":\"white\",\"linecolor\":\"white\",\"minorgridcolor\":\"white\",\"startlinecolor\":\"#2a3f5f\"},\"baxis\":{\"endlinecolor\":\"#2a3f5f\",\"gridcolor\":\"white\",\"linecolor\":\"white\",\"minorgridcolor\":\"white\",\"startlinecolor\":\"#2a3f5f\"},\"type\":\"carpet\"}],\"table\":[{\"cells\":{\"fill\":{\"color\":\"#EBF0F8\"},\"line\":{\"color\":\"white\"}},\"header\":{\"fill\":{\"color\":\"#C8D4E3\"},\"line\":{\"color\":\"white\"}},\"type\":\"table\"}],\"barpolar\":[{\"marker\":{\"line\":{\"color\":\"#E5ECF6\",\"width\":0.5},\"pattern\":{\"fillmode\":\"overlay\",\"size\":10,\"solidity\":0.2}},\"type\":\"barpolar\"}],\"pie\":[{\"automargin\":true,\"type\":\"pie\"}]},\"layout\":{\"autotypenumbers\":\"strict\",\"colorway\":[\"#636efa\",\"#EF553B\",\"#00cc96\",\"#ab63fa\",\"#FFA15A\",\"#19d3f3\",\"#FF6692\",\"#B6E880\",\"#FF97FF\",\"#FECB52\"],\"font\":{\"color\":\"#2a3f5f\"},\"hovermode\":\"closest\",\"hoverlabel\":{\"align\":\"left\"},\"paper_bgcolor\":\"white\",\"plot_bgcolor\":\"#E5ECF6\",\"polar\":{\"bgcolor\":\"#E5ECF6\",\"angularaxis\":{\"gridcolor\":\"white\",\"linecolor\":\"white\",\"ticks\":\"\"},\"radialaxis\":{\"gridcolor\":\"white\",\"linecolor\":\"white\",\"ticks\":\"\"}},\"ternary\":{\"bgcolor\":\"#E5ECF6\",\"aaxis\":{\"gridcolor\":\"white\",\"linecolor\":\"white\",\"ticks\":\"\"},\"baxis\":{\"gridcolor\":\"white\",\"linecolor\":\"white\",\"ticks\":\"\"},\"caxis\":{\"gridcolor\":\"white\",\"linecolor\":\"white\",\"ticks\":\"\"}},\"coloraxis\":{\"colorbar\":{\"outlinewidth\":0,\"ticks\":\"\"}},\"colorscale\":{\"sequential\":[[0.0,\"#0d0887\"],[0.1111111111111111,\"#46039f\"],[0.2222222222222222,\"#7201a8\"],[0.3333333333333333,\"#9c179e\"],[0.4444444444444444,\"#bd3786\"],[0.5555555555555556,\"#d8576b\"],[0.6666666666666666,\"#ed7953\"],[0.7777777777777778,\"#fb9f3a\"],[0.8888888888888888,\"#fdca26\"],[1.0,\"#f0f921\"]],\"sequentialminus\":[[0.0,\"#0d0887\"],[0.1111111111111111,\"#46039f\"],[0.2222222222222222,\"#7201a8\"],[0.3333333333333333,\"#9c179e\"],[0.4444444444444444,\"#bd3786\"],[0.5555555555555556,\"#d8576b\"],[0.6666666666666666,\"#ed7953\"],[0.7777777777777778,\"#fb9f3a\"],[0.8888888888888888,\"#fdca26\"],[1.0,\"#f0f921\"]],\"diverging\":[[0,\"#8e0152\"],[0.1,\"#c51b7d\"],[0.2,\"#de77ae\"],[0.3,\"#f1b6da\"],[0.4,\"#fde0ef\"],[0.5,\"#f7f7f7\"],[0.6,\"#e6f5d0\"],[0.7,\"#b8e186\"],[0.8,\"#7fbc41\"],[0.9,\"#4d9221\"],[1,\"#276419\"]]},\"xaxis\":{\"gridcolor\":\"white\",\"linecolor\":\"white\",\"ticks\":\"\",\"title\":{\"standoff\":15},\"zerolinecolor\":\"white\",\"automargin\":true,\"zerolinewidth\":2},\"yaxis\":{\"gridcolor\":\"white\",\"linecolor\":\"white\",\"ticks\":\"\",\"title\":{\"standoff\":15},\"zerolinecolor\":\"white\",\"automargin\":true,\"zerolinewidth\":2},\"scene\":{\"xaxis\":{\"backgroundcolor\":\"#E5ECF6\",\"gridcolor\":\"white\",\"linecolor\":\"white\",\"showbackground\":true,\"ticks\":\"\",\"zerolinecolor\":\"white\",\"gridwidth\":2},\"yaxis\":{\"backgroundcolor\":\"#E5ECF6\",\"gridcolor\":\"white\",\"linecolor\":\"white\",\"showbackground\":true,\"ticks\":\"\",\"zerolinecolor\":\"white\",\"gridwidth\":2},\"zaxis\":{\"backgroundcolor\":\"#E5ECF6\",\"gridcolor\":\"white\",\"linecolor\":\"white\",\"showbackground\":true,\"ticks\":\"\",\"zerolinecolor\":\"white\",\"gridwidth\":2}},\"shapedefaults\":{\"line\":{\"color\":\"#2a3f5f\"}},\"annotationdefaults\":{\"arrowcolor\":\"#2a3f5f\",\"arrowhead\":0,\"arrowwidth\":1},\"geo\":{\"bgcolor\":\"white\",\"landcolor\":\"#E5ECF6\",\"subunitcolor\":\"white\",\"showland\":true,\"showlakes\":true,\"lakecolor\":\"white\"},\"title\":{\"x\":0.05},\"mapbox\":{\"style\":\"light\"}}},\"xaxis\":{\"anchor\":\"y\",\"domain\":[0.0,1.0],\"scaleanchor\":\"y\",\"constrain\":\"domain\"},\"yaxis\":{\"anchor\":\"x\",\"domain\":[0.0,1.0],\"autorange\":\"reversed\",\"constrain\":\"domain\"},\"coloraxis\":{\"colorscale\":[[0.0,\"#0d0887\"],[0.1111111111111111,\"#46039f\"],[0.2222222222222222,\"#7201a8\"],[0.3333333333333333,\"#9c179e\"],[0.4444444444444444,\"#bd3786\"],[0.5555555555555556,\"#d8576b\"],[0.6666666666666666,\"#ed7953\"],[0.7777777777777778,\"#fb9f3a\"],[0.8888888888888888,\"#fdca26\"],[1.0,\"#f0f921\"]]},\"title\":{\"text\":\" Heatmap | Monthly Traffic Violations by State 2022\"}},                        {\"responsive\": true}                    ).then(function(){\n",
              "                            \n",
              "var gd = document.getElementById('e663eeb4-c3b5-488a-8342-cb8fc650f61a');\n",
              "var x = new MutationObserver(function (mutations, observer) {{\n",
              "        var display = window.getComputedStyle(gd).display;\n",
              "        if (!display || display === 'none') {{\n",
              "            console.log([gd, 'removed!']);\n",
              "            Plotly.purge(gd);\n",
              "            observer.disconnect();\n",
              "        }}\n",
              "}});\n",
              "\n",
              "// Listen for the removal of the full notebook cells\n",
              "var notebookContainer = gd.closest('#notebook-container');\n",
              "if (notebookContainer) {{\n",
              "    x.observe(notebookContainer, {childList: true});\n",
              "}}\n",
              "\n",
              "// Listen for the clearing of the current output cell\n",
              "var outputEl = gd.closest('.output');\n",
              "if (outputEl) {{\n",
              "    x.observe(outputEl, {childList: true});\n",
              "}}\n",
              "\n",
              "                        })                };                            </script>        </div>\n",
              "</body>\n",
              "</html>"
            ]
          },
          "metadata": {}
        }
      ]
    },
    {
      "cell_type": "markdown",
      "source": [
        "Tipos Multas"
      ],
      "metadata": {
        "id": "2ZXRkUSmQNVM"
      }
    },
    {
      "cell_type": "code",
      "source": [
        "# Compute the cumulative percentage\n",
        "violation_type = TV22.select('Enquadramento_da_Infração') \\\n",
        "    .groupBy('Enquadramento_da_Infração') \\\n",
        "    .count() \\\n",
        "    .withColumn('cumulative_count', sum('count').over(Window.orderBy(col(\"count\").desc()))) \\\n",
        "    .withColumn('cumulative_percentage', col('cumulative_count') / sum('count').over(Window.partitionBy()) * 100)\n",
        "\n",
        "# Show the resulting DataFrame\n",
        "violation_type.show(5)"
      ],
      "metadata": {
        "colab": {
          "base_uri": "https://localhost:8080/"
        },
        "id": "z6Ubrpl-P1Hn",
        "outputId": "2034b460-9c01-4d0a-b684-d959d6ba9952"
      },
      "execution_count": 461,
      "outputs": [
        {
          "output_type": "stream",
          "name": "stdout",
          "text": [
            "+-------------------------+-------+----------------+---------------------+\n",
            "|Enquadramento_da_Infração|  count|cumulative_count|cumulative_percentage|\n",
            "+-------------------------+-------+----------------+---------------------+\n",
            "|                    218 I|1093345|         1093345|   26.437889476131556|\n",
            "|                      167| 228723|         1322068|   31.968580515692935|\n",
            "|                    203 V| 206200|         1528268|    36.95464878323733|\n",
            "|                  230 * V| 204476|         1732744|      41.899029457701|\n",
            "|                   218 II| 182358|         1915102|   46.308580559218264|\n",
            "+-------------------------+-------+----------------+---------------------+\n",
            "only showing top 5 rows\n",
            "\n"
          ]
        }
      ]
    },
    {
      "cell_type": "code",
      "source": [
        "# Loop no site do Detran e buscar os dados\n",
        "Url = 'https://www.detran.mg.gov.br/infracoes/consultar-tipos-infracoes/index/index/index/index/index/index/index/index/index/index/index/index/index/lista-de-infracoes?artigo=&descricao=&page='\n",
        "\n",
        "# Tabela vazia\n",
        "df_violation_ticket_value = pd.DataFrame()\n",
        "\n",
        "for Loop in range(1, 24):\n",
        "\n",
        "    # Construindo a URL\n",
        "    Link = f'{Url}{Loop}'\n",
        "\n",
        "    # Lendo os dados da Web\n",
        "    web_data = pd.read_html(Link)[0]\n",
        "\n",
        "    # Consolidar\n",
        "    df_violation_ticket_value = pd.concat([df_violation_ticket_value, web_data])"
      ],
      "metadata": {
        "id": "BCLwAxkpTy8f"
      },
      "execution_count": 462,
      "outputs": []
    },
    {
      "cell_type": "code",
      "source": [
        "df_violation_ticket_value.head()"
      ],
      "metadata": {
        "colab": {
          "base_uri": "https://localhost:8080/",
          "height": 206
        },
        "id": "EunrV8WcUhUb",
        "outputId": "6ff92e90-136c-43c8-e7f0-5cda58ac8a99"
      },
      "execution_count": 463,
      "outputs": [
        {
          "output_type": "execute_result",
          "data": {
            "text/plain": [
              "   Código  Desd.                                           Infração  \\\n",
              "0    5622      4  PARAR NOS CANTEIROS CENTRAIS OU DIVISORES DE P...   \n",
              "1    5622      5                    PARAR NAS MARCAS DE CANALIZACAO   \n",
              "2    5630      0                PARAR NA AREA DE CRUZAMENTO DE VIAS   \n",
              "3    5649      1                                 PARAR NOS VIADUTOS   \n",
              "4    5649      2                                   PARAR NAS PONTES   \n",
              "\n",
              "       Artigo Infrator  Pts  Valor  \n",
              "0    182 * VI      CON    3   8838  \n",
              "1    182 * VI      CON    3   8838  \n",
              "2   182 * VII      CON    4  13016  \n",
              "3  182 * VIII      CON    4  13016  \n",
              "4  182 * VIII      CON    4  13016  "
            ],
            "text/html": [
              "\n",
              "  <div id=\"df-ed10f4fb-de29-41ac-9639-76c2e44eb886\">\n",
              "    <div class=\"colab-df-container\">\n",
              "      <div>\n",
              "<style scoped>\n",
              "    .dataframe tbody tr th:only-of-type {\n",
              "        vertical-align: middle;\n",
              "    }\n",
              "\n",
              "    .dataframe tbody tr th {\n",
              "        vertical-align: top;\n",
              "    }\n",
              "\n",
              "    .dataframe thead th {\n",
              "        text-align: right;\n",
              "    }\n",
              "</style>\n",
              "<table border=\"1\" class=\"dataframe\">\n",
              "  <thead>\n",
              "    <tr style=\"text-align: right;\">\n",
              "      <th></th>\n",
              "      <th>Código</th>\n",
              "      <th>Desd.</th>\n",
              "      <th>Infração</th>\n",
              "      <th>Artigo</th>\n",
              "      <th>Infrator</th>\n",
              "      <th>Pts</th>\n",
              "      <th>Valor</th>\n",
              "    </tr>\n",
              "  </thead>\n",
              "  <tbody>\n",
              "    <tr>\n",
              "      <th>0</th>\n",
              "      <td>5622</td>\n",
              "      <td>4</td>\n",
              "      <td>PARAR NOS CANTEIROS CENTRAIS OU DIVISORES DE P...</td>\n",
              "      <td>182 * VI</td>\n",
              "      <td>CON</td>\n",
              "      <td>3</td>\n",
              "      <td>8838</td>\n",
              "    </tr>\n",
              "    <tr>\n",
              "      <th>1</th>\n",
              "      <td>5622</td>\n",
              "      <td>5</td>\n",
              "      <td>PARAR NAS MARCAS DE CANALIZACAO</td>\n",
              "      <td>182 * VI</td>\n",
              "      <td>CON</td>\n",
              "      <td>3</td>\n",
              "      <td>8838</td>\n",
              "    </tr>\n",
              "    <tr>\n",
              "      <th>2</th>\n",
              "      <td>5630</td>\n",
              "      <td>0</td>\n",
              "      <td>PARAR NA AREA DE CRUZAMENTO DE VIAS</td>\n",
              "      <td>182 * VII</td>\n",
              "      <td>CON</td>\n",
              "      <td>4</td>\n",
              "      <td>13016</td>\n",
              "    </tr>\n",
              "    <tr>\n",
              "      <th>3</th>\n",
              "      <td>5649</td>\n",
              "      <td>1</td>\n",
              "      <td>PARAR NOS VIADUTOS</td>\n",
              "      <td>182 * VIII</td>\n",
              "      <td>CON</td>\n",
              "      <td>4</td>\n",
              "      <td>13016</td>\n",
              "    </tr>\n",
              "    <tr>\n",
              "      <th>4</th>\n",
              "      <td>5649</td>\n",
              "      <td>2</td>\n",
              "      <td>PARAR NAS PONTES</td>\n",
              "      <td>182 * VIII</td>\n",
              "      <td>CON</td>\n",
              "      <td>4</td>\n",
              "      <td>13016</td>\n",
              "    </tr>\n",
              "  </tbody>\n",
              "</table>\n",
              "</div>\n",
              "      <button class=\"colab-df-convert\" onclick=\"convertToInteractive('df-ed10f4fb-de29-41ac-9639-76c2e44eb886')\"\n",
              "              title=\"Convert this dataframe to an interactive table.\"\n",
              "              style=\"display:none;\">\n",
              "        \n",
              "  <svg xmlns=\"http://www.w3.org/2000/svg\" height=\"24px\"viewBox=\"0 0 24 24\"\n",
              "       width=\"24px\">\n",
              "    <path d=\"M0 0h24v24H0V0z\" fill=\"none\"/>\n",
              "    <path d=\"M18.56 5.44l.94 2.06.94-2.06 2.06-.94-2.06-.94-.94-2.06-.94 2.06-2.06.94zm-11 1L8.5 8.5l.94-2.06 2.06-.94-2.06-.94L8.5 2.5l-.94 2.06-2.06.94zm10 10l.94 2.06.94-2.06 2.06-.94-2.06-.94-.94-2.06-.94 2.06-2.06.94z\"/><path d=\"M17.41 7.96l-1.37-1.37c-.4-.4-.92-.59-1.43-.59-.52 0-1.04.2-1.43.59L10.3 9.45l-7.72 7.72c-.78.78-.78 2.05 0 2.83L4 21.41c.39.39.9.59 1.41.59.51 0 1.02-.2 1.41-.59l7.78-7.78 2.81-2.81c.8-.78.8-2.07 0-2.86zM5.41 20L4 18.59l7.72-7.72 1.47 1.35L5.41 20z\"/>\n",
              "  </svg>\n",
              "      </button>\n",
              "      \n",
              "  <style>\n",
              "    .colab-df-container {\n",
              "      display:flex;\n",
              "      flex-wrap:wrap;\n",
              "      gap: 12px;\n",
              "    }\n",
              "\n",
              "    .colab-df-convert {\n",
              "      background-color: #E8F0FE;\n",
              "      border: none;\n",
              "      border-radius: 50%;\n",
              "      cursor: pointer;\n",
              "      display: none;\n",
              "      fill: #1967D2;\n",
              "      height: 32px;\n",
              "      padding: 0 0 0 0;\n",
              "      width: 32px;\n",
              "    }\n",
              "\n",
              "    .colab-df-convert:hover {\n",
              "      background-color: #E2EBFA;\n",
              "      box-shadow: 0px 1px 2px rgba(60, 64, 67, 0.3), 0px 1px 3px 1px rgba(60, 64, 67, 0.15);\n",
              "      fill: #174EA6;\n",
              "    }\n",
              "\n",
              "    [theme=dark] .colab-df-convert {\n",
              "      background-color: #3B4455;\n",
              "      fill: #D2E3FC;\n",
              "    }\n",
              "\n",
              "    [theme=dark] .colab-df-convert:hover {\n",
              "      background-color: #434B5C;\n",
              "      box-shadow: 0px 1px 3px 1px rgba(0, 0, 0, 0.15);\n",
              "      filter: drop-shadow(0px 1px 2px rgba(0, 0, 0, 0.3));\n",
              "      fill: #FFFFFF;\n",
              "    }\n",
              "  </style>\n",
              "\n",
              "      <script>\n",
              "        const buttonEl =\n",
              "          document.querySelector('#df-ed10f4fb-de29-41ac-9639-76c2e44eb886 button.colab-df-convert');\n",
              "        buttonEl.style.display =\n",
              "          google.colab.kernel.accessAllowed ? 'block' : 'none';\n",
              "\n",
              "        async function convertToInteractive(key) {\n",
              "          const element = document.querySelector('#df-ed10f4fb-de29-41ac-9639-76c2e44eb886');\n",
              "          const dataTable =\n",
              "            await google.colab.kernel.invokeFunction('convertToInteractive',\n",
              "                                                     [key], {});\n",
              "          if (!dataTable) return;\n",
              "\n",
              "          const docLinkHtml = 'Like what you see? Visit the ' +\n",
              "            '<a target=\"_blank\" href=https://colab.research.google.com/notebooks/data_table.ipynb>data table notebook</a>'\n",
              "            + ' to learn more about interactive tables.';\n",
              "          element.innerHTML = '';\n",
              "          dataTable['output_type'] = 'display_data';\n",
              "          await google.colab.output.renderOutput(dataTable, element);\n",
              "          const docLink = document.createElement('div');\n",
              "          docLink.innerHTML = docLinkHtml;\n",
              "          element.appendChild(docLink);\n",
              "        }\n",
              "      </script>\n",
              "    </div>\n",
              "  </div>\n",
              "  "
            ]
          },
          "metadata": {},
          "execution_count": 463
        }
      ]
    },
    {
      "cell_type": "code",
      "source": [
        "df_violation_ticket_value['Valor'] = pd.to_numeric(df_violation_ticket_value['Valor'], errors='coerce')\n",
        "df_violation_ticket_value['Valor'] = df_violation_ticket_value['Valor'] / 100"
      ],
      "metadata": {
        "id": "9oVliiGYXmSb"
      },
      "execution_count": 464,
      "outputs": []
    },
    {
      "cell_type": "code",
      "source": [
        "df_violation_ticket_value.head()"
      ],
      "metadata": {
        "colab": {
          "base_uri": "https://localhost:8080/",
          "height": 206
        },
        "id": "hoKiz3WRZnZ-",
        "outputId": "333ba001-37b7-4ec6-b381-bd7400a8b3c3"
      },
      "execution_count": 465,
      "outputs": [
        {
          "output_type": "execute_result",
          "data": {
            "text/plain": [
              "   Código  Desd.                                           Infração  \\\n",
              "0    5622      4  PARAR NOS CANTEIROS CENTRAIS OU DIVISORES DE P...   \n",
              "1    5622      5                    PARAR NAS MARCAS DE CANALIZACAO   \n",
              "2    5630      0                PARAR NA AREA DE CRUZAMENTO DE VIAS   \n",
              "3    5649      1                                 PARAR NOS VIADUTOS   \n",
              "4    5649      2                                   PARAR NAS PONTES   \n",
              "\n",
              "       Artigo Infrator  Pts   Valor  \n",
              "0    182 * VI      CON    3   88.38  \n",
              "1    182 * VI      CON    3   88.38  \n",
              "2   182 * VII      CON    4  130.16  \n",
              "3  182 * VIII      CON    4  130.16  \n",
              "4  182 * VIII      CON    4  130.16  "
            ],
            "text/html": [
              "\n",
              "  <div id=\"df-a41d5ef2-3e03-4bf7-9739-ad6c3cd37602\">\n",
              "    <div class=\"colab-df-container\">\n",
              "      <div>\n",
              "<style scoped>\n",
              "    .dataframe tbody tr th:only-of-type {\n",
              "        vertical-align: middle;\n",
              "    }\n",
              "\n",
              "    .dataframe tbody tr th {\n",
              "        vertical-align: top;\n",
              "    }\n",
              "\n",
              "    .dataframe thead th {\n",
              "        text-align: right;\n",
              "    }\n",
              "</style>\n",
              "<table border=\"1\" class=\"dataframe\">\n",
              "  <thead>\n",
              "    <tr style=\"text-align: right;\">\n",
              "      <th></th>\n",
              "      <th>Código</th>\n",
              "      <th>Desd.</th>\n",
              "      <th>Infração</th>\n",
              "      <th>Artigo</th>\n",
              "      <th>Infrator</th>\n",
              "      <th>Pts</th>\n",
              "      <th>Valor</th>\n",
              "    </tr>\n",
              "  </thead>\n",
              "  <tbody>\n",
              "    <tr>\n",
              "      <th>0</th>\n",
              "      <td>5622</td>\n",
              "      <td>4</td>\n",
              "      <td>PARAR NOS CANTEIROS CENTRAIS OU DIVISORES DE P...</td>\n",
              "      <td>182 * VI</td>\n",
              "      <td>CON</td>\n",
              "      <td>3</td>\n",
              "      <td>88.38</td>\n",
              "    </tr>\n",
              "    <tr>\n",
              "      <th>1</th>\n",
              "      <td>5622</td>\n",
              "      <td>5</td>\n",
              "      <td>PARAR NAS MARCAS DE CANALIZACAO</td>\n",
              "      <td>182 * VI</td>\n",
              "      <td>CON</td>\n",
              "      <td>3</td>\n",
              "      <td>88.38</td>\n",
              "    </tr>\n",
              "    <tr>\n",
              "      <th>2</th>\n",
              "      <td>5630</td>\n",
              "      <td>0</td>\n",
              "      <td>PARAR NA AREA DE CRUZAMENTO DE VIAS</td>\n",
              "      <td>182 * VII</td>\n",
              "      <td>CON</td>\n",
              "      <td>4</td>\n",
              "      <td>130.16</td>\n",
              "    </tr>\n",
              "    <tr>\n",
              "      <th>3</th>\n",
              "      <td>5649</td>\n",
              "      <td>1</td>\n",
              "      <td>PARAR NOS VIADUTOS</td>\n",
              "      <td>182 * VIII</td>\n",
              "      <td>CON</td>\n",
              "      <td>4</td>\n",
              "      <td>130.16</td>\n",
              "    </tr>\n",
              "    <tr>\n",
              "      <th>4</th>\n",
              "      <td>5649</td>\n",
              "      <td>2</td>\n",
              "      <td>PARAR NAS PONTES</td>\n",
              "      <td>182 * VIII</td>\n",
              "      <td>CON</td>\n",
              "      <td>4</td>\n",
              "      <td>130.16</td>\n",
              "    </tr>\n",
              "  </tbody>\n",
              "</table>\n",
              "</div>\n",
              "      <button class=\"colab-df-convert\" onclick=\"convertToInteractive('df-a41d5ef2-3e03-4bf7-9739-ad6c3cd37602')\"\n",
              "              title=\"Convert this dataframe to an interactive table.\"\n",
              "              style=\"display:none;\">\n",
              "        \n",
              "  <svg xmlns=\"http://www.w3.org/2000/svg\" height=\"24px\"viewBox=\"0 0 24 24\"\n",
              "       width=\"24px\">\n",
              "    <path d=\"M0 0h24v24H0V0z\" fill=\"none\"/>\n",
              "    <path d=\"M18.56 5.44l.94 2.06.94-2.06 2.06-.94-2.06-.94-.94-2.06-.94 2.06-2.06.94zm-11 1L8.5 8.5l.94-2.06 2.06-.94-2.06-.94L8.5 2.5l-.94 2.06-2.06.94zm10 10l.94 2.06.94-2.06 2.06-.94-2.06-.94-.94-2.06-.94 2.06-2.06.94z\"/><path d=\"M17.41 7.96l-1.37-1.37c-.4-.4-.92-.59-1.43-.59-.52 0-1.04.2-1.43.59L10.3 9.45l-7.72 7.72c-.78.78-.78 2.05 0 2.83L4 21.41c.39.39.9.59 1.41.59.51 0 1.02-.2 1.41-.59l7.78-7.78 2.81-2.81c.8-.78.8-2.07 0-2.86zM5.41 20L4 18.59l7.72-7.72 1.47 1.35L5.41 20z\"/>\n",
              "  </svg>\n",
              "      </button>\n",
              "      \n",
              "  <style>\n",
              "    .colab-df-container {\n",
              "      display:flex;\n",
              "      flex-wrap:wrap;\n",
              "      gap: 12px;\n",
              "    }\n",
              "\n",
              "    .colab-df-convert {\n",
              "      background-color: #E8F0FE;\n",
              "      border: none;\n",
              "      border-radius: 50%;\n",
              "      cursor: pointer;\n",
              "      display: none;\n",
              "      fill: #1967D2;\n",
              "      height: 32px;\n",
              "      padding: 0 0 0 0;\n",
              "      width: 32px;\n",
              "    }\n",
              "\n",
              "    .colab-df-convert:hover {\n",
              "      background-color: #E2EBFA;\n",
              "      box-shadow: 0px 1px 2px rgba(60, 64, 67, 0.3), 0px 1px 3px 1px rgba(60, 64, 67, 0.15);\n",
              "      fill: #174EA6;\n",
              "    }\n",
              "\n",
              "    [theme=dark] .colab-df-convert {\n",
              "      background-color: #3B4455;\n",
              "      fill: #D2E3FC;\n",
              "    }\n",
              "\n",
              "    [theme=dark] .colab-df-convert:hover {\n",
              "      background-color: #434B5C;\n",
              "      box-shadow: 0px 1px 3px 1px rgba(0, 0, 0, 0.15);\n",
              "      filter: drop-shadow(0px 1px 2px rgba(0, 0, 0, 0.3));\n",
              "      fill: #FFFFFF;\n",
              "    }\n",
              "  </style>\n",
              "\n",
              "      <script>\n",
              "        const buttonEl =\n",
              "          document.querySelector('#df-a41d5ef2-3e03-4bf7-9739-ad6c3cd37602 button.colab-df-convert');\n",
              "        buttonEl.style.display =\n",
              "          google.colab.kernel.accessAllowed ? 'block' : 'none';\n",
              "\n",
              "        async function convertToInteractive(key) {\n",
              "          const element = document.querySelector('#df-a41d5ef2-3e03-4bf7-9739-ad6c3cd37602');\n",
              "          const dataTable =\n",
              "            await google.colab.kernel.invokeFunction('convertToInteractive',\n",
              "                                                     [key], {});\n",
              "          if (!dataTable) return;\n",
              "\n",
              "          const docLinkHtml = 'Like what you see? Visit the ' +\n",
              "            '<a target=\"_blank\" href=https://colab.research.google.com/notebooks/data_table.ipynb>data table notebook</a>'\n",
              "            + ' to learn more about interactive tables.';\n",
              "          element.innerHTML = '';\n",
              "          dataTable['output_type'] = 'display_data';\n",
              "          await google.colab.output.renderOutput(dataTable, element);\n",
              "          const docLink = document.createElement('div');\n",
              "          docLink.innerHTML = docLinkHtml;\n",
              "          element.appendChild(docLink);\n",
              "        }\n",
              "      </script>\n",
              "    </div>\n",
              "  </div>\n",
              "  "
            ]
          },
          "metadata": {},
          "execution_count": 465
        }
      ]
    },
    {
      "cell_type": "code",
      "source": [
        "df_violation_ticket_value.rename( columns={'Código':'Código_da_Infração'}, inplace=True )"
      ],
      "metadata": {
        "id": "5ydFhWzpangH"
      },
      "execution_count": 466,
      "outputs": []
    },
    {
      "cell_type": "code",
      "source": [
        "# Ajustando os dados de multas\n",
        "# Codigos has more thna 1 type on infraction, when we try to merge all tables the repeted data will be duplicate\n",
        "# Grouping by the violation code and getting the mean value will prevent this to happen\n",
        "ticket_value = df_violation_ticket_value.groupby( by=['Código_da_Infração'] ).mean()['Valor'].reset_index()"
      ],
      "metadata": {
        "id": "0KsJkXFXa4l_"
      },
      "execution_count": 467,
      "outputs": []
    },
    {
      "cell_type": "markdown",
      "source": [
        "codigo de infração é diferente nas tabelas, o ultimo digito não é obrigatorio então pdoemos arrumar isso no nosso dataframe de spark"
      ],
      "metadata": {
        "id": "mlV8SPc9ebTD"
      }
    },
    {
      "cell_type": "code",
      "source": [
        "TV22.show(5)"
      ],
      "metadata": {
        "colab": {
          "base_uri": "https://localhost:8080/"
        },
        "id": "ws7BU7eMbB2g",
        "outputId": "574da445-24e4-4067-c317-b3cd96808f66"
      },
      "execution_count": 468,
      "outputs": [
        {
          "output_type": "stream",
          "name": "stdout",
          "text": [
            "+---------------+---------------------------+----------------------+------------------+---------------+-----------+-----------+-----------+---------+-----------------------------+--------+-------------------------+-----------------------+----------------------+------------------------+------------------+----------------------------+-------------------------+---------------------------+---------------------+----------------+-------------+-------------------+------------------+-------------+\n",
            "| Número_do_Auto|Data_da_Infração_DD/MM/AAAA|Indicador_de_Abordagem|Assinatura_do_Auto|Sentido_Trafego|UF_Infração|BR_Infração|Km_Infração|Município|Indicador_Veiculo_Estrangeiro|UF_Placa|Descrição_Especie_Veículo|Descrição_Marca_Veículo|Descrição_Tipo_Veículo|Descrição_Modelo_Veiculo|Código_da_Infração|Descrição_Abreviada_Infração|Enquadramento_da_Infração|Início_Vigência_da_Infração|Fim_Vigência_Infração|Medição_Infração|Hora_Infração|Medição_Considerada|Excesso_Verificado|Qtd_Infrações|\n",
            "+---------------+---------------------------+----------------------+------------------+---------------+-----------+-----------+-----------+---------+-----------------------------+--------+-------------------------+-----------------------+----------------------+------------------------+------------------+----------------------------+-------------------------+---------------------------+---------------------+----------------+-------------+-------------------+------------------+-------------+\n",
            "|de6fbeb3e7b3679|                 2022-04-19|                     C|                 N|              C|         MA|        230|        402|   BALSAS|                            N|      MA|               PASSAGEIRO|          HONDA/BIZ 125|              MOTONETA|           HONDA/BIZ 125|             65991|        Conduzir o veícul...|                  230 * V|                 2016-11-01|                   NA|         Nenhuma|           11|                  0|                 0|            1|\n",
            "|70129253b349908|                 2022-04-19|                     C|                 N|              C|         MA|        230|        402|   BALSAS|                            N|      MA|               PASSAGEIRO|          HONDA/BIZ 125|              MOTONETA|           HONDA/BIZ 125|             50450|        Dirigir veículo c...|                    162 V|                 2016-11-01|                   NA|         Nenhuma|           11|                  0|                 0|            1|\n",
            "|5c0c1f2a00e4f9e|                 2022-04-02|                     C|                 N|              C|         MG|        364|         27|   FRUTAL|                            N|      MG|               PASSAGEIRO|   HONDA/CG 125 TITA...|           MOTOCICLETA|    HONDA/CG 125 TITA...|             50100|        Dirigir veículo s...|                    162 I|                 2016-11-01|                   NA|         Nenhuma|           11|                  0|                 0|            1|\n",
            "|f464df1906b86bf|                 2022-04-14|                     C|                 S|              C|         MG|        153|        194|   FRUTAL|                            N|      9B|                   TRACAO|   SCANIA/T113 H 4X2...|       CAMINHAO TRATOR|    SCANIA/T113 H 4X2...|             50292|        Dirigir veículo c...|                   162 II|                 2016-11-01|                   NA|         Nenhuma|           11|                  0|                 0|            1|\n",
            "|bcec331569ea15d|                 2022-04-24|                     S|                 N|              D|         SP|        116|        112|  TAUBATE|                            N|     '-1|               PASSAGEIRO|         I/CHERY QQ 1.1|             AUTOMOVEL|                  QQ 1.1|             54440|        Estacionar nos ac...|                  181 VII|                 2016-11-01|                   NA|         Nenhuma|            3|                  0|                 0|            1|\n",
            "+---------------+---------------------------+----------------------+------------------+---------------+-----------+-----------+-----------+---------+-----------------------------+--------+-------------------------+-----------------------+----------------------+------------------------+------------------+----------------------------+-------------------------+---------------------------+---------------------+----------------+-------------+-------------------+------------------+-------------+\n",
            "only showing top 5 rows\n",
            "\n"
          ]
        }
      ]
    },
    {
      "cell_type": "code",
      "source": [
        "ticket_value.head()"
      ],
      "metadata": {
        "colab": {
          "base_uri": "https://localhost:8080/",
          "height": 206
        },
        "id": "7M8N9zvZeVxe",
        "outputId": "4076eca0-bd6d-4fbd-f684-09cbda19364d"
      },
      "execution_count": 469,
      "outputs": [
        {
          "output_type": "execute_result",
          "data": {
            "text/plain": [
              "   Código_da_Infração   Valor\n",
              "0                5002    0.00\n",
              "1                5010  880.41\n",
              "2                5029  880.41\n",
              "3                5037  586.94\n",
              "4                5045  293.47"
            ],
            "text/html": [
              "\n",
              "  <div id=\"df-2d64996f-f9e0-499c-88a1-1422c06f9f0d\">\n",
              "    <div class=\"colab-df-container\">\n",
              "      <div>\n",
              "<style scoped>\n",
              "    .dataframe tbody tr th:only-of-type {\n",
              "        vertical-align: middle;\n",
              "    }\n",
              "\n",
              "    .dataframe tbody tr th {\n",
              "        vertical-align: top;\n",
              "    }\n",
              "\n",
              "    .dataframe thead th {\n",
              "        text-align: right;\n",
              "    }\n",
              "</style>\n",
              "<table border=\"1\" class=\"dataframe\">\n",
              "  <thead>\n",
              "    <tr style=\"text-align: right;\">\n",
              "      <th></th>\n",
              "      <th>Código_da_Infração</th>\n",
              "      <th>Valor</th>\n",
              "    </tr>\n",
              "  </thead>\n",
              "  <tbody>\n",
              "    <tr>\n",
              "      <th>0</th>\n",
              "      <td>5002</td>\n",
              "      <td>0.00</td>\n",
              "    </tr>\n",
              "    <tr>\n",
              "      <th>1</th>\n",
              "      <td>5010</td>\n",
              "      <td>880.41</td>\n",
              "    </tr>\n",
              "    <tr>\n",
              "      <th>2</th>\n",
              "      <td>5029</td>\n",
              "      <td>880.41</td>\n",
              "    </tr>\n",
              "    <tr>\n",
              "      <th>3</th>\n",
              "      <td>5037</td>\n",
              "      <td>586.94</td>\n",
              "    </tr>\n",
              "    <tr>\n",
              "      <th>4</th>\n",
              "      <td>5045</td>\n",
              "      <td>293.47</td>\n",
              "    </tr>\n",
              "  </tbody>\n",
              "</table>\n",
              "</div>\n",
              "      <button class=\"colab-df-convert\" onclick=\"convertToInteractive('df-2d64996f-f9e0-499c-88a1-1422c06f9f0d')\"\n",
              "              title=\"Convert this dataframe to an interactive table.\"\n",
              "              style=\"display:none;\">\n",
              "        \n",
              "  <svg xmlns=\"http://www.w3.org/2000/svg\" height=\"24px\"viewBox=\"0 0 24 24\"\n",
              "       width=\"24px\">\n",
              "    <path d=\"M0 0h24v24H0V0z\" fill=\"none\"/>\n",
              "    <path d=\"M18.56 5.44l.94 2.06.94-2.06 2.06-.94-2.06-.94-.94-2.06-.94 2.06-2.06.94zm-11 1L8.5 8.5l.94-2.06 2.06-.94-2.06-.94L8.5 2.5l-.94 2.06-2.06.94zm10 10l.94 2.06.94-2.06 2.06-.94-2.06-.94-.94-2.06-.94 2.06-2.06.94z\"/><path d=\"M17.41 7.96l-1.37-1.37c-.4-.4-.92-.59-1.43-.59-.52 0-1.04.2-1.43.59L10.3 9.45l-7.72 7.72c-.78.78-.78 2.05 0 2.83L4 21.41c.39.39.9.59 1.41.59.51 0 1.02-.2 1.41-.59l7.78-7.78 2.81-2.81c.8-.78.8-2.07 0-2.86zM5.41 20L4 18.59l7.72-7.72 1.47 1.35L5.41 20z\"/>\n",
              "  </svg>\n",
              "      </button>\n",
              "      \n",
              "  <style>\n",
              "    .colab-df-container {\n",
              "      display:flex;\n",
              "      flex-wrap:wrap;\n",
              "      gap: 12px;\n",
              "    }\n",
              "\n",
              "    .colab-df-convert {\n",
              "      background-color: #E8F0FE;\n",
              "      border: none;\n",
              "      border-radius: 50%;\n",
              "      cursor: pointer;\n",
              "      display: none;\n",
              "      fill: #1967D2;\n",
              "      height: 32px;\n",
              "      padding: 0 0 0 0;\n",
              "      width: 32px;\n",
              "    }\n",
              "\n",
              "    .colab-df-convert:hover {\n",
              "      background-color: #E2EBFA;\n",
              "      box-shadow: 0px 1px 2px rgba(60, 64, 67, 0.3), 0px 1px 3px 1px rgba(60, 64, 67, 0.15);\n",
              "      fill: #174EA6;\n",
              "    }\n",
              "\n",
              "    [theme=dark] .colab-df-convert {\n",
              "      background-color: #3B4455;\n",
              "      fill: #D2E3FC;\n",
              "    }\n",
              "\n",
              "    [theme=dark] .colab-df-convert:hover {\n",
              "      background-color: #434B5C;\n",
              "      box-shadow: 0px 1px 3px 1px rgba(0, 0, 0, 0.15);\n",
              "      filter: drop-shadow(0px 1px 2px rgba(0, 0, 0, 0.3));\n",
              "      fill: #FFFFFF;\n",
              "    }\n",
              "  </style>\n",
              "\n",
              "      <script>\n",
              "        const buttonEl =\n",
              "          document.querySelector('#df-2d64996f-f9e0-499c-88a1-1422c06f9f0d button.colab-df-convert');\n",
              "        buttonEl.style.display =\n",
              "          google.colab.kernel.accessAllowed ? 'block' : 'none';\n",
              "\n",
              "        async function convertToInteractive(key) {\n",
              "          const element = document.querySelector('#df-2d64996f-f9e0-499c-88a1-1422c06f9f0d');\n",
              "          const dataTable =\n",
              "            await google.colab.kernel.invokeFunction('convertToInteractive',\n",
              "                                                     [key], {});\n",
              "          if (!dataTable) return;\n",
              "\n",
              "          const docLinkHtml = 'Like what you see? Visit the ' +\n",
              "            '<a target=\"_blank\" href=https://colab.research.google.com/notebooks/data_table.ipynb>data table notebook</a>'\n",
              "            + ' to learn more about interactive tables.';\n",
              "          element.innerHTML = '';\n",
              "          dataTable['output_type'] = 'display_data';\n",
              "          await google.colab.output.renderOutput(dataTable, element);\n",
              "          const docLink = document.createElement('div');\n",
              "          docLink.innerHTML = docLinkHtml;\n",
              "          element.appendChild(docLink);\n",
              "        }\n",
              "      </script>\n",
              "    </div>\n",
              "  </div>\n",
              "  "
            ]
          },
          "metadata": {},
          "execution_count": 469
        }
      ]
    },
    {
      "cell_type": "code",
      "source": [
        "TV22 = TV22.withColumn('Código_da_Infração', col('Código_da_Infração').substr(1, 4))"
      ],
      "metadata": {
        "id": "09AWA56YgKE0"
      },
      "execution_count": 470,
      "outputs": []
    },
    {
      "cell_type": "code",
      "source": [
        "TV22 = TV22.withColumn(\"Código_da_Infração\", col(\"Código_da_Infração\").cast(\"int\"))"
      ],
      "metadata": {
        "id": "IuqLgPdfg-r4"
      },
      "execution_count": 471,
      "outputs": []
    },
    {
      "cell_type": "code",
      "source": [
        "TV22.printSchema()"
      ],
      "metadata": {
        "colab": {
          "base_uri": "https://localhost:8080/"
        },
        "id": "PqhBMal3gRJZ",
        "outputId": "5c94ceab-d627-419f-c84a-70118b68706e"
      },
      "execution_count": 472,
      "outputs": [
        {
          "output_type": "stream",
          "name": "stdout",
          "text": [
            "root\n",
            " |-- Número_do_Auto: string (nullable = true)\n",
            " |-- Data_da_Infração_DD/MM/AAAA: date (nullable = true)\n",
            " |-- Indicador_de_Abordagem: string (nullable = true)\n",
            " |-- Assinatura_do_Auto: string (nullable = true)\n",
            " |-- Sentido_Trafego: string (nullable = true)\n",
            " |-- UF_Infração: string (nullable = true)\n",
            " |-- BR_Infração: string (nullable = true)\n",
            " |-- Km_Infração: string (nullable = true)\n",
            " |-- Município: string (nullable = true)\n",
            " |-- Indicador_Veiculo_Estrangeiro: string (nullable = true)\n",
            " |-- UF_Placa: string (nullable = true)\n",
            " |-- Descrição_Especie_Veículo: string (nullable = true)\n",
            " |-- Descrição_Marca_Veículo: string (nullable = true)\n",
            " |-- Descrição_Tipo_Veículo: string (nullable = true)\n",
            " |-- Descrição_Modelo_Veiculo: string (nullable = true)\n",
            " |-- Código_da_Infração: integer (nullable = true)\n",
            " |-- Descrição_Abreviada_Infração: string (nullable = true)\n",
            " |-- Enquadramento_da_Infração: string (nullable = true)\n",
            " |-- Início_Vigência_da_Infração: string (nullable = true)\n",
            " |-- Fim_Vigência_Infração: string (nullable = true)\n",
            " |-- Medição_Infração: string (nullable = true)\n",
            " |-- Hora_Infração: string (nullable = true)\n",
            " |-- Medição_Considerada: string (nullable = true)\n",
            " |-- Excesso_Verificado: string (nullable = true)\n",
            " |-- Qtd_Infrações: string (nullable = true)\n",
            "\n"
          ]
        }
      ]
    },
    {
      "cell_type": "code",
      "source": [
        "violation_ticket_value = spark.createDataFrame(ticket_value)"
      ],
      "metadata": {
        "id": "lvHKa4HUjxHI"
      },
      "execution_count": 473,
      "outputs": []
    },
    {
      "cell_type": "code",
      "source": [
        "violation_ticket_value = violation_ticket_value.withColumn(\"Código_da_Infração\", col(\"Código_da_Infração\").cast(\"int\"))\n",
        "violation_ticket_value = violation_ticket_value.withColumn(\"Valor\", col(\"Valor\").cast(\"float\"))\n",
        "violation_ticket_value = violation_ticket_value.na.fill(0, subset=[\"Valor\"])"
      ],
      "metadata": {
        "id": "XMcPc6rUn2lm"
      },
      "execution_count": 498,
      "outputs": []
    },
    {
      "cell_type": "code",
      "source": [
        "violation_ticket_value.printSchema()"
      ],
      "metadata": {
        "colab": {
          "base_uri": "https://localhost:8080/"
        },
        "id": "J7XSLGannq3d",
        "outputId": "2aca1ef7-ae3c-411d-f5a4-a098c313cc81"
      },
      "execution_count": 499,
      "outputs": [
        {
          "output_type": "stream",
          "name": "stdout",
          "text": [
            "root\n",
            " |-- Código_da_Infração: integer (nullable = true)\n",
            " |-- Valor: float (nullable = false)\n",
            "\n"
          ]
        }
      ]
    },
    {
      "cell_type": "code",
      "source": [
        "TV22 = TV22.join(violation_ticket_value, on='Código_da_Infração', how='left')"
      ],
      "metadata": {
        "id": "kBXQygr0pTg_"
      },
      "execution_count": 500,
      "outputs": []
    },
    {
      "cell_type": "code",
      "source": [
        "TV22.printSchema()"
      ],
      "metadata": {
        "colab": {
          "base_uri": "https://localhost:8080/"
        },
        "id": "yXCYo8rzpbzy",
        "outputId": "b90b3ea6-df78-4072-b015-d4d7a145762d"
      },
      "execution_count": 501,
      "outputs": [
        {
          "output_type": "stream",
          "name": "stdout",
          "text": [
            "root\n",
            " |-- Código_da_Infração: integer (nullable = true)\n",
            " |-- Número_do_Auto: string (nullable = true)\n",
            " |-- Data_da_Infração_DD/MM/AAAA: date (nullable = true)\n",
            " |-- Indicador_de_Abordagem: string (nullable = true)\n",
            " |-- Assinatura_do_Auto: string (nullable = true)\n",
            " |-- Sentido_Trafego: string (nullable = true)\n",
            " |-- UF_Infração: string (nullable = true)\n",
            " |-- BR_Infração: string (nullable = true)\n",
            " |-- Km_Infração: string (nullable = true)\n",
            " |-- Município: string (nullable = true)\n",
            " |-- Indicador_Veiculo_Estrangeiro: string (nullable = true)\n",
            " |-- UF_Placa: string (nullable = true)\n",
            " |-- Descrição_Especie_Veículo: string (nullable = true)\n",
            " |-- Descrição_Marca_Veículo: string (nullable = true)\n",
            " |-- Descrição_Tipo_Veículo: string (nullable = true)\n",
            " |-- Descrição_Modelo_Veiculo: string (nullable = true)\n",
            " |-- Descrição_Abreviada_Infração: string (nullable = true)\n",
            " |-- Enquadramento_da_Infração: string (nullable = true)\n",
            " |-- Início_Vigência_da_Infração: string (nullable = true)\n",
            " |-- Fim_Vigência_Infração: string (nullable = true)\n",
            " |-- Medição_Infração: string (nullable = true)\n",
            " |-- Hora_Infração: string (nullable = true)\n",
            " |-- Medição_Considerada: string (nullable = true)\n",
            " |-- Excesso_Verificado: string (nullable = true)\n",
            " |-- Qtd_Infrações: string (nullable = true)\n",
            " |-- Valor: float (nullable = true)\n",
            "\n"
          ]
        }
      ]
    },
    {
      "cell_type": "code",
      "source": [
        "uf_tickets_value = TV22.groupBy('UF_Infração').agg(\n",
        "    count('Valor').alias('Violations_Count'),\n",
        "    sum('Valor').alias('Total_ticket_value')\n",
        ")"
      ],
      "metadata": {
        "id": "x-B3R1Baqc8Y"
      },
      "execution_count": 513,
      "outputs": []
    },
    {
      "cell_type": "code",
      "source": [
        "uf_tickets_value.show(5)"
      ],
      "metadata": {
        "colab": {
          "base_uri": "https://localhost:8080/"
        },
        "id": "TJOnPYTHqh7w",
        "outputId": "68508cc3-ae57-45d1-f2c3-f7cb3a0196d6"
      },
      "execution_count": 514,
      "outputs": [
        {
          "output_type": "stream",
          "name": "stdout",
          "text": [
            "+-----------+----------------+--------------------+\n",
            "|UF_Infração|Violations_Count|  Total_ticket_value|\n",
            "+-----------+----------------+--------------------+\n",
            "|         SC|          178040|  3.88509024023819E7|\n",
            "|         RO|           93105|2.0328607025260925E7|\n",
            "|         PI|           85095| 2.318876397544861E7|\n",
            "|         AM|           20102|   4812790.681762695|\n",
            "|         RR|           12033|   3387469.271133423|\n",
            "+-----------+----------------+--------------------+\n",
            "only showing top 5 rows\n",
            "\n"
          ]
        }
      ]
    },
    {
      "cell_type": "code",
      "source": [
        "# Import pandas lib\n",
        "import pandas as pd\n",
        "\n",
        "# Converting Spark Dataframe to Pandas Dataframe\n",
        "df_uf_tickets_value = uf_tickets_value.toPandas()"
      ],
      "metadata": {
        "id": "gEEzU1Pdyk4n"
      },
      "execution_count": 515,
      "outputs": []
    },
    {
      "cell_type": "code",
      "source": [
        "px.scatter(\n",
        "    df_uf_tickets_value,\n",
        "    x='Violations_Count',\n",
        "    y='Total_ticket_value',\n",
        "    color='UF_Infração',\n",
        "    size='Violations_Count',\n",
        "    log_x=True,\n",
        "    size_max=60,\n",
        "    title='Bubble PLOT' )"
      ],
      "metadata": {
        "colab": {
          "base_uri": "https://localhost:8080/",
          "height": 542
        },
        "id": "mVkcKsbOrlQ1",
        "outputId": "957c6282-751e-48a9-df0a-d408f2253948"
      },
      "execution_count": 517,
      "outputs": [
        {
          "output_type": "display_data",
          "data": {
            "text/html": [
              "<html>\n",
              "<head><meta charset=\"utf-8\" /></head>\n",
              "<body>\n",
              "    <div>            <script src=\"https://cdnjs.cloudflare.com/ajax/libs/mathjax/2.7.5/MathJax.js?config=TeX-AMS-MML_SVG\"></script><script type=\"text/javascript\">if (window.MathJax && window.MathJax.Hub && window.MathJax.Hub.Config) {window.MathJax.Hub.Config({SVG: {font: \"STIX-Web\"}});}</script>                <script type=\"text/javascript\">window.PlotlyConfig = {MathJaxConfig: 'local'};</script>\n",
              "        <script src=\"https://cdn.plot.ly/plotly-2.18.2.min.js\"></script>                <div id=\"3126c5a8-2d6a-49e5-a8c8-073f6ff980e7\" class=\"plotly-graph-div\" style=\"height:525px; width:100%;\"></div>            <script type=\"text/javascript\">                                    window.PLOTLYENV=window.PLOTLYENV || {};                                    if (document.getElementById(\"3126c5a8-2d6a-49e5-a8c8-073f6ff980e7\")) {                    Plotly.newPlot(                        \"3126c5a8-2d6a-49e5-a8c8-073f6ff980e7\",                        [{\"hovertemplate\":\"UF_Infra\\u00e7\\u00e3o=SC<br>Violations_Count=%{marker.size}<br>Total_ticket_value=%{y}<extra></extra>\",\"legendgroup\":\"SC\",\"marker\":{\"color\":\"#636efa\",\"size\":[178040],\"sizemode\":\"area\",\"sizeref\":124.63111111111111,\"symbol\":\"circle\"},\"mode\":\"markers\",\"name\":\"SC\",\"orientation\":\"v\",\"showlegend\":true,\"x\":[178040],\"xaxis\":\"x\",\"y\":[38850902.4023819],\"yaxis\":\"y\",\"type\":\"scatter\"},{\"hovertemplate\":\"UF_Infra\\u00e7\\u00e3o=RO<br>Violations_Count=%{marker.size}<br>Total_ticket_value=%{y}<extra></extra>\",\"legendgroup\":\"RO\",\"marker\":{\"color\":\"#EF553B\",\"size\":[93105],\"sizemode\":\"area\",\"sizeref\":124.63111111111111,\"symbol\":\"circle\"},\"mode\":\"markers\",\"name\":\"RO\",\"orientation\":\"v\",\"showlegend\":true,\"x\":[93105],\"xaxis\":\"x\",\"y\":[20328607.025260925],\"yaxis\":\"y\",\"type\":\"scatter\"},{\"hovertemplate\":\"UF_Infra\\u00e7\\u00e3o=PI<br>Violations_Count=%{marker.size}<br>Total_ticket_value=%{y}<extra></extra>\",\"legendgroup\":\"PI\",\"marker\":{\"color\":\"#00cc96\",\"size\":[85095],\"sizemode\":\"area\",\"sizeref\":124.63111111111111,\"symbol\":\"circle\"},\"mode\":\"markers\",\"name\":\"PI\",\"orientation\":\"v\",\"showlegend\":true,\"x\":[85095],\"xaxis\":\"x\",\"y\":[23188763.97544861],\"yaxis\":\"y\",\"type\":\"scatter\"},{\"hovertemplate\":\"UF_Infra\\u00e7\\u00e3o=AM<br>Violations_Count=%{marker.size}<br>Total_ticket_value=%{y}<extra></extra>\",\"legendgroup\":\"AM\",\"marker\":{\"color\":\"#ab63fa\",\"size\":[20102],\"sizemode\":\"area\",\"sizeref\":124.63111111111111,\"symbol\":\"circle\"},\"mode\":\"markers\",\"name\":\"AM\",\"orientation\":\"v\",\"showlegend\":true,\"x\":[20102],\"xaxis\":\"x\",\"y\":[4812790.681762695],\"yaxis\":\"y\",\"type\":\"scatter\"},{\"hovertemplate\":\"UF_Infra\\u00e7\\u00e3o=RR<br>Violations_Count=%{marker.size}<br>Total_ticket_value=%{y}<extra></extra>\",\"legendgroup\":\"RR\",\"marker\":{\"color\":\"#FFA15A\",\"size\":[12033],\"sizemode\":\"area\",\"sizeref\":124.63111111111111,\"symbol\":\"circle\"},\"mode\":\"markers\",\"name\":\"RR\",\"orientation\":\"v\",\"showlegend\":true,\"x\":[12033],\"xaxis\":\"x\",\"y\":[3387469.271133423],\"yaxis\":\"y\",\"type\":\"scatter\"},{\"hovertemplate\":\"UF_Infra\\u00e7\\u00e3o=GO<br>Violations_Count=%{marker.size}<br>Total_ticket_value=%{y}<extra></extra>\",\"legendgroup\":\"GO\",\"marker\":{\"color\":\"#19d3f3\",\"size\":[230375],\"sizemode\":\"area\",\"sizeref\":124.63111111111111,\"symbol\":\"circle\"},\"mode\":\"markers\",\"name\":\"GO\",\"orientation\":\"v\",\"showlegend\":true,\"x\":[230375],\"xaxis\":\"x\",\"y\":[50661528.051475525],\"yaxis\":\"y\",\"type\":\"scatter\"},{\"hovertemplate\":\"UF_Infra\\u00e7\\u00e3o=TO<br>Violations_Count=%{marker.size}<br>Total_ticket_value=%{y}<extra></extra>\",\"legendgroup\":\"TO\",\"marker\":{\"color\":\"#FF6692\",\"size\":[37861],\"sizemode\":\"area\",\"sizeref\":124.63111111111111,\"symbol\":\"circle\"},\"mode\":\"markers\",\"name\":\"TO\",\"orientation\":\"v\",\"showlegend\":true,\"x\":[37861],\"xaxis\":\"x\",\"y\":[8234440.327224731],\"yaxis\":\"y\",\"type\":\"scatter\"},{\"hovertemplate\":\"UF_Infra\\u00e7\\u00e3o=MT<br>Violations_Count=%{marker.size}<br>Total_ticket_value=%{y}<extra></extra>\",\"legendgroup\":\"MT\",\"marker\":{\"color\":\"#B6E880\",\"size\":[172734],\"sizemode\":\"area\",\"sizeref\":124.63111111111111,\"symbol\":\"circle\"},\"mode\":\"markers\",\"name\":\"MT\",\"orientation\":\"v\",\"showlegend\":true,\"x\":[172734],\"xaxis\":\"x\",\"y\":[35817557.54766846],\"yaxis\":\"y\",\"type\":\"scatter\"},{\"hovertemplate\":\"UF_Infra\\u00e7\\u00e3o=SP<br>Violations_Count=%{marker.size}<br>Total_ticket_value=%{y}<extra></extra>\",\"legendgroup\":\"SP\",\"marker\":{\"color\":\"#FF97FF\",\"size\":[378074],\"sizemode\":\"area\",\"sizeref\":124.63111111111111,\"symbol\":\"circle\"},\"mode\":\"markers\",\"name\":\"SP\",\"orientation\":\"v\",\"showlegend\":true,\"x\":[378074],\"xaxis\":\"x\",\"y\":[78130854.99378967],\"yaxis\":\"y\",\"type\":\"scatter\"},{\"hovertemplate\":\"UF_Infra\\u00e7\\u00e3o=ES<br>Violations_Count=%{marker.size}<br>Total_ticket_value=%{y}<extra></extra>\",\"legendgroup\":\"ES\",\"marker\":{\"color\":\"#FECB52\",\"size\":[150991],\"sizemode\":\"area\",\"sizeref\":124.63111111111111,\"symbol\":\"circle\"},\"mode\":\"markers\",\"name\":\"ES\",\"orientation\":\"v\",\"showlegend\":true,\"x\":[150991],\"xaxis\":\"x\",\"y\":[28556599.891540527],\"yaxis\":\"y\",\"type\":\"scatter\"},{\"hovertemplate\":\"UF_Infra\\u00e7\\u00e3o=PB<br>Violations_Count=%{marker.size}<br>Total_ticket_value=%{y}<extra></extra>\",\"legendgroup\":\"PB\",\"marker\":{\"color\":\"#636efa\",\"size\":[77884],\"sizemode\":\"area\",\"sizeref\":124.63111111111111,\"symbol\":\"circle\"},\"mode\":\"markers\",\"name\":\"PB\",\"orientation\":\"v\",\"showlegend\":true,\"x\":[77884],\"xaxis\":\"x\",\"y\":[19697984.494796753],\"yaxis\":\"y\",\"type\":\"scatter\"},{\"hovertemplate\":\"UF_Infra\\u00e7\\u00e3o=RS<br>Violations_Count=%{marker.size}<br>Total_ticket_value=%{y}<extra></extra>\",\"legendgroup\":\"RS\",\"marker\":{\"color\":\"#EF553B\",\"size\":[252059],\"sizemode\":\"area\",\"sizeref\":124.63111111111111,\"symbol\":\"circle\"},\"mode\":\"markers\",\"name\":\"RS\",\"orientation\":\"v\",\"showlegend\":true,\"x\":[252059],\"xaxis\":\"x\",\"y\":[53291263.61489105],\"yaxis\":\"y\",\"type\":\"scatter\"},{\"hovertemplate\":\"UF_Infra\\u00e7\\u00e3o=MS<br>Violations_Count=%{marker.size}<br>Total_ticket_value=%{y}<extra></extra>\",\"legendgroup\":\"MS\",\"marker\":{\"color\":\"#00cc96\",\"size\":[248186],\"sizemode\":\"area\",\"sizeref\":124.63111111111111,\"symbol\":\"circle\"},\"mode\":\"markers\",\"name\":\"MS\",\"orientation\":\"v\",\"showlegend\":true,\"x\":[248186],\"xaxis\":\"x\",\"y\":[45215779.31459808],\"yaxis\":\"y\",\"type\":\"scatter\"},{\"hovertemplate\":\"UF_Infra\\u00e7\\u00e3o=AL<br>Violations_Count=%{marker.size}<br>Total_ticket_value=%{y}<extra></extra>\",\"legendgroup\":\"AL\",\"marker\":{\"color\":\"#ab63fa\",\"size\":[40597],\"sizemode\":\"area\",\"sizeref\":124.63111111111111,\"symbol\":\"circle\"},\"mode\":\"markers\",\"name\":\"AL\",\"orientation\":\"v\",\"showlegend\":true,\"x\":[40597],\"xaxis\":\"x\",\"y\":[10012247.701248169],\"yaxis\":\"y\",\"type\":\"scatter\"},{\"hovertemplate\":\"UF_Infra\\u00e7\\u00e3o=MG<br>Violations_Count=%{marker.size}<br>Total_ticket_value=%{y}<extra></extra>\",\"legendgroup\":\"MG\",\"marker\":{\"color\":\"#FFA15A\",\"size\":[448672],\"sizemode\":\"area\",\"sizeref\":124.63111111111111,\"symbol\":\"circle\"},\"mode\":\"markers\",\"name\":\"MG\",\"orientation\":\"v\",\"showlegend\":true,\"x\":[448672],\"xaxis\":\"x\",\"y\":[92949395.99262238],\"yaxis\":\"y\",\"type\":\"scatter\"},{\"hovertemplate\":\"UF_Infra\\u00e7\\u00e3o=PA<br>Violations_Count=%{marker.size}<br>Total_ticket_value=%{y}<extra></extra>\",\"legendgroup\":\"PA\",\"marker\":{\"color\":\"#19d3f3\",\"size\":[77960],\"sizemode\":\"area\",\"sizeref\":124.63111111111111,\"symbol\":\"circle\"},\"mode\":\"markers\",\"name\":\"PA\",\"orientation\":\"v\",\"showlegend\":true,\"x\":[77960],\"xaxis\":\"x\",\"y\":[19860206.449165344],\"yaxis\":\"y\",\"type\":\"scatter\"},{\"hovertemplate\":\"UF_Infra\\u00e7\\u00e3o=BA<br>Violations_Count=%{marker.size}<br>Total_ticket_value=%{y}<extra></extra>\",\"legendgroup\":\"BA\",\"marker\":{\"color\":\"#FF6692\",\"size\":[417092],\"sizemode\":\"area\",\"sizeref\":124.63111111111111,\"symbol\":\"circle\"},\"mode\":\"markers\",\"name\":\"BA\",\"orientation\":\"v\",\"showlegend\":true,\"x\":[417092],\"xaxis\":\"x\",\"y\":[76483852.00558472],\"yaxis\":\"y\",\"type\":\"scatter\"},{\"hovertemplate\":\"UF_Infra\\u00e7\\u00e3o=SE<br>Violations_Count=%{marker.size}<br>Total_ticket_value=%{y}<extra></extra>\",\"legendgroup\":\"SE\",\"marker\":{\"color\":\"#B6E880\",\"size\":[37545],\"sizemode\":\"area\",\"sizeref\":124.63111111111111,\"symbol\":\"circle\"},\"mode\":\"markers\",\"name\":\"SE\",\"orientation\":\"v\",\"showlegend\":true,\"x\":[37545],\"xaxis\":\"x\",\"y\":[9759531.909667969],\"yaxis\":\"y\",\"type\":\"scatter\"},{\"hovertemplate\":\"UF_Infra\\u00e7\\u00e3o=PE<br>Violations_Count=%{marker.size}<br>Total_ticket_value=%{y}<extra></extra>\",\"legendgroup\":\"PE\",\"marker\":{\"color\":\"#FF97FF\",\"size\":[136373],\"sizemode\":\"area\",\"sizeref\":124.63111111111111,\"symbol\":\"circle\"},\"mode\":\"markers\",\"name\":\"PE\",\"orientation\":\"v\",\"showlegend\":true,\"x\":[136373],\"xaxis\":\"x\",\"y\":[36970108.675590515],\"yaxis\":\"y\",\"type\":\"scatter\"},{\"hovertemplate\":\"UF_Infra\\u00e7\\u00e3o=CE<br>Violations_Count=%{marker.size}<br>Total_ticket_value=%{y}<extra></extra>\",\"legendgroup\":\"CE\",\"marker\":{\"color\":\"#FECB52\",\"size\":[127407],\"sizemode\":\"area\",\"sizeref\":124.63111111111111,\"symbol\":\"circle\"},\"mode\":\"markers\",\"name\":\"CE\",\"orientation\":\"v\",\"showlegend\":true,\"x\":[127407],\"xaxis\":\"x\",\"y\":[27450445.53530121],\"yaxis\":\"y\",\"type\":\"scatter\"},{\"hovertemplate\":\"UF_Infra\\u00e7\\u00e3o=RN<br>Violations_Count=%{marker.size}<br>Total_ticket_value=%{y}<extra></extra>\",\"legendgroup\":\"RN\",\"marker\":{\"color\":\"#636efa\",\"size\":[76745],\"sizemode\":\"area\",\"sizeref\":124.63111111111111,\"symbol\":\"circle\"},\"mode\":\"markers\",\"name\":\"RN\",\"orientation\":\"v\",\"showlegend\":true,\"x\":[76745],\"xaxis\":\"x\",\"y\":[19878389.14363098],\"yaxis\":\"y\",\"type\":\"scatter\"},{\"hovertemplate\":\"UF_Infra\\u00e7\\u00e3o=RJ<br>Violations_Count=%{marker.size}<br>Total_ticket_value=%{y}<extra></extra>\",\"legendgroup\":\"RJ\",\"marker\":{\"color\":\"#EF553B\",\"size\":[418981],\"sizemode\":\"area\",\"sizeref\":124.63111111111111,\"symbol\":\"circle\"},\"mode\":\"markers\",\"name\":\"RJ\",\"orientation\":\"v\",\"showlegend\":true,\"x\":[418981],\"xaxis\":\"x\",\"y\":[92716687.0568161],\"yaxis\":\"y\",\"type\":\"scatter\"},{\"hovertemplate\":\"UF_Infra\\u00e7\\u00e3o=MA<br>Violations_Count=%{marker.size}<br>Total_ticket_value=%{y}<extra></extra>\",\"legendgroup\":\"MA\",\"marker\":{\"color\":\"#00cc96\",\"size\":[73250],\"sizemode\":\"area\",\"sizeref\":124.63111111111111,\"symbol\":\"circle\"},\"mode\":\"markers\",\"name\":\"MA\",\"orientation\":\"v\",\"showlegend\":true,\"x\":[73250],\"xaxis\":\"x\",\"y\":[23778800.57247162],\"yaxis\":\"y\",\"type\":\"scatter\"},{\"hovertemplate\":\"UF_Infra\\u00e7\\u00e3o=AC<br>Violations_Count=%{marker.size}<br>Total_ticket_value=%{y}<extra></extra>\",\"legendgroup\":\"AC\",\"marker\":{\"color\":\"#ab63fa\",\"size\":[15531],\"sizemode\":\"area\",\"sizeref\":124.63111111111111,\"symbol\":\"circle\"},\"mode\":\"markers\",\"name\":\"AC\",\"orientation\":\"v\",\"showlegend\":true,\"x\":[15531],\"xaxis\":\"x\",\"y\":[3815800.941192627],\"yaxis\":\"y\",\"type\":\"scatter\"},{\"hovertemplate\":\"UF_Infra\\u00e7\\u00e3o=DF<br>Violations_Count=%{marker.size}<br>Total_ticket_value=%{y}<extra></extra>\",\"legendgroup\":\"DF\",\"marker\":{\"color\":\"#FFA15A\",\"size\":[73745],\"sizemode\":\"area\",\"sizeref\":124.63111111111111,\"symbol\":\"circle\"},\"mode\":\"markers\",\"name\":\"DF\",\"orientation\":\"v\",\"showlegend\":true,\"x\":[73745],\"xaxis\":\"x\",\"y\":[16553285.18244934],\"yaxis\":\"y\",\"type\":\"scatter\"},{\"hovertemplate\":\"UF_Infra\\u00e7\\u00e3o=PR<br>Violations_Count=%{marker.size}<br>Total_ticket_value=%{y}<extra></extra>\",\"legendgroup\":\"PR\",\"marker\":{\"color\":\"#19d3f3\",\"size\":[237359],\"sizemode\":\"area\",\"sizeref\":124.63111111111111,\"symbol\":\"circle\"},\"mode\":\"markers\",\"name\":\"PR\",\"orientation\":\"v\",\"showlegend\":true,\"x\":[237359],\"xaxis\":\"x\",\"y\":[49206567.26673889],\"yaxis\":\"y\",\"type\":\"scatter\"},{\"hovertemplate\":\"UF_Infra\\u00e7\\u00e3o=AP<br>Violations_Count=%{marker.size}<br>Total_ticket_value=%{y}<extra></extra>\",\"legendgroup\":\"AP\",\"marker\":{\"color\":\"#FF6692\",\"size\":[17726],\"sizemode\":\"area\",\"sizeref\":124.63111111111111,\"symbol\":\"circle\"},\"mode\":\"markers\",\"name\":\"AP\",\"orientation\":\"v\",\"showlegend\":true,\"x\":[17726],\"xaxis\":\"x\",\"y\":[5376411.030792236],\"yaxis\":\"y\",\"type\":\"scatter\"}],                        {\"template\":{\"data\":{\"histogram2dcontour\":[{\"type\":\"histogram2dcontour\",\"colorbar\":{\"outlinewidth\":0,\"ticks\":\"\"},\"colorscale\":[[0.0,\"#0d0887\"],[0.1111111111111111,\"#46039f\"],[0.2222222222222222,\"#7201a8\"],[0.3333333333333333,\"#9c179e\"],[0.4444444444444444,\"#bd3786\"],[0.5555555555555556,\"#d8576b\"],[0.6666666666666666,\"#ed7953\"],[0.7777777777777778,\"#fb9f3a\"],[0.8888888888888888,\"#fdca26\"],[1.0,\"#f0f921\"]]}],\"choropleth\":[{\"type\":\"choropleth\",\"colorbar\":{\"outlinewidth\":0,\"ticks\":\"\"}}],\"histogram2d\":[{\"type\":\"histogram2d\",\"colorbar\":{\"outlinewidth\":0,\"ticks\":\"\"},\"colorscale\":[[0.0,\"#0d0887\"],[0.1111111111111111,\"#46039f\"],[0.2222222222222222,\"#7201a8\"],[0.3333333333333333,\"#9c179e\"],[0.4444444444444444,\"#bd3786\"],[0.5555555555555556,\"#d8576b\"],[0.6666666666666666,\"#ed7953\"],[0.7777777777777778,\"#fb9f3a\"],[0.8888888888888888,\"#fdca26\"],[1.0,\"#f0f921\"]]}],\"heatmap\":[{\"type\":\"heatmap\",\"colorbar\":{\"outlinewidth\":0,\"ticks\":\"\"},\"colorscale\":[[0.0,\"#0d0887\"],[0.1111111111111111,\"#46039f\"],[0.2222222222222222,\"#7201a8\"],[0.3333333333333333,\"#9c179e\"],[0.4444444444444444,\"#bd3786\"],[0.5555555555555556,\"#d8576b\"],[0.6666666666666666,\"#ed7953\"],[0.7777777777777778,\"#fb9f3a\"],[0.8888888888888888,\"#fdca26\"],[1.0,\"#f0f921\"]]}],\"heatmapgl\":[{\"type\":\"heatmapgl\",\"colorbar\":{\"outlinewidth\":0,\"ticks\":\"\"},\"colorscale\":[[0.0,\"#0d0887\"],[0.1111111111111111,\"#46039f\"],[0.2222222222222222,\"#7201a8\"],[0.3333333333333333,\"#9c179e\"],[0.4444444444444444,\"#bd3786\"],[0.5555555555555556,\"#d8576b\"],[0.6666666666666666,\"#ed7953\"],[0.7777777777777778,\"#fb9f3a\"],[0.8888888888888888,\"#fdca26\"],[1.0,\"#f0f921\"]]}],\"contourcarpet\":[{\"type\":\"contourcarpet\",\"colorbar\":{\"outlinewidth\":0,\"ticks\":\"\"}}],\"contour\":[{\"type\":\"contour\",\"colorbar\":{\"outlinewidth\":0,\"ticks\":\"\"},\"colorscale\":[[0.0,\"#0d0887\"],[0.1111111111111111,\"#46039f\"],[0.2222222222222222,\"#7201a8\"],[0.3333333333333333,\"#9c179e\"],[0.4444444444444444,\"#bd3786\"],[0.5555555555555556,\"#d8576b\"],[0.6666666666666666,\"#ed7953\"],[0.7777777777777778,\"#fb9f3a\"],[0.8888888888888888,\"#fdca26\"],[1.0,\"#f0f921\"]]}],\"surface\":[{\"type\":\"surface\",\"colorbar\":{\"outlinewidth\":0,\"ticks\":\"\"},\"colorscale\":[[0.0,\"#0d0887\"],[0.1111111111111111,\"#46039f\"],[0.2222222222222222,\"#7201a8\"],[0.3333333333333333,\"#9c179e\"],[0.4444444444444444,\"#bd3786\"],[0.5555555555555556,\"#d8576b\"],[0.6666666666666666,\"#ed7953\"],[0.7777777777777778,\"#fb9f3a\"],[0.8888888888888888,\"#fdca26\"],[1.0,\"#f0f921\"]]}],\"mesh3d\":[{\"type\":\"mesh3d\",\"colorbar\":{\"outlinewidth\":0,\"ticks\":\"\"}}],\"scatter\":[{\"fillpattern\":{\"fillmode\":\"overlay\",\"size\":10,\"solidity\":0.2},\"type\":\"scatter\"}],\"parcoords\":[{\"type\":\"parcoords\",\"line\":{\"colorbar\":{\"outlinewidth\":0,\"ticks\":\"\"}}}],\"scatterpolargl\":[{\"type\":\"scatterpolargl\",\"marker\":{\"colorbar\":{\"outlinewidth\":0,\"ticks\":\"\"}}}],\"bar\":[{\"error_x\":{\"color\":\"#2a3f5f\"},\"error_y\":{\"color\":\"#2a3f5f\"},\"marker\":{\"line\":{\"color\":\"#E5ECF6\",\"width\":0.5},\"pattern\":{\"fillmode\":\"overlay\",\"size\":10,\"solidity\":0.2}},\"type\":\"bar\"}],\"scattergeo\":[{\"type\":\"scattergeo\",\"marker\":{\"colorbar\":{\"outlinewidth\":0,\"ticks\":\"\"}}}],\"scatterpolar\":[{\"type\":\"scatterpolar\",\"marker\":{\"colorbar\":{\"outlinewidth\":0,\"ticks\":\"\"}}}],\"histogram\":[{\"marker\":{\"pattern\":{\"fillmode\":\"overlay\",\"size\":10,\"solidity\":0.2}},\"type\":\"histogram\"}],\"scattergl\":[{\"type\":\"scattergl\",\"marker\":{\"colorbar\":{\"outlinewidth\":0,\"ticks\":\"\"}}}],\"scatter3d\":[{\"type\":\"scatter3d\",\"line\":{\"colorbar\":{\"outlinewidth\":0,\"ticks\":\"\"}},\"marker\":{\"colorbar\":{\"outlinewidth\":0,\"ticks\":\"\"}}}],\"scattermapbox\":[{\"type\":\"scattermapbox\",\"marker\":{\"colorbar\":{\"outlinewidth\":0,\"ticks\":\"\"}}}],\"scatterternary\":[{\"type\":\"scatterternary\",\"marker\":{\"colorbar\":{\"outlinewidth\":0,\"ticks\":\"\"}}}],\"scattercarpet\":[{\"type\":\"scattercarpet\",\"marker\":{\"colorbar\":{\"outlinewidth\":0,\"ticks\":\"\"}}}],\"carpet\":[{\"aaxis\":{\"endlinecolor\":\"#2a3f5f\",\"gridcolor\":\"white\",\"linecolor\":\"white\",\"minorgridcolor\":\"white\",\"startlinecolor\":\"#2a3f5f\"},\"baxis\":{\"endlinecolor\":\"#2a3f5f\",\"gridcolor\":\"white\",\"linecolor\":\"white\",\"minorgridcolor\":\"white\",\"startlinecolor\":\"#2a3f5f\"},\"type\":\"carpet\"}],\"table\":[{\"cells\":{\"fill\":{\"color\":\"#EBF0F8\"},\"line\":{\"color\":\"white\"}},\"header\":{\"fill\":{\"color\":\"#C8D4E3\"},\"line\":{\"color\":\"white\"}},\"type\":\"table\"}],\"barpolar\":[{\"marker\":{\"line\":{\"color\":\"#E5ECF6\",\"width\":0.5},\"pattern\":{\"fillmode\":\"overlay\",\"size\":10,\"solidity\":0.2}},\"type\":\"barpolar\"}],\"pie\":[{\"automargin\":true,\"type\":\"pie\"}]},\"layout\":{\"autotypenumbers\":\"strict\",\"colorway\":[\"#636efa\",\"#EF553B\",\"#00cc96\",\"#ab63fa\",\"#FFA15A\",\"#19d3f3\",\"#FF6692\",\"#B6E880\",\"#FF97FF\",\"#FECB52\"],\"font\":{\"color\":\"#2a3f5f\"},\"hovermode\":\"closest\",\"hoverlabel\":{\"align\":\"left\"},\"paper_bgcolor\":\"white\",\"plot_bgcolor\":\"#E5ECF6\",\"polar\":{\"bgcolor\":\"#E5ECF6\",\"angularaxis\":{\"gridcolor\":\"white\",\"linecolor\":\"white\",\"ticks\":\"\"},\"radialaxis\":{\"gridcolor\":\"white\",\"linecolor\":\"white\",\"ticks\":\"\"}},\"ternary\":{\"bgcolor\":\"#E5ECF6\",\"aaxis\":{\"gridcolor\":\"white\",\"linecolor\":\"white\",\"ticks\":\"\"},\"baxis\":{\"gridcolor\":\"white\",\"linecolor\":\"white\",\"ticks\":\"\"},\"caxis\":{\"gridcolor\":\"white\",\"linecolor\":\"white\",\"ticks\":\"\"}},\"coloraxis\":{\"colorbar\":{\"outlinewidth\":0,\"ticks\":\"\"}},\"colorscale\":{\"sequential\":[[0.0,\"#0d0887\"],[0.1111111111111111,\"#46039f\"],[0.2222222222222222,\"#7201a8\"],[0.3333333333333333,\"#9c179e\"],[0.4444444444444444,\"#bd3786\"],[0.5555555555555556,\"#d8576b\"],[0.6666666666666666,\"#ed7953\"],[0.7777777777777778,\"#fb9f3a\"],[0.8888888888888888,\"#fdca26\"],[1.0,\"#f0f921\"]],\"sequentialminus\":[[0.0,\"#0d0887\"],[0.1111111111111111,\"#46039f\"],[0.2222222222222222,\"#7201a8\"],[0.3333333333333333,\"#9c179e\"],[0.4444444444444444,\"#bd3786\"],[0.5555555555555556,\"#d8576b\"],[0.6666666666666666,\"#ed7953\"],[0.7777777777777778,\"#fb9f3a\"],[0.8888888888888888,\"#fdca26\"],[1.0,\"#f0f921\"]],\"diverging\":[[0,\"#8e0152\"],[0.1,\"#c51b7d\"],[0.2,\"#de77ae\"],[0.3,\"#f1b6da\"],[0.4,\"#fde0ef\"],[0.5,\"#f7f7f7\"],[0.6,\"#e6f5d0\"],[0.7,\"#b8e186\"],[0.8,\"#7fbc41\"],[0.9,\"#4d9221\"],[1,\"#276419\"]]},\"xaxis\":{\"gridcolor\":\"white\",\"linecolor\":\"white\",\"ticks\":\"\",\"title\":{\"standoff\":15},\"zerolinecolor\":\"white\",\"automargin\":true,\"zerolinewidth\":2},\"yaxis\":{\"gridcolor\":\"white\",\"linecolor\":\"white\",\"ticks\":\"\",\"title\":{\"standoff\":15},\"zerolinecolor\":\"white\",\"automargin\":true,\"zerolinewidth\":2},\"scene\":{\"xaxis\":{\"backgroundcolor\":\"#E5ECF6\",\"gridcolor\":\"white\",\"linecolor\":\"white\",\"showbackground\":true,\"ticks\":\"\",\"zerolinecolor\":\"white\",\"gridwidth\":2},\"yaxis\":{\"backgroundcolor\":\"#E5ECF6\",\"gridcolor\":\"white\",\"linecolor\":\"white\",\"showbackground\":true,\"ticks\":\"\",\"zerolinecolor\":\"white\",\"gridwidth\":2},\"zaxis\":{\"backgroundcolor\":\"#E5ECF6\",\"gridcolor\":\"white\",\"linecolor\":\"white\",\"showbackground\":true,\"ticks\":\"\",\"zerolinecolor\":\"white\",\"gridwidth\":2}},\"shapedefaults\":{\"line\":{\"color\":\"#2a3f5f\"}},\"annotationdefaults\":{\"arrowcolor\":\"#2a3f5f\",\"arrowhead\":0,\"arrowwidth\":1},\"geo\":{\"bgcolor\":\"white\",\"landcolor\":\"#E5ECF6\",\"subunitcolor\":\"white\",\"showland\":true,\"showlakes\":true,\"lakecolor\":\"white\"},\"title\":{\"x\":0.05},\"mapbox\":{\"style\":\"light\"}}},\"xaxis\":{\"anchor\":\"y\",\"domain\":[0.0,1.0],\"title\":{\"text\":\"Violations_Count\"},\"type\":\"log\"},\"yaxis\":{\"anchor\":\"x\",\"domain\":[0.0,1.0],\"title\":{\"text\":\"Total_ticket_value\"}},\"legend\":{\"title\":{\"text\":\"UF_Infra\\u00e7\\u00e3o\"},\"tracegroupgap\":0,\"itemsizing\":\"constant\"},\"title\":{\"text\":\"Bubble PLOT\"}},                        {\"responsive\": true}                    ).then(function(){\n",
              "                            \n",
              "var gd = document.getElementById('3126c5a8-2d6a-49e5-a8c8-073f6ff980e7');\n",
              "var x = new MutationObserver(function (mutations, observer) {{\n",
              "        var display = window.getComputedStyle(gd).display;\n",
              "        if (!display || display === 'none') {{\n",
              "            console.log([gd, 'removed!']);\n",
              "            Plotly.purge(gd);\n",
              "            observer.disconnect();\n",
              "        }}\n",
              "}});\n",
              "\n",
              "// Listen for the removal of the full notebook cells\n",
              "var notebookContainer = gd.closest('#notebook-container');\n",
              "if (notebookContainer) {{\n",
              "    x.observe(notebookContainer, {childList: true});\n",
              "}}\n",
              "\n",
              "// Listen for the clearing of the current output cell\n",
              "var outputEl = gd.closest('.output');\n",
              "if (outputEl) {{\n",
              "    x.observe(outputEl, {childList: true});\n",
              "}}\n",
              "\n",
              "                        })                };                            </script>        </div>\n",
              "</body>\n",
              "</html>"
            ]
          },
          "metadata": {}
        }
      ]
    },
    {
      "cell_type": "code",
      "source": [
        "fig = px.scatter(df_uf_tickets_value, x='Violations_Count', y='Total_ticket_value', color='UF_Infração', title='Scatter PLOT')\n",
        "fig.update_traces(marker=dict(size=12) )"
      ],
      "metadata": {
        "colab": {
          "base_uri": "https://localhost:8080/",
          "height": 542
        },
        "id": "3xojbRZ5zPe9",
        "outputId": "41a84f74-a86c-4761-f422-a1314777a37b"
      },
      "execution_count": 519,
      "outputs": [
        {
          "output_type": "display_data",
          "data": {
            "text/html": [
              "<html>\n",
              "<head><meta charset=\"utf-8\" /></head>\n",
              "<body>\n",
              "    <div>            <script src=\"https://cdnjs.cloudflare.com/ajax/libs/mathjax/2.7.5/MathJax.js?config=TeX-AMS-MML_SVG\"></script><script type=\"text/javascript\">if (window.MathJax && window.MathJax.Hub && window.MathJax.Hub.Config) {window.MathJax.Hub.Config({SVG: {font: \"STIX-Web\"}});}</script>                <script type=\"text/javascript\">window.PlotlyConfig = {MathJaxConfig: 'local'};</script>\n",
              "        <script src=\"https://cdn.plot.ly/plotly-2.18.2.min.js\"></script>                <div id=\"71548533-34f1-4a28-a202-975653a4db24\" class=\"plotly-graph-div\" style=\"height:525px; width:100%;\"></div>            <script type=\"text/javascript\">                                    window.PLOTLYENV=window.PLOTLYENV || {};                                    if (document.getElementById(\"71548533-34f1-4a28-a202-975653a4db24\")) {                    Plotly.newPlot(                        \"71548533-34f1-4a28-a202-975653a4db24\",                        [{\"hovertemplate\":\"UF_Infra\\u00e7\\u00e3o=SC<br>Violations_Count=%{x}<br>Total_ticket_value=%{y}<extra></extra>\",\"legendgroup\":\"SC\",\"marker\":{\"color\":\"#636efa\",\"symbol\":\"circle\",\"size\":12},\"mode\":\"markers\",\"name\":\"SC\",\"orientation\":\"v\",\"showlegend\":true,\"x\":[178040],\"xaxis\":\"x\",\"y\":[38850902.4023819],\"yaxis\":\"y\",\"type\":\"scatter\"},{\"hovertemplate\":\"UF_Infra\\u00e7\\u00e3o=RO<br>Violations_Count=%{x}<br>Total_ticket_value=%{y}<extra></extra>\",\"legendgroup\":\"RO\",\"marker\":{\"color\":\"#EF553B\",\"symbol\":\"circle\",\"size\":12},\"mode\":\"markers\",\"name\":\"RO\",\"orientation\":\"v\",\"showlegend\":true,\"x\":[93105],\"xaxis\":\"x\",\"y\":[20328607.025260925],\"yaxis\":\"y\",\"type\":\"scatter\"},{\"hovertemplate\":\"UF_Infra\\u00e7\\u00e3o=PI<br>Violations_Count=%{x}<br>Total_ticket_value=%{y}<extra></extra>\",\"legendgroup\":\"PI\",\"marker\":{\"color\":\"#00cc96\",\"symbol\":\"circle\",\"size\":12},\"mode\":\"markers\",\"name\":\"PI\",\"orientation\":\"v\",\"showlegend\":true,\"x\":[85095],\"xaxis\":\"x\",\"y\":[23188763.97544861],\"yaxis\":\"y\",\"type\":\"scatter\"},{\"hovertemplate\":\"UF_Infra\\u00e7\\u00e3o=AM<br>Violations_Count=%{x}<br>Total_ticket_value=%{y}<extra></extra>\",\"legendgroup\":\"AM\",\"marker\":{\"color\":\"#ab63fa\",\"symbol\":\"circle\",\"size\":12},\"mode\":\"markers\",\"name\":\"AM\",\"orientation\":\"v\",\"showlegend\":true,\"x\":[20102],\"xaxis\":\"x\",\"y\":[4812790.681762695],\"yaxis\":\"y\",\"type\":\"scatter\"},{\"hovertemplate\":\"UF_Infra\\u00e7\\u00e3o=RR<br>Violations_Count=%{x}<br>Total_ticket_value=%{y}<extra></extra>\",\"legendgroup\":\"RR\",\"marker\":{\"color\":\"#FFA15A\",\"symbol\":\"circle\",\"size\":12},\"mode\":\"markers\",\"name\":\"RR\",\"orientation\":\"v\",\"showlegend\":true,\"x\":[12033],\"xaxis\":\"x\",\"y\":[3387469.271133423],\"yaxis\":\"y\",\"type\":\"scatter\"},{\"hovertemplate\":\"UF_Infra\\u00e7\\u00e3o=GO<br>Violations_Count=%{x}<br>Total_ticket_value=%{y}<extra></extra>\",\"legendgroup\":\"GO\",\"marker\":{\"color\":\"#19d3f3\",\"symbol\":\"circle\",\"size\":12},\"mode\":\"markers\",\"name\":\"GO\",\"orientation\":\"v\",\"showlegend\":true,\"x\":[230375],\"xaxis\":\"x\",\"y\":[50661528.051475525],\"yaxis\":\"y\",\"type\":\"scatter\"},{\"hovertemplate\":\"UF_Infra\\u00e7\\u00e3o=TO<br>Violations_Count=%{x}<br>Total_ticket_value=%{y}<extra></extra>\",\"legendgroup\":\"TO\",\"marker\":{\"color\":\"#FF6692\",\"symbol\":\"circle\",\"size\":12},\"mode\":\"markers\",\"name\":\"TO\",\"orientation\":\"v\",\"showlegend\":true,\"x\":[37861],\"xaxis\":\"x\",\"y\":[8234440.327224731],\"yaxis\":\"y\",\"type\":\"scatter\"},{\"hovertemplate\":\"UF_Infra\\u00e7\\u00e3o=MT<br>Violations_Count=%{x}<br>Total_ticket_value=%{y}<extra></extra>\",\"legendgroup\":\"MT\",\"marker\":{\"color\":\"#B6E880\",\"symbol\":\"circle\",\"size\":12},\"mode\":\"markers\",\"name\":\"MT\",\"orientation\":\"v\",\"showlegend\":true,\"x\":[172734],\"xaxis\":\"x\",\"y\":[35817557.54766846],\"yaxis\":\"y\",\"type\":\"scatter\"},{\"hovertemplate\":\"UF_Infra\\u00e7\\u00e3o=SP<br>Violations_Count=%{x}<br>Total_ticket_value=%{y}<extra></extra>\",\"legendgroup\":\"SP\",\"marker\":{\"color\":\"#FF97FF\",\"symbol\":\"circle\",\"size\":12},\"mode\":\"markers\",\"name\":\"SP\",\"orientation\":\"v\",\"showlegend\":true,\"x\":[378074],\"xaxis\":\"x\",\"y\":[78130854.99378967],\"yaxis\":\"y\",\"type\":\"scatter\"},{\"hovertemplate\":\"UF_Infra\\u00e7\\u00e3o=ES<br>Violations_Count=%{x}<br>Total_ticket_value=%{y}<extra></extra>\",\"legendgroup\":\"ES\",\"marker\":{\"color\":\"#FECB52\",\"symbol\":\"circle\",\"size\":12},\"mode\":\"markers\",\"name\":\"ES\",\"orientation\":\"v\",\"showlegend\":true,\"x\":[150991],\"xaxis\":\"x\",\"y\":[28556599.891540527],\"yaxis\":\"y\",\"type\":\"scatter\"},{\"hovertemplate\":\"UF_Infra\\u00e7\\u00e3o=PB<br>Violations_Count=%{x}<br>Total_ticket_value=%{y}<extra></extra>\",\"legendgroup\":\"PB\",\"marker\":{\"color\":\"#636efa\",\"symbol\":\"circle\",\"size\":12},\"mode\":\"markers\",\"name\":\"PB\",\"orientation\":\"v\",\"showlegend\":true,\"x\":[77884],\"xaxis\":\"x\",\"y\":[19697984.494796753],\"yaxis\":\"y\",\"type\":\"scatter\"},{\"hovertemplate\":\"UF_Infra\\u00e7\\u00e3o=RS<br>Violations_Count=%{x}<br>Total_ticket_value=%{y}<extra></extra>\",\"legendgroup\":\"RS\",\"marker\":{\"color\":\"#EF553B\",\"symbol\":\"circle\",\"size\":12},\"mode\":\"markers\",\"name\":\"RS\",\"orientation\":\"v\",\"showlegend\":true,\"x\":[252059],\"xaxis\":\"x\",\"y\":[53291263.61489105],\"yaxis\":\"y\",\"type\":\"scatter\"},{\"hovertemplate\":\"UF_Infra\\u00e7\\u00e3o=MS<br>Violations_Count=%{x}<br>Total_ticket_value=%{y}<extra></extra>\",\"legendgroup\":\"MS\",\"marker\":{\"color\":\"#00cc96\",\"symbol\":\"circle\",\"size\":12},\"mode\":\"markers\",\"name\":\"MS\",\"orientation\":\"v\",\"showlegend\":true,\"x\":[248186],\"xaxis\":\"x\",\"y\":[45215779.31459808],\"yaxis\":\"y\",\"type\":\"scatter\"},{\"hovertemplate\":\"UF_Infra\\u00e7\\u00e3o=AL<br>Violations_Count=%{x}<br>Total_ticket_value=%{y}<extra></extra>\",\"legendgroup\":\"AL\",\"marker\":{\"color\":\"#ab63fa\",\"symbol\":\"circle\",\"size\":12},\"mode\":\"markers\",\"name\":\"AL\",\"orientation\":\"v\",\"showlegend\":true,\"x\":[40597],\"xaxis\":\"x\",\"y\":[10012247.701248169],\"yaxis\":\"y\",\"type\":\"scatter\"},{\"hovertemplate\":\"UF_Infra\\u00e7\\u00e3o=MG<br>Violations_Count=%{x}<br>Total_ticket_value=%{y}<extra></extra>\",\"legendgroup\":\"MG\",\"marker\":{\"color\":\"#FFA15A\",\"symbol\":\"circle\",\"size\":12},\"mode\":\"markers\",\"name\":\"MG\",\"orientation\":\"v\",\"showlegend\":true,\"x\":[448672],\"xaxis\":\"x\",\"y\":[92949395.99262238],\"yaxis\":\"y\",\"type\":\"scatter\"},{\"hovertemplate\":\"UF_Infra\\u00e7\\u00e3o=PA<br>Violations_Count=%{x}<br>Total_ticket_value=%{y}<extra></extra>\",\"legendgroup\":\"PA\",\"marker\":{\"color\":\"#19d3f3\",\"symbol\":\"circle\",\"size\":12},\"mode\":\"markers\",\"name\":\"PA\",\"orientation\":\"v\",\"showlegend\":true,\"x\":[77960],\"xaxis\":\"x\",\"y\":[19860206.449165344],\"yaxis\":\"y\",\"type\":\"scatter\"},{\"hovertemplate\":\"UF_Infra\\u00e7\\u00e3o=BA<br>Violations_Count=%{x}<br>Total_ticket_value=%{y}<extra></extra>\",\"legendgroup\":\"BA\",\"marker\":{\"color\":\"#FF6692\",\"symbol\":\"circle\",\"size\":12},\"mode\":\"markers\",\"name\":\"BA\",\"orientation\":\"v\",\"showlegend\":true,\"x\":[417092],\"xaxis\":\"x\",\"y\":[76483852.00558472],\"yaxis\":\"y\",\"type\":\"scatter\"},{\"hovertemplate\":\"UF_Infra\\u00e7\\u00e3o=SE<br>Violations_Count=%{x}<br>Total_ticket_value=%{y}<extra></extra>\",\"legendgroup\":\"SE\",\"marker\":{\"color\":\"#B6E880\",\"symbol\":\"circle\",\"size\":12},\"mode\":\"markers\",\"name\":\"SE\",\"orientation\":\"v\",\"showlegend\":true,\"x\":[37545],\"xaxis\":\"x\",\"y\":[9759531.909667969],\"yaxis\":\"y\",\"type\":\"scatter\"},{\"hovertemplate\":\"UF_Infra\\u00e7\\u00e3o=PE<br>Violations_Count=%{x}<br>Total_ticket_value=%{y}<extra></extra>\",\"legendgroup\":\"PE\",\"marker\":{\"color\":\"#FF97FF\",\"symbol\":\"circle\",\"size\":12},\"mode\":\"markers\",\"name\":\"PE\",\"orientation\":\"v\",\"showlegend\":true,\"x\":[136373],\"xaxis\":\"x\",\"y\":[36970108.675590515],\"yaxis\":\"y\",\"type\":\"scatter\"},{\"hovertemplate\":\"UF_Infra\\u00e7\\u00e3o=CE<br>Violations_Count=%{x}<br>Total_ticket_value=%{y}<extra></extra>\",\"legendgroup\":\"CE\",\"marker\":{\"color\":\"#FECB52\",\"symbol\":\"circle\",\"size\":12},\"mode\":\"markers\",\"name\":\"CE\",\"orientation\":\"v\",\"showlegend\":true,\"x\":[127407],\"xaxis\":\"x\",\"y\":[27450445.53530121],\"yaxis\":\"y\",\"type\":\"scatter\"},{\"hovertemplate\":\"UF_Infra\\u00e7\\u00e3o=RN<br>Violations_Count=%{x}<br>Total_ticket_value=%{y}<extra></extra>\",\"legendgroup\":\"RN\",\"marker\":{\"color\":\"#636efa\",\"symbol\":\"circle\",\"size\":12},\"mode\":\"markers\",\"name\":\"RN\",\"orientation\":\"v\",\"showlegend\":true,\"x\":[76745],\"xaxis\":\"x\",\"y\":[19878389.14363098],\"yaxis\":\"y\",\"type\":\"scatter\"},{\"hovertemplate\":\"UF_Infra\\u00e7\\u00e3o=RJ<br>Violations_Count=%{x}<br>Total_ticket_value=%{y}<extra></extra>\",\"legendgroup\":\"RJ\",\"marker\":{\"color\":\"#EF553B\",\"symbol\":\"circle\",\"size\":12},\"mode\":\"markers\",\"name\":\"RJ\",\"orientation\":\"v\",\"showlegend\":true,\"x\":[418981],\"xaxis\":\"x\",\"y\":[92716687.0568161],\"yaxis\":\"y\",\"type\":\"scatter\"},{\"hovertemplate\":\"UF_Infra\\u00e7\\u00e3o=MA<br>Violations_Count=%{x}<br>Total_ticket_value=%{y}<extra></extra>\",\"legendgroup\":\"MA\",\"marker\":{\"color\":\"#00cc96\",\"symbol\":\"circle\",\"size\":12},\"mode\":\"markers\",\"name\":\"MA\",\"orientation\":\"v\",\"showlegend\":true,\"x\":[73250],\"xaxis\":\"x\",\"y\":[23778800.57247162],\"yaxis\":\"y\",\"type\":\"scatter\"},{\"hovertemplate\":\"UF_Infra\\u00e7\\u00e3o=AC<br>Violations_Count=%{x}<br>Total_ticket_value=%{y}<extra></extra>\",\"legendgroup\":\"AC\",\"marker\":{\"color\":\"#ab63fa\",\"symbol\":\"circle\",\"size\":12},\"mode\":\"markers\",\"name\":\"AC\",\"orientation\":\"v\",\"showlegend\":true,\"x\":[15531],\"xaxis\":\"x\",\"y\":[3815800.941192627],\"yaxis\":\"y\",\"type\":\"scatter\"},{\"hovertemplate\":\"UF_Infra\\u00e7\\u00e3o=DF<br>Violations_Count=%{x}<br>Total_ticket_value=%{y}<extra></extra>\",\"legendgroup\":\"DF\",\"marker\":{\"color\":\"#FFA15A\",\"symbol\":\"circle\",\"size\":12},\"mode\":\"markers\",\"name\":\"DF\",\"orientation\":\"v\",\"showlegend\":true,\"x\":[73745],\"xaxis\":\"x\",\"y\":[16553285.18244934],\"yaxis\":\"y\",\"type\":\"scatter\"},{\"hovertemplate\":\"UF_Infra\\u00e7\\u00e3o=PR<br>Violations_Count=%{x}<br>Total_ticket_value=%{y}<extra></extra>\",\"legendgroup\":\"PR\",\"marker\":{\"color\":\"#19d3f3\",\"symbol\":\"circle\",\"size\":12},\"mode\":\"markers\",\"name\":\"PR\",\"orientation\":\"v\",\"showlegend\":true,\"x\":[237359],\"xaxis\":\"x\",\"y\":[49206567.26673889],\"yaxis\":\"y\",\"type\":\"scatter\"},{\"hovertemplate\":\"UF_Infra\\u00e7\\u00e3o=AP<br>Violations_Count=%{x}<br>Total_ticket_value=%{y}<extra></extra>\",\"legendgroup\":\"AP\",\"marker\":{\"color\":\"#FF6692\",\"symbol\":\"circle\",\"size\":12},\"mode\":\"markers\",\"name\":\"AP\",\"orientation\":\"v\",\"showlegend\":true,\"x\":[17726],\"xaxis\":\"x\",\"y\":[5376411.030792236],\"yaxis\":\"y\",\"type\":\"scatter\"}],                        {\"template\":{\"data\":{\"histogram2dcontour\":[{\"type\":\"histogram2dcontour\",\"colorbar\":{\"outlinewidth\":0,\"ticks\":\"\"},\"colorscale\":[[0.0,\"#0d0887\"],[0.1111111111111111,\"#46039f\"],[0.2222222222222222,\"#7201a8\"],[0.3333333333333333,\"#9c179e\"],[0.4444444444444444,\"#bd3786\"],[0.5555555555555556,\"#d8576b\"],[0.6666666666666666,\"#ed7953\"],[0.7777777777777778,\"#fb9f3a\"],[0.8888888888888888,\"#fdca26\"],[1.0,\"#f0f921\"]]}],\"choropleth\":[{\"type\":\"choropleth\",\"colorbar\":{\"outlinewidth\":0,\"ticks\":\"\"}}],\"histogram2d\":[{\"type\":\"histogram2d\",\"colorbar\":{\"outlinewidth\":0,\"ticks\":\"\"},\"colorscale\":[[0.0,\"#0d0887\"],[0.1111111111111111,\"#46039f\"],[0.2222222222222222,\"#7201a8\"],[0.3333333333333333,\"#9c179e\"],[0.4444444444444444,\"#bd3786\"],[0.5555555555555556,\"#d8576b\"],[0.6666666666666666,\"#ed7953\"],[0.7777777777777778,\"#fb9f3a\"],[0.8888888888888888,\"#fdca26\"],[1.0,\"#f0f921\"]]}],\"heatmap\":[{\"type\":\"heatmap\",\"colorbar\":{\"outlinewidth\":0,\"ticks\":\"\"},\"colorscale\":[[0.0,\"#0d0887\"],[0.1111111111111111,\"#46039f\"],[0.2222222222222222,\"#7201a8\"],[0.3333333333333333,\"#9c179e\"],[0.4444444444444444,\"#bd3786\"],[0.5555555555555556,\"#d8576b\"],[0.6666666666666666,\"#ed7953\"],[0.7777777777777778,\"#fb9f3a\"],[0.8888888888888888,\"#fdca26\"],[1.0,\"#f0f921\"]]}],\"heatmapgl\":[{\"type\":\"heatmapgl\",\"colorbar\":{\"outlinewidth\":0,\"ticks\":\"\"},\"colorscale\":[[0.0,\"#0d0887\"],[0.1111111111111111,\"#46039f\"],[0.2222222222222222,\"#7201a8\"],[0.3333333333333333,\"#9c179e\"],[0.4444444444444444,\"#bd3786\"],[0.5555555555555556,\"#d8576b\"],[0.6666666666666666,\"#ed7953\"],[0.7777777777777778,\"#fb9f3a\"],[0.8888888888888888,\"#fdca26\"],[1.0,\"#f0f921\"]]}],\"contourcarpet\":[{\"type\":\"contourcarpet\",\"colorbar\":{\"outlinewidth\":0,\"ticks\":\"\"}}],\"contour\":[{\"type\":\"contour\",\"colorbar\":{\"outlinewidth\":0,\"ticks\":\"\"},\"colorscale\":[[0.0,\"#0d0887\"],[0.1111111111111111,\"#46039f\"],[0.2222222222222222,\"#7201a8\"],[0.3333333333333333,\"#9c179e\"],[0.4444444444444444,\"#bd3786\"],[0.5555555555555556,\"#d8576b\"],[0.6666666666666666,\"#ed7953\"],[0.7777777777777778,\"#fb9f3a\"],[0.8888888888888888,\"#fdca26\"],[1.0,\"#f0f921\"]]}],\"surface\":[{\"type\":\"surface\",\"colorbar\":{\"outlinewidth\":0,\"ticks\":\"\"},\"colorscale\":[[0.0,\"#0d0887\"],[0.1111111111111111,\"#46039f\"],[0.2222222222222222,\"#7201a8\"],[0.3333333333333333,\"#9c179e\"],[0.4444444444444444,\"#bd3786\"],[0.5555555555555556,\"#d8576b\"],[0.6666666666666666,\"#ed7953\"],[0.7777777777777778,\"#fb9f3a\"],[0.8888888888888888,\"#fdca26\"],[1.0,\"#f0f921\"]]}],\"mesh3d\":[{\"type\":\"mesh3d\",\"colorbar\":{\"outlinewidth\":0,\"ticks\":\"\"}}],\"scatter\":[{\"fillpattern\":{\"fillmode\":\"overlay\",\"size\":10,\"solidity\":0.2},\"type\":\"scatter\"}],\"parcoords\":[{\"type\":\"parcoords\",\"line\":{\"colorbar\":{\"outlinewidth\":0,\"ticks\":\"\"}}}],\"scatterpolargl\":[{\"type\":\"scatterpolargl\",\"marker\":{\"colorbar\":{\"outlinewidth\":0,\"ticks\":\"\"}}}],\"bar\":[{\"error_x\":{\"color\":\"#2a3f5f\"},\"error_y\":{\"color\":\"#2a3f5f\"},\"marker\":{\"line\":{\"color\":\"#E5ECF6\",\"width\":0.5},\"pattern\":{\"fillmode\":\"overlay\",\"size\":10,\"solidity\":0.2}},\"type\":\"bar\"}],\"scattergeo\":[{\"type\":\"scattergeo\",\"marker\":{\"colorbar\":{\"outlinewidth\":0,\"ticks\":\"\"}}}],\"scatterpolar\":[{\"type\":\"scatterpolar\",\"marker\":{\"colorbar\":{\"outlinewidth\":0,\"ticks\":\"\"}}}],\"histogram\":[{\"marker\":{\"pattern\":{\"fillmode\":\"overlay\",\"size\":10,\"solidity\":0.2}},\"type\":\"histogram\"}],\"scattergl\":[{\"type\":\"scattergl\",\"marker\":{\"colorbar\":{\"outlinewidth\":0,\"ticks\":\"\"}}}],\"scatter3d\":[{\"type\":\"scatter3d\",\"line\":{\"colorbar\":{\"outlinewidth\":0,\"ticks\":\"\"}},\"marker\":{\"colorbar\":{\"outlinewidth\":0,\"ticks\":\"\"}}}],\"scattermapbox\":[{\"type\":\"scattermapbox\",\"marker\":{\"colorbar\":{\"outlinewidth\":0,\"ticks\":\"\"}}}],\"scatterternary\":[{\"type\":\"scatterternary\",\"marker\":{\"colorbar\":{\"outlinewidth\":0,\"ticks\":\"\"}}}],\"scattercarpet\":[{\"type\":\"scattercarpet\",\"marker\":{\"colorbar\":{\"outlinewidth\":0,\"ticks\":\"\"}}}],\"carpet\":[{\"aaxis\":{\"endlinecolor\":\"#2a3f5f\",\"gridcolor\":\"white\",\"linecolor\":\"white\",\"minorgridcolor\":\"white\",\"startlinecolor\":\"#2a3f5f\"},\"baxis\":{\"endlinecolor\":\"#2a3f5f\",\"gridcolor\":\"white\",\"linecolor\":\"white\",\"minorgridcolor\":\"white\",\"startlinecolor\":\"#2a3f5f\"},\"type\":\"carpet\"}],\"table\":[{\"cells\":{\"fill\":{\"color\":\"#EBF0F8\"},\"line\":{\"color\":\"white\"}},\"header\":{\"fill\":{\"color\":\"#C8D4E3\"},\"line\":{\"color\":\"white\"}},\"type\":\"table\"}],\"barpolar\":[{\"marker\":{\"line\":{\"color\":\"#E5ECF6\",\"width\":0.5},\"pattern\":{\"fillmode\":\"overlay\",\"size\":10,\"solidity\":0.2}},\"type\":\"barpolar\"}],\"pie\":[{\"automargin\":true,\"type\":\"pie\"}]},\"layout\":{\"autotypenumbers\":\"strict\",\"colorway\":[\"#636efa\",\"#EF553B\",\"#00cc96\",\"#ab63fa\",\"#FFA15A\",\"#19d3f3\",\"#FF6692\",\"#B6E880\",\"#FF97FF\",\"#FECB52\"],\"font\":{\"color\":\"#2a3f5f\"},\"hovermode\":\"closest\",\"hoverlabel\":{\"align\":\"left\"},\"paper_bgcolor\":\"white\",\"plot_bgcolor\":\"#E5ECF6\",\"polar\":{\"bgcolor\":\"#E5ECF6\",\"angularaxis\":{\"gridcolor\":\"white\",\"linecolor\":\"white\",\"ticks\":\"\"},\"radialaxis\":{\"gridcolor\":\"white\",\"linecolor\":\"white\",\"ticks\":\"\"}},\"ternary\":{\"bgcolor\":\"#E5ECF6\",\"aaxis\":{\"gridcolor\":\"white\",\"linecolor\":\"white\",\"ticks\":\"\"},\"baxis\":{\"gridcolor\":\"white\",\"linecolor\":\"white\",\"ticks\":\"\"},\"caxis\":{\"gridcolor\":\"white\",\"linecolor\":\"white\",\"ticks\":\"\"}},\"coloraxis\":{\"colorbar\":{\"outlinewidth\":0,\"ticks\":\"\"}},\"colorscale\":{\"sequential\":[[0.0,\"#0d0887\"],[0.1111111111111111,\"#46039f\"],[0.2222222222222222,\"#7201a8\"],[0.3333333333333333,\"#9c179e\"],[0.4444444444444444,\"#bd3786\"],[0.5555555555555556,\"#d8576b\"],[0.6666666666666666,\"#ed7953\"],[0.7777777777777778,\"#fb9f3a\"],[0.8888888888888888,\"#fdca26\"],[1.0,\"#f0f921\"]],\"sequentialminus\":[[0.0,\"#0d0887\"],[0.1111111111111111,\"#46039f\"],[0.2222222222222222,\"#7201a8\"],[0.3333333333333333,\"#9c179e\"],[0.4444444444444444,\"#bd3786\"],[0.5555555555555556,\"#d8576b\"],[0.6666666666666666,\"#ed7953\"],[0.7777777777777778,\"#fb9f3a\"],[0.8888888888888888,\"#fdca26\"],[1.0,\"#f0f921\"]],\"diverging\":[[0,\"#8e0152\"],[0.1,\"#c51b7d\"],[0.2,\"#de77ae\"],[0.3,\"#f1b6da\"],[0.4,\"#fde0ef\"],[0.5,\"#f7f7f7\"],[0.6,\"#e6f5d0\"],[0.7,\"#b8e186\"],[0.8,\"#7fbc41\"],[0.9,\"#4d9221\"],[1,\"#276419\"]]},\"xaxis\":{\"gridcolor\":\"white\",\"linecolor\":\"white\",\"ticks\":\"\",\"title\":{\"standoff\":15},\"zerolinecolor\":\"white\",\"automargin\":true,\"zerolinewidth\":2},\"yaxis\":{\"gridcolor\":\"white\",\"linecolor\":\"white\",\"ticks\":\"\",\"title\":{\"standoff\":15},\"zerolinecolor\":\"white\",\"automargin\":true,\"zerolinewidth\":2},\"scene\":{\"xaxis\":{\"backgroundcolor\":\"#E5ECF6\",\"gridcolor\":\"white\",\"linecolor\":\"white\",\"showbackground\":true,\"ticks\":\"\",\"zerolinecolor\":\"white\",\"gridwidth\":2},\"yaxis\":{\"backgroundcolor\":\"#E5ECF6\",\"gridcolor\":\"white\",\"linecolor\":\"white\",\"showbackground\":true,\"ticks\":\"\",\"zerolinecolor\":\"white\",\"gridwidth\":2},\"zaxis\":{\"backgroundcolor\":\"#E5ECF6\",\"gridcolor\":\"white\",\"linecolor\":\"white\",\"showbackground\":true,\"ticks\":\"\",\"zerolinecolor\":\"white\",\"gridwidth\":2}},\"shapedefaults\":{\"line\":{\"color\":\"#2a3f5f\"}},\"annotationdefaults\":{\"arrowcolor\":\"#2a3f5f\",\"arrowhead\":0,\"arrowwidth\":1},\"geo\":{\"bgcolor\":\"white\",\"landcolor\":\"#E5ECF6\",\"subunitcolor\":\"white\",\"showland\":true,\"showlakes\":true,\"lakecolor\":\"white\"},\"title\":{\"x\":0.05},\"mapbox\":{\"style\":\"light\"}}},\"xaxis\":{\"anchor\":\"y\",\"domain\":[0.0,1.0],\"title\":{\"text\":\"Violations_Count\"}},\"yaxis\":{\"anchor\":\"x\",\"domain\":[0.0,1.0],\"title\":{\"text\":\"Total_ticket_value\"}},\"legend\":{\"title\":{\"text\":\"UF_Infra\\u00e7\\u00e3o\"},\"tracegroupgap\":0},\"title\":{\"text\":\"Scatter PLOT\"}},                        {\"responsive\": true}                    ).then(function(){\n",
              "                            \n",
              "var gd = document.getElementById('71548533-34f1-4a28-a202-975653a4db24');\n",
              "var x = new MutationObserver(function (mutations, observer) {{\n",
              "        var display = window.getComputedStyle(gd).display;\n",
              "        if (!display || display === 'none') {{\n",
              "            console.log([gd, 'removed!']);\n",
              "            Plotly.purge(gd);\n",
              "            observer.disconnect();\n",
              "        }}\n",
              "}});\n",
              "\n",
              "// Listen for the removal of the full notebook cells\n",
              "var notebookContainer = gd.closest('#notebook-container');\n",
              "if (notebookContainer) {{\n",
              "    x.observe(notebookContainer, {childList: true});\n",
              "}}\n",
              "\n",
              "// Listen for the clearing of the current output cell\n",
              "var outputEl = gd.closest('.output');\n",
              "if (outputEl) {{\n",
              "    x.observe(outputEl, {childList: true});\n",
              "}}\n",
              "\n",
              "                        })                };                            </script>        </div>\n",
              "</body>\n",
              "</html>"
            ]
          },
          "metadata": {}
        }
      ]
    },
    {
      "cell_type": "code",
      "source": [],
      "metadata": {
        "id": "Ps_Lni4RzeTR"
      },
      "execution_count": null,
      "outputs": []
    }
  ]
}