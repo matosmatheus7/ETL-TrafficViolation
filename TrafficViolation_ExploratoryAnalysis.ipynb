{
  "nbformat": 4,
  "nbformat_minor": 0,
  "metadata": {
    "colab": {
      "provenance": [],
      "collapsed_sections": [
        "49ESJyrixurC",
        "YqHmdVLgFOQC",
        "mxg2llGEFZ8l",
        "fip69Re7NCGh",
        "rI3t47uK6a-J",
        "lwS7J2dL9z8Y",
        "xcQ1ZI6V-afr",
        "V05dSful2PC8",
        "yAhjuGJKFL8R",
        "e6K1ArNoRjPi",
        "Nq8FqrbRRjPk",
        "CI17Ys4wRjPv",
        "89-7AAuKRjPx",
        "qFEWo8QjRjPz",
        "Eus8wtVmRjPz",
        "kclK8eASRjP0",
        "2MWfKw0_RjP1",
        "MRBUvaI2RjP3",
        "f-JTguJNRjP7"
      ]
    },
    "kernelspec": {
      "name": "python3",
      "display_name": "Python 3"
    },
    "language_info": {
      "name": "python"
    }
  },
  "cells": [
    {
      "cell_type": "markdown",
      "source": [
        "# Exploratory Analysis of Traffic Violations in Brazil (Years 2022 and 2023)\n",
        "In this notebook, we will conduct an exploratory analysis of the data. This project was developed during a Data Viking event, and I made some modifications to the original code by using Spark to manipulate and analyze the data from 2023 as well.\n",
        "\n"
      ],
      "metadata": {
        "id": "tJbfztPrS2iS"
      }
    },
    {
      "cell_type": "markdown",
      "source": [
        "# Data Ingestion"
      ],
      "metadata": {
        "id": "49ESJyrixurC"
      }
    },
    {
      "cell_type": "markdown",
      "source": [
        "\n",
        "## Installing Spark on Google collab\n",
        "\n"
      ],
      "metadata": {
        "id": "GrJsv6A7FJ5Y"
      }
    },
    {
      "cell_type": "code",
      "source": [
        "#Install JDK\n",
        "!apt-get install openjdk-8-jdk-headless -qq > /dev/null"
      ],
      "metadata": {
        "id": "dQazozg5yQgp"
      },
      "execution_count": 1,
      "outputs": []
    },
    {
      "cell_type": "code",
      "source": [
        "# Donwload Spark\n",
        "!wget -q https://archive.apache.org/dist/spark/spark-3.1.2/spark-3.1.2-bin-hadoop2.7.tgz"
      ],
      "metadata": {
        "id": "hpQwjD31ySFi"
      },
      "execution_count": 2,
      "outputs": []
    },
    {
      "cell_type": "code",
      "source": [
        "# Unzip spark folder\n",
        "!tar xf /content/spark-3.1.2-bin-hadoop2.7.tgz"
      ],
      "metadata": {
        "id": "R7sk0pqlyUSP"
      },
      "execution_count": 3,
      "outputs": []
    },
    {
      "cell_type": "code",
      "source": [
        "!pip install -q findspark"
      ],
      "metadata": {
        "id": "_UBBRK2-yYVz"
      },
      "execution_count": 4,
      "outputs": []
    },
    {
      "cell_type": "code",
      "source": [
        "# Create env variables\n",
        "import os\n",
        "os.environ[\"JAVA_HOME\"] = \"/usr/lib/jvm/java-8-openjdk-amd64\"\n",
        "os.environ[\"SPARK_HOME\"] = \"/content/spark-3.1.2-bin-hadoop2.7\""
      ],
      "metadata": {
        "id": "TVOsSR8CyaOd"
      },
      "execution_count": 5,
      "outputs": []
    },
    {
      "cell_type": "code",
      "source": [
        "# Import findspark, that helps find the Spark on the system and import as a regular lib\n",
        "import findspark\n",
        "findspark.init()"
      ],
      "metadata": {
        "id": "mdrtcZoWycNj"
      },
      "execution_count": 6,
      "outputs": []
    },
    {
      "cell_type": "markdown",
      "source": [
        "## Download Traffic Violations Data from the Brazil Government website\n"
      ],
      "metadata": {
        "id": "YqHmdVLgFOQC"
      }
    },
    {
      "cell_type": "code",
      "source": [
        "import re\n",
        "# Let's first download the data from the government site, this is one of my updates on the tutor´s code\n",
        "# I download the code automatically from the site\n",
        "import requests\n",
        "import zipfile\n",
        "\n",
        "def download_and_extract_file(url, destination):\n",
        "    response = requests.get(url)\n",
        "    if response.status_code == 200:\n",
        "        with open(destination, 'wb') as file:\n",
        "            file.write(response.content)\n",
        "        print(\"File downloaded successfully.\")\n",
        "\n",
        "        # Extract the file\n",
        "        with zipfile.ZipFile(destination, 'r') as zip_ref:\n",
        "            zip_ref.extractall(os.path.dirname(destination))\n",
        "        print(\"File extracted successfully.\")\n",
        "\n",
        "        # Delete the .zip file\n",
        "        os.remove(destination)\n",
        "        print(\".zip file deleted.\")\n",
        "    else:\n",
        "        print(\"Failed to download the file.\")"
      ],
      "metadata": {
        "id": "czklR6HssC4q"
      },
      "execution_count": 7,
      "outputs": []
    },
    {
      "cell_type": "code",
      "source": [
        "# Create the data folder as I want the downloaded files stored there\n",
        "folder_name = \"data\"\n",
        "\n",
        "# Check if the folder exists\n",
        "if not os.path.exists(folder_name):\n",
        "    # Create the folder\n",
        "    os.makedirs(folder_name)\n",
        "    print(f\"Folder '{folder_name}' created successfully.\")\n",
        "else:\n",
        "    print(f\"Folder '{folder_name}' already exists.\")"
      ],
      "metadata": {
        "colab": {
          "base_uri": "https://localhost:8080/"
        },
        "id": "Fr1qJIvH3Ezc",
        "outputId": "fbd0c840-0ed2-4a75-a625-66d1c4a4f1f7"
      },
      "execution_count": 8,
      "outputs": [
        {
          "output_type": "stream",
          "name": "stdout",
          "text": [
            "Folder 'data' created successfully.\n"
          ]
        }
      ]
    },
    {
      "cell_type": "code",
      "source": [
        "# Download 2022 traffic violation data\n",
        "file_url = 'https://drive.google.com/u/0/uc?id=1-oY2e1W4cjmbZCgdcGnmPCIod4MFCSpg&export=download&confirm=t&uuid=c1ebf929-8b62-4489-a46d-5284482747fb&at=AKKF8vwfciU3oT68KlBtF4jj14Wl:1688604985049'\n",
        "file_destination = '/content/data/infracoes_2022.zip'\n",
        "\n",
        "download_and_extract_file(file_url, file_destination)"
      ],
      "metadata": {
        "colab": {
          "base_uri": "https://localhost:8080/"
        },
        "id": "hc7NPCWnwAZK",
        "outputId": "cf0238a2-ae70-4181-ce98-ac3cd9ed9fd9"
      },
      "execution_count": 9,
      "outputs": [
        {
          "output_type": "stream",
          "name": "stdout",
          "text": [
            "File downloaded successfully.\n",
            "File extracted successfully.\n",
            ".zip file deleted.\n"
          ]
        }
      ]
    },
    {
      "cell_type": "code",
      "source": [
        "# Download 2023 traffic violation data\n",
        "file_url = 'https://drive.google.com/u/0/uc?id=106pwbYv84gCtLhhcbi0B_4qyUQxfH2n3&export=download&confirm=t&uuid=3967f839-2af2-437b-8f60-bb84c592767d&at=AKKF8vxhyEJdMfwlL_zzAfR9M7ZO:1688605862920'\n",
        "file_destination = '/content/data/infracoes_2023.zip'\n",
        "\n",
        "download_and_extract_file(file_url, file_destination)"
      ],
      "metadata": {
        "colab": {
          "base_uri": "https://localhost:8080/"
        },
        "id": "Irq0oTp4u099",
        "outputId": "c9ed66c5-8a93-40f7-dee5-0cb05e7e27a7"
      },
      "execution_count": 10,
      "outputs": [
        {
          "output_type": "stream",
          "name": "stdout",
          "text": [
            "File downloaded successfully.\n",
            "File extracted successfully.\n",
            ".zip file deleted.\n"
          ]
        }
      ]
    },
    {
      "cell_type": "markdown",
      "source": [
        "## Creating our Spark Dataframes\n",
        "After downloading the files, let's create a Spark dataframe that includes all the CSV files that were downloaded."
      ],
      "metadata": {
        "id": "mxg2llGEFZ8l"
      }
    },
    {
      "cell_type": "code",
      "source": [
        "from pyspark.sql import SparkSession\n",
        "import os\n",
        "\n",
        "def create_dataframe_with_file_content(directory_path):\n",
        "    # List the files in the directory\n",
        "    files = os.listdir(directory_path)\n",
        "\n",
        "    # Create an empty list to store the DataFrames\n",
        "    dataframes = []\n",
        "    print(\"Processing files:\")\n",
        "    # Loop to consolidate the files\n",
        "    for counter, file_name in enumerate(files):\n",
        "        print(counter, file_name)\n",
        "\n",
        "        # Read the file into a DataFrame\n",
        "        file_path = os.path.join(directory_path, file_name)\n",
        "        base_data = spark.read.format(\"csv\").option(\"header\", \"true\").option(\"sep\", \";\").option(\"encoding\", \"latin1\").load(file_path)\n",
        "\n",
        "        # Append the DataFrame to the list\n",
        "        dataframes.append(base_data)\n",
        "\n",
        "    # Union all the DataFrames in the list\n",
        "    consolidated_data = dataframes[0]\n",
        "    for i in range(1, len(dataframes)):\n",
        "        consolidated_data = consolidated_data.union(dataframes[i])\n",
        "\n",
        "    # Get the shape of the consolidated DataFrame\n",
        "    print(\"Files content were consolidated.\")\n",
        "    print((consolidated_data.count(), len(consolidated_data.columns)))\n",
        "    print(\"\")\n",
        "    return consolidated_data"
      ],
      "metadata": {
        "id": "yXcc3S1JDgd3"
      },
      "execution_count": 11,
      "outputs": []
    },
    {
      "cell_type": "code",
      "source": [
        "# Create a SparkSession\n",
        "spark = SparkSession.builder\\\n",
        "        .master('local')\\\n",
        "        .appName('TVextraction')\\\n",
        "        .getOrCreate()\n",
        "\n",
        "# Creating Traffic violation 2022 dataframe\n",
        "TV22 = create_dataframe_with_file_content('/content/data/ajustados_2022')"
      ],
      "metadata": {
        "colab": {
          "base_uri": "https://localhost:8080/"
        },
        "id": "8TNcv5Kf5r9i",
        "outputId": "90097a94-f822-49b0-e52d-0297dd6139de"
      },
      "execution_count": 12,
      "outputs": [
        {
          "output_type": "stream",
          "name": "stdout",
          "text": [
            "Processing files:\n",
            "0 infraçoes2022_11.csv\n",
            "1 infraçoes2022_10.csv\n",
            "2 infraçoes2022_07.csv\n",
            "3 infraçoes2022_01.csv\n",
            "4 infraçoes2022_02.csv\n",
            "5 infraçoes2022_12.csv\n",
            "6 infraçoes2022_06.csv\n",
            "7 infraçoes2022_09.csv\n",
            "8 infraçoes2022_05.csv\n",
            "9 infraçoes2022_04.csv\n",
            "10 infraçoes2022_08.csv\n",
            "11 infraçoes2022_03.csv\n",
            "Files content were consolidated.\n",
            "(4135523, 25)\n",
            "\n"
          ]
        }
      ]
    },
    {
      "cell_type": "code",
      "source": [
        "# Checking columns types of 2022 data\n",
        "TV22.printSchema()"
      ],
      "metadata": {
        "colab": {
          "base_uri": "https://localhost:8080/"
        },
        "id": "lEA58rPW2jOq",
        "outputId": "b41200b4-759a-4e3b-862a-82bd70d95233"
      },
      "execution_count": 13,
      "outputs": [
        {
          "output_type": "stream",
          "name": "stdout",
          "text": [
            "root\n",
            " |-- Número do Auto: string (nullable = true)\n",
            " |-- Data da Infração (DD/MM/AAAA): string (nullable = true)\n",
            " |-- Indicador de Abordagem: string (nullable = true)\n",
            " |-- Assinatura do Auto: string (nullable = true)\n",
            " |-- Sentido Trafego: string (nullable = true)\n",
            " |-- UF Infração: string (nullable = true)\n",
            " |-- BR Infração: string (nullable = true)\n",
            " |-- Km Infração: string (nullable = true)\n",
            " |-- Município: string (nullable = true)\n",
            " |-- Indicador Veiculo Estrangeiro: string (nullable = true)\n",
            " |-- UF Placa: string (nullable = true)\n",
            " |-- Descrição Especie Veículo: string (nullable = true)\n",
            " |-- Descrição Marca Veículo: string (nullable = true)\n",
            " |-- Descrição Tipo Veículo: string (nullable = true)\n",
            " |-- Descrição Modelo Veiculo: string (nullable = true)\n",
            " |-- Código da Infração: string (nullable = true)\n",
            " |-- Descrição Abreviada Infração: string (nullable = true)\n",
            " |-- Enquadramento da Infração: string (nullable = true)\n",
            " |-- Início Vigência da Infração: string (nullable = true)\n",
            " |-- Fim Vigência Infração: string (nullable = true)\n",
            " |-- Medição Infração: string (nullable = true)\n",
            " |-- Hora Infração: string (nullable = true)\n",
            " |-- Medição Considerada: string (nullable = true)\n",
            " |-- Excesso Verificado: string (nullable = true)\n",
            " |-- Qtd Infrações: string (nullable = true)\n",
            "\n"
          ]
        }
      ]
    },
    {
      "cell_type": "code",
      "source": [
        "# Checking 2022 data\n",
        "TV22.show(10)"
      ],
      "metadata": {
        "colab": {
          "base_uri": "https://localhost:8080/"
        },
        "id": "I9m4Ioz8EEOR",
        "outputId": "3e003014-04e8-47a8-b590-98f3e6efcc80"
      },
      "execution_count": 14,
      "outputs": [
        {
          "output_type": "stream",
          "name": "stdout",
          "text": [
            "+---------------+-----------------------------+----------------------+------------------+---------------+-----------+-----------+-----------+--------------+-----------------------------+--------+-------------------------+-----------------------+----------------------+------------------------+------------------+----------------------------+-------------------------+---------------------------+---------------------+----------------+-------------+-------------------+------------------+-------------+\n",
            "| Número do Auto|Data da Infração (DD/MM/AAAA)|Indicador de Abordagem|Assinatura do Auto|Sentido Trafego|UF Infração|BR Infração|Km Infração|     Município|Indicador Veiculo Estrangeiro|UF Placa|Descrição Especie Veículo|Descrição Marca Veículo|Descrição Tipo Veículo|Descrição Modelo Veiculo|Código da Infração|Descrição Abreviada Infração|Enquadramento da Infração|Início Vigência da Infração|Fim Vigência Infração|Medição Infração|Hora Infração|Medição Considerada|Excesso Verificado|Qtd Infrações|\n",
            "+---------------+-----------------------------+----------------------+------------------+---------------+-----------+-----------+-----------+--------------+-----------------------------+--------+-------------------------+-----------------------+----------------------+------------------------+------------------+----------------------------+-------------------------+---------------------------+---------------------+----------------+-------------+-------------------+------------------+-------------+\n",
            "|417bd7baa9bc69c|                   2022-11-18|                     C|                 N|              D|         RJ|        101|        473|ANGRA DOS REIS|                            N|      SP|               PASSAGEIRO|         FIAT/MOBI LIKE|             AUTOMOVEL|          FIAT/MOBI LIKE|             61731|        Deixar de dar pre...|                  215 I a|                 2016-11-01|                   NA|         Nenhuma|           19|                  0|                 0|            1|\n",
            "|323224d85634a12|                   2022-11-07|                     S|                 N|              C|         MG|        040|        471|   SETE LAGOAS|                            N|      SP|                    CARGA|      VW/24.280 CRM 6X2|              CAMINHAO|           24280 CRM 6X2|             58350|        Desobedecer às or...|                      195|                 2016-11-01|                   NA|         Nenhuma|           10|                  0|                 0|            1|\n",
            "|2538920957320bc|                   2022-11-07|                     S|                 N|              C|         MG|        040|        471|   SETE LAGOAS|                            N|      MG|                   TRACAO|      VOLVO/FH 440 6X4T|       CAMINHAO TRATOR|             FH 440 6X4T|             58350|        Desobedecer às or...|                      195|                 2016-11-01|                   NA|         Nenhuma|           10|                  0|                 0|            1|\n",
            "|69d97290f5acee2|                   2022-11-04|                     S|                 N|              C|         MG|        040|        471|   SETE LAGOAS|                            N|      MG|                    CARGA|          M.BENZ/L 1620|              CAMINHAO|                  L 1620|             58350|        Desobedecer às or...|                      195|                 2016-11-01|                   NA|         Nenhuma|           10|                  0|                 0|            1|\n",
            "|903f82369261633|                   2022-11-23|                     C|                 N|              D|         MG|        050|        176|       UBERABA|                            N|      SP|               PASSAGEIRO|   FIAT/PALIO WK ADV...|             AUTOMOVEL|           Não Informado|             76173|        Usar qq veiculo p...|                    253-A|                 2016-11-01|                   NA|         Nenhuma|           13|                  0|                 0|            1|\n",
            "|06ba4d68f5ff3a4|                   2022-11-23|                     C|                 N|              C|         MG|        364|         27|        FRUTAL|                            N|      MG|               PASSAGEIRO|   FIAT/PALIO FIRE FLEX|             AUTOMOVEL|           Não Informado|             76173|        Usar qq veiculo p...|                    253-A|                 2016-11-01|                   NA|         Nenhuma|           17|                  0|                 0|            1|\n",
            "|40f59604b2191c4|                   2022-11-23|                     S|                 N|              D|         MG|        050|        176|       UBERABA|                            N|      MG|               PASSAGEIRO|     HONDA/BIZ 125 MAIS|              MOTONETA|                 BIZ 125|             76173|        Usar qq veiculo p...|                    253-A|                 2016-11-01|                   NA|         Nenhuma|           13|                  0|                 0|            1|\n",
            "|f187adce12e4b86|                   2022-11-23|                     S|                 N|              C|         MG|        364|         27|        FRUTAL|                            N|      MG|                    CARGA|   VW/SAVEIRO 1.6 CE...|           CAMINHONETE|              SAVEIRO CE|             76173|        Usar qq veiculo p...|                    253-A|                 2016-11-01|                   NA|         Nenhuma|           17|                  0|                 0|            1|\n",
            "|4cbf450dae86540|                   2022-11-23|                     S|                 N|              D|         MG|        050|        176|       UBERABA|                            N|      MG|               PASSAGEIRO|   I/FIAT CRONOS DRI...|             AUTOMOVEL|                  CRONOS|             76173|        Usar qq veiculo p...|                    253-A|                 2016-11-01|                   NA|         Nenhuma|           13|                  0|                 0|            1|\n",
            "|ee15daa77033c19|                   2022-11-23|                     S|                 N|              D|         MG|        050|        176|       UBERABA|                            N|      MG|               PASSAGEIRO|     HONDA/CIVIC EX CVT|             AUTOMOVEL|                CIVIC EX|             76173|        Usar qq veiculo p...|                    253-A|                 2016-11-01|                   NA|         Nenhuma|           13|                  0|                 0|            1|\n",
            "+---------------+-----------------------------+----------------------+------------------+---------------+-----------+-----------+-----------+--------------+-----------------------------+--------+-------------------------+-----------------------+----------------------+------------------------+------------------+----------------------------+-------------------------+---------------------------+---------------------+----------------+-------------+-------------------+------------------+-------------+\n",
            "only showing top 10 rows\n",
            "\n"
          ]
        }
      ]
    },
    {
      "cell_type": "code",
      "source": [
        "# Creating Traffic violation 2023 dataframe\n",
        "TV23 = create_dataframe_with_file_content('/content/data/ajustados_2023')"
      ],
      "metadata": {
        "colab": {
          "base_uri": "https://localhost:8080/"
        },
        "id": "bLIY4feUFz9f",
        "outputId": "faec3241-62ca-4b1d-fa35-eecd1c68291c"
      },
      "execution_count": 15,
      "outputs": [
        {
          "output_type": "stream",
          "name": "stdout",
          "text": [
            "Processing files:\n",
            "0 infraçoes2023_05.csv\n",
            "1 infraçoes2023_02.csv\n",
            "2 infraçoes2023_03.csv\n",
            "3 infraçoes2023_04.csv\n",
            "4 infraçoes2023_01.csv\n",
            "Files content were consolidated.\n",
            "(2105730, 25)\n",
            "\n"
          ]
        }
      ]
    },
    {
      "cell_type": "code",
      "source": [
        "# Checking columns types of 2023 data\n",
        "TV23.printSchema()"
      ],
      "metadata": {
        "colab": {
          "base_uri": "https://localhost:8080/"
        },
        "id": "eZAHqv92D7O3",
        "outputId": "5ffcec5c-5001-48d9-df48-576ba73871b8"
      },
      "execution_count": 16,
      "outputs": [
        {
          "output_type": "stream",
          "name": "stdout",
          "text": [
            "root\n",
            " |-- Número do Auto: string (nullable = true)\n",
            " |-- Data da Infração (DD/MM/AAAA): string (nullable = true)\n",
            " |-- Indicador de Abordagem: string (nullable = true)\n",
            " |-- Assinatura do Auto: string (nullable = true)\n",
            " |-- Sentido Trafego: string (nullable = true)\n",
            " |-- UF Infração: string (nullable = true)\n",
            " |-- BR Infração: string (nullable = true)\n",
            " |-- Km Infração: string (nullable = true)\n",
            " |-- Município: string (nullable = true)\n",
            " |-- Indicador Veiculo Estrangeiro: string (nullable = true)\n",
            " |-- UF Placa: string (nullable = true)\n",
            " |-- Descrição Especie Veículo: string (nullable = true)\n",
            " |-- Descrição Marca Veículo: string (nullable = true)\n",
            " |-- Descrição Tipo Veículo: string (nullable = true)\n",
            " |-- Descrição Modelo Veiculo: string (nullable = true)\n",
            " |-- Código da Infração: string (nullable = true)\n",
            " |-- Descrição Abreviada Infração: string (nullable = true)\n",
            " |-- Enquadramento da Infração: string (nullable = true)\n",
            " |-- Início Vigência da Infração: string (nullable = true)\n",
            " |-- Fim Vigência Infração: string (nullable = true)\n",
            " |-- Medição Infração: string (nullable = true)\n",
            " |-- Hora Infração: string (nullable = true)\n",
            " |-- Medição Considerada: string (nullable = true)\n",
            " |-- Excesso Verificado: string (nullable = true)\n",
            " |-- Qtd Infrações: string (nullable = true)\n",
            "\n"
          ]
        }
      ]
    },
    {
      "cell_type": "code",
      "source": [
        "# Checking columns types of 2023 data\n",
        "TV23.show(10)"
      ],
      "metadata": {
        "colab": {
          "base_uri": "https://localhost:8080/"
        },
        "id": "_4sD4V2UEOKx",
        "outputId": "8081b66a-700a-4e2a-f8a5-711080ca6fb3"
      },
      "execution_count": 17,
      "outputs": [
        {
          "output_type": "stream",
          "name": "stdout",
          "text": [
            "+---------------+-----------------------------+----------------------+------------------+---------------+-----------+-----------+-----------+---------+-----------------------------+--------+-------------------------+-----------------------+----------------------+------------------------+------------------+----------------------------+-------------------------+---------------------------+---------------------+----------------+-------------+-------------------+------------------+-------------+\n",
            "| Número do Auto|Data da Infração (DD/MM/AAAA)|Indicador de Abordagem|Assinatura do Auto|Sentido Trafego|UF Infração|BR Infração|Km Infração|Município|Indicador Veiculo Estrangeiro|UF Placa|Descrição Especie Veículo|Descrição Marca Veículo|Descrição Tipo Veículo|Descrição Modelo Veiculo|Código da Infração|Descrição Abreviada Infração|Enquadramento da Infração|Início Vigência da Infração|Fim Vigência Infração|Medição Infração|Hora Infração|Medição Considerada|Excesso Verificado|Qtd Infrações|\n",
            "+---------------+-----------------------------+----------------------+------------------+---------------+-----------+-----------+-----------+---------+-----------------------------+--------+-------------------------+-----------------------+----------------------+------------------------+------------------+----------------------------+-------------------------+---------------------------+---------------------+----------------+-------------+-------------------+------------------+-------------+\n",
            "|5f07fcd6c7dcce0|                   2023-05-14|                     C|                 N|              D|         BA|        101|        507|  ITABUNA|                            N|      BA|               PASSAGEIRO|         YAMAHA/NEO 125|              MOTONETA|                 NEO 125|             65991|        Conduzir o veícul...|                  230 * V|                 2016-11-01|                   NA|         Nenhuma|           15|                  0|                 0|            1|\n",
            "|ebe0991d078414b|                   2023-05-20|                     C|                 S|              D|         SC|        153|         92|CONCORDIA|                            N|      BA|                    CARGA|   SR/LIBRELATO SRCA 4E|          SEMI-REBOQUE|              SR/SRCA 4E|             65992|        Conduzir o veícul...|                  230 * V|                 2016-11-01|                   NA|         Nenhuma|            9|                  0|                 0|            1|\n",
            "|6ea71db7667c912|                   2023-05-30|                     C|                 S|              D|         SP|        153|        345| OURINHOS|                            /|       /|           Não encontrado|         Não encontrado|        Não encontrado|          Não encontrado|             65991|        Conduzir o veícul...|                  230 * V|                 2016-11-01|                   NA|         Nenhuma|           11|                  0|                 0|            1|\n",
            "|257a7a65de0c315|                   2023-05-14|                     C|                 N|              D|         BA|        101|        507|  ITABUNA|                            N|      BA|               PASSAGEIRO|         YAMAHA/NEO 125|              MOTONETA|                 NEO 125|             50371|        Dirigir veículo c...|                  162 III|                 2016-11-01|                   NA|         Nenhuma|           15|                  0|                 0|            1|\n",
            "|d829c2fc5833aef|                   2023-05-14|                     C|                 N|              D|         BA|        101|        507|  ITABUNA|                            N|      BA|               PASSAGEIRO|         YAMAHA/NEO 125|              MOTONETA|                 NEO 125|             51341|        Permitir posse/co...|          164 c/c 162 III|                 2016-11-01|                   NA|         Nenhuma|           15|                  0|                 0|            1|\n",
            "|8d58f1b47e07771|                   2023-05-10|                     C|                 N|              C|         MT|        163|        733|  SORRISO|                            N|     '-1|               PASSAGEIRO|       HONDA/CG 160 FAN|           MOTOCICLETA|              CG 160 FAN|             50100|        Dirigir veículo s...|                    162 I|                 2016-11-01|                   NA|         Nenhuma|           21|                  0|                 0|            1|\n",
            "|38f8cfbd2072f01|                   2023-05-10|                     C|                 N|              C|         MT|        163|        733|  SORRISO|                            N|     '-1|               PASSAGEIRO|       HONDA/CG 160 FAN|           MOTOCICLETA|              CB 160 FAN|             65991|        Conduzir o veícul...|                  230 * V|                 2016-11-01|                   NA|         Nenhuma|           21|                  0|                 0|            1|\n",
            "|461db6ce47baf05|                   2023-05-10|                     C|                 N|              C|         MT|        163|        733|  SORRISO|                            N|     '-1|               PASSAGEIRO|       HONDA/CG 160 FAN|           MOTOCICLETA|              CG 160 FAN|             66450|        Conduzir o veícul...|                    230 X|                 2016-11-01|                   NA|         Nenhuma|           21|                  0|                 0|            1|\n",
            "|4f0aaaf52a7562d|                   2023-05-10|                     C|                 N|              D|         MS|        163|        728|    COXIM|                            N|      MS|                    CARGA|   FIAT/STRADA WORKI...|           CAMINHONETE|           Não Informado|             66610|        Conduzir o veícul...|                  230 XII|                 2016-11-01|                   NA|         Nenhuma|           16|                  0|                 0|            1|\n",
            "|c7317c3dc8ce91f|                   2023-05-10|                     C|                 N|              D|         MS|        163|        728|    COXIM|                            N|      MS|                    CARGA|   FIAT/STRADA WORKI...|           CAMINHONETE|           Não Informado|             65800|        Conduzir o veícul...|                   230 IV|                 2016-11-01|                   NA|         Nenhuma|           16|                  0|                 0|            1|\n",
            "+---------------+-----------------------------+----------------------+------------------+---------------+-----------+-----------+-----------+---------+-----------------------------+--------+-------------------------+-----------------------+----------------------+------------------------+------------------+----------------------------+-------------------------+---------------------------+---------------------+----------------+-------------+-------------------+------------------+-------------+\n",
            "only showing top 10 rows\n",
            "\n"
          ]
        }
      ]
    },
    {
      "cell_type": "markdown",
      "source": [
        "## Saving the DataFrame as Parquet\n",
        "\n",
        "During the event, we studied different file formats for saving the data, and it was found that the .parquet format is the lightest among the ones studied (csv, db, and parquet).\n",
        "![dbs.png](data:image/png;base64,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)\n",
        "For this reason, we chose to save the file in .parquet format."
      ],
      "metadata": {
        "id": "xOEQH0ZxFFX5"
      }
    },
    {
      "cell_type": "code",
      "source": [
        "from pyspark.sql.functions import col\n",
        "\n",
        "def df_to_parquet(consolidated_data, file_path):\n",
        "  # Convert columns to string type\n",
        "  for col_name in consolidated_data.columns:\n",
        "      # Remove invalid characters from the column name\n",
        "      new_col_name = col_name.replace(\" \", \"_\").replace(\",\", \"\").replace(\";\", \"\").replace(\"{\", \"\").replace(\"}\", \"\").replace(\"(\", \"\").replace(\")\", \"\").replace(\"\\n\", \"\").replace(\"\\t\", \"\").replace(\"=\", \"\")\n",
        "      # Rename the column\n",
        "      consolidated_data = consolidated_data.withColumnRenamed(col_name, new_col_name).withColumn(new_col_name, col(new_col_name).cast(\"string\"))\n",
        "\n",
        "  consolidated_data.write.parquet(file_path, compression=\"gzip\")\n",
        "  print(\"Parquet file was created and saved on \" + file_path)"
      ],
      "metadata": {
        "id": "vS2ANf0PFFG1"
      },
      "execution_count": 18,
      "outputs": []
    },
    {
      "cell_type": "code",
      "source": [
        "# Create the datalake folder, where I will save some of the dataframes stored there\n",
        "folder_name = \"datalake/bronze\"\n",
        "\n",
        "# Check if the folder exists\n",
        "if not os.path.exists(folder_name):\n",
        "    # Create the folder\n",
        "    os.makedirs(folder_name)\n",
        "    print(f\"Folder '{folder_name}' created successfully.\")\n",
        "else:\n",
        "    print(f\"Folder '{folder_name}' already exists.\")"
      ],
      "metadata": {
        "colab": {
          "base_uri": "https://localhost:8080/"
        },
        "id": "E_YNQ7_daAqK",
        "outputId": "655915e7-afe4-4907-daa8-3a1680f231f7"
      },
      "execution_count": 19,
      "outputs": [
        {
          "output_type": "stream",
          "name": "stdout",
          "text": [
            "Folder 'datalake/bronze' created successfully.\n"
          ]
        }
      ]
    },
    {
      "cell_type": "code",
      "source": [
        "# Save the TV22 dataFrame as a Parquet file\n",
        "df_to_parquet(TV22,\"/content/datalake/bronze/traffic_violations_2022.parquet\")"
      ],
      "metadata": {
        "colab": {
          "base_uri": "https://localhost:8080/"
        },
        "id": "FflfRAGpG9iz",
        "outputId": "b8e17775-9619-4627-8aa2-aa27fb4adbc5"
      },
      "execution_count": 20,
      "outputs": [
        {
          "output_type": "stream",
          "name": "stdout",
          "text": [
            "Parquet file was created and saved on /content/datalake/bronze/traffic_violations_2022.parquet\n"
          ]
        }
      ]
    },
    {
      "cell_type": "code",
      "source": [
        "# Save the TV23 dataFrame as a Parquet file\n",
        "df_to_parquet(TV23,\"/content/datalake/bronze/traffic_violations_2023.parquet\")"
      ],
      "metadata": {
        "colab": {
          "base_uri": "https://localhost:8080/"
        },
        "id": "TBJn9PCxF-uk",
        "outputId": "a045c5d2-5853-4c43-aa23-2ff03646f819"
      },
      "execution_count": 21,
      "outputs": [
        {
          "output_type": "stream",
          "name": "stdout",
          "text": [
            "Parquet file was created and saved on /content/datalake/bronze/traffic_violations_2023.parquet\n"
          ]
        }
      ]
    },
    {
      "cell_type": "code",
      "source": [
        "# Close the SparkSession of Extraction\n",
        "# I don't want to use the same spark context on the next steps, I want to make sure that the code will import data from the parquet file\n",
        "spark.stop()"
      ],
      "metadata": {
        "id": "QWOB0fcXL2-K"
      },
      "execution_count": 22,
      "outputs": []
    },
    {
      "cell_type": "markdown",
      "source": [
        "# Exploratory Data Analysis 2022"
      ],
      "metadata": {
        "id": "fip69Re7NCGh"
      }
    },
    {
      "cell_type": "markdown",
      "source": [
        "### Import parquet files\n",
        "Let´s import the parquet files and save on spark dataframes."
      ],
      "metadata": {
        "id": "_sOpdjKPZwby"
      }
    },
    {
      "cell_type": "code",
      "source": [
        "# Import Traffic violation parquet files as a spark dataframe\n",
        "\n",
        "# Create a SparkSession\n",
        "spark = SparkSession.builder\\\n",
        "        .master('local')\\\n",
        "        .appName('TVanalysis')\\\n",
        "        .getOrCreate()\n",
        "\n",
        "# Read 2022 traffic violations\n",
        "TV22 = spark.read.parquet(\"/content/datalake/bronze/traffic_violations_2022.parquet\")\n",
        "# TV22 Shape\n",
        "print(\"2022 Traffic violations Dataframe shape:\")\n",
        "print((TV22.count(), len(TV22.columns)))"
      ],
      "metadata": {
        "id": "GdIRWaYCYbhV",
        "colab": {
          "base_uri": "https://localhost:8080/"
        },
        "outputId": "b08d9ae8-8a04-4a29-81fc-30f2dcb9c104"
      },
      "execution_count": 23,
      "outputs": [
        {
          "output_type": "stream",
          "name": "stdout",
          "text": [
            "2022 Traffic violations Dataframe shape:\n",
            "(4135523, 25)\n"
          ]
        }
      ]
    },
    {
      "cell_type": "code",
      "source": [
        "# Making sure the dataframe type\n",
        "print(\"Dataframe type:\")\n",
        "type(TV22)"
      ],
      "metadata": {
        "colab": {
          "base_uri": "https://localhost:8080/"
        },
        "id": "Nx_XiiP1aapz",
        "outputId": "d011b349-3d30-4abc-8bbb-ee2543bde7f8"
      },
      "execution_count": 24,
      "outputs": [
        {
          "output_type": "stream",
          "name": "stdout",
          "text": [
            "Dataframe type:\n"
          ]
        },
        {
          "output_type": "execute_result",
          "data": {
            "text/plain": [
              "pyspark.sql.dataframe.DataFrame"
            ]
          },
          "metadata": {},
          "execution_count": 24
        }
      ]
    },
    {
      "cell_type": "markdown",
      "source": [
        "### Translating the header from Portuguese to English\n",
        "The intention is making this notebook understable for everyone."
      ],
      "metadata": {
        "id": "duPezJHd3Qqj"
      }
    },
    {
      "cell_type": "code",
      "source": [
        "# Define a translation dictionary for column translations\n",
        "translation_dict = {\n",
        "    \"Número_do_Auto\": \"Auto_Number\",\n",
        "    \"Data_da_Infração_DD/MM/AAAA\": \"Date_of_Violation_DD/MM/YYYY\",\n",
        "    \"Indicador_de_Abordagem\": \"Approach_Indicator\",\n",
        "    \"Assinatura_do_Auto\": \"Auto_Signature\",\n",
        "    \"Sentido_Trafego\": \"Traffic_Direction\",\n",
        "    \"UF_Infração\": \"Infraction_State\",\n",
        "    \"BR_Infração\": \"Infraction_BR\",\n",
        "    \"Km_Infração\": \"Infraction_Km\",\n",
        "    \"Município\": \"City\",\n",
        "    \"Indicador_Veiculo_Estrangeiro\": \"Foreign_Vehicle_Indicator\",\n",
        "    \"UF_Placa\": \"License_Plate_State\",\n",
        "    \"Descrição_Especie_Veículo\": \"Vehicle_Species_Description\",\n",
        "    \"Descrição_Marca_Veículo\": \"Vehicle_Brand_Description\",\n",
        "    \"Descrição_Tipo_Veículo\": \"Vehicle_Type_Description\",\n",
        "    \"Descrição_Modelo_Veiculo\": \"Vehicle_Model_Description\",\n",
        "    \"Código_da_Infração\": \"Infraction_Code\",\n",
        "    \"Descrição_Abreviada_Infração\": \"Abbreviated_Infraction_Description\",\n",
        "    \"Enquadramento_da_Infração\": \"Infraction_Framing\",\n",
        "    \"Início_Vigência_da_Infração\": \"Infraction_Start_Vigency\",\n",
        "    \"Fim_Vigência_Infração\": \"Infraction_End_Vigency\",\n",
        "    \"Medição_Infração\": \"Infraction_Measurement\",\n",
        "    \"Hora_Infração\": \"Infraction_Time\",\n",
        "    \"Medição_Considerada\": \"Considered_Measurement\",\n",
        "    \"Excesso_Verificado\": \"Verified_Excess\",\n",
        "    \"Qtd_Infrações\": \"Infraction_Quantity\"\n",
        "}\n",
        "\n",
        "# Translate the column names\n",
        "TV22 = TV22.select(\n",
        "    *[col(c).alias(translation_dict.get(c, c)) for c in TV22.columns]\n",
        ")"
      ],
      "metadata": {
        "id": "8luYQ3A2qnJ4"
      },
      "execution_count": 25,
      "outputs": []
    },
    {
      "cell_type": "code",
      "source": [
        "# Checking dataframe schema\n",
        "print(\"2022 Traffic violations Dataframe schema:\")\n",
        "TV22.printSchema()"
      ],
      "metadata": {
        "colab": {
          "base_uri": "https://localhost:8080/"
        },
        "id": "oJLIpkn0aFzh",
        "outputId": "e5ab917d-da38-4a87-d907-02c2ef157369"
      },
      "execution_count": 26,
      "outputs": [
        {
          "output_type": "stream",
          "name": "stdout",
          "text": [
            "2022 Traffic violations Dataframe schema:\n",
            "root\n",
            " |-- Auto_Number: string (nullable = true)\n",
            " |-- Date_of_Violation_DD/MM/YYYY: string (nullable = true)\n",
            " |-- Approach_Indicator: string (nullable = true)\n",
            " |-- Auto_Signature: string (nullable = true)\n",
            " |-- Traffic_Direction: string (nullable = true)\n",
            " |-- Infraction_State: string (nullable = true)\n",
            " |-- Infraction_BR: string (nullable = true)\n",
            " |-- Infraction_Km: string (nullable = true)\n",
            " |-- City: string (nullable = true)\n",
            " |-- Foreign_Vehicle_Indicator: string (nullable = true)\n",
            " |-- License_Plate_State: string (nullable = true)\n",
            " |-- Vehicle_Species_Description: string (nullable = true)\n",
            " |-- Vehicle_Brand_Description: string (nullable = true)\n",
            " |-- Vehicle_Type_Description: string (nullable = true)\n",
            " |-- Vehicle_Model_Description: string (nullable = true)\n",
            " |-- Infraction_Code: string (nullable = true)\n",
            " |-- Abbreviated_Infraction_Description: string (nullable = true)\n",
            " |-- Infraction_Framing: string (nullable = true)\n",
            " |-- Infraction_Start_Vigency: string (nullable = true)\n",
            " |-- Infraction_End_Vigency: string (nullable = true)\n",
            " |-- Infraction_Measurement: string (nullable = true)\n",
            " |-- Infraction_Time: string (nullable = true)\n",
            " |-- Considered_Measurement: string (nullable = true)\n",
            " |-- Verified_Excess: string (nullable = true)\n",
            " |-- Infraction_Quantity: string (nullable = true)\n",
            "\n"
          ]
        }
      ]
    },
    {
      "cell_type": "markdown",
      "source": [
        "### Checking unique and null values on each column\n",
        "We will also check the total infractions."
      ],
      "metadata": {
        "id": "_RHQpQoE4RPQ"
      }
    },
    {
      "cell_type": "code",
      "source": [
        "from pyspark.sql.functions import col, sum as spark_sum\n",
        "# Count the number of null values in each column\n",
        "null_counts = TV22.select([spark_sum(col(c).isNull().cast(\"integer\")).alias(c) for c in TV22.columns])\n",
        "# Display the null counts\n",
        "print(\"Count the number of null values in each column:\")\n",
        "null_counts.show()"
      ],
      "metadata": {
        "colab": {
          "base_uri": "https://localhost:8080/"
        },
        "id": "3JLAS1Kya5Wt",
        "outputId": "f41dff70-9e43-4309-8720-042b7110b37e"
      },
      "execution_count": 27,
      "outputs": [
        {
          "output_type": "stream",
          "name": "stdout",
          "text": [
            "Count the number of null values in each column:\n",
            "+-----------+----------------------------+------------------+--------------+-----------------+----------------+-------------+-------------+----+-------------------------+-------------------+---------------------------+-------------------------+------------------------+-------------------------+---------------+----------------------------------+------------------+------------------------+----------------------+----------------------+---------------+----------------------+---------------+-------------------+\n",
            "|Auto_Number|Date_of_Violation_DD/MM/YYYY|Approach_Indicator|Auto_Signature|Traffic_Direction|Infraction_State|Infraction_BR|Infraction_Km|City|Foreign_Vehicle_Indicator|License_Plate_State|Vehicle_Species_Description|Vehicle_Brand_Description|Vehicle_Type_Description|Vehicle_Model_Description|Infraction_Code|Abbreviated_Infraction_Description|Infraction_Framing|Infraction_Start_Vigency|Infraction_End_Vigency|Infraction_Measurement|Infraction_Time|Considered_Measurement|Verified_Excess|Infraction_Quantity|\n",
            "+-----------+----------------------------+------------------+--------------+-----------------+----------------+-------------+-------------+----+-------------------------+-------------------+---------------------------+-------------------------+------------------------+-------------------------+---------------+----------------------------------+------------------+------------------------+----------------------+----------------------+---------------+----------------------+---------------+-------------------+\n",
            "|          0|                           0|                 0|             0|                0|               0|            0|            0|   0|                        0|                  0|                          0|                        0|                       0|                        0|              0|                                 0|                 0|                       0|                     0|                     0|              0|                     0|              1|                  1|\n",
            "+-----------+----------------------------+------------------+--------------+-----------------+----------------+-------------+-------------+----+-------------------------+-------------------+---------------------------+-------------------------+------------------------+-------------------------+---------------+----------------------------------+------------------+------------------------+----------------------+----------------------+---------------+----------------------+---------------+-------------------+\n",
            "\n"
          ]
        }
      ]
    },
    {
      "cell_type": "code",
      "source": [
        "from pyspark.sql.functions import countDistinct\n",
        "# Calculate the number of unique values in each column\n",
        "nunique_counts = TV22.agg(*[countDistinct(col_name).alias(col_name) for col_name in TV22.columns])\n",
        "# Display the number of unique values\n",
        "print(\"Calculate the number of unique values in each column:\")\n",
        "nunique_counts.show()"
      ],
      "metadata": {
        "colab": {
          "base_uri": "https://localhost:8080/"
        },
        "id": "44XeiBYOb2PN",
        "outputId": "1d4477eb-9870-4977-d878-223076c6b200"
      },
      "execution_count": 28,
      "outputs": [
        {
          "output_type": "stream",
          "name": "stdout",
          "text": [
            "Calculate the number of unique values in each column:\n",
            "+-----------+----------------------------+------------------+--------------+-----------------+----------------+-------------+-------------+----+-------------------------+-------------------+---------------------------+-------------------------+------------------------+-------------------------+---------------+----------------------------------+------------------+------------------------+----------------------+----------------------+---------------+----------------------+---------------+-------------------+\n",
            "|Auto_Number|Date_of_Violation_DD/MM/YYYY|Approach_Indicator|Auto_Signature|Traffic_Direction|Infraction_State|Infraction_BR|Infraction_Km|City|Foreign_Vehicle_Indicator|License_Plate_State|Vehicle_Species_Description|Vehicle_Brand_Description|Vehicle_Type_Description|Vehicle_Model_Description|Infraction_Code|Abbreviated_Infraction_Description|Infraction_Framing|Infraction_Start_Vigency|Infraction_End_Vigency|Infraction_Measurement|Infraction_Time|Considered_Measurement|Verified_Excess|Infraction_Quantity|\n",
            "+-----------+----------------------------+------------------+--------------+-----------------+----------------+-------------+-------------+----+-------------------------+-------------------+---------------------------+-------------------------+------------------------+-------------------------+---------------+----------------------------------+------------------+------------------------+----------------------+----------------------+---------------+----------------------+---------------+-------------------+\n",
            "|    4135523|                         365|                 2|             2|                2|              27|          127|         1223|2078|                        3|                 90|                         14|                    13173|                      24|                    25719|            379|                               379|               240|                       9|                     2|                     6|             24|                 11978|           8518|                  1|\n",
            "+-----------+----------------------------+------------------+--------------+-----------------+----------------+-------------+-------------+----+-------------------------+-------------------+---------------------------+-------------------------+------------------------+-------------------------+---------------+----------------------------------+------------------+------------------------+----------------------+----------------------+---------------+----------------------+---------------+-------------------+\n",
            "\n"
          ]
        }
      ]
    },
    {
      "cell_type": "code",
      "source": [
        "# Get the total number of rows\n",
        "total_multa = int(TV22.count())\n",
        "# Print the total number of multas\n",
        "print(f'Total of 2022 Traffic Violations: {total_multa}')"
      ],
      "metadata": {
        "colab": {
          "base_uri": "https://localhost:8080/"
        },
        "id": "f_FKSLLneyH8",
        "outputId": "e3b3bd42-270c-4b8c-f877-65ede3f08140"
      },
      "execution_count": 29,
      "outputs": [
        {
          "output_type": "stream",
          "name": "stdout",
          "text": [
            "Total of 2022 Traffic Violations: 4135523\n"
          ]
        }
      ]
    },
    {
      "cell_type": "markdown",
      "source": [
        "### Converting the column Data_of_Violation to Date Format"
      ],
      "metadata": {
        "id": "-V1G_6Js44Aa"
      }
    },
    {
      "cell_type": "code",
      "source": [
        "from pyspark.sql.functions import col, to_date\n",
        "# Convert the column to date type\n",
        "TV22 = TV22.withColumn('Date_of_Violation_DD/MM/YYYY', to_date(col('Date_of_Violation_DD/MM/YYYY'), 'yyyy-MM-dd'))\n",
        "# Print the updated data type of the column\n",
        "TV22.printSchema()"
      ],
      "metadata": {
        "colab": {
          "base_uri": "https://localhost:8080/"
        },
        "id": "KyfXw0N9gmsb",
        "outputId": "a0aeb54c-26b6-46b9-e52e-d01e3b6c813d"
      },
      "execution_count": 30,
      "outputs": [
        {
          "output_type": "stream",
          "name": "stdout",
          "text": [
            "root\n",
            " |-- Auto_Number: string (nullable = true)\n",
            " |-- Date_of_Violation_DD/MM/YYYY: date (nullable = true)\n",
            " |-- Approach_Indicator: string (nullable = true)\n",
            " |-- Auto_Signature: string (nullable = true)\n",
            " |-- Traffic_Direction: string (nullable = true)\n",
            " |-- Infraction_State: string (nullable = true)\n",
            " |-- Infraction_BR: string (nullable = true)\n",
            " |-- Infraction_Km: string (nullable = true)\n",
            " |-- City: string (nullable = true)\n",
            " |-- Foreign_Vehicle_Indicator: string (nullable = true)\n",
            " |-- License_Plate_State: string (nullable = true)\n",
            " |-- Vehicle_Species_Description: string (nullable = true)\n",
            " |-- Vehicle_Brand_Description: string (nullable = true)\n",
            " |-- Vehicle_Type_Description: string (nullable = true)\n",
            " |-- Vehicle_Model_Description: string (nullable = true)\n",
            " |-- Infraction_Code: string (nullable = true)\n",
            " |-- Abbreviated_Infraction_Description: string (nullable = true)\n",
            " |-- Infraction_Framing: string (nullable = true)\n",
            " |-- Infraction_Start_Vigency: string (nullable = true)\n",
            " |-- Infraction_End_Vigency: string (nullable = true)\n",
            " |-- Infraction_Measurement: string (nullable = true)\n",
            " |-- Infraction_Time: string (nullable = true)\n",
            " |-- Considered_Measurement: string (nullable = true)\n",
            " |-- Verified_Excess: string (nullable = true)\n",
            " |-- Infraction_Quantity: string (nullable = true)\n",
            "\n"
          ]
        }
      ]
    },
    {
      "cell_type": "markdown",
      "source": [
        "### Getting the total of Violations on a day of the year\n",
        "The goal is getting the total violation on a day, along with the moving avarage."
      ],
      "metadata": {
        "id": "pk9PNzer5NbJ"
      }
    },
    {
      "cell_type": "code",
      "source": [
        "from pyspark.sql.functions import expr\n",
        "from pyspark.sql.window import Window\n",
        "\n",
        "# Creating a temporary view called TV22\n",
        "TV22.createOrReplaceTempView(\"TV22\")\n",
        "\n",
        "# Creating a query, to get the contect from the temp view\n",
        "query = \"SELECT\\\n",
        "            `Date_of_Violation_DD/MM/YYYY` AS `Date`, \\\n",
        "            COUNT(*) AS `Violations_Count`, \\\n",
        "            MONTH(`Date_of_Violation_DD/MM/YYYY`) AS `Month`, \\\n",
        "            DAY(`Date_of_Violation_DD/MM/YYYY`) AS `Day`\\\n",
        "        FROM \\\n",
        "            TV22 \\\n",
        "        GROUP BY \\\n",
        "            `Date_of_Violation_DD/MM/YYYY` \\\n",
        "        ORDER BY \\\n",
        "            `Date_of_Violation_DD/MM/YYYY`\"\n",
        "\n",
        "# run the query and storying in another variable called flights10\n",
        "violations_per_day = spark.sql(query)\n",
        "\n",
        "# Get the moving avarage\n",
        "window_spec = Window.orderBy(\"Date\").rowsBetween(-6, 0)\n",
        "violations_per_day = violations_per_day.withColumn(\"moving_avarage\", expr(\"avg(Violations_Count)\").over(window_spec))\n",
        "\n",
        "# see result\n",
        "violations_per_day.show(10)"
      ],
      "metadata": {
        "colab": {
          "base_uri": "https://localhost:8080/"
        },
        "id": "oV1uzaKpp1xL",
        "outputId": "826c1df8-9b99-43ea-a5d9-58bab6bb01c1"
      },
      "execution_count": 31,
      "outputs": [
        {
          "output_type": "stream",
          "name": "stdout",
          "text": [
            "+----------+----------------+-----+---+------------------+\n",
            "|      Date|Violations_Count|Month|Day|    moving_avarage|\n",
            "+----------+----------------+-----+---+------------------+\n",
            "|2022-01-01|            8533|    1|  1|            8533.0|\n",
            "|2022-01-02|           13146|    1|  2|           10839.5|\n",
            "|2022-01-03|           12012|    1|  3|11230.333333333334|\n",
            "|2022-01-04|           11248|    1|  4|          11234.75|\n",
            "|2022-01-05|           11159|    1|  5|           11219.6|\n",
            "|2022-01-06|           10167|    1|  6|11044.166666666666|\n",
            "|2022-01-07|           11150|    1|  7|11059.285714285714|\n",
            "|2022-01-08|            8321|    1|  8|           11029.0|\n",
            "|2022-01-09|            8788|    1|  9| 10406.42857142857|\n",
            "|2022-01-10|            8520|    1| 10|  9907.57142857143|\n",
            "+----------+----------------+-----+---+------------------+\n",
            "only showing top 10 rows\n",
            "\n"
          ]
        }
      ]
    },
    {
      "cell_type": "code",
      "source": [
        "violations_per_day.printSchema()"
      ],
      "metadata": {
        "colab": {
          "base_uri": "https://localhost:8080/"
        },
        "id": "jr2-gJlHuMoU",
        "outputId": "f56affc8-c9e4-4930-8c2f-78e1c4867287"
      },
      "execution_count": 32,
      "outputs": [
        {
          "output_type": "stream",
          "name": "stdout",
          "text": [
            "root\n",
            " |-- Date: date (nullable = true)\n",
            " |-- Violations_Count: long (nullable = false)\n",
            " |-- Month: integer (nullable = true)\n",
            " |-- Day: integer (nullable = true)\n",
            " |-- moving_avarage: double (nullable = true)\n",
            "\n"
          ]
        }
      ]
    },
    {
      "cell_type": "markdown",
      "source": [
        "### Install plotly\n",
        "We will install Plotly to leverage its powerful visualization capabilities for our exploratory analysis."
      ],
      "metadata": {
        "id": "DmAJBXJv50Gz"
      }
    },
    {
      "cell_type": "code",
      "source": [
        "import plotly.express as px\n",
        "import plotly.graph_objects as go\n",
        "from plotly.subplots import make_subplots"
      ],
      "metadata": {
        "id": "QUDq2E_CX0hH"
      },
      "execution_count": 33,
      "outputs": []
    },
    {
      "cell_type": "code",
      "source": [
        "!pip install plotly"
      ],
      "metadata": {
        "colab": {
          "base_uri": "https://localhost:8080/"
        },
        "id": "Fc_uSoXpX0p3",
        "outputId": "ed6b60a5-1db4-4248-ca35-f7d8a801dec0"
      },
      "execution_count": 34,
      "outputs": [
        {
          "output_type": "stream",
          "name": "stdout",
          "text": [
            "Requirement already satisfied: plotly in /usr/local/lib/python3.10/dist-packages (5.13.1)\n",
            "Requirement already satisfied: tenacity>=6.2.0 in /usr/local/lib/python3.10/dist-packages (from plotly) (8.2.2)\n"
          ]
        }
      ]
    },
    {
      "cell_type": "markdown",
      "source": [
        "To generate the charts using Plotly we need to conver the Spark dataframes on Pandas Dataframes"
      ],
      "metadata": {
        "id": "W34vel3qGAtc"
      }
    },
    {
      "cell_type": "code",
      "source": [
        "# Import pandas lib\n",
        "import pandas as pd\n",
        "\n",
        "# Converting Spark Dataframe to Pandas Dataframe\n",
        "df_violations_per_day = violations_per_day.toPandas()"
      ],
      "metadata": {
        "id": "xBeO9K9vvDDM"
      },
      "execution_count": 35,
      "outputs": []
    },
    {
      "cell_type": "markdown",
      "source": [
        "### Create our first line chart\n",
        "We plotly the df_violations_per_day dataframe, on a line chart."
      ],
      "metadata": {
        "id": "rI3t47uK6a-J"
      }
    },
    {
      "cell_type": "code",
      "source": [
        "px.line(\n",
        "    df_violations_per_day,\n",
        "    x='Date',\n",
        "    y='Violations_Count'\n",
        ")"
      ],
      "metadata": {
        "colab": {
          "base_uri": "https://localhost:8080/",
          "height": 542
        },
        "id": "A7vFDNzeuWCB",
        "outputId": "824196e2-84af-41e7-f17c-94ddbe6b813e"
      },
      "execution_count": 36,
      "outputs": [
        {
          "output_type": "display_data",
          "data": {
            "text/html": [
              "<html>\n",
              "<head><meta charset=\"utf-8\" /></head>\n",
              "<body>\n",
              "    <div>            <script src=\"https://cdnjs.cloudflare.com/ajax/libs/mathjax/2.7.5/MathJax.js?config=TeX-AMS-MML_SVG\"></script><script type=\"text/javascript\">if (window.MathJax && window.MathJax.Hub && window.MathJax.Hub.Config) {window.MathJax.Hub.Config({SVG: {font: \"STIX-Web\"}});}</script>                <script type=\"text/javascript\">window.PlotlyConfig = {MathJaxConfig: 'local'};</script>\n",
              "        <script src=\"https://cdn.plot.ly/plotly-2.18.2.min.js\"></script>                <div id=\"34045247-1f20-4fba-b44d-ae8893f270d1\" class=\"plotly-graph-div\" style=\"height:525px; width:100%;\"></div>            <script type=\"text/javascript\">                                    window.PLOTLYENV=window.PLOTLYENV || {};                                    if (document.getElementById(\"34045247-1f20-4fba-b44d-ae8893f270d1\")) {                    Plotly.newPlot(                        \"34045247-1f20-4fba-b44d-ae8893f270d1\",                        [{\"hovertemplate\":\"Date=%{x}<br>Violations_Count=%{y}<extra></extra>\",\"legendgroup\":\"\",\"line\":{\"color\":\"#636efa\",\"dash\":\"solid\"},\"marker\":{\"symbol\":\"circle\"},\"mode\":\"lines\",\"name\":\"\",\"orientation\":\"v\",\"showlegend\":false,\"x\":[\"2022-01-01\",\"2022-01-02\",\"2022-01-03\",\"2022-01-04\",\"2022-01-05\",\"2022-01-06\",\"2022-01-07\",\"2022-01-08\",\"2022-01-09\",\"2022-01-10\",\"2022-01-11\",\"2022-01-12\",\"2022-01-13\",\"2022-01-14\",\"2022-01-15\",\"2022-01-16\",\"2022-01-17\",\"2022-01-18\",\"2022-01-19\",\"2022-01-20\",\"2022-01-21\",\"2022-01-22\",\"2022-01-23\",\"2022-01-24\",\"2022-01-25\",\"2022-01-26\",\"2022-01-27\",\"2022-01-28\",\"2022-01-29\",\"2022-01-30\",\"2022-01-31\",\"2022-02-01\",\"2022-02-02\",\"2022-02-03\",\"2022-02-04\",\"2022-02-05\",\"2022-02-06\",\"2022-02-07\",\"2022-02-08\",\"2022-02-09\",\"2022-02-10\",\"2022-02-11\",\"2022-02-12\",\"2022-02-13\",\"2022-02-14\",\"2022-02-15\",\"2022-02-16\",\"2022-02-17\",\"2022-02-18\",\"2022-02-19\",\"2022-02-20\",\"2022-02-21\",\"2022-02-22\",\"2022-02-23\",\"2022-02-24\",\"2022-02-25\",\"2022-02-26\",\"2022-02-27\",\"2022-02-28\",\"2022-03-01\",\"2022-03-02\",\"2022-03-03\",\"2022-03-04\",\"2022-03-05\",\"2022-03-06\",\"2022-03-07\",\"2022-03-08\",\"2022-03-09\",\"2022-03-10\",\"2022-03-11\",\"2022-03-12\",\"2022-03-13\",\"2022-03-14\",\"2022-03-15\",\"2022-03-16\",\"2022-03-17\",\"2022-03-18\",\"2022-03-19\",\"2022-03-20\",\"2022-03-21\",\"2022-03-22\",\"2022-03-23\",\"2022-03-24\",\"2022-03-25\",\"2022-03-26\",\"2022-03-27\",\"2022-03-28\",\"2022-03-29\",\"2022-03-30\",\"2022-03-31\",\"2022-04-01\",\"2022-04-02\",\"2022-04-03\",\"2022-04-04\",\"2022-04-05\",\"2022-04-06\",\"2022-04-07\",\"2022-04-08\",\"2022-04-09\",\"2022-04-10\",\"2022-04-11\",\"2022-04-12\",\"2022-04-13\",\"2022-04-14\",\"2022-04-15\",\"2022-04-16\",\"2022-04-17\",\"2022-04-18\",\"2022-04-19\",\"2022-04-20\",\"2022-04-21\",\"2022-04-22\",\"2022-04-23\",\"2022-04-24\",\"2022-04-25\",\"2022-04-26\",\"2022-04-27\",\"2022-04-28\",\"2022-04-29\",\"2022-04-30\",\"2022-05-01\",\"2022-05-02\",\"2022-05-03\",\"2022-05-04\",\"2022-05-05\",\"2022-05-06\",\"2022-05-07\",\"2022-05-08\",\"2022-05-09\",\"2022-05-10\",\"2022-05-11\",\"2022-05-12\",\"2022-05-13\",\"2022-05-14\",\"2022-05-15\",\"2022-05-16\",\"2022-05-17\",\"2022-05-18\",\"2022-05-19\",\"2022-05-20\",\"2022-05-21\",\"2022-05-22\",\"2022-05-23\",\"2022-05-24\",\"2022-05-25\",\"2022-05-26\",\"2022-05-27\",\"2022-05-28\",\"2022-05-29\",\"2022-05-30\",\"2022-05-31\",\"2022-06-01\",\"2022-06-02\",\"2022-06-03\",\"2022-06-04\",\"2022-06-05\",\"2022-06-06\",\"2022-06-07\",\"2022-06-08\",\"2022-06-09\",\"2022-06-10\",\"2022-06-11\",\"2022-06-12\",\"2022-06-13\",\"2022-06-14\",\"2022-06-15\",\"2022-06-16\",\"2022-06-17\",\"2022-06-18\",\"2022-06-19\",\"2022-06-20\",\"2022-06-21\",\"2022-06-22\",\"2022-06-23\",\"2022-06-24\",\"2022-06-25\",\"2022-06-26\",\"2022-06-27\",\"2022-06-28\",\"2022-06-29\",\"2022-06-30\",\"2022-07-01\",\"2022-07-02\",\"2022-07-03\",\"2022-07-04\",\"2022-07-05\",\"2022-07-06\",\"2022-07-07\",\"2022-07-08\",\"2022-07-09\",\"2022-07-10\",\"2022-07-11\",\"2022-07-12\",\"2022-07-13\",\"2022-07-14\",\"2022-07-15\",\"2022-07-16\",\"2022-07-17\",\"2022-07-18\",\"2022-07-19\",\"2022-07-20\",\"2022-07-21\",\"2022-07-22\",\"2022-07-23\",\"2022-07-24\",\"2022-07-25\",\"2022-07-26\",\"2022-07-27\",\"2022-07-28\",\"2022-07-29\",\"2022-07-30\",\"2022-07-31\",\"2022-08-01\",\"2022-08-02\",\"2022-08-03\",\"2022-08-04\",\"2022-08-05\",\"2022-08-06\",\"2022-08-07\",\"2022-08-08\",\"2022-08-09\",\"2022-08-10\",\"2022-08-11\",\"2022-08-12\",\"2022-08-13\",\"2022-08-14\",\"2022-08-15\",\"2022-08-16\",\"2022-08-17\",\"2022-08-18\",\"2022-08-19\",\"2022-08-20\",\"2022-08-21\",\"2022-08-22\",\"2022-08-23\",\"2022-08-24\",\"2022-08-25\",\"2022-08-26\",\"2022-08-27\",\"2022-08-28\",\"2022-08-29\",\"2022-08-30\",\"2022-08-31\",\"2022-09-01\",\"2022-09-02\",\"2022-09-03\",\"2022-09-04\",\"2022-09-05\",\"2022-09-06\",\"2022-09-07\",\"2022-09-08\",\"2022-09-09\",\"2022-09-10\",\"2022-09-11\",\"2022-09-12\",\"2022-09-13\",\"2022-09-14\",\"2022-09-15\",\"2022-09-16\",\"2022-09-17\",\"2022-09-18\",\"2022-09-19\",\"2022-09-20\",\"2022-09-21\",\"2022-09-22\",\"2022-09-23\",\"2022-09-24\",\"2022-09-25\",\"2022-09-26\",\"2022-09-27\",\"2022-09-28\",\"2022-09-29\",\"2022-09-30\",\"2022-10-01\",\"2022-10-02\",\"2022-10-03\",\"2022-10-04\",\"2022-10-05\",\"2022-10-06\",\"2022-10-07\",\"2022-10-08\",\"2022-10-09\",\"2022-10-10\",\"2022-10-11\",\"2022-10-12\",\"2022-10-13\",\"2022-10-14\",\"2022-10-15\",\"2022-10-16\",\"2022-10-17\",\"2022-10-18\",\"2022-10-19\",\"2022-10-20\",\"2022-10-21\",\"2022-10-22\",\"2022-10-23\",\"2022-10-24\",\"2022-10-25\",\"2022-10-26\",\"2022-10-27\",\"2022-10-28\",\"2022-10-29\",\"2022-10-30\",\"2022-10-31\",\"2022-11-01\",\"2022-11-02\",\"2022-11-03\",\"2022-11-04\",\"2022-11-05\",\"2022-11-06\",\"2022-11-07\",\"2022-11-08\",\"2022-11-09\",\"2022-11-10\",\"2022-11-11\",\"2022-11-12\",\"2022-11-13\",\"2022-11-14\",\"2022-11-15\",\"2022-11-16\",\"2022-11-17\",\"2022-11-18\",\"2022-11-19\",\"2022-11-20\",\"2022-11-21\",\"2022-11-22\",\"2022-11-23\",\"2022-11-24\",\"2022-11-25\",\"2022-11-26\",\"2022-11-27\",\"2022-11-28\",\"2022-11-29\",\"2022-11-30\",\"2022-12-01\",\"2022-12-02\",\"2022-12-03\",\"2022-12-04\",\"2022-12-05\",\"2022-12-06\",\"2022-12-07\",\"2022-12-08\",\"2022-12-09\",\"2022-12-10\",\"2022-12-11\",\"2022-12-12\",\"2022-12-13\",\"2022-12-14\",\"2022-12-15\",\"2022-12-16\",\"2022-12-17\",\"2022-12-18\",\"2022-12-19\",\"2022-12-20\",\"2022-12-21\",\"2022-12-22\",\"2022-12-23\",\"2022-12-24\",\"2022-12-25\",\"2022-12-26\",\"2022-12-27\",\"2022-12-28\",\"2022-12-29\",\"2022-12-30\",\"2022-12-31\"],\"xaxis\":\"x\",\"y\":[8533,13146,12012,11248,11159,10167,11150,8321,8788,8520,8008,11553,9564,10799,8761,9670,10299,11576,11487,11246,14586,10223,9998,10691,10912,11103,12401,13628,11067,14135,12187,11218,11569,13506,12327,11417,9994,11294,14704,13394,12463,14952,10230,14511,13735,13051,13149,12544,13820,10624,12048,11664,12366,15191,12739,21477,21715,14993,15133,18936,18655,12157,12275,9503,14031,11579,11271,10105,11899,11003,10979,11574,12563,12339,13798,12569,13343,11273,10645,12221,13081,14022,13757,13008,11748,11576,14342,12214,12984,13211,11691,10583,12795,12619,13237,14175,12679,13456,11193,11253,11455,13132,12741,18161,17162,12422,16867,11647,10864,12624,19261,14933,14090,17675,14224,13316,14058,12619,15075,12525,12489,14937,14668,14144,16248,16765,9140,8143,12599,11647,10678,15285,9483,8253,6774,10567,10468,8511,8635,9827,7547,6569,13820,12184,13045,11643,13056,11423,10876,11539,10711,8452,11073,11662,10500,10731,11752,10086,12071,11683,13802,10849,10253,15085,10638,14153,14358,7357,7007,13663,9562,9302,9816,10199,10286,10183,10637,10101,10080,9109,10574,9472,10572,10208,10737,9076,9737,9169,10815,9123,10856,11660,11146,9812,10964,10770,8404,9872,10130,10418,10036,9643,11634,8985,9064,9948,8809,9142,10116,10082,8877,8969,9521,9795,9525,9656,10548,8047,8000,10647,8930,10525,10429,12014,8195,8069,11584,11570,10661,11117,9491,8806,9351,12918,10597,11348,11578,12334,9884,10883,10346,10334,11420,10562,10531,9730,10891,13580,10106,10884,10486,12517,9645,10381,10809,10183,8544,11114,11737,10091,10081,11190,12571,12108,10784,12943,10501,9522,11612,9074,10532,11880,13979,14241,15781,10458,9766,10257,9532,11802,10645,9507,9646,11046,11134,10946,11550,9801,10653,12259,10363,11629,10526,11617,9884,8445,11659,9902,10925,10096,19007,18238,14719,7005,5853,9888,6831,7737,6605,9804,10581,9188,10851,9397,13189,14878,12679,12027,16559,10511,9556,11007,7979,7886,5382,7665,5472,4033,9001,7948,7967,8423,8579,8549,9001,7815,8858,8973,9824,10717,10960,11293,10910,9656,10233,11251,8561,11701,11957,12950,15465,12248,10361,12476,12679,11912,16523,13654,11021,15214,12077,11332,12226,15801,13216],\"yaxis\":\"y\",\"type\":\"scatter\"}],                        {\"template\":{\"data\":{\"histogram2dcontour\":[{\"type\":\"histogram2dcontour\",\"colorbar\":{\"outlinewidth\":0,\"ticks\":\"\"},\"colorscale\":[[0.0,\"#0d0887\"],[0.1111111111111111,\"#46039f\"],[0.2222222222222222,\"#7201a8\"],[0.3333333333333333,\"#9c179e\"],[0.4444444444444444,\"#bd3786\"],[0.5555555555555556,\"#d8576b\"],[0.6666666666666666,\"#ed7953\"],[0.7777777777777778,\"#fb9f3a\"],[0.8888888888888888,\"#fdca26\"],[1.0,\"#f0f921\"]]}],\"choropleth\":[{\"type\":\"choropleth\",\"colorbar\":{\"outlinewidth\":0,\"ticks\":\"\"}}],\"histogram2d\":[{\"type\":\"histogram2d\",\"colorbar\":{\"outlinewidth\":0,\"ticks\":\"\"},\"colorscale\":[[0.0,\"#0d0887\"],[0.1111111111111111,\"#46039f\"],[0.2222222222222222,\"#7201a8\"],[0.3333333333333333,\"#9c179e\"],[0.4444444444444444,\"#bd3786\"],[0.5555555555555556,\"#d8576b\"],[0.6666666666666666,\"#ed7953\"],[0.7777777777777778,\"#fb9f3a\"],[0.8888888888888888,\"#fdca26\"],[1.0,\"#f0f921\"]]}],\"heatmap\":[{\"type\":\"heatmap\",\"colorbar\":{\"outlinewidth\":0,\"ticks\":\"\"},\"colorscale\":[[0.0,\"#0d0887\"],[0.1111111111111111,\"#46039f\"],[0.2222222222222222,\"#7201a8\"],[0.3333333333333333,\"#9c179e\"],[0.4444444444444444,\"#bd3786\"],[0.5555555555555556,\"#d8576b\"],[0.6666666666666666,\"#ed7953\"],[0.7777777777777778,\"#fb9f3a\"],[0.8888888888888888,\"#fdca26\"],[1.0,\"#f0f921\"]]}],\"heatmapgl\":[{\"type\":\"heatmapgl\",\"colorbar\":{\"outlinewidth\":0,\"ticks\":\"\"},\"colorscale\":[[0.0,\"#0d0887\"],[0.1111111111111111,\"#46039f\"],[0.2222222222222222,\"#7201a8\"],[0.3333333333333333,\"#9c179e\"],[0.4444444444444444,\"#bd3786\"],[0.5555555555555556,\"#d8576b\"],[0.6666666666666666,\"#ed7953\"],[0.7777777777777778,\"#fb9f3a\"],[0.8888888888888888,\"#fdca26\"],[1.0,\"#f0f921\"]]}],\"contourcarpet\":[{\"type\":\"contourcarpet\",\"colorbar\":{\"outlinewidth\":0,\"ticks\":\"\"}}],\"contour\":[{\"type\":\"contour\",\"colorbar\":{\"outlinewidth\":0,\"ticks\":\"\"},\"colorscale\":[[0.0,\"#0d0887\"],[0.1111111111111111,\"#46039f\"],[0.2222222222222222,\"#7201a8\"],[0.3333333333333333,\"#9c179e\"],[0.4444444444444444,\"#bd3786\"],[0.5555555555555556,\"#d8576b\"],[0.6666666666666666,\"#ed7953\"],[0.7777777777777778,\"#fb9f3a\"],[0.8888888888888888,\"#fdca26\"],[1.0,\"#f0f921\"]]}],\"surface\":[{\"type\":\"surface\",\"colorbar\":{\"outlinewidth\":0,\"ticks\":\"\"},\"colorscale\":[[0.0,\"#0d0887\"],[0.1111111111111111,\"#46039f\"],[0.2222222222222222,\"#7201a8\"],[0.3333333333333333,\"#9c179e\"],[0.4444444444444444,\"#bd3786\"],[0.5555555555555556,\"#d8576b\"],[0.6666666666666666,\"#ed7953\"],[0.7777777777777778,\"#fb9f3a\"],[0.8888888888888888,\"#fdca26\"],[1.0,\"#f0f921\"]]}],\"mesh3d\":[{\"type\":\"mesh3d\",\"colorbar\":{\"outlinewidth\":0,\"ticks\":\"\"}}],\"scatter\":[{\"fillpattern\":{\"fillmode\":\"overlay\",\"size\":10,\"solidity\":0.2},\"type\":\"scatter\"}],\"parcoords\":[{\"type\":\"parcoords\",\"line\":{\"colorbar\":{\"outlinewidth\":0,\"ticks\":\"\"}}}],\"scatterpolargl\":[{\"type\":\"scatterpolargl\",\"marker\":{\"colorbar\":{\"outlinewidth\":0,\"ticks\":\"\"}}}],\"bar\":[{\"error_x\":{\"color\":\"#2a3f5f\"},\"error_y\":{\"color\":\"#2a3f5f\"},\"marker\":{\"line\":{\"color\":\"#E5ECF6\",\"width\":0.5},\"pattern\":{\"fillmode\":\"overlay\",\"size\":10,\"solidity\":0.2}},\"type\":\"bar\"}],\"scattergeo\":[{\"type\":\"scattergeo\",\"marker\":{\"colorbar\":{\"outlinewidth\":0,\"ticks\":\"\"}}}],\"scatterpolar\":[{\"type\":\"scatterpolar\",\"marker\":{\"colorbar\":{\"outlinewidth\":0,\"ticks\":\"\"}}}],\"histogram\":[{\"marker\":{\"pattern\":{\"fillmode\":\"overlay\",\"size\":10,\"solidity\":0.2}},\"type\":\"histogram\"}],\"scattergl\":[{\"type\":\"scattergl\",\"marker\":{\"colorbar\":{\"outlinewidth\":0,\"ticks\":\"\"}}}],\"scatter3d\":[{\"type\":\"scatter3d\",\"line\":{\"colorbar\":{\"outlinewidth\":0,\"ticks\":\"\"}},\"marker\":{\"colorbar\":{\"outlinewidth\":0,\"ticks\":\"\"}}}],\"scattermapbox\":[{\"type\":\"scattermapbox\",\"marker\":{\"colorbar\":{\"outlinewidth\":0,\"ticks\":\"\"}}}],\"scatterternary\":[{\"type\":\"scatterternary\",\"marker\":{\"colorbar\":{\"outlinewidth\":0,\"ticks\":\"\"}}}],\"scattercarpet\":[{\"type\":\"scattercarpet\",\"marker\":{\"colorbar\":{\"outlinewidth\":0,\"ticks\":\"\"}}}],\"carpet\":[{\"aaxis\":{\"endlinecolor\":\"#2a3f5f\",\"gridcolor\":\"white\",\"linecolor\":\"white\",\"minorgridcolor\":\"white\",\"startlinecolor\":\"#2a3f5f\"},\"baxis\":{\"endlinecolor\":\"#2a3f5f\",\"gridcolor\":\"white\",\"linecolor\":\"white\",\"minorgridcolor\":\"white\",\"startlinecolor\":\"#2a3f5f\"},\"type\":\"carpet\"}],\"table\":[{\"cells\":{\"fill\":{\"color\":\"#EBF0F8\"},\"line\":{\"color\":\"white\"}},\"header\":{\"fill\":{\"color\":\"#C8D4E3\"},\"line\":{\"color\":\"white\"}},\"type\":\"table\"}],\"barpolar\":[{\"marker\":{\"line\":{\"color\":\"#E5ECF6\",\"width\":0.5},\"pattern\":{\"fillmode\":\"overlay\",\"size\":10,\"solidity\":0.2}},\"type\":\"barpolar\"}],\"pie\":[{\"automargin\":true,\"type\":\"pie\"}]},\"layout\":{\"autotypenumbers\":\"strict\",\"colorway\":[\"#636efa\",\"#EF553B\",\"#00cc96\",\"#ab63fa\",\"#FFA15A\",\"#19d3f3\",\"#FF6692\",\"#B6E880\",\"#FF97FF\",\"#FECB52\"],\"font\":{\"color\":\"#2a3f5f\"},\"hovermode\":\"closest\",\"hoverlabel\":{\"align\":\"left\"},\"paper_bgcolor\":\"white\",\"plot_bgcolor\":\"#E5ECF6\",\"polar\":{\"bgcolor\":\"#E5ECF6\",\"angularaxis\":{\"gridcolor\":\"white\",\"linecolor\":\"white\",\"ticks\":\"\"},\"radialaxis\":{\"gridcolor\":\"white\",\"linecolor\":\"white\",\"ticks\":\"\"}},\"ternary\":{\"bgcolor\":\"#E5ECF6\",\"aaxis\":{\"gridcolor\":\"white\",\"linecolor\":\"white\",\"ticks\":\"\"},\"baxis\":{\"gridcolor\":\"white\",\"linecolor\":\"white\",\"ticks\":\"\"},\"caxis\":{\"gridcolor\":\"white\",\"linecolor\":\"white\",\"ticks\":\"\"}},\"coloraxis\":{\"colorbar\":{\"outlinewidth\":0,\"ticks\":\"\"}},\"colorscale\":{\"sequential\":[[0.0,\"#0d0887\"],[0.1111111111111111,\"#46039f\"],[0.2222222222222222,\"#7201a8\"],[0.3333333333333333,\"#9c179e\"],[0.4444444444444444,\"#bd3786\"],[0.5555555555555556,\"#d8576b\"],[0.6666666666666666,\"#ed7953\"],[0.7777777777777778,\"#fb9f3a\"],[0.8888888888888888,\"#fdca26\"],[1.0,\"#f0f921\"]],\"sequentialminus\":[[0.0,\"#0d0887\"],[0.1111111111111111,\"#46039f\"],[0.2222222222222222,\"#7201a8\"],[0.3333333333333333,\"#9c179e\"],[0.4444444444444444,\"#bd3786\"],[0.5555555555555556,\"#d8576b\"],[0.6666666666666666,\"#ed7953\"],[0.7777777777777778,\"#fb9f3a\"],[0.8888888888888888,\"#fdca26\"],[1.0,\"#f0f921\"]],\"diverging\":[[0,\"#8e0152\"],[0.1,\"#c51b7d\"],[0.2,\"#de77ae\"],[0.3,\"#f1b6da\"],[0.4,\"#fde0ef\"],[0.5,\"#f7f7f7\"],[0.6,\"#e6f5d0\"],[0.7,\"#b8e186\"],[0.8,\"#7fbc41\"],[0.9,\"#4d9221\"],[1,\"#276419\"]]},\"xaxis\":{\"gridcolor\":\"white\",\"linecolor\":\"white\",\"ticks\":\"\",\"title\":{\"standoff\":15},\"zerolinecolor\":\"white\",\"automargin\":true,\"zerolinewidth\":2},\"yaxis\":{\"gridcolor\":\"white\",\"linecolor\":\"white\",\"ticks\":\"\",\"title\":{\"standoff\":15},\"zerolinecolor\":\"white\",\"automargin\":true,\"zerolinewidth\":2},\"scene\":{\"xaxis\":{\"backgroundcolor\":\"#E5ECF6\",\"gridcolor\":\"white\",\"linecolor\":\"white\",\"showbackground\":true,\"ticks\":\"\",\"zerolinecolor\":\"white\",\"gridwidth\":2},\"yaxis\":{\"backgroundcolor\":\"#E5ECF6\",\"gridcolor\":\"white\",\"linecolor\":\"white\",\"showbackground\":true,\"ticks\":\"\",\"zerolinecolor\":\"white\",\"gridwidth\":2},\"zaxis\":{\"backgroundcolor\":\"#E5ECF6\",\"gridcolor\":\"white\",\"linecolor\":\"white\",\"showbackground\":true,\"ticks\":\"\",\"zerolinecolor\":\"white\",\"gridwidth\":2}},\"shapedefaults\":{\"line\":{\"color\":\"#2a3f5f\"}},\"annotationdefaults\":{\"arrowcolor\":\"#2a3f5f\",\"arrowhead\":0,\"arrowwidth\":1},\"geo\":{\"bgcolor\":\"white\",\"landcolor\":\"#E5ECF6\",\"subunitcolor\":\"white\",\"showland\":true,\"showlakes\":true,\"lakecolor\":\"white\"},\"title\":{\"x\":0.05},\"mapbox\":{\"style\":\"light\"}}},\"xaxis\":{\"anchor\":\"y\",\"domain\":[0.0,1.0],\"title\":{\"text\":\"Date\"}},\"yaxis\":{\"anchor\":\"x\",\"domain\":[0.0,1.0],\"title\":{\"text\":\"Violations_Count\"}},\"legend\":{\"tracegroupgap\":0},\"margin\":{\"t\":60}},                        {\"responsive\": true}                    ).then(function(){\n",
              "                            \n",
              "var gd = document.getElementById('34045247-1f20-4fba-b44d-ae8893f270d1');\n",
              "var x = new MutationObserver(function (mutations, observer) {{\n",
              "        var display = window.getComputedStyle(gd).display;\n",
              "        if (!display || display === 'none') {{\n",
              "            console.log([gd, 'removed!']);\n",
              "            Plotly.purge(gd);\n",
              "            observer.disconnect();\n",
              "        }}\n",
              "}});\n",
              "\n",
              "// Listen for the removal of the full notebook cells\n",
              "var notebookContainer = gd.closest('#notebook-container');\n",
              "if (notebookContainer) {{\n",
              "    x.observe(notebookContainer, {childList: true});\n",
              "}}\n",
              "\n",
              "// Listen for the clearing of the current output cell\n",
              "var outputEl = gd.closest('.output');\n",
              "if (outputEl) {{\n",
              "    x.observe(outputEl, {childList: true});\n",
              "}}\n",
              "\n",
              "                        })                };                            </script>        </div>\n",
              "</body>\n",
              "</html>"
            ]
          },
          "metadata": {}
        }
      ]
    },
    {
      "cell_type": "markdown",
      "source": [
        "### Creating a Box Plot\n",
        "On this chart we want to check the outliers for each month.\n",
        "\n",
        "**Month with more outliers: October and June**\n",
        "\n",
        "**Month with the best median: November**"
      ],
      "metadata": {
        "id": "lwS7J2dL9z8Y"
      }
    },
    {
      "cell_type": "code",
      "source": [
        "# Boxplot\n",
        "px.box(\n",
        "    df_violations_per_day,\n",
        "    x='Month',\n",
        "    y='Violations_Count',\n",
        "    color='Month',\n",
        "    title='Tickets per Month Distribution'\n",
        ")"
      ],
      "metadata": {
        "colab": {
          "base_uri": "https://localhost:8080/",
          "height": 562
        },
        "id": "g0yOSBVHzgG0",
        "outputId": "9ef0d370-3981-43bc-d23e-b4a661ab4425"
      },
      "execution_count": 37,
      "outputs": [
        {
          "output_type": "display_data",
          "data": {
            "text/html": [
              "<html>\n",
              "<head><meta charset=\"utf-8\" /></head>\n",
              "<body>\n",
              "    <div>            <script src=\"https://cdnjs.cloudflare.com/ajax/libs/mathjax/2.7.5/MathJax.js?config=TeX-AMS-MML_SVG\"></script><script type=\"text/javascript\">if (window.MathJax && window.MathJax.Hub && window.MathJax.Hub.Config) {window.MathJax.Hub.Config({SVG: {font: \"STIX-Web\"}});}</script>                <script type=\"text/javascript\">window.PlotlyConfig = {MathJaxConfig: 'local'};</script>\n",
              "        <script src=\"https://cdn.plot.ly/plotly-2.18.2.min.js\"></script>                <div id=\"1d0050c0-ce3d-41ad-8ab4-0d694565c772\" class=\"plotly-graph-div\" style=\"height:525px; width:100%;\"></div>            <script type=\"text/javascript\">                                    window.PLOTLYENV=window.PLOTLYENV || {};                                    if (document.getElementById(\"1d0050c0-ce3d-41ad-8ab4-0d694565c772\")) {                    Plotly.newPlot(                        \"1d0050c0-ce3d-41ad-8ab4-0d694565c772\",                        [{\"alignmentgroup\":\"True\",\"hovertemplate\":\"Month=%{x}<br>Violations_Count=%{y}<extra></extra>\",\"legendgroup\":\"1\",\"marker\":{\"color\":\"#636efa\"},\"name\":\"1\",\"notched\":false,\"offsetgroup\":\"1\",\"orientation\":\"v\",\"showlegend\":true,\"x\":[1,1,1,1,1,1,1,1,1,1,1,1,1,1,1,1,1,1,1,1,1,1,1,1,1,1,1,1,1,1,1],\"x0\":\" \",\"xaxis\":\"x\",\"y\":[8533,13146,12012,11248,11159,10167,11150,8321,8788,8520,8008,11553,9564,10799,8761,9670,10299,11576,11487,11246,14586,10223,9998,10691,10912,11103,12401,13628,11067,14135,12187],\"y0\":\" \",\"yaxis\":\"y\",\"type\":\"box\"},{\"alignmentgroup\":\"True\",\"hovertemplate\":\"Month=%{x}<br>Violations_Count=%{y}<extra></extra>\",\"legendgroup\":\"2\",\"marker\":{\"color\":\"#EF553B\"},\"name\":\"2\",\"notched\":false,\"offsetgroup\":\"2\",\"orientation\":\"v\",\"showlegend\":true,\"x\":[2,2,2,2,2,2,2,2,2,2,2,2,2,2,2,2,2,2,2,2,2,2,2,2,2,2,2,2],\"x0\":\" \",\"xaxis\":\"x\",\"y\":[11218,11569,13506,12327,11417,9994,11294,14704,13394,12463,14952,10230,14511,13735,13051,13149,12544,13820,10624,12048,11664,12366,15191,12739,21477,21715,14993,15133],\"y0\":\" \",\"yaxis\":\"y\",\"type\":\"box\"},{\"alignmentgroup\":\"True\",\"hovertemplate\":\"Month=%{x}<br>Violations_Count=%{y}<extra></extra>\",\"legendgroup\":\"3\",\"marker\":{\"color\":\"#00cc96\"},\"name\":\"3\",\"notched\":false,\"offsetgroup\":\"3\",\"orientation\":\"v\",\"showlegend\":true,\"x\":[3,3,3,3,3,3,3,3,3,3,3,3,3,3,3,3,3,3,3,3,3,3,3,3,3,3,3,3,3,3,3],\"x0\":\" \",\"xaxis\":\"x\",\"y\":[18936,18655,12157,12275,9503,14031,11579,11271,10105,11899,11003,10979,11574,12563,12339,13798,12569,13343,11273,10645,12221,13081,14022,13757,13008,11748,11576,14342,12214,12984,13211],\"y0\":\" \",\"yaxis\":\"y\",\"type\":\"box\"},{\"alignmentgroup\":\"True\",\"hovertemplate\":\"Month=%{x}<br>Violations_Count=%{y}<extra></extra>\",\"legendgroup\":\"4\",\"marker\":{\"color\":\"#ab63fa\"},\"name\":\"4\",\"notched\":false,\"offsetgroup\":\"4\",\"orientation\":\"v\",\"showlegend\":true,\"x\":[4,4,4,4,4,4,4,4,4,4,4,4,4,4,4,4,4,4,4,4,4,4,4,4,4,4,4,4,4,4],\"x0\":\" \",\"xaxis\":\"x\",\"y\":[11691,10583,12795,12619,13237,14175,12679,13456,11193,11253,11455,13132,12741,18161,17162,12422,16867,11647,10864,12624,19261,14933,14090,17675,14224,13316,14058,12619,15075,12525],\"y0\":\" \",\"yaxis\":\"y\",\"type\":\"box\"},{\"alignmentgroup\":\"True\",\"hovertemplate\":\"Month=%{x}<br>Violations_Count=%{y}<extra></extra>\",\"legendgroup\":\"5\",\"marker\":{\"color\":\"#FFA15A\"},\"name\":\"5\",\"notched\":false,\"offsetgroup\":\"5\",\"orientation\":\"v\",\"showlegend\":true,\"x\":[5,5,5,5,5,5,5,5,5,5,5,5,5,5,5,5,5,5,5,5,5,5,5,5,5,5,5,5,5,5,5],\"x0\":\" \",\"xaxis\":\"x\",\"y\":[12489,14937,14668,14144,16248,16765,9140,8143,12599,11647,10678,15285,9483,8253,6774,10567,10468,8511,8635,9827,7547,6569,13820,12184,13045,11643,13056,11423,10876,11539,10711],\"y0\":\" \",\"yaxis\":\"y\",\"type\":\"box\"},{\"alignmentgroup\":\"True\",\"hovertemplate\":\"Month=%{x}<br>Violations_Count=%{y}<extra></extra>\",\"legendgroup\":\"6\",\"marker\":{\"color\":\"#19d3f3\"},\"name\":\"6\",\"notched\":false,\"offsetgroup\":\"6\",\"orientation\":\"v\",\"showlegend\":true,\"x\":[6,6,6,6,6,6,6,6,6,6,6,6,6,6,6,6,6,6,6,6,6,6,6,6,6,6,6,6,6,6],\"x0\":\" \",\"xaxis\":\"x\",\"y\":[8452,11073,11662,10500,10731,11752,10086,12071,11683,13802,10849,10253,15085,10638,14153,14358,7357,7007,13663,9562,9302,9816,10199,10286,10183,10637,10101,10080,9109,10574],\"y0\":\" \",\"yaxis\":\"y\",\"type\":\"box\"},{\"alignmentgroup\":\"True\",\"hovertemplate\":\"Month=%{x}<br>Violations_Count=%{y}<extra></extra>\",\"legendgroup\":\"7\",\"marker\":{\"color\":\"#FF6692\"},\"name\":\"7\",\"notched\":false,\"offsetgroup\":\"7\",\"orientation\":\"v\",\"showlegend\":true,\"x\":[7,7,7,7,7,7,7,7,7,7,7,7,7,7,7,7,7,7,7,7,7,7,7,7,7,7,7,7,7,7,7],\"x0\":\" \",\"xaxis\":\"x\",\"y\":[9472,10572,10208,10737,9076,9737,9169,10815,9123,10856,11660,11146,9812,10964,10770,8404,9872,10130,10418,10036,9643,11634,8985,9064,9948,8809,9142,10116,10082,8877,8969],\"y0\":\" \",\"yaxis\":\"y\",\"type\":\"box\"},{\"alignmentgroup\":\"True\",\"hovertemplate\":\"Month=%{x}<br>Violations_Count=%{y}<extra></extra>\",\"legendgroup\":\"8\",\"marker\":{\"color\":\"#B6E880\"},\"name\":\"8\",\"notched\":false,\"offsetgroup\":\"8\",\"orientation\":\"v\",\"showlegend\":true,\"x\":[8,8,8,8,8,8,8,8,8,8,8,8,8,8,8,8,8,8,8,8,8,8,8,8,8,8,8,8,8,8,8],\"x0\":\" \",\"xaxis\":\"x\",\"y\":[9521,9795,9525,9656,10548,8047,8000,10647,8930,10525,10429,12014,8195,8069,11584,11570,10661,11117,9491,8806,9351,12918,10597,11348,11578,12334,9884,10883,10346,10334,11420],\"y0\":\" \",\"yaxis\":\"y\",\"type\":\"box\"},{\"alignmentgroup\":\"True\",\"hovertemplate\":\"Month=%{x}<br>Violations_Count=%{y}<extra></extra>\",\"legendgroup\":\"9\",\"marker\":{\"color\":\"#FF97FF\"},\"name\":\"9\",\"notched\":false,\"offsetgroup\":\"9\",\"orientation\":\"v\",\"showlegend\":true,\"x\":[9,9,9,9,9,9,9,9,9,9,9,9,9,9,9,9,9,9,9,9,9,9,9,9,9,9,9,9,9,9],\"x0\":\" \",\"xaxis\":\"x\",\"y\":[10562,10531,9730,10891,13580,10106,10884,10486,12517,9645,10381,10809,10183,8544,11114,11737,10091,10081,11190,12571,12108,10784,12943,10501,9522,11612,9074,10532,11880,13979],\"y0\":\" \",\"yaxis\":\"y\",\"type\":\"box\"},{\"alignmentgroup\":\"True\",\"hovertemplate\":\"Month=%{x}<br>Violations_Count=%{y}<extra></extra>\",\"legendgroup\":\"10\",\"marker\":{\"color\":\"#FECB52\"},\"name\":\"10\",\"notched\":false,\"offsetgroup\":\"10\",\"orientation\":\"v\",\"showlegend\":true,\"x\":[10,10,10,10,10,10,10,10,10,10,10,10,10,10,10,10,10,10,10,10,10,10,10,10,10,10,10,10,10,10,10],\"x0\":\" \",\"xaxis\":\"x\",\"y\":[14241,15781,10458,9766,10257,9532,11802,10645,9507,9646,11046,11134,10946,11550,9801,10653,12259,10363,11629,10526,11617,9884,8445,11659,9902,10925,10096,19007,18238,14719,7005],\"y0\":\" \",\"yaxis\":\"y\",\"type\":\"box\"},{\"alignmentgroup\":\"True\",\"hovertemplate\":\"Month=%{x}<br>Violations_Count=%{y}<extra></extra>\",\"legendgroup\":\"11\",\"marker\":{\"color\":\"#636efa\"},\"name\":\"11\",\"notched\":false,\"offsetgroup\":\"11\",\"orientation\":\"v\",\"showlegend\":true,\"x\":[11,11,11,11,11,11,11,11,11,11,11,11,11,11,11,11,11,11,11,11,11,11,11,11,11,11,11,11,11,11],\"x0\":\" \",\"xaxis\":\"x\",\"y\":[5853,9888,6831,7737,6605,9804,10581,9188,10851,9397,13189,14878,12679,12027,16559,10511,9556,11007,7979,7886,5382,7665,5472,4033,9001,7948,7967,8423,8579,8549],\"y0\":\" \",\"yaxis\":\"y\",\"type\":\"box\"},{\"alignmentgroup\":\"True\",\"hovertemplate\":\"Month=%{x}<br>Violations_Count=%{y}<extra></extra>\",\"legendgroup\":\"12\",\"marker\":{\"color\":\"#EF553B\"},\"name\":\"12\",\"notched\":false,\"offsetgroup\":\"12\",\"orientation\":\"v\",\"showlegend\":true,\"x\":[12,12,12,12,12,12,12,12,12,12,12,12,12,12,12,12,12,12,12,12,12,12,12,12,12,12,12,12,12,12,12],\"x0\":\" \",\"xaxis\":\"x\",\"y\":[9001,7815,8858,8973,9824,10717,10960,11293,10910,9656,10233,11251,8561,11701,11957,12950,15465,12248,10361,12476,12679,11912,16523,13654,11021,15214,12077,11332,12226,15801,13216],\"y0\":\" \",\"yaxis\":\"y\",\"type\":\"box\"}],                        {\"template\":{\"data\":{\"histogram2dcontour\":[{\"type\":\"histogram2dcontour\",\"colorbar\":{\"outlinewidth\":0,\"ticks\":\"\"},\"colorscale\":[[0.0,\"#0d0887\"],[0.1111111111111111,\"#46039f\"],[0.2222222222222222,\"#7201a8\"],[0.3333333333333333,\"#9c179e\"],[0.4444444444444444,\"#bd3786\"],[0.5555555555555556,\"#d8576b\"],[0.6666666666666666,\"#ed7953\"],[0.7777777777777778,\"#fb9f3a\"],[0.8888888888888888,\"#fdca26\"],[1.0,\"#f0f921\"]]}],\"choropleth\":[{\"type\":\"choropleth\",\"colorbar\":{\"outlinewidth\":0,\"ticks\":\"\"}}],\"histogram2d\":[{\"type\":\"histogram2d\",\"colorbar\":{\"outlinewidth\":0,\"ticks\":\"\"},\"colorscale\":[[0.0,\"#0d0887\"],[0.1111111111111111,\"#46039f\"],[0.2222222222222222,\"#7201a8\"],[0.3333333333333333,\"#9c179e\"],[0.4444444444444444,\"#bd3786\"],[0.5555555555555556,\"#d8576b\"],[0.6666666666666666,\"#ed7953\"],[0.7777777777777778,\"#fb9f3a\"],[0.8888888888888888,\"#fdca26\"],[1.0,\"#f0f921\"]]}],\"heatmap\":[{\"type\":\"heatmap\",\"colorbar\":{\"outlinewidth\":0,\"ticks\":\"\"},\"colorscale\":[[0.0,\"#0d0887\"],[0.1111111111111111,\"#46039f\"],[0.2222222222222222,\"#7201a8\"],[0.3333333333333333,\"#9c179e\"],[0.4444444444444444,\"#bd3786\"],[0.5555555555555556,\"#d8576b\"],[0.6666666666666666,\"#ed7953\"],[0.7777777777777778,\"#fb9f3a\"],[0.8888888888888888,\"#fdca26\"],[1.0,\"#f0f921\"]]}],\"heatmapgl\":[{\"type\":\"heatmapgl\",\"colorbar\":{\"outlinewidth\":0,\"ticks\":\"\"},\"colorscale\":[[0.0,\"#0d0887\"],[0.1111111111111111,\"#46039f\"],[0.2222222222222222,\"#7201a8\"],[0.3333333333333333,\"#9c179e\"],[0.4444444444444444,\"#bd3786\"],[0.5555555555555556,\"#d8576b\"],[0.6666666666666666,\"#ed7953\"],[0.7777777777777778,\"#fb9f3a\"],[0.8888888888888888,\"#fdca26\"],[1.0,\"#f0f921\"]]}],\"contourcarpet\":[{\"type\":\"contourcarpet\",\"colorbar\":{\"outlinewidth\":0,\"ticks\":\"\"}}],\"contour\":[{\"type\":\"contour\",\"colorbar\":{\"outlinewidth\":0,\"ticks\":\"\"},\"colorscale\":[[0.0,\"#0d0887\"],[0.1111111111111111,\"#46039f\"],[0.2222222222222222,\"#7201a8\"],[0.3333333333333333,\"#9c179e\"],[0.4444444444444444,\"#bd3786\"],[0.5555555555555556,\"#d8576b\"],[0.6666666666666666,\"#ed7953\"],[0.7777777777777778,\"#fb9f3a\"],[0.8888888888888888,\"#fdca26\"],[1.0,\"#f0f921\"]]}],\"surface\":[{\"type\":\"surface\",\"colorbar\":{\"outlinewidth\":0,\"ticks\":\"\"},\"colorscale\":[[0.0,\"#0d0887\"],[0.1111111111111111,\"#46039f\"],[0.2222222222222222,\"#7201a8\"],[0.3333333333333333,\"#9c179e\"],[0.4444444444444444,\"#bd3786\"],[0.5555555555555556,\"#d8576b\"],[0.6666666666666666,\"#ed7953\"],[0.7777777777777778,\"#fb9f3a\"],[0.8888888888888888,\"#fdca26\"],[1.0,\"#f0f921\"]]}],\"mesh3d\":[{\"type\":\"mesh3d\",\"colorbar\":{\"outlinewidth\":0,\"ticks\":\"\"}}],\"scatter\":[{\"fillpattern\":{\"fillmode\":\"overlay\",\"size\":10,\"solidity\":0.2},\"type\":\"scatter\"}],\"parcoords\":[{\"type\":\"parcoords\",\"line\":{\"colorbar\":{\"outlinewidth\":0,\"ticks\":\"\"}}}],\"scatterpolargl\":[{\"type\":\"scatterpolargl\",\"marker\":{\"colorbar\":{\"outlinewidth\":0,\"ticks\":\"\"}}}],\"bar\":[{\"error_x\":{\"color\":\"#2a3f5f\"},\"error_y\":{\"color\":\"#2a3f5f\"},\"marker\":{\"line\":{\"color\":\"#E5ECF6\",\"width\":0.5},\"pattern\":{\"fillmode\":\"overlay\",\"size\":10,\"solidity\":0.2}},\"type\":\"bar\"}],\"scattergeo\":[{\"type\":\"scattergeo\",\"marker\":{\"colorbar\":{\"outlinewidth\":0,\"ticks\":\"\"}}}],\"scatterpolar\":[{\"type\":\"scatterpolar\",\"marker\":{\"colorbar\":{\"outlinewidth\":0,\"ticks\":\"\"}}}],\"histogram\":[{\"marker\":{\"pattern\":{\"fillmode\":\"overlay\",\"size\":10,\"solidity\":0.2}},\"type\":\"histogram\"}],\"scattergl\":[{\"type\":\"scattergl\",\"marker\":{\"colorbar\":{\"outlinewidth\":0,\"ticks\":\"\"}}}],\"scatter3d\":[{\"type\":\"scatter3d\",\"line\":{\"colorbar\":{\"outlinewidth\":0,\"ticks\":\"\"}},\"marker\":{\"colorbar\":{\"outlinewidth\":0,\"ticks\":\"\"}}}],\"scattermapbox\":[{\"type\":\"scattermapbox\",\"marker\":{\"colorbar\":{\"outlinewidth\":0,\"ticks\":\"\"}}}],\"scatterternary\":[{\"type\":\"scatterternary\",\"marker\":{\"colorbar\":{\"outlinewidth\":0,\"ticks\":\"\"}}}],\"scattercarpet\":[{\"type\":\"scattercarpet\",\"marker\":{\"colorbar\":{\"outlinewidth\":0,\"ticks\":\"\"}}}],\"carpet\":[{\"aaxis\":{\"endlinecolor\":\"#2a3f5f\",\"gridcolor\":\"white\",\"linecolor\":\"white\",\"minorgridcolor\":\"white\",\"startlinecolor\":\"#2a3f5f\"},\"baxis\":{\"endlinecolor\":\"#2a3f5f\",\"gridcolor\":\"white\",\"linecolor\":\"white\",\"minorgridcolor\":\"white\",\"startlinecolor\":\"#2a3f5f\"},\"type\":\"carpet\"}],\"table\":[{\"cells\":{\"fill\":{\"color\":\"#EBF0F8\"},\"line\":{\"color\":\"white\"}},\"header\":{\"fill\":{\"color\":\"#C8D4E3\"},\"line\":{\"color\":\"white\"}},\"type\":\"table\"}],\"barpolar\":[{\"marker\":{\"line\":{\"color\":\"#E5ECF6\",\"width\":0.5},\"pattern\":{\"fillmode\":\"overlay\",\"size\":10,\"solidity\":0.2}},\"type\":\"barpolar\"}],\"pie\":[{\"automargin\":true,\"type\":\"pie\"}]},\"layout\":{\"autotypenumbers\":\"strict\",\"colorway\":[\"#636efa\",\"#EF553B\",\"#00cc96\",\"#ab63fa\",\"#FFA15A\",\"#19d3f3\",\"#FF6692\",\"#B6E880\",\"#FF97FF\",\"#FECB52\"],\"font\":{\"color\":\"#2a3f5f\"},\"hovermode\":\"closest\",\"hoverlabel\":{\"align\":\"left\"},\"paper_bgcolor\":\"white\",\"plot_bgcolor\":\"#E5ECF6\",\"polar\":{\"bgcolor\":\"#E5ECF6\",\"angularaxis\":{\"gridcolor\":\"white\",\"linecolor\":\"white\",\"ticks\":\"\"},\"radialaxis\":{\"gridcolor\":\"white\",\"linecolor\":\"white\",\"ticks\":\"\"}},\"ternary\":{\"bgcolor\":\"#E5ECF6\",\"aaxis\":{\"gridcolor\":\"white\",\"linecolor\":\"white\",\"ticks\":\"\"},\"baxis\":{\"gridcolor\":\"white\",\"linecolor\":\"white\",\"ticks\":\"\"},\"caxis\":{\"gridcolor\":\"white\",\"linecolor\":\"white\",\"ticks\":\"\"}},\"coloraxis\":{\"colorbar\":{\"outlinewidth\":0,\"ticks\":\"\"}},\"colorscale\":{\"sequential\":[[0.0,\"#0d0887\"],[0.1111111111111111,\"#46039f\"],[0.2222222222222222,\"#7201a8\"],[0.3333333333333333,\"#9c179e\"],[0.4444444444444444,\"#bd3786\"],[0.5555555555555556,\"#d8576b\"],[0.6666666666666666,\"#ed7953\"],[0.7777777777777778,\"#fb9f3a\"],[0.8888888888888888,\"#fdca26\"],[1.0,\"#f0f921\"]],\"sequentialminus\":[[0.0,\"#0d0887\"],[0.1111111111111111,\"#46039f\"],[0.2222222222222222,\"#7201a8\"],[0.3333333333333333,\"#9c179e\"],[0.4444444444444444,\"#bd3786\"],[0.5555555555555556,\"#d8576b\"],[0.6666666666666666,\"#ed7953\"],[0.7777777777777778,\"#fb9f3a\"],[0.8888888888888888,\"#fdca26\"],[1.0,\"#f0f921\"]],\"diverging\":[[0,\"#8e0152\"],[0.1,\"#c51b7d\"],[0.2,\"#de77ae\"],[0.3,\"#f1b6da\"],[0.4,\"#fde0ef\"],[0.5,\"#f7f7f7\"],[0.6,\"#e6f5d0\"],[0.7,\"#b8e186\"],[0.8,\"#7fbc41\"],[0.9,\"#4d9221\"],[1,\"#276419\"]]},\"xaxis\":{\"gridcolor\":\"white\",\"linecolor\":\"white\",\"ticks\":\"\",\"title\":{\"standoff\":15},\"zerolinecolor\":\"white\",\"automargin\":true,\"zerolinewidth\":2},\"yaxis\":{\"gridcolor\":\"white\",\"linecolor\":\"white\",\"ticks\":\"\",\"title\":{\"standoff\":15},\"zerolinecolor\":\"white\",\"automargin\":true,\"zerolinewidth\":2},\"scene\":{\"xaxis\":{\"backgroundcolor\":\"#E5ECF6\",\"gridcolor\":\"white\",\"linecolor\":\"white\",\"showbackground\":true,\"ticks\":\"\",\"zerolinecolor\":\"white\",\"gridwidth\":2},\"yaxis\":{\"backgroundcolor\":\"#E5ECF6\",\"gridcolor\":\"white\",\"linecolor\":\"white\",\"showbackground\":true,\"ticks\":\"\",\"zerolinecolor\":\"white\",\"gridwidth\":2},\"zaxis\":{\"backgroundcolor\":\"#E5ECF6\",\"gridcolor\":\"white\",\"linecolor\":\"white\",\"showbackground\":true,\"ticks\":\"\",\"zerolinecolor\":\"white\",\"gridwidth\":2}},\"shapedefaults\":{\"line\":{\"color\":\"#2a3f5f\"}},\"annotationdefaults\":{\"arrowcolor\":\"#2a3f5f\",\"arrowhead\":0,\"arrowwidth\":1},\"geo\":{\"bgcolor\":\"white\",\"landcolor\":\"#E5ECF6\",\"subunitcolor\":\"white\",\"showland\":true,\"showlakes\":true,\"lakecolor\":\"white\"},\"title\":{\"x\":0.05},\"mapbox\":{\"style\":\"light\"}}},\"xaxis\":{\"anchor\":\"y\",\"domain\":[0.0,1.0],\"title\":{\"text\":\"Month\"},\"categoryorder\":\"array\",\"categoryarray\":[1,2,3,4,5,6,7,8,9,10,11,12]},\"yaxis\":{\"anchor\":\"x\",\"domain\":[0.0,1.0],\"title\":{\"text\":\"Violations_Count\"}},\"legend\":{\"title\":{\"text\":\"Month\"},\"tracegroupgap\":0},\"title\":{\"text\":\"Tickets per Month Distribution\"},\"boxmode\":\"overlay\"},                        {\"responsive\": true}                    ).then(function(){\n",
              "                            \n",
              "var gd = document.getElementById('1d0050c0-ce3d-41ad-8ab4-0d694565c772');\n",
              "var x = new MutationObserver(function (mutations, observer) {{\n",
              "        var display = window.getComputedStyle(gd).display;\n",
              "        if (!display || display === 'none') {{\n",
              "            console.log([gd, 'removed!']);\n",
              "            Plotly.purge(gd);\n",
              "            observer.disconnect();\n",
              "        }}\n",
              "}});\n",
              "\n",
              "// Listen for the removal of the full notebook cells\n",
              "var notebookContainer = gd.closest('#notebook-container');\n",
              "if (notebookContainer) {{\n",
              "    x.observe(notebookContainer, {childList: true});\n",
              "}}\n",
              "\n",
              "// Listen for the clearing of the current output cell\n",
              "var outputEl = gd.closest('.output');\n",
              "if (outputEl) {{\n",
              "    x.observe(outputEl, {childList: true});\n",
              "}}\n",
              "\n",
              "                        })                };                            </script>        </div>\n",
              "</body>\n",
              "</html>"
            ]
          },
          "metadata": {}
        }
      ]
    },
    {
      "cell_type": "markdown",
      "source": [
        "### Creating a Grid System\n",
        "Just for earning pourposes we will create a grid system, we will create two charts date x violations count and date x moving avarage"
      ],
      "metadata": {
        "id": "xcQ1ZI6V-afr"
      }
    },
    {
      "cell_type": "code",
      "source": [
        "# Grid System\n",
        "\n",
        "# Grid\n",
        "Grid = make_subplots( rows=1, cols= 2 )\n",
        "\n",
        "# Graph 1\n",
        "Grid.add_trace(\n",
        "    go.Scatter(\n",
        "        x=df_violations_per_day['Date'],\n",
        "        y=df_violations_per_day['Violations_Count'],\n",
        "        mode='lines',\n",
        "        name='Violations Count'\n",
        "    ),\n",
        "    row=1, col=1\n",
        ")\n",
        "\n",
        "# Graph 2\n",
        "Grid.add_trace(\n",
        "    go.Scatter(\n",
        "        x=df_violations_per_day['Date'],\n",
        "        y=df_violations_per_day['moving_avarage'],\n",
        "        mode='lines',\n",
        "        name='Moving Avarage'\n",
        "    ),\n",
        "    row=1, col=2\n",
        ")\n",
        "\n",
        "# Layout Adjust\n",
        "Grid.update_layout(\n",
        "\n",
        "    # title\n",
        "    title='Traffic Violation Analyses per Day - Grid System',\n",
        "\n",
        "    # legend\n",
        "    showlegend=True,\n",
        "\n",
        "    legend=dict(\n",
        "        orientation='h',\n",
        "        yanchor='bottom',\n",
        "        y=1.02,\n",
        "        xanchor='right',\n",
        "        x=1\n",
        "    )\n",
        ")\n",
        "\n",
        "Grid"
      ],
      "metadata": {
        "colab": {
          "base_uri": "https://localhost:8080/",
          "height": 562
        },
        "id": "aQ9kfI7ixIGg",
        "outputId": "4da7433d-66e2-400a-cfd1-1497d8e99b41"
      },
      "execution_count": 38,
      "outputs": [
        {
          "output_type": "display_data",
          "data": {
            "text/html": [
              "<html>\n",
              "<head><meta charset=\"utf-8\" /></head>\n",
              "<body>\n",
              "    <div>            <script src=\"https://cdnjs.cloudflare.com/ajax/libs/mathjax/2.7.5/MathJax.js?config=TeX-AMS-MML_SVG\"></script><script type=\"text/javascript\">if (window.MathJax && window.MathJax.Hub && window.MathJax.Hub.Config) {window.MathJax.Hub.Config({SVG: {font: \"STIX-Web\"}});}</script>                <script type=\"text/javascript\">window.PlotlyConfig = {MathJaxConfig: 'local'};</script>\n",
              "        <script src=\"https://cdn.plot.ly/plotly-2.18.2.min.js\"></script>                <div id=\"cb5ee0f1-7e48-4f0d-9a8f-f3ea9bcbb47e\" class=\"plotly-graph-div\" style=\"height:525px; width:100%;\"></div>            <script type=\"text/javascript\">                                    window.PLOTLYENV=window.PLOTLYENV || {};                                    if (document.getElementById(\"cb5ee0f1-7e48-4f0d-9a8f-f3ea9bcbb47e\")) {                    Plotly.newPlot(                        \"cb5ee0f1-7e48-4f0d-9a8f-f3ea9bcbb47e\",                        [{\"mode\":\"lines\",\"name\":\"Violations Count\",\"x\":[\"2022-01-01\",\"2022-01-02\",\"2022-01-03\",\"2022-01-04\",\"2022-01-05\",\"2022-01-06\",\"2022-01-07\",\"2022-01-08\",\"2022-01-09\",\"2022-01-10\",\"2022-01-11\",\"2022-01-12\",\"2022-01-13\",\"2022-01-14\",\"2022-01-15\",\"2022-01-16\",\"2022-01-17\",\"2022-01-18\",\"2022-01-19\",\"2022-01-20\",\"2022-01-21\",\"2022-01-22\",\"2022-01-23\",\"2022-01-24\",\"2022-01-25\",\"2022-01-26\",\"2022-01-27\",\"2022-01-28\",\"2022-01-29\",\"2022-01-30\",\"2022-01-31\",\"2022-02-01\",\"2022-02-02\",\"2022-02-03\",\"2022-02-04\",\"2022-02-05\",\"2022-02-06\",\"2022-02-07\",\"2022-02-08\",\"2022-02-09\",\"2022-02-10\",\"2022-02-11\",\"2022-02-12\",\"2022-02-13\",\"2022-02-14\",\"2022-02-15\",\"2022-02-16\",\"2022-02-17\",\"2022-02-18\",\"2022-02-19\",\"2022-02-20\",\"2022-02-21\",\"2022-02-22\",\"2022-02-23\",\"2022-02-24\",\"2022-02-25\",\"2022-02-26\",\"2022-02-27\",\"2022-02-28\",\"2022-03-01\",\"2022-03-02\",\"2022-03-03\",\"2022-03-04\",\"2022-03-05\",\"2022-03-06\",\"2022-03-07\",\"2022-03-08\",\"2022-03-09\",\"2022-03-10\",\"2022-03-11\",\"2022-03-12\",\"2022-03-13\",\"2022-03-14\",\"2022-03-15\",\"2022-03-16\",\"2022-03-17\",\"2022-03-18\",\"2022-03-19\",\"2022-03-20\",\"2022-03-21\",\"2022-03-22\",\"2022-03-23\",\"2022-03-24\",\"2022-03-25\",\"2022-03-26\",\"2022-03-27\",\"2022-03-28\",\"2022-03-29\",\"2022-03-30\",\"2022-03-31\",\"2022-04-01\",\"2022-04-02\",\"2022-04-03\",\"2022-04-04\",\"2022-04-05\",\"2022-04-06\",\"2022-04-07\",\"2022-04-08\",\"2022-04-09\",\"2022-04-10\",\"2022-04-11\",\"2022-04-12\",\"2022-04-13\",\"2022-04-14\",\"2022-04-15\",\"2022-04-16\",\"2022-04-17\",\"2022-04-18\",\"2022-04-19\",\"2022-04-20\",\"2022-04-21\",\"2022-04-22\",\"2022-04-23\",\"2022-04-24\",\"2022-04-25\",\"2022-04-26\",\"2022-04-27\",\"2022-04-28\",\"2022-04-29\",\"2022-04-30\",\"2022-05-01\",\"2022-05-02\",\"2022-05-03\",\"2022-05-04\",\"2022-05-05\",\"2022-05-06\",\"2022-05-07\",\"2022-05-08\",\"2022-05-09\",\"2022-05-10\",\"2022-05-11\",\"2022-05-12\",\"2022-05-13\",\"2022-05-14\",\"2022-05-15\",\"2022-05-16\",\"2022-05-17\",\"2022-05-18\",\"2022-05-19\",\"2022-05-20\",\"2022-05-21\",\"2022-05-22\",\"2022-05-23\",\"2022-05-24\",\"2022-05-25\",\"2022-05-26\",\"2022-05-27\",\"2022-05-28\",\"2022-05-29\",\"2022-05-30\",\"2022-05-31\",\"2022-06-01\",\"2022-06-02\",\"2022-06-03\",\"2022-06-04\",\"2022-06-05\",\"2022-06-06\",\"2022-06-07\",\"2022-06-08\",\"2022-06-09\",\"2022-06-10\",\"2022-06-11\",\"2022-06-12\",\"2022-06-13\",\"2022-06-14\",\"2022-06-15\",\"2022-06-16\",\"2022-06-17\",\"2022-06-18\",\"2022-06-19\",\"2022-06-20\",\"2022-06-21\",\"2022-06-22\",\"2022-06-23\",\"2022-06-24\",\"2022-06-25\",\"2022-06-26\",\"2022-06-27\",\"2022-06-28\",\"2022-06-29\",\"2022-06-30\",\"2022-07-01\",\"2022-07-02\",\"2022-07-03\",\"2022-07-04\",\"2022-07-05\",\"2022-07-06\",\"2022-07-07\",\"2022-07-08\",\"2022-07-09\",\"2022-07-10\",\"2022-07-11\",\"2022-07-12\",\"2022-07-13\",\"2022-07-14\",\"2022-07-15\",\"2022-07-16\",\"2022-07-17\",\"2022-07-18\",\"2022-07-19\",\"2022-07-20\",\"2022-07-21\",\"2022-07-22\",\"2022-07-23\",\"2022-07-24\",\"2022-07-25\",\"2022-07-26\",\"2022-07-27\",\"2022-07-28\",\"2022-07-29\",\"2022-07-30\",\"2022-07-31\",\"2022-08-01\",\"2022-08-02\",\"2022-08-03\",\"2022-08-04\",\"2022-08-05\",\"2022-08-06\",\"2022-08-07\",\"2022-08-08\",\"2022-08-09\",\"2022-08-10\",\"2022-08-11\",\"2022-08-12\",\"2022-08-13\",\"2022-08-14\",\"2022-08-15\",\"2022-08-16\",\"2022-08-17\",\"2022-08-18\",\"2022-08-19\",\"2022-08-20\",\"2022-08-21\",\"2022-08-22\",\"2022-08-23\",\"2022-08-24\",\"2022-08-25\",\"2022-08-26\",\"2022-08-27\",\"2022-08-28\",\"2022-08-29\",\"2022-08-30\",\"2022-08-31\",\"2022-09-01\",\"2022-09-02\",\"2022-09-03\",\"2022-09-04\",\"2022-09-05\",\"2022-09-06\",\"2022-09-07\",\"2022-09-08\",\"2022-09-09\",\"2022-09-10\",\"2022-09-11\",\"2022-09-12\",\"2022-09-13\",\"2022-09-14\",\"2022-09-15\",\"2022-09-16\",\"2022-09-17\",\"2022-09-18\",\"2022-09-19\",\"2022-09-20\",\"2022-09-21\",\"2022-09-22\",\"2022-09-23\",\"2022-09-24\",\"2022-09-25\",\"2022-09-26\",\"2022-09-27\",\"2022-09-28\",\"2022-09-29\",\"2022-09-30\",\"2022-10-01\",\"2022-10-02\",\"2022-10-03\",\"2022-10-04\",\"2022-10-05\",\"2022-10-06\",\"2022-10-07\",\"2022-10-08\",\"2022-10-09\",\"2022-10-10\",\"2022-10-11\",\"2022-10-12\",\"2022-10-13\",\"2022-10-14\",\"2022-10-15\",\"2022-10-16\",\"2022-10-17\",\"2022-10-18\",\"2022-10-19\",\"2022-10-20\",\"2022-10-21\",\"2022-10-22\",\"2022-10-23\",\"2022-10-24\",\"2022-10-25\",\"2022-10-26\",\"2022-10-27\",\"2022-10-28\",\"2022-10-29\",\"2022-10-30\",\"2022-10-31\",\"2022-11-01\",\"2022-11-02\",\"2022-11-03\",\"2022-11-04\",\"2022-11-05\",\"2022-11-06\",\"2022-11-07\",\"2022-11-08\",\"2022-11-09\",\"2022-11-10\",\"2022-11-11\",\"2022-11-12\",\"2022-11-13\",\"2022-11-14\",\"2022-11-15\",\"2022-11-16\",\"2022-11-17\",\"2022-11-18\",\"2022-11-19\",\"2022-11-20\",\"2022-11-21\",\"2022-11-22\",\"2022-11-23\",\"2022-11-24\",\"2022-11-25\",\"2022-11-26\",\"2022-11-27\",\"2022-11-28\",\"2022-11-29\",\"2022-11-30\",\"2022-12-01\",\"2022-12-02\",\"2022-12-03\",\"2022-12-04\",\"2022-12-05\",\"2022-12-06\",\"2022-12-07\",\"2022-12-08\",\"2022-12-09\",\"2022-12-10\",\"2022-12-11\",\"2022-12-12\",\"2022-12-13\",\"2022-12-14\",\"2022-12-15\",\"2022-12-16\",\"2022-12-17\",\"2022-12-18\",\"2022-12-19\",\"2022-12-20\",\"2022-12-21\",\"2022-12-22\",\"2022-12-23\",\"2022-12-24\",\"2022-12-25\",\"2022-12-26\",\"2022-12-27\",\"2022-12-28\",\"2022-12-29\",\"2022-12-30\",\"2022-12-31\"],\"y\":[8533,13146,12012,11248,11159,10167,11150,8321,8788,8520,8008,11553,9564,10799,8761,9670,10299,11576,11487,11246,14586,10223,9998,10691,10912,11103,12401,13628,11067,14135,12187,11218,11569,13506,12327,11417,9994,11294,14704,13394,12463,14952,10230,14511,13735,13051,13149,12544,13820,10624,12048,11664,12366,15191,12739,21477,21715,14993,15133,18936,18655,12157,12275,9503,14031,11579,11271,10105,11899,11003,10979,11574,12563,12339,13798,12569,13343,11273,10645,12221,13081,14022,13757,13008,11748,11576,14342,12214,12984,13211,11691,10583,12795,12619,13237,14175,12679,13456,11193,11253,11455,13132,12741,18161,17162,12422,16867,11647,10864,12624,19261,14933,14090,17675,14224,13316,14058,12619,15075,12525,12489,14937,14668,14144,16248,16765,9140,8143,12599,11647,10678,15285,9483,8253,6774,10567,10468,8511,8635,9827,7547,6569,13820,12184,13045,11643,13056,11423,10876,11539,10711,8452,11073,11662,10500,10731,11752,10086,12071,11683,13802,10849,10253,15085,10638,14153,14358,7357,7007,13663,9562,9302,9816,10199,10286,10183,10637,10101,10080,9109,10574,9472,10572,10208,10737,9076,9737,9169,10815,9123,10856,11660,11146,9812,10964,10770,8404,9872,10130,10418,10036,9643,11634,8985,9064,9948,8809,9142,10116,10082,8877,8969,9521,9795,9525,9656,10548,8047,8000,10647,8930,10525,10429,12014,8195,8069,11584,11570,10661,11117,9491,8806,9351,12918,10597,11348,11578,12334,9884,10883,10346,10334,11420,10562,10531,9730,10891,13580,10106,10884,10486,12517,9645,10381,10809,10183,8544,11114,11737,10091,10081,11190,12571,12108,10784,12943,10501,9522,11612,9074,10532,11880,13979,14241,15781,10458,9766,10257,9532,11802,10645,9507,9646,11046,11134,10946,11550,9801,10653,12259,10363,11629,10526,11617,9884,8445,11659,9902,10925,10096,19007,18238,14719,7005,5853,9888,6831,7737,6605,9804,10581,9188,10851,9397,13189,14878,12679,12027,16559,10511,9556,11007,7979,7886,5382,7665,5472,4033,9001,7948,7967,8423,8579,8549,9001,7815,8858,8973,9824,10717,10960,11293,10910,9656,10233,11251,8561,11701,11957,12950,15465,12248,10361,12476,12679,11912,16523,13654,11021,15214,12077,11332,12226,15801,13216],\"type\":\"scatter\",\"xaxis\":\"x\",\"yaxis\":\"y\"},{\"mode\":\"lines\",\"name\":\"Moving Avarage\",\"x\":[\"2022-01-01\",\"2022-01-02\",\"2022-01-03\",\"2022-01-04\",\"2022-01-05\",\"2022-01-06\",\"2022-01-07\",\"2022-01-08\",\"2022-01-09\",\"2022-01-10\",\"2022-01-11\",\"2022-01-12\",\"2022-01-13\",\"2022-01-14\",\"2022-01-15\",\"2022-01-16\",\"2022-01-17\",\"2022-01-18\",\"2022-01-19\",\"2022-01-20\",\"2022-01-21\",\"2022-01-22\",\"2022-01-23\",\"2022-01-24\",\"2022-01-25\",\"2022-01-26\",\"2022-01-27\",\"2022-01-28\",\"2022-01-29\",\"2022-01-30\",\"2022-01-31\",\"2022-02-01\",\"2022-02-02\",\"2022-02-03\",\"2022-02-04\",\"2022-02-05\",\"2022-02-06\",\"2022-02-07\",\"2022-02-08\",\"2022-02-09\",\"2022-02-10\",\"2022-02-11\",\"2022-02-12\",\"2022-02-13\",\"2022-02-14\",\"2022-02-15\",\"2022-02-16\",\"2022-02-17\",\"2022-02-18\",\"2022-02-19\",\"2022-02-20\",\"2022-02-21\",\"2022-02-22\",\"2022-02-23\",\"2022-02-24\",\"2022-02-25\",\"2022-02-26\",\"2022-02-27\",\"2022-02-28\",\"2022-03-01\",\"2022-03-02\",\"2022-03-03\",\"2022-03-04\",\"2022-03-05\",\"2022-03-06\",\"2022-03-07\",\"2022-03-08\",\"2022-03-09\",\"2022-03-10\",\"2022-03-11\",\"2022-03-12\",\"2022-03-13\",\"2022-03-14\",\"2022-03-15\",\"2022-03-16\",\"2022-03-17\",\"2022-03-18\",\"2022-03-19\",\"2022-03-20\",\"2022-03-21\",\"2022-03-22\",\"2022-03-23\",\"2022-03-24\",\"2022-03-25\",\"2022-03-26\",\"2022-03-27\",\"2022-03-28\",\"2022-03-29\",\"2022-03-30\",\"2022-03-31\",\"2022-04-01\",\"2022-04-02\",\"2022-04-03\",\"2022-04-04\",\"2022-04-05\",\"2022-04-06\",\"2022-04-07\",\"2022-04-08\",\"2022-04-09\",\"2022-04-10\",\"2022-04-11\",\"2022-04-12\",\"2022-04-13\",\"2022-04-14\",\"2022-04-15\",\"2022-04-16\",\"2022-04-17\",\"2022-04-18\",\"2022-04-19\",\"2022-04-20\",\"2022-04-21\",\"2022-04-22\",\"2022-04-23\",\"2022-04-24\",\"2022-04-25\",\"2022-04-26\",\"2022-04-27\",\"2022-04-28\",\"2022-04-29\",\"2022-04-30\",\"2022-05-01\",\"2022-05-02\",\"2022-05-03\",\"2022-05-04\",\"2022-05-05\",\"2022-05-06\",\"2022-05-07\",\"2022-05-08\",\"2022-05-09\",\"2022-05-10\",\"2022-05-11\",\"2022-05-12\",\"2022-05-13\",\"2022-05-14\",\"2022-05-15\",\"2022-05-16\",\"2022-05-17\",\"2022-05-18\",\"2022-05-19\",\"2022-05-20\",\"2022-05-21\",\"2022-05-22\",\"2022-05-23\",\"2022-05-24\",\"2022-05-25\",\"2022-05-26\",\"2022-05-27\",\"2022-05-28\",\"2022-05-29\",\"2022-05-30\",\"2022-05-31\",\"2022-06-01\",\"2022-06-02\",\"2022-06-03\",\"2022-06-04\",\"2022-06-05\",\"2022-06-06\",\"2022-06-07\",\"2022-06-08\",\"2022-06-09\",\"2022-06-10\",\"2022-06-11\",\"2022-06-12\",\"2022-06-13\",\"2022-06-14\",\"2022-06-15\",\"2022-06-16\",\"2022-06-17\",\"2022-06-18\",\"2022-06-19\",\"2022-06-20\",\"2022-06-21\",\"2022-06-22\",\"2022-06-23\",\"2022-06-24\",\"2022-06-25\",\"2022-06-26\",\"2022-06-27\",\"2022-06-28\",\"2022-06-29\",\"2022-06-30\",\"2022-07-01\",\"2022-07-02\",\"2022-07-03\",\"2022-07-04\",\"2022-07-05\",\"2022-07-06\",\"2022-07-07\",\"2022-07-08\",\"2022-07-09\",\"2022-07-10\",\"2022-07-11\",\"2022-07-12\",\"2022-07-13\",\"2022-07-14\",\"2022-07-15\",\"2022-07-16\",\"2022-07-17\",\"2022-07-18\",\"2022-07-19\",\"2022-07-20\",\"2022-07-21\",\"2022-07-22\",\"2022-07-23\",\"2022-07-24\",\"2022-07-25\",\"2022-07-26\",\"2022-07-27\",\"2022-07-28\",\"2022-07-29\",\"2022-07-30\",\"2022-07-31\",\"2022-08-01\",\"2022-08-02\",\"2022-08-03\",\"2022-08-04\",\"2022-08-05\",\"2022-08-06\",\"2022-08-07\",\"2022-08-08\",\"2022-08-09\",\"2022-08-10\",\"2022-08-11\",\"2022-08-12\",\"2022-08-13\",\"2022-08-14\",\"2022-08-15\",\"2022-08-16\",\"2022-08-17\",\"2022-08-18\",\"2022-08-19\",\"2022-08-20\",\"2022-08-21\",\"2022-08-22\",\"2022-08-23\",\"2022-08-24\",\"2022-08-25\",\"2022-08-26\",\"2022-08-27\",\"2022-08-28\",\"2022-08-29\",\"2022-08-30\",\"2022-08-31\",\"2022-09-01\",\"2022-09-02\",\"2022-09-03\",\"2022-09-04\",\"2022-09-05\",\"2022-09-06\",\"2022-09-07\",\"2022-09-08\",\"2022-09-09\",\"2022-09-10\",\"2022-09-11\",\"2022-09-12\",\"2022-09-13\",\"2022-09-14\",\"2022-09-15\",\"2022-09-16\",\"2022-09-17\",\"2022-09-18\",\"2022-09-19\",\"2022-09-20\",\"2022-09-21\",\"2022-09-22\",\"2022-09-23\",\"2022-09-24\",\"2022-09-25\",\"2022-09-26\",\"2022-09-27\",\"2022-09-28\",\"2022-09-29\",\"2022-09-30\",\"2022-10-01\",\"2022-10-02\",\"2022-10-03\",\"2022-10-04\",\"2022-10-05\",\"2022-10-06\",\"2022-10-07\",\"2022-10-08\",\"2022-10-09\",\"2022-10-10\",\"2022-10-11\",\"2022-10-12\",\"2022-10-13\",\"2022-10-14\",\"2022-10-15\",\"2022-10-16\",\"2022-10-17\",\"2022-10-18\",\"2022-10-19\",\"2022-10-20\",\"2022-10-21\",\"2022-10-22\",\"2022-10-23\",\"2022-10-24\",\"2022-10-25\",\"2022-10-26\",\"2022-10-27\",\"2022-10-28\",\"2022-10-29\",\"2022-10-30\",\"2022-10-31\",\"2022-11-01\",\"2022-11-02\",\"2022-11-03\",\"2022-11-04\",\"2022-11-05\",\"2022-11-06\",\"2022-11-07\",\"2022-11-08\",\"2022-11-09\",\"2022-11-10\",\"2022-11-11\",\"2022-11-12\",\"2022-11-13\",\"2022-11-14\",\"2022-11-15\",\"2022-11-16\",\"2022-11-17\",\"2022-11-18\",\"2022-11-19\",\"2022-11-20\",\"2022-11-21\",\"2022-11-22\",\"2022-11-23\",\"2022-11-24\",\"2022-11-25\",\"2022-11-26\",\"2022-11-27\",\"2022-11-28\",\"2022-11-29\",\"2022-11-30\",\"2022-12-01\",\"2022-12-02\",\"2022-12-03\",\"2022-12-04\",\"2022-12-05\",\"2022-12-06\",\"2022-12-07\",\"2022-12-08\",\"2022-12-09\",\"2022-12-10\",\"2022-12-11\",\"2022-12-12\",\"2022-12-13\",\"2022-12-14\",\"2022-12-15\",\"2022-12-16\",\"2022-12-17\",\"2022-12-18\",\"2022-12-19\",\"2022-12-20\",\"2022-12-21\",\"2022-12-22\",\"2022-12-23\",\"2022-12-24\",\"2022-12-25\",\"2022-12-26\",\"2022-12-27\",\"2022-12-28\",\"2022-12-29\",\"2022-12-30\",\"2022-12-31\"],\"y\":[8533.0,10839.5,11230.333333333334,11234.75,11219.6,11044.166666666666,11059.285714285714,11029.0,10406.42857142857,9907.57142857143,9444.714285714286,9501.0,9414.857142857143,9364.714285714286,9427.57142857143,9553.57142857143,9807.714285714286,10317.42857142857,10308.0,10548.285714285714,11089.285714285714,11298.142857142857,11345.0,11401.0,11306.142857142857,11251.285714285714,11416.285714285714,11279.42857142857,11400.0,11991.0,12204.714285714286,12248.42857142857,12315.0,12472.857142857143,12287.0,12337.0,11745.42857142857,11617.857142857143,12115.857142857143,12376.57142857143,12227.57142857143,12602.57142857143,12433.0,13078.285714285714,13427.0,13190.857142857143,13155.857142857143,13167.42857142857,13005.714285714286,13062.0,12710.142857142857,12414.285714285714,12316.42857142857,12608.142857142857,12636.0,13729.857142857143,15314.285714285714,15735.0,16230.57142857143,17169.14285714286,17664.0,17580.85714285714,16266.285714285714,14521.714285714286,14384.285714285714,13876.57142857143,12781.57142857143,11560.142857142857,11523.285714285714,11341.57142857143,11552.42857142857,11201.42857142857,11342.0,11494.57142857143,12022.142857142857,12117.857142857143,12452.142857142857,12494.142857142857,12361.42857142857,12312.57142857143,12418.57142857143,12450.57142857143,12620.285714285714,12572.42857142857,12640.285714285714,12773.285714285714,13076.285714285714,12952.42857142857,12804.142857142857,12726.142857142857,12538.0,12371.57142857143,12545.714285714286,12299.57142857143,12445.714285714286,12615.857142857143,12539.857142857143,12792.0,12879.142857142857,12658.857142857143,12492.57142857143,12477.57142857143,12272.714285714286,13055.857142857143,13585.285714285714,13760.857142857143,14562.857142857143,14590.285714285714,14266.285714285714,14249.57142857143,14406.714285714286,14088.285714285714,14326.57142857143,14442.0,14810.142857142857,15160.42857142857,15365.285714285714,14416.42857142857,14436.714285714286,14213.142857142857,13472.285714285714,13574.142857142857,13767.285714285714,13779.57142857143,14298.0,14539.42857142857,14055.857142857143,13435.0,13101.0,12669.42857142857,12174.285714285714,12036.714285714286,10996.42857142857,10869.714285714286,10674.142857142857,10383.857142857143,10215.42857142857,9905.857142857143,8955.857142857143,9005.0,8904.142857142857,8874.857142857143,9339.57142857143,9584.714285714286,10232.42857142857,10662.142857142857,11123.42857142857,11677.142857142857,12292.42857142857,11966.57142857143,11756.142857142857,11100.0,11018.57142857143,10819.42857142857,10687.57142857143,10666.857142857143,10697.285714285714,10608.0,11125.0,11212.142857142857,11517.857142857143,11567.714285714286,11499.42857142857,11975.57142857143,12054.42857142857,12351.857142857143,12734.0,11813.285714285714,11264.42857142857,11751.57142857143,10962.57142857143,10771.714285714286,10152.142857142857,9558.0,9976.42857142857,10430.142857142857,9997.857142857143,10074.857142857143,10186.0,10085.0,10138.57142857143,10022.285714285714,10077.857142857143,10016.57142857143,10107.42857142857,9964.0,10053.714285714286,9853.0,10044.857142857143,9837.857142857143,9930.42857142857,10062.285714285714,10358.0,10368.714285714286,10625.142857142857,10618.714285714286,10516.0,10375.42857142857,10156.857142857143,10052.857142857143,10084.857142857143,9896.142857142857,10019.57142857143,10102.57142857143,9987.142857142857,9961.142857142857,9731.285714285714,9603.57142857143,9671.142857142857,9449.42857142857,9434.0,9420.42857142857,9359.42857142857,9500.285714285714,9555.0,9489.285714285714,9555.857142857143,9437.285714285714,9298.857142857143,9459.714285714286,9336.142857142857,9479.0,9589.42857142857,9798.857142857143,9820.0,9829.857142857143,9963.714285714286,10340.857142857143,10360.285714285714,10458.57142857143,10098.142857142857,10185.42857142857,10368.57142857143,10559.142857142857,10420.142857142857,10518.285714285714,10584.142857142857,10990.285714285714,11144.285714285714,11363.142857142857,10995.714285714286,10958.142857142857,10968.42857142857,10823.285714285714,10565.714285714286,10543.714285714286,10544.857142857143,11006.857142857143,10974.285714285714,10897.714285714286,10886.857142857143,11170.57142857143,11158.42857142857,11085.57142857143,10689.714285714286,10700.714285714286,10366.42857142857,10456.142857142857,10344.714285714286,10408.42857142857,10365.57142857143,10420.0,10761.142857142857,11270.285714285714,11223.142857142857,11395.42857142857,11454.0,11374.142857142857,11434.42857142857,10934.857142857143,10709.714285714286,10866.285714285714,11014.285714285714,11548.57142857143,12442.714285714286,12277.857142857143,12376.714285714286,12337.42857142857,12002.0,11691.0,11177.285714285714,10281.0,10165.0,10347.857142857143,10473.142857142857,10675.142857142857,10639.142857142857,10518.57142857143,10682.285714285714,11055.57142857143,10958.0,11028.714285714286,10968.714285714286,10978.285714285714,10990.142857142857,10674.714285714286,10589.0,10523.142857142857,10422.57142857143,10361.142857142857,11416.857142857143,12610.285714285714,13506.57142857143,12841.714285714286,12263.285714285714,12115.142857142857,11648.714285714286,10038.714285714286,8376.857142857143,7674.714285714285,8185.571428571428,8662.0,8799.57142857143,9166.142857142857,9945.0,11126.857142857143,11537.57142857143,11744.142857142857,12797.142857142857,12748.57142857143,12771.285714285714,12459.57142857143,11474.0,10789.285714285714,9840.0,8569.42857142857,7849.571428571428,7060.571428571428,6774.0,6769.571428571428,6781.142857142857,7215.571428571428,7346.142857142857,7785.714285714285,8495.42857142857,8326.0,8456.0,8599.714285714286,8799.857142857143,9105.285714285714,9449.714285714286,9777.142857142857,10219.285714285714,10333.285714285714,10513.285714285714,10717.142857142857,10409.142857142857,10515.0,10609.857142857143,10901.285714285714,11731.142857142857,12019.0,11891.857142857143,12451.142857142857,12590.857142857143,12584.42857142857,13094.857142857143,12836.142857142857,12660.857142857143,13354.142857142857,13297.142857142857,13104.714285714286,13149.57142857143,13046.42857142857,12983.857142857143],\"type\":\"scatter\",\"xaxis\":\"x2\",\"yaxis\":\"y2\"}],                        {\"template\":{\"data\":{\"histogram2dcontour\":[{\"type\":\"histogram2dcontour\",\"colorbar\":{\"outlinewidth\":0,\"ticks\":\"\"},\"colorscale\":[[0.0,\"#0d0887\"],[0.1111111111111111,\"#46039f\"],[0.2222222222222222,\"#7201a8\"],[0.3333333333333333,\"#9c179e\"],[0.4444444444444444,\"#bd3786\"],[0.5555555555555556,\"#d8576b\"],[0.6666666666666666,\"#ed7953\"],[0.7777777777777778,\"#fb9f3a\"],[0.8888888888888888,\"#fdca26\"],[1.0,\"#f0f921\"]]}],\"choropleth\":[{\"type\":\"choropleth\",\"colorbar\":{\"outlinewidth\":0,\"ticks\":\"\"}}],\"histogram2d\":[{\"type\":\"histogram2d\",\"colorbar\":{\"outlinewidth\":0,\"ticks\":\"\"},\"colorscale\":[[0.0,\"#0d0887\"],[0.1111111111111111,\"#46039f\"],[0.2222222222222222,\"#7201a8\"],[0.3333333333333333,\"#9c179e\"],[0.4444444444444444,\"#bd3786\"],[0.5555555555555556,\"#d8576b\"],[0.6666666666666666,\"#ed7953\"],[0.7777777777777778,\"#fb9f3a\"],[0.8888888888888888,\"#fdca26\"],[1.0,\"#f0f921\"]]}],\"heatmap\":[{\"type\":\"heatmap\",\"colorbar\":{\"outlinewidth\":0,\"ticks\":\"\"},\"colorscale\":[[0.0,\"#0d0887\"],[0.1111111111111111,\"#46039f\"],[0.2222222222222222,\"#7201a8\"],[0.3333333333333333,\"#9c179e\"],[0.4444444444444444,\"#bd3786\"],[0.5555555555555556,\"#d8576b\"],[0.6666666666666666,\"#ed7953\"],[0.7777777777777778,\"#fb9f3a\"],[0.8888888888888888,\"#fdca26\"],[1.0,\"#f0f921\"]]}],\"heatmapgl\":[{\"type\":\"heatmapgl\",\"colorbar\":{\"outlinewidth\":0,\"ticks\":\"\"},\"colorscale\":[[0.0,\"#0d0887\"],[0.1111111111111111,\"#46039f\"],[0.2222222222222222,\"#7201a8\"],[0.3333333333333333,\"#9c179e\"],[0.4444444444444444,\"#bd3786\"],[0.5555555555555556,\"#d8576b\"],[0.6666666666666666,\"#ed7953\"],[0.7777777777777778,\"#fb9f3a\"],[0.8888888888888888,\"#fdca26\"],[1.0,\"#f0f921\"]]}],\"contourcarpet\":[{\"type\":\"contourcarpet\",\"colorbar\":{\"outlinewidth\":0,\"ticks\":\"\"}}],\"contour\":[{\"type\":\"contour\",\"colorbar\":{\"outlinewidth\":0,\"ticks\":\"\"},\"colorscale\":[[0.0,\"#0d0887\"],[0.1111111111111111,\"#46039f\"],[0.2222222222222222,\"#7201a8\"],[0.3333333333333333,\"#9c179e\"],[0.4444444444444444,\"#bd3786\"],[0.5555555555555556,\"#d8576b\"],[0.6666666666666666,\"#ed7953\"],[0.7777777777777778,\"#fb9f3a\"],[0.8888888888888888,\"#fdca26\"],[1.0,\"#f0f921\"]]}],\"surface\":[{\"type\":\"surface\",\"colorbar\":{\"outlinewidth\":0,\"ticks\":\"\"},\"colorscale\":[[0.0,\"#0d0887\"],[0.1111111111111111,\"#46039f\"],[0.2222222222222222,\"#7201a8\"],[0.3333333333333333,\"#9c179e\"],[0.4444444444444444,\"#bd3786\"],[0.5555555555555556,\"#d8576b\"],[0.6666666666666666,\"#ed7953\"],[0.7777777777777778,\"#fb9f3a\"],[0.8888888888888888,\"#fdca26\"],[1.0,\"#f0f921\"]]}],\"mesh3d\":[{\"type\":\"mesh3d\",\"colorbar\":{\"outlinewidth\":0,\"ticks\":\"\"}}],\"scatter\":[{\"fillpattern\":{\"fillmode\":\"overlay\",\"size\":10,\"solidity\":0.2},\"type\":\"scatter\"}],\"parcoords\":[{\"type\":\"parcoords\",\"line\":{\"colorbar\":{\"outlinewidth\":0,\"ticks\":\"\"}}}],\"scatterpolargl\":[{\"type\":\"scatterpolargl\",\"marker\":{\"colorbar\":{\"outlinewidth\":0,\"ticks\":\"\"}}}],\"bar\":[{\"error_x\":{\"color\":\"#2a3f5f\"},\"error_y\":{\"color\":\"#2a3f5f\"},\"marker\":{\"line\":{\"color\":\"#E5ECF6\",\"width\":0.5},\"pattern\":{\"fillmode\":\"overlay\",\"size\":10,\"solidity\":0.2}},\"type\":\"bar\"}],\"scattergeo\":[{\"type\":\"scattergeo\",\"marker\":{\"colorbar\":{\"outlinewidth\":0,\"ticks\":\"\"}}}],\"scatterpolar\":[{\"type\":\"scatterpolar\",\"marker\":{\"colorbar\":{\"outlinewidth\":0,\"ticks\":\"\"}}}],\"histogram\":[{\"marker\":{\"pattern\":{\"fillmode\":\"overlay\",\"size\":10,\"solidity\":0.2}},\"type\":\"histogram\"}],\"scattergl\":[{\"type\":\"scattergl\",\"marker\":{\"colorbar\":{\"outlinewidth\":0,\"ticks\":\"\"}}}],\"scatter3d\":[{\"type\":\"scatter3d\",\"line\":{\"colorbar\":{\"outlinewidth\":0,\"ticks\":\"\"}},\"marker\":{\"colorbar\":{\"outlinewidth\":0,\"ticks\":\"\"}}}],\"scattermapbox\":[{\"type\":\"scattermapbox\",\"marker\":{\"colorbar\":{\"outlinewidth\":0,\"ticks\":\"\"}}}],\"scatterternary\":[{\"type\":\"scatterternary\",\"marker\":{\"colorbar\":{\"outlinewidth\":0,\"ticks\":\"\"}}}],\"scattercarpet\":[{\"type\":\"scattercarpet\",\"marker\":{\"colorbar\":{\"outlinewidth\":0,\"ticks\":\"\"}}}],\"carpet\":[{\"aaxis\":{\"endlinecolor\":\"#2a3f5f\",\"gridcolor\":\"white\",\"linecolor\":\"white\",\"minorgridcolor\":\"white\",\"startlinecolor\":\"#2a3f5f\"},\"baxis\":{\"endlinecolor\":\"#2a3f5f\",\"gridcolor\":\"white\",\"linecolor\":\"white\",\"minorgridcolor\":\"white\",\"startlinecolor\":\"#2a3f5f\"},\"type\":\"carpet\"}],\"table\":[{\"cells\":{\"fill\":{\"color\":\"#EBF0F8\"},\"line\":{\"color\":\"white\"}},\"header\":{\"fill\":{\"color\":\"#C8D4E3\"},\"line\":{\"color\":\"white\"}},\"type\":\"table\"}],\"barpolar\":[{\"marker\":{\"line\":{\"color\":\"#E5ECF6\",\"width\":0.5},\"pattern\":{\"fillmode\":\"overlay\",\"size\":10,\"solidity\":0.2}},\"type\":\"barpolar\"}],\"pie\":[{\"automargin\":true,\"type\":\"pie\"}]},\"layout\":{\"autotypenumbers\":\"strict\",\"colorway\":[\"#636efa\",\"#EF553B\",\"#00cc96\",\"#ab63fa\",\"#FFA15A\",\"#19d3f3\",\"#FF6692\",\"#B6E880\",\"#FF97FF\",\"#FECB52\"],\"font\":{\"color\":\"#2a3f5f\"},\"hovermode\":\"closest\",\"hoverlabel\":{\"align\":\"left\"},\"paper_bgcolor\":\"white\",\"plot_bgcolor\":\"#E5ECF6\",\"polar\":{\"bgcolor\":\"#E5ECF6\",\"angularaxis\":{\"gridcolor\":\"white\",\"linecolor\":\"white\",\"ticks\":\"\"},\"radialaxis\":{\"gridcolor\":\"white\",\"linecolor\":\"white\",\"ticks\":\"\"}},\"ternary\":{\"bgcolor\":\"#E5ECF6\",\"aaxis\":{\"gridcolor\":\"white\",\"linecolor\":\"white\",\"ticks\":\"\"},\"baxis\":{\"gridcolor\":\"white\",\"linecolor\":\"white\",\"ticks\":\"\"},\"caxis\":{\"gridcolor\":\"white\",\"linecolor\":\"white\",\"ticks\":\"\"}},\"coloraxis\":{\"colorbar\":{\"outlinewidth\":0,\"ticks\":\"\"}},\"colorscale\":{\"sequential\":[[0.0,\"#0d0887\"],[0.1111111111111111,\"#46039f\"],[0.2222222222222222,\"#7201a8\"],[0.3333333333333333,\"#9c179e\"],[0.4444444444444444,\"#bd3786\"],[0.5555555555555556,\"#d8576b\"],[0.6666666666666666,\"#ed7953\"],[0.7777777777777778,\"#fb9f3a\"],[0.8888888888888888,\"#fdca26\"],[1.0,\"#f0f921\"]],\"sequentialminus\":[[0.0,\"#0d0887\"],[0.1111111111111111,\"#46039f\"],[0.2222222222222222,\"#7201a8\"],[0.3333333333333333,\"#9c179e\"],[0.4444444444444444,\"#bd3786\"],[0.5555555555555556,\"#d8576b\"],[0.6666666666666666,\"#ed7953\"],[0.7777777777777778,\"#fb9f3a\"],[0.8888888888888888,\"#fdca26\"],[1.0,\"#f0f921\"]],\"diverging\":[[0,\"#8e0152\"],[0.1,\"#c51b7d\"],[0.2,\"#de77ae\"],[0.3,\"#f1b6da\"],[0.4,\"#fde0ef\"],[0.5,\"#f7f7f7\"],[0.6,\"#e6f5d0\"],[0.7,\"#b8e186\"],[0.8,\"#7fbc41\"],[0.9,\"#4d9221\"],[1,\"#276419\"]]},\"xaxis\":{\"gridcolor\":\"white\",\"linecolor\":\"white\",\"ticks\":\"\",\"title\":{\"standoff\":15},\"zerolinecolor\":\"white\",\"automargin\":true,\"zerolinewidth\":2},\"yaxis\":{\"gridcolor\":\"white\",\"linecolor\":\"white\",\"ticks\":\"\",\"title\":{\"standoff\":15},\"zerolinecolor\":\"white\",\"automargin\":true,\"zerolinewidth\":2},\"scene\":{\"xaxis\":{\"backgroundcolor\":\"#E5ECF6\",\"gridcolor\":\"white\",\"linecolor\":\"white\",\"showbackground\":true,\"ticks\":\"\",\"zerolinecolor\":\"white\",\"gridwidth\":2},\"yaxis\":{\"backgroundcolor\":\"#E5ECF6\",\"gridcolor\":\"white\",\"linecolor\":\"white\",\"showbackground\":true,\"ticks\":\"\",\"zerolinecolor\":\"white\",\"gridwidth\":2},\"zaxis\":{\"backgroundcolor\":\"#E5ECF6\",\"gridcolor\":\"white\",\"linecolor\":\"white\",\"showbackground\":true,\"ticks\":\"\",\"zerolinecolor\":\"white\",\"gridwidth\":2}},\"shapedefaults\":{\"line\":{\"color\":\"#2a3f5f\"}},\"annotationdefaults\":{\"arrowcolor\":\"#2a3f5f\",\"arrowhead\":0,\"arrowwidth\":1},\"geo\":{\"bgcolor\":\"white\",\"landcolor\":\"#E5ECF6\",\"subunitcolor\":\"white\",\"showland\":true,\"showlakes\":true,\"lakecolor\":\"white\"},\"title\":{\"x\":0.05},\"mapbox\":{\"style\":\"light\"}}},\"xaxis\":{\"anchor\":\"y\",\"domain\":[0.0,0.45]},\"yaxis\":{\"anchor\":\"x\",\"domain\":[0.0,1.0]},\"xaxis2\":{\"anchor\":\"y2\",\"domain\":[0.55,1.0]},\"yaxis2\":{\"anchor\":\"x2\",\"domain\":[0.0,1.0]},\"legend\":{\"orientation\":\"h\",\"yanchor\":\"bottom\",\"y\":1.02,\"xanchor\":\"right\",\"x\":1},\"title\":{\"text\":\"Traffic Violation Analyses per Day - Grid System\"},\"showlegend\":true},                        {\"responsive\": true}                    ).then(function(){\n",
              "                            \n",
              "var gd = document.getElementById('cb5ee0f1-7e48-4f0d-9a8f-f3ea9bcbb47e');\n",
              "var x = new MutationObserver(function (mutations, observer) {{\n",
              "        var display = window.getComputedStyle(gd).display;\n",
              "        if (!display || display === 'none') {{\n",
              "            console.log([gd, 'removed!']);\n",
              "            Plotly.purge(gd);\n",
              "            observer.disconnect();\n",
              "        }}\n",
              "}});\n",
              "\n",
              "// Listen for the removal of the full notebook cells\n",
              "var notebookContainer = gd.closest('#notebook-container');\n",
              "if (notebookContainer) {{\n",
              "    x.observe(notebookContainer, {childList: true});\n",
              "}}\n",
              "\n",
              "// Listen for the clearing of the current output cell\n",
              "var outputEl = gd.closest('.output');\n",
              "if (outputEl) {{\n",
              "    x.observe(outputEl, {childList: true});\n",
              "}}\n",
              "\n",
              "                        })                };                            </script>        </div>\n",
              "</body>\n",
              "</html>"
            ]
          },
          "metadata": {}
        }
      ]
    },
    {
      "cell_type": "markdown",
      "source": [
        "### Overlaying the charts\n",
        "By overlaying the charts we will be able to check the charts on the grid system on the same chart"
      ],
      "metadata": {
        "id": "qKOx0xV-ARou"
      }
    },
    {
      "cell_type": "code",
      "source": [
        "# Grid\n",
        "Grid = make_subplots( rows=1, cols= 1 )\n",
        "\n",
        "# Graph 1\n",
        "Grid.add_trace(\n",
        "    go.Scatter(\n",
        "        x=df_violations_per_day['Date'],\n",
        "        y=df_violations_per_day['Violations_Count'],\n",
        "        mode='lines',\n",
        "        name='Violations Count'\n",
        "    ),\n",
        "    row=1, col=1\n",
        ")\n",
        "\n",
        "# Graph 2\n",
        "Grid.add_trace(\n",
        "    go.Scatter(\n",
        "        x=df_violations_per_day['Date'],\n",
        "        y=df_violations_per_day['moving_avarage'],\n",
        "        mode='lines',\n",
        "        name='Moving Avarage'\n",
        "    ),\n",
        "    row=1, col=1\n",
        ")\n",
        "\n",
        "# Layout Adjust\n",
        "Grid.update_layout(\n",
        "\n",
        "    # Title\n",
        "    title='Traffic Violation Analyses per Day',\n",
        "\n",
        "    # Legend\n",
        "    showlegend=True,\n",
        "    legend=dict(\n",
        "        orientation='h',\n",
        "        yanchor='bottom',\n",
        "        y=1.02,\n",
        "        xanchor='right',\n",
        "        x=1\n",
        "    )\n",
        ")\n",
        "\n",
        "Grid"
      ],
      "metadata": {
        "colab": {
          "base_uri": "https://localhost:8080/",
          "height": 542
        },
        "id": "10BqUg61ypqV",
        "outputId": "b7b14fb4-4023-44b7-89d0-5c1f958e911b"
      },
      "execution_count": 39,
      "outputs": [
        {
          "output_type": "display_data",
          "data": {
            "text/html": [
              "<html>\n",
              "<head><meta charset=\"utf-8\" /></head>\n",
              "<body>\n",
              "    <div>            <script src=\"https://cdnjs.cloudflare.com/ajax/libs/mathjax/2.7.5/MathJax.js?config=TeX-AMS-MML_SVG\"></script><script type=\"text/javascript\">if (window.MathJax && window.MathJax.Hub && window.MathJax.Hub.Config) {window.MathJax.Hub.Config({SVG: {font: \"STIX-Web\"}});}</script>                <script type=\"text/javascript\">window.PlotlyConfig = {MathJaxConfig: 'local'};</script>\n",
              "        <script src=\"https://cdn.plot.ly/plotly-2.18.2.min.js\"></script>                <div id=\"29e2b696-0efe-4aee-9bc2-0dfe156ae901\" class=\"plotly-graph-div\" style=\"height:525px; width:100%;\"></div>            <script type=\"text/javascript\">                                    window.PLOTLYENV=window.PLOTLYENV || {};                                    if (document.getElementById(\"29e2b696-0efe-4aee-9bc2-0dfe156ae901\")) {                    Plotly.newPlot(                        \"29e2b696-0efe-4aee-9bc2-0dfe156ae901\",                        [{\"mode\":\"lines\",\"name\":\"Violations Count\",\"x\":[\"2022-01-01\",\"2022-01-02\",\"2022-01-03\",\"2022-01-04\",\"2022-01-05\",\"2022-01-06\",\"2022-01-07\",\"2022-01-08\",\"2022-01-09\",\"2022-01-10\",\"2022-01-11\",\"2022-01-12\",\"2022-01-13\",\"2022-01-14\",\"2022-01-15\",\"2022-01-16\",\"2022-01-17\",\"2022-01-18\",\"2022-01-19\",\"2022-01-20\",\"2022-01-21\",\"2022-01-22\",\"2022-01-23\",\"2022-01-24\",\"2022-01-25\",\"2022-01-26\",\"2022-01-27\",\"2022-01-28\",\"2022-01-29\",\"2022-01-30\",\"2022-01-31\",\"2022-02-01\",\"2022-02-02\",\"2022-02-03\",\"2022-02-04\",\"2022-02-05\",\"2022-02-06\",\"2022-02-07\",\"2022-02-08\",\"2022-02-09\",\"2022-02-10\",\"2022-02-11\",\"2022-02-12\",\"2022-02-13\",\"2022-02-14\",\"2022-02-15\",\"2022-02-16\",\"2022-02-17\",\"2022-02-18\",\"2022-02-19\",\"2022-02-20\",\"2022-02-21\",\"2022-02-22\",\"2022-02-23\",\"2022-02-24\",\"2022-02-25\",\"2022-02-26\",\"2022-02-27\",\"2022-02-28\",\"2022-03-01\",\"2022-03-02\",\"2022-03-03\",\"2022-03-04\",\"2022-03-05\",\"2022-03-06\",\"2022-03-07\",\"2022-03-08\",\"2022-03-09\",\"2022-03-10\",\"2022-03-11\",\"2022-03-12\",\"2022-03-13\",\"2022-03-14\",\"2022-03-15\",\"2022-03-16\",\"2022-03-17\",\"2022-03-18\",\"2022-03-19\",\"2022-03-20\",\"2022-03-21\",\"2022-03-22\",\"2022-03-23\",\"2022-03-24\",\"2022-03-25\",\"2022-03-26\",\"2022-03-27\",\"2022-03-28\",\"2022-03-29\",\"2022-03-30\",\"2022-03-31\",\"2022-04-01\",\"2022-04-02\",\"2022-04-03\",\"2022-04-04\",\"2022-04-05\",\"2022-04-06\",\"2022-04-07\",\"2022-04-08\",\"2022-04-09\",\"2022-04-10\",\"2022-04-11\",\"2022-04-12\",\"2022-04-13\",\"2022-04-14\",\"2022-04-15\",\"2022-04-16\",\"2022-04-17\",\"2022-04-18\",\"2022-04-19\",\"2022-04-20\",\"2022-04-21\",\"2022-04-22\",\"2022-04-23\",\"2022-04-24\",\"2022-04-25\",\"2022-04-26\",\"2022-04-27\",\"2022-04-28\",\"2022-04-29\",\"2022-04-30\",\"2022-05-01\",\"2022-05-02\",\"2022-05-03\",\"2022-05-04\",\"2022-05-05\",\"2022-05-06\",\"2022-05-07\",\"2022-05-08\",\"2022-05-09\",\"2022-05-10\",\"2022-05-11\",\"2022-05-12\",\"2022-05-13\",\"2022-05-14\",\"2022-05-15\",\"2022-05-16\",\"2022-05-17\",\"2022-05-18\",\"2022-05-19\",\"2022-05-20\",\"2022-05-21\",\"2022-05-22\",\"2022-05-23\",\"2022-05-24\",\"2022-05-25\",\"2022-05-26\",\"2022-05-27\",\"2022-05-28\",\"2022-05-29\",\"2022-05-30\",\"2022-05-31\",\"2022-06-01\",\"2022-06-02\",\"2022-06-03\",\"2022-06-04\",\"2022-06-05\",\"2022-06-06\",\"2022-06-07\",\"2022-06-08\",\"2022-06-09\",\"2022-06-10\",\"2022-06-11\",\"2022-06-12\",\"2022-06-13\",\"2022-06-14\",\"2022-06-15\",\"2022-06-16\",\"2022-06-17\",\"2022-06-18\",\"2022-06-19\",\"2022-06-20\",\"2022-06-21\",\"2022-06-22\",\"2022-06-23\",\"2022-06-24\",\"2022-06-25\",\"2022-06-26\",\"2022-06-27\",\"2022-06-28\",\"2022-06-29\",\"2022-06-30\",\"2022-07-01\",\"2022-07-02\",\"2022-07-03\",\"2022-07-04\",\"2022-07-05\",\"2022-07-06\",\"2022-07-07\",\"2022-07-08\",\"2022-07-09\",\"2022-07-10\",\"2022-07-11\",\"2022-07-12\",\"2022-07-13\",\"2022-07-14\",\"2022-07-15\",\"2022-07-16\",\"2022-07-17\",\"2022-07-18\",\"2022-07-19\",\"2022-07-20\",\"2022-07-21\",\"2022-07-22\",\"2022-07-23\",\"2022-07-24\",\"2022-07-25\",\"2022-07-26\",\"2022-07-27\",\"2022-07-28\",\"2022-07-29\",\"2022-07-30\",\"2022-07-31\",\"2022-08-01\",\"2022-08-02\",\"2022-08-03\",\"2022-08-04\",\"2022-08-05\",\"2022-08-06\",\"2022-08-07\",\"2022-08-08\",\"2022-08-09\",\"2022-08-10\",\"2022-08-11\",\"2022-08-12\",\"2022-08-13\",\"2022-08-14\",\"2022-08-15\",\"2022-08-16\",\"2022-08-17\",\"2022-08-18\",\"2022-08-19\",\"2022-08-20\",\"2022-08-21\",\"2022-08-22\",\"2022-08-23\",\"2022-08-24\",\"2022-08-25\",\"2022-08-26\",\"2022-08-27\",\"2022-08-28\",\"2022-08-29\",\"2022-08-30\",\"2022-08-31\",\"2022-09-01\",\"2022-09-02\",\"2022-09-03\",\"2022-09-04\",\"2022-09-05\",\"2022-09-06\",\"2022-09-07\",\"2022-09-08\",\"2022-09-09\",\"2022-09-10\",\"2022-09-11\",\"2022-09-12\",\"2022-09-13\",\"2022-09-14\",\"2022-09-15\",\"2022-09-16\",\"2022-09-17\",\"2022-09-18\",\"2022-09-19\",\"2022-09-20\",\"2022-09-21\",\"2022-09-22\",\"2022-09-23\",\"2022-09-24\",\"2022-09-25\",\"2022-09-26\",\"2022-09-27\",\"2022-09-28\",\"2022-09-29\",\"2022-09-30\",\"2022-10-01\",\"2022-10-02\",\"2022-10-03\",\"2022-10-04\",\"2022-10-05\",\"2022-10-06\",\"2022-10-07\",\"2022-10-08\",\"2022-10-09\",\"2022-10-10\",\"2022-10-11\",\"2022-10-12\",\"2022-10-13\",\"2022-10-14\",\"2022-10-15\",\"2022-10-16\",\"2022-10-17\",\"2022-10-18\",\"2022-10-19\",\"2022-10-20\",\"2022-10-21\",\"2022-10-22\",\"2022-10-23\",\"2022-10-24\",\"2022-10-25\",\"2022-10-26\",\"2022-10-27\",\"2022-10-28\",\"2022-10-29\",\"2022-10-30\",\"2022-10-31\",\"2022-11-01\",\"2022-11-02\",\"2022-11-03\",\"2022-11-04\",\"2022-11-05\",\"2022-11-06\",\"2022-11-07\",\"2022-11-08\",\"2022-11-09\",\"2022-11-10\",\"2022-11-11\",\"2022-11-12\",\"2022-11-13\",\"2022-11-14\",\"2022-11-15\",\"2022-11-16\",\"2022-11-17\",\"2022-11-18\",\"2022-11-19\",\"2022-11-20\",\"2022-11-21\",\"2022-11-22\",\"2022-11-23\",\"2022-11-24\",\"2022-11-25\",\"2022-11-26\",\"2022-11-27\",\"2022-11-28\",\"2022-11-29\",\"2022-11-30\",\"2022-12-01\",\"2022-12-02\",\"2022-12-03\",\"2022-12-04\",\"2022-12-05\",\"2022-12-06\",\"2022-12-07\",\"2022-12-08\",\"2022-12-09\",\"2022-12-10\",\"2022-12-11\",\"2022-12-12\",\"2022-12-13\",\"2022-12-14\",\"2022-12-15\",\"2022-12-16\",\"2022-12-17\",\"2022-12-18\",\"2022-12-19\",\"2022-12-20\",\"2022-12-21\",\"2022-12-22\",\"2022-12-23\",\"2022-12-24\",\"2022-12-25\",\"2022-12-26\",\"2022-12-27\",\"2022-12-28\",\"2022-12-29\",\"2022-12-30\",\"2022-12-31\"],\"y\":[8533,13146,12012,11248,11159,10167,11150,8321,8788,8520,8008,11553,9564,10799,8761,9670,10299,11576,11487,11246,14586,10223,9998,10691,10912,11103,12401,13628,11067,14135,12187,11218,11569,13506,12327,11417,9994,11294,14704,13394,12463,14952,10230,14511,13735,13051,13149,12544,13820,10624,12048,11664,12366,15191,12739,21477,21715,14993,15133,18936,18655,12157,12275,9503,14031,11579,11271,10105,11899,11003,10979,11574,12563,12339,13798,12569,13343,11273,10645,12221,13081,14022,13757,13008,11748,11576,14342,12214,12984,13211,11691,10583,12795,12619,13237,14175,12679,13456,11193,11253,11455,13132,12741,18161,17162,12422,16867,11647,10864,12624,19261,14933,14090,17675,14224,13316,14058,12619,15075,12525,12489,14937,14668,14144,16248,16765,9140,8143,12599,11647,10678,15285,9483,8253,6774,10567,10468,8511,8635,9827,7547,6569,13820,12184,13045,11643,13056,11423,10876,11539,10711,8452,11073,11662,10500,10731,11752,10086,12071,11683,13802,10849,10253,15085,10638,14153,14358,7357,7007,13663,9562,9302,9816,10199,10286,10183,10637,10101,10080,9109,10574,9472,10572,10208,10737,9076,9737,9169,10815,9123,10856,11660,11146,9812,10964,10770,8404,9872,10130,10418,10036,9643,11634,8985,9064,9948,8809,9142,10116,10082,8877,8969,9521,9795,9525,9656,10548,8047,8000,10647,8930,10525,10429,12014,8195,8069,11584,11570,10661,11117,9491,8806,9351,12918,10597,11348,11578,12334,9884,10883,10346,10334,11420,10562,10531,9730,10891,13580,10106,10884,10486,12517,9645,10381,10809,10183,8544,11114,11737,10091,10081,11190,12571,12108,10784,12943,10501,9522,11612,9074,10532,11880,13979,14241,15781,10458,9766,10257,9532,11802,10645,9507,9646,11046,11134,10946,11550,9801,10653,12259,10363,11629,10526,11617,9884,8445,11659,9902,10925,10096,19007,18238,14719,7005,5853,9888,6831,7737,6605,9804,10581,9188,10851,9397,13189,14878,12679,12027,16559,10511,9556,11007,7979,7886,5382,7665,5472,4033,9001,7948,7967,8423,8579,8549,9001,7815,8858,8973,9824,10717,10960,11293,10910,9656,10233,11251,8561,11701,11957,12950,15465,12248,10361,12476,12679,11912,16523,13654,11021,15214,12077,11332,12226,15801,13216],\"type\":\"scatter\",\"xaxis\":\"x\",\"yaxis\":\"y\"},{\"mode\":\"lines\",\"name\":\"Moving Avarage\",\"x\":[\"2022-01-01\",\"2022-01-02\",\"2022-01-03\",\"2022-01-04\",\"2022-01-05\",\"2022-01-06\",\"2022-01-07\",\"2022-01-08\",\"2022-01-09\",\"2022-01-10\",\"2022-01-11\",\"2022-01-12\",\"2022-01-13\",\"2022-01-14\",\"2022-01-15\",\"2022-01-16\",\"2022-01-17\",\"2022-01-18\",\"2022-01-19\",\"2022-01-20\",\"2022-01-21\",\"2022-01-22\",\"2022-01-23\",\"2022-01-24\",\"2022-01-25\",\"2022-01-26\",\"2022-01-27\",\"2022-01-28\",\"2022-01-29\",\"2022-01-30\",\"2022-01-31\",\"2022-02-01\",\"2022-02-02\",\"2022-02-03\",\"2022-02-04\",\"2022-02-05\",\"2022-02-06\",\"2022-02-07\",\"2022-02-08\",\"2022-02-09\",\"2022-02-10\",\"2022-02-11\",\"2022-02-12\",\"2022-02-13\",\"2022-02-14\",\"2022-02-15\",\"2022-02-16\",\"2022-02-17\",\"2022-02-18\",\"2022-02-19\",\"2022-02-20\",\"2022-02-21\",\"2022-02-22\",\"2022-02-23\",\"2022-02-24\",\"2022-02-25\",\"2022-02-26\",\"2022-02-27\",\"2022-02-28\",\"2022-03-01\",\"2022-03-02\",\"2022-03-03\",\"2022-03-04\",\"2022-03-05\",\"2022-03-06\",\"2022-03-07\",\"2022-03-08\",\"2022-03-09\",\"2022-03-10\",\"2022-03-11\",\"2022-03-12\",\"2022-03-13\",\"2022-03-14\",\"2022-03-15\",\"2022-03-16\",\"2022-03-17\",\"2022-03-18\",\"2022-03-19\",\"2022-03-20\",\"2022-03-21\",\"2022-03-22\",\"2022-03-23\",\"2022-03-24\",\"2022-03-25\",\"2022-03-26\",\"2022-03-27\",\"2022-03-28\",\"2022-03-29\",\"2022-03-30\",\"2022-03-31\",\"2022-04-01\",\"2022-04-02\",\"2022-04-03\",\"2022-04-04\",\"2022-04-05\",\"2022-04-06\",\"2022-04-07\",\"2022-04-08\",\"2022-04-09\",\"2022-04-10\",\"2022-04-11\",\"2022-04-12\",\"2022-04-13\",\"2022-04-14\",\"2022-04-15\",\"2022-04-16\",\"2022-04-17\",\"2022-04-18\",\"2022-04-19\",\"2022-04-20\",\"2022-04-21\",\"2022-04-22\",\"2022-04-23\",\"2022-04-24\",\"2022-04-25\",\"2022-04-26\",\"2022-04-27\",\"2022-04-28\",\"2022-04-29\",\"2022-04-30\",\"2022-05-01\",\"2022-05-02\",\"2022-05-03\",\"2022-05-04\",\"2022-05-05\",\"2022-05-06\",\"2022-05-07\",\"2022-05-08\",\"2022-05-09\",\"2022-05-10\",\"2022-05-11\",\"2022-05-12\",\"2022-05-13\",\"2022-05-14\",\"2022-05-15\",\"2022-05-16\",\"2022-05-17\",\"2022-05-18\",\"2022-05-19\",\"2022-05-20\",\"2022-05-21\",\"2022-05-22\",\"2022-05-23\",\"2022-05-24\",\"2022-05-25\",\"2022-05-26\",\"2022-05-27\",\"2022-05-28\",\"2022-05-29\",\"2022-05-30\",\"2022-05-31\",\"2022-06-01\",\"2022-06-02\",\"2022-06-03\",\"2022-06-04\",\"2022-06-05\",\"2022-06-06\",\"2022-06-07\",\"2022-06-08\",\"2022-06-09\",\"2022-06-10\",\"2022-06-11\",\"2022-06-12\",\"2022-06-13\",\"2022-06-14\",\"2022-06-15\",\"2022-06-16\",\"2022-06-17\",\"2022-06-18\",\"2022-06-19\",\"2022-06-20\",\"2022-06-21\",\"2022-06-22\",\"2022-06-23\",\"2022-06-24\",\"2022-06-25\",\"2022-06-26\",\"2022-06-27\",\"2022-06-28\",\"2022-06-29\",\"2022-06-30\",\"2022-07-01\",\"2022-07-02\",\"2022-07-03\",\"2022-07-04\",\"2022-07-05\",\"2022-07-06\",\"2022-07-07\",\"2022-07-08\",\"2022-07-09\",\"2022-07-10\",\"2022-07-11\",\"2022-07-12\",\"2022-07-13\",\"2022-07-14\",\"2022-07-15\",\"2022-07-16\",\"2022-07-17\",\"2022-07-18\",\"2022-07-19\",\"2022-07-20\",\"2022-07-21\",\"2022-07-22\",\"2022-07-23\",\"2022-07-24\",\"2022-07-25\",\"2022-07-26\",\"2022-07-27\",\"2022-07-28\",\"2022-07-29\",\"2022-07-30\",\"2022-07-31\",\"2022-08-01\",\"2022-08-02\",\"2022-08-03\",\"2022-08-04\",\"2022-08-05\",\"2022-08-06\",\"2022-08-07\",\"2022-08-08\",\"2022-08-09\",\"2022-08-10\",\"2022-08-11\",\"2022-08-12\",\"2022-08-13\",\"2022-08-14\",\"2022-08-15\",\"2022-08-16\",\"2022-08-17\",\"2022-08-18\",\"2022-08-19\",\"2022-08-20\",\"2022-08-21\",\"2022-08-22\",\"2022-08-23\",\"2022-08-24\",\"2022-08-25\",\"2022-08-26\",\"2022-08-27\",\"2022-08-28\",\"2022-08-29\",\"2022-08-30\",\"2022-08-31\",\"2022-09-01\",\"2022-09-02\",\"2022-09-03\",\"2022-09-04\",\"2022-09-05\",\"2022-09-06\",\"2022-09-07\",\"2022-09-08\",\"2022-09-09\",\"2022-09-10\",\"2022-09-11\",\"2022-09-12\",\"2022-09-13\",\"2022-09-14\",\"2022-09-15\",\"2022-09-16\",\"2022-09-17\",\"2022-09-18\",\"2022-09-19\",\"2022-09-20\",\"2022-09-21\",\"2022-09-22\",\"2022-09-23\",\"2022-09-24\",\"2022-09-25\",\"2022-09-26\",\"2022-09-27\",\"2022-09-28\",\"2022-09-29\",\"2022-09-30\",\"2022-10-01\",\"2022-10-02\",\"2022-10-03\",\"2022-10-04\",\"2022-10-05\",\"2022-10-06\",\"2022-10-07\",\"2022-10-08\",\"2022-10-09\",\"2022-10-10\",\"2022-10-11\",\"2022-10-12\",\"2022-10-13\",\"2022-10-14\",\"2022-10-15\",\"2022-10-16\",\"2022-10-17\",\"2022-10-18\",\"2022-10-19\",\"2022-10-20\",\"2022-10-21\",\"2022-10-22\",\"2022-10-23\",\"2022-10-24\",\"2022-10-25\",\"2022-10-26\",\"2022-10-27\",\"2022-10-28\",\"2022-10-29\",\"2022-10-30\",\"2022-10-31\",\"2022-11-01\",\"2022-11-02\",\"2022-11-03\",\"2022-11-04\",\"2022-11-05\",\"2022-11-06\",\"2022-11-07\",\"2022-11-08\",\"2022-11-09\",\"2022-11-10\",\"2022-11-11\",\"2022-11-12\",\"2022-11-13\",\"2022-11-14\",\"2022-11-15\",\"2022-11-16\",\"2022-11-17\",\"2022-11-18\",\"2022-11-19\",\"2022-11-20\",\"2022-11-21\",\"2022-11-22\",\"2022-11-23\",\"2022-11-24\",\"2022-11-25\",\"2022-11-26\",\"2022-11-27\",\"2022-11-28\",\"2022-11-29\",\"2022-11-30\",\"2022-12-01\",\"2022-12-02\",\"2022-12-03\",\"2022-12-04\",\"2022-12-05\",\"2022-12-06\",\"2022-12-07\",\"2022-12-08\",\"2022-12-09\",\"2022-12-10\",\"2022-12-11\",\"2022-12-12\",\"2022-12-13\",\"2022-12-14\",\"2022-12-15\",\"2022-12-16\",\"2022-12-17\",\"2022-12-18\",\"2022-12-19\",\"2022-12-20\",\"2022-12-21\",\"2022-12-22\",\"2022-12-23\",\"2022-12-24\",\"2022-12-25\",\"2022-12-26\",\"2022-12-27\",\"2022-12-28\",\"2022-12-29\",\"2022-12-30\",\"2022-12-31\"],\"y\":[8533.0,10839.5,11230.333333333334,11234.75,11219.6,11044.166666666666,11059.285714285714,11029.0,10406.42857142857,9907.57142857143,9444.714285714286,9501.0,9414.857142857143,9364.714285714286,9427.57142857143,9553.57142857143,9807.714285714286,10317.42857142857,10308.0,10548.285714285714,11089.285714285714,11298.142857142857,11345.0,11401.0,11306.142857142857,11251.285714285714,11416.285714285714,11279.42857142857,11400.0,11991.0,12204.714285714286,12248.42857142857,12315.0,12472.857142857143,12287.0,12337.0,11745.42857142857,11617.857142857143,12115.857142857143,12376.57142857143,12227.57142857143,12602.57142857143,12433.0,13078.285714285714,13427.0,13190.857142857143,13155.857142857143,13167.42857142857,13005.714285714286,13062.0,12710.142857142857,12414.285714285714,12316.42857142857,12608.142857142857,12636.0,13729.857142857143,15314.285714285714,15735.0,16230.57142857143,17169.14285714286,17664.0,17580.85714285714,16266.285714285714,14521.714285714286,14384.285714285714,13876.57142857143,12781.57142857143,11560.142857142857,11523.285714285714,11341.57142857143,11552.42857142857,11201.42857142857,11342.0,11494.57142857143,12022.142857142857,12117.857142857143,12452.142857142857,12494.142857142857,12361.42857142857,12312.57142857143,12418.57142857143,12450.57142857143,12620.285714285714,12572.42857142857,12640.285714285714,12773.285714285714,13076.285714285714,12952.42857142857,12804.142857142857,12726.142857142857,12538.0,12371.57142857143,12545.714285714286,12299.57142857143,12445.714285714286,12615.857142857143,12539.857142857143,12792.0,12879.142857142857,12658.857142857143,12492.57142857143,12477.57142857143,12272.714285714286,13055.857142857143,13585.285714285714,13760.857142857143,14562.857142857143,14590.285714285714,14266.285714285714,14249.57142857143,14406.714285714286,14088.285714285714,14326.57142857143,14442.0,14810.142857142857,15160.42857142857,15365.285714285714,14416.42857142857,14436.714285714286,14213.142857142857,13472.285714285714,13574.142857142857,13767.285714285714,13779.57142857143,14298.0,14539.42857142857,14055.857142857143,13435.0,13101.0,12669.42857142857,12174.285714285714,12036.714285714286,10996.42857142857,10869.714285714286,10674.142857142857,10383.857142857143,10215.42857142857,9905.857142857143,8955.857142857143,9005.0,8904.142857142857,8874.857142857143,9339.57142857143,9584.714285714286,10232.42857142857,10662.142857142857,11123.42857142857,11677.142857142857,12292.42857142857,11966.57142857143,11756.142857142857,11100.0,11018.57142857143,10819.42857142857,10687.57142857143,10666.857142857143,10697.285714285714,10608.0,11125.0,11212.142857142857,11517.857142857143,11567.714285714286,11499.42857142857,11975.57142857143,12054.42857142857,12351.857142857143,12734.0,11813.285714285714,11264.42857142857,11751.57142857143,10962.57142857143,10771.714285714286,10152.142857142857,9558.0,9976.42857142857,10430.142857142857,9997.857142857143,10074.857142857143,10186.0,10085.0,10138.57142857143,10022.285714285714,10077.857142857143,10016.57142857143,10107.42857142857,9964.0,10053.714285714286,9853.0,10044.857142857143,9837.857142857143,9930.42857142857,10062.285714285714,10358.0,10368.714285714286,10625.142857142857,10618.714285714286,10516.0,10375.42857142857,10156.857142857143,10052.857142857143,10084.857142857143,9896.142857142857,10019.57142857143,10102.57142857143,9987.142857142857,9961.142857142857,9731.285714285714,9603.57142857143,9671.142857142857,9449.42857142857,9434.0,9420.42857142857,9359.42857142857,9500.285714285714,9555.0,9489.285714285714,9555.857142857143,9437.285714285714,9298.857142857143,9459.714285714286,9336.142857142857,9479.0,9589.42857142857,9798.857142857143,9820.0,9829.857142857143,9963.714285714286,10340.857142857143,10360.285714285714,10458.57142857143,10098.142857142857,10185.42857142857,10368.57142857143,10559.142857142857,10420.142857142857,10518.285714285714,10584.142857142857,10990.285714285714,11144.285714285714,11363.142857142857,10995.714285714286,10958.142857142857,10968.42857142857,10823.285714285714,10565.714285714286,10543.714285714286,10544.857142857143,11006.857142857143,10974.285714285714,10897.714285714286,10886.857142857143,11170.57142857143,11158.42857142857,11085.57142857143,10689.714285714286,10700.714285714286,10366.42857142857,10456.142857142857,10344.714285714286,10408.42857142857,10365.57142857143,10420.0,10761.142857142857,11270.285714285714,11223.142857142857,11395.42857142857,11454.0,11374.142857142857,11434.42857142857,10934.857142857143,10709.714285714286,10866.285714285714,11014.285714285714,11548.57142857143,12442.714285714286,12277.857142857143,12376.714285714286,12337.42857142857,12002.0,11691.0,11177.285714285714,10281.0,10165.0,10347.857142857143,10473.142857142857,10675.142857142857,10639.142857142857,10518.57142857143,10682.285714285714,11055.57142857143,10958.0,11028.714285714286,10968.714285714286,10978.285714285714,10990.142857142857,10674.714285714286,10589.0,10523.142857142857,10422.57142857143,10361.142857142857,11416.857142857143,12610.285714285714,13506.57142857143,12841.714285714286,12263.285714285714,12115.142857142857,11648.714285714286,10038.714285714286,8376.857142857143,7674.714285714285,8185.571428571428,8662.0,8799.57142857143,9166.142857142857,9945.0,11126.857142857143,11537.57142857143,11744.142857142857,12797.142857142857,12748.57142857143,12771.285714285714,12459.57142857143,11474.0,10789.285714285714,9840.0,8569.42857142857,7849.571428571428,7060.571428571428,6774.0,6769.571428571428,6781.142857142857,7215.571428571428,7346.142857142857,7785.714285714285,8495.42857142857,8326.0,8456.0,8599.714285714286,8799.857142857143,9105.285714285714,9449.714285714286,9777.142857142857,10219.285714285714,10333.285714285714,10513.285714285714,10717.142857142857,10409.142857142857,10515.0,10609.857142857143,10901.285714285714,11731.142857142857,12019.0,11891.857142857143,12451.142857142857,12590.857142857143,12584.42857142857,13094.857142857143,12836.142857142857,12660.857142857143,13354.142857142857,13297.142857142857,13104.714285714286,13149.57142857143,13046.42857142857,12983.857142857143],\"type\":\"scatter\",\"xaxis\":\"x\",\"yaxis\":\"y\"}],                        {\"template\":{\"data\":{\"histogram2dcontour\":[{\"type\":\"histogram2dcontour\",\"colorbar\":{\"outlinewidth\":0,\"ticks\":\"\"},\"colorscale\":[[0.0,\"#0d0887\"],[0.1111111111111111,\"#46039f\"],[0.2222222222222222,\"#7201a8\"],[0.3333333333333333,\"#9c179e\"],[0.4444444444444444,\"#bd3786\"],[0.5555555555555556,\"#d8576b\"],[0.6666666666666666,\"#ed7953\"],[0.7777777777777778,\"#fb9f3a\"],[0.8888888888888888,\"#fdca26\"],[1.0,\"#f0f921\"]]}],\"choropleth\":[{\"type\":\"choropleth\",\"colorbar\":{\"outlinewidth\":0,\"ticks\":\"\"}}],\"histogram2d\":[{\"type\":\"histogram2d\",\"colorbar\":{\"outlinewidth\":0,\"ticks\":\"\"},\"colorscale\":[[0.0,\"#0d0887\"],[0.1111111111111111,\"#46039f\"],[0.2222222222222222,\"#7201a8\"],[0.3333333333333333,\"#9c179e\"],[0.4444444444444444,\"#bd3786\"],[0.5555555555555556,\"#d8576b\"],[0.6666666666666666,\"#ed7953\"],[0.7777777777777778,\"#fb9f3a\"],[0.8888888888888888,\"#fdca26\"],[1.0,\"#f0f921\"]]}],\"heatmap\":[{\"type\":\"heatmap\",\"colorbar\":{\"outlinewidth\":0,\"ticks\":\"\"},\"colorscale\":[[0.0,\"#0d0887\"],[0.1111111111111111,\"#46039f\"],[0.2222222222222222,\"#7201a8\"],[0.3333333333333333,\"#9c179e\"],[0.4444444444444444,\"#bd3786\"],[0.5555555555555556,\"#d8576b\"],[0.6666666666666666,\"#ed7953\"],[0.7777777777777778,\"#fb9f3a\"],[0.8888888888888888,\"#fdca26\"],[1.0,\"#f0f921\"]]}],\"heatmapgl\":[{\"type\":\"heatmapgl\",\"colorbar\":{\"outlinewidth\":0,\"ticks\":\"\"},\"colorscale\":[[0.0,\"#0d0887\"],[0.1111111111111111,\"#46039f\"],[0.2222222222222222,\"#7201a8\"],[0.3333333333333333,\"#9c179e\"],[0.4444444444444444,\"#bd3786\"],[0.5555555555555556,\"#d8576b\"],[0.6666666666666666,\"#ed7953\"],[0.7777777777777778,\"#fb9f3a\"],[0.8888888888888888,\"#fdca26\"],[1.0,\"#f0f921\"]]}],\"contourcarpet\":[{\"type\":\"contourcarpet\",\"colorbar\":{\"outlinewidth\":0,\"ticks\":\"\"}}],\"contour\":[{\"type\":\"contour\",\"colorbar\":{\"outlinewidth\":0,\"ticks\":\"\"},\"colorscale\":[[0.0,\"#0d0887\"],[0.1111111111111111,\"#46039f\"],[0.2222222222222222,\"#7201a8\"],[0.3333333333333333,\"#9c179e\"],[0.4444444444444444,\"#bd3786\"],[0.5555555555555556,\"#d8576b\"],[0.6666666666666666,\"#ed7953\"],[0.7777777777777778,\"#fb9f3a\"],[0.8888888888888888,\"#fdca26\"],[1.0,\"#f0f921\"]]}],\"surface\":[{\"type\":\"surface\",\"colorbar\":{\"outlinewidth\":0,\"ticks\":\"\"},\"colorscale\":[[0.0,\"#0d0887\"],[0.1111111111111111,\"#46039f\"],[0.2222222222222222,\"#7201a8\"],[0.3333333333333333,\"#9c179e\"],[0.4444444444444444,\"#bd3786\"],[0.5555555555555556,\"#d8576b\"],[0.6666666666666666,\"#ed7953\"],[0.7777777777777778,\"#fb9f3a\"],[0.8888888888888888,\"#fdca26\"],[1.0,\"#f0f921\"]]}],\"mesh3d\":[{\"type\":\"mesh3d\",\"colorbar\":{\"outlinewidth\":0,\"ticks\":\"\"}}],\"scatter\":[{\"fillpattern\":{\"fillmode\":\"overlay\",\"size\":10,\"solidity\":0.2},\"type\":\"scatter\"}],\"parcoords\":[{\"type\":\"parcoords\",\"line\":{\"colorbar\":{\"outlinewidth\":0,\"ticks\":\"\"}}}],\"scatterpolargl\":[{\"type\":\"scatterpolargl\",\"marker\":{\"colorbar\":{\"outlinewidth\":0,\"ticks\":\"\"}}}],\"bar\":[{\"error_x\":{\"color\":\"#2a3f5f\"},\"error_y\":{\"color\":\"#2a3f5f\"},\"marker\":{\"line\":{\"color\":\"#E5ECF6\",\"width\":0.5},\"pattern\":{\"fillmode\":\"overlay\",\"size\":10,\"solidity\":0.2}},\"type\":\"bar\"}],\"scattergeo\":[{\"type\":\"scattergeo\",\"marker\":{\"colorbar\":{\"outlinewidth\":0,\"ticks\":\"\"}}}],\"scatterpolar\":[{\"type\":\"scatterpolar\",\"marker\":{\"colorbar\":{\"outlinewidth\":0,\"ticks\":\"\"}}}],\"histogram\":[{\"marker\":{\"pattern\":{\"fillmode\":\"overlay\",\"size\":10,\"solidity\":0.2}},\"type\":\"histogram\"}],\"scattergl\":[{\"type\":\"scattergl\",\"marker\":{\"colorbar\":{\"outlinewidth\":0,\"ticks\":\"\"}}}],\"scatter3d\":[{\"type\":\"scatter3d\",\"line\":{\"colorbar\":{\"outlinewidth\":0,\"ticks\":\"\"}},\"marker\":{\"colorbar\":{\"outlinewidth\":0,\"ticks\":\"\"}}}],\"scattermapbox\":[{\"type\":\"scattermapbox\",\"marker\":{\"colorbar\":{\"outlinewidth\":0,\"ticks\":\"\"}}}],\"scatterternary\":[{\"type\":\"scatterternary\",\"marker\":{\"colorbar\":{\"outlinewidth\":0,\"ticks\":\"\"}}}],\"scattercarpet\":[{\"type\":\"scattercarpet\",\"marker\":{\"colorbar\":{\"outlinewidth\":0,\"ticks\":\"\"}}}],\"carpet\":[{\"aaxis\":{\"endlinecolor\":\"#2a3f5f\",\"gridcolor\":\"white\",\"linecolor\":\"white\",\"minorgridcolor\":\"white\",\"startlinecolor\":\"#2a3f5f\"},\"baxis\":{\"endlinecolor\":\"#2a3f5f\",\"gridcolor\":\"white\",\"linecolor\":\"white\",\"minorgridcolor\":\"white\",\"startlinecolor\":\"#2a3f5f\"},\"type\":\"carpet\"}],\"table\":[{\"cells\":{\"fill\":{\"color\":\"#EBF0F8\"},\"line\":{\"color\":\"white\"}},\"header\":{\"fill\":{\"color\":\"#C8D4E3\"},\"line\":{\"color\":\"white\"}},\"type\":\"table\"}],\"barpolar\":[{\"marker\":{\"line\":{\"color\":\"#E5ECF6\",\"width\":0.5},\"pattern\":{\"fillmode\":\"overlay\",\"size\":10,\"solidity\":0.2}},\"type\":\"barpolar\"}],\"pie\":[{\"automargin\":true,\"type\":\"pie\"}]},\"layout\":{\"autotypenumbers\":\"strict\",\"colorway\":[\"#636efa\",\"#EF553B\",\"#00cc96\",\"#ab63fa\",\"#FFA15A\",\"#19d3f3\",\"#FF6692\",\"#B6E880\",\"#FF97FF\",\"#FECB52\"],\"font\":{\"color\":\"#2a3f5f\"},\"hovermode\":\"closest\",\"hoverlabel\":{\"align\":\"left\"},\"paper_bgcolor\":\"white\",\"plot_bgcolor\":\"#E5ECF6\",\"polar\":{\"bgcolor\":\"#E5ECF6\",\"angularaxis\":{\"gridcolor\":\"white\",\"linecolor\":\"white\",\"ticks\":\"\"},\"radialaxis\":{\"gridcolor\":\"white\",\"linecolor\":\"white\",\"ticks\":\"\"}},\"ternary\":{\"bgcolor\":\"#E5ECF6\",\"aaxis\":{\"gridcolor\":\"white\",\"linecolor\":\"white\",\"ticks\":\"\"},\"baxis\":{\"gridcolor\":\"white\",\"linecolor\":\"white\",\"ticks\":\"\"},\"caxis\":{\"gridcolor\":\"white\",\"linecolor\":\"white\",\"ticks\":\"\"}},\"coloraxis\":{\"colorbar\":{\"outlinewidth\":0,\"ticks\":\"\"}},\"colorscale\":{\"sequential\":[[0.0,\"#0d0887\"],[0.1111111111111111,\"#46039f\"],[0.2222222222222222,\"#7201a8\"],[0.3333333333333333,\"#9c179e\"],[0.4444444444444444,\"#bd3786\"],[0.5555555555555556,\"#d8576b\"],[0.6666666666666666,\"#ed7953\"],[0.7777777777777778,\"#fb9f3a\"],[0.8888888888888888,\"#fdca26\"],[1.0,\"#f0f921\"]],\"sequentialminus\":[[0.0,\"#0d0887\"],[0.1111111111111111,\"#46039f\"],[0.2222222222222222,\"#7201a8\"],[0.3333333333333333,\"#9c179e\"],[0.4444444444444444,\"#bd3786\"],[0.5555555555555556,\"#d8576b\"],[0.6666666666666666,\"#ed7953\"],[0.7777777777777778,\"#fb9f3a\"],[0.8888888888888888,\"#fdca26\"],[1.0,\"#f0f921\"]],\"diverging\":[[0,\"#8e0152\"],[0.1,\"#c51b7d\"],[0.2,\"#de77ae\"],[0.3,\"#f1b6da\"],[0.4,\"#fde0ef\"],[0.5,\"#f7f7f7\"],[0.6,\"#e6f5d0\"],[0.7,\"#b8e186\"],[0.8,\"#7fbc41\"],[0.9,\"#4d9221\"],[1,\"#276419\"]]},\"xaxis\":{\"gridcolor\":\"white\",\"linecolor\":\"white\",\"ticks\":\"\",\"title\":{\"standoff\":15},\"zerolinecolor\":\"white\",\"automargin\":true,\"zerolinewidth\":2},\"yaxis\":{\"gridcolor\":\"white\",\"linecolor\":\"white\",\"ticks\":\"\",\"title\":{\"standoff\":15},\"zerolinecolor\":\"white\",\"automargin\":true,\"zerolinewidth\":2},\"scene\":{\"xaxis\":{\"backgroundcolor\":\"#E5ECF6\",\"gridcolor\":\"white\",\"linecolor\":\"white\",\"showbackground\":true,\"ticks\":\"\",\"zerolinecolor\":\"white\",\"gridwidth\":2},\"yaxis\":{\"backgroundcolor\":\"#E5ECF6\",\"gridcolor\":\"white\",\"linecolor\":\"white\",\"showbackground\":true,\"ticks\":\"\",\"zerolinecolor\":\"white\",\"gridwidth\":2},\"zaxis\":{\"backgroundcolor\":\"#E5ECF6\",\"gridcolor\":\"white\",\"linecolor\":\"white\",\"showbackground\":true,\"ticks\":\"\",\"zerolinecolor\":\"white\",\"gridwidth\":2}},\"shapedefaults\":{\"line\":{\"color\":\"#2a3f5f\"}},\"annotationdefaults\":{\"arrowcolor\":\"#2a3f5f\",\"arrowhead\":0,\"arrowwidth\":1},\"geo\":{\"bgcolor\":\"white\",\"landcolor\":\"#E5ECF6\",\"subunitcolor\":\"white\",\"showland\":true,\"showlakes\":true,\"lakecolor\":\"white\"},\"title\":{\"x\":0.05},\"mapbox\":{\"style\":\"light\"}}},\"xaxis\":{\"anchor\":\"y\",\"domain\":[0.0,1.0]},\"yaxis\":{\"anchor\":\"x\",\"domain\":[0.0,1.0]},\"legend\":{\"orientation\":\"h\",\"yanchor\":\"bottom\",\"y\":1.02,\"xanchor\":\"right\",\"x\":1},\"title\":{\"text\":\"Traffic Violation Analyses per Day\"},\"showlegend\":true},                        {\"responsive\": true}                    ).then(function(){\n",
              "                            \n",
              "var gd = document.getElementById('29e2b696-0efe-4aee-9bc2-0dfe156ae901');\n",
              "var x = new MutationObserver(function (mutations, observer) {{\n",
              "        var display = window.getComputedStyle(gd).display;\n",
              "        if (!display || display === 'none') {{\n",
              "            console.log([gd, 'removed!']);\n",
              "            Plotly.purge(gd);\n",
              "            observer.disconnect();\n",
              "        }}\n",
              "}});\n",
              "\n",
              "// Listen for the removal of the full notebook cells\n",
              "var notebookContainer = gd.closest('#notebook-container');\n",
              "if (notebookContainer) {{\n",
              "    x.observe(notebookContainer, {childList: true});\n",
              "}}\n",
              "\n",
              "// Listen for the clearing of the current output cell\n",
              "var outputEl = gd.closest('.output');\n",
              "if (outputEl) {{\n",
              "    x.observe(outputEl, {childList: true});\n",
              "}}\n",
              "\n",
              "                        })                };                            </script>        </div>\n",
              "</body>\n",
              "</html>"
            ]
          },
          "metadata": {}
        }
      ]
    },
    {
      "cell_type": "markdown",
      "source": [
        "### Lets have a closer look on the Brazilian States\n",
        "How many infractions were registered on each state?\n",
        "We will also get the percentage of infractions for each state compared with all registered infractions and get the cumulative percentange."
      ],
      "metadata": {
        "id": "V05dSful2PC8"
      }
    },
    {
      "cell_type": "code",
      "source": [
        "from pyspark.sql.functions import count, sum\n",
        "from pyspark.sql.window import Window\n",
        "\n",
        "# Calculate the sum of infractions by state\n",
        "violations_per_state = TV22.groupBy('Infraction_State').agg(count('*').alias('Violations_Count'))\n",
        "\n",
        "# Calculate the percentage of infractions for each state\n",
        "state_percent = (TV22.groupBy(\"Infraction_State\").agg((count(\"*\") / TV22.count()).alias(\"%violations_Count\"))).orderBy(col(\"%violations_Count\").desc())\n",
        "\n",
        "# Calculate the percentage of infractions for each state (cummulative)\n",
        "windowSpec = Window.orderBy(col(\"%violations_Count\").desc())\n",
        "cum_stata_percent= (\n",
        "    state_percent\n",
        "    .withColumn(\"cumulative_sum\", sum(\"%violations_Count\").over(windowSpec))\n",
        ")\n",
        "\n",
        "# Join the calculated frequencies with the violations_per_state DataFrame\n",
        "violations_per_state = violations_per_state.join(cum_stata_percent, \"Infraction_State\", \"left\").orderBy(col(\"%violations_Count\").desc())\n",
        "\n",
        "# Print the DataFrame\n",
        "violations_per_state.show(27)"
      ],
      "metadata": {
        "colab": {
          "base_uri": "https://localhost:8080/"
        },
        "id": "EI6pemoA2FOV",
        "outputId": "c1cd8279-b895-4352-9203-0df34421e75b"
      },
      "execution_count": 40,
      "outputs": [
        {
          "output_type": "stream",
          "name": "stdout",
          "text": [
            "+----------------+----------------+--------------------+-------------------+\n",
            "|Infraction_State|Violations_Count|   %violations_Count|     cumulative_sum|\n",
            "+----------------+----------------+--------------------+-------------------+\n",
            "|              MG|          448672| 0.10849220279998442|0.10849220279998442|\n",
            "|              RJ|          418981| 0.10131269974801252|0.20980490254799694|\n",
            "|              BA|          417092| 0.10085592559876949|0.31066082814676643|\n",
            "|              SP|          378074| 0.09142108507194859|  0.402081913218715|\n",
            "|              RS|          252059| 0.06094972751934882| 0.4630316407380638|\n",
            "|              MS|          248186| 0.06001320751933915| 0.5230448482574029|\n",
            "|              PR|          237359| 0.05739515896780165| 0.5804400072252046|\n",
            "|              GO|          230375| 0.05570637619474006| 0.6361463834199447|\n",
            "|              SC|          178040| 0.04305138672907877| 0.6791977701490235|\n",
            "|              MT|          172734| 0.04176835674713936| 0.7209661268961629|\n",
            "|              ES|          150991| 0.03651073878684752| 0.7574768656830104|\n",
            "|              PE|          136373|0.032975998440825986| 0.7904528641238364|\n",
            "|              CE|          127407| 0.03080795343176667| 0.8212608175556031|\n",
            "|              RO|           93106| 0.02251371833743882|  0.843774535893042|\n",
            "|              PI|           85095|0.020576599380537842| 0.8643511352735798|\n",
            "|              PA|           77960| 0.01885130369242294| 0.8832024389660027|\n",
            "|              PB|           77884|0.018832926331204057| 0.9020353652972067|\n",
            "|              RN|           76745|0.018557507720305268|  0.920592873017512|\n",
            "|              DF|           73745|0.017832085566928293| 0.9384249585844403|\n",
            "|              MA|           73250|0.017712390911621093| 0.9561373494960614|\n",
            "|              AL|           40597| 0.00981665438688166| 0.9659540038829431|\n",
            "|              TO|           37861| 0.00915506938300186| 0.9751090732659449|\n",
            "|              SE|           37545|0.009078658249512818| 0.9841877315154577|\n",
            "|              AM|           20102|0.004860812042394638| 0.9890485435578523|\n",
            "|              AP|           17726|0.004286277696920075| 0.9933348212547723|\n",
            "|              AC|           15531|0.003755510488032...| 0.9970903317428049|\n",
            "|              RR|           12033|0.002909668257195...|                1.0|\n",
            "+----------------+----------------+--------------------+-------------------+\n",
            "\n"
          ]
        }
      ]
    },
    {
      "cell_type": "markdown",
      "source": [
        "By checking the last collumn (cumulative_sum) we can see that 4 states represent 50% of all registered infractions."
      ],
      "metadata": {
        "id": "niU49Qp3DQWB"
      }
    },
    {
      "cell_type": "code",
      "source": [
        "# Import pandas lib\n",
        "import pandas as pd\n",
        "\n",
        "# Converting Spark Dataframe to Pandas Dataframe\n",
        "df_violations_per_state = violations_per_state.toPandas()"
      ],
      "metadata": {
        "id": "4PUu5_wQ46gq"
      },
      "execution_count": 41,
      "outputs": []
    },
    {
      "cell_type": "code",
      "source": [
        "df_violations_per_state.head()"
      ],
      "metadata": {
        "colab": {
          "base_uri": "https://localhost:8080/",
          "height": 270
        },
        "id": "ixUrGq525JCd",
        "outputId": "9015eba0-db5e-4188-90f8-706aa96a0472"
      },
      "execution_count": 42,
      "outputs": [
        {
          "output_type": "execute_result",
          "data": {
            "text/plain": [
              "  Infraction_State  Violations_Count  %violations_Count  cumulative_sum\n",
              "0               MG            448672           0.108492        0.108492\n",
              "1               RJ            418981           0.101313        0.209805\n",
              "2               BA            417092           0.100856        0.310661\n",
              "3               SP            378074           0.091421        0.402082\n",
              "4               RS            252059           0.060950        0.463032"
            ],
            "text/html": [
              "\n",
              "  <div id=\"df-17884230-dce0-4347-8623-1a791cb83d9e\">\n",
              "    <div class=\"colab-df-container\">\n",
              "      <div>\n",
              "<style scoped>\n",
              "    .dataframe tbody tr th:only-of-type {\n",
              "        vertical-align: middle;\n",
              "    }\n",
              "\n",
              "    .dataframe tbody tr th {\n",
              "        vertical-align: top;\n",
              "    }\n",
              "\n",
              "    .dataframe thead th {\n",
              "        text-align: right;\n",
              "    }\n",
              "</style>\n",
              "<table border=\"1\" class=\"dataframe\">\n",
              "  <thead>\n",
              "    <tr style=\"text-align: right;\">\n",
              "      <th></th>\n",
              "      <th>Infraction_State</th>\n",
              "      <th>Violations_Count</th>\n",
              "      <th>%violations_Count</th>\n",
              "      <th>cumulative_sum</th>\n",
              "    </tr>\n",
              "  </thead>\n",
              "  <tbody>\n",
              "    <tr>\n",
              "      <th>0</th>\n",
              "      <td>MG</td>\n",
              "      <td>448672</td>\n",
              "      <td>0.108492</td>\n",
              "      <td>0.108492</td>\n",
              "    </tr>\n",
              "    <tr>\n",
              "      <th>1</th>\n",
              "      <td>RJ</td>\n",
              "      <td>418981</td>\n",
              "      <td>0.101313</td>\n",
              "      <td>0.209805</td>\n",
              "    </tr>\n",
              "    <tr>\n",
              "      <th>2</th>\n",
              "      <td>BA</td>\n",
              "      <td>417092</td>\n",
              "      <td>0.100856</td>\n",
              "      <td>0.310661</td>\n",
              "    </tr>\n",
              "    <tr>\n",
              "      <th>3</th>\n",
              "      <td>SP</td>\n",
              "      <td>378074</td>\n",
              "      <td>0.091421</td>\n",
              "      <td>0.402082</td>\n",
              "    </tr>\n",
              "    <tr>\n",
              "      <th>4</th>\n",
              "      <td>RS</td>\n",
              "      <td>252059</td>\n",
              "      <td>0.060950</td>\n",
              "      <td>0.463032</td>\n",
              "    </tr>\n",
              "  </tbody>\n",
              "</table>\n",
              "</div>\n",
              "      <button class=\"colab-df-convert\" onclick=\"convertToInteractive('df-17884230-dce0-4347-8623-1a791cb83d9e')\"\n",
              "              title=\"Convert this dataframe to an interactive table.\"\n",
              "              style=\"display:none;\">\n",
              "        \n",
              "  <svg xmlns=\"http://www.w3.org/2000/svg\" height=\"24px\"viewBox=\"0 0 24 24\"\n",
              "       width=\"24px\">\n",
              "    <path d=\"M0 0h24v24H0V0z\" fill=\"none\"/>\n",
              "    <path d=\"M18.56 5.44l.94 2.06.94-2.06 2.06-.94-2.06-.94-.94-2.06-.94 2.06-2.06.94zm-11 1L8.5 8.5l.94-2.06 2.06-.94-2.06-.94L8.5 2.5l-.94 2.06-2.06.94zm10 10l.94 2.06.94-2.06 2.06-.94-2.06-.94-.94-2.06-.94 2.06-2.06.94z\"/><path d=\"M17.41 7.96l-1.37-1.37c-.4-.4-.92-.59-1.43-.59-.52 0-1.04.2-1.43.59L10.3 9.45l-7.72 7.72c-.78.78-.78 2.05 0 2.83L4 21.41c.39.39.9.59 1.41.59.51 0 1.02-.2 1.41-.59l7.78-7.78 2.81-2.81c.8-.78.8-2.07 0-2.86zM5.41 20L4 18.59l7.72-7.72 1.47 1.35L5.41 20z\"/>\n",
              "  </svg>\n",
              "      </button>\n",
              "      \n",
              "  <style>\n",
              "    .colab-df-container {\n",
              "      display:flex;\n",
              "      flex-wrap:wrap;\n",
              "      gap: 12px;\n",
              "    }\n",
              "\n",
              "    .colab-df-convert {\n",
              "      background-color: #E8F0FE;\n",
              "      border: none;\n",
              "      border-radius: 50%;\n",
              "      cursor: pointer;\n",
              "      display: none;\n",
              "      fill: #1967D2;\n",
              "      height: 32px;\n",
              "      padding: 0 0 0 0;\n",
              "      width: 32px;\n",
              "    }\n",
              "\n",
              "    .colab-df-convert:hover {\n",
              "      background-color: #E2EBFA;\n",
              "      box-shadow: 0px 1px 2px rgba(60, 64, 67, 0.3), 0px 1px 3px 1px rgba(60, 64, 67, 0.15);\n",
              "      fill: #174EA6;\n",
              "    }\n",
              "\n",
              "    [theme=dark] .colab-df-convert {\n",
              "      background-color: #3B4455;\n",
              "      fill: #D2E3FC;\n",
              "    }\n",
              "\n",
              "    [theme=dark] .colab-df-convert:hover {\n",
              "      background-color: #434B5C;\n",
              "      box-shadow: 0px 1px 3px 1px rgba(0, 0, 0, 0.15);\n",
              "      filter: drop-shadow(0px 1px 2px rgba(0, 0, 0, 0.3));\n",
              "      fill: #FFFFFF;\n",
              "    }\n",
              "  </style>\n",
              "\n",
              "      <script>\n",
              "        const buttonEl =\n",
              "          document.querySelector('#df-17884230-dce0-4347-8623-1a791cb83d9e button.colab-df-convert');\n",
              "        buttonEl.style.display =\n",
              "          google.colab.kernel.accessAllowed ? 'block' : 'none';\n",
              "\n",
              "        async function convertToInteractive(key) {\n",
              "          const element = document.querySelector('#df-17884230-dce0-4347-8623-1a791cb83d9e');\n",
              "          const dataTable =\n",
              "            await google.colab.kernel.invokeFunction('convertToInteractive',\n",
              "                                                     [key], {});\n",
              "          if (!dataTable) return;\n",
              "\n",
              "          const docLinkHtml = 'Like what you see? Visit the ' +\n",
              "            '<a target=\"_blank\" href=https://colab.research.google.com/notebooks/data_table.ipynb>data table notebook</a>'\n",
              "            + ' to learn more about interactive tables.';\n",
              "          element.innerHTML = '';\n",
              "          dataTable['output_type'] = 'display_data';\n",
              "          await google.colab.output.renderOutput(dataTable, element);\n",
              "          const docLink = document.createElement('div');\n",
              "          docLink.innerHTML = docLinkHtml;\n",
              "          element.appendChild(docLink);\n",
              "        }\n",
              "      </script>\n",
              "    </div>\n",
              "  </div>\n",
              "  "
            ]
          },
          "metadata": {},
          "execution_count": 42
        }
      ]
    },
    {
      "cell_type": "code",
      "source": [
        "# Funnel Chart\n",
        "px.funnel(\n",
        "    df_violations_per_state[ df_violations_per_state['cumulative_sum'] < 0.5 ],\n",
        "    y='Infraction_State',\n",
        "    x='Violations_Count',\n",
        "    title='State Concentration of 50% Traffic Infractions'\n",
        ")"
      ],
      "metadata": {
        "colab": {
          "base_uri": "https://localhost:8080/",
          "height": 562
        },
        "id": "cZrgzc0E49ZZ",
        "outputId": "3dc1d065-38ff-4eb2-fec3-e639fffb8c0c"
      },
      "execution_count": 43,
      "outputs": [
        {
          "output_type": "display_data",
          "data": {
            "text/html": [
              "<html>\n",
              "<head><meta charset=\"utf-8\" /></head>\n",
              "<body>\n",
              "    <div>            <script src=\"https://cdnjs.cloudflare.com/ajax/libs/mathjax/2.7.5/MathJax.js?config=TeX-AMS-MML_SVG\"></script><script type=\"text/javascript\">if (window.MathJax && window.MathJax.Hub && window.MathJax.Hub.Config) {window.MathJax.Hub.Config({SVG: {font: \"STIX-Web\"}});}</script>                <script type=\"text/javascript\">window.PlotlyConfig = {MathJaxConfig: 'local'};</script>\n",
              "        <script src=\"https://cdn.plot.ly/plotly-2.18.2.min.js\"></script>                <div id=\"ba53cc5f-a8b9-447b-8c6d-b0ed2df4e2fc\" class=\"plotly-graph-div\" style=\"height:525px; width:100%;\"></div>            <script type=\"text/javascript\">                                    window.PLOTLYENV=window.PLOTLYENV || {};                                    if (document.getElementById(\"ba53cc5f-a8b9-447b-8c6d-b0ed2df4e2fc\")) {                    Plotly.newPlot(                        \"ba53cc5f-a8b9-447b-8c6d-b0ed2df4e2fc\",                        [{\"hovertemplate\":\"Violations_Count=%{x}<br>Infraction_State=%{y}<extra></extra>\",\"legendgroup\":\"\",\"marker\":{\"color\":\"#636efa\"},\"name\":\"\",\"orientation\":\"h\",\"showlegend\":false,\"x\":[448672,418981,417092,378074,252059],\"xaxis\":\"x\",\"y\":[\"MG\",\"RJ\",\"BA\",\"SP\",\"RS\"],\"yaxis\":\"y\",\"type\":\"funnel\"}],                        {\"template\":{\"data\":{\"histogram2dcontour\":[{\"type\":\"histogram2dcontour\",\"colorbar\":{\"outlinewidth\":0,\"ticks\":\"\"},\"colorscale\":[[0.0,\"#0d0887\"],[0.1111111111111111,\"#46039f\"],[0.2222222222222222,\"#7201a8\"],[0.3333333333333333,\"#9c179e\"],[0.4444444444444444,\"#bd3786\"],[0.5555555555555556,\"#d8576b\"],[0.6666666666666666,\"#ed7953\"],[0.7777777777777778,\"#fb9f3a\"],[0.8888888888888888,\"#fdca26\"],[1.0,\"#f0f921\"]]}],\"choropleth\":[{\"type\":\"choropleth\",\"colorbar\":{\"outlinewidth\":0,\"ticks\":\"\"}}],\"histogram2d\":[{\"type\":\"histogram2d\",\"colorbar\":{\"outlinewidth\":0,\"ticks\":\"\"},\"colorscale\":[[0.0,\"#0d0887\"],[0.1111111111111111,\"#46039f\"],[0.2222222222222222,\"#7201a8\"],[0.3333333333333333,\"#9c179e\"],[0.4444444444444444,\"#bd3786\"],[0.5555555555555556,\"#d8576b\"],[0.6666666666666666,\"#ed7953\"],[0.7777777777777778,\"#fb9f3a\"],[0.8888888888888888,\"#fdca26\"],[1.0,\"#f0f921\"]]}],\"heatmap\":[{\"type\":\"heatmap\",\"colorbar\":{\"outlinewidth\":0,\"ticks\":\"\"},\"colorscale\":[[0.0,\"#0d0887\"],[0.1111111111111111,\"#46039f\"],[0.2222222222222222,\"#7201a8\"],[0.3333333333333333,\"#9c179e\"],[0.4444444444444444,\"#bd3786\"],[0.5555555555555556,\"#d8576b\"],[0.6666666666666666,\"#ed7953\"],[0.7777777777777778,\"#fb9f3a\"],[0.8888888888888888,\"#fdca26\"],[1.0,\"#f0f921\"]]}],\"heatmapgl\":[{\"type\":\"heatmapgl\",\"colorbar\":{\"outlinewidth\":0,\"ticks\":\"\"},\"colorscale\":[[0.0,\"#0d0887\"],[0.1111111111111111,\"#46039f\"],[0.2222222222222222,\"#7201a8\"],[0.3333333333333333,\"#9c179e\"],[0.4444444444444444,\"#bd3786\"],[0.5555555555555556,\"#d8576b\"],[0.6666666666666666,\"#ed7953\"],[0.7777777777777778,\"#fb9f3a\"],[0.8888888888888888,\"#fdca26\"],[1.0,\"#f0f921\"]]}],\"contourcarpet\":[{\"type\":\"contourcarpet\",\"colorbar\":{\"outlinewidth\":0,\"ticks\":\"\"}}],\"contour\":[{\"type\":\"contour\",\"colorbar\":{\"outlinewidth\":0,\"ticks\":\"\"},\"colorscale\":[[0.0,\"#0d0887\"],[0.1111111111111111,\"#46039f\"],[0.2222222222222222,\"#7201a8\"],[0.3333333333333333,\"#9c179e\"],[0.4444444444444444,\"#bd3786\"],[0.5555555555555556,\"#d8576b\"],[0.6666666666666666,\"#ed7953\"],[0.7777777777777778,\"#fb9f3a\"],[0.8888888888888888,\"#fdca26\"],[1.0,\"#f0f921\"]]}],\"surface\":[{\"type\":\"surface\",\"colorbar\":{\"outlinewidth\":0,\"ticks\":\"\"},\"colorscale\":[[0.0,\"#0d0887\"],[0.1111111111111111,\"#46039f\"],[0.2222222222222222,\"#7201a8\"],[0.3333333333333333,\"#9c179e\"],[0.4444444444444444,\"#bd3786\"],[0.5555555555555556,\"#d8576b\"],[0.6666666666666666,\"#ed7953\"],[0.7777777777777778,\"#fb9f3a\"],[0.8888888888888888,\"#fdca26\"],[1.0,\"#f0f921\"]]}],\"mesh3d\":[{\"type\":\"mesh3d\",\"colorbar\":{\"outlinewidth\":0,\"ticks\":\"\"}}],\"scatter\":[{\"fillpattern\":{\"fillmode\":\"overlay\",\"size\":10,\"solidity\":0.2},\"type\":\"scatter\"}],\"parcoords\":[{\"type\":\"parcoords\",\"line\":{\"colorbar\":{\"outlinewidth\":0,\"ticks\":\"\"}}}],\"scatterpolargl\":[{\"type\":\"scatterpolargl\",\"marker\":{\"colorbar\":{\"outlinewidth\":0,\"ticks\":\"\"}}}],\"bar\":[{\"error_x\":{\"color\":\"#2a3f5f\"},\"error_y\":{\"color\":\"#2a3f5f\"},\"marker\":{\"line\":{\"color\":\"#E5ECF6\",\"width\":0.5},\"pattern\":{\"fillmode\":\"overlay\",\"size\":10,\"solidity\":0.2}},\"type\":\"bar\"}],\"scattergeo\":[{\"type\":\"scattergeo\",\"marker\":{\"colorbar\":{\"outlinewidth\":0,\"ticks\":\"\"}}}],\"scatterpolar\":[{\"type\":\"scatterpolar\",\"marker\":{\"colorbar\":{\"outlinewidth\":0,\"ticks\":\"\"}}}],\"histogram\":[{\"marker\":{\"pattern\":{\"fillmode\":\"overlay\",\"size\":10,\"solidity\":0.2}},\"type\":\"histogram\"}],\"scattergl\":[{\"type\":\"scattergl\",\"marker\":{\"colorbar\":{\"outlinewidth\":0,\"ticks\":\"\"}}}],\"scatter3d\":[{\"type\":\"scatter3d\",\"line\":{\"colorbar\":{\"outlinewidth\":0,\"ticks\":\"\"}},\"marker\":{\"colorbar\":{\"outlinewidth\":0,\"ticks\":\"\"}}}],\"scattermapbox\":[{\"type\":\"scattermapbox\",\"marker\":{\"colorbar\":{\"outlinewidth\":0,\"ticks\":\"\"}}}],\"scatterternary\":[{\"type\":\"scatterternary\",\"marker\":{\"colorbar\":{\"outlinewidth\":0,\"ticks\":\"\"}}}],\"scattercarpet\":[{\"type\":\"scattercarpet\",\"marker\":{\"colorbar\":{\"outlinewidth\":0,\"ticks\":\"\"}}}],\"carpet\":[{\"aaxis\":{\"endlinecolor\":\"#2a3f5f\",\"gridcolor\":\"white\",\"linecolor\":\"white\",\"minorgridcolor\":\"white\",\"startlinecolor\":\"#2a3f5f\"},\"baxis\":{\"endlinecolor\":\"#2a3f5f\",\"gridcolor\":\"white\",\"linecolor\":\"white\",\"minorgridcolor\":\"white\",\"startlinecolor\":\"#2a3f5f\"},\"type\":\"carpet\"}],\"table\":[{\"cells\":{\"fill\":{\"color\":\"#EBF0F8\"},\"line\":{\"color\":\"white\"}},\"header\":{\"fill\":{\"color\":\"#C8D4E3\"},\"line\":{\"color\":\"white\"}},\"type\":\"table\"}],\"barpolar\":[{\"marker\":{\"line\":{\"color\":\"#E5ECF6\",\"width\":0.5},\"pattern\":{\"fillmode\":\"overlay\",\"size\":10,\"solidity\":0.2}},\"type\":\"barpolar\"}],\"pie\":[{\"automargin\":true,\"type\":\"pie\"}]},\"layout\":{\"autotypenumbers\":\"strict\",\"colorway\":[\"#636efa\",\"#EF553B\",\"#00cc96\",\"#ab63fa\",\"#FFA15A\",\"#19d3f3\",\"#FF6692\",\"#B6E880\",\"#FF97FF\",\"#FECB52\"],\"font\":{\"color\":\"#2a3f5f\"},\"hovermode\":\"closest\",\"hoverlabel\":{\"align\":\"left\"},\"paper_bgcolor\":\"white\",\"plot_bgcolor\":\"#E5ECF6\",\"polar\":{\"bgcolor\":\"#E5ECF6\",\"angularaxis\":{\"gridcolor\":\"white\",\"linecolor\":\"white\",\"ticks\":\"\"},\"radialaxis\":{\"gridcolor\":\"white\",\"linecolor\":\"white\",\"ticks\":\"\"}},\"ternary\":{\"bgcolor\":\"#E5ECF6\",\"aaxis\":{\"gridcolor\":\"white\",\"linecolor\":\"white\",\"ticks\":\"\"},\"baxis\":{\"gridcolor\":\"white\",\"linecolor\":\"white\",\"ticks\":\"\"},\"caxis\":{\"gridcolor\":\"white\",\"linecolor\":\"white\",\"ticks\":\"\"}},\"coloraxis\":{\"colorbar\":{\"outlinewidth\":0,\"ticks\":\"\"}},\"colorscale\":{\"sequential\":[[0.0,\"#0d0887\"],[0.1111111111111111,\"#46039f\"],[0.2222222222222222,\"#7201a8\"],[0.3333333333333333,\"#9c179e\"],[0.4444444444444444,\"#bd3786\"],[0.5555555555555556,\"#d8576b\"],[0.6666666666666666,\"#ed7953\"],[0.7777777777777778,\"#fb9f3a\"],[0.8888888888888888,\"#fdca26\"],[1.0,\"#f0f921\"]],\"sequentialminus\":[[0.0,\"#0d0887\"],[0.1111111111111111,\"#46039f\"],[0.2222222222222222,\"#7201a8\"],[0.3333333333333333,\"#9c179e\"],[0.4444444444444444,\"#bd3786\"],[0.5555555555555556,\"#d8576b\"],[0.6666666666666666,\"#ed7953\"],[0.7777777777777778,\"#fb9f3a\"],[0.8888888888888888,\"#fdca26\"],[1.0,\"#f0f921\"]],\"diverging\":[[0,\"#8e0152\"],[0.1,\"#c51b7d\"],[0.2,\"#de77ae\"],[0.3,\"#f1b6da\"],[0.4,\"#fde0ef\"],[0.5,\"#f7f7f7\"],[0.6,\"#e6f5d0\"],[0.7,\"#b8e186\"],[0.8,\"#7fbc41\"],[0.9,\"#4d9221\"],[1,\"#276419\"]]},\"xaxis\":{\"gridcolor\":\"white\",\"linecolor\":\"white\",\"ticks\":\"\",\"title\":{\"standoff\":15},\"zerolinecolor\":\"white\",\"automargin\":true,\"zerolinewidth\":2},\"yaxis\":{\"gridcolor\":\"white\",\"linecolor\":\"white\",\"ticks\":\"\",\"title\":{\"standoff\":15},\"zerolinecolor\":\"white\",\"automargin\":true,\"zerolinewidth\":2},\"scene\":{\"xaxis\":{\"backgroundcolor\":\"#E5ECF6\",\"gridcolor\":\"white\",\"linecolor\":\"white\",\"showbackground\":true,\"ticks\":\"\",\"zerolinecolor\":\"white\",\"gridwidth\":2},\"yaxis\":{\"backgroundcolor\":\"#E5ECF6\",\"gridcolor\":\"white\",\"linecolor\":\"white\",\"showbackground\":true,\"ticks\":\"\",\"zerolinecolor\":\"white\",\"gridwidth\":2},\"zaxis\":{\"backgroundcolor\":\"#E5ECF6\",\"gridcolor\":\"white\",\"linecolor\":\"white\",\"showbackground\":true,\"ticks\":\"\",\"zerolinecolor\":\"white\",\"gridwidth\":2}},\"shapedefaults\":{\"line\":{\"color\":\"#2a3f5f\"}},\"annotationdefaults\":{\"arrowcolor\":\"#2a3f5f\",\"arrowhead\":0,\"arrowwidth\":1},\"geo\":{\"bgcolor\":\"white\",\"landcolor\":\"#E5ECF6\",\"subunitcolor\":\"white\",\"showland\":true,\"showlakes\":true,\"lakecolor\":\"white\"},\"title\":{\"x\":0.05},\"mapbox\":{\"style\":\"light\"}}},\"xaxis\":{\"anchor\":\"y\",\"domain\":[0.0,1.0],\"title\":{\"text\":\"Violations_Count\"}},\"yaxis\":{\"anchor\":\"x\",\"domain\":[0.0,1.0],\"title\":{\"text\":\"Infraction_State\"}},\"legend\":{\"tracegroupgap\":0},\"title\":{\"text\":\"State Concentration of 50% Traffic Infractions\"}},                        {\"responsive\": true}                    ).then(function(){\n",
              "                            \n",
              "var gd = document.getElementById('ba53cc5f-a8b9-447b-8c6d-b0ed2df4e2fc');\n",
              "var x = new MutationObserver(function (mutations, observer) {{\n",
              "        var display = window.getComputedStyle(gd).display;\n",
              "        if (!display || display === 'none') {{\n",
              "            console.log([gd, 'removed!']);\n",
              "            Plotly.purge(gd);\n",
              "            observer.disconnect();\n",
              "        }}\n",
              "}});\n",
              "\n",
              "// Listen for the removal of the full notebook cells\n",
              "var notebookContainer = gd.closest('#notebook-container');\n",
              "if (notebookContainer) {{\n",
              "    x.observe(notebookContainer, {childList: true});\n",
              "}}\n",
              "\n",
              "// Listen for the clearing of the current output cell\n",
              "var outputEl = gd.closest('.output');\n",
              "if (outputEl) {{\n",
              "    x.observe(outputEl, {childList: true});\n",
              "}}\n",
              "\n",
              "                        })                };                            </script>        </div>\n",
              "</body>\n",
              "</html>"
            ]
          },
          "metadata": {}
        }
      ]
    },
    {
      "cell_type": "code",
      "source": [
        "px.bar(\n",
        "    df_violations_per_state,\n",
        "    x='Infraction_State',\n",
        "    y='cumulative_sum',\n",
        "    title='Accumulated Infraction by state'\n",
        ")"
      ],
      "metadata": {
        "colab": {
          "base_uri": "https://localhost:8080/",
          "height": 562
        },
        "id": "g7d2w_YEFpHk",
        "outputId": "492f3ca7-0529-48e0-da7b-b8a45babd768"
      },
      "execution_count": 44,
      "outputs": [
        {
          "output_type": "display_data",
          "data": {
            "text/html": [
              "<html>\n",
              "<head><meta charset=\"utf-8\" /></head>\n",
              "<body>\n",
              "    <div>            <script src=\"https://cdnjs.cloudflare.com/ajax/libs/mathjax/2.7.5/MathJax.js?config=TeX-AMS-MML_SVG\"></script><script type=\"text/javascript\">if (window.MathJax && window.MathJax.Hub && window.MathJax.Hub.Config) {window.MathJax.Hub.Config({SVG: {font: \"STIX-Web\"}});}</script>                <script type=\"text/javascript\">window.PlotlyConfig = {MathJaxConfig: 'local'};</script>\n",
              "        <script src=\"https://cdn.plot.ly/plotly-2.18.2.min.js\"></script>                <div id=\"91eabf5a-f26a-4dc1-b472-b314f2aa99ed\" class=\"plotly-graph-div\" style=\"height:525px; width:100%;\"></div>            <script type=\"text/javascript\">                                    window.PLOTLYENV=window.PLOTLYENV || {};                                    if (document.getElementById(\"91eabf5a-f26a-4dc1-b472-b314f2aa99ed\")) {                    Plotly.newPlot(                        \"91eabf5a-f26a-4dc1-b472-b314f2aa99ed\",                        [{\"alignmentgroup\":\"True\",\"hovertemplate\":\"Infraction_State=%{x}<br>cumulative_sum=%{y}<extra></extra>\",\"legendgroup\":\"\",\"marker\":{\"color\":\"#636efa\",\"pattern\":{\"shape\":\"\"}},\"name\":\"\",\"offsetgroup\":\"\",\"orientation\":\"v\",\"showlegend\":false,\"textposition\":\"auto\",\"x\":[\"MG\",\"RJ\",\"BA\",\"SP\",\"RS\",\"MS\",\"PR\",\"GO\",\"SC\",\"MT\",\"ES\",\"PE\",\"CE\",\"RO\",\"PI\",\"PA\",\"PB\",\"RN\",\"DF\",\"MA\",\"AL\",\"TO\",\"SE\",\"AM\",\"AP\",\"AC\",\"RR\"],\"xaxis\":\"x\",\"y\":[0.10849220279998442,0.20980490254799694,0.31066082814676643,0.402081913218715,0.4630316407380638,0.5230448482574029,0.5804400072252046,0.6361463834199447,0.6791977701490235,0.7209661268961629,0.7574768656830104,0.7904528641238364,0.8212608175556031,0.843774535893042,0.8643511352735798,0.8832024389660027,0.9020353652972067,0.920592873017512,0.9384249585844403,0.9561373494960614,0.9659540038829431,0.9751090732659449,0.9841877315154577,0.9890485435578523,0.9933348212547723,0.9970903317428049,1.0],\"yaxis\":\"y\",\"type\":\"bar\"}],                        {\"template\":{\"data\":{\"histogram2dcontour\":[{\"type\":\"histogram2dcontour\",\"colorbar\":{\"outlinewidth\":0,\"ticks\":\"\"},\"colorscale\":[[0.0,\"#0d0887\"],[0.1111111111111111,\"#46039f\"],[0.2222222222222222,\"#7201a8\"],[0.3333333333333333,\"#9c179e\"],[0.4444444444444444,\"#bd3786\"],[0.5555555555555556,\"#d8576b\"],[0.6666666666666666,\"#ed7953\"],[0.7777777777777778,\"#fb9f3a\"],[0.8888888888888888,\"#fdca26\"],[1.0,\"#f0f921\"]]}],\"choropleth\":[{\"type\":\"choropleth\",\"colorbar\":{\"outlinewidth\":0,\"ticks\":\"\"}}],\"histogram2d\":[{\"type\":\"histogram2d\",\"colorbar\":{\"outlinewidth\":0,\"ticks\":\"\"},\"colorscale\":[[0.0,\"#0d0887\"],[0.1111111111111111,\"#46039f\"],[0.2222222222222222,\"#7201a8\"],[0.3333333333333333,\"#9c179e\"],[0.4444444444444444,\"#bd3786\"],[0.5555555555555556,\"#d8576b\"],[0.6666666666666666,\"#ed7953\"],[0.7777777777777778,\"#fb9f3a\"],[0.8888888888888888,\"#fdca26\"],[1.0,\"#f0f921\"]]}],\"heatmap\":[{\"type\":\"heatmap\",\"colorbar\":{\"outlinewidth\":0,\"ticks\":\"\"},\"colorscale\":[[0.0,\"#0d0887\"],[0.1111111111111111,\"#46039f\"],[0.2222222222222222,\"#7201a8\"],[0.3333333333333333,\"#9c179e\"],[0.4444444444444444,\"#bd3786\"],[0.5555555555555556,\"#d8576b\"],[0.6666666666666666,\"#ed7953\"],[0.7777777777777778,\"#fb9f3a\"],[0.8888888888888888,\"#fdca26\"],[1.0,\"#f0f921\"]]}],\"heatmapgl\":[{\"type\":\"heatmapgl\",\"colorbar\":{\"outlinewidth\":0,\"ticks\":\"\"},\"colorscale\":[[0.0,\"#0d0887\"],[0.1111111111111111,\"#46039f\"],[0.2222222222222222,\"#7201a8\"],[0.3333333333333333,\"#9c179e\"],[0.4444444444444444,\"#bd3786\"],[0.5555555555555556,\"#d8576b\"],[0.6666666666666666,\"#ed7953\"],[0.7777777777777778,\"#fb9f3a\"],[0.8888888888888888,\"#fdca26\"],[1.0,\"#f0f921\"]]}],\"contourcarpet\":[{\"type\":\"contourcarpet\",\"colorbar\":{\"outlinewidth\":0,\"ticks\":\"\"}}],\"contour\":[{\"type\":\"contour\",\"colorbar\":{\"outlinewidth\":0,\"ticks\":\"\"},\"colorscale\":[[0.0,\"#0d0887\"],[0.1111111111111111,\"#46039f\"],[0.2222222222222222,\"#7201a8\"],[0.3333333333333333,\"#9c179e\"],[0.4444444444444444,\"#bd3786\"],[0.5555555555555556,\"#d8576b\"],[0.6666666666666666,\"#ed7953\"],[0.7777777777777778,\"#fb9f3a\"],[0.8888888888888888,\"#fdca26\"],[1.0,\"#f0f921\"]]}],\"surface\":[{\"type\":\"surface\",\"colorbar\":{\"outlinewidth\":0,\"ticks\":\"\"},\"colorscale\":[[0.0,\"#0d0887\"],[0.1111111111111111,\"#46039f\"],[0.2222222222222222,\"#7201a8\"],[0.3333333333333333,\"#9c179e\"],[0.4444444444444444,\"#bd3786\"],[0.5555555555555556,\"#d8576b\"],[0.6666666666666666,\"#ed7953\"],[0.7777777777777778,\"#fb9f3a\"],[0.8888888888888888,\"#fdca26\"],[1.0,\"#f0f921\"]]}],\"mesh3d\":[{\"type\":\"mesh3d\",\"colorbar\":{\"outlinewidth\":0,\"ticks\":\"\"}}],\"scatter\":[{\"fillpattern\":{\"fillmode\":\"overlay\",\"size\":10,\"solidity\":0.2},\"type\":\"scatter\"}],\"parcoords\":[{\"type\":\"parcoords\",\"line\":{\"colorbar\":{\"outlinewidth\":0,\"ticks\":\"\"}}}],\"scatterpolargl\":[{\"type\":\"scatterpolargl\",\"marker\":{\"colorbar\":{\"outlinewidth\":0,\"ticks\":\"\"}}}],\"bar\":[{\"error_x\":{\"color\":\"#2a3f5f\"},\"error_y\":{\"color\":\"#2a3f5f\"},\"marker\":{\"line\":{\"color\":\"#E5ECF6\",\"width\":0.5},\"pattern\":{\"fillmode\":\"overlay\",\"size\":10,\"solidity\":0.2}},\"type\":\"bar\"}],\"scattergeo\":[{\"type\":\"scattergeo\",\"marker\":{\"colorbar\":{\"outlinewidth\":0,\"ticks\":\"\"}}}],\"scatterpolar\":[{\"type\":\"scatterpolar\",\"marker\":{\"colorbar\":{\"outlinewidth\":0,\"ticks\":\"\"}}}],\"histogram\":[{\"marker\":{\"pattern\":{\"fillmode\":\"overlay\",\"size\":10,\"solidity\":0.2}},\"type\":\"histogram\"}],\"scattergl\":[{\"type\":\"scattergl\",\"marker\":{\"colorbar\":{\"outlinewidth\":0,\"ticks\":\"\"}}}],\"scatter3d\":[{\"type\":\"scatter3d\",\"line\":{\"colorbar\":{\"outlinewidth\":0,\"ticks\":\"\"}},\"marker\":{\"colorbar\":{\"outlinewidth\":0,\"ticks\":\"\"}}}],\"scattermapbox\":[{\"type\":\"scattermapbox\",\"marker\":{\"colorbar\":{\"outlinewidth\":0,\"ticks\":\"\"}}}],\"scatterternary\":[{\"type\":\"scatterternary\",\"marker\":{\"colorbar\":{\"outlinewidth\":0,\"ticks\":\"\"}}}],\"scattercarpet\":[{\"type\":\"scattercarpet\",\"marker\":{\"colorbar\":{\"outlinewidth\":0,\"ticks\":\"\"}}}],\"carpet\":[{\"aaxis\":{\"endlinecolor\":\"#2a3f5f\",\"gridcolor\":\"white\",\"linecolor\":\"white\",\"minorgridcolor\":\"white\",\"startlinecolor\":\"#2a3f5f\"},\"baxis\":{\"endlinecolor\":\"#2a3f5f\",\"gridcolor\":\"white\",\"linecolor\":\"white\",\"minorgridcolor\":\"white\",\"startlinecolor\":\"#2a3f5f\"},\"type\":\"carpet\"}],\"table\":[{\"cells\":{\"fill\":{\"color\":\"#EBF0F8\"},\"line\":{\"color\":\"white\"}},\"header\":{\"fill\":{\"color\":\"#C8D4E3\"},\"line\":{\"color\":\"white\"}},\"type\":\"table\"}],\"barpolar\":[{\"marker\":{\"line\":{\"color\":\"#E5ECF6\",\"width\":0.5},\"pattern\":{\"fillmode\":\"overlay\",\"size\":10,\"solidity\":0.2}},\"type\":\"barpolar\"}],\"pie\":[{\"automargin\":true,\"type\":\"pie\"}]},\"layout\":{\"autotypenumbers\":\"strict\",\"colorway\":[\"#636efa\",\"#EF553B\",\"#00cc96\",\"#ab63fa\",\"#FFA15A\",\"#19d3f3\",\"#FF6692\",\"#B6E880\",\"#FF97FF\",\"#FECB52\"],\"font\":{\"color\":\"#2a3f5f\"},\"hovermode\":\"closest\",\"hoverlabel\":{\"align\":\"left\"},\"paper_bgcolor\":\"white\",\"plot_bgcolor\":\"#E5ECF6\",\"polar\":{\"bgcolor\":\"#E5ECF6\",\"angularaxis\":{\"gridcolor\":\"white\",\"linecolor\":\"white\",\"ticks\":\"\"},\"radialaxis\":{\"gridcolor\":\"white\",\"linecolor\":\"white\",\"ticks\":\"\"}},\"ternary\":{\"bgcolor\":\"#E5ECF6\",\"aaxis\":{\"gridcolor\":\"white\",\"linecolor\":\"white\",\"ticks\":\"\"},\"baxis\":{\"gridcolor\":\"white\",\"linecolor\":\"white\",\"ticks\":\"\"},\"caxis\":{\"gridcolor\":\"white\",\"linecolor\":\"white\",\"ticks\":\"\"}},\"coloraxis\":{\"colorbar\":{\"outlinewidth\":0,\"ticks\":\"\"}},\"colorscale\":{\"sequential\":[[0.0,\"#0d0887\"],[0.1111111111111111,\"#46039f\"],[0.2222222222222222,\"#7201a8\"],[0.3333333333333333,\"#9c179e\"],[0.4444444444444444,\"#bd3786\"],[0.5555555555555556,\"#d8576b\"],[0.6666666666666666,\"#ed7953\"],[0.7777777777777778,\"#fb9f3a\"],[0.8888888888888888,\"#fdca26\"],[1.0,\"#f0f921\"]],\"sequentialminus\":[[0.0,\"#0d0887\"],[0.1111111111111111,\"#46039f\"],[0.2222222222222222,\"#7201a8\"],[0.3333333333333333,\"#9c179e\"],[0.4444444444444444,\"#bd3786\"],[0.5555555555555556,\"#d8576b\"],[0.6666666666666666,\"#ed7953\"],[0.7777777777777778,\"#fb9f3a\"],[0.8888888888888888,\"#fdca26\"],[1.0,\"#f0f921\"]],\"diverging\":[[0,\"#8e0152\"],[0.1,\"#c51b7d\"],[0.2,\"#de77ae\"],[0.3,\"#f1b6da\"],[0.4,\"#fde0ef\"],[0.5,\"#f7f7f7\"],[0.6,\"#e6f5d0\"],[0.7,\"#b8e186\"],[0.8,\"#7fbc41\"],[0.9,\"#4d9221\"],[1,\"#276419\"]]},\"xaxis\":{\"gridcolor\":\"white\",\"linecolor\":\"white\",\"ticks\":\"\",\"title\":{\"standoff\":15},\"zerolinecolor\":\"white\",\"automargin\":true,\"zerolinewidth\":2},\"yaxis\":{\"gridcolor\":\"white\",\"linecolor\":\"white\",\"ticks\":\"\",\"title\":{\"standoff\":15},\"zerolinecolor\":\"white\",\"automargin\":true,\"zerolinewidth\":2},\"scene\":{\"xaxis\":{\"backgroundcolor\":\"#E5ECF6\",\"gridcolor\":\"white\",\"linecolor\":\"white\",\"showbackground\":true,\"ticks\":\"\",\"zerolinecolor\":\"white\",\"gridwidth\":2},\"yaxis\":{\"backgroundcolor\":\"#E5ECF6\",\"gridcolor\":\"white\",\"linecolor\":\"white\",\"showbackground\":true,\"ticks\":\"\",\"zerolinecolor\":\"white\",\"gridwidth\":2},\"zaxis\":{\"backgroundcolor\":\"#E5ECF6\",\"gridcolor\":\"white\",\"linecolor\":\"white\",\"showbackground\":true,\"ticks\":\"\",\"zerolinecolor\":\"white\",\"gridwidth\":2}},\"shapedefaults\":{\"line\":{\"color\":\"#2a3f5f\"}},\"annotationdefaults\":{\"arrowcolor\":\"#2a3f5f\",\"arrowhead\":0,\"arrowwidth\":1},\"geo\":{\"bgcolor\":\"white\",\"landcolor\":\"#E5ECF6\",\"subunitcolor\":\"white\",\"showland\":true,\"showlakes\":true,\"lakecolor\":\"white\"},\"title\":{\"x\":0.05},\"mapbox\":{\"style\":\"light\"}}},\"xaxis\":{\"anchor\":\"y\",\"domain\":[0.0,1.0],\"title\":{\"text\":\"Infraction_State\"}},\"yaxis\":{\"anchor\":\"x\",\"domain\":[0.0,1.0],\"title\":{\"text\":\"cumulative_sum\"}},\"legend\":{\"tracegroupgap\":0},\"title\":{\"text\":\"Accumulated Infraction by state\"},\"barmode\":\"relative\"},                        {\"responsive\": true}                    ).then(function(){\n",
              "                            \n",
              "var gd = document.getElementById('91eabf5a-f26a-4dc1-b472-b314f2aa99ed');\n",
              "var x = new MutationObserver(function (mutations, observer) {{\n",
              "        var display = window.getComputedStyle(gd).display;\n",
              "        if (!display || display === 'none') {{\n",
              "            console.log([gd, 'removed!']);\n",
              "            Plotly.purge(gd);\n",
              "            observer.disconnect();\n",
              "        }}\n",
              "}});\n",
              "\n",
              "// Listen for the removal of the full notebook cells\n",
              "var notebookContainer = gd.closest('#notebook-container');\n",
              "if (notebookContainer) {{\n",
              "    x.observe(notebookContainer, {childList: true});\n",
              "}}\n",
              "\n",
              "// Listen for the clearing of the current output cell\n",
              "var outputEl = gd.closest('.output');\n",
              "if (outputEl) {{\n",
              "    x.observe(outputEl, {childList: true});\n",
              "}}\n",
              "\n",
              "                        })                };                            </script>        </div>\n",
              "</body>\n",
              "</html>"
            ]
          },
          "metadata": {}
        }
      ]
    },
    {
      "cell_type": "code",
      "source": [
        "TV22.printSchema()"
      ],
      "metadata": {
        "colab": {
          "base_uri": "https://localhost:8080/"
        },
        "id": "A9Bb36kJJJkC",
        "outputId": "c291790b-9b84-4a85-9fbf-45b8dd1ec1a1"
      },
      "execution_count": 45,
      "outputs": [
        {
          "output_type": "stream",
          "name": "stdout",
          "text": [
            "root\n",
            " |-- Auto_Number: string (nullable = true)\n",
            " |-- Date_of_Violation_DD/MM/YYYY: date (nullable = true)\n",
            " |-- Approach_Indicator: string (nullable = true)\n",
            " |-- Auto_Signature: string (nullable = true)\n",
            " |-- Traffic_Direction: string (nullable = true)\n",
            " |-- Infraction_State: string (nullable = true)\n",
            " |-- Infraction_BR: string (nullable = true)\n",
            " |-- Infraction_Km: string (nullable = true)\n",
            " |-- City: string (nullable = true)\n",
            " |-- Foreign_Vehicle_Indicator: string (nullable = true)\n",
            " |-- License_Plate_State: string (nullable = true)\n",
            " |-- Vehicle_Species_Description: string (nullable = true)\n",
            " |-- Vehicle_Brand_Description: string (nullable = true)\n",
            " |-- Vehicle_Type_Description: string (nullable = true)\n",
            " |-- Vehicle_Model_Description: string (nullable = true)\n",
            " |-- Infraction_Code: string (nullable = true)\n",
            " |-- Abbreviated_Infraction_Description: string (nullable = true)\n",
            " |-- Infraction_Framing: string (nullable = true)\n",
            " |-- Infraction_Start_Vigency: string (nullable = true)\n",
            " |-- Infraction_End_Vigency: string (nullable = true)\n",
            " |-- Infraction_Measurement: string (nullable = true)\n",
            " |-- Infraction_Time: string (nullable = true)\n",
            " |-- Considered_Measurement: string (nullable = true)\n",
            " |-- Verified_Excess: string (nullable = true)\n",
            " |-- Infraction_Quantity: string (nullable = true)\n",
            "\n"
          ]
        }
      ]
    },
    {
      "cell_type": "markdown",
      "source": [
        "### Checking the number of infractions for each month on every state\n",
        "We want to check if in some month of the year some states register more infractions that others.\n",
        "\n",
        "We will generate heatmap with the data."
      ],
      "metadata": {
        "id": "yAhjuGJKFL8R"
      }
    },
    {
      "cell_type": "code",
      "source": [
        "# Creating a query, to get the contect from the temp view\n",
        "query = \"SELECT * \\\n",
        "        FROM \\\n",
        "            TV22\"\n",
        "\n",
        "query = \"SELECT\\\n",
        "            `Infraction_State` AS `State`, \\\n",
        "            COUNT(*) AS `Violations_Count`, \\\n",
        "            MONTH(`Date_of_Violation_DD/MM/YYYY`) AS `Month` \\\n",
        "        FROM \\\n",
        "            TV22 \\\n",
        "        GROUP BY \\\n",
        "            `Infraction_State`, `Month` \\\n",
        "        ORDER BY \\\n",
        "            `Month`\"\n",
        "\n",
        "# run the query and storying in another variable\n",
        "violations_month_state = spark.sql(query)\n",
        "\n",
        "# see result\n",
        "violations_month_state.show()"
      ],
      "metadata": {
        "colab": {
          "base_uri": "https://localhost:8080/"
        },
        "id": "YJ0VCwwJIzzV",
        "outputId": "466ebee4-58d9-4006-f63f-6b015350814d"
      },
      "execution_count": 46,
      "outputs": [
        {
          "output_type": "stream",
          "name": "stdout",
          "text": [
            "+-----+----------------+-----+\n",
            "|State|Violations_Count|Month|\n",
            "+-----+----------------+-----+\n",
            "|   RS|           21648|    1|\n",
            "|   RN|            5390|    1|\n",
            "|   RR|             931|    1|\n",
            "|   SP|           35375|    1|\n",
            "|   PR|           28441|    1|\n",
            "|   AC|            1935|    1|\n",
            "|   DF|            3789|    1|\n",
            "|   MS|           19957|    1|\n",
            "|   ES|            9814|    1|\n",
            "|   AP|            1065|    1|\n",
            "|   PB|            8921|    1|\n",
            "|   BA|           29613|    1|\n",
            "|   MT|           15282|    1|\n",
            "|   TO|            3320|    1|\n",
            "|   SE|            3347|    1|\n",
            "|   CE|           11819|    1|\n",
            "|   MA|            6152|    1|\n",
            "|   MG|           25886|    1|\n",
            "|   RJ|           47616|    1|\n",
            "|   PI|            6897|    1|\n",
            "+-----+----------------+-----+\n",
            "only showing top 20 rows\n",
            "\n"
          ]
        }
      ]
    },
    {
      "cell_type": "code",
      "source": [
        "# Perform the pivot operation\n",
        "pivot_violations_month_state = violations_month_state.groupBy(\"Month\").pivot(\"State\").sum(\"Violations_Count\")\n",
        "\n",
        "# Show the resulting DataFrame\n",
        "pivot_violations_month_state.show()"
      ],
      "metadata": {
        "colab": {
          "base_uri": "https://localhost:8080/"
        },
        "id": "C6IBPOFbMoRS",
        "outputId": "1459352c-7817-459b-ec8f-2c6090c5e236"
      },
      "execution_count": 47,
      "outputs": [
        {
          "output_type": "stream",
          "name": "stdout",
          "text": [
            "+-----+----+----+----+----+-----+-----+-----+-----+-----+----+-----+-----+-----+----+----+-----+-----+-----+-----+----+----+----+-----+-----+----+-----+----+\n",
            "|Month|  AC|  AL|  AM|  AP|   BA|   CE|   DF|   ES|   GO|  MA|   MG|   MS|   MT|  PA|  PB|   PE|   PI|   PR|   RJ|  RN|  RO|  RR|   RS|   SC|  SE|   SP|  TO|\n",
            "+-----+----+----+----+----+-----+-----+-----+-----+-----+----+-----+-----+-----+----+----+-----+-----+-----+-----+----+----+----+-----+-----+----+-----+----+\n",
            "|   12| 992|3353|1881|2441|36934| 7253| 5360| 6001|18423|7123|39532|32609|17395|6727|5533|10972| 5969|19881|25031|7346|6909|1090|30135|16466|2932|39002|3575|\n",
            "|    1|1935|4145|1960|1065|29613|11819| 3789| 9814|12965|6152|25886|19957|15282|4518|8921| 9599| 6897|28441|47616|5390|7160| 931|21648| 9393|3347|35375|3320|\n",
            "|    6|1199|2133|1780|1048|33048| 7611| 7566|15296|18386|4014|39351|15812|14364|5398|5165| 9545| 5515|12865|47713|5028|7654| 610|15623|14244|1053|29731|3272|\n",
            "|    3|1626|3892|1451|1136|38322|12586| 7749| 9687|26626|7029|38961|22607|15729|6392|7931|14336| 8104|25538|45218|7639|9425|1255|23029|14372|3806|34265|3950|\n",
            "|    5|1056|2950|1658|1599|28583|11562| 9927|14337|22472|4799|41442|15193|16188|7843|6707|14201|10491|18577|41165|6086|8190| 703|19892|17870|3193|21472|3518|\n",
            "|    9|1082|4449|1801|1626|34947|10264| 3117|16495|17573|6990|41478|19202|14088|6303|6126|10821| 6535|15283|20197|7185|9287|1013|19967|16094|3539|30824|2282|\n",
            "|    4|1178|4175|2049|1670|42969|15011|13708|12860|25979|5965|51360|23967|14066|6836|7465|13093| 8156|21734|48050|6544|8750|1523|23871|17591|3901|22893|3168|\n",
            "|    8|1109|2560|1520|1177|34006|10619| 3562|15743|17892|7213|37185|19180|13121|6465|6425| 9846| 6136|16044|22501|6374|9161| 907|18305|14365|2660|31345|2702|\n",
            "|    7|1491|1610|1450| 876|32852| 6897| 8809|14789|18359|5540|29557|19015|12435|6650|4797| 7816| 5585|16983|36345|5192|6754| 538|14714|12415|2429|31650|2698|\n",
            "|   10|1339|3767|1361|1827|41016|11813| 3465|16637|16130|7777|40813|19403|15057|8147|7186|11859| 6570|17804|24220|7429|7893| 921|21528|17167|3874|35017|3019|\n",
            "|   11| 655|3121|1631|1971|27145| 8432| 2187|11161|13768|4749|32376|20275| 9131|5757|4434|11266| 4508|17306|17399|5965|3558|1253|18383|14877|2936|28798|2983|\n",
            "|    2|1869|4442|1560|1290|37657|13540| 4506| 8171|21802|5899|30731|20966|15878|6924|7194|13019|10629|26903|43526|6567|8365|1289|24964|13186|3875|37702|3374|\n",
            "+-----+----+----+----+----+-----+-----+-----+-----+-----+----+-----+-----+-----+----+----+-----+-----+-----+-----+----+----+----+-----+-----+----+-----+----+\n",
            "\n"
          ]
        }
      ]
    },
    {
      "cell_type": "code",
      "source": [
        "# Import pandas lib\n",
        "import pandas as pd\n",
        "\n",
        "# Converting Spark Dataframe to Pandas Dataframe\n",
        "df_pivot_violations_month_state = pivot_violations_month_state.toPandas()"
      ],
      "metadata": {
        "id": "S5jiEQj0NdKU"
      },
      "execution_count": 48,
      "outputs": []
    },
    {
      "cell_type": "code",
      "source": [
        "df_pivot_violations_month_state"
      ],
      "metadata": {
        "colab": {
          "base_uri": "https://localhost:8080/",
          "height": 519
        },
        "id": "mmH6PB-XN2j6",
        "outputId": "dc00d40d-f349-4022-d5ce-e306bdd7d592"
      },
      "execution_count": 49,
      "outputs": [
        {
          "output_type": "execute_result",
          "data": {
            "text/plain": [
              "    Month    AC    AL    AM    AP     BA     CE     DF     ES     GO  ...  \\\n",
              "0      12   992  3353  1881  2441  36934   7253   5360   6001  18423  ...   \n",
              "1       1  1935  4145  1960  1065  29613  11819   3789   9814  12965  ...   \n",
              "2       6  1199  2133  1780  1048  33048   7611   7566  15296  18386  ...   \n",
              "3       3  1626  3892  1451  1136  38322  12586   7749   9687  26626  ...   \n",
              "4       5  1056  2950  1658  1599  28583  11562   9927  14337  22472  ...   \n",
              "5       9  1082  4449  1801  1626  34947  10264   3117  16495  17573  ...   \n",
              "6       4  1178  4175  2049  1670  42969  15011  13708  12860  25979  ...   \n",
              "7       8  1109  2560  1520  1177  34006  10619   3562  15743  17892  ...   \n",
              "8       7  1491  1610  1450   876  32852   6897   8809  14789  18359  ...   \n",
              "9      10  1339  3767  1361  1827  41016  11813   3465  16637  16130  ...   \n",
              "10     11   655  3121  1631  1971  27145   8432   2187  11161  13768  ...   \n",
              "11      2  1869  4442  1560  1290  37657  13540   4506   8171  21802  ...   \n",
              "\n",
              "       PR     RJ    RN    RO    RR     RS     SC    SE     SP    TO  \n",
              "0   19881  25031  7346  6909  1090  30135  16466  2932  39002  3575  \n",
              "1   28441  47616  5390  7160   931  21648   9393  3347  35375  3320  \n",
              "2   12865  47713  5028  7654   610  15623  14244  1053  29731  3272  \n",
              "3   25538  45218  7639  9425  1255  23029  14372  3806  34265  3950  \n",
              "4   18577  41165  6086  8190   703  19892  17870  3193  21472  3518  \n",
              "5   15283  20197  7185  9287  1013  19967  16094  3539  30824  2282  \n",
              "6   21734  48050  6544  8750  1523  23871  17591  3901  22893  3168  \n",
              "7   16044  22501  6374  9161   907  18305  14365  2660  31345  2702  \n",
              "8   16983  36345  5192  6754   538  14714  12415  2429  31650  2698  \n",
              "9   17804  24220  7429  7893   921  21528  17167  3874  35017  3019  \n",
              "10  17306  17399  5965  3558  1253  18383  14877  2936  28798  2983  \n",
              "11  26903  43526  6567  8365  1289  24964  13186  3875  37702  3374  \n",
              "\n",
              "[12 rows x 28 columns]"
            ],
            "text/html": [
              "\n",
              "  <div id=\"df-031206bf-2769-4f74-90eb-24a40f85a562\">\n",
              "    <div class=\"colab-df-container\">\n",
              "      <div>\n",
              "<style scoped>\n",
              "    .dataframe tbody tr th:only-of-type {\n",
              "        vertical-align: middle;\n",
              "    }\n",
              "\n",
              "    .dataframe tbody tr th {\n",
              "        vertical-align: top;\n",
              "    }\n",
              "\n",
              "    .dataframe thead th {\n",
              "        text-align: right;\n",
              "    }\n",
              "</style>\n",
              "<table border=\"1\" class=\"dataframe\">\n",
              "  <thead>\n",
              "    <tr style=\"text-align: right;\">\n",
              "      <th></th>\n",
              "      <th>Month</th>\n",
              "      <th>AC</th>\n",
              "      <th>AL</th>\n",
              "      <th>AM</th>\n",
              "      <th>AP</th>\n",
              "      <th>BA</th>\n",
              "      <th>CE</th>\n",
              "      <th>DF</th>\n",
              "      <th>ES</th>\n",
              "      <th>GO</th>\n",
              "      <th>...</th>\n",
              "      <th>PR</th>\n",
              "      <th>RJ</th>\n",
              "      <th>RN</th>\n",
              "      <th>RO</th>\n",
              "      <th>RR</th>\n",
              "      <th>RS</th>\n",
              "      <th>SC</th>\n",
              "      <th>SE</th>\n",
              "      <th>SP</th>\n",
              "      <th>TO</th>\n",
              "    </tr>\n",
              "  </thead>\n",
              "  <tbody>\n",
              "    <tr>\n",
              "      <th>0</th>\n",
              "      <td>12</td>\n",
              "      <td>992</td>\n",
              "      <td>3353</td>\n",
              "      <td>1881</td>\n",
              "      <td>2441</td>\n",
              "      <td>36934</td>\n",
              "      <td>7253</td>\n",
              "      <td>5360</td>\n",
              "      <td>6001</td>\n",
              "      <td>18423</td>\n",
              "      <td>...</td>\n",
              "      <td>19881</td>\n",
              "      <td>25031</td>\n",
              "      <td>7346</td>\n",
              "      <td>6909</td>\n",
              "      <td>1090</td>\n",
              "      <td>30135</td>\n",
              "      <td>16466</td>\n",
              "      <td>2932</td>\n",
              "      <td>39002</td>\n",
              "      <td>3575</td>\n",
              "    </tr>\n",
              "    <tr>\n",
              "      <th>1</th>\n",
              "      <td>1</td>\n",
              "      <td>1935</td>\n",
              "      <td>4145</td>\n",
              "      <td>1960</td>\n",
              "      <td>1065</td>\n",
              "      <td>29613</td>\n",
              "      <td>11819</td>\n",
              "      <td>3789</td>\n",
              "      <td>9814</td>\n",
              "      <td>12965</td>\n",
              "      <td>...</td>\n",
              "      <td>28441</td>\n",
              "      <td>47616</td>\n",
              "      <td>5390</td>\n",
              "      <td>7160</td>\n",
              "      <td>931</td>\n",
              "      <td>21648</td>\n",
              "      <td>9393</td>\n",
              "      <td>3347</td>\n",
              "      <td>35375</td>\n",
              "      <td>3320</td>\n",
              "    </tr>\n",
              "    <tr>\n",
              "      <th>2</th>\n",
              "      <td>6</td>\n",
              "      <td>1199</td>\n",
              "      <td>2133</td>\n",
              "      <td>1780</td>\n",
              "      <td>1048</td>\n",
              "      <td>33048</td>\n",
              "      <td>7611</td>\n",
              "      <td>7566</td>\n",
              "      <td>15296</td>\n",
              "      <td>18386</td>\n",
              "      <td>...</td>\n",
              "      <td>12865</td>\n",
              "      <td>47713</td>\n",
              "      <td>5028</td>\n",
              "      <td>7654</td>\n",
              "      <td>610</td>\n",
              "      <td>15623</td>\n",
              "      <td>14244</td>\n",
              "      <td>1053</td>\n",
              "      <td>29731</td>\n",
              "      <td>3272</td>\n",
              "    </tr>\n",
              "    <tr>\n",
              "      <th>3</th>\n",
              "      <td>3</td>\n",
              "      <td>1626</td>\n",
              "      <td>3892</td>\n",
              "      <td>1451</td>\n",
              "      <td>1136</td>\n",
              "      <td>38322</td>\n",
              "      <td>12586</td>\n",
              "      <td>7749</td>\n",
              "      <td>9687</td>\n",
              "      <td>26626</td>\n",
              "      <td>...</td>\n",
              "      <td>25538</td>\n",
              "      <td>45218</td>\n",
              "      <td>7639</td>\n",
              "      <td>9425</td>\n",
              "      <td>1255</td>\n",
              "      <td>23029</td>\n",
              "      <td>14372</td>\n",
              "      <td>3806</td>\n",
              "      <td>34265</td>\n",
              "      <td>3950</td>\n",
              "    </tr>\n",
              "    <tr>\n",
              "      <th>4</th>\n",
              "      <td>5</td>\n",
              "      <td>1056</td>\n",
              "      <td>2950</td>\n",
              "      <td>1658</td>\n",
              "      <td>1599</td>\n",
              "      <td>28583</td>\n",
              "      <td>11562</td>\n",
              "      <td>9927</td>\n",
              "      <td>14337</td>\n",
              "      <td>22472</td>\n",
              "      <td>...</td>\n",
              "      <td>18577</td>\n",
              "      <td>41165</td>\n",
              "      <td>6086</td>\n",
              "      <td>8190</td>\n",
              "      <td>703</td>\n",
              "      <td>19892</td>\n",
              "      <td>17870</td>\n",
              "      <td>3193</td>\n",
              "      <td>21472</td>\n",
              "      <td>3518</td>\n",
              "    </tr>\n",
              "    <tr>\n",
              "      <th>5</th>\n",
              "      <td>9</td>\n",
              "      <td>1082</td>\n",
              "      <td>4449</td>\n",
              "      <td>1801</td>\n",
              "      <td>1626</td>\n",
              "      <td>34947</td>\n",
              "      <td>10264</td>\n",
              "      <td>3117</td>\n",
              "      <td>16495</td>\n",
              "      <td>17573</td>\n",
              "      <td>...</td>\n",
              "      <td>15283</td>\n",
              "      <td>20197</td>\n",
              "      <td>7185</td>\n",
              "      <td>9287</td>\n",
              "      <td>1013</td>\n",
              "      <td>19967</td>\n",
              "      <td>16094</td>\n",
              "      <td>3539</td>\n",
              "      <td>30824</td>\n",
              "      <td>2282</td>\n",
              "    </tr>\n",
              "    <tr>\n",
              "      <th>6</th>\n",
              "      <td>4</td>\n",
              "      <td>1178</td>\n",
              "      <td>4175</td>\n",
              "      <td>2049</td>\n",
              "      <td>1670</td>\n",
              "      <td>42969</td>\n",
              "      <td>15011</td>\n",
              "      <td>13708</td>\n",
              "      <td>12860</td>\n",
              "      <td>25979</td>\n",
              "      <td>...</td>\n",
              "      <td>21734</td>\n",
              "      <td>48050</td>\n",
              "      <td>6544</td>\n",
              "      <td>8750</td>\n",
              "      <td>1523</td>\n",
              "      <td>23871</td>\n",
              "      <td>17591</td>\n",
              "      <td>3901</td>\n",
              "      <td>22893</td>\n",
              "      <td>3168</td>\n",
              "    </tr>\n",
              "    <tr>\n",
              "      <th>7</th>\n",
              "      <td>8</td>\n",
              "      <td>1109</td>\n",
              "      <td>2560</td>\n",
              "      <td>1520</td>\n",
              "      <td>1177</td>\n",
              "      <td>34006</td>\n",
              "      <td>10619</td>\n",
              "      <td>3562</td>\n",
              "      <td>15743</td>\n",
              "      <td>17892</td>\n",
              "      <td>...</td>\n",
              "      <td>16044</td>\n",
              "      <td>22501</td>\n",
              "      <td>6374</td>\n",
              "      <td>9161</td>\n",
              "      <td>907</td>\n",
              "      <td>18305</td>\n",
              "      <td>14365</td>\n",
              "      <td>2660</td>\n",
              "      <td>31345</td>\n",
              "      <td>2702</td>\n",
              "    </tr>\n",
              "    <tr>\n",
              "      <th>8</th>\n",
              "      <td>7</td>\n",
              "      <td>1491</td>\n",
              "      <td>1610</td>\n",
              "      <td>1450</td>\n",
              "      <td>876</td>\n",
              "      <td>32852</td>\n",
              "      <td>6897</td>\n",
              "      <td>8809</td>\n",
              "      <td>14789</td>\n",
              "      <td>18359</td>\n",
              "      <td>...</td>\n",
              "      <td>16983</td>\n",
              "      <td>36345</td>\n",
              "      <td>5192</td>\n",
              "      <td>6754</td>\n",
              "      <td>538</td>\n",
              "      <td>14714</td>\n",
              "      <td>12415</td>\n",
              "      <td>2429</td>\n",
              "      <td>31650</td>\n",
              "      <td>2698</td>\n",
              "    </tr>\n",
              "    <tr>\n",
              "      <th>9</th>\n",
              "      <td>10</td>\n",
              "      <td>1339</td>\n",
              "      <td>3767</td>\n",
              "      <td>1361</td>\n",
              "      <td>1827</td>\n",
              "      <td>41016</td>\n",
              "      <td>11813</td>\n",
              "      <td>3465</td>\n",
              "      <td>16637</td>\n",
              "      <td>16130</td>\n",
              "      <td>...</td>\n",
              "      <td>17804</td>\n",
              "      <td>24220</td>\n",
              "      <td>7429</td>\n",
              "      <td>7893</td>\n",
              "      <td>921</td>\n",
              "      <td>21528</td>\n",
              "      <td>17167</td>\n",
              "      <td>3874</td>\n",
              "      <td>35017</td>\n",
              "      <td>3019</td>\n",
              "    </tr>\n",
              "    <tr>\n",
              "      <th>10</th>\n",
              "      <td>11</td>\n",
              "      <td>655</td>\n",
              "      <td>3121</td>\n",
              "      <td>1631</td>\n",
              "      <td>1971</td>\n",
              "      <td>27145</td>\n",
              "      <td>8432</td>\n",
              "      <td>2187</td>\n",
              "      <td>11161</td>\n",
              "      <td>13768</td>\n",
              "      <td>...</td>\n",
              "      <td>17306</td>\n",
              "      <td>17399</td>\n",
              "      <td>5965</td>\n",
              "      <td>3558</td>\n",
              "      <td>1253</td>\n",
              "      <td>18383</td>\n",
              "      <td>14877</td>\n",
              "      <td>2936</td>\n",
              "      <td>28798</td>\n",
              "      <td>2983</td>\n",
              "    </tr>\n",
              "    <tr>\n",
              "      <th>11</th>\n",
              "      <td>2</td>\n",
              "      <td>1869</td>\n",
              "      <td>4442</td>\n",
              "      <td>1560</td>\n",
              "      <td>1290</td>\n",
              "      <td>37657</td>\n",
              "      <td>13540</td>\n",
              "      <td>4506</td>\n",
              "      <td>8171</td>\n",
              "      <td>21802</td>\n",
              "      <td>...</td>\n",
              "      <td>26903</td>\n",
              "      <td>43526</td>\n",
              "      <td>6567</td>\n",
              "      <td>8365</td>\n",
              "      <td>1289</td>\n",
              "      <td>24964</td>\n",
              "      <td>13186</td>\n",
              "      <td>3875</td>\n",
              "      <td>37702</td>\n",
              "      <td>3374</td>\n",
              "    </tr>\n",
              "  </tbody>\n",
              "</table>\n",
              "<p>12 rows × 28 columns</p>\n",
              "</div>\n",
              "      <button class=\"colab-df-convert\" onclick=\"convertToInteractive('df-031206bf-2769-4f74-90eb-24a40f85a562')\"\n",
              "              title=\"Convert this dataframe to an interactive table.\"\n",
              "              style=\"display:none;\">\n",
              "        \n",
              "  <svg xmlns=\"http://www.w3.org/2000/svg\" height=\"24px\"viewBox=\"0 0 24 24\"\n",
              "       width=\"24px\">\n",
              "    <path d=\"M0 0h24v24H0V0z\" fill=\"none\"/>\n",
              "    <path d=\"M18.56 5.44l.94 2.06.94-2.06 2.06-.94-2.06-.94-.94-2.06-.94 2.06-2.06.94zm-11 1L8.5 8.5l.94-2.06 2.06-.94-2.06-.94L8.5 2.5l-.94 2.06-2.06.94zm10 10l.94 2.06.94-2.06 2.06-.94-2.06-.94-.94-2.06-.94 2.06-2.06.94z\"/><path d=\"M17.41 7.96l-1.37-1.37c-.4-.4-.92-.59-1.43-.59-.52 0-1.04.2-1.43.59L10.3 9.45l-7.72 7.72c-.78.78-.78 2.05 0 2.83L4 21.41c.39.39.9.59 1.41.59.51 0 1.02-.2 1.41-.59l7.78-7.78 2.81-2.81c.8-.78.8-2.07 0-2.86zM5.41 20L4 18.59l7.72-7.72 1.47 1.35L5.41 20z\"/>\n",
              "  </svg>\n",
              "      </button>\n",
              "      \n",
              "  <style>\n",
              "    .colab-df-container {\n",
              "      display:flex;\n",
              "      flex-wrap:wrap;\n",
              "      gap: 12px;\n",
              "    }\n",
              "\n",
              "    .colab-df-convert {\n",
              "      background-color: #E8F0FE;\n",
              "      border: none;\n",
              "      border-radius: 50%;\n",
              "      cursor: pointer;\n",
              "      display: none;\n",
              "      fill: #1967D2;\n",
              "      height: 32px;\n",
              "      padding: 0 0 0 0;\n",
              "      width: 32px;\n",
              "    }\n",
              "\n",
              "    .colab-df-convert:hover {\n",
              "      background-color: #E2EBFA;\n",
              "      box-shadow: 0px 1px 2px rgba(60, 64, 67, 0.3), 0px 1px 3px 1px rgba(60, 64, 67, 0.15);\n",
              "      fill: #174EA6;\n",
              "    }\n",
              "\n",
              "    [theme=dark] .colab-df-convert {\n",
              "      background-color: #3B4455;\n",
              "      fill: #D2E3FC;\n",
              "    }\n",
              "\n",
              "    [theme=dark] .colab-df-convert:hover {\n",
              "      background-color: #434B5C;\n",
              "      box-shadow: 0px 1px 3px 1px rgba(0, 0, 0, 0.15);\n",
              "      filter: drop-shadow(0px 1px 2px rgba(0, 0, 0, 0.3));\n",
              "      fill: #FFFFFF;\n",
              "    }\n",
              "  </style>\n",
              "\n",
              "      <script>\n",
              "        const buttonEl =\n",
              "          document.querySelector('#df-031206bf-2769-4f74-90eb-24a40f85a562 button.colab-df-convert');\n",
              "        buttonEl.style.display =\n",
              "          google.colab.kernel.accessAllowed ? 'block' : 'none';\n",
              "\n",
              "        async function convertToInteractive(key) {\n",
              "          const element = document.querySelector('#df-031206bf-2769-4f74-90eb-24a40f85a562');\n",
              "          const dataTable =\n",
              "            await google.colab.kernel.invokeFunction('convertToInteractive',\n",
              "                                                     [key], {});\n",
              "          if (!dataTable) return;\n",
              "\n",
              "          const docLinkHtml = 'Like what you see? Visit the ' +\n",
              "            '<a target=\"_blank\" href=https://colab.research.google.com/notebooks/data_table.ipynb>data table notebook</a>'\n",
              "            + ' to learn more about interactive tables.';\n",
              "          element.innerHTML = '';\n",
              "          dataTable['output_type'] = 'display_data';\n",
              "          await google.colab.output.renderOutput(dataTable, element);\n",
              "          const docLink = document.createElement('div');\n",
              "          docLink.innerHTML = docLinkHtml;\n",
              "          element.appendChild(docLink);\n",
              "        }\n",
              "      </script>\n",
              "    </div>\n",
              "  </div>\n",
              "  "
            ]
          },
          "metadata": {},
          "execution_count": 49
        }
      ]
    },
    {
      "cell_type": "code",
      "source": [
        "px.imshow(\n",
        "    df_pivot_violations_month_state,\n",
        "    title=' Heatmap | Monthly Traffic Violations by State 2022')"
      ],
      "metadata": {
        "colab": {
          "base_uri": "https://localhost:8080/",
          "height": 562
        },
        "id": "FwaYNYo2NW51",
        "outputId": "1cf05c43-beb5-41c4-db24-e040f764d8a3"
      },
      "execution_count": 50,
      "outputs": [
        {
          "output_type": "display_data",
          "data": {
            "text/html": [
              "<html>\n",
              "<head><meta charset=\"utf-8\" /></head>\n",
              "<body>\n",
              "    <div>            <script src=\"https://cdnjs.cloudflare.com/ajax/libs/mathjax/2.7.5/MathJax.js?config=TeX-AMS-MML_SVG\"></script><script type=\"text/javascript\">if (window.MathJax && window.MathJax.Hub && window.MathJax.Hub.Config) {window.MathJax.Hub.Config({SVG: {font: \"STIX-Web\"}});}</script>                <script type=\"text/javascript\">window.PlotlyConfig = {MathJaxConfig: 'local'};</script>\n",
              "        <script src=\"https://cdn.plot.ly/plotly-2.18.2.min.js\"></script>                <div id=\"a29e3158-2a2f-490d-8d4f-8b861dd836b5\" class=\"plotly-graph-div\" style=\"height:525px; width:100%;\"></div>            <script type=\"text/javascript\">                                    window.PLOTLYENV=window.PLOTLYENV || {};                                    if (document.getElementById(\"a29e3158-2a2f-490d-8d4f-8b861dd836b5\")) {                    Plotly.newPlot(                        \"a29e3158-2a2f-490d-8d4f-8b861dd836b5\",                        [{\"coloraxis\":\"coloraxis\",\"name\":\"0\",\"x\":[\"Month\",\"AC\",\"AL\",\"AM\",\"AP\",\"BA\",\"CE\",\"DF\",\"ES\",\"GO\",\"MA\",\"MG\",\"MS\",\"MT\",\"PA\",\"PB\",\"PE\",\"PI\",\"PR\",\"RJ\",\"RN\",\"RO\",\"RR\",\"RS\",\"SC\",\"SE\",\"SP\",\"TO\"],\"y\":[0,1,2,3,4,5,6,7,8,9,10,11],\"z\":[[12,992,3353,1881,2441,36934,7253,5360,6001,18423,7123,39532,32609,17395,6727,5533,10972,5969,19881,25031,7346,6909,1090,30135,16466,2932,39002,3575],[1,1935,4145,1960,1065,29613,11819,3789,9814,12965,6152,25886,19957,15282,4518,8921,9599,6897,28441,47616,5390,7160,931,21648,9393,3347,35375,3320],[6,1199,2133,1780,1048,33048,7611,7566,15296,18386,4014,39351,15812,14364,5398,5165,9545,5515,12865,47713,5028,7654,610,15623,14244,1053,29731,3272],[3,1626,3892,1451,1136,38322,12586,7749,9687,26626,7029,38961,22607,15729,6392,7931,14336,8104,25538,45218,7639,9425,1255,23029,14372,3806,34265,3950],[5,1056,2950,1658,1599,28583,11562,9927,14337,22472,4799,41442,15193,16188,7843,6707,14201,10491,18577,41165,6086,8190,703,19892,17870,3193,21472,3518],[9,1082,4449,1801,1626,34947,10264,3117,16495,17573,6990,41478,19202,14088,6303,6126,10821,6535,15283,20197,7185,9287,1013,19967,16094,3539,30824,2282],[4,1178,4175,2049,1670,42969,15011,13708,12860,25979,5965,51360,23967,14066,6836,7465,13093,8156,21734,48050,6544,8750,1523,23871,17591,3901,22893,3168],[8,1109,2560,1520,1177,34006,10619,3562,15743,17892,7213,37185,19180,13121,6465,6425,9846,6136,16044,22501,6374,9161,907,18305,14365,2660,31345,2702],[7,1491,1610,1450,876,32852,6897,8809,14789,18359,5540,29557,19015,12435,6650,4797,7816,5585,16983,36345,5192,6754,538,14714,12415,2429,31650,2698],[10,1339,3767,1361,1827,41016,11813,3465,16637,16130,7777,40813,19403,15057,8147,7186,11859,6570,17804,24220,7429,7893,921,21528,17167,3874,35017,3019],[11,655,3121,1631,1971,27145,8432,2187,11161,13768,4749,32376,20275,9131,5757,4434,11266,4508,17306,17399,5965,3558,1253,18383,14877,2936,28798,2983],[2,1869,4442,1560,1290,37657,13540,4506,8171,21802,5899,30731,20966,15878,6924,7194,13019,10629,26903,43526,6567,8365,1289,24964,13186,3875,37702,3374]],\"type\":\"heatmap\",\"xaxis\":\"x\",\"yaxis\":\"y\",\"hovertemplate\":\"x: %{x}<br>y: %{y}<br>color: %{z}<extra></extra>\"}],                        {\"template\":{\"data\":{\"histogram2dcontour\":[{\"type\":\"histogram2dcontour\",\"colorbar\":{\"outlinewidth\":0,\"ticks\":\"\"},\"colorscale\":[[0.0,\"#0d0887\"],[0.1111111111111111,\"#46039f\"],[0.2222222222222222,\"#7201a8\"],[0.3333333333333333,\"#9c179e\"],[0.4444444444444444,\"#bd3786\"],[0.5555555555555556,\"#d8576b\"],[0.6666666666666666,\"#ed7953\"],[0.7777777777777778,\"#fb9f3a\"],[0.8888888888888888,\"#fdca26\"],[1.0,\"#f0f921\"]]}],\"choropleth\":[{\"type\":\"choropleth\",\"colorbar\":{\"outlinewidth\":0,\"ticks\":\"\"}}],\"histogram2d\":[{\"type\":\"histogram2d\",\"colorbar\":{\"outlinewidth\":0,\"ticks\":\"\"},\"colorscale\":[[0.0,\"#0d0887\"],[0.1111111111111111,\"#46039f\"],[0.2222222222222222,\"#7201a8\"],[0.3333333333333333,\"#9c179e\"],[0.4444444444444444,\"#bd3786\"],[0.5555555555555556,\"#d8576b\"],[0.6666666666666666,\"#ed7953\"],[0.7777777777777778,\"#fb9f3a\"],[0.8888888888888888,\"#fdca26\"],[1.0,\"#f0f921\"]]}],\"heatmap\":[{\"type\":\"heatmap\",\"colorbar\":{\"outlinewidth\":0,\"ticks\":\"\"},\"colorscale\":[[0.0,\"#0d0887\"],[0.1111111111111111,\"#46039f\"],[0.2222222222222222,\"#7201a8\"],[0.3333333333333333,\"#9c179e\"],[0.4444444444444444,\"#bd3786\"],[0.5555555555555556,\"#d8576b\"],[0.6666666666666666,\"#ed7953\"],[0.7777777777777778,\"#fb9f3a\"],[0.8888888888888888,\"#fdca26\"],[1.0,\"#f0f921\"]]}],\"heatmapgl\":[{\"type\":\"heatmapgl\",\"colorbar\":{\"outlinewidth\":0,\"ticks\":\"\"},\"colorscale\":[[0.0,\"#0d0887\"],[0.1111111111111111,\"#46039f\"],[0.2222222222222222,\"#7201a8\"],[0.3333333333333333,\"#9c179e\"],[0.4444444444444444,\"#bd3786\"],[0.5555555555555556,\"#d8576b\"],[0.6666666666666666,\"#ed7953\"],[0.7777777777777778,\"#fb9f3a\"],[0.8888888888888888,\"#fdca26\"],[1.0,\"#f0f921\"]]}],\"contourcarpet\":[{\"type\":\"contourcarpet\",\"colorbar\":{\"outlinewidth\":0,\"ticks\":\"\"}}],\"contour\":[{\"type\":\"contour\",\"colorbar\":{\"outlinewidth\":0,\"ticks\":\"\"},\"colorscale\":[[0.0,\"#0d0887\"],[0.1111111111111111,\"#46039f\"],[0.2222222222222222,\"#7201a8\"],[0.3333333333333333,\"#9c179e\"],[0.4444444444444444,\"#bd3786\"],[0.5555555555555556,\"#d8576b\"],[0.6666666666666666,\"#ed7953\"],[0.7777777777777778,\"#fb9f3a\"],[0.8888888888888888,\"#fdca26\"],[1.0,\"#f0f921\"]]}],\"surface\":[{\"type\":\"surface\",\"colorbar\":{\"outlinewidth\":0,\"ticks\":\"\"},\"colorscale\":[[0.0,\"#0d0887\"],[0.1111111111111111,\"#46039f\"],[0.2222222222222222,\"#7201a8\"],[0.3333333333333333,\"#9c179e\"],[0.4444444444444444,\"#bd3786\"],[0.5555555555555556,\"#d8576b\"],[0.6666666666666666,\"#ed7953\"],[0.7777777777777778,\"#fb9f3a\"],[0.8888888888888888,\"#fdca26\"],[1.0,\"#f0f921\"]]}],\"mesh3d\":[{\"type\":\"mesh3d\",\"colorbar\":{\"outlinewidth\":0,\"ticks\":\"\"}}],\"scatter\":[{\"fillpattern\":{\"fillmode\":\"overlay\",\"size\":10,\"solidity\":0.2},\"type\":\"scatter\"}],\"parcoords\":[{\"type\":\"parcoords\",\"line\":{\"colorbar\":{\"outlinewidth\":0,\"ticks\":\"\"}}}],\"scatterpolargl\":[{\"type\":\"scatterpolargl\",\"marker\":{\"colorbar\":{\"outlinewidth\":0,\"ticks\":\"\"}}}],\"bar\":[{\"error_x\":{\"color\":\"#2a3f5f\"},\"error_y\":{\"color\":\"#2a3f5f\"},\"marker\":{\"line\":{\"color\":\"#E5ECF6\",\"width\":0.5},\"pattern\":{\"fillmode\":\"overlay\",\"size\":10,\"solidity\":0.2}},\"type\":\"bar\"}],\"scattergeo\":[{\"type\":\"scattergeo\",\"marker\":{\"colorbar\":{\"outlinewidth\":0,\"ticks\":\"\"}}}],\"scatterpolar\":[{\"type\":\"scatterpolar\",\"marker\":{\"colorbar\":{\"outlinewidth\":0,\"ticks\":\"\"}}}],\"histogram\":[{\"marker\":{\"pattern\":{\"fillmode\":\"overlay\",\"size\":10,\"solidity\":0.2}},\"type\":\"histogram\"}],\"scattergl\":[{\"type\":\"scattergl\",\"marker\":{\"colorbar\":{\"outlinewidth\":0,\"ticks\":\"\"}}}],\"scatter3d\":[{\"type\":\"scatter3d\",\"line\":{\"colorbar\":{\"outlinewidth\":0,\"ticks\":\"\"}},\"marker\":{\"colorbar\":{\"outlinewidth\":0,\"ticks\":\"\"}}}],\"scattermapbox\":[{\"type\":\"scattermapbox\",\"marker\":{\"colorbar\":{\"outlinewidth\":0,\"ticks\":\"\"}}}],\"scatterternary\":[{\"type\":\"scatterternary\",\"marker\":{\"colorbar\":{\"outlinewidth\":0,\"ticks\":\"\"}}}],\"scattercarpet\":[{\"type\":\"scattercarpet\",\"marker\":{\"colorbar\":{\"outlinewidth\":0,\"ticks\":\"\"}}}],\"carpet\":[{\"aaxis\":{\"endlinecolor\":\"#2a3f5f\",\"gridcolor\":\"white\",\"linecolor\":\"white\",\"minorgridcolor\":\"white\",\"startlinecolor\":\"#2a3f5f\"},\"baxis\":{\"endlinecolor\":\"#2a3f5f\",\"gridcolor\":\"white\",\"linecolor\":\"white\",\"minorgridcolor\":\"white\",\"startlinecolor\":\"#2a3f5f\"},\"type\":\"carpet\"}],\"table\":[{\"cells\":{\"fill\":{\"color\":\"#EBF0F8\"},\"line\":{\"color\":\"white\"}},\"header\":{\"fill\":{\"color\":\"#C8D4E3\"},\"line\":{\"color\":\"white\"}},\"type\":\"table\"}],\"barpolar\":[{\"marker\":{\"line\":{\"color\":\"#E5ECF6\",\"width\":0.5},\"pattern\":{\"fillmode\":\"overlay\",\"size\":10,\"solidity\":0.2}},\"type\":\"barpolar\"}],\"pie\":[{\"automargin\":true,\"type\":\"pie\"}]},\"layout\":{\"autotypenumbers\":\"strict\",\"colorway\":[\"#636efa\",\"#EF553B\",\"#00cc96\",\"#ab63fa\",\"#FFA15A\",\"#19d3f3\",\"#FF6692\",\"#B6E880\",\"#FF97FF\",\"#FECB52\"],\"font\":{\"color\":\"#2a3f5f\"},\"hovermode\":\"closest\",\"hoverlabel\":{\"align\":\"left\"},\"paper_bgcolor\":\"white\",\"plot_bgcolor\":\"#E5ECF6\",\"polar\":{\"bgcolor\":\"#E5ECF6\",\"angularaxis\":{\"gridcolor\":\"white\",\"linecolor\":\"white\",\"ticks\":\"\"},\"radialaxis\":{\"gridcolor\":\"white\",\"linecolor\":\"white\",\"ticks\":\"\"}},\"ternary\":{\"bgcolor\":\"#E5ECF6\",\"aaxis\":{\"gridcolor\":\"white\",\"linecolor\":\"white\",\"ticks\":\"\"},\"baxis\":{\"gridcolor\":\"white\",\"linecolor\":\"white\",\"ticks\":\"\"},\"caxis\":{\"gridcolor\":\"white\",\"linecolor\":\"white\",\"ticks\":\"\"}},\"coloraxis\":{\"colorbar\":{\"outlinewidth\":0,\"ticks\":\"\"}},\"colorscale\":{\"sequential\":[[0.0,\"#0d0887\"],[0.1111111111111111,\"#46039f\"],[0.2222222222222222,\"#7201a8\"],[0.3333333333333333,\"#9c179e\"],[0.4444444444444444,\"#bd3786\"],[0.5555555555555556,\"#d8576b\"],[0.6666666666666666,\"#ed7953\"],[0.7777777777777778,\"#fb9f3a\"],[0.8888888888888888,\"#fdca26\"],[1.0,\"#f0f921\"]],\"sequentialminus\":[[0.0,\"#0d0887\"],[0.1111111111111111,\"#46039f\"],[0.2222222222222222,\"#7201a8\"],[0.3333333333333333,\"#9c179e\"],[0.4444444444444444,\"#bd3786\"],[0.5555555555555556,\"#d8576b\"],[0.6666666666666666,\"#ed7953\"],[0.7777777777777778,\"#fb9f3a\"],[0.8888888888888888,\"#fdca26\"],[1.0,\"#f0f921\"]],\"diverging\":[[0,\"#8e0152\"],[0.1,\"#c51b7d\"],[0.2,\"#de77ae\"],[0.3,\"#f1b6da\"],[0.4,\"#fde0ef\"],[0.5,\"#f7f7f7\"],[0.6,\"#e6f5d0\"],[0.7,\"#b8e186\"],[0.8,\"#7fbc41\"],[0.9,\"#4d9221\"],[1,\"#276419\"]]},\"xaxis\":{\"gridcolor\":\"white\",\"linecolor\":\"white\",\"ticks\":\"\",\"title\":{\"standoff\":15},\"zerolinecolor\":\"white\",\"automargin\":true,\"zerolinewidth\":2},\"yaxis\":{\"gridcolor\":\"white\",\"linecolor\":\"white\",\"ticks\":\"\",\"title\":{\"standoff\":15},\"zerolinecolor\":\"white\",\"automargin\":true,\"zerolinewidth\":2},\"scene\":{\"xaxis\":{\"backgroundcolor\":\"#E5ECF6\",\"gridcolor\":\"white\",\"linecolor\":\"white\",\"showbackground\":true,\"ticks\":\"\",\"zerolinecolor\":\"white\",\"gridwidth\":2},\"yaxis\":{\"backgroundcolor\":\"#E5ECF6\",\"gridcolor\":\"white\",\"linecolor\":\"white\",\"showbackground\":true,\"ticks\":\"\",\"zerolinecolor\":\"white\",\"gridwidth\":2},\"zaxis\":{\"backgroundcolor\":\"#E5ECF6\",\"gridcolor\":\"white\",\"linecolor\":\"white\",\"showbackground\":true,\"ticks\":\"\",\"zerolinecolor\":\"white\",\"gridwidth\":2}},\"shapedefaults\":{\"line\":{\"color\":\"#2a3f5f\"}},\"annotationdefaults\":{\"arrowcolor\":\"#2a3f5f\",\"arrowhead\":0,\"arrowwidth\":1},\"geo\":{\"bgcolor\":\"white\",\"landcolor\":\"#E5ECF6\",\"subunitcolor\":\"white\",\"showland\":true,\"showlakes\":true,\"lakecolor\":\"white\"},\"title\":{\"x\":0.05},\"mapbox\":{\"style\":\"light\"}}},\"xaxis\":{\"anchor\":\"y\",\"domain\":[0.0,1.0],\"scaleanchor\":\"y\",\"constrain\":\"domain\"},\"yaxis\":{\"anchor\":\"x\",\"domain\":[0.0,1.0],\"autorange\":\"reversed\",\"constrain\":\"domain\"},\"coloraxis\":{\"colorscale\":[[0.0,\"#0d0887\"],[0.1111111111111111,\"#46039f\"],[0.2222222222222222,\"#7201a8\"],[0.3333333333333333,\"#9c179e\"],[0.4444444444444444,\"#bd3786\"],[0.5555555555555556,\"#d8576b\"],[0.6666666666666666,\"#ed7953\"],[0.7777777777777778,\"#fb9f3a\"],[0.8888888888888888,\"#fdca26\"],[1.0,\"#f0f921\"]]},\"title\":{\"text\":\" Heatmap | Monthly Traffic Violations by State 2022\"}},                        {\"responsive\": true}                    ).then(function(){\n",
              "                            \n",
              "var gd = document.getElementById('a29e3158-2a2f-490d-8d4f-8b861dd836b5');\n",
              "var x = new MutationObserver(function (mutations, observer) {{\n",
              "        var display = window.getComputedStyle(gd).display;\n",
              "        if (!display || display === 'none') {{\n",
              "            console.log([gd, 'removed!']);\n",
              "            Plotly.purge(gd);\n",
              "            observer.disconnect();\n",
              "        }}\n",
              "}});\n",
              "\n",
              "// Listen for the removal of the full notebook cells\n",
              "var notebookContainer = gd.closest('#notebook-container');\n",
              "if (notebookContainer) {{\n",
              "    x.observe(notebookContainer, {childList: true});\n",
              "}}\n",
              "\n",
              "// Listen for the clearing of the current output cell\n",
              "var outputEl = gd.closest('.output');\n",
              "if (outputEl) {{\n",
              "    x.observe(outputEl, {childList: true});\n",
              "}}\n",
              "\n",
              "                        })                };                            </script>        </div>\n",
              "</body>\n",
              "</html>"
            ]
          },
          "metadata": {}
        }
      ]
    },
    {
      "cell_type": "markdown",
      "source": [
        "### Checking the infraction type\n",
        "Each infraction has more cost to the infractor, we will download the ticket value data for each infraction and map how much each state has earned on infractions using the join function."
      ],
      "metadata": {
        "id": "2ZXRkUSmQNVM"
      }
    },
    {
      "cell_type": "code",
      "source": [
        "# Compute the cumulative percentage\n",
        "violation_type = TV22.select('Infraction_Framing') \\\n",
        "    .groupBy('Infraction_Framing') \\\n",
        "    .count() \\\n",
        "    .withColumn('cumulative_count', sum('count').over(Window.orderBy(col(\"count\").desc()))) \\\n",
        "    .withColumn('cumulative_percentage', col('cumulative_count') / sum('count').over(Window.partitionBy()) * 100)\n",
        "\n",
        "# Show the resulting DataFrame\n",
        "violation_type.show(5)"
      ],
      "metadata": {
        "colab": {
          "base_uri": "https://localhost:8080/"
        },
        "id": "z6Ubrpl-P1Hn",
        "outputId": "092e0fff-5c9a-453d-a099-7c4758729122"
      },
      "execution_count": 51,
      "outputs": [
        {
          "output_type": "stream",
          "name": "stdout",
          "text": [
            "+------------------+-------+----------------+---------------------+\n",
            "|Infraction_Framing|  count|cumulative_count|cumulative_percentage|\n",
            "+------------------+-------+----------------+---------------------+\n",
            "|             218 I|1093345|         1093345|   26.437889476131556|\n",
            "|               167| 228723|         1322068|   31.968580515692935|\n",
            "|             203 V| 206200|         1528268|    36.95464878323733|\n",
            "|           230 * V| 204476|         1732744|      41.899029457701|\n",
            "|            218 II| 182358|         1915102|   46.308580559218264|\n",
            "+------------------+-------+----------------+---------------------+\n",
            "only showing top 5 rows\n",
            "\n"
          ]
        }
      ]
    },
    {
      "cell_type": "code",
      "source": [
        "# Loop no site do Detran e buscar os dados\n",
        "Url = 'https://www.detran.mg.gov.br/infracoes/consultar-tipos-infracoes/index/index/index/index/index/index/index/index/index/index/index/index/index/lista-de-infracoes?artigo=&descricao=&page='\n",
        "\n",
        "# Tabela vazia\n",
        "df_violation_ticket_value = pd.DataFrame()\n",
        "\n",
        "for Loop in range(1, 24):\n",
        "\n",
        "    # Construindo a URL\n",
        "    Link = f'{Url}{Loop}'\n",
        "\n",
        "    # Lendo os dados da Web\n",
        "    web_data = pd.read_html(Link)[0]\n",
        "\n",
        "    # Consolidar\n",
        "    df_violation_ticket_value = pd.concat([df_violation_ticket_value, web_data])"
      ],
      "metadata": {
        "id": "BCLwAxkpTy8f"
      },
      "execution_count": 52,
      "outputs": []
    },
    {
      "cell_type": "code",
      "source": [
        "# Define a translation dictionary for column translations\n",
        "translation_dict = {\n",
        "    \"Código\": \"Code\",\n",
        "    \"Desd.\": \"Desd.\",\n",
        "    \"Infração\": \"Infraction\",\n",
        "    \"Artigo\": \"Article\",\n",
        "    \"Infrator\": \"Offender\",\n",
        "    \"Pts\": \"Points\",\n",
        "    \"Valor\": \"Ticket_Value\"\n",
        "}\n",
        "\n",
        "df_violation_ticket_value = df_violation_ticket_value.rename(columns=translation_dict)"
      ],
      "metadata": {
        "id": "TzWyO4Cswl4w"
      },
      "execution_count": 53,
      "outputs": []
    },
    {
      "cell_type": "code",
      "source": [
        "df_violation_ticket_value.head()"
      ],
      "metadata": {
        "colab": {
          "base_uri": "https://localhost:8080/",
          "height": 206
        },
        "id": "EunrV8WcUhUb",
        "outputId": "7fcf4760-af2d-456f-c7fa-1153fb7a4889"
      },
      "execution_count": 54,
      "outputs": [
        {
          "output_type": "execute_result",
          "data": {
            "text/plain": [
              "   Code  Desd.                                         Infraction     Article  \\\n",
              "0  5622      4  PARAR NOS CANTEIROS CENTRAIS OU DIVISORES DE P...    182 * VI   \n",
              "1  5622      5                    PARAR NAS MARCAS DE CANALIZACAO    182 * VI   \n",
              "2  5630      0                PARAR NA AREA DE CRUZAMENTO DE VIAS   182 * VII   \n",
              "3  5649      1                                 PARAR NOS VIADUTOS  182 * VIII   \n",
              "4  5649      2                                   PARAR NAS PONTES  182 * VIII   \n",
              "\n",
              "  Offender  Points Ticket_Value  \n",
              "0      CON       3         8838  \n",
              "1      CON       3         8838  \n",
              "2      CON       4        13016  \n",
              "3      CON       4        13016  \n",
              "4      CON       4        13016  "
            ],
            "text/html": [
              "\n",
              "  <div id=\"df-b8583347-a883-4a75-a809-67ca8ae27890\">\n",
              "    <div class=\"colab-df-container\">\n",
              "      <div>\n",
              "<style scoped>\n",
              "    .dataframe tbody tr th:only-of-type {\n",
              "        vertical-align: middle;\n",
              "    }\n",
              "\n",
              "    .dataframe tbody tr th {\n",
              "        vertical-align: top;\n",
              "    }\n",
              "\n",
              "    .dataframe thead th {\n",
              "        text-align: right;\n",
              "    }\n",
              "</style>\n",
              "<table border=\"1\" class=\"dataframe\">\n",
              "  <thead>\n",
              "    <tr style=\"text-align: right;\">\n",
              "      <th></th>\n",
              "      <th>Code</th>\n",
              "      <th>Desd.</th>\n",
              "      <th>Infraction</th>\n",
              "      <th>Article</th>\n",
              "      <th>Offender</th>\n",
              "      <th>Points</th>\n",
              "      <th>Ticket_Value</th>\n",
              "    </tr>\n",
              "  </thead>\n",
              "  <tbody>\n",
              "    <tr>\n",
              "      <th>0</th>\n",
              "      <td>5622</td>\n",
              "      <td>4</td>\n",
              "      <td>PARAR NOS CANTEIROS CENTRAIS OU DIVISORES DE P...</td>\n",
              "      <td>182 * VI</td>\n",
              "      <td>CON</td>\n",
              "      <td>3</td>\n",
              "      <td>8838</td>\n",
              "    </tr>\n",
              "    <tr>\n",
              "      <th>1</th>\n",
              "      <td>5622</td>\n",
              "      <td>5</td>\n",
              "      <td>PARAR NAS MARCAS DE CANALIZACAO</td>\n",
              "      <td>182 * VI</td>\n",
              "      <td>CON</td>\n",
              "      <td>3</td>\n",
              "      <td>8838</td>\n",
              "    </tr>\n",
              "    <tr>\n",
              "      <th>2</th>\n",
              "      <td>5630</td>\n",
              "      <td>0</td>\n",
              "      <td>PARAR NA AREA DE CRUZAMENTO DE VIAS</td>\n",
              "      <td>182 * VII</td>\n",
              "      <td>CON</td>\n",
              "      <td>4</td>\n",
              "      <td>13016</td>\n",
              "    </tr>\n",
              "    <tr>\n",
              "      <th>3</th>\n",
              "      <td>5649</td>\n",
              "      <td>1</td>\n",
              "      <td>PARAR NOS VIADUTOS</td>\n",
              "      <td>182 * VIII</td>\n",
              "      <td>CON</td>\n",
              "      <td>4</td>\n",
              "      <td>13016</td>\n",
              "    </tr>\n",
              "    <tr>\n",
              "      <th>4</th>\n",
              "      <td>5649</td>\n",
              "      <td>2</td>\n",
              "      <td>PARAR NAS PONTES</td>\n",
              "      <td>182 * VIII</td>\n",
              "      <td>CON</td>\n",
              "      <td>4</td>\n",
              "      <td>13016</td>\n",
              "    </tr>\n",
              "  </tbody>\n",
              "</table>\n",
              "</div>\n",
              "      <button class=\"colab-df-convert\" onclick=\"convertToInteractive('df-b8583347-a883-4a75-a809-67ca8ae27890')\"\n",
              "              title=\"Convert this dataframe to an interactive table.\"\n",
              "              style=\"display:none;\">\n",
              "        \n",
              "  <svg xmlns=\"http://www.w3.org/2000/svg\" height=\"24px\"viewBox=\"0 0 24 24\"\n",
              "       width=\"24px\">\n",
              "    <path d=\"M0 0h24v24H0V0z\" fill=\"none\"/>\n",
              "    <path d=\"M18.56 5.44l.94 2.06.94-2.06 2.06-.94-2.06-.94-.94-2.06-.94 2.06-2.06.94zm-11 1L8.5 8.5l.94-2.06 2.06-.94-2.06-.94L8.5 2.5l-.94 2.06-2.06.94zm10 10l.94 2.06.94-2.06 2.06-.94-2.06-.94-.94-2.06-.94 2.06-2.06.94z\"/><path d=\"M17.41 7.96l-1.37-1.37c-.4-.4-.92-.59-1.43-.59-.52 0-1.04.2-1.43.59L10.3 9.45l-7.72 7.72c-.78.78-.78 2.05 0 2.83L4 21.41c.39.39.9.59 1.41.59.51 0 1.02-.2 1.41-.59l7.78-7.78 2.81-2.81c.8-.78.8-2.07 0-2.86zM5.41 20L4 18.59l7.72-7.72 1.47 1.35L5.41 20z\"/>\n",
              "  </svg>\n",
              "      </button>\n",
              "      \n",
              "  <style>\n",
              "    .colab-df-container {\n",
              "      display:flex;\n",
              "      flex-wrap:wrap;\n",
              "      gap: 12px;\n",
              "    }\n",
              "\n",
              "    .colab-df-convert {\n",
              "      background-color: #E8F0FE;\n",
              "      border: none;\n",
              "      border-radius: 50%;\n",
              "      cursor: pointer;\n",
              "      display: none;\n",
              "      fill: #1967D2;\n",
              "      height: 32px;\n",
              "      padding: 0 0 0 0;\n",
              "      width: 32px;\n",
              "    }\n",
              "\n",
              "    .colab-df-convert:hover {\n",
              "      background-color: #E2EBFA;\n",
              "      box-shadow: 0px 1px 2px rgba(60, 64, 67, 0.3), 0px 1px 3px 1px rgba(60, 64, 67, 0.15);\n",
              "      fill: #174EA6;\n",
              "    }\n",
              "\n",
              "    [theme=dark] .colab-df-convert {\n",
              "      background-color: #3B4455;\n",
              "      fill: #D2E3FC;\n",
              "    }\n",
              "\n",
              "    [theme=dark] .colab-df-convert:hover {\n",
              "      background-color: #434B5C;\n",
              "      box-shadow: 0px 1px 3px 1px rgba(0, 0, 0, 0.15);\n",
              "      filter: drop-shadow(0px 1px 2px rgba(0, 0, 0, 0.3));\n",
              "      fill: #FFFFFF;\n",
              "    }\n",
              "  </style>\n",
              "\n",
              "      <script>\n",
              "        const buttonEl =\n",
              "          document.querySelector('#df-b8583347-a883-4a75-a809-67ca8ae27890 button.colab-df-convert');\n",
              "        buttonEl.style.display =\n",
              "          google.colab.kernel.accessAllowed ? 'block' : 'none';\n",
              "\n",
              "        async function convertToInteractive(key) {\n",
              "          const element = document.querySelector('#df-b8583347-a883-4a75-a809-67ca8ae27890');\n",
              "          const dataTable =\n",
              "            await google.colab.kernel.invokeFunction('convertToInteractive',\n",
              "                                                     [key], {});\n",
              "          if (!dataTable) return;\n",
              "\n",
              "          const docLinkHtml = 'Like what you see? Visit the ' +\n",
              "            '<a target=\"_blank\" href=https://colab.research.google.com/notebooks/data_table.ipynb>data table notebook</a>'\n",
              "            + ' to learn more about interactive tables.';\n",
              "          element.innerHTML = '';\n",
              "          dataTable['output_type'] = 'display_data';\n",
              "          await google.colab.output.renderOutput(dataTable, element);\n",
              "          const docLink = document.createElement('div');\n",
              "          docLink.innerHTML = docLinkHtml;\n",
              "          element.appendChild(docLink);\n",
              "        }\n",
              "      </script>\n",
              "    </div>\n",
              "  </div>\n",
              "  "
            ]
          },
          "metadata": {},
          "execution_count": 54
        }
      ]
    },
    {
      "cell_type": "code",
      "source": [
        "df_violation_ticket_value['Ticket_Value'] = pd.to_numeric(df_violation_ticket_value['Ticket_Value'], errors='coerce')\n",
        "df_violation_ticket_value['Ticket_Value'] = df_violation_ticket_value['Ticket_Value'] / 100"
      ],
      "metadata": {
        "id": "9oVliiGYXmSb"
      },
      "execution_count": 55,
      "outputs": []
    },
    {
      "cell_type": "code",
      "source": [
        "df_violation_ticket_value.head()"
      ],
      "metadata": {
        "colab": {
          "base_uri": "https://localhost:8080/",
          "height": 206
        },
        "id": "hoKiz3WRZnZ-",
        "outputId": "6c944470-198e-47df-eb8a-182a0129caed"
      },
      "execution_count": 56,
      "outputs": [
        {
          "output_type": "execute_result",
          "data": {
            "text/plain": [
              "   Code  Desd.                                         Infraction     Article  \\\n",
              "0  5622      4  PARAR NOS CANTEIROS CENTRAIS OU DIVISORES DE P...    182 * VI   \n",
              "1  5622      5                    PARAR NAS MARCAS DE CANALIZACAO    182 * VI   \n",
              "2  5630      0                PARAR NA AREA DE CRUZAMENTO DE VIAS   182 * VII   \n",
              "3  5649      1                                 PARAR NOS VIADUTOS  182 * VIII   \n",
              "4  5649      2                                   PARAR NAS PONTES  182 * VIII   \n",
              "\n",
              "  Offender  Points  Ticket_Value  \n",
              "0      CON       3         88.38  \n",
              "1      CON       3         88.38  \n",
              "2      CON       4        130.16  \n",
              "3      CON       4        130.16  \n",
              "4      CON       4        130.16  "
            ],
            "text/html": [
              "\n",
              "  <div id=\"df-e0c25375-3797-4e77-86a4-d2493369880f\">\n",
              "    <div class=\"colab-df-container\">\n",
              "      <div>\n",
              "<style scoped>\n",
              "    .dataframe tbody tr th:only-of-type {\n",
              "        vertical-align: middle;\n",
              "    }\n",
              "\n",
              "    .dataframe tbody tr th {\n",
              "        vertical-align: top;\n",
              "    }\n",
              "\n",
              "    .dataframe thead th {\n",
              "        text-align: right;\n",
              "    }\n",
              "</style>\n",
              "<table border=\"1\" class=\"dataframe\">\n",
              "  <thead>\n",
              "    <tr style=\"text-align: right;\">\n",
              "      <th></th>\n",
              "      <th>Code</th>\n",
              "      <th>Desd.</th>\n",
              "      <th>Infraction</th>\n",
              "      <th>Article</th>\n",
              "      <th>Offender</th>\n",
              "      <th>Points</th>\n",
              "      <th>Ticket_Value</th>\n",
              "    </tr>\n",
              "  </thead>\n",
              "  <tbody>\n",
              "    <tr>\n",
              "      <th>0</th>\n",
              "      <td>5622</td>\n",
              "      <td>4</td>\n",
              "      <td>PARAR NOS CANTEIROS CENTRAIS OU DIVISORES DE P...</td>\n",
              "      <td>182 * VI</td>\n",
              "      <td>CON</td>\n",
              "      <td>3</td>\n",
              "      <td>88.38</td>\n",
              "    </tr>\n",
              "    <tr>\n",
              "      <th>1</th>\n",
              "      <td>5622</td>\n",
              "      <td>5</td>\n",
              "      <td>PARAR NAS MARCAS DE CANALIZACAO</td>\n",
              "      <td>182 * VI</td>\n",
              "      <td>CON</td>\n",
              "      <td>3</td>\n",
              "      <td>88.38</td>\n",
              "    </tr>\n",
              "    <tr>\n",
              "      <th>2</th>\n",
              "      <td>5630</td>\n",
              "      <td>0</td>\n",
              "      <td>PARAR NA AREA DE CRUZAMENTO DE VIAS</td>\n",
              "      <td>182 * VII</td>\n",
              "      <td>CON</td>\n",
              "      <td>4</td>\n",
              "      <td>130.16</td>\n",
              "    </tr>\n",
              "    <tr>\n",
              "      <th>3</th>\n",
              "      <td>5649</td>\n",
              "      <td>1</td>\n",
              "      <td>PARAR NOS VIADUTOS</td>\n",
              "      <td>182 * VIII</td>\n",
              "      <td>CON</td>\n",
              "      <td>4</td>\n",
              "      <td>130.16</td>\n",
              "    </tr>\n",
              "    <tr>\n",
              "      <th>4</th>\n",
              "      <td>5649</td>\n",
              "      <td>2</td>\n",
              "      <td>PARAR NAS PONTES</td>\n",
              "      <td>182 * VIII</td>\n",
              "      <td>CON</td>\n",
              "      <td>4</td>\n",
              "      <td>130.16</td>\n",
              "    </tr>\n",
              "  </tbody>\n",
              "</table>\n",
              "</div>\n",
              "      <button class=\"colab-df-convert\" onclick=\"convertToInteractive('df-e0c25375-3797-4e77-86a4-d2493369880f')\"\n",
              "              title=\"Convert this dataframe to an interactive table.\"\n",
              "              style=\"display:none;\">\n",
              "        \n",
              "  <svg xmlns=\"http://www.w3.org/2000/svg\" height=\"24px\"viewBox=\"0 0 24 24\"\n",
              "       width=\"24px\">\n",
              "    <path d=\"M0 0h24v24H0V0z\" fill=\"none\"/>\n",
              "    <path d=\"M18.56 5.44l.94 2.06.94-2.06 2.06-.94-2.06-.94-.94-2.06-.94 2.06-2.06.94zm-11 1L8.5 8.5l.94-2.06 2.06-.94-2.06-.94L8.5 2.5l-.94 2.06-2.06.94zm10 10l.94 2.06.94-2.06 2.06-.94-2.06-.94-.94-2.06-.94 2.06-2.06.94z\"/><path d=\"M17.41 7.96l-1.37-1.37c-.4-.4-.92-.59-1.43-.59-.52 0-1.04.2-1.43.59L10.3 9.45l-7.72 7.72c-.78.78-.78 2.05 0 2.83L4 21.41c.39.39.9.59 1.41.59.51 0 1.02-.2 1.41-.59l7.78-7.78 2.81-2.81c.8-.78.8-2.07 0-2.86zM5.41 20L4 18.59l7.72-7.72 1.47 1.35L5.41 20z\"/>\n",
              "  </svg>\n",
              "      </button>\n",
              "      \n",
              "  <style>\n",
              "    .colab-df-container {\n",
              "      display:flex;\n",
              "      flex-wrap:wrap;\n",
              "      gap: 12px;\n",
              "    }\n",
              "\n",
              "    .colab-df-convert {\n",
              "      background-color: #E8F0FE;\n",
              "      border: none;\n",
              "      border-radius: 50%;\n",
              "      cursor: pointer;\n",
              "      display: none;\n",
              "      fill: #1967D2;\n",
              "      height: 32px;\n",
              "      padding: 0 0 0 0;\n",
              "      width: 32px;\n",
              "    }\n",
              "\n",
              "    .colab-df-convert:hover {\n",
              "      background-color: #E2EBFA;\n",
              "      box-shadow: 0px 1px 2px rgba(60, 64, 67, 0.3), 0px 1px 3px 1px rgba(60, 64, 67, 0.15);\n",
              "      fill: #174EA6;\n",
              "    }\n",
              "\n",
              "    [theme=dark] .colab-df-convert {\n",
              "      background-color: #3B4455;\n",
              "      fill: #D2E3FC;\n",
              "    }\n",
              "\n",
              "    [theme=dark] .colab-df-convert:hover {\n",
              "      background-color: #434B5C;\n",
              "      box-shadow: 0px 1px 3px 1px rgba(0, 0, 0, 0.15);\n",
              "      filter: drop-shadow(0px 1px 2px rgba(0, 0, 0, 0.3));\n",
              "      fill: #FFFFFF;\n",
              "    }\n",
              "  </style>\n",
              "\n",
              "      <script>\n",
              "        const buttonEl =\n",
              "          document.querySelector('#df-e0c25375-3797-4e77-86a4-d2493369880f button.colab-df-convert');\n",
              "        buttonEl.style.display =\n",
              "          google.colab.kernel.accessAllowed ? 'block' : 'none';\n",
              "\n",
              "        async function convertToInteractive(key) {\n",
              "          const element = document.querySelector('#df-e0c25375-3797-4e77-86a4-d2493369880f');\n",
              "          const dataTable =\n",
              "            await google.colab.kernel.invokeFunction('convertToInteractive',\n",
              "                                                     [key], {});\n",
              "          if (!dataTable) return;\n",
              "\n",
              "          const docLinkHtml = 'Like what you see? Visit the ' +\n",
              "            '<a target=\"_blank\" href=https://colab.research.google.com/notebooks/data_table.ipynb>data table notebook</a>'\n",
              "            + ' to learn more about interactive tables.';\n",
              "          element.innerHTML = '';\n",
              "          dataTable['output_type'] = 'display_data';\n",
              "          await google.colab.output.renderOutput(dataTable, element);\n",
              "          const docLink = document.createElement('div');\n",
              "          docLink.innerHTML = docLinkHtml;\n",
              "          element.appendChild(docLink);\n",
              "        }\n",
              "      </script>\n",
              "    </div>\n",
              "  </div>\n",
              "  "
            ]
          },
          "metadata": {},
          "execution_count": 56
        }
      ]
    },
    {
      "cell_type": "code",
      "source": [
        "df_violation_ticket_value.rename( columns={'Code':'Infraction_Code'}, inplace=True )"
      ],
      "metadata": {
        "id": "5ydFhWzpangH"
      },
      "execution_count": 57,
      "outputs": []
    },
    {
      "cell_type": "code",
      "source": [
        "# Infraction_Code has more than 1 type on infraction, when we try to merge all tables the repeted data will be duplicate\n",
        "# Grouping by the violation code and getting the mean value will prevent this to happen\n",
        "ticket_value = df_violation_ticket_value.groupby( by=['Infraction_Code'] ).mean()['Ticket_Value'].reset_index()"
      ],
      "metadata": {
        "id": "0KsJkXFXa4l_",
        "colab": {
          "base_uri": "https://localhost:8080/"
        },
        "outputId": "b625acb9-c431-40b5-ce76-7a382f9a7d96"
      },
      "execution_count": 58,
      "outputs": [
        {
          "output_type": "stream",
          "name": "stderr",
          "text": [
            "<ipython-input-58-9eafc3d8502d>:3: FutureWarning:\n",
            "\n",
            "The default value of numeric_only in DataFrameGroupBy.mean is deprecated. In a future version, numeric_only will default to False. Either specify numeric_only or select only columns which should be valid for the function.\n",
            "\n"
          ]
        }
      ]
    },
    {
      "cell_type": "code",
      "source": [
        "TV22.show(5)"
      ],
      "metadata": {
        "colab": {
          "base_uri": "https://localhost:8080/"
        },
        "id": "ws7BU7eMbB2g",
        "outputId": "be5aba7e-f391-4299-b889-8db798971eb1"
      },
      "execution_count": 59,
      "outputs": [
        {
          "output_type": "stream",
          "name": "stdout",
          "text": [
            "+---------------+----------------------------+------------------+--------------+-----------------+----------------+-------------+-------------+-------+-------------------------+-------------------+---------------------------+-------------------------+------------------------+-------------------------+---------------+----------------------------------+------------------+------------------------+----------------------+----------------------+---------------+----------------------+---------------+-------------------+\n",
            "|    Auto_Number|Date_of_Violation_DD/MM/YYYY|Approach_Indicator|Auto_Signature|Traffic_Direction|Infraction_State|Infraction_BR|Infraction_Km|   City|Foreign_Vehicle_Indicator|License_Plate_State|Vehicle_Species_Description|Vehicle_Brand_Description|Vehicle_Type_Description|Vehicle_Model_Description|Infraction_Code|Abbreviated_Infraction_Description|Infraction_Framing|Infraction_Start_Vigency|Infraction_End_Vigency|Infraction_Measurement|Infraction_Time|Considered_Measurement|Verified_Excess|Infraction_Quantity|\n",
            "+---------------+----------------------------+------------------+--------------+-----------------+----------------+-------------+-------------+-------+-------------------------+-------------------+---------------------------+-------------------------+------------------------+-------------------------+---------------+----------------------------------+------------------+------------------------+----------------------+----------------------+---------------+----------------------+---------------+-------------------+\n",
            "|de6fbeb3e7b3679|                  2022-04-19|                 C|             N|                C|              MA|          230|          402| BALSAS|                        N|                 MA|                 PASSAGEIRO|            HONDA/BIZ 125|                MOTONETA|            HONDA/BIZ 125|          65991|              Conduzir o veícul...|           230 * V|              2016-11-01|                    NA|               Nenhuma|             11|                     0|              0|                  1|\n",
            "|70129253b349908|                  2022-04-19|                 C|             N|                C|              MA|          230|          402| BALSAS|                        N|                 MA|                 PASSAGEIRO|            HONDA/BIZ 125|                MOTONETA|            HONDA/BIZ 125|          50450|              Dirigir veículo c...|             162 V|              2016-11-01|                    NA|               Nenhuma|             11|                     0|              0|                  1|\n",
            "|5c0c1f2a00e4f9e|                  2022-04-02|                 C|             N|                C|              MG|          364|           27| FRUTAL|                        N|                 MG|                 PASSAGEIRO|     HONDA/CG 125 TITA...|             MOTOCICLETA|     HONDA/CG 125 TITA...|          50100|              Dirigir veículo s...|             162 I|              2016-11-01|                    NA|               Nenhuma|             11|                     0|              0|                  1|\n",
            "|f464df1906b86bf|                  2022-04-14|                 C|             S|                C|              MG|          153|          194| FRUTAL|                        N|                 9B|                     TRACAO|     SCANIA/T113 H 4X2...|         CAMINHAO TRATOR|     SCANIA/T113 H 4X2...|          50292|              Dirigir veículo c...|            162 II|              2016-11-01|                    NA|               Nenhuma|             11|                     0|              0|                  1|\n",
            "|bcec331569ea15d|                  2022-04-24|                 S|             N|                D|              SP|          116|          112|TAUBATE|                        N|                '-1|                 PASSAGEIRO|           I/CHERY QQ 1.1|               AUTOMOVEL|                   QQ 1.1|          54440|              Estacionar nos ac...|           181 VII|              2016-11-01|                    NA|               Nenhuma|              3|                     0|              0|                  1|\n",
            "+---------------+----------------------------+------------------+--------------+-----------------+----------------+-------------+-------------+-------+-------------------------+-------------------+---------------------------+-------------------------+------------------------+-------------------------+---------------+----------------------------------+------------------+------------------------+----------------------+----------------------+---------------+----------------------+---------------+-------------------+\n",
            "only showing top 5 rows\n",
            "\n"
          ]
        }
      ]
    },
    {
      "cell_type": "code",
      "source": [
        "ticket_value.head()"
      ],
      "metadata": {
        "colab": {
          "base_uri": "https://localhost:8080/",
          "height": 206
        },
        "id": "7M8N9zvZeVxe",
        "outputId": "c9ab1652-f0b3-4861-98cc-72406466d249"
      },
      "execution_count": 60,
      "outputs": [
        {
          "output_type": "execute_result",
          "data": {
            "text/plain": [
              "   Infraction_Code  Ticket_Value\n",
              "0             5002          0.00\n",
              "1             5010        880.41\n",
              "2             5029        880.41\n",
              "3             5037        586.94\n",
              "4             5045        293.47"
            ],
            "text/html": [
              "\n",
              "  <div id=\"df-ddf1cc63-b961-4e94-96a0-e1ed19261c0c\">\n",
              "    <div class=\"colab-df-container\">\n",
              "      <div>\n",
              "<style scoped>\n",
              "    .dataframe tbody tr th:only-of-type {\n",
              "        vertical-align: middle;\n",
              "    }\n",
              "\n",
              "    .dataframe tbody tr th {\n",
              "        vertical-align: top;\n",
              "    }\n",
              "\n",
              "    .dataframe thead th {\n",
              "        text-align: right;\n",
              "    }\n",
              "</style>\n",
              "<table border=\"1\" class=\"dataframe\">\n",
              "  <thead>\n",
              "    <tr style=\"text-align: right;\">\n",
              "      <th></th>\n",
              "      <th>Infraction_Code</th>\n",
              "      <th>Ticket_Value</th>\n",
              "    </tr>\n",
              "  </thead>\n",
              "  <tbody>\n",
              "    <tr>\n",
              "      <th>0</th>\n",
              "      <td>5002</td>\n",
              "      <td>0.00</td>\n",
              "    </tr>\n",
              "    <tr>\n",
              "      <th>1</th>\n",
              "      <td>5010</td>\n",
              "      <td>880.41</td>\n",
              "    </tr>\n",
              "    <tr>\n",
              "      <th>2</th>\n",
              "      <td>5029</td>\n",
              "      <td>880.41</td>\n",
              "    </tr>\n",
              "    <tr>\n",
              "      <th>3</th>\n",
              "      <td>5037</td>\n",
              "      <td>586.94</td>\n",
              "    </tr>\n",
              "    <tr>\n",
              "      <th>4</th>\n",
              "      <td>5045</td>\n",
              "      <td>293.47</td>\n",
              "    </tr>\n",
              "  </tbody>\n",
              "</table>\n",
              "</div>\n",
              "      <button class=\"colab-df-convert\" onclick=\"convertToInteractive('df-ddf1cc63-b961-4e94-96a0-e1ed19261c0c')\"\n",
              "              title=\"Convert this dataframe to an interactive table.\"\n",
              "              style=\"display:none;\">\n",
              "        \n",
              "  <svg xmlns=\"http://www.w3.org/2000/svg\" height=\"24px\"viewBox=\"0 0 24 24\"\n",
              "       width=\"24px\">\n",
              "    <path d=\"M0 0h24v24H0V0z\" fill=\"none\"/>\n",
              "    <path d=\"M18.56 5.44l.94 2.06.94-2.06 2.06-.94-2.06-.94-.94-2.06-.94 2.06-2.06.94zm-11 1L8.5 8.5l.94-2.06 2.06-.94-2.06-.94L8.5 2.5l-.94 2.06-2.06.94zm10 10l.94 2.06.94-2.06 2.06-.94-2.06-.94-.94-2.06-.94 2.06-2.06.94z\"/><path d=\"M17.41 7.96l-1.37-1.37c-.4-.4-.92-.59-1.43-.59-.52 0-1.04.2-1.43.59L10.3 9.45l-7.72 7.72c-.78.78-.78 2.05 0 2.83L4 21.41c.39.39.9.59 1.41.59.51 0 1.02-.2 1.41-.59l7.78-7.78 2.81-2.81c.8-.78.8-2.07 0-2.86zM5.41 20L4 18.59l7.72-7.72 1.47 1.35L5.41 20z\"/>\n",
              "  </svg>\n",
              "      </button>\n",
              "      \n",
              "  <style>\n",
              "    .colab-df-container {\n",
              "      display:flex;\n",
              "      flex-wrap:wrap;\n",
              "      gap: 12px;\n",
              "    }\n",
              "\n",
              "    .colab-df-convert {\n",
              "      background-color: #E8F0FE;\n",
              "      border: none;\n",
              "      border-radius: 50%;\n",
              "      cursor: pointer;\n",
              "      display: none;\n",
              "      fill: #1967D2;\n",
              "      height: 32px;\n",
              "      padding: 0 0 0 0;\n",
              "      width: 32px;\n",
              "    }\n",
              "\n",
              "    .colab-df-convert:hover {\n",
              "      background-color: #E2EBFA;\n",
              "      box-shadow: 0px 1px 2px rgba(60, 64, 67, 0.3), 0px 1px 3px 1px rgba(60, 64, 67, 0.15);\n",
              "      fill: #174EA6;\n",
              "    }\n",
              "\n",
              "    [theme=dark] .colab-df-convert {\n",
              "      background-color: #3B4455;\n",
              "      fill: #D2E3FC;\n",
              "    }\n",
              "\n",
              "    [theme=dark] .colab-df-convert:hover {\n",
              "      background-color: #434B5C;\n",
              "      box-shadow: 0px 1px 3px 1px rgba(0, 0, 0, 0.15);\n",
              "      filter: drop-shadow(0px 1px 2px rgba(0, 0, 0, 0.3));\n",
              "      fill: #FFFFFF;\n",
              "    }\n",
              "  </style>\n",
              "\n",
              "      <script>\n",
              "        const buttonEl =\n",
              "          document.querySelector('#df-ddf1cc63-b961-4e94-96a0-e1ed19261c0c button.colab-df-convert');\n",
              "        buttonEl.style.display =\n",
              "          google.colab.kernel.accessAllowed ? 'block' : 'none';\n",
              "\n",
              "        async function convertToInteractive(key) {\n",
              "          const element = document.querySelector('#df-ddf1cc63-b961-4e94-96a0-e1ed19261c0c');\n",
              "          const dataTable =\n",
              "            await google.colab.kernel.invokeFunction('convertToInteractive',\n",
              "                                                     [key], {});\n",
              "          if (!dataTable) return;\n",
              "\n",
              "          const docLinkHtml = 'Like what you see? Visit the ' +\n",
              "            '<a target=\"_blank\" href=https://colab.research.google.com/notebooks/data_table.ipynb>data table notebook</a>'\n",
              "            + ' to learn more about interactive tables.';\n",
              "          element.innerHTML = '';\n",
              "          dataTable['output_type'] = 'display_data';\n",
              "          await google.colab.output.renderOutput(dataTable, element);\n",
              "          const docLink = document.createElement('div');\n",
              "          docLink.innerHTML = docLinkHtml;\n",
              "          element.appendChild(docLink);\n",
              "        }\n",
              "      </script>\n",
              "    </div>\n",
              "  </div>\n",
              "  "
            ]
          },
          "metadata": {},
          "execution_count": 60
        }
      ]
    },
    {
      "cell_type": "code",
      "source": [
        "# The infraction code is different on the tables, by doing some search we discover that the last extra digit that exists on TV22 table is useless\n",
        "# We can proceed removing it\n",
        "TV22 = TV22.withColumn('Infraction_Code', col('Infraction_Code').substr(1, 4))\n",
        "# Change the column value to int\n",
        "TV22 = TV22.withColumn(\"Infraction_Code\", col(\"Infraction_Code\").cast(\"int\"))"
      ],
      "metadata": {
        "id": "09AWA56YgKE0"
      },
      "execution_count": 61,
      "outputs": []
    },
    {
      "cell_type": "code",
      "source": [
        "# Transform ticket_value into a Spark Dataframe\n",
        "violation_ticket_value = spark.createDataFrame(ticket_value)"
      ],
      "metadata": {
        "id": "lvHKa4HUjxHI",
        "colab": {
          "base_uri": "https://localhost:8080/"
        },
        "outputId": "f621a9ec-4d48-4e5d-94a9-a846b9be257c"
      },
      "execution_count": 62,
      "outputs": [
        {
          "output_type": "stream",
          "name": "stderr",
          "text": [
            "/content/spark-3.1.2-bin-hadoop2.7/python/pyspark/sql/pandas/conversion.py:331: FutureWarning:\n",
            "\n",
            "iteritems is deprecated and will be removed in a future version. Use .items instead.\n",
            "\n"
          ]
        }
      ]
    },
    {
      "cell_type": "code",
      "source": [
        "# Alter the columns type\n",
        "# To match with the TV22 columns and perform the join later\n",
        "violation_ticket_value = violation_ticket_value.withColumn(\"Infraction_Code\", col(\"Infraction_Code\").cast(\"int\"))\n",
        "# Change the NaN values to 0 and the columns type to float in order to sum up values later\n",
        "violation_ticket_value = violation_ticket_value.withColumn(\"Ticket_Value\", col(\"Ticket_Value\").cast(\"float\"))\n",
        "violation_ticket_value = violation_ticket_value.na.fill(0, subset=[\"Ticket_Value\"])"
      ],
      "metadata": {
        "id": "XMcPc6rUn2lm"
      },
      "execution_count": 63,
      "outputs": []
    },
    {
      "cell_type": "code",
      "source": [
        "violation_ticket_value.printSchema()"
      ],
      "metadata": {
        "colab": {
          "base_uri": "https://localhost:8080/"
        },
        "id": "J7XSLGannq3d",
        "outputId": "3232e2e7-0e4e-4397-fefb-909ab390516d"
      },
      "execution_count": 64,
      "outputs": [
        {
          "output_type": "stream",
          "name": "stdout",
          "text": [
            "root\n",
            " |-- Infraction_Code: integer (nullable = true)\n",
            " |-- Ticket_Value: float (nullable = false)\n",
            "\n"
          ]
        }
      ]
    },
    {
      "cell_type": "code",
      "source": [
        "# Join tables violation_ticket_value and TV22\n",
        "TV22 = TV22.join(violation_ticket_value, on='Infraction_Code', how='left')"
      ],
      "metadata": {
        "id": "kBXQygr0pTg_"
      },
      "execution_count": 65,
      "outputs": []
    },
    {
      "cell_type": "code",
      "source": [
        "TV22.printSchema()"
      ],
      "metadata": {
        "colab": {
          "base_uri": "https://localhost:8080/"
        },
        "id": "yXCYo8rzpbzy",
        "outputId": "86dcbbc7-1811-415b-e0af-71e33757ebe3"
      },
      "execution_count": 66,
      "outputs": [
        {
          "output_type": "stream",
          "name": "stdout",
          "text": [
            "root\n",
            " |-- Infraction_Code: integer (nullable = true)\n",
            " |-- Auto_Number: string (nullable = true)\n",
            " |-- Date_of_Violation_DD/MM/YYYY: date (nullable = true)\n",
            " |-- Approach_Indicator: string (nullable = true)\n",
            " |-- Auto_Signature: string (nullable = true)\n",
            " |-- Traffic_Direction: string (nullable = true)\n",
            " |-- Infraction_State: string (nullable = true)\n",
            " |-- Infraction_BR: string (nullable = true)\n",
            " |-- Infraction_Km: string (nullable = true)\n",
            " |-- City: string (nullable = true)\n",
            " |-- Foreign_Vehicle_Indicator: string (nullable = true)\n",
            " |-- License_Plate_State: string (nullable = true)\n",
            " |-- Vehicle_Species_Description: string (nullable = true)\n",
            " |-- Vehicle_Brand_Description: string (nullable = true)\n",
            " |-- Vehicle_Type_Description: string (nullable = true)\n",
            " |-- Vehicle_Model_Description: string (nullable = true)\n",
            " |-- Abbreviated_Infraction_Description: string (nullable = true)\n",
            " |-- Infraction_Framing: string (nullable = true)\n",
            " |-- Infraction_Start_Vigency: string (nullable = true)\n",
            " |-- Infraction_End_Vigency: string (nullable = true)\n",
            " |-- Infraction_Measurement: string (nullable = true)\n",
            " |-- Infraction_Time: string (nullable = true)\n",
            " |-- Considered_Measurement: string (nullable = true)\n",
            " |-- Verified_Excess: string (nullable = true)\n",
            " |-- Infraction_Quantity: string (nullable = true)\n",
            " |-- Ticket_Value: float (nullable = true)\n",
            "\n"
          ]
        }
      ]
    },
    {
      "cell_type": "code",
      "source": [
        "# Create another dataframe, where we will group by State\n",
        "uf_tickets_value = TV22.groupBy('Infraction_State').agg(\n",
        "    count('Ticket_Value').alias('Violations_Count'),\n",
        "    sum('Ticket_Value').alias('Total_ticket_value')\n",
        ")"
      ],
      "metadata": {
        "id": "x-B3R1Baqc8Y"
      },
      "execution_count": 67,
      "outputs": []
    },
    {
      "cell_type": "code",
      "source": [
        "uf_tickets_value.show(5)"
      ],
      "metadata": {
        "colab": {
          "base_uri": "https://localhost:8080/"
        },
        "id": "TJOnPYTHqh7w",
        "outputId": "d47f81a7-cdd0-4d25-987e-1f11d33cddd8"
      },
      "execution_count": 68,
      "outputs": [
        {
          "output_type": "stream",
          "name": "stdout",
          "text": [
            "+----------------+----------------+--------------------+\n",
            "|Infraction_State|Violations_Count|  Total_ticket_value|\n",
            "+----------------+----------------+--------------------+\n",
            "|              SC|          178040|  3.88509024023819E7|\n",
            "|              RO|           93105|2.0328607025260925E7|\n",
            "|              PI|           85095| 2.318876397544861E7|\n",
            "|              AM|           20102|   4812790.681762695|\n",
            "|              RR|           12033|   3387469.271133423|\n",
            "+----------------+----------------+--------------------+\n",
            "only showing top 5 rows\n",
            "\n"
          ]
        }
      ]
    },
    {
      "cell_type": "code",
      "source": [
        "# Import pandas lib\n",
        "import pandas as pd\n",
        "\n",
        "# Converting Spark Dataframe to Pandas Dataframe\n",
        "df_uf_tickets_value = uf_tickets_value.toPandas()"
      ],
      "metadata": {
        "id": "gEEzU1Pdyk4n"
      },
      "execution_count": 69,
      "outputs": []
    },
    {
      "cell_type": "code",
      "source": [
        "px.scatter(\n",
        "    df_uf_tickets_value,\n",
        "    x='Violations_Count',\n",
        "    y='Total_ticket_value',\n",
        "    color='Infraction_State',\n",
        "    size='Violations_Count',\n",
        "    log_x=True,\n",
        "    size_max=60,\n",
        "    title='Bubble PLOT' )"
      ],
      "metadata": {
        "colab": {
          "base_uri": "https://localhost:8080/",
          "height": 542
        },
        "id": "mVkcKsbOrlQ1",
        "outputId": "10f33d05-292e-42bf-d668-9e6ad202fffc"
      },
      "execution_count": 70,
      "outputs": [
        {
          "output_type": "display_data",
          "data": {
            "text/html": [
              "<html>\n",
              "<head><meta charset=\"utf-8\" /></head>\n",
              "<body>\n",
              "    <div>            <script src=\"https://cdnjs.cloudflare.com/ajax/libs/mathjax/2.7.5/MathJax.js?config=TeX-AMS-MML_SVG\"></script><script type=\"text/javascript\">if (window.MathJax && window.MathJax.Hub && window.MathJax.Hub.Config) {window.MathJax.Hub.Config({SVG: {font: \"STIX-Web\"}});}</script>                <script type=\"text/javascript\">window.PlotlyConfig = {MathJaxConfig: 'local'};</script>\n",
              "        <script src=\"https://cdn.plot.ly/plotly-2.18.2.min.js\"></script>                <div id=\"e6f6bf31-fd09-447e-8eb9-425f6010c0ef\" class=\"plotly-graph-div\" style=\"height:525px; width:100%;\"></div>            <script type=\"text/javascript\">                                    window.PLOTLYENV=window.PLOTLYENV || {};                                    if (document.getElementById(\"e6f6bf31-fd09-447e-8eb9-425f6010c0ef\")) {                    Plotly.newPlot(                        \"e6f6bf31-fd09-447e-8eb9-425f6010c0ef\",                        [{\"hovertemplate\":\"Infraction_State=SC<br>Violations_Count=%{marker.size}<br>Total_ticket_value=%{y}<extra></extra>\",\"legendgroup\":\"SC\",\"marker\":{\"color\":\"#636efa\",\"size\":[178040],\"sizemode\":\"area\",\"sizeref\":124.63111111111111,\"symbol\":\"circle\"},\"mode\":\"markers\",\"name\":\"SC\",\"orientation\":\"v\",\"showlegend\":true,\"x\":[178040],\"xaxis\":\"x\",\"y\":[38850902.4023819],\"yaxis\":\"y\",\"type\":\"scatter\"},{\"hovertemplate\":\"Infraction_State=RO<br>Violations_Count=%{marker.size}<br>Total_ticket_value=%{y}<extra></extra>\",\"legendgroup\":\"RO\",\"marker\":{\"color\":\"#EF553B\",\"size\":[93105],\"sizemode\":\"area\",\"sizeref\":124.63111111111111,\"symbol\":\"circle\"},\"mode\":\"markers\",\"name\":\"RO\",\"orientation\":\"v\",\"showlegend\":true,\"x\":[93105],\"xaxis\":\"x\",\"y\":[20328607.025260925],\"yaxis\":\"y\",\"type\":\"scatter\"},{\"hovertemplate\":\"Infraction_State=PI<br>Violations_Count=%{marker.size}<br>Total_ticket_value=%{y}<extra></extra>\",\"legendgroup\":\"PI\",\"marker\":{\"color\":\"#00cc96\",\"size\":[85095],\"sizemode\":\"area\",\"sizeref\":124.63111111111111,\"symbol\":\"circle\"},\"mode\":\"markers\",\"name\":\"PI\",\"orientation\":\"v\",\"showlegend\":true,\"x\":[85095],\"xaxis\":\"x\",\"y\":[23188763.97544861],\"yaxis\":\"y\",\"type\":\"scatter\"},{\"hovertemplate\":\"Infraction_State=AM<br>Violations_Count=%{marker.size}<br>Total_ticket_value=%{y}<extra></extra>\",\"legendgroup\":\"AM\",\"marker\":{\"color\":\"#ab63fa\",\"size\":[20102],\"sizemode\":\"area\",\"sizeref\":124.63111111111111,\"symbol\":\"circle\"},\"mode\":\"markers\",\"name\":\"AM\",\"orientation\":\"v\",\"showlegend\":true,\"x\":[20102],\"xaxis\":\"x\",\"y\":[4812790.681762695],\"yaxis\":\"y\",\"type\":\"scatter\"},{\"hovertemplate\":\"Infraction_State=RR<br>Violations_Count=%{marker.size}<br>Total_ticket_value=%{y}<extra></extra>\",\"legendgroup\":\"RR\",\"marker\":{\"color\":\"#FFA15A\",\"size\":[12033],\"sizemode\":\"area\",\"sizeref\":124.63111111111111,\"symbol\":\"circle\"},\"mode\":\"markers\",\"name\":\"RR\",\"orientation\":\"v\",\"showlegend\":true,\"x\":[12033],\"xaxis\":\"x\",\"y\":[3387469.271133423],\"yaxis\":\"y\",\"type\":\"scatter\"},{\"hovertemplate\":\"Infraction_State=GO<br>Violations_Count=%{marker.size}<br>Total_ticket_value=%{y}<extra></extra>\",\"legendgroup\":\"GO\",\"marker\":{\"color\":\"#19d3f3\",\"size\":[230375],\"sizemode\":\"area\",\"sizeref\":124.63111111111111,\"symbol\":\"circle\"},\"mode\":\"markers\",\"name\":\"GO\",\"orientation\":\"v\",\"showlegend\":true,\"x\":[230375],\"xaxis\":\"x\",\"y\":[50661528.051475525],\"yaxis\":\"y\",\"type\":\"scatter\"},{\"hovertemplate\":\"Infraction_State=TO<br>Violations_Count=%{marker.size}<br>Total_ticket_value=%{y}<extra></extra>\",\"legendgroup\":\"TO\",\"marker\":{\"color\":\"#FF6692\",\"size\":[37861],\"sizemode\":\"area\",\"sizeref\":124.63111111111111,\"symbol\":\"circle\"},\"mode\":\"markers\",\"name\":\"TO\",\"orientation\":\"v\",\"showlegend\":true,\"x\":[37861],\"xaxis\":\"x\",\"y\":[8234440.327224731],\"yaxis\":\"y\",\"type\":\"scatter\"},{\"hovertemplate\":\"Infraction_State=MT<br>Violations_Count=%{marker.size}<br>Total_ticket_value=%{y}<extra></extra>\",\"legendgroup\":\"MT\",\"marker\":{\"color\":\"#B6E880\",\"size\":[172734],\"sizemode\":\"area\",\"sizeref\":124.63111111111111,\"symbol\":\"circle\"},\"mode\":\"markers\",\"name\":\"MT\",\"orientation\":\"v\",\"showlegend\":true,\"x\":[172734],\"xaxis\":\"x\",\"y\":[35817557.54766846],\"yaxis\":\"y\",\"type\":\"scatter\"},{\"hovertemplate\":\"Infraction_State=SP<br>Violations_Count=%{marker.size}<br>Total_ticket_value=%{y}<extra></extra>\",\"legendgroup\":\"SP\",\"marker\":{\"color\":\"#FF97FF\",\"size\":[378074],\"sizemode\":\"area\",\"sizeref\":124.63111111111111,\"symbol\":\"circle\"},\"mode\":\"markers\",\"name\":\"SP\",\"orientation\":\"v\",\"showlegend\":true,\"x\":[378074],\"xaxis\":\"x\",\"y\":[78130854.99378967],\"yaxis\":\"y\",\"type\":\"scatter\"},{\"hovertemplate\":\"Infraction_State=ES<br>Violations_Count=%{marker.size}<br>Total_ticket_value=%{y}<extra></extra>\",\"legendgroup\":\"ES\",\"marker\":{\"color\":\"#FECB52\",\"size\":[150991],\"sizemode\":\"area\",\"sizeref\":124.63111111111111,\"symbol\":\"circle\"},\"mode\":\"markers\",\"name\":\"ES\",\"orientation\":\"v\",\"showlegend\":true,\"x\":[150991],\"xaxis\":\"x\",\"y\":[28556599.891540527],\"yaxis\":\"y\",\"type\":\"scatter\"},{\"hovertemplate\":\"Infraction_State=PB<br>Violations_Count=%{marker.size}<br>Total_ticket_value=%{y}<extra></extra>\",\"legendgroup\":\"PB\",\"marker\":{\"color\":\"#636efa\",\"size\":[77884],\"sizemode\":\"area\",\"sizeref\":124.63111111111111,\"symbol\":\"circle\"},\"mode\":\"markers\",\"name\":\"PB\",\"orientation\":\"v\",\"showlegend\":true,\"x\":[77884],\"xaxis\":\"x\",\"y\":[19697984.494796753],\"yaxis\":\"y\",\"type\":\"scatter\"},{\"hovertemplate\":\"Infraction_State=RS<br>Violations_Count=%{marker.size}<br>Total_ticket_value=%{y}<extra></extra>\",\"legendgroup\":\"RS\",\"marker\":{\"color\":\"#EF553B\",\"size\":[252059],\"sizemode\":\"area\",\"sizeref\":124.63111111111111,\"symbol\":\"circle\"},\"mode\":\"markers\",\"name\":\"RS\",\"orientation\":\"v\",\"showlegend\":true,\"x\":[252059],\"xaxis\":\"x\",\"y\":[53291263.61489105],\"yaxis\":\"y\",\"type\":\"scatter\"},{\"hovertemplate\":\"Infraction_State=MS<br>Violations_Count=%{marker.size}<br>Total_ticket_value=%{y}<extra></extra>\",\"legendgroup\":\"MS\",\"marker\":{\"color\":\"#00cc96\",\"size\":[248186],\"sizemode\":\"area\",\"sizeref\":124.63111111111111,\"symbol\":\"circle\"},\"mode\":\"markers\",\"name\":\"MS\",\"orientation\":\"v\",\"showlegend\":true,\"x\":[248186],\"xaxis\":\"x\",\"y\":[45215779.31459808],\"yaxis\":\"y\",\"type\":\"scatter\"},{\"hovertemplate\":\"Infraction_State=AL<br>Violations_Count=%{marker.size}<br>Total_ticket_value=%{y}<extra></extra>\",\"legendgroup\":\"AL\",\"marker\":{\"color\":\"#ab63fa\",\"size\":[40597],\"sizemode\":\"area\",\"sizeref\":124.63111111111111,\"symbol\":\"circle\"},\"mode\":\"markers\",\"name\":\"AL\",\"orientation\":\"v\",\"showlegend\":true,\"x\":[40597],\"xaxis\":\"x\",\"y\":[10012247.701248169],\"yaxis\":\"y\",\"type\":\"scatter\"},{\"hovertemplate\":\"Infraction_State=MG<br>Violations_Count=%{marker.size}<br>Total_ticket_value=%{y}<extra></extra>\",\"legendgroup\":\"MG\",\"marker\":{\"color\":\"#FFA15A\",\"size\":[448672],\"sizemode\":\"area\",\"sizeref\":124.63111111111111,\"symbol\":\"circle\"},\"mode\":\"markers\",\"name\":\"MG\",\"orientation\":\"v\",\"showlegend\":true,\"x\":[448672],\"xaxis\":\"x\",\"y\":[92949395.99262238],\"yaxis\":\"y\",\"type\":\"scatter\"},{\"hovertemplate\":\"Infraction_State=PA<br>Violations_Count=%{marker.size}<br>Total_ticket_value=%{y}<extra></extra>\",\"legendgroup\":\"PA\",\"marker\":{\"color\":\"#19d3f3\",\"size\":[77960],\"sizemode\":\"area\",\"sizeref\":124.63111111111111,\"symbol\":\"circle\"},\"mode\":\"markers\",\"name\":\"PA\",\"orientation\":\"v\",\"showlegend\":true,\"x\":[77960],\"xaxis\":\"x\",\"y\":[19860206.449165344],\"yaxis\":\"y\",\"type\":\"scatter\"},{\"hovertemplate\":\"Infraction_State=BA<br>Violations_Count=%{marker.size}<br>Total_ticket_value=%{y}<extra></extra>\",\"legendgroup\":\"BA\",\"marker\":{\"color\":\"#FF6692\",\"size\":[417092],\"sizemode\":\"area\",\"sizeref\":124.63111111111111,\"symbol\":\"circle\"},\"mode\":\"markers\",\"name\":\"BA\",\"orientation\":\"v\",\"showlegend\":true,\"x\":[417092],\"xaxis\":\"x\",\"y\":[76483852.00558472],\"yaxis\":\"y\",\"type\":\"scatter\"},{\"hovertemplate\":\"Infraction_State=SE<br>Violations_Count=%{marker.size}<br>Total_ticket_value=%{y}<extra></extra>\",\"legendgroup\":\"SE\",\"marker\":{\"color\":\"#B6E880\",\"size\":[37545],\"sizemode\":\"area\",\"sizeref\":124.63111111111111,\"symbol\":\"circle\"},\"mode\":\"markers\",\"name\":\"SE\",\"orientation\":\"v\",\"showlegend\":true,\"x\":[37545],\"xaxis\":\"x\",\"y\":[9759531.909667969],\"yaxis\":\"y\",\"type\":\"scatter\"},{\"hovertemplate\":\"Infraction_State=PE<br>Violations_Count=%{marker.size}<br>Total_ticket_value=%{y}<extra></extra>\",\"legendgroup\":\"PE\",\"marker\":{\"color\":\"#FF97FF\",\"size\":[136373],\"sizemode\":\"area\",\"sizeref\":124.63111111111111,\"symbol\":\"circle\"},\"mode\":\"markers\",\"name\":\"PE\",\"orientation\":\"v\",\"showlegend\":true,\"x\":[136373],\"xaxis\":\"x\",\"y\":[36970108.675590515],\"yaxis\":\"y\",\"type\":\"scatter\"},{\"hovertemplate\":\"Infraction_State=CE<br>Violations_Count=%{marker.size}<br>Total_ticket_value=%{y}<extra></extra>\",\"legendgroup\":\"CE\",\"marker\":{\"color\":\"#FECB52\",\"size\":[127407],\"sizemode\":\"area\",\"sizeref\":124.63111111111111,\"symbol\":\"circle\"},\"mode\":\"markers\",\"name\":\"CE\",\"orientation\":\"v\",\"showlegend\":true,\"x\":[127407],\"xaxis\":\"x\",\"y\":[27450445.53530121],\"yaxis\":\"y\",\"type\":\"scatter\"},{\"hovertemplate\":\"Infraction_State=RN<br>Violations_Count=%{marker.size}<br>Total_ticket_value=%{y}<extra></extra>\",\"legendgroup\":\"RN\",\"marker\":{\"color\":\"#636efa\",\"size\":[76745],\"sizemode\":\"area\",\"sizeref\":124.63111111111111,\"symbol\":\"circle\"},\"mode\":\"markers\",\"name\":\"RN\",\"orientation\":\"v\",\"showlegend\":true,\"x\":[76745],\"xaxis\":\"x\",\"y\":[19878389.14363098],\"yaxis\":\"y\",\"type\":\"scatter\"},{\"hovertemplate\":\"Infraction_State=RJ<br>Violations_Count=%{marker.size}<br>Total_ticket_value=%{y}<extra></extra>\",\"legendgroup\":\"RJ\",\"marker\":{\"color\":\"#EF553B\",\"size\":[418981],\"sizemode\":\"area\",\"sizeref\":124.63111111111111,\"symbol\":\"circle\"},\"mode\":\"markers\",\"name\":\"RJ\",\"orientation\":\"v\",\"showlegend\":true,\"x\":[418981],\"xaxis\":\"x\",\"y\":[92716687.0568161],\"yaxis\":\"y\",\"type\":\"scatter\"},{\"hovertemplate\":\"Infraction_State=MA<br>Violations_Count=%{marker.size}<br>Total_ticket_value=%{y}<extra></extra>\",\"legendgroup\":\"MA\",\"marker\":{\"color\":\"#00cc96\",\"size\":[73250],\"sizemode\":\"area\",\"sizeref\":124.63111111111111,\"symbol\":\"circle\"},\"mode\":\"markers\",\"name\":\"MA\",\"orientation\":\"v\",\"showlegend\":true,\"x\":[73250],\"xaxis\":\"x\",\"y\":[23778800.57247162],\"yaxis\":\"y\",\"type\":\"scatter\"},{\"hovertemplate\":\"Infraction_State=AC<br>Violations_Count=%{marker.size}<br>Total_ticket_value=%{y}<extra></extra>\",\"legendgroup\":\"AC\",\"marker\":{\"color\":\"#ab63fa\",\"size\":[15531],\"sizemode\":\"area\",\"sizeref\":124.63111111111111,\"symbol\":\"circle\"},\"mode\":\"markers\",\"name\":\"AC\",\"orientation\":\"v\",\"showlegend\":true,\"x\":[15531],\"xaxis\":\"x\",\"y\":[3815800.941192627],\"yaxis\":\"y\",\"type\":\"scatter\"},{\"hovertemplate\":\"Infraction_State=DF<br>Violations_Count=%{marker.size}<br>Total_ticket_value=%{y}<extra></extra>\",\"legendgroup\":\"DF\",\"marker\":{\"color\":\"#FFA15A\",\"size\":[73745],\"sizemode\":\"area\",\"sizeref\":124.63111111111111,\"symbol\":\"circle\"},\"mode\":\"markers\",\"name\":\"DF\",\"orientation\":\"v\",\"showlegend\":true,\"x\":[73745],\"xaxis\":\"x\",\"y\":[16553285.18244934],\"yaxis\":\"y\",\"type\":\"scatter\"},{\"hovertemplate\":\"Infraction_State=PR<br>Violations_Count=%{marker.size}<br>Total_ticket_value=%{y}<extra></extra>\",\"legendgroup\":\"PR\",\"marker\":{\"color\":\"#19d3f3\",\"size\":[237359],\"sizemode\":\"area\",\"sizeref\":124.63111111111111,\"symbol\":\"circle\"},\"mode\":\"markers\",\"name\":\"PR\",\"orientation\":\"v\",\"showlegend\":true,\"x\":[237359],\"xaxis\":\"x\",\"y\":[49206567.26673889],\"yaxis\":\"y\",\"type\":\"scatter\"},{\"hovertemplate\":\"Infraction_State=AP<br>Violations_Count=%{marker.size}<br>Total_ticket_value=%{y}<extra></extra>\",\"legendgroup\":\"AP\",\"marker\":{\"color\":\"#FF6692\",\"size\":[17726],\"sizemode\":\"area\",\"sizeref\":124.63111111111111,\"symbol\":\"circle\"},\"mode\":\"markers\",\"name\":\"AP\",\"orientation\":\"v\",\"showlegend\":true,\"x\":[17726],\"xaxis\":\"x\",\"y\":[5376411.030792236],\"yaxis\":\"y\",\"type\":\"scatter\"}],                        {\"template\":{\"data\":{\"histogram2dcontour\":[{\"type\":\"histogram2dcontour\",\"colorbar\":{\"outlinewidth\":0,\"ticks\":\"\"},\"colorscale\":[[0.0,\"#0d0887\"],[0.1111111111111111,\"#46039f\"],[0.2222222222222222,\"#7201a8\"],[0.3333333333333333,\"#9c179e\"],[0.4444444444444444,\"#bd3786\"],[0.5555555555555556,\"#d8576b\"],[0.6666666666666666,\"#ed7953\"],[0.7777777777777778,\"#fb9f3a\"],[0.8888888888888888,\"#fdca26\"],[1.0,\"#f0f921\"]]}],\"choropleth\":[{\"type\":\"choropleth\",\"colorbar\":{\"outlinewidth\":0,\"ticks\":\"\"}}],\"histogram2d\":[{\"type\":\"histogram2d\",\"colorbar\":{\"outlinewidth\":0,\"ticks\":\"\"},\"colorscale\":[[0.0,\"#0d0887\"],[0.1111111111111111,\"#46039f\"],[0.2222222222222222,\"#7201a8\"],[0.3333333333333333,\"#9c179e\"],[0.4444444444444444,\"#bd3786\"],[0.5555555555555556,\"#d8576b\"],[0.6666666666666666,\"#ed7953\"],[0.7777777777777778,\"#fb9f3a\"],[0.8888888888888888,\"#fdca26\"],[1.0,\"#f0f921\"]]}],\"heatmap\":[{\"type\":\"heatmap\",\"colorbar\":{\"outlinewidth\":0,\"ticks\":\"\"},\"colorscale\":[[0.0,\"#0d0887\"],[0.1111111111111111,\"#46039f\"],[0.2222222222222222,\"#7201a8\"],[0.3333333333333333,\"#9c179e\"],[0.4444444444444444,\"#bd3786\"],[0.5555555555555556,\"#d8576b\"],[0.6666666666666666,\"#ed7953\"],[0.7777777777777778,\"#fb9f3a\"],[0.8888888888888888,\"#fdca26\"],[1.0,\"#f0f921\"]]}],\"heatmapgl\":[{\"type\":\"heatmapgl\",\"colorbar\":{\"outlinewidth\":0,\"ticks\":\"\"},\"colorscale\":[[0.0,\"#0d0887\"],[0.1111111111111111,\"#46039f\"],[0.2222222222222222,\"#7201a8\"],[0.3333333333333333,\"#9c179e\"],[0.4444444444444444,\"#bd3786\"],[0.5555555555555556,\"#d8576b\"],[0.6666666666666666,\"#ed7953\"],[0.7777777777777778,\"#fb9f3a\"],[0.8888888888888888,\"#fdca26\"],[1.0,\"#f0f921\"]]}],\"contourcarpet\":[{\"type\":\"contourcarpet\",\"colorbar\":{\"outlinewidth\":0,\"ticks\":\"\"}}],\"contour\":[{\"type\":\"contour\",\"colorbar\":{\"outlinewidth\":0,\"ticks\":\"\"},\"colorscale\":[[0.0,\"#0d0887\"],[0.1111111111111111,\"#46039f\"],[0.2222222222222222,\"#7201a8\"],[0.3333333333333333,\"#9c179e\"],[0.4444444444444444,\"#bd3786\"],[0.5555555555555556,\"#d8576b\"],[0.6666666666666666,\"#ed7953\"],[0.7777777777777778,\"#fb9f3a\"],[0.8888888888888888,\"#fdca26\"],[1.0,\"#f0f921\"]]}],\"surface\":[{\"type\":\"surface\",\"colorbar\":{\"outlinewidth\":0,\"ticks\":\"\"},\"colorscale\":[[0.0,\"#0d0887\"],[0.1111111111111111,\"#46039f\"],[0.2222222222222222,\"#7201a8\"],[0.3333333333333333,\"#9c179e\"],[0.4444444444444444,\"#bd3786\"],[0.5555555555555556,\"#d8576b\"],[0.6666666666666666,\"#ed7953\"],[0.7777777777777778,\"#fb9f3a\"],[0.8888888888888888,\"#fdca26\"],[1.0,\"#f0f921\"]]}],\"mesh3d\":[{\"type\":\"mesh3d\",\"colorbar\":{\"outlinewidth\":0,\"ticks\":\"\"}}],\"scatter\":[{\"fillpattern\":{\"fillmode\":\"overlay\",\"size\":10,\"solidity\":0.2},\"type\":\"scatter\"}],\"parcoords\":[{\"type\":\"parcoords\",\"line\":{\"colorbar\":{\"outlinewidth\":0,\"ticks\":\"\"}}}],\"scatterpolargl\":[{\"type\":\"scatterpolargl\",\"marker\":{\"colorbar\":{\"outlinewidth\":0,\"ticks\":\"\"}}}],\"bar\":[{\"error_x\":{\"color\":\"#2a3f5f\"},\"error_y\":{\"color\":\"#2a3f5f\"},\"marker\":{\"line\":{\"color\":\"#E5ECF6\",\"width\":0.5},\"pattern\":{\"fillmode\":\"overlay\",\"size\":10,\"solidity\":0.2}},\"type\":\"bar\"}],\"scattergeo\":[{\"type\":\"scattergeo\",\"marker\":{\"colorbar\":{\"outlinewidth\":0,\"ticks\":\"\"}}}],\"scatterpolar\":[{\"type\":\"scatterpolar\",\"marker\":{\"colorbar\":{\"outlinewidth\":0,\"ticks\":\"\"}}}],\"histogram\":[{\"marker\":{\"pattern\":{\"fillmode\":\"overlay\",\"size\":10,\"solidity\":0.2}},\"type\":\"histogram\"}],\"scattergl\":[{\"type\":\"scattergl\",\"marker\":{\"colorbar\":{\"outlinewidth\":0,\"ticks\":\"\"}}}],\"scatter3d\":[{\"type\":\"scatter3d\",\"line\":{\"colorbar\":{\"outlinewidth\":0,\"ticks\":\"\"}},\"marker\":{\"colorbar\":{\"outlinewidth\":0,\"ticks\":\"\"}}}],\"scattermapbox\":[{\"type\":\"scattermapbox\",\"marker\":{\"colorbar\":{\"outlinewidth\":0,\"ticks\":\"\"}}}],\"scatterternary\":[{\"type\":\"scatterternary\",\"marker\":{\"colorbar\":{\"outlinewidth\":0,\"ticks\":\"\"}}}],\"scattercarpet\":[{\"type\":\"scattercarpet\",\"marker\":{\"colorbar\":{\"outlinewidth\":0,\"ticks\":\"\"}}}],\"carpet\":[{\"aaxis\":{\"endlinecolor\":\"#2a3f5f\",\"gridcolor\":\"white\",\"linecolor\":\"white\",\"minorgridcolor\":\"white\",\"startlinecolor\":\"#2a3f5f\"},\"baxis\":{\"endlinecolor\":\"#2a3f5f\",\"gridcolor\":\"white\",\"linecolor\":\"white\",\"minorgridcolor\":\"white\",\"startlinecolor\":\"#2a3f5f\"},\"type\":\"carpet\"}],\"table\":[{\"cells\":{\"fill\":{\"color\":\"#EBF0F8\"},\"line\":{\"color\":\"white\"}},\"header\":{\"fill\":{\"color\":\"#C8D4E3\"},\"line\":{\"color\":\"white\"}},\"type\":\"table\"}],\"barpolar\":[{\"marker\":{\"line\":{\"color\":\"#E5ECF6\",\"width\":0.5},\"pattern\":{\"fillmode\":\"overlay\",\"size\":10,\"solidity\":0.2}},\"type\":\"barpolar\"}],\"pie\":[{\"automargin\":true,\"type\":\"pie\"}]},\"layout\":{\"autotypenumbers\":\"strict\",\"colorway\":[\"#636efa\",\"#EF553B\",\"#00cc96\",\"#ab63fa\",\"#FFA15A\",\"#19d3f3\",\"#FF6692\",\"#B6E880\",\"#FF97FF\",\"#FECB52\"],\"font\":{\"color\":\"#2a3f5f\"},\"hovermode\":\"closest\",\"hoverlabel\":{\"align\":\"left\"},\"paper_bgcolor\":\"white\",\"plot_bgcolor\":\"#E5ECF6\",\"polar\":{\"bgcolor\":\"#E5ECF6\",\"angularaxis\":{\"gridcolor\":\"white\",\"linecolor\":\"white\",\"ticks\":\"\"},\"radialaxis\":{\"gridcolor\":\"white\",\"linecolor\":\"white\",\"ticks\":\"\"}},\"ternary\":{\"bgcolor\":\"#E5ECF6\",\"aaxis\":{\"gridcolor\":\"white\",\"linecolor\":\"white\",\"ticks\":\"\"},\"baxis\":{\"gridcolor\":\"white\",\"linecolor\":\"white\",\"ticks\":\"\"},\"caxis\":{\"gridcolor\":\"white\",\"linecolor\":\"white\",\"ticks\":\"\"}},\"coloraxis\":{\"colorbar\":{\"outlinewidth\":0,\"ticks\":\"\"}},\"colorscale\":{\"sequential\":[[0.0,\"#0d0887\"],[0.1111111111111111,\"#46039f\"],[0.2222222222222222,\"#7201a8\"],[0.3333333333333333,\"#9c179e\"],[0.4444444444444444,\"#bd3786\"],[0.5555555555555556,\"#d8576b\"],[0.6666666666666666,\"#ed7953\"],[0.7777777777777778,\"#fb9f3a\"],[0.8888888888888888,\"#fdca26\"],[1.0,\"#f0f921\"]],\"sequentialminus\":[[0.0,\"#0d0887\"],[0.1111111111111111,\"#46039f\"],[0.2222222222222222,\"#7201a8\"],[0.3333333333333333,\"#9c179e\"],[0.4444444444444444,\"#bd3786\"],[0.5555555555555556,\"#d8576b\"],[0.6666666666666666,\"#ed7953\"],[0.7777777777777778,\"#fb9f3a\"],[0.8888888888888888,\"#fdca26\"],[1.0,\"#f0f921\"]],\"diverging\":[[0,\"#8e0152\"],[0.1,\"#c51b7d\"],[0.2,\"#de77ae\"],[0.3,\"#f1b6da\"],[0.4,\"#fde0ef\"],[0.5,\"#f7f7f7\"],[0.6,\"#e6f5d0\"],[0.7,\"#b8e186\"],[0.8,\"#7fbc41\"],[0.9,\"#4d9221\"],[1,\"#276419\"]]},\"xaxis\":{\"gridcolor\":\"white\",\"linecolor\":\"white\",\"ticks\":\"\",\"title\":{\"standoff\":15},\"zerolinecolor\":\"white\",\"automargin\":true,\"zerolinewidth\":2},\"yaxis\":{\"gridcolor\":\"white\",\"linecolor\":\"white\",\"ticks\":\"\",\"title\":{\"standoff\":15},\"zerolinecolor\":\"white\",\"automargin\":true,\"zerolinewidth\":2},\"scene\":{\"xaxis\":{\"backgroundcolor\":\"#E5ECF6\",\"gridcolor\":\"white\",\"linecolor\":\"white\",\"showbackground\":true,\"ticks\":\"\",\"zerolinecolor\":\"white\",\"gridwidth\":2},\"yaxis\":{\"backgroundcolor\":\"#E5ECF6\",\"gridcolor\":\"white\",\"linecolor\":\"white\",\"showbackground\":true,\"ticks\":\"\",\"zerolinecolor\":\"white\",\"gridwidth\":2},\"zaxis\":{\"backgroundcolor\":\"#E5ECF6\",\"gridcolor\":\"white\",\"linecolor\":\"white\",\"showbackground\":true,\"ticks\":\"\",\"zerolinecolor\":\"white\",\"gridwidth\":2}},\"shapedefaults\":{\"line\":{\"color\":\"#2a3f5f\"}},\"annotationdefaults\":{\"arrowcolor\":\"#2a3f5f\",\"arrowhead\":0,\"arrowwidth\":1},\"geo\":{\"bgcolor\":\"white\",\"landcolor\":\"#E5ECF6\",\"subunitcolor\":\"white\",\"showland\":true,\"showlakes\":true,\"lakecolor\":\"white\"},\"title\":{\"x\":0.05},\"mapbox\":{\"style\":\"light\"}}},\"xaxis\":{\"anchor\":\"y\",\"domain\":[0.0,1.0],\"title\":{\"text\":\"Violations_Count\"},\"type\":\"log\"},\"yaxis\":{\"anchor\":\"x\",\"domain\":[0.0,1.0],\"title\":{\"text\":\"Total_ticket_value\"}},\"legend\":{\"title\":{\"text\":\"Infraction_State\"},\"tracegroupgap\":0,\"itemsizing\":\"constant\"},\"title\":{\"text\":\"Bubble PLOT\"}},                        {\"responsive\": true}                    ).then(function(){\n",
              "                            \n",
              "var gd = document.getElementById('e6f6bf31-fd09-447e-8eb9-425f6010c0ef');\n",
              "var x = new MutationObserver(function (mutations, observer) {{\n",
              "        var display = window.getComputedStyle(gd).display;\n",
              "        if (!display || display === 'none') {{\n",
              "            console.log([gd, 'removed!']);\n",
              "            Plotly.purge(gd);\n",
              "            observer.disconnect();\n",
              "        }}\n",
              "}});\n",
              "\n",
              "// Listen for the removal of the full notebook cells\n",
              "var notebookContainer = gd.closest('#notebook-container');\n",
              "if (notebookContainer) {{\n",
              "    x.observe(notebookContainer, {childList: true});\n",
              "}}\n",
              "\n",
              "// Listen for the clearing of the current output cell\n",
              "var outputEl = gd.closest('.output');\n",
              "if (outputEl) {{\n",
              "    x.observe(outputEl, {childList: true});\n",
              "}}\n",
              "\n",
              "                        })                };                            </script>        </div>\n",
              "</body>\n",
              "</html>"
            ]
          },
          "metadata": {}
        }
      ]
    },
    {
      "cell_type": "code",
      "source": [
        "# Create another dataframe to check the ticket earned in each month\n",
        "\n",
        "from pyspark.sql.functions import col, month\n",
        "\n",
        "# Create a new column 'Month' extracting the month from the 'Data' column\n",
        "TV22 = TV22.withColumn('Month', month(col('Date_of_Violation_DD/MM/YYYY')))\n",
        "\n",
        "# Perform the group by and sum operation\n",
        "Month_ticket_value = TV22.groupBy('Month').agg(spark_sum('Ticket_Value').alias('Ticket_Value')).orderBy('Month')\n",
        "\n",
        "Month_ticket_value.show()\n"
      ],
      "metadata": {
        "colab": {
          "base_uri": "https://localhost:8080/"
        },
        "id": "4DfQmTaZ0Onp",
        "outputId": "3731784e-4407-4e45-d370-d18c82f3fa36"
      },
      "execution_count": 71,
      "outputs": [
        {
          "output_type": "stream",
          "name": "stdout",
          "text": [
            "+-----+--------------------+\n",
            "|Month|        Ticket_Value|\n",
            "+-----+--------------------+\n",
            "|    1| 7.134070206180573E7|\n",
            "|    2|  8.34084510411148E7|\n",
            "|    3|  8.64017058329773E7|\n",
            "|    4| 8.685282327345276E7|\n",
            "|    5| 7.579054229421997E7|\n",
            "|    6| 6.787070042235565E7|\n",
            "|    7|6.4246813547180176E7|\n",
            "|    8| 6.834306110219574E7|\n",
            "|    9| 7.236468826558685E7|\n",
            "|   10| 7.930838055548859E7|\n",
            "|   11| 5.971798238167572E7|\n",
            "|   12| 7.934042027719116E7|\n",
            "+-----+--------------------+\n",
            "\n"
          ]
        }
      ]
    },
    {
      "cell_type": "markdown",
      "source": [
        "### Saving the created dataframes on the datalake folder following the medallion architecture"
      ],
      "metadata": {
        "id": "zLocKzH8gDEq"
      }
    },
    {
      "cell_type": "markdown",
      "source": [
        "Creating the folders"
      ],
      "metadata": {
        "id": "wCRcTq6jgzrw"
      }
    },
    {
      "cell_type": "code",
      "source": [
        "# Create the datalake folder, where I will save some of the dataframes stored there\n",
        "folder_name = \"datalake/silver\"\n",
        "\n",
        "# Check if the folder exists\n",
        "if not os.path.exists(folder_name):\n",
        "    # Create the folder\n",
        "    os.makedirs(folder_name)\n",
        "    print(f\"Folder '{folder_name}' created successfully.\")\n",
        "else:\n",
        "    print(f\"Folder '{folder_name}' already exists.\")"
      ],
      "metadata": {
        "colab": {
          "base_uri": "https://localhost:8080/"
        },
        "id": "_VgKCTcagvh5",
        "outputId": "784150a0-6013-4921-ad0a-ce82e32f4edc"
      },
      "execution_count": 72,
      "outputs": [
        {
          "output_type": "stream",
          "name": "stdout",
          "text": [
            "Folder 'datalake/silver' created successfully.\n"
          ]
        }
      ]
    },
    {
      "cell_type": "code",
      "source": [
        "# Create the datalake folder, where I will save some of the dataframes stored there\n",
        "folder_name = \"datalake/gold\"\n",
        "\n",
        "# Check if the folder exists\n",
        "if not os.path.exists(folder_name):\n",
        "    # Create the folder\n",
        "    os.makedirs(folder_name)\n",
        "    print(f\"Folder '{folder_name}' created successfully.\")\n",
        "else:\n",
        "    print(f\"Folder '{folder_name}' already exists.\")"
      ],
      "metadata": {
        "colab": {
          "base_uri": "https://localhost:8080/"
        },
        "id": "HLu6E4XDgw1e",
        "outputId": "366caa68-e7a4-471e-f920-30d22e18509f"
      },
      "execution_count": 73,
      "outputs": [
        {
          "output_type": "stream",
          "name": "stdout",
          "text": [
            "Folder 'datalake/gold' created successfully.\n"
          ]
        }
      ]
    },
    {
      "cell_type": "markdown",
      "source": [
        "Saving the dataframes TV22 and TV22 as parquet files on the silver folder, these dataframes are the ones that have all data, but they are treated."
      ],
      "metadata": {
        "id": "QCVp6DEcg2X6"
      }
    },
    {
      "cell_type": "code",
      "source": [
        "df_to_parquet(TV22,\"/content/datalake/silver/traffic_violations_2022.parquet\")"
      ],
      "metadata": {
        "colab": {
          "base_uri": "https://localhost:8080/"
        },
        "id": "vuUCcygpfyuL",
        "outputId": "32a97515-9a92-4aff-eda3-980a55137c30"
      },
      "execution_count": 74,
      "outputs": [
        {
          "output_type": "stream",
          "name": "stdout",
          "text": [
            "Parquet file was created and saved on /content/datalake/silver/traffic_violations_2022.parquet\n"
          ]
        }
      ]
    },
    {
      "cell_type": "code",
      "source": [
        "violations_per_day.write.csv(\"/content/datalake/gold/violations_per_day_2022.csv\")\n",
        "violations_per_state.write.csv(\"/content/datalake/gold/violations_per_state_2022.csv\")\n",
        "violations_month_state.write.csv(\"/content/datalake/gold/violations_month_state_2022.csv\")\n",
        "violation_type.write.csv(\"/content/datalake/gold/violation_type_2022.csv\")\n",
        "uf_tickets_value.write.csv(\"/content/datalake/gold/uf_tickets_value_2022.csv\")\n",
        "Month_ticket_value.write.csv(\"/content/datalake/gold/Month_ticket_value_2022.csv\")"
      ],
      "metadata": {
        "id": "dMV8yXT9hasV"
      },
      "execution_count": 75,
      "outputs": []
    },
    {
      "cell_type": "markdown",
      "source": [
        "### Closing Spark Session"
      ],
      "metadata": {
        "id": "2I7K62m5Qjmi"
      }
    },
    {
      "cell_type": "code",
      "source": [
        "spark.stop()"
      ],
      "metadata": {
        "id": "f0AvgoaaQ6mK"
      },
      "execution_count": 76,
      "outputs": []
    },
    {
      "cell_type": "markdown",
      "source": [
        "# Exploratory Data Analysis 2023"
      ],
      "metadata": {
        "id": "e6K1ArNoRjPi"
      }
    },
    {
      "cell_type": "markdown",
      "source": [
        "### Import parquet files\n",
        "Let´s import the parquet files and save on spark dataframes."
      ],
      "metadata": {
        "id": "Nq8FqrbRRjPk"
      }
    },
    {
      "cell_type": "code",
      "source": [
        "# Import Traffic violation parquet files as a spark dataframe\n",
        "\n",
        "# Create a SparkSession\n",
        "spark = SparkSession.builder\\\n",
        "        .master('local')\\\n",
        "        .appName('TVanalysis')\\\n",
        "        .getOrCreate()\n",
        "\n",
        "# Read 2023 traffic violations\n",
        "TV23 = spark.read.parquet(\"/content/datalake/bronze/traffic_violations_2023.parquet\")\n",
        "# TV23 Shape\n",
        "print(\"2023 Traffic violations Dataframe shape:\")\n",
        "print((TV23.count(), len(TV23.columns)))"
      ],
      "metadata": {
        "colab": {
          "base_uri": "https://localhost:8080/"
        },
        "id": "ya3KCyifRjPl",
        "outputId": "f867dd2d-24d5-4b7f-884c-85a86fdf2aee"
      },
      "execution_count": 77,
      "outputs": [
        {
          "output_type": "stream",
          "name": "stdout",
          "text": [
            "2023 Traffic violations Dataframe shape:\n",
            "(2105730, 25)\n"
          ]
        }
      ]
    },
    {
      "cell_type": "code",
      "source": [
        "# Making sure the dataframe type\n",
        "print(\"Dataframe type:\")\n",
        "type(TV23)"
      ],
      "metadata": {
        "colab": {
          "base_uri": "https://localhost:8080/"
        },
        "outputId": "cb38e151-b96c-4fdd-89dd-3bbcf3be0535",
        "id": "IsAw-u9MRjPn"
      },
      "execution_count": 78,
      "outputs": [
        {
          "output_type": "stream",
          "name": "stdout",
          "text": [
            "Dataframe type:\n"
          ]
        },
        {
          "output_type": "execute_result",
          "data": {
            "text/plain": [
              "pyspark.sql.dataframe.DataFrame"
            ]
          },
          "metadata": {},
          "execution_count": 78
        }
      ]
    },
    {
      "cell_type": "markdown",
      "source": [
        "### Translating the header from Portuguese to English\n",
        "The intention is making this notebook understable for everyone."
      ],
      "metadata": {
        "id": "_YP3WmkfRjPp"
      }
    },
    {
      "cell_type": "code",
      "source": [
        "# Define a translation dictionary for column translations\n",
        "translation_dict = {\n",
        "    \"Número_do_Auto\": \"Auto_Number\",\n",
        "    \"Data_da_Infração_DD/MM/AAAA\": \"Date_of_Violation_DD/MM/YYYY\",\n",
        "    \"Indicador_de_Abordagem\": \"Approach_Indicator\",\n",
        "    \"Assinatura_do_Auto\": \"Auto_Signature\",\n",
        "    \"Sentido_Trafego\": \"Traffic_Direction\",\n",
        "    \"UF_Infração\": \"Infraction_State\",\n",
        "    \"BR_Infração\": \"Infraction_BR\",\n",
        "    \"Km_Infração\": \"Infraction_Km\",\n",
        "    \"Município\": \"City\",\n",
        "    \"Indicador_Veiculo_Estrangeiro\": \"Foreign_Vehicle_Indicator\",\n",
        "    \"UF_Placa\": \"License_Plate_State\",\n",
        "    \"Descrição_Especie_Veículo\": \"Vehicle_Species_Description\",\n",
        "    \"Descrição_Marca_Veículo\": \"Vehicle_Brand_Description\",\n",
        "    \"Descrição_Tipo_Veículo\": \"Vehicle_Type_Description\",\n",
        "    \"Descrição_Modelo_Veiculo\": \"Vehicle_Model_Description\",\n",
        "    \"Código_da_Infração\": \"Infraction_Code\",\n",
        "    \"Descrição_Abreviada_Infração\": \"Abbreviated_Infraction_Description\",\n",
        "    \"Enquadramento_da_Infração\": \"Infraction_Framing\",\n",
        "    \"Início_Vigência_da_Infração\": \"Infraction_Start_Vigency\",\n",
        "    \"Fim_Vigência_Infração\": \"Infraction_End_Vigency\",\n",
        "    \"Medição_Infração\": \"Infraction_Measurement\",\n",
        "    \"Hora_Infração\": \"Infraction_Time\",\n",
        "    \"Medição_Considerada\": \"Considered_Measurement\",\n",
        "    \"Excesso_Verificado\": \"Verified_Excess\",\n",
        "    \"Qtd_Infrações\": \"Infraction_Quantity\"\n",
        "}\n",
        "\n",
        "# Translate the column names\n",
        "TV23 = TV23.select(\n",
        "    *[col(c).alias(translation_dict.get(c, c)) for c in TV23.columns]\n",
        ")"
      ],
      "metadata": {
        "id": "r8zRYOzZRjPp"
      },
      "execution_count": 79,
      "outputs": []
    },
    {
      "cell_type": "code",
      "source": [
        "# Checking dataframe schema\n",
        "print(\"2023 Traffic violations Dataframe schema:\")\n",
        "TV23.printSchema()"
      ],
      "metadata": {
        "colab": {
          "base_uri": "https://localhost:8080/"
        },
        "outputId": "3dca1e43-ec13-4970-b530-e2e5487dfd06",
        "id": "gmq5-WI8RjPp"
      },
      "execution_count": 80,
      "outputs": [
        {
          "output_type": "stream",
          "name": "stdout",
          "text": [
            "2023 Traffic violations Dataframe schema:\n",
            "root\n",
            " |-- Auto_Number: string (nullable = true)\n",
            " |-- Date_of_Violation_DD/MM/YYYY: string (nullable = true)\n",
            " |-- Approach_Indicator: string (nullable = true)\n",
            " |-- Auto_Signature: string (nullable = true)\n",
            " |-- Traffic_Direction: string (nullable = true)\n",
            " |-- Infraction_State: string (nullable = true)\n",
            " |-- Infraction_BR: string (nullable = true)\n",
            " |-- Infraction_Km: string (nullable = true)\n",
            " |-- City: string (nullable = true)\n",
            " |-- Foreign_Vehicle_Indicator: string (nullable = true)\n",
            " |-- License_Plate_State: string (nullable = true)\n",
            " |-- Vehicle_Species_Description: string (nullable = true)\n",
            " |-- Vehicle_Brand_Description: string (nullable = true)\n",
            " |-- Vehicle_Type_Description: string (nullable = true)\n",
            " |-- Vehicle_Model_Description: string (nullable = true)\n",
            " |-- Infraction_Code: string (nullable = true)\n",
            " |-- Abbreviated_Infraction_Description: string (nullable = true)\n",
            " |-- Infraction_Framing: string (nullable = true)\n",
            " |-- Infraction_Start_Vigency: string (nullable = true)\n",
            " |-- Infraction_End_Vigency: string (nullable = true)\n",
            " |-- Infraction_Measurement: string (nullable = true)\n",
            " |-- Infraction_Time: string (nullable = true)\n",
            " |-- Considered_Measurement: string (nullable = true)\n",
            " |-- Verified_Excess: string (nullable = true)\n",
            " |-- Infraction_Quantity: string (nullable = true)\n",
            "\n"
          ]
        }
      ]
    },
    {
      "cell_type": "markdown",
      "source": [
        "### Checking unique and null values on each column\n",
        "We will also check the total infractions."
      ],
      "metadata": {
        "id": "7qlj4LAsRjPq"
      }
    },
    {
      "cell_type": "code",
      "source": [
        "from pyspark.sql.functions import col, sum as spark_sum\n",
        "# Count the number of null values in each column\n",
        "null_counts = TV23.select([spark_sum(col(c).isNull().cast(\"integer\")).alias(c) for c in TV23.columns])\n",
        "# Display the null counts\n",
        "print(\"Count the number of null values in each column:\")\n",
        "null_counts.show()"
      ],
      "metadata": {
        "colab": {
          "base_uri": "https://localhost:8080/"
        },
        "outputId": "12986327-105f-415f-a27f-6092adb7b560",
        "id": "YaQafyM6RjPs"
      },
      "execution_count": 81,
      "outputs": [
        {
          "output_type": "stream",
          "name": "stdout",
          "text": [
            "Count the number of null values in each column:\n",
            "+-----------+----------------------------+------------------+--------------+-----------------+----------------+-------------+-------------+----+-------------------------+-------------------+---------------------------+-------------------------+------------------------+-------------------------+---------------+----------------------------------+------------------+------------------------+----------------------+----------------------+---------------+----------------------+---------------+-------------------+\n",
            "|Auto_Number|Date_of_Violation_DD/MM/YYYY|Approach_Indicator|Auto_Signature|Traffic_Direction|Infraction_State|Infraction_BR|Infraction_Km|City|Foreign_Vehicle_Indicator|License_Plate_State|Vehicle_Species_Description|Vehicle_Brand_Description|Vehicle_Type_Description|Vehicle_Model_Description|Infraction_Code|Abbreviated_Infraction_Description|Infraction_Framing|Infraction_Start_Vigency|Infraction_End_Vigency|Infraction_Measurement|Infraction_Time|Considered_Measurement|Verified_Excess|Infraction_Quantity|\n",
            "+-----------+----------------------------+------------------+--------------+-----------------+----------------+-------------+-------------+----+-------------------------+-------------------+---------------------------+-------------------------+------------------------+-------------------------+---------------+----------------------------------+------------------+------------------------+----------------------+----------------------+---------------+----------------------+---------------+-------------------+\n",
            "|          0|                           0|                 0|             0|                0|               0|            0|            0|   0|                        0|                  0|                          0|                        0|                       0|                        0|              0|                                 0|                 0|                       0|                     0|                     0|              0|                     0|              0|                  0|\n",
            "+-----------+----------------------------+------------------+--------------+-----------------+----------------+-------------+-------------+----+-------------------------+-------------------+---------------------------+-------------------------+------------------------+-------------------------+---------------+----------------------------------+------------------+------------------------+----------------------+----------------------+---------------+----------------------+---------------+-------------------+\n",
            "\n"
          ]
        }
      ]
    },
    {
      "cell_type": "code",
      "source": [
        "from pyspark.sql.functions import countDistinct\n",
        "# Calculate the number of unique values in each column\n",
        "nunique_counts = TV23.agg(*[countDistinct(col_name).alias(col_name) for col_name in TV23.columns])\n",
        "# Display the number of unique values\n",
        "print(\"Calculate the number of unique values in each column:\")\n",
        "nunique_counts.show()"
      ],
      "metadata": {
        "colab": {
          "base_uri": "https://localhost:8080/"
        },
        "outputId": "325b7b5e-564c-4f93-a19e-bc4e2bb9e199",
        "id": "UgXbkjwIRjPt"
      },
      "execution_count": 82,
      "outputs": [
        {
          "output_type": "stream",
          "name": "stdout",
          "text": [
            "Calculate the number of unique values in each column:\n",
            "+-----------+----------------------------+------------------+--------------+-----------------+----------------+-------------+-------------+----+-------------------------+-------------------+---------------------------+-------------------------+------------------------+-------------------------+---------------+----------------------------------+------------------+------------------------+----------------------+----------------------+---------------+----------------------+---------------+-------------------+\n",
            "|Auto_Number|Date_of_Violation_DD/MM/YYYY|Approach_Indicator|Auto_Signature|Traffic_Direction|Infraction_State|Infraction_BR|Infraction_Km|City|Foreign_Vehicle_Indicator|License_Plate_State|Vehicle_Species_Description|Vehicle_Brand_Description|Vehicle_Type_Description|Vehicle_Model_Description|Infraction_Code|Abbreviated_Infraction_Description|Infraction_Framing|Infraction_Start_Vigency|Infraction_End_Vigency|Infraction_Measurement|Infraction_Time|Considered_Measurement|Verified_Excess|Infraction_Quantity|\n",
            "+-----------+----------------------------+------------------+--------------+-----------------+----------------+-------------+-------------+----+-------------------------+-------------------+---------------------------+-------------------------+------------------------+-------------------------+---------------+----------------------------------+------------------+------------------------+----------------------+----------------------+---------------+----------------------+---------------+-------------------+\n",
            "|    2105730|                         151|                 2|             2|                2|              27|          129|         1154|1945|                        3|                 29|                         11|                    11814|                      21|                    17454|            361|                               361|               229|                       9|                     1|                     5|             24|                  6986|           5370|                  1|\n",
            "+-----------+----------------------------+------------------+--------------+-----------------+----------------+-------------+-------------+----+-------------------------+-------------------+---------------------------+-------------------------+------------------------+-------------------------+---------------+----------------------------------+------------------+------------------------+----------------------+----------------------+---------------+----------------------+---------------+-------------------+\n",
            "\n"
          ]
        }
      ]
    },
    {
      "cell_type": "code",
      "source": [
        "# Get the total number of rows\n",
        "total_multa = int(TV23.count())\n",
        "# Print the total number of multas\n",
        "print(f'Total of 2022 Traffic Violations: {total_multa}')"
      ],
      "metadata": {
        "colab": {
          "base_uri": "https://localhost:8080/"
        },
        "outputId": "046816e4-6dce-4727-bdb0-04a6a1cd009c",
        "id": "xxfAC8qXRjPu"
      },
      "execution_count": 83,
      "outputs": [
        {
          "output_type": "stream",
          "name": "stdout",
          "text": [
            "Total of 2022 Traffic Violations: 2105730\n"
          ]
        }
      ]
    },
    {
      "cell_type": "markdown",
      "source": [
        "### Converting the column Data_of_Violation to Date Format"
      ],
      "metadata": {
        "id": "NATwGgySRjPu"
      }
    },
    {
      "cell_type": "code",
      "source": [
        "from pyspark.sql.functions import col, to_date\n",
        "# Convert the column to date type\n",
        "TV23 = TV23.withColumn('Date_of_Violation_DD/MM/YYYY', to_date(col('Date_of_Violation_DD/MM/YYYY'), 'yyyy-MM-dd'))\n",
        "# Print the updated data type of the column\n",
        "TV23.printSchema()"
      ],
      "metadata": {
        "colab": {
          "base_uri": "https://localhost:8080/"
        },
        "outputId": "1ad80ed2-7951-466a-cee4-78cb3f291496",
        "id": "g1o5PeTBRjPv"
      },
      "execution_count": 84,
      "outputs": [
        {
          "output_type": "stream",
          "name": "stdout",
          "text": [
            "root\n",
            " |-- Auto_Number: string (nullable = true)\n",
            " |-- Date_of_Violation_DD/MM/YYYY: date (nullable = true)\n",
            " |-- Approach_Indicator: string (nullable = true)\n",
            " |-- Auto_Signature: string (nullable = true)\n",
            " |-- Traffic_Direction: string (nullable = true)\n",
            " |-- Infraction_State: string (nullable = true)\n",
            " |-- Infraction_BR: string (nullable = true)\n",
            " |-- Infraction_Km: string (nullable = true)\n",
            " |-- City: string (nullable = true)\n",
            " |-- Foreign_Vehicle_Indicator: string (nullable = true)\n",
            " |-- License_Plate_State: string (nullable = true)\n",
            " |-- Vehicle_Species_Description: string (nullable = true)\n",
            " |-- Vehicle_Brand_Description: string (nullable = true)\n",
            " |-- Vehicle_Type_Description: string (nullable = true)\n",
            " |-- Vehicle_Model_Description: string (nullable = true)\n",
            " |-- Infraction_Code: string (nullable = true)\n",
            " |-- Abbreviated_Infraction_Description: string (nullable = true)\n",
            " |-- Infraction_Framing: string (nullable = true)\n",
            " |-- Infraction_Start_Vigency: string (nullable = true)\n",
            " |-- Infraction_End_Vigency: string (nullable = true)\n",
            " |-- Infraction_Measurement: string (nullable = true)\n",
            " |-- Infraction_Time: string (nullable = true)\n",
            " |-- Considered_Measurement: string (nullable = true)\n",
            " |-- Verified_Excess: string (nullable = true)\n",
            " |-- Infraction_Quantity: string (nullable = true)\n",
            "\n"
          ]
        }
      ]
    },
    {
      "cell_type": "markdown",
      "source": [
        "### Getting the total of Violations on a day of the year\n",
        "The goal is getting the total violation on a day, along with the moving avarage."
      ],
      "metadata": {
        "id": "CI17Ys4wRjPv"
      }
    },
    {
      "cell_type": "code",
      "source": [
        "from pyspark.sql.functions import expr\n",
        "from pyspark.sql.window import Window\n",
        "\n",
        "# Creating a temporary view called TV23\n",
        "TV23.createOrReplaceTempView(\"TV23\")\n",
        "\n",
        "# Creating a query, to get the contect from the temp view\n",
        "query = \"SELECT\\\n",
        "            `Date_of_Violation_DD/MM/YYYY` AS `Date`, \\\n",
        "            COUNT(*) AS `Violations_Count`, \\\n",
        "            MONTH(`Date_of_Violation_DD/MM/YYYY`) AS `Month`, \\\n",
        "            DAY(`Date_of_Violation_DD/MM/YYYY`) AS `Day`\\\n",
        "        FROM \\\n",
        "            TV23 \\\n",
        "        GROUP BY \\\n",
        "            `Date_of_Violation_DD/MM/YYYY` \\\n",
        "        ORDER BY \\\n",
        "            `Date_of_Violation_DD/MM/YYYY`\"\n",
        "\n",
        "# run the query and storying in another variable\n",
        "violations_per_day = spark.sql(query)\n",
        "\n",
        "# Get the moving avarage\n",
        "window_spec = Window.orderBy(\"Date\").rowsBetween(-6, 0)\n",
        "violations_per_day = violations_per_day.withColumn(\"moving_avarage\", expr(\"avg(Violations_Count)\").over(window_spec))\n",
        "\n",
        "# see result\n",
        "violations_per_day.show(10)"
      ],
      "metadata": {
        "colab": {
          "base_uri": "https://localhost:8080/"
        },
        "outputId": "ef42689e-49a1-42a9-cfcc-3614b8451731",
        "id": "VdRVw7m7RjPw"
      },
      "execution_count": 85,
      "outputs": [
        {
          "output_type": "stream",
          "name": "stdout",
          "text": [
            "+----------+----------------+-----+---+------------------+\n",
            "|      Date|Violations_Count|Month|Day|    moving_avarage|\n",
            "+----------+----------------+-----+---+------------------+\n",
            "|2023-01-01|           10907|    1|  1|           10907.0|\n",
            "|2023-01-02|           11276|    1|  2|           11091.5|\n",
            "|2023-01-03|           12293|    1|  3|           11492.0|\n",
            "|2023-01-04|           10635|    1|  4|          11277.75|\n",
            "|2023-01-05|           10013|    1|  5|           11024.8|\n",
            "|2023-01-06|           11531|    1|  6|11109.166666666666|\n",
            "|2023-01-07|           10728|    1|  7|11054.714285714286|\n",
            "|2023-01-08|            9993|    1|  8|10924.142857142857|\n",
            "|2023-01-09|           10615|    1|  9|10829.714285714286|\n",
            "|2023-01-10|           10434|    1| 10|10564.142857142857|\n",
            "+----------+----------------+-----+---+------------------+\n",
            "only showing top 10 rows\n",
            "\n"
          ]
        }
      ]
    },
    {
      "cell_type": "code",
      "source": [
        "violations_per_day.printSchema()"
      ],
      "metadata": {
        "colab": {
          "base_uri": "https://localhost:8080/"
        },
        "outputId": "5fab4b76-d30a-46fb-defc-882bc222324c",
        "id": "KP0tnTpSRjPw"
      },
      "execution_count": 86,
      "outputs": [
        {
          "output_type": "stream",
          "name": "stdout",
          "text": [
            "root\n",
            " |-- Date: date (nullable = true)\n",
            " |-- Violations_Count: long (nullable = false)\n",
            " |-- Month: integer (nullable = true)\n",
            " |-- Day: integer (nullable = true)\n",
            " |-- moving_avarage: double (nullable = true)\n",
            "\n"
          ]
        }
      ]
    },
    {
      "cell_type": "markdown",
      "source": [
        "### Install plotly\n",
        "We will install Plotly to leverage its powerful visualization capabilities for our exploratory analysis."
      ],
      "metadata": {
        "id": "89-7AAuKRjPx"
      }
    },
    {
      "cell_type": "code",
      "source": [
        "import plotly.express as px\n",
        "import plotly.graph_objects as go\n",
        "from plotly.subplots import make_subplots"
      ],
      "metadata": {
        "id": "ZijpBmDiRjPx"
      },
      "execution_count": 87,
      "outputs": []
    },
    {
      "cell_type": "code",
      "source": [
        "!pip install plotly"
      ],
      "metadata": {
        "colab": {
          "base_uri": "https://localhost:8080/"
        },
        "outputId": "7165a16c-8def-4340-a455-f93c2550ee3c",
        "id": "xTwAfjNTRjPy"
      },
      "execution_count": 88,
      "outputs": [
        {
          "output_type": "stream",
          "name": "stdout",
          "text": [
            "Requirement already satisfied: plotly in /usr/local/lib/python3.10/dist-packages (5.13.1)\n",
            "Requirement already satisfied: tenacity>=6.2.0 in /usr/local/lib/python3.10/dist-packages (from plotly) (8.2.2)\n"
          ]
        }
      ]
    },
    {
      "cell_type": "markdown",
      "source": [
        "To generate the charts using Plotly we need to conver the Spark dataframes on Pandas Dataframes"
      ],
      "metadata": {
        "id": "6DAHHzqURjPy"
      }
    },
    {
      "cell_type": "code",
      "source": [
        "# Import pandas lib\n",
        "import pandas as pd\n",
        "\n",
        "# Converting Spark Dataframe to Pandas Dataframe\n",
        "df_violations_per_day = violations_per_day.toPandas()"
      ],
      "metadata": {
        "id": "KyuR0g9HRjPz"
      },
      "execution_count": 89,
      "outputs": []
    },
    {
      "cell_type": "markdown",
      "source": [
        "### Create our first line chart\n",
        "We plotly the df_violations_per_day dataframe, on a line chart."
      ],
      "metadata": {
        "id": "qFEWo8QjRjPz"
      }
    },
    {
      "cell_type": "code",
      "source": [
        "px.line(\n",
        "    df_violations_per_day,\n",
        "    x='Date',\n",
        "    y='Violations_Count'\n",
        ")"
      ],
      "metadata": {
        "colab": {
          "base_uri": "https://localhost:8080/",
          "height": 562
        },
        "outputId": "e15eee48-fd5e-4382-ced1-cc65864203b9",
        "id": "3g4bycf1RjPz"
      },
      "execution_count": 90,
      "outputs": [
        {
          "output_type": "display_data",
          "data": {
            "text/html": [
              "<html>\n",
              "<head><meta charset=\"utf-8\" /></head>\n",
              "<body>\n",
              "    <div>            <script src=\"https://cdnjs.cloudflare.com/ajax/libs/mathjax/2.7.5/MathJax.js?config=TeX-AMS-MML_SVG\"></script><script type=\"text/javascript\">if (window.MathJax && window.MathJax.Hub && window.MathJax.Hub.Config) {window.MathJax.Hub.Config({SVG: {font: \"STIX-Web\"}});}</script>                <script type=\"text/javascript\">window.PlotlyConfig = {MathJaxConfig: 'local'};</script>\n",
              "        <script src=\"https://cdn.plot.ly/plotly-2.18.2.min.js\"></script>                <div id=\"db6a688f-9255-4867-a460-77caa1b29cc2\" class=\"plotly-graph-div\" style=\"height:525px; width:100%;\"></div>            <script type=\"text/javascript\">                                    window.PLOTLYENV=window.PLOTLYENV || {};                                    if (document.getElementById(\"db6a688f-9255-4867-a460-77caa1b29cc2\")) {                    Plotly.newPlot(                        \"db6a688f-9255-4867-a460-77caa1b29cc2\",                        [{\"hovertemplate\":\"Date=%{x}<br>Violations_Count=%{y}<extra></extra>\",\"legendgroup\":\"\",\"line\":{\"color\":\"#636efa\",\"dash\":\"solid\"},\"marker\":{\"symbol\":\"circle\"},\"mode\":\"lines\",\"name\":\"\",\"orientation\":\"v\",\"showlegend\":false,\"x\":[\"2023-01-01\",\"2023-01-02\",\"2023-01-03\",\"2023-01-04\",\"2023-01-05\",\"2023-01-06\",\"2023-01-07\",\"2023-01-08\",\"2023-01-09\",\"2023-01-10\",\"2023-01-11\",\"2023-01-12\",\"2023-01-13\",\"2023-01-14\",\"2023-01-15\",\"2023-01-16\",\"2023-01-17\",\"2023-01-18\",\"2023-01-19\",\"2023-01-20\",\"2023-01-21\",\"2023-01-22\",\"2023-01-23\",\"2023-01-24\",\"2023-01-25\",\"2023-01-26\",\"2023-01-27\",\"2023-01-28\",\"2023-01-29\",\"2023-01-30\",\"2023-01-31\",\"2023-02-01\",\"2023-02-02\",\"2023-02-03\",\"2023-02-04\",\"2023-02-05\",\"2023-02-06\",\"2023-02-07\",\"2023-02-08\",\"2023-02-09\",\"2023-02-10\",\"2023-02-11\",\"2023-02-12\",\"2023-02-13\",\"2023-02-14\",\"2023-02-15\",\"2023-02-16\",\"2023-02-17\",\"2023-02-18\",\"2023-02-19\",\"2023-02-20\",\"2023-02-21\",\"2023-02-22\",\"2023-02-23\",\"2023-02-24\",\"2023-02-25\",\"2023-02-26\",\"2023-02-27\",\"2023-02-28\",\"2023-03-01\",\"2023-03-02\",\"2023-03-03\",\"2023-03-04\",\"2023-03-05\",\"2023-03-06\",\"2023-03-07\",\"2023-03-08\",\"2023-03-09\",\"2023-03-10\",\"2023-03-11\",\"2023-03-12\",\"2023-03-13\",\"2023-03-14\",\"2023-03-15\",\"2023-03-16\",\"2023-03-17\",\"2023-03-18\",\"2023-03-19\",\"2023-03-20\",\"2023-03-21\",\"2023-03-22\",\"2023-03-23\",\"2023-03-24\",\"2023-03-25\",\"2023-03-26\",\"2023-03-27\",\"2023-03-28\",\"2023-03-29\",\"2023-03-30\",\"2023-03-31\",\"2023-04-01\",\"2023-04-02\",\"2023-04-03\",\"2023-04-04\",\"2023-04-05\",\"2023-04-06\",\"2023-04-07\",\"2023-04-08\",\"2023-04-09\",\"2023-04-10\",\"2023-04-11\",\"2023-04-12\",\"2023-04-13\",\"2023-04-14\",\"2023-04-15\",\"2023-04-16\",\"2023-04-17\",\"2023-04-18\",\"2023-04-19\",\"2023-04-20\",\"2023-04-21\",\"2023-04-22\",\"2023-04-23\",\"2023-04-24\",\"2023-04-25\",\"2023-04-26\",\"2023-04-27\",\"2023-04-28\",\"2023-04-29\",\"2023-04-30\",\"2023-05-01\",\"2023-05-02\",\"2023-05-03\",\"2023-05-04\",\"2023-05-05\",\"2023-05-06\",\"2023-05-07\",\"2023-05-08\",\"2023-05-09\",\"2023-05-10\",\"2023-05-11\",\"2023-05-12\",\"2023-05-13\",\"2023-05-14\",\"2023-05-15\",\"2023-05-16\",\"2023-05-17\",\"2023-05-18\",\"2023-05-19\",\"2023-05-20\",\"2023-05-21\",\"2023-05-22\",\"2023-05-23\",\"2023-05-24\",\"2023-05-25\",\"2023-05-26\",\"2023-05-27\",\"2023-05-28\",\"2023-05-29\",\"2023-05-30\",\"2023-05-31\"],\"xaxis\":\"x\",\"y\":[10907,11276,12293,10635,10013,11531,10728,9993,10615,10434,11228,12380,11111,10048,10369,11374,11764,9747,11617,10636,4512,5649,11182,10116,11182,7664,8525,7531,8146,8252,7728,8483,7288,8328,7314,7724,9120,7623,7024,13772,14747,14527,14881,13908,13889,17124,18406,24556,21180,18820,18105,23974,24199,15033,16887,15401,18190,16304,16757,13891,15372,15218,14794,17467,16988,10799,8304,10544,17453,14139,18273,15882,15309,16361,15617,16465,16921,18109,15957,15746,14995,15547,16085,16828,16680,16146,14311,16530,18176,16308,15432,15194,16829,14518,16900,20217,18652,14736,19178,14970,14917,13822,14401,13353,11693,13918,14506,11957,13980,21305,23486,18687,21423,6661,6938,14598,13985,18924,20593,22595,21699,13481,12702,13031,14740,12722,15930,14853,12744,11975,12193,13696,12638,12558,13324,11901,11945,12230,15478,13263,16358,14346,12859,11854,11422,16014,13743,15277,12596,12147,13678],\"yaxis\":\"y\",\"type\":\"scatter\"}],                        {\"template\":{\"data\":{\"histogram2dcontour\":[{\"type\":\"histogram2dcontour\",\"colorbar\":{\"outlinewidth\":0,\"ticks\":\"\"},\"colorscale\":[[0.0,\"#0d0887\"],[0.1111111111111111,\"#46039f\"],[0.2222222222222222,\"#7201a8\"],[0.3333333333333333,\"#9c179e\"],[0.4444444444444444,\"#bd3786\"],[0.5555555555555556,\"#d8576b\"],[0.6666666666666666,\"#ed7953\"],[0.7777777777777778,\"#fb9f3a\"],[0.8888888888888888,\"#fdca26\"],[1.0,\"#f0f921\"]]}],\"choropleth\":[{\"type\":\"choropleth\",\"colorbar\":{\"outlinewidth\":0,\"ticks\":\"\"}}],\"histogram2d\":[{\"type\":\"histogram2d\",\"colorbar\":{\"outlinewidth\":0,\"ticks\":\"\"},\"colorscale\":[[0.0,\"#0d0887\"],[0.1111111111111111,\"#46039f\"],[0.2222222222222222,\"#7201a8\"],[0.3333333333333333,\"#9c179e\"],[0.4444444444444444,\"#bd3786\"],[0.5555555555555556,\"#d8576b\"],[0.6666666666666666,\"#ed7953\"],[0.7777777777777778,\"#fb9f3a\"],[0.8888888888888888,\"#fdca26\"],[1.0,\"#f0f921\"]]}],\"heatmap\":[{\"type\":\"heatmap\",\"colorbar\":{\"outlinewidth\":0,\"ticks\":\"\"},\"colorscale\":[[0.0,\"#0d0887\"],[0.1111111111111111,\"#46039f\"],[0.2222222222222222,\"#7201a8\"],[0.3333333333333333,\"#9c179e\"],[0.4444444444444444,\"#bd3786\"],[0.5555555555555556,\"#d8576b\"],[0.6666666666666666,\"#ed7953\"],[0.7777777777777778,\"#fb9f3a\"],[0.8888888888888888,\"#fdca26\"],[1.0,\"#f0f921\"]]}],\"heatmapgl\":[{\"type\":\"heatmapgl\",\"colorbar\":{\"outlinewidth\":0,\"ticks\":\"\"},\"colorscale\":[[0.0,\"#0d0887\"],[0.1111111111111111,\"#46039f\"],[0.2222222222222222,\"#7201a8\"],[0.3333333333333333,\"#9c179e\"],[0.4444444444444444,\"#bd3786\"],[0.5555555555555556,\"#d8576b\"],[0.6666666666666666,\"#ed7953\"],[0.7777777777777778,\"#fb9f3a\"],[0.8888888888888888,\"#fdca26\"],[1.0,\"#f0f921\"]]}],\"contourcarpet\":[{\"type\":\"contourcarpet\",\"colorbar\":{\"outlinewidth\":0,\"ticks\":\"\"}}],\"contour\":[{\"type\":\"contour\",\"colorbar\":{\"outlinewidth\":0,\"ticks\":\"\"},\"colorscale\":[[0.0,\"#0d0887\"],[0.1111111111111111,\"#46039f\"],[0.2222222222222222,\"#7201a8\"],[0.3333333333333333,\"#9c179e\"],[0.4444444444444444,\"#bd3786\"],[0.5555555555555556,\"#d8576b\"],[0.6666666666666666,\"#ed7953\"],[0.7777777777777778,\"#fb9f3a\"],[0.8888888888888888,\"#fdca26\"],[1.0,\"#f0f921\"]]}],\"surface\":[{\"type\":\"surface\",\"colorbar\":{\"outlinewidth\":0,\"ticks\":\"\"},\"colorscale\":[[0.0,\"#0d0887\"],[0.1111111111111111,\"#46039f\"],[0.2222222222222222,\"#7201a8\"],[0.3333333333333333,\"#9c179e\"],[0.4444444444444444,\"#bd3786\"],[0.5555555555555556,\"#d8576b\"],[0.6666666666666666,\"#ed7953\"],[0.7777777777777778,\"#fb9f3a\"],[0.8888888888888888,\"#fdca26\"],[1.0,\"#f0f921\"]]}],\"mesh3d\":[{\"type\":\"mesh3d\",\"colorbar\":{\"outlinewidth\":0,\"ticks\":\"\"}}],\"scatter\":[{\"fillpattern\":{\"fillmode\":\"overlay\",\"size\":10,\"solidity\":0.2},\"type\":\"scatter\"}],\"parcoords\":[{\"type\":\"parcoords\",\"line\":{\"colorbar\":{\"outlinewidth\":0,\"ticks\":\"\"}}}],\"scatterpolargl\":[{\"type\":\"scatterpolargl\",\"marker\":{\"colorbar\":{\"outlinewidth\":0,\"ticks\":\"\"}}}],\"bar\":[{\"error_x\":{\"color\":\"#2a3f5f\"},\"error_y\":{\"color\":\"#2a3f5f\"},\"marker\":{\"line\":{\"color\":\"#E5ECF6\",\"width\":0.5},\"pattern\":{\"fillmode\":\"overlay\",\"size\":10,\"solidity\":0.2}},\"type\":\"bar\"}],\"scattergeo\":[{\"type\":\"scattergeo\",\"marker\":{\"colorbar\":{\"outlinewidth\":0,\"ticks\":\"\"}}}],\"scatterpolar\":[{\"type\":\"scatterpolar\",\"marker\":{\"colorbar\":{\"outlinewidth\":0,\"ticks\":\"\"}}}],\"histogram\":[{\"marker\":{\"pattern\":{\"fillmode\":\"overlay\",\"size\":10,\"solidity\":0.2}},\"type\":\"histogram\"}],\"scattergl\":[{\"type\":\"scattergl\",\"marker\":{\"colorbar\":{\"outlinewidth\":0,\"ticks\":\"\"}}}],\"scatter3d\":[{\"type\":\"scatter3d\",\"line\":{\"colorbar\":{\"outlinewidth\":0,\"ticks\":\"\"}},\"marker\":{\"colorbar\":{\"outlinewidth\":0,\"ticks\":\"\"}}}],\"scattermapbox\":[{\"type\":\"scattermapbox\",\"marker\":{\"colorbar\":{\"outlinewidth\":0,\"ticks\":\"\"}}}],\"scatterternary\":[{\"type\":\"scatterternary\",\"marker\":{\"colorbar\":{\"outlinewidth\":0,\"ticks\":\"\"}}}],\"scattercarpet\":[{\"type\":\"scattercarpet\",\"marker\":{\"colorbar\":{\"outlinewidth\":0,\"ticks\":\"\"}}}],\"carpet\":[{\"aaxis\":{\"endlinecolor\":\"#2a3f5f\",\"gridcolor\":\"white\",\"linecolor\":\"white\",\"minorgridcolor\":\"white\",\"startlinecolor\":\"#2a3f5f\"},\"baxis\":{\"endlinecolor\":\"#2a3f5f\",\"gridcolor\":\"white\",\"linecolor\":\"white\",\"minorgridcolor\":\"white\",\"startlinecolor\":\"#2a3f5f\"},\"type\":\"carpet\"}],\"table\":[{\"cells\":{\"fill\":{\"color\":\"#EBF0F8\"},\"line\":{\"color\":\"white\"}},\"header\":{\"fill\":{\"color\":\"#C8D4E3\"},\"line\":{\"color\":\"white\"}},\"type\":\"table\"}],\"barpolar\":[{\"marker\":{\"line\":{\"color\":\"#E5ECF6\",\"width\":0.5},\"pattern\":{\"fillmode\":\"overlay\",\"size\":10,\"solidity\":0.2}},\"type\":\"barpolar\"}],\"pie\":[{\"automargin\":true,\"type\":\"pie\"}]},\"layout\":{\"autotypenumbers\":\"strict\",\"colorway\":[\"#636efa\",\"#EF553B\",\"#00cc96\",\"#ab63fa\",\"#FFA15A\",\"#19d3f3\",\"#FF6692\",\"#B6E880\",\"#FF97FF\",\"#FECB52\"],\"font\":{\"color\":\"#2a3f5f\"},\"hovermode\":\"closest\",\"hoverlabel\":{\"align\":\"left\"},\"paper_bgcolor\":\"white\",\"plot_bgcolor\":\"#E5ECF6\",\"polar\":{\"bgcolor\":\"#E5ECF6\",\"angularaxis\":{\"gridcolor\":\"white\",\"linecolor\":\"white\",\"ticks\":\"\"},\"radialaxis\":{\"gridcolor\":\"white\",\"linecolor\":\"white\",\"ticks\":\"\"}},\"ternary\":{\"bgcolor\":\"#E5ECF6\",\"aaxis\":{\"gridcolor\":\"white\",\"linecolor\":\"white\",\"ticks\":\"\"},\"baxis\":{\"gridcolor\":\"white\",\"linecolor\":\"white\",\"ticks\":\"\"},\"caxis\":{\"gridcolor\":\"white\",\"linecolor\":\"white\",\"ticks\":\"\"}},\"coloraxis\":{\"colorbar\":{\"outlinewidth\":0,\"ticks\":\"\"}},\"colorscale\":{\"sequential\":[[0.0,\"#0d0887\"],[0.1111111111111111,\"#46039f\"],[0.2222222222222222,\"#7201a8\"],[0.3333333333333333,\"#9c179e\"],[0.4444444444444444,\"#bd3786\"],[0.5555555555555556,\"#d8576b\"],[0.6666666666666666,\"#ed7953\"],[0.7777777777777778,\"#fb9f3a\"],[0.8888888888888888,\"#fdca26\"],[1.0,\"#f0f921\"]],\"sequentialminus\":[[0.0,\"#0d0887\"],[0.1111111111111111,\"#46039f\"],[0.2222222222222222,\"#7201a8\"],[0.3333333333333333,\"#9c179e\"],[0.4444444444444444,\"#bd3786\"],[0.5555555555555556,\"#d8576b\"],[0.6666666666666666,\"#ed7953\"],[0.7777777777777778,\"#fb9f3a\"],[0.8888888888888888,\"#fdca26\"],[1.0,\"#f0f921\"]],\"diverging\":[[0,\"#8e0152\"],[0.1,\"#c51b7d\"],[0.2,\"#de77ae\"],[0.3,\"#f1b6da\"],[0.4,\"#fde0ef\"],[0.5,\"#f7f7f7\"],[0.6,\"#e6f5d0\"],[0.7,\"#b8e186\"],[0.8,\"#7fbc41\"],[0.9,\"#4d9221\"],[1,\"#276419\"]]},\"xaxis\":{\"gridcolor\":\"white\",\"linecolor\":\"white\",\"ticks\":\"\",\"title\":{\"standoff\":15},\"zerolinecolor\":\"white\",\"automargin\":true,\"zerolinewidth\":2},\"yaxis\":{\"gridcolor\":\"white\",\"linecolor\":\"white\",\"ticks\":\"\",\"title\":{\"standoff\":15},\"zerolinecolor\":\"white\",\"automargin\":true,\"zerolinewidth\":2},\"scene\":{\"xaxis\":{\"backgroundcolor\":\"#E5ECF6\",\"gridcolor\":\"white\",\"linecolor\":\"white\",\"showbackground\":true,\"ticks\":\"\",\"zerolinecolor\":\"white\",\"gridwidth\":2},\"yaxis\":{\"backgroundcolor\":\"#E5ECF6\",\"gridcolor\":\"white\",\"linecolor\":\"white\",\"showbackground\":true,\"ticks\":\"\",\"zerolinecolor\":\"white\",\"gridwidth\":2},\"zaxis\":{\"backgroundcolor\":\"#E5ECF6\",\"gridcolor\":\"white\",\"linecolor\":\"white\",\"showbackground\":true,\"ticks\":\"\",\"zerolinecolor\":\"white\",\"gridwidth\":2}},\"shapedefaults\":{\"line\":{\"color\":\"#2a3f5f\"}},\"annotationdefaults\":{\"arrowcolor\":\"#2a3f5f\",\"arrowhead\":0,\"arrowwidth\":1},\"geo\":{\"bgcolor\":\"white\",\"landcolor\":\"#E5ECF6\",\"subunitcolor\":\"white\",\"showland\":true,\"showlakes\":true,\"lakecolor\":\"white\"},\"title\":{\"x\":0.05},\"mapbox\":{\"style\":\"light\"}}},\"xaxis\":{\"anchor\":\"y\",\"domain\":[0.0,1.0],\"title\":{\"text\":\"Date\"}},\"yaxis\":{\"anchor\":\"x\",\"domain\":[0.0,1.0],\"title\":{\"text\":\"Violations_Count\"}},\"legend\":{\"tracegroupgap\":0},\"margin\":{\"t\":60}},                        {\"responsive\": true}                    ).then(function(){\n",
              "                            \n",
              "var gd = document.getElementById('db6a688f-9255-4867-a460-77caa1b29cc2');\n",
              "var x = new MutationObserver(function (mutations, observer) {{\n",
              "        var display = window.getComputedStyle(gd).display;\n",
              "        if (!display || display === 'none') {{\n",
              "            console.log([gd, 'removed!']);\n",
              "            Plotly.purge(gd);\n",
              "            observer.disconnect();\n",
              "        }}\n",
              "}});\n",
              "\n",
              "// Listen for the removal of the full notebook cells\n",
              "var notebookContainer = gd.closest('#notebook-container');\n",
              "if (notebookContainer) {{\n",
              "    x.observe(notebookContainer, {childList: true});\n",
              "}}\n",
              "\n",
              "// Listen for the clearing of the current output cell\n",
              "var outputEl = gd.closest('.output');\n",
              "if (outputEl) {{\n",
              "    x.observe(outputEl, {childList: true});\n",
              "}}\n",
              "\n",
              "                        })                };                            </script>        </div>\n",
              "</body>\n",
              "</html>"
            ]
          },
          "metadata": {}
        }
      ]
    },
    {
      "cell_type": "markdown",
      "source": [
        "### Creating a Box Plot\n",
        "On this chart we want to check the outliers for each month.\n",
        "\n",
        "**Month with more outliers: March**\n",
        "\n",
        "**Month with the best median: January**"
      ],
      "metadata": {
        "id": "Eus8wtVmRjPz"
      }
    },
    {
      "cell_type": "code",
      "source": [
        "# Boxplot\n",
        "px.box(\n",
        "    df_violations_per_day,\n",
        "    x='Month',\n",
        "    y='Violations_Count',\n",
        "    color='Month',\n",
        "    title='Tickets per Month Distribution'\n",
        ")"
      ],
      "metadata": {
        "colab": {
          "base_uri": "https://localhost:8080/",
          "height": 562
        },
        "outputId": "18017a47-e21a-4933-f71d-1b5abf0a9d07",
        "id": "IyJjn4fGRjP0"
      },
      "execution_count": 91,
      "outputs": [
        {
          "output_type": "display_data",
          "data": {
            "text/html": [
              "<html>\n",
              "<head><meta charset=\"utf-8\" /></head>\n",
              "<body>\n",
              "    <div>            <script src=\"https://cdnjs.cloudflare.com/ajax/libs/mathjax/2.7.5/MathJax.js?config=TeX-AMS-MML_SVG\"></script><script type=\"text/javascript\">if (window.MathJax && window.MathJax.Hub && window.MathJax.Hub.Config) {window.MathJax.Hub.Config({SVG: {font: \"STIX-Web\"}});}</script>                <script type=\"text/javascript\">window.PlotlyConfig = {MathJaxConfig: 'local'};</script>\n",
              "        <script src=\"https://cdn.plot.ly/plotly-2.18.2.min.js\"></script>                <div id=\"5e1fc431-3ced-4f7d-b490-00ac6b19d19c\" class=\"plotly-graph-div\" style=\"height:525px; width:100%;\"></div>            <script type=\"text/javascript\">                                    window.PLOTLYENV=window.PLOTLYENV || {};                                    if (document.getElementById(\"5e1fc431-3ced-4f7d-b490-00ac6b19d19c\")) {                    Plotly.newPlot(                        \"5e1fc431-3ced-4f7d-b490-00ac6b19d19c\",                        [{\"alignmentgroup\":\"True\",\"hovertemplate\":\"Month=%{x}<br>Violations_Count=%{y}<extra></extra>\",\"legendgroup\":\"1\",\"marker\":{\"color\":\"#636efa\"},\"name\":\"1\",\"notched\":false,\"offsetgroup\":\"1\",\"orientation\":\"v\",\"showlegend\":true,\"x\":[1,1,1,1,1,1,1,1,1,1,1,1,1,1,1,1,1,1,1,1,1,1,1,1,1,1,1,1,1,1,1],\"x0\":\" \",\"xaxis\":\"x\",\"y\":[10907,11276,12293,10635,10013,11531,10728,9993,10615,10434,11228,12380,11111,10048,10369,11374,11764,9747,11617,10636,4512,5649,11182,10116,11182,7664,8525,7531,8146,8252,7728],\"y0\":\" \",\"yaxis\":\"y\",\"type\":\"box\"},{\"alignmentgroup\":\"True\",\"hovertemplate\":\"Month=%{x}<br>Violations_Count=%{y}<extra></extra>\",\"legendgroup\":\"2\",\"marker\":{\"color\":\"#EF553B\"},\"name\":\"2\",\"notched\":false,\"offsetgroup\":\"2\",\"orientation\":\"v\",\"showlegend\":true,\"x\":[2,2,2,2,2,2,2,2,2,2,2,2,2,2,2,2,2,2,2,2,2,2,2,2,2,2,2,2],\"x0\":\" \",\"xaxis\":\"x\",\"y\":[8483,7288,8328,7314,7724,9120,7623,7024,13772,14747,14527,14881,13908,13889,17124,18406,24556,21180,18820,18105,23974,24199,15033,16887,15401,18190,16304,16757],\"y0\":\" \",\"yaxis\":\"y\",\"type\":\"box\"},{\"alignmentgroup\":\"True\",\"hovertemplate\":\"Month=%{x}<br>Violations_Count=%{y}<extra></extra>\",\"legendgroup\":\"3\",\"marker\":{\"color\":\"#00cc96\"},\"name\":\"3\",\"notched\":false,\"offsetgroup\":\"3\",\"orientation\":\"v\",\"showlegend\":true,\"x\":[3,3,3,3,3,3,3,3,3,3,3,3,3,3,3,3,3,3,3,3,3,3,3,3,3,3,3,3,3,3,3],\"x0\":\" \",\"xaxis\":\"x\",\"y\":[13891,15372,15218,14794,17467,16988,10799,8304,10544,17453,14139,18273,15882,15309,16361,15617,16465,16921,18109,15957,15746,14995,15547,16085,16828,16680,16146,14311,16530,18176,16308],\"y0\":\" \",\"yaxis\":\"y\",\"type\":\"box\"},{\"alignmentgroup\":\"True\",\"hovertemplate\":\"Month=%{x}<br>Violations_Count=%{y}<extra></extra>\",\"legendgroup\":\"4\",\"marker\":{\"color\":\"#ab63fa\"},\"name\":\"4\",\"notched\":false,\"offsetgroup\":\"4\",\"orientation\":\"v\",\"showlegend\":true,\"x\":[4,4,4,4,4,4,4,4,4,4,4,4,4,4,4,4,4,4,4,4,4,4,4,4,4,4,4,4,4,4],\"x0\":\" \",\"xaxis\":\"x\",\"y\":[15432,15194,16829,14518,16900,20217,18652,14736,19178,14970,14917,13822,14401,13353,11693,13918,14506,11957,13980,21305,23486,18687,21423,6661,6938,14598,13985,18924,20593,22595],\"y0\":\" \",\"yaxis\":\"y\",\"type\":\"box\"},{\"alignmentgroup\":\"True\",\"hovertemplate\":\"Month=%{x}<br>Violations_Count=%{y}<extra></extra>\",\"legendgroup\":\"5\",\"marker\":{\"color\":\"#FFA15A\"},\"name\":\"5\",\"notched\":false,\"offsetgroup\":\"5\",\"orientation\":\"v\",\"showlegend\":true,\"x\":[5,5,5,5,5,5,5,5,5,5,5,5,5,5,5,5,5,5,5,5,5,5,5,5,5,5,5,5,5,5,5],\"x0\":\" \",\"xaxis\":\"x\",\"y\":[21699,13481,12702,13031,14740,12722,15930,14853,12744,11975,12193,13696,12638,12558,13324,11901,11945,12230,15478,13263,16358,14346,12859,11854,11422,16014,13743,15277,12596,12147,13678],\"y0\":\" \",\"yaxis\":\"y\",\"type\":\"box\"}],                        {\"template\":{\"data\":{\"histogram2dcontour\":[{\"type\":\"histogram2dcontour\",\"colorbar\":{\"outlinewidth\":0,\"ticks\":\"\"},\"colorscale\":[[0.0,\"#0d0887\"],[0.1111111111111111,\"#46039f\"],[0.2222222222222222,\"#7201a8\"],[0.3333333333333333,\"#9c179e\"],[0.4444444444444444,\"#bd3786\"],[0.5555555555555556,\"#d8576b\"],[0.6666666666666666,\"#ed7953\"],[0.7777777777777778,\"#fb9f3a\"],[0.8888888888888888,\"#fdca26\"],[1.0,\"#f0f921\"]]}],\"choropleth\":[{\"type\":\"choropleth\",\"colorbar\":{\"outlinewidth\":0,\"ticks\":\"\"}}],\"histogram2d\":[{\"type\":\"histogram2d\",\"colorbar\":{\"outlinewidth\":0,\"ticks\":\"\"},\"colorscale\":[[0.0,\"#0d0887\"],[0.1111111111111111,\"#46039f\"],[0.2222222222222222,\"#7201a8\"],[0.3333333333333333,\"#9c179e\"],[0.4444444444444444,\"#bd3786\"],[0.5555555555555556,\"#d8576b\"],[0.6666666666666666,\"#ed7953\"],[0.7777777777777778,\"#fb9f3a\"],[0.8888888888888888,\"#fdca26\"],[1.0,\"#f0f921\"]]}],\"heatmap\":[{\"type\":\"heatmap\",\"colorbar\":{\"outlinewidth\":0,\"ticks\":\"\"},\"colorscale\":[[0.0,\"#0d0887\"],[0.1111111111111111,\"#46039f\"],[0.2222222222222222,\"#7201a8\"],[0.3333333333333333,\"#9c179e\"],[0.4444444444444444,\"#bd3786\"],[0.5555555555555556,\"#d8576b\"],[0.6666666666666666,\"#ed7953\"],[0.7777777777777778,\"#fb9f3a\"],[0.8888888888888888,\"#fdca26\"],[1.0,\"#f0f921\"]]}],\"heatmapgl\":[{\"type\":\"heatmapgl\",\"colorbar\":{\"outlinewidth\":0,\"ticks\":\"\"},\"colorscale\":[[0.0,\"#0d0887\"],[0.1111111111111111,\"#46039f\"],[0.2222222222222222,\"#7201a8\"],[0.3333333333333333,\"#9c179e\"],[0.4444444444444444,\"#bd3786\"],[0.5555555555555556,\"#d8576b\"],[0.6666666666666666,\"#ed7953\"],[0.7777777777777778,\"#fb9f3a\"],[0.8888888888888888,\"#fdca26\"],[1.0,\"#f0f921\"]]}],\"contourcarpet\":[{\"type\":\"contourcarpet\",\"colorbar\":{\"outlinewidth\":0,\"ticks\":\"\"}}],\"contour\":[{\"type\":\"contour\",\"colorbar\":{\"outlinewidth\":0,\"ticks\":\"\"},\"colorscale\":[[0.0,\"#0d0887\"],[0.1111111111111111,\"#46039f\"],[0.2222222222222222,\"#7201a8\"],[0.3333333333333333,\"#9c179e\"],[0.4444444444444444,\"#bd3786\"],[0.5555555555555556,\"#d8576b\"],[0.6666666666666666,\"#ed7953\"],[0.7777777777777778,\"#fb9f3a\"],[0.8888888888888888,\"#fdca26\"],[1.0,\"#f0f921\"]]}],\"surface\":[{\"type\":\"surface\",\"colorbar\":{\"outlinewidth\":0,\"ticks\":\"\"},\"colorscale\":[[0.0,\"#0d0887\"],[0.1111111111111111,\"#46039f\"],[0.2222222222222222,\"#7201a8\"],[0.3333333333333333,\"#9c179e\"],[0.4444444444444444,\"#bd3786\"],[0.5555555555555556,\"#d8576b\"],[0.6666666666666666,\"#ed7953\"],[0.7777777777777778,\"#fb9f3a\"],[0.8888888888888888,\"#fdca26\"],[1.0,\"#f0f921\"]]}],\"mesh3d\":[{\"type\":\"mesh3d\",\"colorbar\":{\"outlinewidth\":0,\"ticks\":\"\"}}],\"scatter\":[{\"fillpattern\":{\"fillmode\":\"overlay\",\"size\":10,\"solidity\":0.2},\"type\":\"scatter\"}],\"parcoords\":[{\"type\":\"parcoords\",\"line\":{\"colorbar\":{\"outlinewidth\":0,\"ticks\":\"\"}}}],\"scatterpolargl\":[{\"type\":\"scatterpolargl\",\"marker\":{\"colorbar\":{\"outlinewidth\":0,\"ticks\":\"\"}}}],\"bar\":[{\"error_x\":{\"color\":\"#2a3f5f\"},\"error_y\":{\"color\":\"#2a3f5f\"},\"marker\":{\"line\":{\"color\":\"#E5ECF6\",\"width\":0.5},\"pattern\":{\"fillmode\":\"overlay\",\"size\":10,\"solidity\":0.2}},\"type\":\"bar\"}],\"scattergeo\":[{\"type\":\"scattergeo\",\"marker\":{\"colorbar\":{\"outlinewidth\":0,\"ticks\":\"\"}}}],\"scatterpolar\":[{\"type\":\"scatterpolar\",\"marker\":{\"colorbar\":{\"outlinewidth\":0,\"ticks\":\"\"}}}],\"histogram\":[{\"marker\":{\"pattern\":{\"fillmode\":\"overlay\",\"size\":10,\"solidity\":0.2}},\"type\":\"histogram\"}],\"scattergl\":[{\"type\":\"scattergl\",\"marker\":{\"colorbar\":{\"outlinewidth\":0,\"ticks\":\"\"}}}],\"scatter3d\":[{\"type\":\"scatter3d\",\"line\":{\"colorbar\":{\"outlinewidth\":0,\"ticks\":\"\"}},\"marker\":{\"colorbar\":{\"outlinewidth\":0,\"ticks\":\"\"}}}],\"scattermapbox\":[{\"type\":\"scattermapbox\",\"marker\":{\"colorbar\":{\"outlinewidth\":0,\"ticks\":\"\"}}}],\"scatterternary\":[{\"type\":\"scatterternary\",\"marker\":{\"colorbar\":{\"outlinewidth\":0,\"ticks\":\"\"}}}],\"scattercarpet\":[{\"type\":\"scattercarpet\",\"marker\":{\"colorbar\":{\"outlinewidth\":0,\"ticks\":\"\"}}}],\"carpet\":[{\"aaxis\":{\"endlinecolor\":\"#2a3f5f\",\"gridcolor\":\"white\",\"linecolor\":\"white\",\"minorgridcolor\":\"white\",\"startlinecolor\":\"#2a3f5f\"},\"baxis\":{\"endlinecolor\":\"#2a3f5f\",\"gridcolor\":\"white\",\"linecolor\":\"white\",\"minorgridcolor\":\"white\",\"startlinecolor\":\"#2a3f5f\"},\"type\":\"carpet\"}],\"table\":[{\"cells\":{\"fill\":{\"color\":\"#EBF0F8\"},\"line\":{\"color\":\"white\"}},\"header\":{\"fill\":{\"color\":\"#C8D4E3\"},\"line\":{\"color\":\"white\"}},\"type\":\"table\"}],\"barpolar\":[{\"marker\":{\"line\":{\"color\":\"#E5ECF6\",\"width\":0.5},\"pattern\":{\"fillmode\":\"overlay\",\"size\":10,\"solidity\":0.2}},\"type\":\"barpolar\"}],\"pie\":[{\"automargin\":true,\"type\":\"pie\"}]},\"layout\":{\"autotypenumbers\":\"strict\",\"colorway\":[\"#636efa\",\"#EF553B\",\"#00cc96\",\"#ab63fa\",\"#FFA15A\",\"#19d3f3\",\"#FF6692\",\"#B6E880\",\"#FF97FF\",\"#FECB52\"],\"font\":{\"color\":\"#2a3f5f\"},\"hovermode\":\"closest\",\"hoverlabel\":{\"align\":\"left\"},\"paper_bgcolor\":\"white\",\"plot_bgcolor\":\"#E5ECF6\",\"polar\":{\"bgcolor\":\"#E5ECF6\",\"angularaxis\":{\"gridcolor\":\"white\",\"linecolor\":\"white\",\"ticks\":\"\"},\"radialaxis\":{\"gridcolor\":\"white\",\"linecolor\":\"white\",\"ticks\":\"\"}},\"ternary\":{\"bgcolor\":\"#E5ECF6\",\"aaxis\":{\"gridcolor\":\"white\",\"linecolor\":\"white\",\"ticks\":\"\"},\"baxis\":{\"gridcolor\":\"white\",\"linecolor\":\"white\",\"ticks\":\"\"},\"caxis\":{\"gridcolor\":\"white\",\"linecolor\":\"white\",\"ticks\":\"\"}},\"coloraxis\":{\"colorbar\":{\"outlinewidth\":0,\"ticks\":\"\"}},\"colorscale\":{\"sequential\":[[0.0,\"#0d0887\"],[0.1111111111111111,\"#46039f\"],[0.2222222222222222,\"#7201a8\"],[0.3333333333333333,\"#9c179e\"],[0.4444444444444444,\"#bd3786\"],[0.5555555555555556,\"#d8576b\"],[0.6666666666666666,\"#ed7953\"],[0.7777777777777778,\"#fb9f3a\"],[0.8888888888888888,\"#fdca26\"],[1.0,\"#f0f921\"]],\"sequentialminus\":[[0.0,\"#0d0887\"],[0.1111111111111111,\"#46039f\"],[0.2222222222222222,\"#7201a8\"],[0.3333333333333333,\"#9c179e\"],[0.4444444444444444,\"#bd3786\"],[0.5555555555555556,\"#d8576b\"],[0.6666666666666666,\"#ed7953\"],[0.7777777777777778,\"#fb9f3a\"],[0.8888888888888888,\"#fdca26\"],[1.0,\"#f0f921\"]],\"diverging\":[[0,\"#8e0152\"],[0.1,\"#c51b7d\"],[0.2,\"#de77ae\"],[0.3,\"#f1b6da\"],[0.4,\"#fde0ef\"],[0.5,\"#f7f7f7\"],[0.6,\"#e6f5d0\"],[0.7,\"#b8e186\"],[0.8,\"#7fbc41\"],[0.9,\"#4d9221\"],[1,\"#276419\"]]},\"xaxis\":{\"gridcolor\":\"white\",\"linecolor\":\"white\",\"ticks\":\"\",\"title\":{\"standoff\":15},\"zerolinecolor\":\"white\",\"automargin\":true,\"zerolinewidth\":2},\"yaxis\":{\"gridcolor\":\"white\",\"linecolor\":\"white\",\"ticks\":\"\",\"title\":{\"standoff\":15},\"zerolinecolor\":\"white\",\"automargin\":true,\"zerolinewidth\":2},\"scene\":{\"xaxis\":{\"backgroundcolor\":\"#E5ECF6\",\"gridcolor\":\"white\",\"linecolor\":\"white\",\"showbackground\":true,\"ticks\":\"\",\"zerolinecolor\":\"white\",\"gridwidth\":2},\"yaxis\":{\"backgroundcolor\":\"#E5ECF6\",\"gridcolor\":\"white\",\"linecolor\":\"white\",\"showbackground\":true,\"ticks\":\"\",\"zerolinecolor\":\"white\",\"gridwidth\":2},\"zaxis\":{\"backgroundcolor\":\"#E5ECF6\",\"gridcolor\":\"white\",\"linecolor\":\"white\",\"showbackground\":true,\"ticks\":\"\",\"zerolinecolor\":\"white\",\"gridwidth\":2}},\"shapedefaults\":{\"line\":{\"color\":\"#2a3f5f\"}},\"annotationdefaults\":{\"arrowcolor\":\"#2a3f5f\",\"arrowhead\":0,\"arrowwidth\":1},\"geo\":{\"bgcolor\":\"white\",\"landcolor\":\"#E5ECF6\",\"subunitcolor\":\"white\",\"showland\":true,\"showlakes\":true,\"lakecolor\":\"white\"},\"title\":{\"x\":0.05},\"mapbox\":{\"style\":\"light\"}}},\"xaxis\":{\"anchor\":\"y\",\"domain\":[0.0,1.0],\"title\":{\"text\":\"Month\"},\"categoryorder\":\"array\",\"categoryarray\":[1,2,3,4,5]},\"yaxis\":{\"anchor\":\"x\",\"domain\":[0.0,1.0],\"title\":{\"text\":\"Violations_Count\"}},\"legend\":{\"title\":{\"text\":\"Month\"},\"tracegroupgap\":0},\"title\":{\"text\":\"Tickets per Month Distribution\"},\"boxmode\":\"overlay\"},                        {\"responsive\": true}                    ).then(function(){\n",
              "                            \n",
              "var gd = document.getElementById('5e1fc431-3ced-4f7d-b490-00ac6b19d19c');\n",
              "var x = new MutationObserver(function (mutations, observer) {{\n",
              "        var display = window.getComputedStyle(gd).display;\n",
              "        if (!display || display === 'none') {{\n",
              "            console.log([gd, 'removed!']);\n",
              "            Plotly.purge(gd);\n",
              "            observer.disconnect();\n",
              "        }}\n",
              "}});\n",
              "\n",
              "// Listen for the removal of the full notebook cells\n",
              "var notebookContainer = gd.closest('#notebook-container');\n",
              "if (notebookContainer) {{\n",
              "    x.observe(notebookContainer, {childList: true});\n",
              "}}\n",
              "\n",
              "// Listen for the clearing of the current output cell\n",
              "var outputEl = gd.closest('.output');\n",
              "if (outputEl) {{\n",
              "    x.observe(outputEl, {childList: true});\n",
              "}}\n",
              "\n",
              "                        })                };                            </script>        </div>\n",
              "</body>\n",
              "</html>"
            ]
          },
          "metadata": {}
        }
      ]
    },
    {
      "cell_type": "markdown",
      "source": [
        "### Creating a Grid System\n",
        "Just for earning pourposes we will create a grid system, we will create two charts date x violations count and date x moving avarage"
      ],
      "metadata": {
        "id": "kclK8eASRjP0"
      }
    },
    {
      "cell_type": "code",
      "source": [
        "# Grid System\n",
        "\n",
        "# Grid\n",
        "Grid = make_subplots( rows=1, cols= 2 )\n",
        "\n",
        "# Graph 1\n",
        "Grid.add_trace(\n",
        "    go.Scatter(\n",
        "        x=df_violations_per_day['Date'],\n",
        "        y=df_violations_per_day['Violations_Count'],\n",
        "        mode='lines',\n",
        "        name='Violations Count'\n",
        "    ),\n",
        "    row=1, col=1\n",
        ")\n",
        "\n",
        "# Graph 2\n",
        "Grid.add_trace(\n",
        "    go.Scatter(\n",
        "        x=df_violations_per_day['Date'],\n",
        "        y=df_violations_per_day['moving_avarage'],\n",
        "        mode='lines',\n",
        "        name='Moving Avarage'\n",
        "    ),\n",
        "    row=1, col=2\n",
        ")\n",
        "\n",
        "# Layout Adjust\n",
        "Grid.update_layout(\n",
        "\n",
        "    # title\n",
        "    title='Traffic Violation Analyses per Day - Grid System',\n",
        "\n",
        "    # legend\n",
        "    showlegend=True,\n",
        "\n",
        "    legend=dict(\n",
        "        orientation='h',\n",
        "        yanchor='bottom',\n",
        "        y=1.02,\n",
        "        xanchor='right',\n",
        "        x=1\n",
        "    )\n",
        ")\n",
        "\n",
        "Grid"
      ],
      "metadata": {
        "colab": {
          "base_uri": "https://localhost:8080/",
          "height": 562
        },
        "outputId": "82d87213-4a49-440f-895a-23c1f42a1fbf",
        "id": "KJ66JnvURjP1"
      },
      "execution_count": 92,
      "outputs": [
        {
          "output_type": "display_data",
          "data": {
            "text/html": [
              "<html>\n",
              "<head><meta charset=\"utf-8\" /></head>\n",
              "<body>\n",
              "    <div>            <script src=\"https://cdnjs.cloudflare.com/ajax/libs/mathjax/2.7.5/MathJax.js?config=TeX-AMS-MML_SVG\"></script><script type=\"text/javascript\">if (window.MathJax && window.MathJax.Hub && window.MathJax.Hub.Config) {window.MathJax.Hub.Config({SVG: {font: \"STIX-Web\"}});}</script>                <script type=\"text/javascript\">window.PlotlyConfig = {MathJaxConfig: 'local'};</script>\n",
              "        <script src=\"https://cdn.plot.ly/plotly-2.18.2.min.js\"></script>                <div id=\"f849338f-fb26-4b56-bf2e-4d0cd13a848f\" class=\"plotly-graph-div\" style=\"height:525px; width:100%;\"></div>            <script type=\"text/javascript\">                                    window.PLOTLYENV=window.PLOTLYENV || {};                                    if (document.getElementById(\"f849338f-fb26-4b56-bf2e-4d0cd13a848f\")) {                    Plotly.newPlot(                        \"f849338f-fb26-4b56-bf2e-4d0cd13a848f\",                        [{\"mode\":\"lines\",\"name\":\"Violations Count\",\"x\":[\"2023-01-01\",\"2023-01-02\",\"2023-01-03\",\"2023-01-04\",\"2023-01-05\",\"2023-01-06\",\"2023-01-07\",\"2023-01-08\",\"2023-01-09\",\"2023-01-10\",\"2023-01-11\",\"2023-01-12\",\"2023-01-13\",\"2023-01-14\",\"2023-01-15\",\"2023-01-16\",\"2023-01-17\",\"2023-01-18\",\"2023-01-19\",\"2023-01-20\",\"2023-01-21\",\"2023-01-22\",\"2023-01-23\",\"2023-01-24\",\"2023-01-25\",\"2023-01-26\",\"2023-01-27\",\"2023-01-28\",\"2023-01-29\",\"2023-01-30\",\"2023-01-31\",\"2023-02-01\",\"2023-02-02\",\"2023-02-03\",\"2023-02-04\",\"2023-02-05\",\"2023-02-06\",\"2023-02-07\",\"2023-02-08\",\"2023-02-09\",\"2023-02-10\",\"2023-02-11\",\"2023-02-12\",\"2023-02-13\",\"2023-02-14\",\"2023-02-15\",\"2023-02-16\",\"2023-02-17\",\"2023-02-18\",\"2023-02-19\",\"2023-02-20\",\"2023-02-21\",\"2023-02-22\",\"2023-02-23\",\"2023-02-24\",\"2023-02-25\",\"2023-02-26\",\"2023-02-27\",\"2023-02-28\",\"2023-03-01\",\"2023-03-02\",\"2023-03-03\",\"2023-03-04\",\"2023-03-05\",\"2023-03-06\",\"2023-03-07\",\"2023-03-08\",\"2023-03-09\",\"2023-03-10\",\"2023-03-11\",\"2023-03-12\",\"2023-03-13\",\"2023-03-14\",\"2023-03-15\",\"2023-03-16\",\"2023-03-17\",\"2023-03-18\",\"2023-03-19\",\"2023-03-20\",\"2023-03-21\",\"2023-03-22\",\"2023-03-23\",\"2023-03-24\",\"2023-03-25\",\"2023-03-26\",\"2023-03-27\",\"2023-03-28\",\"2023-03-29\",\"2023-03-30\",\"2023-03-31\",\"2023-04-01\",\"2023-04-02\",\"2023-04-03\",\"2023-04-04\",\"2023-04-05\",\"2023-04-06\",\"2023-04-07\",\"2023-04-08\",\"2023-04-09\",\"2023-04-10\",\"2023-04-11\",\"2023-04-12\",\"2023-04-13\",\"2023-04-14\",\"2023-04-15\",\"2023-04-16\",\"2023-04-17\",\"2023-04-18\",\"2023-04-19\",\"2023-04-20\",\"2023-04-21\",\"2023-04-22\",\"2023-04-23\",\"2023-04-24\",\"2023-04-25\",\"2023-04-26\",\"2023-04-27\",\"2023-04-28\",\"2023-04-29\",\"2023-04-30\",\"2023-05-01\",\"2023-05-02\",\"2023-05-03\",\"2023-05-04\",\"2023-05-05\",\"2023-05-06\",\"2023-05-07\",\"2023-05-08\",\"2023-05-09\",\"2023-05-10\",\"2023-05-11\",\"2023-05-12\",\"2023-05-13\",\"2023-05-14\",\"2023-05-15\",\"2023-05-16\",\"2023-05-17\",\"2023-05-18\",\"2023-05-19\",\"2023-05-20\",\"2023-05-21\",\"2023-05-22\",\"2023-05-23\",\"2023-05-24\",\"2023-05-25\",\"2023-05-26\",\"2023-05-27\",\"2023-05-28\",\"2023-05-29\",\"2023-05-30\",\"2023-05-31\"],\"y\":[10907,11276,12293,10635,10013,11531,10728,9993,10615,10434,11228,12380,11111,10048,10369,11374,11764,9747,11617,10636,4512,5649,11182,10116,11182,7664,8525,7531,8146,8252,7728,8483,7288,8328,7314,7724,9120,7623,7024,13772,14747,14527,14881,13908,13889,17124,18406,24556,21180,18820,18105,23974,24199,15033,16887,15401,18190,16304,16757,13891,15372,15218,14794,17467,16988,10799,8304,10544,17453,14139,18273,15882,15309,16361,15617,16465,16921,18109,15957,15746,14995,15547,16085,16828,16680,16146,14311,16530,18176,16308,15432,15194,16829,14518,16900,20217,18652,14736,19178,14970,14917,13822,14401,13353,11693,13918,14506,11957,13980,21305,23486,18687,21423,6661,6938,14598,13985,18924,20593,22595,21699,13481,12702,13031,14740,12722,15930,14853,12744,11975,12193,13696,12638,12558,13324,11901,11945,12230,15478,13263,16358,14346,12859,11854,11422,16014,13743,15277,12596,12147,13678],\"type\":\"scatter\",\"xaxis\":\"x\",\"yaxis\":\"y\"},{\"mode\":\"lines\",\"name\":\"Moving Avarage\",\"x\":[\"2023-01-01\",\"2023-01-02\",\"2023-01-03\",\"2023-01-04\",\"2023-01-05\",\"2023-01-06\",\"2023-01-07\",\"2023-01-08\",\"2023-01-09\",\"2023-01-10\",\"2023-01-11\",\"2023-01-12\",\"2023-01-13\",\"2023-01-14\",\"2023-01-15\",\"2023-01-16\",\"2023-01-17\",\"2023-01-18\",\"2023-01-19\",\"2023-01-20\",\"2023-01-21\",\"2023-01-22\",\"2023-01-23\",\"2023-01-24\",\"2023-01-25\",\"2023-01-26\",\"2023-01-27\",\"2023-01-28\",\"2023-01-29\",\"2023-01-30\",\"2023-01-31\",\"2023-02-01\",\"2023-02-02\",\"2023-02-03\",\"2023-02-04\",\"2023-02-05\",\"2023-02-06\",\"2023-02-07\",\"2023-02-08\",\"2023-02-09\",\"2023-02-10\",\"2023-02-11\",\"2023-02-12\",\"2023-02-13\",\"2023-02-14\",\"2023-02-15\",\"2023-02-16\",\"2023-02-17\",\"2023-02-18\",\"2023-02-19\",\"2023-02-20\",\"2023-02-21\",\"2023-02-22\",\"2023-02-23\",\"2023-02-24\",\"2023-02-25\",\"2023-02-26\",\"2023-02-27\",\"2023-02-28\",\"2023-03-01\",\"2023-03-02\",\"2023-03-03\",\"2023-03-04\",\"2023-03-05\",\"2023-03-06\",\"2023-03-07\",\"2023-03-08\",\"2023-03-09\",\"2023-03-10\",\"2023-03-11\",\"2023-03-12\",\"2023-03-13\",\"2023-03-14\",\"2023-03-15\",\"2023-03-16\",\"2023-03-17\",\"2023-03-18\",\"2023-03-19\",\"2023-03-20\",\"2023-03-21\",\"2023-03-22\",\"2023-03-23\",\"2023-03-24\",\"2023-03-25\",\"2023-03-26\",\"2023-03-27\",\"2023-03-28\",\"2023-03-29\",\"2023-03-30\",\"2023-03-31\",\"2023-04-01\",\"2023-04-02\",\"2023-04-03\",\"2023-04-04\",\"2023-04-05\",\"2023-04-06\",\"2023-04-07\",\"2023-04-08\",\"2023-04-09\",\"2023-04-10\",\"2023-04-11\",\"2023-04-12\",\"2023-04-13\",\"2023-04-14\",\"2023-04-15\",\"2023-04-16\",\"2023-04-17\",\"2023-04-18\",\"2023-04-19\",\"2023-04-20\",\"2023-04-21\",\"2023-04-22\",\"2023-04-23\",\"2023-04-24\",\"2023-04-25\",\"2023-04-26\",\"2023-04-27\",\"2023-04-28\",\"2023-04-29\",\"2023-04-30\",\"2023-05-01\",\"2023-05-02\",\"2023-05-03\",\"2023-05-04\",\"2023-05-05\",\"2023-05-06\",\"2023-05-07\",\"2023-05-08\",\"2023-05-09\",\"2023-05-10\",\"2023-05-11\",\"2023-05-12\",\"2023-05-13\",\"2023-05-14\",\"2023-05-15\",\"2023-05-16\",\"2023-05-17\",\"2023-05-18\",\"2023-05-19\",\"2023-05-20\",\"2023-05-21\",\"2023-05-22\",\"2023-05-23\",\"2023-05-24\",\"2023-05-25\",\"2023-05-26\",\"2023-05-27\",\"2023-05-28\",\"2023-05-29\",\"2023-05-30\",\"2023-05-31\"],\"y\":[10907.0,11091.5,11492.0,11277.75,11024.8,11109.166666666666,11054.714285714286,10924.142857142857,10829.714285714286,10564.142857142857,10648.857142857143,10987.0,10927.0,10829.857142857143,10883.57142857143,10992.0,11182.0,10970.42857142857,10861.42857142857,10793.57142857143,10002.714285714286,9328.42857142857,9301.0,9065.57142857143,9270.57142857143,8705.857142857143,8404.285714285714,8835.57142857143,9192.285714285714,8773.714285714286,8432.57142857143,8047.0,7993.285714285715,7965.142857142857,7934.142857142857,7873.857142857143,7997.857142857143,7982.857142857143,7774.428571428572,8700.714285714286,9617.714285714286,10648.142857142857,11670.57142857143,12354.57142857143,13249.714285714286,14692.57142857143,15354.57142857143,16755.85714285714,17706.285714285714,18269.0,18868.571428571428,20309.285714285714,21320.0,20838.14285714286,19742.571428571428,18917.0,18827.0,18569.714285714286,17538.714285714286,16066.142857142857,16114.57142857143,15876.142857142857,15789.42857142857,15686.142857142857,15783.857142857143,14932.714285714286,14134.57142857143,13444.857142857143,13764.142857142857,13670.57142857143,13785.714285714286,13627.714285714286,14272.0,15423.0,16147.714285714286,16006.57142857143,16404.0,16380.57142857143,16391.285714285714,16453.714285714286,16258.57142857143,16248.57142857143,16194.285714285714,16181.0,15976.857142857143,16003.857142857143,15798.857142857143,16018.142857142857,16393.714285714286,16425.571428571428,16226.142857142857,16013.857142857143,16111.42857142857,16141.0,16193.857142857143,16485.428571428572,16820.285714285714,16720.85714285714,17290.0,17024.428571428572,17081.428571428572,16641.714285714286,15810.857142857143,15053.857142857143,14619.142857142857,13867.714285714286,13801.42857142857,13378.57142857143,13401.142857142857,14387.42857142857,15835.0,16834.14285714286,17906.285714285714,16785.571428571428,16068.57142857143,16156.857142857143,15111.142857142857,14459.42857142857,14731.714285714286,14899.142857142857,17047.428571428572,17982.14285714286,17711.285714285714,17575.0,16977.285714285714,15852.857142857143,14900.714285714286,13922.714285714286,13817.42857142857,13713.57142857143,13593.857142857143,13444.714285714286,13432.714285714286,12951.0,12732.57142857143,12612.142857142857,12607.857142857143,12613.142857142857,12867.714285714286,12957.0,13499.857142857143,13645.857142857143,13782.714285714286,13769.714285714286,13654.285714285714,13730.857142857143,13799.42857142857,13645.0,13395.0,13293.285714285714,13553.857142857143],\"type\":\"scatter\",\"xaxis\":\"x2\",\"yaxis\":\"y2\"}],                        {\"template\":{\"data\":{\"histogram2dcontour\":[{\"type\":\"histogram2dcontour\",\"colorbar\":{\"outlinewidth\":0,\"ticks\":\"\"},\"colorscale\":[[0.0,\"#0d0887\"],[0.1111111111111111,\"#46039f\"],[0.2222222222222222,\"#7201a8\"],[0.3333333333333333,\"#9c179e\"],[0.4444444444444444,\"#bd3786\"],[0.5555555555555556,\"#d8576b\"],[0.6666666666666666,\"#ed7953\"],[0.7777777777777778,\"#fb9f3a\"],[0.8888888888888888,\"#fdca26\"],[1.0,\"#f0f921\"]]}],\"choropleth\":[{\"type\":\"choropleth\",\"colorbar\":{\"outlinewidth\":0,\"ticks\":\"\"}}],\"histogram2d\":[{\"type\":\"histogram2d\",\"colorbar\":{\"outlinewidth\":0,\"ticks\":\"\"},\"colorscale\":[[0.0,\"#0d0887\"],[0.1111111111111111,\"#46039f\"],[0.2222222222222222,\"#7201a8\"],[0.3333333333333333,\"#9c179e\"],[0.4444444444444444,\"#bd3786\"],[0.5555555555555556,\"#d8576b\"],[0.6666666666666666,\"#ed7953\"],[0.7777777777777778,\"#fb9f3a\"],[0.8888888888888888,\"#fdca26\"],[1.0,\"#f0f921\"]]}],\"heatmap\":[{\"type\":\"heatmap\",\"colorbar\":{\"outlinewidth\":0,\"ticks\":\"\"},\"colorscale\":[[0.0,\"#0d0887\"],[0.1111111111111111,\"#46039f\"],[0.2222222222222222,\"#7201a8\"],[0.3333333333333333,\"#9c179e\"],[0.4444444444444444,\"#bd3786\"],[0.5555555555555556,\"#d8576b\"],[0.6666666666666666,\"#ed7953\"],[0.7777777777777778,\"#fb9f3a\"],[0.8888888888888888,\"#fdca26\"],[1.0,\"#f0f921\"]]}],\"heatmapgl\":[{\"type\":\"heatmapgl\",\"colorbar\":{\"outlinewidth\":0,\"ticks\":\"\"},\"colorscale\":[[0.0,\"#0d0887\"],[0.1111111111111111,\"#46039f\"],[0.2222222222222222,\"#7201a8\"],[0.3333333333333333,\"#9c179e\"],[0.4444444444444444,\"#bd3786\"],[0.5555555555555556,\"#d8576b\"],[0.6666666666666666,\"#ed7953\"],[0.7777777777777778,\"#fb9f3a\"],[0.8888888888888888,\"#fdca26\"],[1.0,\"#f0f921\"]]}],\"contourcarpet\":[{\"type\":\"contourcarpet\",\"colorbar\":{\"outlinewidth\":0,\"ticks\":\"\"}}],\"contour\":[{\"type\":\"contour\",\"colorbar\":{\"outlinewidth\":0,\"ticks\":\"\"},\"colorscale\":[[0.0,\"#0d0887\"],[0.1111111111111111,\"#46039f\"],[0.2222222222222222,\"#7201a8\"],[0.3333333333333333,\"#9c179e\"],[0.4444444444444444,\"#bd3786\"],[0.5555555555555556,\"#d8576b\"],[0.6666666666666666,\"#ed7953\"],[0.7777777777777778,\"#fb9f3a\"],[0.8888888888888888,\"#fdca26\"],[1.0,\"#f0f921\"]]}],\"surface\":[{\"type\":\"surface\",\"colorbar\":{\"outlinewidth\":0,\"ticks\":\"\"},\"colorscale\":[[0.0,\"#0d0887\"],[0.1111111111111111,\"#46039f\"],[0.2222222222222222,\"#7201a8\"],[0.3333333333333333,\"#9c179e\"],[0.4444444444444444,\"#bd3786\"],[0.5555555555555556,\"#d8576b\"],[0.6666666666666666,\"#ed7953\"],[0.7777777777777778,\"#fb9f3a\"],[0.8888888888888888,\"#fdca26\"],[1.0,\"#f0f921\"]]}],\"mesh3d\":[{\"type\":\"mesh3d\",\"colorbar\":{\"outlinewidth\":0,\"ticks\":\"\"}}],\"scatter\":[{\"fillpattern\":{\"fillmode\":\"overlay\",\"size\":10,\"solidity\":0.2},\"type\":\"scatter\"}],\"parcoords\":[{\"type\":\"parcoords\",\"line\":{\"colorbar\":{\"outlinewidth\":0,\"ticks\":\"\"}}}],\"scatterpolargl\":[{\"type\":\"scatterpolargl\",\"marker\":{\"colorbar\":{\"outlinewidth\":0,\"ticks\":\"\"}}}],\"bar\":[{\"error_x\":{\"color\":\"#2a3f5f\"},\"error_y\":{\"color\":\"#2a3f5f\"},\"marker\":{\"line\":{\"color\":\"#E5ECF6\",\"width\":0.5},\"pattern\":{\"fillmode\":\"overlay\",\"size\":10,\"solidity\":0.2}},\"type\":\"bar\"}],\"scattergeo\":[{\"type\":\"scattergeo\",\"marker\":{\"colorbar\":{\"outlinewidth\":0,\"ticks\":\"\"}}}],\"scatterpolar\":[{\"type\":\"scatterpolar\",\"marker\":{\"colorbar\":{\"outlinewidth\":0,\"ticks\":\"\"}}}],\"histogram\":[{\"marker\":{\"pattern\":{\"fillmode\":\"overlay\",\"size\":10,\"solidity\":0.2}},\"type\":\"histogram\"}],\"scattergl\":[{\"type\":\"scattergl\",\"marker\":{\"colorbar\":{\"outlinewidth\":0,\"ticks\":\"\"}}}],\"scatter3d\":[{\"type\":\"scatter3d\",\"line\":{\"colorbar\":{\"outlinewidth\":0,\"ticks\":\"\"}},\"marker\":{\"colorbar\":{\"outlinewidth\":0,\"ticks\":\"\"}}}],\"scattermapbox\":[{\"type\":\"scattermapbox\",\"marker\":{\"colorbar\":{\"outlinewidth\":0,\"ticks\":\"\"}}}],\"scatterternary\":[{\"type\":\"scatterternary\",\"marker\":{\"colorbar\":{\"outlinewidth\":0,\"ticks\":\"\"}}}],\"scattercarpet\":[{\"type\":\"scattercarpet\",\"marker\":{\"colorbar\":{\"outlinewidth\":0,\"ticks\":\"\"}}}],\"carpet\":[{\"aaxis\":{\"endlinecolor\":\"#2a3f5f\",\"gridcolor\":\"white\",\"linecolor\":\"white\",\"minorgridcolor\":\"white\",\"startlinecolor\":\"#2a3f5f\"},\"baxis\":{\"endlinecolor\":\"#2a3f5f\",\"gridcolor\":\"white\",\"linecolor\":\"white\",\"minorgridcolor\":\"white\",\"startlinecolor\":\"#2a3f5f\"},\"type\":\"carpet\"}],\"table\":[{\"cells\":{\"fill\":{\"color\":\"#EBF0F8\"},\"line\":{\"color\":\"white\"}},\"header\":{\"fill\":{\"color\":\"#C8D4E3\"},\"line\":{\"color\":\"white\"}},\"type\":\"table\"}],\"barpolar\":[{\"marker\":{\"line\":{\"color\":\"#E5ECF6\",\"width\":0.5},\"pattern\":{\"fillmode\":\"overlay\",\"size\":10,\"solidity\":0.2}},\"type\":\"barpolar\"}],\"pie\":[{\"automargin\":true,\"type\":\"pie\"}]},\"layout\":{\"autotypenumbers\":\"strict\",\"colorway\":[\"#636efa\",\"#EF553B\",\"#00cc96\",\"#ab63fa\",\"#FFA15A\",\"#19d3f3\",\"#FF6692\",\"#B6E880\",\"#FF97FF\",\"#FECB52\"],\"font\":{\"color\":\"#2a3f5f\"},\"hovermode\":\"closest\",\"hoverlabel\":{\"align\":\"left\"},\"paper_bgcolor\":\"white\",\"plot_bgcolor\":\"#E5ECF6\",\"polar\":{\"bgcolor\":\"#E5ECF6\",\"angularaxis\":{\"gridcolor\":\"white\",\"linecolor\":\"white\",\"ticks\":\"\"},\"radialaxis\":{\"gridcolor\":\"white\",\"linecolor\":\"white\",\"ticks\":\"\"}},\"ternary\":{\"bgcolor\":\"#E5ECF6\",\"aaxis\":{\"gridcolor\":\"white\",\"linecolor\":\"white\",\"ticks\":\"\"},\"baxis\":{\"gridcolor\":\"white\",\"linecolor\":\"white\",\"ticks\":\"\"},\"caxis\":{\"gridcolor\":\"white\",\"linecolor\":\"white\",\"ticks\":\"\"}},\"coloraxis\":{\"colorbar\":{\"outlinewidth\":0,\"ticks\":\"\"}},\"colorscale\":{\"sequential\":[[0.0,\"#0d0887\"],[0.1111111111111111,\"#46039f\"],[0.2222222222222222,\"#7201a8\"],[0.3333333333333333,\"#9c179e\"],[0.4444444444444444,\"#bd3786\"],[0.5555555555555556,\"#d8576b\"],[0.6666666666666666,\"#ed7953\"],[0.7777777777777778,\"#fb9f3a\"],[0.8888888888888888,\"#fdca26\"],[1.0,\"#f0f921\"]],\"sequentialminus\":[[0.0,\"#0d0887\"],[0.1111111111111111,\"#46039f\"],[0.2222222222222222,\"#7201a8\"],[0.3333333333333333,\"#9c179e\"],[0.4444444444444444,\"#bd3786\"],[0.5555555555555556,\"#d8576b\"],[0.6666666666666666,\"#ed7953\"],[0.7777777777777778,\"#fb9f3a\"],[0.8888888888888888,\"#fdca26\"],[1.0,\"#f0f921\"]],\"diverging\":[[0,\"#8e0152\"],[0.1,\"#c51b7d\"],[0.2,\"#de77ae\"],[0.3,\"#f1b6da\"],[0.4,\"#fde0ef\"],[0.5,\"#f7f7f7\"],[0.6,\"#e6f5d0\"],[0.7,\"#b8e186\"],[0.8,\"#7fbc41\"],[0.9,\"#4d9221\"],[1,\"#276419\"]]},\"xaxis\":{\"gridcolor\":\"white\",\"linecolor\":\"white\",\"ticks\":\"\",\"title\":{\"standoff\":15},\"zerolinecolor\":\"white\",\"automargin\":true,\"zerolinewidth\":2},\"yaxis\":{\"gridcolor\":\"white\",\"linecolor\":\"white\",\"ticks\":\"\",\"title\":{\"standoff\":15},\"zerolinecolor\":\"white\",\"automargin\":true,\"zerolinewidth\":2},\"scene\":{\"xaxis\":{\"backgroundcolor\":\"#E5ECF6\",\"gridcolor\":\"white\",\"linecolor\":\"white\",\"showbackground\":true,\"ticks\":\"\",\"zerolinecolor\":\"white\",\"gridwidth\":2},\"yaxis\":{\"backgroundcolor\":\"#E5ECF6\",\"gridcolor\":\"white\",\"linecolor\":\"white\",\"showbackground\":true,\"ticks\":\"\",\"zerolinecolor\":\"white\",\"gridwidth\":2},\"zaxis\":{\"backgroundcolor\":\"#E5ECF6\",\"gridcolor\":\"white\",\"linecolor\":\"white\",\"showbackground\":true,\"ticks\":\"\",\"zerolinecolor\":\"white\",\"gridwidth\":2}},\"shapedefaults\":{\"line\":{\"color\":\"#2a3f5f\"}},\"annotationdefaults\":{\"arrowcolor\":\"#2a3f5f\",\"arrowhead\":0,\"arrowwidth\":1},\"geo\":{\"bgcolor\":\"white\",\"landcolor\":\"#E5ECF6\",\"subunitcolor\":\"white\",\"showland\":true,\"showlakes\":true,\"lakecolor\":\"white\"},\"title\":{\"x\":0.05},\"mapbox\":{\"style\":\"light\"}}},\"xaxis\":{\"anchor\":\"y\",\"domain\":[0.0,0.45]},\"yaxis\":{\"anchor\":\"x\",\"domain\":[0.0,1.0]},\"xaxis2\":{\"anchor\":\"y2\",\"domain\":[0.55,1.0]},\"yaxis2\":{\"anchor\":\"x2\",\"domain\":[0.0,1.0]},\"legend\":{\"orientation\":\"h\",\"yanchor\":\"bottom\",\"y\":1.02,\"xanchor\":\"right\",\"x\":1},\"title\":{\"text\":\"Traffic Violation Analyses per Day - Grid System\"},\"showlegend\":true},                        {\"responsive\": true}                    ).then(function(){\n",
              "                            \n",
              "var gd = document.getElementById('f849338f-fb26-4b56-bf2e-4d0cd13a848f');\n",
              "var x = new MutationObserver(function (mutations, observer) {{\n",
              "        var display = window.getComputedStyle(gd).display;\n",
              "        if (!display || display === 'none') {{\n",
              "            console.log([gd, 'removed!']);\n",
              "            Plotly.purge(gd);\n",
              "            observer.disconnect();\n",
              "        }}\n",
              "}});\n",
              "\n",
              "// Listen for the removal of the full notebook cells\n",
              "var notebookContainer = gd.closest('#notebook-container');\n",
              "if (notebookContainer) {{\n",
              "    x.observe(notebookContainer, {childList: true});\n",
              "}}\n",
              "\n",
              "// Listen for the clearing of the current output cell\n",
              "var outputEl = gd.closest('.output');\n",
              "if (outputEl) {{\n",
              "    x.observe(outputEl, {childList: true});\n",
              "}}\n",
              "\n",
              "                        })                };                            </script>        </div>\n",
              "</body>\n",
              "</html>"
            ]
          },
          "metadata": {}
        }
      ]
    },
    {
      "cell_type": "markdown",
      "source": [
        "### Overlaying the charts\n",
        "By overlaying the charts we will be able to check the charts on the grid system on the same chart"
      ],
      "metadata": {
        "id": "2MWfKw0_RjP1"
      }
    },
    {
      "cell_type": "code",
      "source": [
        "# Grid\n",
        "Grid = make_subplots( rows=1, cols= 1 )\n",
        "\n",
        "# Graph 1\n",
        "Grid.add_trace(\n",
        "    go.Scatter(\n",
        "        x=df_violations_per_day['Date'],\n",
        "        y=df_violations_per_day['Violations_Count'],\n",
        "        mode='lines',\n",
        "        name='Violations Count'\n",
        "    ),\n",
        "    row=1, col=1\n",
        ")\n",
        "\n",
        "# Graph 2\n",
        "Grid.add_trace(\n",
        "    go.Scatter(\n",
        "        x=df_violations_per_day['Date'],\n",
        "        y=df_violations_per_day['moving_avarage'],\n",
        "        mode='lines',\n",
        "        name='Moving Avarage'\n",
        "    ),\n",
        "    row=1, col=1\n",
        ")\n",
        "\n",
        "# Layout Adjust\n",
        "Grid.update_layout(\n",
        "\n",
        "    # Title\n",
        "    title='Traffic Violation Analyses per Day',\n",
        "\n",
        "    # Legend\n",
        "    showlegend=True,\n",
        "    legend=dict(\n",
        "        orientation='h',\n",
        "        yanchor='bottom',\n",
        "        y=1.02,\n",
        "        xanchor='right',\n",
        "        x=1\n",
        "    )\n",
        ")\n",
        "\n",
        "Grid"
      ],
      "metadata": {
        "colab": {
          "base_uri": "https://localhost:8080/",
          "height": 562
        },
        "outputId": "f5480fdc-1057-433e-ad94-6808b1a2d2a8",
        "id": "-keS1wx-RjP2"
      },
      "execution_count": 93,
      "outputs": [
        {
          "output_type": "display_data",
          "data": {
            "text/html": [
              "<html>\n",
              "<head><meta charset=\"utf-8\" /></head>\n",
              "<body>\n",
              "    <div>            <script src=\"https://cdnjs.cloudflare.com/ajax/libs/mathjax/2.7.5/MathJax.js?config=TeX-AMS-MML_SVG\"></script><script type=\"text/javascript\">if (window.MathJax && window.MathJax.Hub && window.MathJax.Hub.Config) {window.MathJax.Hub.Config({SVG: {font: \"STIX-Web\"}});}</script>                <script type=\"text/javascript\">window.PlotlyConfig = {MathJaxConfig: 'local'};</script>\n",
              "        <script src=\"https://cdn.plot.ly/plotly-2.18.2.min.js\"></script>                <div id=\"dd5c027a-a188-49ed-aee8-9fb3e888ec20\" class=\"plotly-graph-div\" style=\"height:525px; width:100%;\"></div>            <script type=\"text/javascript\">                                    window.PLOTLYENV=window.PLOTLYENV || {};                                    if (document.getElementById(\"dd5c027a-a188-49ed-aee8-9fb3e888ec20\")) {                    Plotly.newPlot(                        \"dd5c027a-a188-49ed-aee8-9fb3e888ec20\",                        [{\"mode\":\"lines\",\"name\":\"Violations Count\",\"x\":[\"2023-01-01\",\"2023-01-02\",\"2023-01-03\",\"2023-01-04\",\"2023-01-05\",\"2023-01-06\",\"2023-01-07\",\"2023-01-08\",\"2023-01-09\",\"2023-01-10\",\"2023-01-11\",\"2023-01-12\",\"2023-01-13\",\"2023-01-14\",\"2023-01-15\",\"2023-01-16\",\"2023-01-17\",\"2023-01-18\",\"2023-01-19\",\"2023-01-20\",\"2023-01-21\",\"2023-01-22\",\"2023-01-23\",\"2023-01-24\",\"2023-01-25\",\"2023-01-26\",\"2023-01-27\",\"2023-01-28\",\"2023-01-29\",\"2023-01-30\",\"2023-01-31\",\"2023-02-01\",\"2023-02-02\",\"2023-02-03\",\"2023-02-04\",\"2023-02-05\",\"2023-02-06\",\"2023-02-07\",\"2023-02-08\",\"2023-02-09\",\"2023-02-10\",\"2023-02-11\",\"2023-02-12\",\"2023-02-13\",\"2023-02-14\",\"2023-02-15\",\"2023-02-16\",\"2023-02-17\",\"2023-02-18\",\"2023-02-19\",\"2023-02-20\",\"2023-02-21\",\"2023-02-22\",\"2023-02-23\",\"2023-02-24\",\"2023-02-25\",\"2023-02-26\",\"2023-02-27\",\"2023-02-28\",\"2023-03-01\",\"2023-03-02\",\"2023-03-03\",\"2023-03-04\",\"2023-03-05\",\"2023-03-06\",\"2023-03-07\",\"2023-03-08\",\"2023-03-09\",\"2023-03-10\",\"2023-03-11\",\"2023-03-12\",\"2023-03-13\",\"2023-03-14\",\"2023-03-15\",\"2023-03-16\",\"2023-03-17\",\"2023-03-18\",\"2023-03-19\",\"2023-03-20\",\"2023-03-21\",\"2023-03-22\",\"2023-03-23\",\"2023-03-24\",\"2023-03-25\",\"2023-03-26\",\"2023-03-27\",\"2023-03-28\",\"2023-03-29\",\"2023-03-30\",\"2023-03-31\",\"2023-04-01\",\"2023-04-02\",\"2023-04-03\",\"2023-04-04\",\"2023-04-05\",\"2023-04-06\",\"2023-04-07\",\"2023-04-08\",\"2023-04-09\",\"2023-04-10\",\"2023-04-11\",\"2023-04-12\",\"2023-04-13\",\"2023-04-14\",\"2023-04-15\",\"2023-04-16\",\"2023-04-17\",\"2023-04-18\",\"2023-04-19\",\"2023-04-20\",\"2023-04-21\",\"2023-04-22\",\"2023-04-23\",\"2023-04-24\",\"2023-04-25\",\"2023-04-26\",\"2023-04-27\",\"2023-04-28\",\"2023-04-29\",\"2023-04-30\",\"2023-05-01\",\"2023-05-02\",\"2023-05-03\",\"2023-05-04\",\"2023-05-05\",\"2023-05-06\",\"2023-05-07\",\"2023-05-08\",\"2023-05-09\",\"2023-05-10\",\"2023-05-11\",\"2023-05-12\",\"2023-05-13\",\"2023-05-14\",\"2023-05-15\",\"2023-05-16\",\"2023-05-17\",\"2023-05-18\",\"2023-05-19\",\"2023-05-20\",\"2023-05-21\",\"2023-05-22\",\"2023-05-23\",\"2023-05-24\",\"2023-05-25\",\"2023-05-26\",\"2023-05-27\",\"2023-05-28\",\"2023-05-29\",\"2023-05-30\",\"2023-05-31\"],\"y\":[10907,11276,12293,10635,10013,11531,10728,9993,10615,10434,11228,12380,11111,10048,10369,11374,11764,9747,11617,10636,4512,5649,11182,10116,11182,7664,8525,7531,8146,8252,7728,8483,7288,8328,7314,7724,9120,7623,7024,13772,14747,14527,14881,13908,13889,17124,18406,24556,21180,18820,18105,23974,24199,15033,16887,15401,18190,16304,16757,13891,15372,15218,14794,17467,16988,10799,8304,10544,17453,14139,18273,15882,15309,16361,15617,16465,16921,18109,15957,15746,14995,15547,16085,16828,16680,16146,14311,16530,18176,16308,15432,15194,16829,14518,16900,20217,18652,14736,19178,14970,14917,13822,14401,13353,11693,13918,14506,11957,13980,21305,23486,18687,21423,6661,6938,14598,13985,18924,20593,22595,21699,13481,12702,13031,14740,12722,15930,14853,12744,11975,12193,13696,12638,12558,13324,11901,11945,12230,15478,13263,16358,14346,12859,11854,11422,16014,13743,15277,12596,12147,13678],\"type\":\"scatter\",\"xaxis\":\"x\",\"yaxis\":\"y\"},{\"mode\":\"lines\",\"name\":\"Moving Avarage\",\"x\":[\"2023-01-01\",\"2023-01-02\",\"2023-01-03\",\"2023-01-04\",\"2023-01-05\",\"2023-01-06\",\"2023-01-07\",\"2023-01-08\",\"2023-01-09\",\"2023-01-10\",\"2023-01-11\",\"2023-01-12\",\"2023-01-13\",\"2023-01-14\",\"2023-01-15\",\"2023-01-16\",\"2023-01-17\",\"2023-01-18\",\"2023-01-19\",\"2023-01-20\",\"2023-01-21\",\"2023-01-22\",\"2023-01-23\",\"2023-01-24\",\"2023-01-25\",\"2023-01-26\",\"2023-01-27\",\"2023-01-28\",\"2023-01-29\",\"2023-01-30\",\"2023-01-31\",\"2023-02-01\",\"2023-02-02\",\"2023-02-03\",\"2023-02-04\",\"2023-02-05\",\"2023-02-06\",\"2023-02-07\",\"2023-02-08\",\"2023-02-09\",\"2023-02-10\",\"2023-02-11\",\"2023-02-12\",\"2023-02-13\",\"2023-02-14\",\"2023-02-15\",\"2023-02-16\",\"2023-02-17\",\"2023-02-18\",\"2023-02-19\",\"2023-02-20\",\"2023-02-21\",\"2023-02-22\",\"2023-02-23\",\"2023-02-24\",\"2023-02-25\",\"2023-02-26\",\"2023-02-27\",\"2023-02-28\",\"2023-03-01\",\"2023-03-02\",\"2023-03-03\",\"2023-03-04\",\"2023-03-05\",\"2023-03-06\",\"2023-03-07\",\"2023-03-08\",\"2023-03-09\",\"2023-03-10\",\"2023-03-11\",\"2023-03-12\",\"2023-03-13\",\"2023-03-14\",\"2023-03-15\",\"2023-03-16\",\"2023-03-17\",\"2023-03-18\",\"2023-03-19\",\"2023-03-20\",\"2023-03-21\",\"2023-03-22\",\"2023-03-23\",\"2023-03-24\",\"2023-03-25\",\"2023-03-26\",\"2023-03-27\",\"2023-03-28\",\"2023-03-29\",\"2023-03-30\",\"2023-03-31\",\"2023-04-01\",\"2023-04-02\",\"2023-04-03\",\"2023-04-04\",\"2023-04-05\",\"2023-04-06\",\"2023-04-07\",\"2023-04-08\",\"2023-04-09\",\"2023-04-10\",\"2023-04-11\",\"2023-04-12\",\"2023-04-13\",\"2023-04-14\",\"2023-04-15\",\"2023-04-16\",\"2023-04-17\",\"2023-04-18\",\"2023-04-19\",\"2023-04-20\",\"2023-04-21\",\"2023-04-22\",\"2023-04-23\",\"2023-04-24\",\"2023-04-25\",\"2023-04-26\",\"2023-04-27\",\"2023-04-28\",\"2023-04-29\",\"2023-04-30\",\"2023-05-01\",\"2023-05-02\",\"2023-05-03\",\"2023-05-04\",\"2023-05-05\",\"2023-05-06\",\"2023-05-07\",\"2023-05-08\",\"2023-05-09\",\"2023-05-10\",\"2023-05-11\",\"2023-05-12\",\"2023-05-13\",\"2023-05-14\",\"2023-05-15\",\"2023-05-16\",\"2023-05-17\",\"2023-05-18\",\"2023-05-19\",\"2023-05-20\",\"2023-05-21\",\"2023-05-22\",\"2023-05-23\",\"2023-05-24\",\"2023-05-25\",\"2023-05-26\",\"2023-05-27\",\"2023-05-28\",\"2023-05-29\",\"2023-05-30\",\"2023-05-31\"],\"y\":[10907.0,11091.5,11492.0,11277.75,11024.8,11109.166666666666,11054.714285714286,10924.142857142857,10829.714285714286,10564.142857142857,10648.857142857143,10987.0,10927.0,10829.857142857143,10883.57142857143,10992.0,11182.0,10970.42857142857,10861.42857142857,10793.57142857143,10002.714285714286,9328.42857142857,9301.0,9065.57142857143,9270.57142857143,8705.857142857143,8404.285714285714,8835.57142857143,9192.285714285714,8773.714285714286,8432.57142857143,8047.0,7993.285714285715,7965.142857142857,7934.142857142857,7873.857142857143,7997.857142857143,7982.857142857143,7774.428571428572,8700.714285714286,9617.714285714286,10648.142857142857,11670.57142857143,12354.57142857143,13249.714285714286,14692.57142857143,15354.57142857143,16755.85714285714,17706.285714285714,18269.0,18868.571428571428,20309.285714285714,21320.0,20838.14285714286,19742.571428571428,18917.0,18827.0,18569.714285714286,17538.714285714286,16066.142857142857,16114.57142857143,15876.142857142857,15789.42857142857,15686.142857142857,15783.857142857143,14932.714285714286,14134.57142857143,13444.857142857143,13764.142857142857,13670.57142857143,13785.714285714286,13627.714285714286,14272.0,15423.0,16147.714285714286,16006.57142857143,16404.0,16380.57142857143,16391.285714285714,16453.714285714286,16258.57142857143,16248.57142857143,16194.285714285714,16181.0,15976.857142857143,16003.857142857143,15798.857142857143,16018.142857142857,16393.714285714286,16425.571428571428,16226.142857142857,16013.857142857143,16111.42857142857,16141.0,16193.857142857143,16485.428571428572,16820.285714285714,16720.85714285714,17290.0,17024.428571428572,17081.428571428572,16641.714285714286,15810.857142857143,15053.857142857143,14619.142857142857,13867.714285714286,13801.42857142857,13378.57142857143,13401.142857142857,14387.42857142857,15835.0,16834.14285714286,17906.285714285714,16785.571428571428,16068.57142857143,16156.857142857143,15111.142857142857,14459.42857142857,14731.714285714286,14899.142857142857,17047.428571428572,17982.14285714286,17711.285714285714,17575.0,16977.285714285714,15852.857142857143,14900.714285714286,13922.714285714286,13817.42857142857,13713.57142857143,13593.857142857143,13444.714285714286,13432.714285714286,12951.0,12732.57142857143,12612.142857142857,12607.857142857143,12613.142857142857,12867.714285714286,12957.0,13499.857142857143,13645.857142857143,13782.714285714286,13769.714285714286,13654.285714285714,13730.857142857143,13799.42857142857,13645.0,13395.0,13293.285714285714,13553.857142857143],\"type\":\"scatter\",\"xaxis\":\"x\",\"yaxis\":\"y\"}],                        {\"template\":{\"data\":{\"histogram2dcontour\":[{\"type\":\"histogram2dcontour\",\"colorbar\":{\"outlinewidth\":0,\"ticks\":\"\"},\"colorscale\":[[0.0,\"#0d0887\"],[0.1111111111111111,\"#46039f\"],[0.2222222222222222,\"#7201a8\"],[0.3333333333333333,\"#9c179e\"],[0.4444444444444444,\"#bd3786\"],[0.5555555555555556,\"#d8576b\"],[0.6666666666666666,\"#ed7953\"],[0.7777777777777778,\"#fb9f3a\"],[0.8888888888888888,\"#fdca26\"],[1.0,\"#f0f921\"]]}],\"choropleth\":[{\"type\":\"choropleth\",\"colorbar\":{\"outlinewidth\":0,\"ticks\":\"\"}}],\"histogram2d\":[{\"type\":\"histogram2d\",\"colorbar\":{\"outlinewidth\":0,\"ticks\":\"\"},\"colorscale\":[[0.0,\"#0d0887\"],[0.1111111111111111,\"#46039f\"],[0.2222222222222222,\"#7201a8\"],[0.3333333333333333,\"#9c179e\"],[0.4444444444444444,\"#bd3786\"],[0.5555555555555556,\"#d8576b\"],[0.6666666666666666,\"#ed7953\"],[0.7777777777777778,\"#fb9f3a\"],[0.8888888888888888,\"#fdca26\"],[1.0,\"#f0f921\"]]}],\"heatmap\":[{\"type\":\"heatmap\",\"colorbar\":{\"outlinewidth\":0,\"ticks\":\"\"},\"colorscale\":[[0.0,\"#0d0887\"],[0.1111111111111111,\"#46039f\"],[0.2222222222222222,\"#7201a8\"],[0.3333333333333333,\"#9c179e\"],[0.4444444444444444,\"#bd3786\"],[0.5555555555555556,\"#d8576b\"],[0.6666666666666666,\"#ed7953\"],[0.7777777777777778,\"#fb9f3a\"],[0.8888888888888888,\"#fdca26\"],[1.0,\"#f0f921\"]]}],\"heatmapgl\":[{\"type\":\"heatmapgl\",\"colorbar\":{\"outlinewidth\":0,\"ticks\":\"\"},\"colorscale\":[[0.0,\"#0d0887\"],[0.1111111111111111,\"#46039f\"],[0.2222222222222222,\"#7201a8\"],[0.3333333333333333,\"#9c179e\"],[0.4444444444444444,\"#bd3786\"],[0.5555555555555556,\"#d8576b\"],[0.6666666666666666,\"#ed7953\"],[0.7777777777777778,\"#fb9f3a\"],[0.8888888888888888,\"#fdca26\"],[1.0,\"#f0f921\"]]}],\"contourcarpet\":[{\"type\":\"contourcarpet\",\"colorbar\":{\"outlinewidth\":0,\"ticks\":\"\"}}],\"contour\":[{\"type\":\"contour\",\"colorbar\":{\"outlinewidth\":0,\"ticks\":\"\"},\"colorscale\":[[0.0,\"#0d0887\"],[0.1111111111111111,\"#46039f\"],[0.2222222222222222,\"#7201a8\"],[0.3333333333333333,\"#9c179e\"],[0.4444444444444444,\"#bd3786\"],[0.5555555555555556,\"#d8576b\"],[0.6666666666666666,\"#ed7953\"],[0.7777777777777778,\"#fb9f3a\"],[0.8888888888888888,\"#fdca26\"],[1.0,\"#f0f921\"]]}],\"surface\":[{\"type\":\"surface\",\"colorbar\":{\"outlinewidth\":0,\"ticks\":\"\"},\"colorscale\":[[0.0,\"#0d0887\"],[0.1111111111111111,\"#46039f\"],[0.2222222222222222,\"#7201a8\"],[0.3333333333333333,\"#9c179e\"],[0.4444444444444444,\"#bd3786\"],[0.5555555555555556,\"#d8576b\"],[0.6666666666666666,\"#ed7953\"],[0.7777777777777778,\"#fb9f3a\"],[0.8888888888888888,\"#fdca26\"],[1.0,\"#f0f921\"]]}],\"mesh3d\":[{\"type\":\"mesh3d\",\"colorbar\":{\"outlinewidth\":0,\"ticks\":\"\"}}],\"scatter\":[{\"fillpattern\":{\"fillmode\":\"overlay\",\"size\":10,\"solidity\":0.2},\"type\":\"scatter\"}],\"parcoords\":[{\"type\":\"parcoords\",\"line\":{\"colorbar\":{\"outlinewidth\":0,\"ticks\":\"\"}}}],\"scatterpolargl\":[{\"type\":\"scatterpolargl\",\"marker\":{\"colorbar\":{\"outlinewidth\":0,\"ticks\":\"\"}}}],\"bar\":[{\"error_x\":{\"color\":\"#2a3f5f\"},\"error_y\":{\"color\":\"#2a3f5f\"},\"marker\":{\"line\":{\"color\":\"#E5ECF6\",\"width\":0.5},\"pattern\":{\"fillmode\":\"overlay\",\"size\":10,\"solidity\":0.2}},\"type\":\"bar\"}],\"scattergeo\":[{\"type\":\"scattergeo\",\"marker\":{\"colorbar\":{\"outlinewidth\":0,\"ticks\":\"\"}}}],\"scatterpolar\":[{\"type\":\"scatterpolar\",\"marker\":{\"colorbar\":{\"outlinewidth\":0,\"ticks\":\"\"}}}],\"histogram\":[{\"marker\":{\"pattern\":{\"fillmode\":\"overlay\",\"size\":10,\"solidity\":0.2}},\"type\":\"histogram\"}],\"scattergl\":[{\"type\":\"scattergl\",\"marker\":{\"colorbar\":{\"outlinewidth\":0,\"ticks\":\"\"}}}],\"scatter3d\":[{\"type\":\"scatter3d\",\"line\":{\"colorbar\":{\"outlinewidth\":0,\"ticks\":\"\"}},\"marker\":{\"colorbar\":{\"outlinewidth\":0,\"ticks\":\"\"}}}],\"scattermapbox\":[{\"type\":\"scattermapbox\",\"marker\":{\"colorbar\":{\"outlinewidth\":0,\"ticks\":\"\"}}}],\"scatterternary\":[{\"type\":\"scatterternary\",\"marker\":{\"colorbar\":{\"outlinewidth\":0,\"ticks\":\"\"}}}],\"scattercarpet\":[{\"type\":\"scattercarpet\",\"marker\":{\"colorbar\":{\"outlinewidth\":0,\"ticks\":\"\"}}}],\"carpet\":[{\"aaxis\":{\"endlinecolor\":\"#2a3f5f\",\"gridcolor\":\"white\",\"linecolor\":\"white\",\"minorgridcolor\":\"white\",\"startlinecolor\":\"#2a3f5f\"},\"baxis\":{\"endlinecolor\":\"#2a3f5f\",\"gridcolor\":\"white\",\"linecolor\":\"white\",\"minorgridcolor\":\"white\",\"startlinecolor\":\"#2a3f5f\"},\"type\":\"carpet\"}],\"table\":[{\"cells\":{\"fill\":{\"color\":\"#EBF0F8\"},\"line\":{\"color\":\"white\"}},\"header\":{\"fill\":{\"color\":\"#C8D4E3\"},\"line\":{\"color\":\"white\"}},\"type\":\"table\"}],\"barpolar\":[{\"marker\":{\"line\":{\"color\":\"#E5ECF6\",\"width\":0.5},\"pattern\":{\"fillmode\":\"overlay\",\"size\":10,\"solidity\":0.2}},\"type\":\"barpolar\"}],\"pie\":[{\"automargin\":true,\"type\":\"pie\"}]},\"layout\":{\"autotypenumbers\":\"strict\",\"colorway\":[\"#636efa\",\"#EF553B\",\"#00cc96\",\"#ab63fa\",\"#FFA15A\",\"#19d3f3\",\"#FF6692\",\"#B6E880\",\"#FF97FF\",\"#FECB52\"],\"font\":{\"color\":\"#2a3f5f\"},\"hovermode\":\"closest\",\"hoverlabel\":{\"align\":\"left\"},\"paper_bgcolor\":\"white\",\"plot_bgcolor\":\"#E5ECF6\",\"polar\":{\"bgcolor\":\"#E5ECF6\",\"angularaxis\":{\"gridcolor\":\"white\",\"linecolor\":\"white\",\"ticks\":\"\"},\"radialaxis\":{\"gridcolor\":\"white\",\"linecolor\":\"white\",\"ticks\":\"\"}},\"ternary\":{\"bgcolor\":\"#E5ECF6\",\"aaxis\":{\"gridcolor\":\"white\",\"linecolor\":\"white\",\"ticks\":\"\"},\"baxis\":{\"gridcolor\":\"white\",\"linecolor\":\"white\",\"ticks\":\"\"},\"caxis\":{\"gridcolor\":\"white\",\"linecolor\":\"white\",\"ticks\":\"\"}},\"coloraxis\":{\"colorbar\":{\"outlinewidth\":0,\"ticks\":\"\"}},\"colorscale\":{\"sequential\":[[0.0,\"#0d0887\"],[0.1111111111111111,\"#46039f\"],[0.2222222222222222,\"#7201a8\"],[0.3333333333333333,\"#9c179e\"],[0.4444444444444444,\"#bd3786\"],[0.5555555555555556,\"#d8576b\"],[0.6666666666666666,\"#ed7953\"],[0.7777777777777778,\"#fb9f3a\"],[0.8888888888888888,\"#fdca26\"],[1.0,\"#f0f921\"]],\"sequentialminus\":[[0.0,\"#0d0887\"],[0.1111111111111111,\"#46039f\"],[0.2222222222222222,\"#7201a8\"],[0.3333333333333333,\"#9c179e\"],[0.4444444444444444,\"#bd3786\"],[0.5555555555555556,\"#d8576b\"],[0.6666666666666666,\"#ed7953\"],[0.7777777777777778,\"#fb9f3a\"],[0.8888888888888888,\"#fdca26\"],[1.0,\"#f0f921\"]],\"diverging\":[[0,\"#8e0152\"],[0.1,\"#c51b7d\"],[0.2,\"#de77ae\"],[0.3,\"#f1b6da\"],[0.4,\"#fde0ef\"],[0.5,\"#f7f7f7\"],[0.6,\"#e6f5d0\"],[0.7,\"#b8e186\"],[0.8,\"#7fbc41\"],[0.9,\"#4d9221\"],[1,\"#276419\"]]},\"xaxis\":{\"gridcolor\":\"white\",\"linecolor\":\"white\",\"ticks\":\"\",\"title\":{\"standoff\":15},\"zerolinecolor\":\"white\",\"automargin\":true,\"zerolinewidth\":2},\"yaxis\":{\"gridcolor\":\"white\",\"linecolor\":\"white\",\"ticks\":\"\",\"title\":{\"standoff\":15},\"zerolinecolor\":\"white\",\"automargin\":true,\"zerolinewidth\":2},\"scene\":{\"xaxis\":{\"backgroundcolor\":\"#E5ECF6\",\"gridcolor\":\"white\",\"linecolor\":\"white\",\"showbackground\":true,\"ticks\":\"\",\"zerolinecolor\":\"white\",\"gridwidth\":2},\"yaxis\":{\"backgroundcolor\":\"#E5ECF6\",\"gridcolor\":\"white\",\"linecolor\":\"white\",\"showbackground\":true,\"ticks\":\"\",\"zerolinecolor\":\"white\",\"gridwidth\":2},\"zaxis\":{\"backgroundcolor\":\"#E5ECF6\",\"gridcolor\":\"white\",\"linecolor\":\"white\",\"showbackground\":true,\"ticks\":\"\",\"zerolinecolor\":\"white\",\"gridwidth\":2}},\"shapedefaults\":{\"line\":{\"color\":\"#2a3f5f\"}},\"annotationdefaults\":{\"arrowcolor\":\"#2a3f5f\",\"arrowhead\":0,\"arrowwidth\":1},\"geo\":{\"bgcolor\":\"white\",\"landcolor\":\"#E5ECF6\",\"subunitcolor\":\"white\",\"showland\":true,\"showlakes\":true,\"lakecolor\":\"white\"},\"title\":{\"x\":0.05},\"mapbox\":{\"style\":\"light\"}}},\"xaxis\":{\"anchor\":\"y\",\"domain\":[0.0,1.0]},\"yaxis\":{\"anchor\":\"x\",\"domain\":[0.0,1.0]},\"legend\":{\"orientation\":\"h\",\"yanchor\":\"bottom\",\"y\":1.02,\"xanchor\":\"right\",\"x\":1},\"title\":{\"text\":\"Traffic Violation Analyses per Day\"},\"showlegend\":true},                        {\"responsive\": true}                    ).then(function(){\n",
              "                            \n",
              "var gd = document.getElementById('dd5c027a-a188-49ed-aee8-9fb3e888ec20');\n",
              "var x = new MutationObserver(function (mutations, observer) {{\n",
              "        var display = window.getComputedStyle(gd).display;\n",
              "        if (!display || display === 'none') {{\n",
              "            console.log([gd, 'removed!']);\n",
              "            Plotly.purge(gd);\n",
              "            observer.disconnect();\n",
              "        }}\n",
              "}});\n",
              "\n",
              "// Listen for the removal of the full notebook cells\n",
              "var notebookContainer = gd.closest('#notebook-container');\n",
              "if (notebookContainer) {{\n",
              "    x.observe(notebookContainer, {childList: true});\n",
              "}}\n",
              "\n",
              "// Listen for the clearing of the current output cell\n",
              "var outputEl = gd.closest('.output');\n",
              "if (outputEl) {{\n",
              "    x.observe(outputEl, {childList: true});\n",
              "}}\n",
              "\n",
              "                        })                };                            </script>        </div>\n",
              "</body>\n",
              "</html>"
            ]
          },
          "metadata": {}
        }
      ]
    },
    {
      "cell_type": "markdown",
      "source": [
        "### Lets have a closer look on the Brazilian States\n",
        "How many infractions were registered on each state?\n",
        "We will also get the percentage of infractions for each state compared with all registered infractions and get the cumulative percentange."
      ],
      "metadata": {
        "id": "MRBUvaI2RjP3"
      }
    },
    {
      "cell_type": "code",
      "source": [
        "from pyspark.sql.functions import count, sum\n",
        "from pyspark.sql.window import Window\n",
        "\n",
        "# Calculate the sum of infractions by state\n",
        "violations_per_state = TV23.groupBy('Infraction_State').agg(count('*').alias('Violations_Count'))\n",
        "\n",
        "# Calculate the percentage of infractions for each state\n",
        "state_percent = (TV23.groupBy(\"Infraction_State\").agg((count(\"*\") / TV23.count()).alias(\"%violations_Count\"))).orderBy(col(\"%violations_Count\").desc())\n",
        "\n",
        "# Calculate the percentage of infractions for each state (cummulative)\n",
        "windowSpec = Window.orderBy(col(\"%violations_Count\").desc())\n",
        "cum_stata_percent= (\n",
        "    state_percent\n",
        "    .withColumn(\"cumulative_sum\", sum(\"%violations_Count\").over(windowSpec))\n",
        ")\n",
        "\n",
        "# Join the calculated frequencies with the violations_per_state DataFrame\n",
        "violations_per_state = violations_per_state.join(cum_stata_percent, \"Infraction_State\", \"left\").orderBy(col(\"%violations_Count\").desc())\n",
        "\n",
        "# Print the DataFrame\n",
        "violations_per_state.show(27)"
      ],
      "metadata": {
        "colab": {
          "base_uri": "https://localhost:8080/"
        },
        "outputId": "ad681055-fa20-41d8-892c-102338246b3e",
        "id": "tI3kx8GoRjP3"
      },
      "execution_count": 94,
      "outputs": [
        {
          "output_type": "stream",
          "name": "stdout",
          "text": [
            "+----------------+----------------+--------------------+-------------------+\n",
            "|Infraction_State|Violations_Count|   %violations_Count|     cumulative_sum|\n",
            "+----------------+----------------+--------------------+-------------------+\n",
            "|              MG|          207213| 0.09840435383453719|0.09840435383453719|\n",
            "|              ES|          185153|  0.0879281769267665|0.18633253076130368|\n",
            "|              MT|          176889| 0.08400364719123535|0.27033617795253906|\n",
            "|              SC|          176221|  0.0836864175369112|0.35402259548945025|\n",
            "|              SP|          157641| 0.07486287415765554| 0.4288854696471058|\n",
            "|              BA|          144563| 0.06865220137434525|  0.497537671021451|\n",
            "|              PR|          131415|0.062408285962587795| 0.5599459569840388|\n",
            "|              RJ|          128608| 0.06107525656185741| 0.6210212135458962|\n",
            "|              RS|          128220| 0.06089099742132182| 0.6819122109672181|\n",
            "|              MS|          126676| 0.06015776001671629| 0.7420699709839343|\n",
            "|              GO|           84575| 0.04016421858452888| 0.7822341895684632|\n",
            "|              DF|           58995|0.028016412360559045| 0.8102506019290223|\n",
            "|              PE|           58696| 0.02787441884762054| 0.8381250207766429|\n",
            "|              RN|           45264|0.021495633343306123|  0.859620654119949|\n",
            "|              CE|           43682|0.020744349940400718| 0.8803650040603498|\n",
            "|              RO|           39316| 0.01867095971468327|  0.899035963775033|\n",
            "|              PI|           36093| 0.01714037412203844| 0.9161763378970714|\n",
            "|              PB|           35019| 0.01663033722272086| 0.9328066751197923|\n",
            "|              PA|           32828|0.015589842952325322| 0.9483965180721177|\n",
            "|              MA|           29117|0.013827508749934702| 0.9622240268220523|\n",
            "|              TO|           21490|0.010205486933272548| 0.9724295137553248|\n",
            "|              AL|           15896|0.007548926025653812| 0.9799784397809786|\n",
            "|              SE|           15336|0.007282984998076676| 0.9872614247790553|\n",
            "|              AM|            9937|0.004719028555417836| 0.9919804533344732|\n",
            "|              AP|            7831|0.003718900333850...| 0.9956993536683241|\n",
            "|              RR|            4691|0.002227731000650...| 0.9979270846689747|\n",
            "|              AC|            4365|0.002072915331025345|                1.0|\n",
            "+----------------+----------------+--------------------+-------------------+\n",
            "\n"
          ]
        }
      ]
    },
    {
      "cell_type": "markdown",
      "source": [
        "By checking the last collumn (cumulative_sum) we can see that 6 states represent 50% of all registered infractions."
      ],
      "metadata": {
        "id": "jEl9eOw6RjP4"
      }
    },
    {
      "cell_type": "code",
      "source": [
        "# Import pandas lib\n",
        "import pandas as pd\n",
        "\n",
        "# Converting Spark Dataframe to Pandas Dataframe\n",
        "df_violations_per_state = violations_per_state.toPandas()"
      ],
      "metadata": {
        "id": "z-XHScmzRjP5"
      },
      "execution_count": 95,
      "outputs": []
    },
    {
      "cell_type": "code",
      "source": [
        "df_violations_per_state.head()"
      ],
      "metadata": {
        "colab": {
          "base_uri": "https://localhost:8080/",
          "height": 270
        },
        "outputId": "557ca2d1-5dc3-4f40-c5ec-5ab25e99b558",
        "id": "uLbaCPQhRjP5"
      },
      "execution_count": 96,
      "outputs": [
        {
          "output_type": "execute_result",
          "data": {
            "text/plain": [
              "  Infraction_State  Violations_Count  %violations_Count  cumulative_sum\n",
              "0               MG            207213           0.098404        0.098404\n",
              "1               ES            185153           0.087928        0.186333\n",
              "2               MT            176889           0.084004        0.270336\n",
              "3               SC            176221           0.083686        0.354023\n",
              "4               SP            157641           0.074863        0.428885"
            ],
            "text/html": [
              "\n",
              "  <div id=\"df-d0acd706-9559-4bce-a6b4-b017e5c9d9c9\">\n",
              "    <div class=\"colab-df-container\">\n",
              "      <div>\n",
              "<style scoped>\n",
              "    .dataframe tbody tr th:only-of-type {\n",
              "        vertical-align: middle;\n",
              "    }\n",
              "\n",
              "    .dataframe tbody tr th {\n",
              "        vertical-align: top;\n",
              "    }\n",
              "\n",
              "    .dataframe thead th {\n",
              "        text-align: right;\n",
              "    }\n",
              "</style>\n",
              "<table border=\"1\" class=\"dataframe\">\n",
              "  <thead>\n",
              "    <tr style=\"text-align: right;\">\n",
              "      <th></th>\n",
              "      <th>Infraction_State</th>\n",
              "      <th>Violations_Count</th>\n",
              "      <th>%violations_Count</th>\n",
              "      <th>cumulative_sum</th>\n",
              "    </tr>\n",
              "  </thead>\n",
              "  <tbody>\n",
              "    <tr>\n",
              "      <th>0</th>\n",
              "      <td>MG</td>\n",
              "      <td>207213</td>\n",
              "      <td>0.098404</td>\n",
              "      <td>0.098404</td>\n",
              "    </tr>\n",
              "    <tr>\n",
              "      <th>1</th>\n",
              "      <td>ES</td>\n",
              "      <td>185153</td>\n",
              "      <td>0.087928</td>\n",
              "      <td>0.186333</td>\n",
              "    </tr>\n",
              "    <tr>\n",
              "      <th>2</th>\n",
              "      <td>MT</td>\n",
              "      <td>176889</td>\n",
              "      <td>0.084004</td>\n",
              "      <td>0.270336</td>\n",
              "    </tr>\n",
              "    <tr>\n",
              "      <th>3</th>\n",
              "      <td>SC</td>\n",
              "      <td>176221</td>\n",
              "      <td>0.083686</td>\n",
              "      <td>0.354023</td>\n",
              "    </tr>\n",
              "    <tr>\n",
              "      <th>4</th>\n",
              "      <td>SP</td>\n",
              "      <td>157641</td>\n",
              "      <td>0.074863</td>\n",
              "      <td>0.428885</td>\n",
              "    </tr>\n",
              "  </tbody>\n",
              "</table>\n",
              "</div>\n",
              "      <button class=\"colab-df-convert\" onclick=\"convertToInteractive('df-d0acd706-9559-4bce-a6b4-b017e5c9d9c9')\"\n",
              "              title=\"Convert this dataframe to an interactive table.\"\n",
              "              style=\"display:none;\">\n",
              "        \n",
              "  <svg xmlns=\"http://www.w3.org/2000/svg\" height=\"24px\"viewBox=\"0 0 24 24\"\n",
              "       width=\"24px\">\n",
              "    <path d=\"M0 0h24v24H0V0z\" fill=\"none\"/>\n",
              "    <path d=\"M18.56 5.44l.94 2.06.94-2.06 2.06-.94-2.06-.94-.94-2.06-.94 2.06-2.06.94zm-11 1L8.5 8.5l.94-2.06 2.06-.94-2.06-.94L8.5 2.5l-.94 2.06-2.06.94zm10 10l.94 2.06.94-2.06 2.06-.94-2.06-.94-.94-2.06-.94 2.06-2.06.94z\"/><path d=\"M17.41 7.96l-1.37-1.37c-.4-.4-.92-.59-1.43-.59-.52 0-1.04.2-1.43.59L10.3 9.45l-7.72 7.72c-.78.78-.78 2.05 0 2.83L4 21.41c.39.39.9.59 1.41.59.51 0 1.02-.2 1.41-.59l7.78-7.78 2.81-2.81c.8-.78.8-2.07 0-2.86zM5.41 20L4 18.59l7.72-7.72 1.47 1.35L5.41 20z\"/>\n",
              "  </svg>\n",
              "      </button>\n",
              "      \n",
              "  <style>\n",
              "    .colab-df-container {\n",
              "      display:flex;\n",
              "      flex-wrap:wrap;\n",
              "      gap: 12px;\n",
              "    }\n",
              "\n",
              "    .colab-df-convert {\n",
              "      background-color: #E8F0FE;\n",
              "      border: none;\n",
              "      border-radius: 50%;\n",
              "      cursor: pointer;\n",
              "      display: none;\n",
              "      fill: #1967D2;\n",
              "      height: 32px;\n",
              "      padding: 0 0 0 0;\n",
              "      width: 32px;\n",
              "    }\n",
              "\n",
              "    .colab-df-convert:hover {\n",
              "      background-color: #E2EBFA;\n",
              "      box-shadow: 0px 1px 2px rgba(60, 64, 67, 0.3), 0px 1px 3px 1px rgba(60, 64, 67, 0.15);\n",
              "      fill: #174EA6;\n",
              "    }\n",
              "\n",
              "    [theme=dark] .colab-df-convert {\n",
              "      background-color: #3B4455;\n",
              "      fill: #D2E3FC;\n",
              "    }\n",
              "\n",
              "    [theme=dark] .colab-df-convert:hover {\n",
              "      background-color: #434B5C;\n",
              "      box-shadow: 0px 1px 3px 1px rgba(0, 0, 0, 0.15);\n",
              "      filter: drop-shadow(0px 1px 2px rgba(0, 0, 0, 0.3));\n",
              "      fill: #FFFFFF;\n",
              "    }\n",
              "  </style>\n",
              "\n",
              "      <script>\n",
              "        const buttonEl =\n",
              "          document.querySelector('#df-d0acd706-9559-4bce-a6b4-b017e5c9d9c9 button.colab-df-convert');\n",
              "        buttonEl.style.display =\n",
              "          google.colab.kernel.accessAllowed ? 'block' : 'none';\n",
              "\n",
              "        async function convertToInteractive(key) {\n",
              "          const element = document.querySelector('#df-d0acd706-9559-4bce-a6b4-b017e5c9d9c9');\n",
              "          const dataTable =\n",
              "            await google.colab.kernel.invokeFunction('convertToInteractive',\n",
              "                                                     [key], {});\n",
              "          if (!dataTable) return;\n",
              "\n",
              "          const docLinkHtml = 'Like what you see? Visit the ' +\n",
              "            '<a target=\"_blank\" href=https://colab.research.google.com/notebooks/data_table.ipynb>data table notebook</a>'\n",
              "            + ' to learn more about interactive tables.';\n",
              "          element.innerHTML = '';\n",
              "          dataTable['output_type'] = 'display_data';\n",
              "          await google.colab.output.renderOutput(dataTable, element);\n",
              "          const docLink = document.createElement('div');\n",
              "          docLink.innerHTML = docLinkHtml;\n",
              "          element.appendChild(docLink);\n",
              "        }\n",
              "      </script>\n",
              "    </div>\n",
              "  </div>\n",
              "  "
            ]
          },
          "metadata": {},
          "execution_count": 96
        }
      ]
    },
    {
      "cell_type": "code",
      "source": [
        "# Funnel Chart\n",
        "px.funnel(\n",
        "    df_violations_per_state[ df_violations_per_state['cumulative_sum'] < 0.5 ],\n",
        "    y='Infraction_State',\n",
        "    x='Violations_Count',\n",
        "    title='State Concentration of 50% Traffic Infractions'\n",
        ")"
      ],
      "metadata": {
        "colab": {
          "base_uri": "https://localhost:8080/",
          "height": 562
        },
        "outputId": "3db1a6b3-ea92-4716-fc5a-35204d0b53ab",
        "id": "jyzO4AyZRjP5"
      },
      "execution_count": 97,
      "outputs": [
        {
          "output_type": "display_data",
          "data": {
            "text/html": [
              "<html>\n",
              "<head><meta charset=\"utf-8\" /></head>\n",
              "<body>\n",
              "    <div>            <script src=\"https://cdnjs.cloudflare.com/ajax/libs/mathjax/2.7.5/MathJax.js?config=TeX-AMS-MML_SVG\"></script><script type=\"text/javascript\">if (window.MathJax && window.MathJax.Hub && window.MathJax.Hub.Config) {window.MathJax.Hub.Config({SVG: {font: \"STIX-Web\"}});}</script>                <script type=\"text/javascript\">window.PlotlyConfig = {MathJaxConfig: 'local'};</script>\n",
              "        <script src=\"https://cdn.plot.ly/plotly-2.18.2.min.js\"></script>                <div id=\"16bb9931-31c2-418e-b0e8-f7fca794aa86\" class=\"plotly-graph-div\" style=\"height:525px; width:100%;\"></div>            <script type=\"text/javascript\">                                    window.PLOTLYENV=window.PLOTLYENV || {};                                    if (document.getElementById(\"16bb9931-31c2-418e-b0e8-f7fca794aa86\")) {                    Plotly.newPlot(                        \"16bb9931-31c2-418e-b0e8-f7fca794aa86\",                        [{\"hovertemplate\":\"Violations_Count=%{x}<br>Infraction_State=%{y}<extra></extra>\",\"legendgroup\":\"\",\"marker\":{\"color\":\"#636efa\"},\"name\":\"\",\"orientation\":\"h\",\"showlegend\":false,\"x\":[207213,185153,176889,176221,157641,144563],\"xaxis\":\"x\",\"y\":[\"MG\",\"ES\",\"MT\",\"SC\",\"SP\",\"BA\"],\"yaxis\":\"y\",\"type\":\"funnel\"}],                        {\"template\":{\"data\":{\"histogram2dcontour\":[{\"type\":\"histogram2dcontour\",\"colorbar\":{\"outlinewidth\":0,\"ticks\":\"\"},\"colorscale\":[[0.0,\"#0d0887\"],[0.1111111111111111,\"#46039f\"],[0.2222222222222222,\"#7201a8\"],[0.3333333333333333,\"#9c179e\"],[0.4444444444444444,\"#bd3786\"],[0.5555555555555556,\"#d8576b\"],[0.6666666666666666,\"#ed7953\"],[0.7777777777777778,\"#fb9f3a\"],[0.8888888888888888,\"#fdca26\"],[1.0,\"#f0f921\"]]}],\"choropleth\":[{\"type\":\"choropleth\",\"colorbar\":{\"outlinewidth\":0,\"ticks\":\"\"}}],\"histogram2d\":[{\"type\":\"histogram2d\",\"colorbar\":{\"outlinewidth\":0,\"ticks\":\"\"},\"colorscale\":[[0.0,\"#0d0887\"],[0.1111111111111111,\"#46039f\"],[0.2222222222222222,\"#7201a8\"],[0.3333333333333333,\"#9c179e\"],[0.4444444444444444,\"#bd3786\"],[0.5555555555555556,\"#d8576b\"],[0.6666666666666666,\"#ed7953\"],[0.7777777777777778,\"#fb9f3a\"],[0.8888888888888888,\"#fdca26\"],[1.0,\"#f0f921\"]]}],\"heatmap\":[{\"type\":\"heatmap\",\"colorbar\":{\"outlinewidth\":0,\"ticks\":\"\"},\"colorscale\":[[0.0,\"#0d0887\"],[0.1111111111111111,\"#46039f\"],[0.2222222222222222,\"#7201a8\"],[0.3333333333333333,\"#9c179e\"],[0.4444444444444444,\"#bd3786\"],[0.5555555555555556,\"#d8576b\"],[0.6666666666666666,\"#ed7953\"],[0.7777777777777778,\"#fb9f3a\"],[0.8888888888888888,\"#fdca26\"],[1.0,\"#f0f921\"]]}],\"heatmapgl\":[{\"type\":\"heatmapgl\",\"colorbar\":{\"outlinewidth\":0,\"ticks\":\"\"},\"colorscale\":[[0.0,\"#0d0887\"],[0.1111111111111111,\"#46039f\"],[0.2222222222222222,\"#7201a8\"],[0.3333333333333333,\"#9c179e\"],[0.4444444444444444,\"#bd3786\"],[0.5555555555555556,\"#d8576b\"],[0.6666666666666666,\"#ed7953\"],[0.7777777777777778,\"#fb9f3a\"],[0.8888888888888888,\"#fdca26\"],[1.0,\"#f0f921\"]]}],\"contourcarpet\":[{\"type\":\"contourcarpet\",\"colorbar\":{\"outlinewidth\":0,\"ticks\":\"\"}}],\"contour\":[{\"type\":\"contour\",\"colorbar\":{\"outlinewidth\":0,\"ticks\":\"\"},\"colorscale\":[[0.0,\"#0d0887\"],[0.1111111111111111,\"#46039f\"],[0.2222222222222222,\"#7201a8\"],[0.3333333333333333,\"#9c179e\"],[0.4444444444444444,\"#bd3786\"],[0.5555555555555556,\"#d8576b\"],[0.6666666666666666,\"#ed7953\"],[0.7777777777777778,\"#fb9f3a\"],[0.8888888888888888,\"#fdca26\"],[1.0,\"#f0f921\"]]}],\"surface\":[{\"type\":\"surface\",\"colorbar\":{\"outlinewidth\":0,\"ticks\":\"\"},\"colorscale\":[[0.0,\"#0d0887\"],[0.1111111111111111,\"#46039f\"],[0.2222222222222222,\"#7201a8\"],[0.3333333333333333,\"#9c179e\"],[0.4444444444444444,\"#bd3786\"],[0.5555555555555556,\"#d8576b\"],[0.6666666666666666,\"#ed7953\"],[0.7777777777777778,\"#fb9f3a\"],[0.8888888888888888,\"#fdca26\"],[1.0,\"#f0f921\"]]}],\"mesh3d\":[{\"type\":\"mesh3d\",\"colorbar\":{\"outlinewidth\":0,\"ticks\":\"\"}}],\"scatter\":[{\"fillpattern\":{\"fillmode\":\"overlay\",\"size\":10,\"solidity\":0.2},\"type\":\"scatter\"}],\"parcoords\":[{\"type\":\"parcoords\",\"line\":{\"colorbar\":{\"outlinewidth\":0,\"ticks\":\"\"}}}],\"scatterpolargl\":[{\"type\":\"scatterpolargl\",\"marker\":{\"colorbar\":{\"outlinewidth\":0,\"ticks\":\"\"}}}],\"bar\":[{\"error_x\":{\"color\":\"#2a3f5f\"},\"error_y\":{\"color\":\"#2a3f5f\"},\"marker\":{\"line\":{\"color\":\"#E5ECF6\",\"width\":0.5},\"pattern\":{\"fillmode\":\"overlay\",\"size\":10,\"solidity\":0.2}},\"type\":\"bar\"}],\"scattergeo\":[{\"type\":\"scattergeo\",\"marker\":{\"colorbar\":{\"outlinewidth\":0,\"ticks\":\"\"}}}],\"scatterpolar\":[{\"type\":\"scatterpolar\",\"marker\":{\"colorbar\":{\"outlinewidth\":0,\"ticks\":\"\"}}}],\"histogram\":[{\"marker\":{\"pattern\":{\"fillmode\":\"overlay\",\"size\":10,\"solidity\":0.2}},\"type\":\"histogram\"}],\"scattergl\":[{\"type\":\"scattergl\",\"marker\":{\"colorbar\":{\"outlinewidth\":0,\"ticks\":\"\"}}}],\"scatter3d\":[{\"type\":\"scatter3d\",\"line\":{\"colorbar\":{\"outlinewidth\":0,\"ticks\":\"\"}},\"marker\":{\"colorbar\":{\"outlinewidth\":0,\"ticks\":\"\"}}}],\"scattermapbox\":[{\"type\":\"scattermapbox\",\"marker\":{\"colorbar\":{\"outlinewidth\":0,\"ticks\":\"\"}}}],\"scatterternary\":[{\"type\":\"scatterternary\",\"marker\":{\"colorbar\":{\"outlinewidth\":0,\"ticks\":\"\"}}}],\"scattercarpet\":[{\"type\":\"scattercarpet\",\"marker\":{\"colorbar\":{\"outlinewidth\":0,\"ticks\":\"\"}}}],\"carpet\":[{\"aaxis\":{\"endlinecolor\":\"#2a3f5f\",\"gridcolor\":\"white\",\"linecolor\":\"white\",\"minorgridcolor\":\"white\",\"startlinecolor\":\"#2a3f5f\"},\"baxis\":{\"endlinecolor\":\"#2a3f5f\",\"gridcolor\":\"white\",\"linecolor\":\"white\",\"minorgridcolor\":\"white\",\"startlinecolor\":\"#2a3f5f\"},\"type\":\"carpet\"}],\"table\":[{\"cells\":{\"fill\":{\"color\":\"#EBF0F8\"},\"line\":{\"color\":\"white\"}},\"header\":{\"fill\":{\"color\":\"#C8D4E3\"},\"line\":{\"color\":\"white\"}},\"type\":\"table\"}],\"barpolar\":[{\"marker\":{\"line\":{\"color\":\"#E5ECF6\",\"width\":0.5},\"pattern\":{\"fillmode\":\"overlay\",\"size\":10,\"solidity\":0.2}},\"type\":\"barpolar\"}],\"pie\":[{\"automargin\":true,\"type\":\"pie\"}]},\"layout\":{\"autotypenumbers\":\"strict\",\"colorway\":[\"#636efa\",\"#EF553B\",\"#00cc96\",\"#ab63fa\",\"#FFA15A\",\"#19d3f3\",\"#FF6692\",\"#B6E880\",\"#FF97FF\",\"#FECB52\"],\"font\":{\"color\":\"#2a3f5f\"},\"hovermode\":\"closest\",\"hoverlabel\":{\"align\":\"left\"},\"paper_bgcolor\":\"white\",\"plot_bgcolor\":\"#E5ECF6\",\"polar\":{\"bgcolor\":\"#E5ECF6\",\"angularaxis\":{\"gridcolor\":\"white\",\"linecolor\":\"white\",\"ticks\":\"\"},\"radialaxis\":{\"gridcolor\":\"white\",\"linecolor\":\"white\",\"ticks\":\"\"}},\"ternary\":{\"bgcolor\":\"#E5ECF6\",\"aaxis\":{\"gridcolor\":\"white\",\"linecolor\":\"white\",\"ticks\":\"\"},\"baxis\":{\"gridcolor\":\"white\",\"linecolor\":\"white\",\"ticks\":\"\"},\"caxis\":{\"gridcolor\":\"white\",\"linecolor\":\"white\",\"ticks\":\"\"}},\"coloraxis\":{\"colorbar\":{\"outlinewidth\":0,\"ticks\":\"\"}},\"colorscale\":{\"sequential\":[[0.0,\"#0d0887\"],[0.1111111111111111,\"#46039f\"],[0.2222222222222222,\"#7201a8\"],[0.3333333333333333,\"#9c179e\"],[0.4444444444444444,\"#bd3786\"],[0.5555555555555556,\"#d8576b\"],[0.6666666666666666,\"#ed7953\"],[0.7777777777777778,\"#fb9f3a\"],[0.8888888888888888,\"#fdca26\"],[1.0,\"#f0f921\"]],\"sequentialminus\":[[0.0,\"#0d0887\"],[0.1111111111111111,\"#46039f\"],[0.2222222222222222,\"#7201a8\"],[0.3333333333333333,\"#9c179e\"],[0.4444444444444444,\"#bd3786\"],[0.5555555555555556,\"#d8576b\"],[0.6666666666666666,\"#ed7953\"],[0.7777777777777778,\"#fb9f3a\"],[0.8888888888888888,\"#fdca26\"],[1.0,\"#f0f921\"]],\"diverging\":[[0,\"#8e0152\"],[0.1,\"#c51b7d\"],[0.2,\"#de77ae\"],[0.3,\"#f1b6da\"],[0.4,\"#fde0ef\"],[0.5,\"#f7f7f7\"],[0.6,\"#e6f5d0\"],[0.7,\"#b8e186\"],[0.8,\"#7fbc41\"],[0.9,\"#4d9221\"],[1,\"#276419\"]]},\"xaxis\":{\"gridcolor\":\"white\",\"linecolor\":\"white\",\"ticks\":\"\",\"title\":{\"standoff\":15},\"zerolinecolor\":\"white\",\"automargin\":true,\"zerolinewidth\":2},\"yaxis\":{\"gridcolor\":\"white\",\"linecolor\":\"white\",\"ticks\":\"\",\"title\":{\"standoff\":15},\"zerolinecolor\":\"white\",\"automargin\":true,\"zerolinewidth\":2},\"scene\":{\"xaxis\":{\"backgroundcolor\":\"#E5ECF6\",\"gridcolor\":\"white\",\"linecolor\":\"white\",\"showbackground\":true,\"ticks\":\"\",\"zerolinecolor\":\"white\",\"gridwidth\":2},\"yaxis\":{\"backgroundcolor\":\"#E5ECF6\",\"gridcolor\":\"white\",\"linecolor\":\"white\",\"showbackground\":true,\"ticks\":\"\",\"zerolinecolor\":\"white\",\"gridwidth\":2},\"zaxis\":{\"backgroundcolor\":\"#E5ECF6\",\"gridcolor\":\"white\",\"linecolor\":\"white\",\"showbackground\":true,\"ticks\":\"\",\"zerolinecolor\":\"white\",\"gridwidth\":2}},\"shapedefaults\":{\"line\":{\"color\":\"#2a3f5f\"}},\"annotationdefaults\":{\"arrowcolor\":\"#2a3f5f\",\"arrowhead\":0,\"arrowwidth\":1},\"geo\":{\"bgcolor\":\"white\",\"landcolor\":\"#E5ECF6\",\"subunitcolor\":\"white\",\"showland\":true,\"showlakes\":true,\"lakecolor\":\"white\"},\"title\":{\"x\":0.05},\"mapbox\":{\"style\":\"light\"}}},\"xaxis\":{\"anchor\":\"y\",\"domain\":[0.0,1.0],\"title\":{\"text\":\"Violations_Count\"}},\"yaxis\":{\"anchor\":\"x\",\"domain\":[0.0,1.0],\"title\":{\"text\":\"Infraction_State\"}},\"legend\":{\"tracegroupgap\":0},\"title\":{\"text\":\"State Concentration of 50% Traffic Infractions\"}},                        {\"responsive\": true}                    ).then(function(){\n",
              "                            \n",
              "var gd = document.getElementById('16bb9931-31c2-418e-b0e8-f7fca794aa86');\n",
              "var x = new MutationObserver(function (mutations, observer) {{\n",
              "        var display = window.getComputedStyle(gd).display;\n",
              "        if (!display || display === 'none') {{\n",
              "            console.log([gd, 'removed!']);\n",
              "            Plotly.purge(gd);\n",
              "            observer.disconnect();\n",
              "        }}\n",
              "}});\n",
              "\n",
              "// Listen for the removal of the full notebook cells\n",
              "var notebookContainer = gd.closest('#notebook-container');\n",
              "if (notebookContainer) {{\n",
              "    x.observe(notebookContainer, {childList: true});\n",
              "}}\n",
              "\n",
              "// Listen for the clearing of the current output cell\n",
              "var outputEl = gd.closest('.output');\n",
              "if (outputEl) {{\n",
              "    x.observe(outputEl, {childList: true});\n",
              "}}\n",
              "\n",
              "                        })                };                            </script>        </div>\n",
              "</body>\n",
              "</html>"
            ]
          },
          "metadata": {}
        }
      ]
    },
    {
      "cell_type": "code",
      "source": [
        "px.bar(\n",
        "    df_violations_per_state,\n",
        "    x='Infraction_State',\n",
        "    y='cumulative_sum',\n",
        "    title='Accumulated Infraction by state'\n",
        ")"
      ],
      "metadata": {
        "colab": {
          "base_uri": "https://localhost:8080/",
          "height": 562
        },
        "outputId": "456c46cb-d508-4fdc-8cae-612798bfc283",
        "id": "WQltS6k6RjP5"
      },
      "execution_count": 98,
      "outputs": [
        {
          "output_type": "display_data",
          "data": {
            "text/html": [
              "<html>\n",
              "<head><meta charset=\"utf-8\" /></head>\n",
              "<body>\n",
              "    <div>            <script src=\"https://cdnjs.cloudflare.com/ajax/libs/mathjax/2.7.5/MathJax.js?config=TeX-AMS-MML_SVG\"></script><script type=\"text/javascript\">if (window.MathJax && window.MathJax.Hub && window.MathJax.Hub.Config) {window.MathJax.Hub.Config({SVG: {font: \"STIX-Web\"}});}</script>                <script type=\"text/javascript\">window.PlotlyConfig = {MathJaxConfig: 'local'};</script>\n",
              "        <script src=\"https://cdn.plot.ly/plotly-2.18.2.min.js\"></script>                <div id=\"ecb54bc0-bdea-4e20-8239-47f9c84af324\" class=\"plotly-graph-div\" style=\"height:525px; width:100%;\"></div>            <script type=\"text/javascript\">                                    window.PLOTLYENV=window.PLOTLYENV || {};                                    if (document.getElementById(\"ecb54bc0-bdea-4e20-8239-47f9c84af324\")) {                    Plotly.newPlot(                        \"ecb54bc0-bdea-4e20-8239-47f9c84af324\",                        [{\"alignmentgroup\":\"True\",\"hovertemplate\":\"Infraction_State=%{x}<br>cumulative_sum=%{y}<extra></extra>\",\"legendgroup\":\"\",\"marker\":{\"color\":\"#636efa\",\"pattern\":{\"shape\":\"\"}},\"name\":\"\",\"offsetgroup\":\"\",\"orientation\":\"v\",\"showlegend\":false,\"textposition\":\"auto\",\"x\":[\"MG\",\"ES\",\"MT\",\"SC\",\"SP\",\"BA\",\"PR\",\"RJ\",\"RS\",\"MS\",\"GO\",\"DF\",\"PE\",\"RN\",\"CE\",\"RO\",\"PI\",\"PB\",\"PA\",\"MA\",\"TO\",\"AL\",\"SE\",\"AM\",\"AP\",\"RR\",\"AC\"],\"xaxis\":\"x\",\"y\":[0.09840435383453719,0.18633253076130368,0.27033617795253906,0.35402259548945025,0.4288854696471058,0.497537671021451,0.5599459569840388,0.6210212135458962,0.6819122109672181,0.7420699709839343,0.7822341895684632,0.8102506019290223,0.8381250207766429,0.859620654119949,0.8803650040603498,0.899035963775033,0.9161763378970714,0.9328066751197923,0.9483965180721177,0.9622240268220523,0.9724295137553248,0.9799784397809786,0.9872614247790553,0.9919804533344732,0.9956993536683241,0.9979270846689747,1.0],\"yaxis\":\"y\",\"type\":\"bar\"}],                        {\"template\":{\"data\":{\"histogram2dcontour\":[{\"type\":\"histogram2dcontour\",\"colorbar\":{\"outlinewidth\":0,\"ticks\":\"\"},\"colorscale\":[[0.0,\"#0d0887\"],[0.1111111111111111,\"#46039f\"],[0.2222222222222222,\"#7201a8\"],[0.3333333333333333,\"#9c179e\"],[0.4444444444444444,\"#bd3786\"],[0.5555555555555556,\"#d8576b\"],[0.6666666666666666,\"#ed7953\"],[0.7777777777777778,\"#fb9f3a\"],[0.8888888888888888,\"#fdca26\"],[1.0,\"#f0f921\"]]}],\"choropleth\":[{\"type\":\"choropleth\",\"colorbar\":{\"outlinewidth\":0,\"ticks\":\"\"}}],\"histogram2d\":[{\"type\":\"histogram2d\",\"colorbar\":{\"outlinewidth\":0,\"ticks\":\"\"},\"colorscale\":[[0.0,\"#0d0887\"],[0.1111111111111111,\"#46039f\"],[0.2222222222222222,\"#7201a8\"],[0.3333333333333333,\"#9c179e\"],[0.4444444444444444,\"#bd3786\"],[0.5555555555555556,\"#d8576b\"],[0.6666666666666666,\"#ed7953\"],[0.7777777777777778,\"#fb9f3a\"],[0.8888888888888888,\"#fdca26\"],[1.0,\"#f0f921\"]]}],\"heatmap\":[{\"type\":\"heatmap\",\"colorbar\":{\"outlinewidth\":0,\"ticks\":\"\"},\"colorscale\":[[0.0,\"#0d0887\"],[0.1111111111111111,\"#46039f\"],[0.2222222222222222,\"#7201a8\"],[0.3333333333333333,\"#9c179e\"],[0.4444444444444444,\"#bd3786\"],[0.5555555555555556,\"#d8576b\"],[0.6666666666666666,\"#ed7953\"],[0.7777777777777778,\"#fb9f3a\"],[0.8888888888888888,\"#fdca26\"],[1.0,\"#f0f921\"]]}],\"heatmapgl\":[{\"type\":\"heatmapgl\",\"colorbar\":{\"outlinewidth\":0,\"ticks\":\"\"},\"colorscale\":[[0.0,\"#0d0887\"],[0.1111111111111111,\"#46039f\"],[0.2222222222222222,\"#7201a8\"],[0.3333333333333333,\"#9c179e\"],[0.4444444444444444,\"#bd3786\"],[0.5555555555555556,\"#d8576b\"],[0.6666666666666666,\"#ed7953\"],[0.7777777777777778,\"#fb9f3a\"],[0.8888888888888888,\"#fdca26\"],[1.0,\"#f0f921\"]]}],\"contourcarpet\":[{\"type\":\"contourcarpet\",\"colorbar\":{\"outlinewidth\":0,\"ticks\":\"\"}}],\"contour\":[{\"type\":\"contour\",\"colorbar\":{\"outlinewidth\":0,\"ticks\":\"\"},\"colorscale\":[[0.0,\"#0d0887\"],[0.1111111111111111,\"#46039f\"],[0.2222222222222222,\"#7201a8\"],[0.3333333333333333,\"#9c179e\"],[0.4444444444444444,\"#bd3786\"],[0.5555555555555556,\"#d8576b\"],[0.6666666666666666,\"#ed7953\"],[0.7777777777777778,\"#fb9f3a\"],[0.8888888888888888,\"#fdca26\"],[1.0,\"#f0f921\"]]}],\"surface\":[{\"type\":\"surface\",\"colorbar\":{\"outlinewidth\":0,\"ticks\":\"\"},\"colorscale\":[[0.0,\"#0d0887\"],[0.1111111111111111,\"#46039f\"],[0.2222222222222222,\"#7201a8\"],[0.3333333333333333,\"#9c179e\"],[0.4444444444444444,\"#bd3786\"],[0.5555555555555556,\"#d8576b\"],[0.6666666666666666,\"#ed7953\"],[0.7777777777777778,\"#fb9f3a\"],[0.8888888888888888,\"#fdca26\"],[1.0,\"#f0f921\"]]}],\"mesh3d\":[{\"type\":\"mesh3d\",\"colorbar\":{\"outlinewidth\":0,\"ticks\":\"\"}}],\"scatter\":[{\"fillpattern\":{\"fillmode\":\"overlay\",\"size\":10,\"solidity\":0.2},\"type\":\"scatter\"}],\"parcoords\":[{\"type\":\"parcoords\",\"line\":{\"colorbar\":{\"outlinewidth\":0,\"ticks\":\"\"}}}],\"scatterpolargl\":[{\"type\":\"scatterpolargl\",\"marker\":{\"colorbar\":{\"outlinewidth\":0,\"ticks\":\"\"}}}],\"bar\":[{\"error_x\":{\"color\":\"#2a3f5f\"},\"error_y\":{\"color\":\"#2a3f5f\"},\"marker\":{\"line\":{\"color\":\"#E5ECF6\",\"width\":0.5},\"pattern\":{\"fillmode\":\"overlay\",\"size\":10,\"solidity\":0.2}},\"type\":\"bar\"}],\"scattergeo\":[{\"type\":\"scattergeo\",\"marker\":{\"colorbar\":{\"outlinewidth\":0,\"ticks\":\"\"}}}],\"scatterpolar\":[{\"type\":\"scatterpolar\",\"marker\":{\"colorbar\":{\"outlinewidth\":0,\"ticks\":\"\"}}}],\"histogram\":[{\"marker\":{\"pattern\":{\"fillmode\":\"overlay\",\"size\":10,\"solidity\":0.2}},\"type\":\"histogram\"}],\"scattergl\":[{\"type\":\"scattergl\",\"marker\":{\"colorbar\":{\"outlinewidth\":0,\"ticks\":\"\"}}}],\"scatter3d\":[{\"type\":\"scatter3d\",\"line\":{\"colorbar\":{\"outlinewidth\":0,\"ticks\":\"\"}},\"marker\":{\"colorbar\":{\"outlinewidth\":0,\"ticks\":\"\"}}}],\"scattermapbox\":[{\"type\":\"scattermapbox\",\"marker\":{\"colorbar\":{\"outlinewidth\":0,\"ticks\":\"\"}}}],\"scatterternary\":[{\"type\":\"scatterternary\",\"marker\":{\"colorbar\":{\"outlinewidth\":0,\"ticks\":\"\"}}}],\"scattercarpet\":[{\"type\":\"scattercarpet\",\"marker\":{\"colorbar\":{\"outlinewidth\":0,\"ticks\":\"\"}}}],\"carpet\":[{\"aaxis\":{\"endlinecolor\":\"#2a3f5f\",\"gridcolor\":\"white\",\"linecolor\":\"white\",\"minorgridcolor\":\"white\",\"startlinecolor\":\"#2a3f5f\"},\"baxis\":{\"endlinecolor\":\"#2a3f5f\",\"gridcolor\":\"white\",\"linecolor\":\"white\",\"minorgridcolor\":\"white\",\"startlinecolor\":\"#2a3f5f\"},\"type\":\"carpet\"}],\"table\":[{\"cells\":{\"fill\":{\"color\":\"#EBF0F8\"},\"line\":{\"color\":\"white\"}},\"header\":{\"fill\":{\"color\":\"#C8D4E3\"},\"line\":{\"color\":\"white\"}},\"type\":\"table\"}],\"barpolar\":[{\"marker\":{\"line\":{\"color\":\"#E5ECF6\",\"width\":0.5},\"pattern\":{\"fillmode\":\"overlay\",\"size\":10,\"solidity\":0.2}},\"type\":\"barpolar\"}],\"pie\":[{\"automargin\":true,\"type\":\"pie\"}]},\"layout\":{\"autotypenumbers\":\"strict\",\"colorway\":[\"#636efa\",\"#EF553B\",\"#00cc96\",\"#ab63fa\",\"#FFA15A\",\"#19d3f3\",\"#FF6692\",\"#B6E880\",\"#FF97FF\",\"#FECB52\"],\"font\":{\"color\":\"#2a3f5f\"},\"hovermode\":\"closest\",\"hoverlabel\":{\"align\":\"left\"},\"paper_bgcolor\":\"white\",\"plot_bgcolor\":\"#E5ECF6\",\"polar\":{\"bgcolor\":\"#E5ECF6\",\"angularaxis\":{\"gridcolor\":\"white\",\"linecolor\":\"white\",\"ticks\":\"\"},\"radialaxis\":{\"gridcolor\":\"white\",\"linecolor\":\"white\",\"ticks\":\"\"}},\"ternary\":{\"bgcolor\":\"#E5ECF6\",\"aaxis\":{\"gridcolor\":\"white\",\"linecolor\":\"white\",\"ticks\":\"\"},\"baxis\":{\"gridcolor\":\"white\",\"linecolor\":\"white\",\"ticks\":\"\"},\"caxis\":{\"gridcolor\":\"white\",\"linecolor\":\"white\",\"ticks\":\"\"}},\"coloraxis\":{\"colorbar\":{\"outlinewidth\":0,\"ticks\":\"\"}},\"colorscale\":{\"sequential\":[[0.0,\"#0d0887\"],[0.1111111111111111,\"#46039f\"],[0.2222222222222222,\"#7201a8\"],[0.3333333333333333,\"#9c179e\"],[0.4444444444444444,\"#bd3786\"],[0.5555555555555556,\"#d8576b\"],[0.6666666666666666,\"#ed7953\"],[0.7777777777777778,\"#fb9f3a\"],[0.8888888888888888,\"#fdca26\"],[1.0,\"#f0f921\"]],\"sequentialminus\":[[0.0,\"#0d0887\"],[0.1111111111111111,\"#46039f\"],[0.2222222222222222,\"#7201a8\"],[0.3333333333333333,\"#9c179e\"],[0.4444444444444444,\"#bd3786\"],[0.5555555555555556,\"#d8576b\"],[0.6666666666666666,\"#ed7953\"],[0.7777777777777778,\"#fb9f3a\"],[0.8888888888888888,\"#fdca26\"],[1.0,\"#f0f921\"]],\"diverging\":[[0,\"#8e0152\"],[0.1,\"#c51b7d\"],[0.2,\"#de77ae\"],[0.3,\"#f1b6da\"],[0.4,\"#fde0ef\"],[0.5,\"#f7f7f7\"],[0.6,\"#e6f5d0\"],[0.7,\"#b8e186\"],[0.8,\"#7fbc41\"],[0.9,\"#4d9221\"],[1,\"#276419\"]]},\"xaxis\":{\"gridcolor\":\"white\",\"linecolor\":\"white\",\"ticks\":\"\",\"title\":{\"standoff\":15},\"zerolinecolor\":\"white\",\"automargin\":true,\"zerolinewidth\":2},\"yaxis\":{\"gridcolor\":\"white\",\"linecolor\":\"white\",\"ticks\":\"\",\"title\":{\"standoff\":15},\"zerolinecolor\":\"white\",\"automargin\":true,\"zerolinewidth\":2},\"scene\":{\"xaxis\":{\"backgroundcolor\":\"#E5ECF6\",\"gridcolor\":\"white\",\"linecolor\":\"white\",\"showbackground\":true,\"ticks\":\"\",\"zerolinecolor\":\"white\",\"gridwidth\":2},\"yaxis\":{\"backgroundcolor\":\"#E5ECF6\",\"gridcolor\":\"white\",\"linecolor\":\"white\",\"showbackground\":true,\"ticks\":\"\",\"zerolinecolor\":\"white\",\"gridwidth\":2},\"zaxis\":{\"backgroundcolor\":\"#E5ECF6\",\"gridcolor\":\"white\",\"linecolor\":\"white\",\"showbackground\":true,\"ticks\":\"\",\"zerolinecolor\":\"white\",\"gridwidth\":2}},\"shapedefaults\":{\"line\":{\"color\":\"#2a3f5f\"}},\"annotationdefaults\":{\"arrowcolor\":\"#2a3f5f\",\"arrowhead\":0,\"arrowwidth\":1},\"geo\":{\"bgcolor\":\"white\",\"landcolor\":\"#E5ECF6\",\"subunitcolor\":\"white\",\"showland\":true,\"showlakes\":true,\"lakecolor\":\"white\"},\"title\":{\"x\":0.05},\"mapbox\":{\"style\":\"light\"}}},\"xaxis\":{\"anchor\":\"y\",\"domain\":[0.0,1.0],\"title\":{\"text\":\"Infraction_State\"}},\"yaxis\":{\"anchor\":\"x\",\"domain\":[0.0,1.0],\"title\":{\"text\":\"cumulative_sum\"}},\"legend\":{\"tracegroupgap\":0},\"title\":{\"text\":\"Accumulated Infraction by state\"},\"barmode\":\"relative\"},                        {\"responsive\": true}                    ).then(function(){\n",
              "                            \n",
              "var gd = document.getElementById('ecb54bc0-bdea-4e20-8239-47f9c84af324');\n",
              "var x = new MutationObserver(function (mutations, observer) {{\n",
              "        var display = window.getComputedStyle(gd).display;\n",
              "        if (!display || display === 'none') {{\n",
              "            console.log([gd, 'removed!']);\n",
              "            Plotly.purge(gd);\n",
              "            observer.disconnect();\n",
              "        }}\n",
              "}});\n",
              "\n",
              "// Listen for the removal of the full notebook cells\n",
              "var notebookContainer = gd.closest('#notebook-container');\n",
              "if (notebookContainer) {{\n",
              "    x.observe(notebookContainer, {childList: true});\n",
              "}}\n",
              "\n",
              "// Listen for the clearing of the current output cell\n",
              "var outputEl = gd.closest('.output');\n",
              "if (outputEl) {{\n",
              "    x.observe(outputEl, {childList: true});\n",
              "}}\n",
              "\n",
              "                        })                };                            </script>        </div>\n",
              "</body>\n",
              "</html>"
            ]
          },
          "metadata": {}
        }
      ]
    },
    {
      "cell_type": "code",
      "source": [
        "TV23.printSchema()"
      ],
      "metadata": {
        "colab": {
          "base_uri": "https://localhost:8080/"
        },
        "outputId": "a9d0fda0-5731-4d4b-cf4f-a0719b1cbc1d",
        "id": "-qlGtSzkRjP7"
      },
      "execution_count": 99,
      "outputs": [
        {
          "output_type": "stream",
          "name": "stdout",
          "text": [
            "root\n",
            " |-- Auto_Number: string (nullable = true)\n",
            " |-- Date_of_Violation_DD/MM/YYYY: date (nullable = true)\n",
            " |-- Approach_Indicator: string (nullable = true)\n",
            " |-- Auto_Signature: string (nullable = true)\n",
            " |-- Traffic_Direction: string (nullable = true)\n",
            " |-- Infraction_State: string (nullable = true)\n",
            " |-- Infraction_BR: string (nullable = true)\n",
            " |-- Infraction_Km: string (nullable = true)\n",
            " |-- City: string (nullable = true)\n",
            " |-- Foreign_Vehicle_Indicator: string (nullable = true)\n",
            " |-- License_Plate_State: string (nullable = true)\n",
            " |-- Vehicle_Species_Description: string (nullable = true)\n",
            " |-- Vehicle_Brand_Description: string (nullable = true)\n",
            " |-- Vehicle_Type_Description: string (nullable = true)\n",
            " |-- Vehicle_Model_Description: string (nullable = true)\n",
            " |-- Infraction_Code: string (nullable = true)\n",
            " |-- Abbreviated_Infraction_Description: string (nullable = true)\n",
            " |-- Infraction_Framing: string (nullable = true)\n",
            " |-- Infraction_Start_Vigency: string (nullable = true)\n",
            " |-- Infraction_End_Vigency: string (nullable = true)\n",
            " |-- Infraction_Measurement: string (nullable = true)\n",
            " |-- Infraction_Time: string (nullable = true)\n",
            " |-- Considered_Measurement: string (nullable = true)\n",
            " |-- Verified_Excess: string (nullable = true)\n",
            " |-- Infraction_Quantity: string (nullable = true)\n",
            "\n"
          ]
        }
      ]
    },
    {
      "cell_type": "markdown",
      "source": [
        "### Checking the number of infractions for each month on every state\n",
        "We want to check if in some month of the year some states register more infractions that others.\n",
        "\n",
        "We will generate heatmap with the data."
      ],
      "metadata": {
        "id": "f-JTguJNRjP7"
      }
    },
    {
      "cell_type": "code",
      "source": [
        "# Creating a query, to get the contect from the temp view\n",
        "query = \"SELECT * \\\n",
        "        FROM \\\n",
        "            TV23\"\n",
        "\n",
        "query = \"SELECT\\\n",
        "            `Infraction_State` AS `State`, \\\n",
        "            COUNT(*) AS `Violations_Count`, \\\n",
        "            MONTH(`Date_of_Violation_DD/MM/YYYY`) AS `Month` \\\n",
        "        FROM \\\n",
        "            TV23 \\\n",
        "        GROUP BY \\\n",
        "            `Infraction_State`, `Month` \\\n",
        "        ORDER BY \\\n",
        "            `Month`\"\n",
        "\n",
        "# run the query and storying in another variable\n",
        "violations_month_state = spark.sql(query)\n",
        "\n",
        "# see result\n",
        "violations_month_state.show()"
      ],
      "metadata": {
        "colab": {
          "base_uri": "https://localhost:8080/"
        },
        "outputId": "d01602a2-b017-41d6-af58-9ca88a563a32",
        "id": "kRzZTpY0RjP7"
      },
      "execution_count": 100,
      "outputs": [
        {
          "output_type": "stream",
          "name": "stdout",
          "text": [
            "+-----+----------------+-----+\n",
            "|State|Violations_Count|Month|\n",
            "+-----+----------------+-----+\n",
            "|   RS|           26305|    1|\n",
            "|   PR|           21962|    1|\n",
            "|   RR|             771|    1|\n",
            "|   ES|            5592|    1|\n",
            "|   AP|            1429|    1|\n",
            "|   MT|           18112|    1|\n",
            "|   AC|             745|    1|\n",
            "|   MA|            5676|    1|\n",
            "|   MG|           29338|    1|\n",
            "|   SP|           32108|    1|\n",
            "|   RJ|           19504|    1|\n",
            "|   TO|            3358|    1|\n",
            "|   BA|           35165|    1|\n",
            "|   RN|            5612|    1|\n",
            "|   DF|            3704|    1|\n",
            "|   CE|            6747|    1|\n",
            "|   PI|            5911|    1|\n",
            "|   MS|           21665|    1|\n",
            "|   SE|            3218|    1|\n",
            "|   PB|            5474|    1|\n",
            "+-----+----------------+-----+\n",
            "only showing top 20 rows\n",
            "\n"
          ]
        }
      ]
    },
    {
      "cell_type": "code",
      "source": [
        "# Perform the pivot operation\n",
        "pivot_violations_month_state = violations_month_state.groupBy(\"Month\").pivot(\"State\").sum(\"Violations_Count\")\n",
        "\n",
        "# Show the resulting DataFrame\n",
        "pivot_violations_month_state.show()"
      ],
      "metadata": {
        "colab": {
          "base_uri": "https://localhost:8080/"
        },
        "outputId": "097fcfee-2af4-4740-e7ce-99cf2e294bb6",
        "id": "LotKAWWiRjP7"
      },
      "execution_count": 101,
      "outputs": [
        {
          "output_type": "stream",
          "name": "stdout",
          "text": [
            "+-----+----+----+----+----+-----+-----+-----+-----+-----+----+-----+-----+-----+----+----+-----+----+-----+-----+-----+----+----+-----+-----+----+-----+----+\n",
            "|Month|  AC|  AL|  AM|  AP|   BA|   CE|   DF|   ES|   GO|  MA|   MG|   MS|   MT|  PA|  PB|   PE|  PI|   PR|   RJ|   RN|  RO|  RR|   RS|   SC|  SE|   SP|  TO|\n",
            "+-----+----+----+----+----+-----+-----+-----+-----+-----+----+-----+-----+-----+----+----+-----+----+-----+-----+-----+----+----+-----+-----+----+-----+----+\n",
            "|    1| 745|2621|2084|1429|35165| 6747| 3704| 5592|14539|5676|29338|21665|18112|5345|5474| 9997|5911|21962|19504| 5612|7021| 771|26305|15183|3218|32108|3358|\n",
            "|    3| 655|3711|1868|1550|37297|11099|14767|50584|17653|6372|46323|27786|44374|6686|6781|12329|7371|22718|32155| 8056|9328| 934|25960|42751|2878|33693|5536|\n",
            "|    5|1527|2726|2360|1556|17423| 8544|14938|44695|16547|5194|39814|23037|39174|7111|6932|11034|6423|27706|23857| 9772|7560|1006|20895|42205|2575|35132|3654|\n",
            "|    4| 788|3296|2077|1880|25053| 8993|15182|48511|18722|5890|48547|32344|41462|6717|7388|12315|8733|31939|28750|11508|8000|1044|28063|41769|3201|31597|4599|\n",
            "|    2| 650|3542|1548|1416|29625| 8299|10404|35771|17114|5985|43191|21844|33767|6969|8444|13021|7655|27090|24342|10316|7407| 936|26997|34313|3464|25111|4343|\n",
            "+-----+----+----+----+----+-----+-----+-----+-----+-----+----+-----+-----+-----+----+----+-----+----+-----+-----+-----+----+----+-----+-----+----+-----+----+\n",
            "\n"
          ]
        }
      ]
    },
    {
      "cell_type": "code",
      "source": [
        "# Import pandas lib\n",
        "import pandas as pd\n",
        "\n",
        "# Converting Spark Dataframe to Pandas Dataframe\n",
        "df_pivot_violations_month_state = pivot_violations_month_state.toPandas()"
      ],
      "metadata": {
        "id": "ApjrHcfPRjP8"
      },
      "execution_count": 102,
      "outputs": []
    },
    {
      "cell_type": "code",
      "source": [
        "df_pivot_violations_month_state"
      ],
      "metadata": {
        "colab": {
          "base_uri": "https://localhost:8080/",
          "height": 300
        },
        "outputId": "8f94f6ba-9248-4387-e345-c6cb5608cc01",
        "id": "2Ggkgt6XRjP8"
      },
      "execution_count": 103,
      "outputs": [
        {
          "output_type": "execute_result",
          "data": {
            "text/plain": [
              "   Month    AC    AL    AM    AP     BA     CE     DF     ES     GO  ...  \\\n",
              "0      1   745  2621  2084  1429  35165   6747   3704   5592  14539  ...   \n",
              "1      3   655  3711  1868  1550  37297  11099  14767  50584  17653  ...   \n",
              "2      5  1527  2726  2360  1556  17423   8544  14938  44695  16547  ...   \n",
              "3      4   788  3296  2077  1880  25053   8993  15182  48511  18722  ...   \n",
              "4      2   650  3542  1548  1416  29625   8299  10404  35771  17114  ...   \n",
              "\n",
              "      PR     RJ     RN    RO    RR     RS     SC    SE     SP    TO  \n",
              "0  21962  19504   5612  7021   771  26305  15183  3218  32108  3358  \n",
              "1  22718  32155   8056  9328   934  25960  42751  2878  33693  5536  \n",
              "2  27706  23857   9772  7560  1006  20895  42205  2575  35132  3654  \n",
              "3  31939  28750  11508  8000  1044  28063  41769  3201  31597  4599  \n",
              "4  27090  24342  10316  7407   936  26997  34313  3464  25111  4343  \n",
              "\n",
              "[5 rows x 28 columns]"
            ],
            "text/html": [
              "\n",
              "  <div id=\"df-ce7864d5-95d8-445e-91dd-441e89e06dd5\">\n",
              "    <div class=\"colab-df-container\">\n",
              "      <div>\n",
              "<style scoped>\n",
              "    .dataframe tbody tr th:only-of-type {\n",
              "        vertical-align: middle;\n",
              "    }\n",
              "\n",
              "    .dataframe tbody tr th {\n",
              "        vertical-align: top;\n",
              "    }\n",
              "\n",
              "    .dataframe thead th {\n",
              "        text-align: right;\n",
              "    }\n",
              "</style>\n",
              "<table border=\"1\" class=\"dataframe\">\n",
              "  <thead>\n",
              "    <tr style=\"text-align: right;\">\n",
              "      <th></th>\n",
              "      <th>Month</th>\n",
              "      <th>AC</th>\n",
              "      <th>AL</th>\n",
              "      <th>AM</th>\n",
              "      <th>AP</th>\n",
              "      <th>BA</th>\n",
              "      <th>CE</th>\n",
              "      <th>DF</th>\n",
              "      <th>ES</th>\n",
              "      <th>GO</th>\n",
              "      <th>...</th>\n",
              "      <th>PR</th>\n",
              "      <th>RJ</th>\n",
              "      <th>RN</th>\n",
              "      <th>RO</th>\n",
              "      <th>RR</th>\n",
              "      <th>RS</th>\n",
              "      <th>SC</th>\n",
              "      <th>SE</th>\n",
              "      <th>SP</th>\n",
              "      <th>TO</th>\n",
              "    </tr>\n",
              "  </thead>\n",
              "  <tbody>\n",
              "    <tr>\n",
              "      <th>0</th>\n",
              "      <td>1</td>\n",
              "      <td>745</td>\n",
              "      <td>2621</td>\n",
              "      <td>2084</td>\n",
              "      <td>1429</td>\n",
              "      <td>35165</td>\n",
              "      <td>6747</td>\n",
              "      <td>3704</td>\n",
              "      <td>5592</td>\n",
              "      <td>14539</td>\n",
              "      <td>...</td>\n",
              "      <td>21962</td>\n",
              "      <td>19504</td>\n",
              "      <td>5612</td>\n",
              "      <td>7021</td>\n",
              "      <td>771</td>\n",
              "      <td>26305</td>\n",
              "      <td>15183</td>\n",
              "      <td>3218</td>\n",
              "      <td>32108</td>\n",
              "      <td>3358</td>\n",
              "    </tr>\n",
              "    <tr>\n",
              "      <th>1</th>\n",
              "      <td>3</td>\n",
              "      <td>655</td>\n",
              "      <td>3711</td>\n",
              "      <td>1868</td>\n",
              "      <td>1550</td>\n",
              "      <td>37297</td>\n",
              "      <td>11099</td>\n",
              "      <td>14767</td>\n",
              "      <td>50584</td>\n",
              "      <td>17653</td>\n",
              "      <td>...</td>\n",
              "      <td>22718</td>\n",
              "      <td>32155</td>\n",
              "      <td>8056</td>\n",
              "      <td>9328</td>\n",
              "      <td>934</td>\n",
              "      <td>25960</td>\n",
              "      <td>42751</td>\n",
              "      <td>2878</td>\n",
              "      <td>33693</td>\n",
              "      <td>5536</td>\n",
              "    </tr>\n",
              "    <tr>\n",
              "      <th>2</th>\n",
              "      <td>5</td>\n",
              "      <td>1527</td>\n",
              "      <td>2726</td>\n",
              "      <td>2360</td>\n",
              "      <td>1556</td>\n",
              "      <td>17423</td>\n",
              "      <td>8544</td>\n",
              "      <td>14938</td>\n",
              "      <td>44695</td>\n",
              "      <td>16547</td>\n",
              "      <td>...</td>\n",
              "      <td>27706</td>\n",
              "      <td>23857</td>\n",
              "      <td>9772</td>\n",
              "      <td>7560</td>\n",
              "      <td>1006</td>\n",
              "      <td>20895</td>\n",
              "      <td>42205</td>\n",
              "      <td>2575</td>\n",
              "      <td>35132</td>\n",
              "      <td>3654</td>\n",
              "    </tr>\n",
              "    <tr>\n",
              "      <th>3</th>\n",
              "      <td>4</td>\n",
              "      <td>788</td>\n",
              "      <td>3296</td>\n",
              "      <td>2077</td>\n",
              "      <td>1880</td>\n",
              "      <td>25053</td>\n",
              "      <td>8993</td>\n",
              "      <td>15182</td>\n",
              "      <td>48511</td>\n",
              "      <td>18722</td>\n",
              "      <td>...</td>\n",
              "      <td>31939</td>\n",
              "      <td>28750</td>\n",
              "      <td>11508</td>\n",
              "      <td>8000</td>\n",
              "      <td>1044</td>\n",
              "      <td>28063</td>\n",
              "      <td>41769</td>\n",
              "      <td>3201</td>\n",
              "      <td>31597</td>\n",
              "      <td>4599</td>\n",
              "    </tr>\n",
              "    <tr>\n",
              "      <th>4</th>\n",
              "      <td>2</td>\n",
              "      <td>650</td>\n",
              "      <td>3542</td>\n",
              "      <td>1548</td>\n",
              "      <td>1416</td>\n",
              "      <td>29625</td>\n",
              "      <td>8299</td>\n",
              "      <td>10404</td>\n",
              "      <td>35771</td>\n",
              "      <td>17114</td>\n",
              "      <td>...</td>\n",
              "      <td>27090</td>\n",
              "      <td>24342</td>\n",
              "      <td>10316</td>\n",
              "      <td>7407</td>\n",
              "      <td>936</td>\n",
              "      <td>26997</td>\n",
              "      <td>34313</td>\n",
              "      <td>3464</td>\n",
              "      <td>25111</td>\n",
              "      <td>4343</td>\n",
              "    </tr>\n",
              "  </tbody>\n",
              "</table>\n",
              "<p>5 rows × 28 columns</p>\n",
              "</div>\n",
              "      <button class=\"colab-df-convert\" onclick=\"convertToInteractive('df-ce7864d5-95d8-445e-91dd-441e89e06dd5')\"\n",
              "              title=\"Convert this dataframe to an interactive table.\"\n",
              "              style=\"display:none;\">\n",
              "        \n",
              "  <svg xmlns=\"http://www.w3.org/2000/svg\" height=\"24px\"viewBox=\"0 0 24 24\"\n",
              "       width=\"24px\">\n",
              "    <path d=\"M0 0h24v24H0V0z\" fill=\"none\"/>\n",
              "    <path d=\"M18.56 5.44l.94 2.06.94-2.06 2.06-.94-2.06-.94-.94-2.06-.94 2.06-2.06.94zm-11 1L8.5 8.5l.94-2.06 2.06-.94-2.06-.94L8.5 2.5l-.94 2.06-2.06.94zm10 10l.94 2.06.94-2.06 2.06-.94-2.06-.94-.94-2.06-.94 2.06-2.06.94z\"/><path d=\"M17.41 7.96l-1.37-1.37c-.4-.4-.92-.59-1.43-.59-.52 0-1.04.2-1.43.59L10.3 9.45l-7.72 7.72c-.78.78-.78 2.05 0 2.83L4 21.41c.39.39.9.59 1.41.59.51 0 1.02-.2 1.41-.59l7.78-7.78 2.81-2.81c.8-.78.8-2.07 0-2.86zM5.41 20L4 18.59l7.72-7.72 1.47 1.35L5.41 20z\"/>\n",
              "  </svg>\n",
              "      </button>\n",
              "      \n",
              "  <style>\n",
              "    .colab-df-container {\n",
              "      display:flex;\n",
              "      flex-wrap:wrap;\n",
              "      gap: 12px;\n",
              "    }\n",
              "\n",
              "    .colab-df-convert {\n",
              "      background-color: #E8F0FE;\n",
              "      border: none;\n",
              "      border-radius: 50%;\n",
              "      cursor: pointer;\n",
              "      display: none;\n",
              "      fill: #1967D2;\n",
              "      height: 32px;\n",
              "      padding: 0 0 0 0;\n",
              "      width: 32px;\n",
              "    }\n",
              "\n",
              "    .colab-df-convert:hover {\n",
              "      background-color: #E2EBFA;\n",
              "      box-shadow: 0px 1px 2px rgba(60, 64, 67, 0.3), 0px 1px 3px 1px rgba(60, 64, 67, 0.15);\n",
              "      fill: #174EA6;\n",
              "    }\n",
              "\n",
              "    [theme=dark] .colab-df-convert {\n",
              "      background-color: #3B4455;\n",
              "      fill: #D2E3FC;\n",
              "    }\n",
              "\n",
              "    [theme=dark] .colab-df-convert:hover {\n",
              "      background-color: #434B5C;\n",
              "      box-shadow: 0px 1px 3px 1px rgba(0, 0, 0, 0.15);\n",
              "      filter: drop-shadow(0px 1px 2px rgba(0, 0, 0, 0.3));\n",
              "      fill: #FFFFFF;\n",
              "    }\n",
              "  </style>\n",
              "\n",
              "      <script>\n",
              "        const buttonEl =\n",
              "          document.querySelector('#df-ce7864d5-95d8-445e-91dd-441e89e06dd5 button.colab-df-convert');\n",
              "        buttonEl.style.display =\n",
              "          google.colab.kernel.accessAllowed ? 'block' : 'none';\n",
              "\n",
              "        async function convertToInteractive(key) {\n",
              "          const element = document.querySelector('#df-ce7864d5-95d8-445e-91dd-441e89e06dd5');\n",
              "          const dataTable =\n",
              "            await google.colab.kernel.invokeFunction('convertToInteractive',\n",
              "                                                     [key], {});\n",
              "          if (!dataTable) return;\n",
              "\n",
              "          const docLinkHtml = 'Like what you see? Visit the ' +\n",
              "            '<a target=\"_blank\" href=https://colab.research.google.com/notebooks/data_table.ipynb>data table notebook</a>'\n",
              "            + ' to learn more about interactive tables.';\n",
              "          element.innerHTML = '';\n",
              "          dataTable['output_type'] = 'display_data';\n",
              "          await google.colab.output.renderOutput(dataTable, element);\n",
              "          const docLink = document.createElement('div');\n",
              "          docLink.innerHTML = docLinkHtml;\n",
              "          element.appendChild(docLink);\n",
              "        }\n",
              "      </script>\n",
              "    </div>\n",
              "  </div>\n",
              "  "
            ]
          },
          "metadata": {},
          "execution_count": 103
        }
      ]
    },
    {
      "cell_type": "code",
      "source": [
        "px.imshow(\n",
        "    df_pivot_violations_month_state,\n",
        "    title=' Heatmap | Monthly Traffic Violations by State 2022')"
      ],
      "metadata": {
        "colab": {
          "base_uri": "https://localhost:8080/",
          "height": 562
        },
        "outputId": "d101588b-7d11-4ca7-84c8-2d6339604af7",
        "id": "sSy8qNxaRjP9"
      },
      "execution_count": 104,
      "outputs": [
        {
          "output_type": "display_data",
          "data": {
            "text/html": [
              "<html>\n",
              "<head><meta charset=\"utf-8\" /></head>\n",
              "<body>\n",
              "    <div>            <script src=\"https://cdnjs.cloudflare.com/ajax/libs/mathjax/2.7.5/MathJax.js?config=TeX-AMS-MML_SVG\"></script><script type=\"text/javascript\">if (window.MathJax && window.MathJax.Hub && window.MathJax.Hub.Config) {window.MathJax.Hub.Config({SVG: {font: \"STIX-Web\"}});}</script>                <script type=\"text/javascript\">window.PlotlyConfig = {MathJaxConfig: 'local'};</script>\n",
              "        <script src=\"https://cdn.plot.ly/plotly-2.18.2.min.js\"></script>                <div id=\"b3e8c437-9723-4df8-93ac-76095a070289\" class=\"plotly-graph-div\" style=\"height:525px; width:100%;\"></div>            <script type=\"text/javascript\">                                    window.PLOTLYENV=window.PLOTLYENV || {};                                    if (document.getElementById(\"b3e8c437-9723-4df8-93ac-76095a070289\")) {                    Plotly.newPlot(                        \"b3e8c437-9723-4df8-93ac-76095a070289\",                        [{\"coloraxis\":\"coloraxis\",\"name\":\"0\",\"x\":[\"Month\",\"AC\",\"AL\",\"AM\",\"AP\",\"BA\",\"CE\",\"DF\",\"ES\",\"GO\",\"MA\",\"MG\",\"MS\",\"MT\",\"PA\",\"PB\",\"PE\",\"PI\",\"PR\",\"RJ\",\"RN\",\"RO\",\"RR\",\"RS\",\"SC\",\"SE\",\"SP\",\"TO\"],\"y\":[0,1,2,3,4],\"z\":[[1,745,2621,2084,1429,35165,6747,3704,5592,14539,5676,29338,21665,18112,5345,5474,9997,5911,21962,19504,5612,7021,771,26305,15183,3218,32108,3358],[3,655,3711,1868,1550,37297,11099,14767,50584,17653,6372,46323,27786,44374,6686,6781,12329,7371,22718,32155,8056,9328,934,25960,42751,2878,33693,5536],[5,1527,2726,2360,1556,17423,8544,14938,44695,16547,5194,39814,23037,39174,7111,6932,11034,6423,27706,23857,9772,7560,1006,20895,42205,2575,35132,3654],[4,788,3296,2077,1880,25053,8993,15182,48511,18722,5890,48547,32344,41462,6717,7388,12315,8733,31939,28750,11508,8000,1044,28063,41769,3201,31597,4599],[2,650,3542,1548,1416,29625,8299,10404,35771,17114,5985,43191,21844,33767,6969,8444,13021,7655,27090,24342,10316,7407,936,26997,34313,3464,25111,4343]],\"type\":\"heatmap\",\"xaxis\":\"x\",\"yaxis\":\"y\",\"hovertemplate\":\"x: %{x}<br>y: %{y}<br>color: %{z}<extra></extra>\"}],                        {\"template\":{\"data\":{\"histogram2dcontour\":[{\"type\":\"histogram2dcontour\",\"colorbar\":{\"outlinewidth\":0,\"ticks\":\"\"},\"colorscale\":[[0.0,\"#0d0887\"],[0.1111111111111111,\"#46039f\"],[0.2222222222222222,\"#7201a8\"],[0.3333333333333333,\"#9c179e\"],[0.4444444444444444,\"#bd3786\"],[0.5555555555555556,\"#d8576b\"],[0.6666666666666666,\"#ed7953\"],[0.7777777777777778,\"#fb9f3a\"],[0.8888888888888888,\"#fdca26\"],[1.0,\"#f0f921\"]]}],\"choropleth\":[{\"type\":\"choropleth\",\"colorbar\":{\"outlinewidth\":0,\"ticks\":\"\"}}],\"histogram2d\":[{\"type\":\"histogram2d\",\"colorbar\":{\"outlinewidth\":0,\"ticks\":\"\"},\"colorscale\":[[0.0,\"#0d0887\"],[0.1111111111111111,\"#46039f\"],[0.2222222222222222,\"#7201a8\"],[0.3333333333333333,\"#9c179e\"],[0.4444444444444444,\"#bd3786\"],[0.5555555555555556,\"#d8576b\"],[0.6666666666666666,\"#ed7953\"],[0.7777777777777778,\"#fb9f3a\"],[0.8888888888888888,\"#fdca26\"],[1.0,\"#f0f921\"]]}],\"heatmap\":[{\"type\":\"heatmap\",\"colorbar\":{\"outlinewidth\":0,\"ticks\":\"\"},\"colorscale\":[[0.0,\"#0d0887\"],[0.1111111111111111,\"#46039f\"],[0.2222222222222222,\"#7201a8\"],[0.3333333333333333,\"#9c179e\"],[0.4444444444444444,\"#bd3786\"],[0.5555555555555556,\"#d8576b\"],[0.6666666666666666,\"#ed7953\"],[0.7777777777777778,\"#fb9f3a\"],[0.8888888888888888,\"#fdca26\"],[1.0,\"#f0f921\"]]}],\"heatmapgl\":[{\"type\":\"heatmapgl\",\"colorbar\":{\"outlinewidth\":0,\"ticks\":\"\"},\"colorscale\":[[0.0,\"#0d0887\"],[0.1111111111111111,\"#46039f\"],[0.2222222222222222,\"#7201a8\"],[0.3333333333333333,\"#9c179e\"],[0.4444444444444444,\"#bd3786\"],[0.5555555555555556,\"#d8576b\"],[0.6666666666666666,\"#ed7953\"],[0.7777777777777778,\"#fb9f3a\"],[0.8888888888888888,\"#fdca26\"],[1.0,\"#f0f921\"]]}],\"contourcarpet\":[{\"type\":\"contourcarpet\",\"colorbar\":{\"outlinewidth\":0,\"ticks\":\"\"}}],\"contour\":[{\"type\":\"contour\",\"colorbar\":{\"outlinewidth\":0,\"ticks\":\"\"},\"colorscale\":[[0.0,\"#0d0887\"],[0.1111111111111111,\"#46039f\"],[0.2222222222222222,\"#7201a8\"],[0.3333333333333333,\"#9c179e\"],[0.4444444444444444,\"#bd3786\"],[0.5555555555555556,\"#d8576b\"],[0.6666666666666666,\"#ed7953\"],[0.7777777777777778,\"#fb9f3a\"],[0.8888888888888888,\"#fdca26\"],[1.0,\"#f0f921\"]]}],\"surface\":[{\"type\":\"surface\",\"colorbar\":{\"outlinewidth\":0,\"ticks\":\"\"},\"colorscale\":[[0.0,\"#0d0887\"],[0.1111111111111111,\"#46039f\"],[0.2222222222222222,\"#7201a8\"],[0.3333333333333333,\"#9c179e\"],[0.4444444444444444,\"#bd3786\"],[0.5555555555555556,\"#d8576b\"],[0.6666666666666666,\"#ed7953\"],[0.7777777777777778,\"#fb9f3a\"],[0.8888888888888888,\"#fdca26\"],[1.0,\"#f0f921\"]]}],\"mesh3d\":[{\"type\":\"mesh3d\",\"colorbar\":{\"outlinewidth\":0,\"ticks\":\"\"}}],\"scatter\":[{\"fillpattern\":{\"fillmode\":\"overlay\",\"size\":10,\"solidity\":0.2},\"type\":\"scatter\"}],\"parcoords\":[{\"type\":\"parcoords\",\"line\":{\"colorbar\":{\"outlinewidth\":0,\"ticks\":\"\"}}}],\"scatterpolargl\":[{\"type\":\"scatterpolargl\",\"marker\":{\"colorbar\":{\"outlinewidth\":0,\"ticks\":\"\"}}}],\"bar\":[{\"error_x\":{\"color\":\"#2a3f5f\"},\"error_y\":{\"color\":\"#2a3f5f\"},\"marker\":{\"line\":{\"color\":\"#E5ECF6\",\"width\":0.5},\"pattern\":{\"fillmode\":\"overlay\",\"size\":10,\"solidity\":0.2}},\"type\":\"bar\"}],\"scattergeo\":[{\"type\":\"scattergeo\",\"marker\":{\"colorbar\":{\"outlinewidth\":0,\"ticks\":\"\"}}}],\"scatterpolar\":[{\"type\":\"scatterpolar\",\"marker\":{\"colorbar\":{\"outlinewidth\":0,\"ticks\":\"\"}}}],\"histogram\":[{\"marker\":{\"pattern\":{\"fillmode\":\"overlay\",\"size\":10,\"solidity\":0.2}},\"type\":\"histogram\"}],\"scattergl\":[{\"type\":\"scattergl\",\"marker\":{\"colorbar\":{\"outlinewidth\":0,\"ticks\":\"\"}}}],\"scatter3d\":[{\"type\":\"scatter3d\",\"line\":{\"colorbar\":{\"outlinewidth\":0,\"ticks\":\"\"}},\"marker\":{\"colorbar\":{\"outlinewidth\":0,\"ticks\":\"\"}}}],\"scattermapbox\":[{\"type\":\"scattermapbox\",\"marker\":{\"colorbar\":{\"outlinewidth\":0,\"ticks\":\"\"}}}],\"scatterternary\":[{\"type\":\"scatterternary\",\"marker\":{\"colorbar\":{\"outlinewidth\":0,\"ticks\":\"\"}}}],\"scattercarpet\":[{\"type\":\"scattercarpet\",\"marker\":{\"colorbar\":{\"outlinewidth\":0,\"ticks\":\"\"}}}],\"carpet\":[{\"aaxis\":{\"endlinecolor\":\"#2a3f5f\",\"gridcolor\":\"white\",\"linecolor\":\"white\",\"minorgridcolor\":\"white\",\"startlinecolor\":\"#2a3f5f\"},\"baxis\":{\"endlinecolor\":\"#2a3f5f\",\"gridcolor\":\"white\",\"linecolor\":\"white\",\"minorgridcolor\":\"white\",\"startlinecolor\":\"#2a3f5f\"},\"type\":\"carpet\"}],\"table\":[{\"cells\":{\"fill\":{\"color\":\"#EBF0F8\"},\"line\":{\"color\":\"white\"}},\"header\":{\"fill\":{\"color\":\"#C8D4E3\"},\"line\":{\"color\":\"white\"}},\"type\":\"table\"}],\"barpolar\":[{\"marker\":{\"line\":{\"color\":\"#E5ECF6\",\"width\":0.5},\"pattern\":{\"fillmode\":\"overlay\",\"size\":10,\"solidity\":0.2}},\"type\":\"barpolar\"}],\"pie\":[{\"automargin\":true,\"type\":\"pie\"}]},\"layout\":{\"autotypenumbers\":\"strict\",\"colorway\":[\"#636efa\",\"#EF553B\",\"#00cc96\",\"#ab63fa\",\"#FFA15A\",\"#19d3f3\",\"#FF6692\",\"#B6E880\",\"#FF97FF\",\"#FECB52\"],\"font\":{\"color\":\"#2a3f5f\"},\"hovermode\":\"closest\",\"hoverlabel\":{\"align\":\"left\"},\"paper_bgcolor\":\"white\",\"plot_bgcolor\":\"#E5ECF6\",\"polar\":{\"bgcolor\":\"#E5ECF6\",\"angularaxis\":{\"gridcolor\":\"white\",\"linecolor\":\"white\",\"ticks\":\"\"},\"radialaxis\":{\"gridcolor\":\"white\",\"linecolor\":\"white\",\"ticks\":\"\"}},\"ternary\":{\"bgcolor\":\"#E5ECF6\",\"aaxis\":{\"gridcolor\":\"white\",\"linecolor\":\"white\",\"ticks\":\"\"},\"baxis\":{\"gridcolor\":\"white\",\"linecolor\":\"white\",\"ticks\":\"\"},\"caxis\":{\"gridcolor\":\"white\",\"linecolor\":\"white\",\"ticks\":\"\"}},\"coloraxis\":{\"colorbar\":{\"outlinewidth\":0,\"ticks\":\"\"}},\"colorscale\":{\"sequential\":[[0.0,\"#0d0887\"],[0.1111111111111111,\"#46039f\"],[0.2222222222222222,\"#7201a8\"],[0.3333333333333333,\"#9c179e\"],[0.4444444444444444,\"#bd3786\"],[0.5555555555555556,\"#d8576b\"],[0.6666666666666666,\"#ed7953\"],[0.7777777777777778,\"#fb9f3a\"],[0.8888888888888888,\"#fdca26\"],[1.0,\"#f0f921\"]],\"sequentialminus\":[[0.0,\"#0d0887\"],[0.1111111111111111,\"#46039f\"],[0.2222222222222222,\"#7201a8\"],[0.3333333333333333,\"#9c179e\"],[0.4444444444444444,\"#bd3786\"],[0.5555555555555556,\"#d8576b\"],[0.6666666666666666,\"#ed7953\"],[0.7777777777777778,\"#fb9f3a\"],[0.8888888888888888,\"#fdca26\"],[1.0,\"#f0f921\"]],\"diverging\":[[0,\"#8e0152\"],[0.1,\"#c51b7d\"],[0.2,\"#de77ae\"],[0.3,\"#f1b6da\"],[0.4,\"#fde0ef\"],[0.5,\"#f7f7f7\"],[0.6,\"#e6f5d0\"],[0.7,\"#b8e186\"],[0.8,\"#7fbc41\"],[0.9,\"#4d9221\"],[1,\"#276419\"]]},\"xaxis\":{\"gridcolor\":\"white\",\"linecolor\":\"white\",\"ticks\":\"\",\"title\":{\"standoff\":15},\"zerolinecolor\":\"white\",\"automargin\":true,\"zerolinewidth\":2},\"yaxis\":{\"gridcolor\":\"white\",\"linecolor\":\"white\",\"ticks\":\"\",\"title\":{\"standoff\":15},\"zerolinecolor\":\"white\",\"automargin\":true,\"zerolinewidth\":2},\"scene\":{\"xaxis\":{\"backgroundcolor\":\"#E5ECF6\",\"gridcolor\":\"white\",\"linecolor\":\"white\",\"showbackground\":true,\"ticks\":\"\",\"zerolinecolor\":\"white\",\"gridwidth\":2},\"yaxis\":{\"backgroundcolor\":\"#E5ECF6\",\"gridcolor\":\"white\",\"linecolor\":\"white\",\"showbackground\":true,\"ticks\":\"\",\"zerolinecolor\":\"white\",\"gridwidth\":2},\"zaxis\":{\"backgroundcolor\":\"#E5ECF6\",\"gridcolor\":\"white\",\"linecolor\":\"white\",\"showbackground\":true,\"ticks\":\"\",\"zerolinecolor\":\"white\",\"gridwidth\":2}},\"shapedefaults\":{\"line\":{\"color\":\"#2a3f5f\"}},\"annotationdefaults\":{\"arrowcolor\":\"#2a3f5f\",\"arrowhead\":0,\"arrowwidth\":1},\"geo\":{\"bgcolor\":\"white\",\"landcolor\":\"#E5ECF6\",\"subunitcolor\":\"white\",\"showland\":true,\"showlakes\":true,\"lakecolor\":\"white\"},\"title\":{\"x\":0.05},\"mapbox\":{\"style\":\"light\"}}},\"xaxis\":{\"anchor\":\"y\",\"domain\":[0.0,1.0],\"scaleanchor\":\"y\",\"constrain\":\"domain\"},\"yaxis\":{\"anchor\":\"x\",\"domain\":[0.0,1.0],\"autorange\":\"reversed\",\"constrain\":\"domain\"},\"coloraxis\":{\"colorscale\":[[0.0,\"#0d0887\"],[0.1111111111111111,\"#46039f\"],[0.2222222222222222,\"#7201a8\"],[0.3333333333333333,\"#9c179e\"],[0.4444444444444444,\"#bd3786\"],[0.5555555555555556,\"#d8576b\"],[0.6666666666666666,\"#ed7953\"],[0.7777777777777778,\"#fb9f3a\"],[0.8888888888888888,\"#fdca26\"],[1.0,\"#f0f921\"]]},\"title\":{\"text\":\" Heatmap | Monthly Traffic Violations by State 2022\"}},                        {\"responsive\": true}                    ).then(function(){\n",
              "                            \n",
              "var gd = document.getElementById('b3e8c437-9723-4df8-93ac-76095a070289');\n",
              "var x = new MutationObserver(function (mutations, observer) {{\n",
              "        var display = window.getComputedStyle(gd).display;\n",
              "        if (!display || display === 'none') {{\n",
              "            console.log([gd, 'removed!']);\n",
              "            Plotly.purge(gd);\n",
              "            observer.disconnect();\n",
              "        }}\n",
              "}});\n",
              "\n",
              "// Listen for the removal of the full notebook cells\n",
              "var notebookContainer = gd.closest('#notebook-container');\n",
              "if (notebookContainer) {{\n",
              "    x.observe(notebookContainer, {childList: true});\n",
              "}}\n",
              "\n",
              "// Listen for the clearing of the current output cell\n",
              "var outputEl = gd.closest('.output');\n",
              "if (outputEl) {{\n",
              "    x.observe(outputEl, {childList: true});\n",
              "}}\n",
              "\n",
              "                        })                };                            </script>        </div>\n",
              "</body>\n",
              "</html>"
            ]
          },
          "metadata": {}
        }
      ]
    },
    {
      "cell_type": "markdown",
      "source": [
        "### Checking the infraction type\n",
        "Each infraction has more cost to the infractor, we will download the ticket value data for each infraction and map how much each state has earned on infractions using the join function."
      ],
      "metadata": {
        "id": "bWyEG9ESRjP-"
      }
    },
    {
      "cell_type": "code",
      "source": [
        "# Compute the cumulative percentage\n",
        "violation_type = TV23.select('Infraction_Framing') \\\n",
        "    .groupBy('Infraction_Framing') \\\n",
        "    .count() \\\n",
        "    .withColumn('cumulative_count', sum('count').over(Window.orderBy(col(\"count\").desc()))) \\\n",
        "    .withColumn('cumulative_percentage', col('cumulative_count') / sum('count').over(Window.partitionBy()) * 100)\n",
        "\n",
        "# Show the resulting DataFrame\n",
        "violation_type.show(5)"
      ],
      "metadata": {
        "colab": {
          "base_uri": "https://localhost:8080/"
        },
        "outputId": "149fbb22-f643-4752-b5a2-a1b6dea02960",
        "id": "IHzClfAoRjP-"
      },
      "execution_count": 105,
      "outputs": [
        {
          "output_type": "stream",
          "name": "stdout",
          "text": [
            "+------------------+------+----------------+---------------------+\n",
            "|Infraction_Framing| count|cumulative_count|cumulative_percentage|\n",
            "+------------------+------+----------------+---------------------+\n",
            "|             218 I|760721|          760721|    36.12623650705456|\n",
            "|            218 II|144377|          905098|   42.982623603215984|\n",
            "|             203 V|100642|         1005740|     47.7620587634692|\n",
            "|           230 * V| 96287|         1102027|    52.33467728531198|\n",
            "|               167| 88213|         1190240|    56.52386583275158|\n",
            "+------------------+------+----------------+---------------------+\n",
            "only showing top 5 rows\n",
            "\n"
          ]
        }
      ]
    },
    {
      "cell_type": "code",
      "source": [
        "# Loop no site do Detran e buscar os dados\n",
        "Url = 'https://www.detran.mg.gov.br/infracoes/consultar-tipos-infracoes/index/index/index/index/index/index/index/index/index/index/index/index/index/lista-de-infracoes?artigo=&descricao=&page='\n",
        "\n",
        "# Tabela vazia\n",
        "df_violation_ticket_value = pd.DataFrame()\n",
        "\n",
        "for Loop in range(1, 24):\n",
        "\n",
        "    # Construindo a URL\n",
        "    Link = f'{Url}{Loop}'\n",
        "\n",
        "    # Lendo os dados da Web\n",
        "    web_data = pd.read_html(Link)[0]\n",
        "\n",
        "    # Consolidar\n",
        "    df_violation_ticket_value = pd.concat([df_violation_ticket_value, web_data])"
      ],
      "metadata": {
        "id": "1mCvqD51RjP_"
      },
      "execution_count": 106,
      "outputs": []
    },
    {
      "cell_type": "code",
      "source": [
        "# Define a translation dictionary for column translations\n",
        "translation_dict = {\n",
        "    \"Código\": \"Code\",\n",
        "    \"Desd.\": \"Desd.\",\n",
        "    \"Infração\": \"Infraction\",\n",
        "    \"Artigo\": \"Article\",\n",
        "    \"Infrator\": \"Offender\",\n",
        "    \"Pts\": \"Points\",\n",
        "    \"Valor\": \"Ticket_Value\"\n",
        "}\n",
        "\n",
        "df_violation_ticket_value = df_violation_ticket_value.rename(columns=translation_dict)"
      ],
      "metadata": {
        "id": "2jgntBx2RjQA"
      },
      "execution_count": 107,
      "outputs": []
    },
    {
      "cell_type": "code",
      "source": [
        "df_violation_ticket_value.head()"
      ],
      "metadata": {
        "colab": {
          "base_uri": "https://localhost:8080/",
          "height": 206
        },
        "outputId": "0051351d-e498-4411-c2e9-106ef5f62d76",
        "id": "uqoHQrtxRjQA"
      },
      "execution_count": 108,
      "outputs": [
        {
          "output_type": "execute_result",
          "data": {
            "text/plain": [
              "   Code  Desd.                                         Infraction     Article  \\\n",
              "0  5622      4  PARAR NOS CANTEIROS CENTRAIS OU DIVISORES DE P...    182 * VI   \n",
              "1  5622      5                    PARAR NAS MARCAS DE CANALIZACAO    182 * VI   \n",
              "2  5630      0                PARAR NA AREA DE CRUZAMENTO DE VIAS   182 * VII   \n",
              "3  5649      1                                 PARAR NOS VIADUTOS  182 * VIII   \n",
              "4  5649      2                                   PARAR NAS PONTES  182 * VIII   \n",
              "\n",
              "  Offender  Points Ticket_Value  \n",
              "0      CON       3         8838  \n",
              "1      CON       3         8838  \n",
              "2      CON       4        13016  \n",
              "3      CON       4        13016  \n",
              "4      CON       4        13016  "
            ],
            "text/html": [
              "\n",
              "  <div id=\"df-9b940a07-efcc-4ab1-a16c-20489d83b737\">\n",
              "    <div class=\"colab-df-container\">\n",
              "      <div>\n",
              "<style scoped>\n",
              "    .dataframe tbody tr th:only-of-type {\n",
              "        vertical-align: middle;\n",
              "    }\n",
              "\n",
              "    .dataframe tbody tr th {\n",
              "        vertical-align: top;\n",
              "    }\n",
              "\n",
              "    .dataframe thead th {\n",
              "        text-align: right;\n",
              "    }\n",
              "</style>\n",
              "<table border=\"1\" class=\"dataframe\">\n",
              "  <thead>\n",
              "    <tr style=\"text-align: right;\">\n",
              "      <th></th>\n",
              "      <th>Code</th>\n",
              "      <th>Desd.</th>\n",
              "      <th>Infraction</th>\n",
              "      <th>Article</th>\n",
              "      <th>Offender</th>\n",
              "      <th>Points</th>\n",
              "      <th>Ticket_Value</th>\n",
              "    </tr>\n",
              "  </thead>\n",
              "  <tbody>\n",
              "    <tr>\n",
              "      <th>0</th>\n",
              "      <td>5622</td>\n",
              "      <td>4</td>\n",
              "      <td>PARAR NOS CANTEIROS CENTRAIS OU DIVISORES DE P...</td>\n",
              "      <td>182 * VI</td>\n",
              "      <td>CON</td>\n",
              "      <td>3</td>\n",
              "      <td>8838</td>\n",
              "    </tr>\n",
              "    <tr>\n",
              "      <th>1</th>\n",
              "      <td>5622</td>\n",
              "      <td>5</td>\n",
              "      <td>PARAR NAS MARCAS DE CANALIZACAO</td>\n",
              "      <td>182 * VI</td>\n",
              "      <td>CON</td>\n",
              "      <td>3</td>\n",
              "      <td>8838</td>\n",
              "    </tr>\n",
              "    <tr>\n",
              "      <th>2</th>\n",
              "      <td>5630</td>\n",
              "      <td>0</td>\n",
              "      <td>PARAR NA AREA DE CRUZAMENTO DE VIAS</td>\n",
              "      <td>182 * VII</td>\n",
              "      <td>CON</td>\n",
              "      <td>4</td>\n",
              "      <td>13016</td>\n",
              "    </tr>\n",
              "    <tr>\n",
              "      <th>3</th>\n",
              "      <td>5649</td>\n",
              "      <td>1</td>\n",
              "      <td>PARAR NOS VIADUTOS</td>\n",
              "      <td>182 * VIII</td>\n",
              "      <td>CON</td>\n",
              "      <td>4</td>\n",
              "      <td>13016</td>\n",
              "    </tr>\n",
              "    <tr>\n",
              "      <th>4</th>\n",
              "      <td>5649</td>\n",
              "      <td>2</td>\n",
              "      <td>PARAR NAS PONTES</td>\n",
              "      <td>182 * VIII</td>\n",
              "      <td>CON</td>\n",
              "      <td>4</td>\n",
              "      <td>13016</td>\n",
              "    </tr>\n",
              "  </tbody>\n",
              "</table>\n",
              "</div>\n",
              "      <button class=\"colab-df-convert\" onclick=\"convertToInteractive('df-9b940a07-efcc-4ab1-a16c-20489d83b737')\"\n",
              "              title=\"Convert this dataframe to an interactive table.\"\n",
              "              style=\"display:none;\">\n",
              "        \n",
              "  <svg xmlns=\"http://www.w3.org/2000/svg\" height=\"24px\"viewBox=\"0 0 24 24\"\n",
              "       width=\"24px\">\n",
              "    <path d=\"M0 0h24v24H0V0z\" fill=\"none\"/>\n",
              "    <path d=\"M18.56 5.44l.94 2.06.94-2.06 2.06-.94-2.06-.94-.94-2.06-.94 2.06-2.06.94zm-11 1L8.5 8.5l.94-2.06 2.06-.94-2.06-.94L8.5 2.5l-.94 2.06-2.06.94zm10 10l.94 2.06.94-2.06 2.06-.94-2.06-.94-.94-2.06-.94 2.06-2.06.94z\"/><path d=\"M17.41 7.96l-1.37-1.37c-.4-.4-.92-.59-1.43-.59-.52 0-1.04.2-1.43.59L10.3 9.45l-7.72 7.72c-.78.78-.78 2.05 0 2.83L4 21.41c.39.39.9.59 1.41.59.51 0 1.02-.2 1.41-.59l7.78-7.78 2.81-2.81c.8-.78.8-2.07 0-2.86zM5.41 20L4 18.59l7.72-7.72 1.47 1.35L5.41 20z\"/>\n",
              "  </svg>\n",
              "      </button>\n",
              "      \n",
              "  <style>\n",
              "    .colab-df-container {\n",
              "      display:flex;\n",
              "      flex-wrap:wrap;\n",
              "      gap: 12px;\n",
              "    }\n",
              "\n",
              "    .colab-df-convert {\n",
              "      background-color: #E8F0FE;\n",
              "      border: none;\n",
              "      border-radius: 50%;\n",
              "      cursor: pointer;\n",
              "      display: none;\n",
              "      fill: #1967D2;\n",
              "      height: 32px;\n",
              "      padding: 0 0 0 0;\n",
              "      width: 32px;\n",
              "    }\n",
              "\n",
              "    .colab-df-convert:hover {\n",
              "      background-color: #E2EBFA;\n",
              "      box-shadow: 0px 1px 2px rgba(60, 64, 67, 0.3), 0px 1px 3px 1px rgba(60, 64, 67, 0.15);\n",
              "      fill: #174EA6;\n",
              "    }\n",
              "\n",
              "    [theme=dark] .colab-df-convert {\n",
              "      background-color: #3B4455;\n",
              "      fill: #D2E3FC;\n",
              "    }\n",
              "\n",
              "    [theme=dark] .colab-df-convert:hover {\n",
              "      background-color: #434B5C;\n",
              "      box-shadow: 0px 1px 3px 1px rgba(0, 0, 0, 0.15);\n",
              "      filter: drop-shadow(0px 1px 2px rgba(0, 0, 0, 0.3));\n",
              "      fill: #FFFFFF;\n",
              "    }\n",
              "  </style>\n",
              "\n",
              "      <script>\n",
              "        const buttonEl =\n",
              "          document.querySelector('#df-9b940a07-efcc-4ab1-a16c-20489d83b737 button.colab-df-convert');\n",
              "        buttonEl.style.display =\n",
              "          google.colab.kernel.accessAllowed ? 'block' : 'none';\n",
              "\n",
              "        async function convertToInteractive(key) {\n",
              "          const element = document.querySelector('#df-9b940a07-efcc-4ab1-a16c-20489d83b737');\n",
              "          const dataTable =\n",
              "            await google.colab.kernel.invokeFunction('convertToInteractive',\n",
              "                                                     [key], {});\n",
              "          if (!dataTable) return;\n",
              "\n",
              "          const docLinkHtml = 'Like what you see? Visit the ' +\n",
              "            '<a target=\"_blank\" href=https://colab.research.google.com/notebooks/data_table.ipynb>data table notebook</a>'\n",
              "            + ' to learn more about interactive tables.';\n",
              "          element.innerHTML = '';\n",
              "          dataTable['output_type'] = 'display_data';\n",
              "          await google.colab.output.renderOutput(dataTable, element);\n",
              "          const docLink = document.createElement('div');\n",
              "          docLink.innerHTML = docLinkHtml;\n",
              "          element.appendChild(docLink);\n",
              "        }\n",
              "      </script>\n",
              "    </div>\n",
              "  </div>\n",
              "  "
            ]
          },
          "metadata": {},
          "execution_count": 108
        }
      ]
    },
    {
      "cell_type": "code",
      "source": [
        "df_violation_ticket_value['Ticket_Value'] = pd.to_numeric(df_violation_ticket_value['Ticket_Value'], errors='coerce')\n",
        "df_violation_ticket_value['Ticket_Value'] = df_violation_ticket_value['Ticket_Value'] / 100"
      ],
      "metadata": {
        "id": "8pWwrOcORjQB"
      },
      "execution_count": 109,
      "outputs": []
    },
    {
      "cell_type": "code",
      "source": [
        "df_violation_ticket_value.head()"
      ],
      "metadata": {
        "colab": {
          "base_uri": "https://localhost:8080/",
          "height": 206
        },
        "outputId": "84c83c3d-733c-4c0e-a913-37bc54d7e838",
        "id": "N9LSjCvyRjQC"
      },
      "execution_count": 110,
      "outputs": [
        {
          "output_type": "execute_result",
          "data": {
            "text/plain": [
              "   Code  Desd.                                         Infraction     Article  \\\n",
              "0  5622      4  PARAR NOS CANTEIROS CENTRAIS OU DIVISORES DE P...    182 * VI   \n",
              "1  5622      5                    PARAR NAS MARCAS DE CANALIZACAO    182 * VI   \n",
              "2  5630      0                PARAR NA AREA DE CRUZAMENTO DE VIAS   182 * VII   \n",
              "3  5649      1                                 PARAR NOS VIADUTOS  182 * VIII   \n",
              "4  5649      2                                   PARAR NAS PONTES  182 * VIII   \n",
              "\n",
              "  Offender  Points  Ticket_Value  \n",
              "0      CON       3         88.38  \n",
              "1      CON       3         88.38  \n",
              "2      CON       4        130.16  \n",
              "3      CON       4        130.16  \n",
              "4      CON       4        130.16  "
            ],
            "text/html": [
              "\n",
              "  <div id=\"df-6f872d7b-b344-4791-aff1-c1b853d2a67b\">\n",
              "    <div class=\"colab-df-container\">\n",
              "      <div>\n",
              "<style scoped>\n",
              "    .dataframe tbody tr th:only-of-type {\n",
              "        vertical-align: middle;\n",
              "    }\n",
              "\n",
              "    .dataframe tbody tr th {\n",
              "        vertical-align: top;\n",
              "    }\n",
              "\n",
              "    .dataframe thead th {\n",
              "        text-align: right;\n",
              "    }\n",
              "</style>\n",
              "<table border=\"1\" class=\"dataframe\">\n",
              "  <thead>\n",
              "    <tr style=\"text-align: right;\">\n",
              "      <th></th>\n",
              "      <th>Code</th>\n",
              "      <th>Desd.</th>\n",
              "      <th>Infraction</th>\n",
              "      <th>Article</th>\n",
              "      <th>Offender</th>\n",
              "      <th>Points</th>\n",
              "      <th>Ticket_Value</th>\n",
              "    </tr>\n",
              "  </thead>\n",
              "  <tbody>\n",
              "    <tr>\n",
              "      <th>0</th>\n",
              "      <td>5622</td>\n",
              "      <td>4</td>\n",
              "      <td>PARAR NOS CANTEIROS CENTRAIS OU DIVISORES DE P...</td>\n",
              "      <td>182 * VI</td>\n",
              "      <td>CON</td>\n",
              "      <td>3</td>\n",
              "      <td>88.38</td>\n",
              "    </tr>\n",
              "    <tr>\n",
              "      <th>1</th>\n",
              "      <td>5622</td>\n",
              "      <td>5</td>\n",
              "      <td>PARAR NAS MARCAS DE CANALIZACAO</td>\n",
              "      <td>182 * VI</td>\n",
              "      <td>CON</td>\n",
              "      <td>3</td>\n",
              "      <td>88.38</td>\n",
              "    </tr>\n",
              "    <tr>\n",
              "      <th>2</th>\n",
              "      <td>5630</td>\n",
              "      <td>0</td>\n",
              "      <td>PARAR NA AREA DE CRUZAMENTO DE VIAS</td>\n",
              "      <td>182 * VII</td>\n",
              "      <td>CON</td>\n",
              "      <td>4</td>\n",
              "      <td>130.16</td>\n",
              "    </tr>\n",
              "    <tr>\n",
              "      <th>3</th>\n",
              "      <td>5649</td>\n",
              "      <td>1</td>\n",
              "      <td>PARAR NOS VIADUTOS</td>\n",
              "      <td>182 * VIII</td>\n",
              "      <td>CON</td>\n",
              "      <td>4</td>\n",
              "      <td>130.16</td>\n",
              "    </tr>\n",
              "    <tr>\n",
              "      <th>4</th>\n",
              "      <td>5649</td>\n",
              "      <td>2</td>\n",
              "      <td>PARAR NAS PONTES</td>\n",
              "      <td>182 * VIII</td>\n",
              "      <td>CON</td>\n",
              "      <td>4</td>\n",
              "      <td>130.16</td>\n",
              "    </tr>\n",
              "  </tbody>\n",
              "</table>\n",
              "</div>\n",
              "      <button class=\"colab-df-convert\" onclick=\"convertToInteractive('df-6f872d7b-b344-4791-aff1-c1b853d2a67b')\"\n",
              "              title=\"Convert this dataframe to an interactive table.\"\n",
              "              style=\"display:none;\">\n",
              "        \n",
              "  <svg xmlns=\"http://www.w3.org/2000/svg\" height=\"24px\"viewBox=\"0 0 24 24\"\n",
              "       width=\"24px\">\n",
              "    <path d=\"M0 0h24v24H0V0z\" fill=\"none\"/>\n",
              "    <path d=\"M18.56 5.44l.94 2.06.94-2.06 2.06-.94-2.06-.94-.94-2.06-.94 2.06-2.06.94zm-11 1L8.5 8.5l.94-2.06 2.06-.94-2.06-.94L8.5 2.5l-.94 2.06-2.06.94zm10 10l.94 2.06.94-2.06 2.06-.94-2.06-.94-.94-2.06-.94 2.06-2.06.94z\"/><path d=\"M17.41 7.96l-1.37-1.37c-.4-.4-.92-.59-1.43-.59-.52 0-1.04.2-1.43.59L10.3 9.45l-7.72 7.72c-.78.78-.78 2.05 0 2.83L4 21.41c.39.39.9.59 1.41.59.51 0 1.02-.2 1.41-.59l7.78-7.78 2.81-2.81c.8-.78.8-2.07 0-2.86zM5.41 20L4 18.59l7.72-7.72 1.47 1.35L5.41 20z\"/>\n",
              "  </svg>\n",
              "      </button>\n",
              "      \n",
              "  <style>\n",
              "    .colab-df-container {\n",
              "      display:flex;\n",
              "      flex-wrap:wrap;\n",
              "      gap: 12px;\n",
              "    }\n",
              "\n",
              "    .colab-df-convert {\n",
              "      background-color: #E8F0FE;\n",
              "      border: none;\n",
              "      border-radius: 50%;\n",
              "      cursor: pointer;\n",
              "      display: none;\n",
              "      fill: #1967D2;\n",
              "      height: 32px;\n",
              "      padding: 0 0 0 0;\n",
              "      width: 32px;\n",
              "    }\n",
              "\n",
              "    .colab-df-convert:hover {\n",
              "      background-color: #E2EBFA;\n",
              "      box-shadow: 0px 1px 2px rgba(60, 64, 67, 0.3), 0px 1px 3px 1px rgba(60, 64, 67, 0.15);\n",
              "      fill: #174EA6;\n",
              "    }\n",
              "\n",
              "    [theme=dark] .colab-df-convert {\n",
              "      background-color: #3B4455;\n",
              "      fill: #D2E3FC;\n",
              "    }\n",
              "\n",
              "    [theme=dark] .colab-df-convert:hover {\n",
              "      background-color: #434B5C;\n",
              "      box-shadow: 0px 1px 3px 1px rgba(0, 0, 0, 0.15);\n",
              "      filter: drop-shadow(0px 1px 2px rgba(0, 0, 0, 0.3));\n",
              "      fill: #FFFFFF;\n",
              "    }\n",
              "  </style>\n",
              "\n",
              "      <script>\n",
              "        const buttonEl =\n",
              "          document.querySelector('#df-6f872d7b-b344-4791-aff1-c1b853d2a67b button.colab-df-convert');\n",
              "        buttonEl.style.display =\n",
              "          google.colab.kernel.accessAllowed ? 'block' : 'none';\n",
              "\n",
              "        async function convertToInteractive(key) {\n",
              "          const element = document.querySelector('#df-6f872d7b-b344-4791-aff1-c1b853d2a67b');\n",
              "          const dataTable =\n",
              "            await google.colab.kernel.invokeFunction('convertToInteractive',\n",
              "                                                     [key], {});\n",
              "          if (!dataTable) return;\n",
              "\n",
              "          const docLinkHtml = 'Like what you see? Visit the ' +\n",
              "            '<a target=\"_blank\" href=https://colab.research.google.com/notebooks/data_table.ipynb>data table notebook</a>'\n",
              "            + ' to learn more about interactive tables.';\n",
              "          element.innerHTML = '';\n",
              "          dataTable['output_type'] = 'display_data';\n",
              "          await google.colab.output.renderOutput(dataTable, element);\n",
              "          const docLink = document.createElement('div');\n",
              "          docLink.innerHTML = docLinkHtml;\n",
              "          element.appendChild(docLink);\n",
              "        }\n",
              "      </script>\n",
              "    </div>\n",
              "  </div>\n",
              "  "
            ]
          },
          "metadata": {},
          "execution_count": 110
        }
      ]
    },
    {
      "cell_type": "code",
      "source": [
        "df_violation_ticket_value.rename( columns={'Code':'Infraction_Code'}, inplace=True )"
      ],
      "metadata": {
        "id": "4SzDFRxERjQC"
      },
      "execution_count": 111,
      "outputs": []
    },
    {
      "cell_type": "code",
      "source": [
        "# Infraction_Code has more than 1 type on infraction, when we try to merge all tables the repeted data will be duplicate\n",
        "# Grouping by the violation code and getting the mean value will prevent this to happen\n",
        "ticket_value = df_violation_ticket_value.groupby( by=['Infraction_Code'] ).mean()['Ticket_Value'].reset_index()"
      ],
      "metadata": {
        "colab": {
          "base_uri": "https://localhost:8080/"
        },
        "id": "6OGVbFtnRjQD",
        "outputId": "898a274f-2a9f-4378-d234-333941d35be3"
      },
      "execution_count": 112,
      "outputs": [
        {
          "output_type": "stream",
          "name": "stderr",
          "text": [
            "<ipython-input-112-9eafc3d8502d>:3: FutureWarning:\n",
            "\n",
            "The default value of numeric_only in DataFrameGroupBy.mean is deprecated. In a future version, numeric_only will default to False. Either specify numeric_only or select only columns which should be valid for the function.\n",
            "\n"
          ]
        }
      ]
    },
    {
      "cell_type": "code",
      "source": [
        "TV23.show(5)"
      ],
      "metadata": {
        "colab": {
          "base_uri": "https://localhost:8080/"
        },
        "outputId": "e9b2bd26-40e2-4052-c4a6-0ddd31defa02",
        "id": "6vA3aYAZRjQD"
      },
      "execution_count": 113,
      "outputs": [
        {
          "output_type": "stream",
          "name": "stdout",
          "text": [
            "+---------------+----------------------------+------------------+--------------+-----------------+----------------+-------------+-------------+-------------+-------------------------+-------------------+---------------------------+-------------------------+------------------------+-------------------------+---------------+----------------------------------+------------------+------------------------+----------------------+----------------------+---------------+----------------------+---------------+-------------------+\n",
            "|    Auto_Number|Date_of_Violation_DD/MM/YYYY|Approach_Indicator|Auto_Signature|Traffic_Direction|Infraction_State|Infraction_BR|Infraction_Km|         City|Foreign_Vehicle_Indicator|License_Plate_State|Vehicle_Species_Description|Vehicle_Brand_Description|Vehicle_Type_Description|Vehicle_Model_Description|Infraction_Code|Abbreviated_Infraction_Description|Infraction_Framing|Infraction_Start_Vigency|Infraction_End_Vigency|Infraction_Measurement|Infraction_Time|Considered_Measurement|Verified_Excess|Infraction_Quantity|\n",
            "+---------------+----------------------------+------------------+--------------+-----------------+----------------+-------------+-------------+-------------+-------------------------+-------------------+---------------------------+-------------------------+------------------------+-------------------------+---------------+----------------------------------+------------------+------------------------+----------------------+----------------------+---------------+----------------------+---------------+-------------------+\n",
            "|b6e453b910c3382|                  2023-03-03|                 C|             S|                C|              PA|          230|          700|  BRASIL NOVO|                        N|                 PA|                 PASSAGEIRO|             HONDA/POP100|             MOTOCICLETA|                  POP 100|          65991|              Conduzir o veícul...|           230 * V|              2016-11-01|                    NA|               Nenhuma|             10|                     0|              0|                  1|\n",
            "|95f5d435bdacc92|                  2023-03-03|                 C|             S|                C|              PA|          230|          700|  BRASIL NOVO|                        N|                 PA|                 PASSAGEIRO|           HONDA/POP 110I|             MOTOCICLETA|                POP 110 I|          65991|              Conduzir o veícul...|           230 * V|              2016-11-01|                    NA|               Nenhuma|             10|                     0|              0|                  1|\n",
            "|0123803cc13d80a|                  2023-03-31|                 C|             N|                C|              MG|          116|          524|    CARATINGA|                        N|                 MG|                      CARGA|     VW/SAVEIRO CS RB MPI|             CAMINHONETE|                  SAVEIRO|          65992|              Conduzir o veícul...|           230 * V|              2016-11-01|                    NA|               Nenhuma|             15|                     0|              0|                  1|\n",
            "|4a4f38e3e9edc1c|                  2023-03-31|                 C|             N|                D|              PR|          163|          275|QUATRO PONTES|                        N|                 MS|                     TRACAO|     IMP/VOLVO FH12 38...|         CAMINHAO TRATOR|     IMP/VOLVO FH12 38...|          66700|              Conduzir o veícul...|          230 XIII|              2016-11-01|                    NA|               Nenhuma|              7|                     0|              0|                  1|\n",
            "|0e887e955832e9a|                  2023-03-31|                 C|             N|                D|              PR|          163|          275|QUATRO PONTES|                        N|                 MS|                     TRACAO|     IMP/VOLVO FH12 38...|         CAMINHAO TRATOR|     IMP/VOLVO FH12 38...|          67261|              Conduzir o veícul...|         230 XVIII|              2016-11-01|                    NA|               Nenhuma|              7|                     0|              0|                  1|\n",
            "+---------------+----------------------------+------------------+--------------+-----------------+----------------+-------------+-------------+-------------+-------------------------+-------------------+---------------------------+-------------------------+------------------------+-------------------------+---------------+----------------------------------+------------------+------------------------+----------------------+----------------------+---------------+----------------------+---------------+-------------------+\n",
            "only showing top 5 rows\n",
            "\n"
          ]
        }
      ]
    },
    {
      "cell_type": "code",
      "source": [
        "ticket_value.head()"
      ],
      "metadata": {
        "colab": {
          "base_uri": "https://localhost:8080/",
          "height": 206
        },
        "outputId": "23208051-a323-434c-c32f-42cb593aa42d",
        "id": "JGA5knLbRjQD"
      },
      "execution_count": 114,
      "outputs": [
        {
          "output_type": "execute_result",
          "data": {
            "text/plain": [
              "   Infraction_Code  Ticket_Value\n",
              "0             5002          0.00\n",
              "1             5010        880.41\n",
              "2             5029        880.41\n",
              "3             5037        586.94\n",
              "4             5045        293.47"
            ],
            "text/html": [
              "\n",
              "  <div id=\"df-8eb8ce98-ebd3-4e65-a84f-b1deff3ec04d\">\n",
              "    <div class=\"colab-df-container\">\n",
              "      <div>\n",
              "<style scoped>\n",
              "    .dataframe tbody tr th:only-of-type {\n",
              "        vertical-align: middle;\n",
              "    }\n",
              "\n",
              "    .dataframe tbody tr th {\n",
              "        vertical-align: top;\n",
              "    }\n",
              "\n",
              "    .dataframe thead th {\n",
              "        text-align: right;\n",
              "    }\n",
              "</style>\n",
              "<table border=\"1\" class=\"dataframe\">\n",
              "  <thead>\n",
              "    <tr style=\"text-align: right;\">\n",
              "      <th></th>\n",
              "      <th>Infraction_Code</th>\n",
              "      <th>Ticket_Value</th>\n",
              "    </tr>\n",
              "  </thead>\n",
              "  <tbody>\n",
              "    <tr>\n",
              "      <th>0</th>\n",
              "      <td>5002</td>\n",
              "      <td>0.00</td>\n",
              "    </tr>\n",
              "    <tr>\n",
              "      <th>1</th>\n",
              "      <td>5010</td>\n",
              "      <td>880.41</td>\n",
              "    </tr>\n",
              "    <tr>\n",
              "      <th>2</th>\n",
              "      <td>5029</td>\n",
              "      <td>880.41</td>\n",
              "    </tr>\n",
              "    <tr>\n",
              "      <th>3</th>\n",
              "      <td>5037</td>\n",
              "      <td>586.94</td>\n",
              "    </tr>\n",
              "    <tr>\n",
              "      <th>4</th>\n",
              "      <td>5045</td>\n",
              "      <td>293.47</td>\n",
              "    </tr>\n",
              "  </tbody>\n",
              "</table>\n",
              "</div>\n",
              "      <button class=\"colab-df-convert\" onclick=\"convertToInteractive('df-8eb8ce98-ebd3-4e65-a84f-b1deff3ec04d')\"\n",
              "              title=\"Convert this dataframe to an interactive table.\"\n",
              "              style=\"display:none;\">\n",
              "        \n",
              "  <svg xmlns=\"http://www.w3.org/2000/svg\" height=\"24px\"viewBox=\"0 0 24 24\"\n",
              "       width=\"24px\">\n",
              "    <path d=\"M0 0h24v24H0V0z\" fill=\"none\"/>\n",
              "    <path d=\"M18.56 5.44l.94 2.06.94-2.06 2.06-.94-2.06-.94-.94-2.06-.94 2.06-2.06.94zm-11 1L8.5 8.5l.94-2.06 2.06-.94-2.06-.94L8.5 2.5l-.94 2.06-2.06.94zm10 10l.94 2.06.94-2.06 2.06-.94-2.06-.94-.94-2.06-.94 2.06-2.06.94z\"/><path d=\"M17.41 7.96l-1.37-1.37c-.4-.4-.92-.59-1.43-.59-.52 0-1.04.2-1.43.59L10.3 9.45l-7.72 7.72c-.78.78-.78 2.05 0 2.83L4 21.41c.39.39.9.59 1.41.59.51 0 1.02-.2 1.41-.59l7.78-7.78 2.81-2.81c.8-.78.8-2.07 0-2.86zM5.41 20L4 18.59l7.72-7.72 1.47 1.35L5.41 20z\"/>\n",
              "  </svg>\n",
              "      </button>\n",
              "      \n",
              "  <style>\n",
              "    .colab-df-container {\n",
              "      display:flex;\n",
              "      flex-wrap:wrap;\n",
              "      gap: 12px;\n",
              "    }\n",
              "\n",
              "    .colab-df-convert {\n",
              "      background-color: #E8F0FE;\n",
              "      border: none;\n",
              "      border-radius: 50%;\n",
              "      cursor: pointer;\n",
              "      display: none;\n",
              "      fill: #1967D2;\n",
              "      height: 32px;\n",
              "      padding: 0 0 0 0;\n",
              "      width: 32px;\n",
              "    }\n",
              "\n",
              "    .colab-df-convert:hover {\n",
              "      background-color: #E2EBFA;\n",
              "      box-shadow: 0px 1px 2px rgba(60, 64, 67, 0.3), 0px 1px 3px 1px rgba(60, 64, 67, 0.15);\n",
              "      fill: #174EA6;\n",
              "    }\n",
              "\n",
              "    [theme=dark] .colab-df-convert {\n",
              "      background-color: #3B4455;\n",
              "      fill: #D2E3FC;\n",
              "    }\n",
              "\n",
              "    [theme=dark] .colab-df-convert:hover {\n",
              "      background-color: #434B5C;\n",
              "      box-shadow: 0px 1px 3px 1px rgba(0, 0, 0, 0.15);\n",
              "      filter: drop-shadow(0px 1px 2px rgba(0, 0, 0, 0.3));\n",
              "      fill: #FFFFFF;\n",
              "    }\n",
              "  </style>\n",
              "\n",
              "      <script>\n",
              "        const buttonEl =\n",
              "          document.querySelector('#df-8eb8ce98-ebd3-4e65-a84f-b1deff3ec04d button.colab-df-convert');\n",
              "        buttonEl.style.display =\n",
              "          google.colab.kernel.accessAllowed ? 'block' : 'none';\n",
              "\n",
              "        async function convertToInteractive(key) {\n",
              "          const element = document.querySelector('#df-8eb8ce98-ebd3-4e65-a84f-b1deff3ec04d');\n",
              "          const dataTable =\n",
              "            await google.colab.kernel.invokeFunction('convertToInteractive',\n",
              "                                                     [key], {});\n",
              "          if (!dataTable) return;\n",
              "\n",
              "          const docLinkHtml = 'Like what you see? Visit the ' +\n",
              "            '<a target=\"_blank\" href=https://colab.research.google.com/notebooks/data_table.ipynb>data table notebook</a>'\n",
              "            + ' to learn more about interactive tables.';\n",
              "          element.innerHTML = '';\n",
              "          dataTable['output_type'] = 'display_data';\n",
              "          await google.colab.output.renderOutput(dataTable, element);\n",
              "          const docLink = document.createElement('div');\n",
              "          docLink.innerHTML = docLinkHtml;\n",
              "          element.appendChild(docLink);\n",
              "        }\n",
              "      </script>\n",
              "    </div>\n",
              "  </div>\n",
              "  "
            ]
          },
          "metadata": {},
          "execution_count": 114
        }
      ]
    },
    {
      "cell_type": "code",
      "source": [
        "# The infraction code is different on the tables, by doing some search we discover that the last extra digit that exists on TV22 table is useless\n",
        "# We can proceed removing it\n",
        "TV23 = TV23.withColumn('Infraction_Code', col('Infraction_Code').substr(1, 4))\n",
        "# Change the column value to int\n",
        "TV23 = TV23.withColumn(\"Infraction_Code\", col(\"Infraction_Code\").cast(\"int\"))"
      ],
      "metadata": {
        "id": "_nLwKABCRjQE"
      },
      "execution_count": 115,
      "outputs": []
    },
    {
      "cell_type": "code",
      "source": [
        "# Transform ticket_value into a Spark Dataframe\n",
        "violation_ticket_value = spark.createDataFrame(ticket_value)"
      ],
      "metadata": {
        "colab": {
          "base_uri": "https://localhost:8080/"
        },
        "id": "4kNf3PdzRjQF",
        "outputId": "d5485630-2f2f-4c42-ceb0-9117e551f634"
      },
      "execution_count": 116,
      "outputs": [
        {
          "output_type": "stream",
          "name": "stderr",
          "text": [
            "/content/spark-3.1.2-bin-hadoop2.7/python/pyspark/sql/pandas/conversion.py:331: FutureWarning:\n",
            "\n",
            "iteritems is deprecated and will be removed in a future version. Use .items instead.\n",
            "\n"
          ]
        }
      ]
    },
    {
      "cell_type": "code",
      "source": [
        "# Alter the columns type\n",
        "# To match with the TV22 columns and perform the join later\n",
        "violation_ticket_value = violation_ticket_value.withColumn(\"Infraction_Code\", col(\"Infraction_Code\").cast(\"int\"))\n",
        "# Change the NaN values to 0 and the columns type to float in order to sum up values later\n",
        "violation_ticket_value = violation_ticket_value.withColumn(\"Ticket_Value\", col(\"Ticket_Value\").cast(\"float\"))\n",
        "violation_ticket_value = violation_ticket_value.na.fill(0, subset=[\"Ticket_Value\"])"
      ],
      "metadata": {
        "id": "P_6YvMRfRjQF"
      },
      "execution_count": 117,
      "outputs": []
    },
    {
      "cell_type": "code",
      "source": [
        "violation_ticket_value.printSchema()"
      ],
      "metadata": {
        "colab": {
          "base_uri": "https://localhost:8080/"
        },
        "outputId": "04bf853f-b835-493e-dbfe-90e5e496127a",
        "id": "FkNr5b14RjQF"
      },
      "execution_count": 118,
      "outputs": [
        {
          "output_type": "stream",
          "name": "stdout",
          "text": [
            "root\n",
            " |-- Infraction_Code: integer (nullable = true)\n",
            " |-- Ticket_Value: float (nullable = false)\n",
            "\n"
          ]
        }
      ]
    },
    {
      "cell_type": "code",
      "source": [
        "# Join tables violation_ticket_value and TV22\n",
        "TV23 = TV23.join(violation_ticket_value, on='Infraction_Code', how='left')"
      ],
      "metadata": {
        "id": "jNUg-5_qRjQF"
      },
      "execution_count": 119,
      "outputs": []
    },
    {
      "cell_type": "code",
      "source": [
        "TV23.printSchema()"
      ],
      "metadata": {
        "colab": {
          "base_uri": "https://localhost:8080/"
        },
        "outputId": "c6560759-ff25-4ce9-cd19-158259024f64",
        "id": "hOH3NdheRjQG"
      },
      "execution_count": 120,
      "outputs": [
        {
          "output_type": "stream",
          "name": "stdout",
          "text": [
            "root\n",
            " |-- Infraction_Code: integer (nullable = true)\n",
            " |-- Auto_Number: string (nullable = true)\n",
            " |-- Date_of_Violation_DD/MM/YYYY: date (nullable = true)\n",
            " |-- Approach_Indicator: string (nullable = true)\n",
            " |-- Auto_Signature: string (nullable = true)\n",
            " |-- Traffic_Direction: string (nullable = true)\n",
            " |-- Infraction_State: string (nullable = true)\n",
            " |-- Infraction_BR: string (nullable = true)\n",
            " |-- Infraction_Km: string (nullable = true)\n",
            " |-- City: string (nullable = true)\n",
            " |-- Foreign_Vehicle_Indicator: string (nullable = true)\n",
            " |-- License_Plate_State: string (nullable = true)\n",
            " |-- Vehicle_Species_Description: string (nullable = true)\n",
            " |-- Vehicle_Brand_Description: string (nullable = true)\n",
            " |-- Vehicle_Type_Description: string (nullable = true)\n",
            " |-- Vehicle_Model_Description: string (nullable = true)\n",
            " |-- Abbreviated_Infraction_Description: string (nullable = true)\n",
            " |-- Infraction_Framing: string (nullable = true)\n",
            " |-- Infraction_Start_Vigency: string (nullable = true)\n",
            " |-- Infraction_End_Vigency: string (nullable = true)\n",
            " |-- Infraction_Measurement: string (nullable = true)\n",
            " |-- Infraction_Time: string (nullable = true)\n",
            " |-- Considered_Measurement: string (nullable = true)\n",
            " |-- Verified_Excess: string (nullable = true)\n",
            " |-- Infraction_Quantity: string (nullable = true)\n",
            " |-- Ticket_Value: float (nullable = true)\n",
            "\n"
          ]
        }
      ]
    },
    {
      "cell_type": "code",
      "source": [
        "# Create another dataframe, where we will group by State\n",
        "uf_tickets_value = TV23.groupBy('Infraction_State').agg(\n",
        "    count('Ticket_Value').alias('Violations_Count'),\n",
        "    sum('Ticket_Value').alias('Total_ticket_value')\n",
        ")"
      ],
      "metadata": {
        "id": "g2ICbWKYRjQG"
      },
      "execution_count": 121,
      "outputs": []
    },
    {
      "cell_type": "code",
      "source": [
        "uf_tickets_value.show(5)"
      ],
      "metadata": {
        "colab": {
          "base_uri": "https://localhost:8080/"
        },
        "outputId": "0bde3648-dde6-4139-a7d3-31fce49d480d",
        "id": "NqLnHvp-RjQH"
      },
      "execution_count": 122,
      "outputs": [
        {
          "output_type": "stream",
          "name": "stdout",
          "text": [
            "+----------------+----------------+--------------------+\n",
            "|Infraction_State|Violations_Count|  Total_ticket_value|\n",
            "+----------------+----------------+--------------------+\n",
            "|              SC|          176221|3.1826551417907715E7|\n",
            "|              RO|           39316|   8949751.869819641|\n",
            "|              PI|           36093|   9803574.492835999|\n",
            "|              AM|            9937|  2513918.8187026978|\n",
            "|              RR|            4691|  1291969.0308990479|\n",
            "+----------------+----------------+--------------------+\n",
            "only showing top 5 rows\n",
            "\n"
          ]
        }
      ]
    },
    {
      "cell_type": "code",
      "source": [
        "# Import pandas lib\n",
        "import pandas as pd\n",
        "\n",
        "# Converting Spark Dataframe to Pandas Dataframe\n",
        "df_uf_tickets_value = uf_tickets_value.toPandas()"
      ],
      "metadata": {
        "id": "Sbp6ryNSRjQH"
      },
      "execution_count": 123,
      "outputs": []
    },
    {
      "cell_type": "code",
      "source": [
        "px.scatter(\n",
        "    df_uf_tickets_value,\n",
        "    x='Violations_Count',\n",
        "    y='Total_ticket_value',\n",
        "    color='Infraction_State',\n",
        "    size='Violations_Count',\n",
        "    log_x=True,\n",
        "    size_max=60,\n",
        "    title='Bubble PLOT' )"
      ],
      "metadata": {
        "colab": {
          "base_uri": "https://localhost:8080/",
          "height": 542
        },
        "outputId": "2794c438-63d3-44a6-eb6f-a13114c283ce",
        "id": "xEztcqmFRjQI"
      },
      "execution_count": 124,
      "outputs": [
        {
          "output_type": "display_data",
          "data": {
            "text/html": [
              "<html>\n",
              "<head><meta charset=\"utf-8\" /></head>\n",
              "<body>\n",
              "    <div>            <script src=\"https://cdnjs.cloudflare.com/ajax/libs/mathjax/2.7.5/MathJax.js?config=TeX-AMS-MML_SVG\"></script><script type=\"text/javascript\">if (window.MathJax && window.MathJax.Hub && window.MathJax.Hub.Config) {window.MathJax.Hub.Config({SVG: {font: \"STIX-Web\"}});}</script>                <script type=\"text/javascript\">window.PlotlyConfig = {MathJaxConfig: 'local'};</script>\n",
              "        <script src=\"https://cdn.plot.ly/plotly-2.18.2.min.js\"></script>                <div id=\"5e417891-310c-4607-8938-7f7c8b30170b\" class=\"plotly-graph-div\" style=\"height:525px; width:100%;\"></div>            <script type=\"text/javascript\">                                    window.PLOTLYENV=window.PLOTLYENV || {};                                    if (document.getElementById(\"5e417891-310c-4607-8938-7f7c8b30170b\")) {                    Plotly.newPlot(                        \"5e417891-310c-4607-8938-7f7c8b30170b\",                        [{\"hovertemplate\":\"Infraction_State=SC<br>Violations_Count=%{marker.size}<br>Total_ticket_value=%{y}<extra></extra>\",\"legendgroup\":\"SC\",\"marker\":{\"color\":\"#636efa\",\"size\":[176221],\"sizemode\":\"area\",\"sizeref\":57.55916666666667,\"symbol\":\"circle\"},\"mode\":\"markers\",\"name\":\"SC\",\"orientation\":\"v\",\"showlegend\":true,\"x\":[176221],\"xaxis\":\"x\",\"y\":[31826551.417907715],\"yaxis\":\"y\",\"type\":\"scatter\"},{\"hovertemplate\":\"Infraction_State=RO<br>Violations_Count=%{marker.size}<br>Total_ticket_value=%{y}<extra></extra>\",\"legendgroup\":\"RO\",\"marker\":{\"color\":\"#EF553B\",\"size\":[39316],\"sizemode\":\"area\",\"sizeref\":57.55916666666667,\"symbol\":\"circle\"},\"mode\":\"markers\",\"name\":\"RO\",\"orientation\":\"v\",\"showlegend\":true,\"x\":[39316],\"xaxis\":\"x\",\"y\":[8949751.869819641],\"yaxis\":\"y\",\"type\":\"scatter\"},{\"hovertemplate\":\"Infraction_State=PI<br>Violations_Count=%{marker.size}<br>Total_ticket_value=%{y}<extra></extra>\",\"legendgroup\":\"PI\",\"marker\":{\"color\":\"#00cc96\",\"size\":[36093],\"sizemode\":\"area\",\"sizeref\":57.55916666666667,\"symbol\":\"circle\"},\"mode\":\"markers\",\"name\":\"PI\",\"orientation\":\"v\",\"showlegend\":true,\"x\":[36093],\"xaxis\":\"x\",\"y\":[9803574.492835999],\"yaxis\":\"y\",\"type\":\"scatter\"},{\"hovertemplate\":\"Infraction_State=AM<br>Violations_Count=%{marker.size}<br>Total_ticket_value=%{y}<extra></extra>\",\"legendgroup\":\"AM\",\"marker\":{\"color\":\"#ab63fa\",\"size\":[9937],\"sizemode\":\"area\",\"sizeref\":57.55916666666667,\"symbol\":\"circle\"},\"mode\":\"markers\",\"name\":\"AM\",\"orientation\":\"v\",\"showlegend\":true,\"x\":[9937],\"xaxis\":\"x\",\"y\":[2513918.8187026978],\"yaxis\":\"y\",\"type\":\"scatter\"},{\"hovertemplate\":\"Infraction_State=RR<br>Violations_Count=%{marker.size}<br>Total_ticket_value=%{y}<extra></extra>\",\"legendgroup\":\"RR\",\"marker\":{\"color\":\"#FFA15A\",\"size\":[4691],\"sizemode\":\"area\",\"sizeref\":57.55916666666667,\"symbol\":\"circle\"},\"mode\":\"markers\",\"name\":\"RR\",\"orientation\":\"v\",\"showlegend\":true,\"x\":[4691],\"xaxis\":\"x\",\"y\":[1291969.0308990479],\"yaxis\":\"y\",\"type\":\"scatter\"},{\"hovertemplate\":\"Infraction_State=GO<br>Violations_Count=%{marker.size}<br>Total_ticket_value=%{y}<extra></extra>\",\"legendgroup\":\"GO\",\"marker\":{\"color\":\"#19d3f3\",\"size\":[84575],\"sizemode\":\"area\",\"sizeref\":57.55916666666667,\"symbol\":\"circle\"},\"mode\":\"markers\",\"name\":\"GO\",\"orientation\":\"v\",\"showlegend\":true,\"x\":[84575],\"xaxis\":\"x\",\"y\":[19255602.53855896],\"yaxis\":\"y\",\"type\":\"scatter\"},{\"hovertemplate\":\"Infraction_State=TO<br>Violations_Count=%{marker.size}<br>Total_ticket_value=%{y}<extra></extra>\",\"legendgroup\":\"TO\",\"marker\":{\"color\":\"#FF6692\",\"size\":[21490],\"sizemode\":\"area\",\"sizeref\":57.55916666666667,\"symbol\":\"circle\"},\"mode\":\"markers\",\"name\":\"TO\",\"orientation\":\"v\",\"showlegend\":true,\"x\":[21490],\"xaxis\":\"x\",\"y\":[4674377.153640747],\"yaxis\":\"y\",\"type\":\"scatter\"},{\"hovertemplate\":\"Infraction_State=MT<br>Violations_Count=%{marker.size}<br>Total_ticket_value=%{y}<extra></extra>\",\"legendgroup\":\"MT\",\"marker\":{\"color\":\"#B6E880\",\"size\":[176889],\"sizemode\":\"area\",\"sizeref\":57.55916666666667,\"symbol\":\"circle\"},\"mode\":\"markers\",\"name\":\"MT\",\"orientation\":\"v\",\"showlegend\":true,\"x\":[176889],\"xaxis\":\"x\",\"y\":[33616812.53793335],\"yaxis\":\"y\",\"type\":\"scatter\"},{\"hovertemplate\":\"Infraction_State=SP<br>Violations_Count=%{marker.size}<br>Total_ticket_value=%{y}<extra></extra>\",\"legendgroup\":\"SP\",\"marker\":{\"color\":\"#FF97FF\",\"size\":[157641],\"sizemode\":\"area\",\"sizeref\":57.55916666666667,\"symbol\":\"circle\"},\"mode\":\"markers\",\"name\":\"SP\",\"orientation\":\"v\",\"showlegend\":true,\"x\":[157641],\"xaxis\":\"x\",\"y\":[32599092.958992004],\"yaxis\":\"y\",\"type\":\"scatter\"},{\"hovertemplate\":\"Infraction_State=PB<br>Violations_Count=%{marker.size}<br>Total_ticket_value=%{y}<extra></extra>\",\"legendgroup\":\"PB\",\"marker\":{\"color\":\"#FECB52\",\"size\":[35019],\"sizemode\":\"area\",\"sizeref\":57.55916666666667,\"symbol\":\"circle\"},\"mode\":\"markers\",\"name\":\"PB\",\"orientation\":\"v\",\"showlegend\":true,\"x\":[35019],\"xaxis\":\"x\",\"y\":[8708928.317947388],\"yaxis\":\"y\",\"type\":\"scatter\"},{\"hovertemplate\":\"Infraction_State=ES<br>Violations_Count=%{marker.size}<br>Total_ticket_value=%{y}<extra></extra>\",\"legendgroup\":\"ES\",\"marker\":{\"color\":\"#636efa\",\"size\":[185153],\"sizemode\":\"area\",\"sizeref\":57.55916666666667,\"symbol\":\"circle\"},\"mode\":\"markers\",\"name\":\"ES\",\"orientation\":\"v\",\"showlegend\":true,\"x\":[185153],\"xaxis\":\"x\",\"y\":[30795825.221458435],\"yaxis\":\"y\",\"type\":\"scatter\"},{\"hovertemplate\":\"Infraction_State=RS<br>Violations_Count=%{marker.size}<br>Total_ticket_value=%{y}<extra></extra>\",\"legendgroup\":\"RS\",\"marker\":{\"color\":\"#EF553B\",\"size\":[128220],\"sizemode\":\"area\",\"sizeref\":57.55916666666667,\"symbol\":\"circle\"},\"mode\":\"markers\",\"name\":\"RS\",\"orientation\":\"v\",\"showlegend\":true,\"x\":[128220],\"xaxis\":\"x\",\"y\":[26249316.462020874],\"yaxis\":\"y\",\"type\":\"scatter\"},{\"hovertemplate\":\"Infraction_State=MS<br>Violations_Count=%{marker.size}<br>Total_ticket_value=%{y}<extra></extra>\",\"legendgroup\":\"MS\",\"marker\":{\"color\":\"#00cc96\",\"size\":[126676],\"sizemode\":\"area\",\"sizeref\":57.55916666666667,\"symbol\":\"circle\"},\"mode\":\"markers\",\"name\":\"MS\",\"orientation\":\"v\",\"showlegend\":true,\"x\":[126676],\"xaxis\":\"x\",\"y\":[22853033.5907135],\"yaxis\":\"y\",\"type\":\"scatter\"},{\"hovertemplate\":\"Infraction_State=AL<br>Violations_Count=%{marker.size}<br>Total_ticket_value=%{y}<extra></extra>\",\"legendgroup\":\"AL\",\"marker\":{\"color\":\"#ab63fa\",\"size\":[15896],\"sizemode\":\"area\",\"sizeref\":57.55916666666667,\"symbol\":\"circle\"},\"mode\":\"markers\",\"name\":\"AL\",\"orientation\":\"v\",\"showlegend\":true,\"x\":[15896],\"xaxis\":\"x\",\"y\":[3779772.4871139526],\"yaxis\":\"y\",\"type\":\"scatter\"},{\"hovertemplate\":\"Infraction_State=MG<br>Violations_Count=%{marker.size}<br>Total_ticket_value=%{y}<extra></extra>\",\"legendgroup\":\"MG\",\"marker\":{\"color\":\"#FFA15A\",\"size\":[207213],\"sizemode\":\"area\",\"sizeref\":57.55916666666667,\"symbol\":\"circle\"},\"mode\":\"markers\",\"name\":\"MG\",\"orientation\":\"v\",\"showlegend\":true,\"x\":[207213],\"xaxis\":\"x\",\"y\":[41354245.127700806],\"yaxis\":\"y\",\"type\":\"scatter\"},{\"hovertemplate\":\"Infraction_State=PA<br>Violations_Count=%{marker.size}<br>Total_ticket_value=%{y}<extra></extra>\",\"legendgroup\":\"PA\",\"marker\":{\"color\":\"#19d3f3\",\"size\":[32828],\"sizemode\":\"area\",\"sizeref\":57.55916666666667,\"symbol\":\"circle\"},\"mode\":\"markers\",\"name\":\"PA\",\"orientation\":\"v\",\"showlegend\":true,\"x\":[32828],\"xaxis\":\"x\",\"y\":[7956850.203414917],\"yaxis\":\"y\",\"type\":\"scatter\"},{\"hovertemplate\":\"Infraction_State=BA<br>Violations_Count=%{marker.size}<br>Total_ticket_value=%{y}<extra></extra>\",\"legendgroup\":\"BA\",\"marker\":{\"color\":\"#FF6692\",\"size\":[144563],\"sizemode\":\"area\",\"sizeref\":57.55916666666667,\"symbol\":\"circle\"},\"mode\":\"markers\",\"name\":\"BA\",\"orientation\":\"v\",\"showlegend\":true,\"x\":[144563],\"xaxis\":\"x\",\"y\":[27010249.430786133],\"yaxis\":\"y\",\"type\":\"scatter\"},{\"hovertemplate\":\"Infraction_State=SE<br>Violations_Count=%{marker.size}<br>Total_ticket_value=%{y}<extra></extra>\",\"legendgroup\":\"SE\",\"marker\":{\"color\":\"#B6E880\",\"size\":[15336],\"sizemode\":\"area\",\"sizeref\":57.55916666666667,\"symbol\":\"circle\"},\"mode\":\"markers\",\"name\":\"SE\",\"orientation\":\"v\",\"showlegend\":true,\"x\":[15336],\"xaxis\":\"x\",\"y\":[3624113.133239746],\"yaxis\":\"y\",\"type\":\"scatter\"},{\"hovertemplate\":\"Infraction_State=PE<br>Violations_Count=%{marker.size}<br>Total_ticket_value=%{y}<extra></extra>\",\"legendgroup\":\"PE\",\"marker\":{\"color\":\"#FF97FF\",\"size\":[58696],\"sizemode\":\"area\",\"sizeref\":57.55916666666667,\"symbol\":\"circle\"},\"mode\":\"markers\",\"name\":\"PE\",\"orientation\":\"v\",\"showlegend\":true,\"x\":[58696],\"xaxis\":\"x\",\"y\":[15618455.007583618],\"yaxis\":\"y\",\"type\":\"scatter\"},{\"hovertemplate\":\"Infraction_State=CE<br>Violations_Count=%{marker.size}<br>Total_ticket_value=%{y}<extra></extra>\",\"legendgroup\":\"CE\",\"marker\":{\"color\":\"#FECB52\",\"size\":[43682],\"sizemode\":\"area\",\"sizeref\":57.55916666666667,\"symbol\":\"circle\"},\"mode\":\"markers\",\"name\":\"CE\",\"orientation\":\"v\",\"showlegend\":true,\"x\":[43682],\"xaxis\":\"x\",\"y\":[9369455.731994629],\"yaxis\":\"y\",\"type\":\"scatter\"},{\"hovertemplate\":\"Infraction_State=RN<br>Violations_Count=%{marker.size}<br>Total_ticket_value=%{y}<extra></extra>\",\"legendgroup\":\"RN\",\"marker\":{\"color\":\"#636efa\",\"size\":[45264],\"sizemode\":\"area\",\"sizeref\":57.55916666666667,\"symbol\":\"circle\"},\"mode\":\"markers\",\"name\":\"RN\",\"orientation\":\"v\",\"showlegend\":true,\"x\":[45264],\"xaxis\":\"x\",\"y\":[11317548.171821594],\"yaxis\":\"y\",\"type\":\"scatter\"},{\"hovertemplate\":\"Infraction_State=RJ<br>Violations_Count=%{marker.size}<br>Total_ticket_value=%{y}<extra></extra>\",\"legendgroup\":\"RJ\",\"marker\":{\"color\":\"#EF553B\",\"size\":[128608],\"sizemode\":\"area\",\"sizeref\":57.55916666666667,\"symbol\":\"circle\"},\"mode\":\"markers\",\"name\":\"RJ\",\"orientation\":\"v\",\"showlegend\":true,\"x\":[128608],\"xaxis\":\"x\",\"y\":[34350293.9141922],\"yaxis\":\"y\",\"type\":\"scatter\"},{\"hovertemplate\":\"Infraction_State=MA<br>Violations_Count=%{marker.size}<br>Total_ticket_value=%{y}<extra></extra>\",\"legendgroup\":\"MA\",\"marker\":{\"color\":\"#00cc96\",\"size\":[29117],\"sizemode\":\"area\",\"sizeref\":57.55916666666667,\"symbol\":\"circle\"},\"mode\":\"markers\",\"name\":\"MA\",\"orientation\":\"v\",\"showlegend\":true,\"x\":[29117],\"xaxis\":\"x\",\"y\":[8587768.229804993],\"yaxis\":\"y\",\"type\":\"scatter\"},{\"hovertemplate\":\"Infraction_State=AC<br>Violations_Count=%{marker.size}<br>Total_ticket_value=%{y}<extra></extra>\",\"legendgroup\":\"AC\",\"marker\":{\"color\":\"#ab63fa\",\"size\":[4365],\"sizemode\":\"area\",\"sizeref\":57.55916666666667,\"symbol\":\"circle\"},\"mode\":\"markers\",\"name\":\"AC\",\"orientation\":\"v\",\"showlegend\":true,\"x\":[4365],\"xaxis\":\"x\",\"y\":[1103112.5629959106],\"yaxis\":\"y\",\"type\":\"scatter\"},{\"hovertemplate\":\"Infraction_State=DF<br>Violations_Count=%{marker.size}<br>Total_ticket_value=%{y}<extra></extra>\",\"legendgroup\":\"DF\",\"marker\":{\"color\":\"#FFA15A\",\"size\":[58995],\"sizemode\":\"area\",\"sizeref\":57.55916666666667,\"symbol\":\"circle\"},\"mode\":\"markers\",\"name\":\"DF\",\"orientation\":\"v\",\"showlegend\":true,\"x\":[58995],\"xaxis\":\"x\",\"y\":[11551290.018287659],\"yaxis\":\"y\",\"type\":\"scatter\"},{\"hovertemplate\":\"Infraction_State=PR<br>Violations_Count=%{marker.size}<br>Total_ticket_value=%{y}<extra></extra>\",\"legendgroup\":\"PR\",\"marker\":{\"color\":\"#19d3f3\",\"size\":[131415],\"sizemode\":\"area\",\"sizeref\":57.55916666666667,\"symbol\":\"circle\"},\"mode\":\"markers\",\"name\":\"PR\",\"orientation\":\"v\",\"showlegend\":true,\"x\":[131415],\"xaxis\":\"x\",\"y\":[28553679.22036743],\"yaxis\":\"y\",\"type\":\"scatter\"},{\"hovertemplate\":\"Infraction_State=AP<br>Violations_Count=%{marker.size}<br>Total_ticket_value=%{y}<extra></extra>\",\"legendgroup\":\"AP\",\"marker\":{\"color\":\"#FF6692\",\"size\":[7831],\"sizemode\":\"area\",\"sizeref\":57.55916666666667,\"symbol\":\"circle\"},\"mode\":\"markers\",\"name\":\"AP\",\"orientation\":\"v\",\"showlegend\":true,\"x\":[7831],\"xaxis\":\"x\",\"y\":[2372301.443649292],\"yaxis\":\"y\",\"type\":\"scatter\"}],                        {\"template\":{\"data\":{\"histogram2dcontour\":[{\"type\":\"histogram2dcontour\",\"colorbar\":{\"outlinewidth\":0,\"ticks\":\"\"},\"colorscale\":[[0.0,\"#0d0887\"],[0.1111111111111111,\"#46039f\"],[0.2222222222222222,\"#7201a8\"],[0.3333333333333333,\"#9c179e\"],[0.4444444444444444,\"#bd3786\"],[0.5555555555555556,\"#d8576b\"],[0.6666666666666666,\"#ed7953\"],[0.7777777777777778,\"#fb9f3a\"],[0.8888888888888888,\"#fdca26\"],[1.0,\"#f0f921\"]]}],\"choropleth\":[{\"type\":\"choropleth\",\"colorbar\":{\"outlinewidth\":0,\"ticks\":\"\"}}],\"histogram2d\":[{\"type\":\"histogram2d\",\"colorbar\":{\"outlinewidth\":0,\"ticks\":\"\"},\"colorscale\":[[0.0,\"#0d0887\"],[0.1111111111111111,\"#46039f\"],[0.2222222222222222,\"#7201a8\"],[0.3333333333333333,\"#9c179e\"],[0.4444444444444444,\"#bd3786\"],[0.5555555555555556,\"#d8576b\"],[0.6666666666666666,\"#ed7953\"],[0.7777777777777778,\"#fb9f3a\"],[0.8888888888888888,\"#fdca26\"],[1.0,\"#f0f921\"]]}],\"heatmap\":[{\"type\":\"heatmap\",\"colorbar\":{\"outlinewidth\":0,\"ticks\":\"\"},\"colorscale\":[[0.0,\"#0d0887\"],[0.1111111111111111,\"#46039f\"],[0.2222222222222222,\"#7201a8\"],[0.3333333333333333,\"#9c179e\"],[0.4444444444444444,\"#bd3786\"],[0.5555555555555556,\"#d8576b\"],[0.6666666666666666,\"#ed7953\"],[0.7777777777777778,\"#fb9f3a\"],[0.8888888888888888,\"#fdca26\"],[1.0,\"#f0f921\"]]}],\"heatmapgl\":[{\"type\":\"heatmapgl\",\"colorbar\":{\"outlinewidth\":0,\"ticks\":\"\"},\"colorscale\":[[0.0,\"#0d0887\"],[0.1111111111111111,\"#46039f\"],[0.2222222222222222,\"#7201a8\"],[0.3333333333333333,\"#9c179e\"],[0.4444444444444444,\"#bd3786\"],[0.5555555555555556,\"#d8576b\"],[0.6666666666666666,\"#ed7953\"],[0.7777777777777778,\"#fb9f3a\"],[0.8888888888888888,\"#fdca26\"],[1.0,\"#f0f921\"]]}],\"contourcarpet\":[{\"type\":\"contourcarpet\",\"colorbar\":{\"outlinewidth\":0,\"ticks\":\"\"}}],\"contour\":[{\"type\":\"contour\",\"colorbar\":{\"outlinewidth\":0,\"ticks\":\"\"},\"colorscale\":[[0.0,\"#0d0887\"],[0.1111111111111111,\"#46039f\"],[0.2222222222222222,\"#7201a8\"],[0.3333333333333333,\"#9c179e\"],[0.4444444444444444,\"#bd3786\"],[0.5555555555555556,\"#d8576b\"],[0.6666666666666666,\"#ed7953\"],[0.7777777777777778,\"#fb9f3a\"],[0.8888888888888888,\"#fdca26\"],[1.0,\"#f0f921\"]]}],\"surface\":[{\"type\":\"surface\",\"colorbar\":{\"outlinewidth\":0,\"ticks\":\"\"},\"colorscale\":[[0.0,\"#0d0887\"],[0.1111111111111111,\"#46039f\"],[0.2222222222222222,\"#7201a8\"],[0.3333333333333333,\"#9c179e\"],[0.4444444444444444,\"#bd3786\"],[0.5555555555555556,\"#d8576b\"],[0.6666666666666666,\"#ed7953\"],[0.7777777777777778,\"#fb9f3a\"],[0.8888888888888888,\"#fdca26\"],[1.0,\"#f0f921\"]]}],\"mesh3d\":[{\"type\":\"mesh3d\",\"colorbar\":{\"outlinewidth\":0,\"ticks\":\"\"}}],\"scatter\":[{\"fillpattern\":{\"fillmode\":\"overlay\",\"size\":10,\"solidity\":0.2},\"type\":\"scatter\"}],\"parcoords\":[{\"type\":\"parcoords\",\"line\":{\"colorbar\":{\"outlinewidth\":0,\"ticks\":\"\"}}}],\"scatterpolargl\":[{\"type\":\"scatterpolargl\",\"marker\":{\"colorbar\":{\"outlinewidth\":0,\"ticks\":\"\"}}}],\"bar\":[{\"error_x\":{\"color\":\"#2a3f5f\"},\"error_y\":{\"color\":\"#2a3f5f\"},\"marker\":{\"line\":{\"color\":\"#E5ECF6\",\"width\":0.5},\"pattern\":{\"fillmode\":\"overlay\",\"size\":10,\"solidity\":0.2}},\"type\":\"bar\"}],\"scattergeo\":[{\"type\":\"scattergeo\",\"marker\":{\"colorbar\":{\"outlinewidth\":0,\"ticks\":\"\"}}}],\"scatterpolar\":[{\"type\":\"scatterpolar\",\"marker\":{\"colorbar\":{\"outlinewidth\":0,\"ticks\":\"\"}}}],\"histogram\":[{\"marker\":{\"pattern\":{\"fillmode\":\"overlay\",\"size\":10,\"solidity\":0.2}},\"type\":\"histogram\"}],\"scattergl\":[{\"type\":\"scattergl\",\"marker\":{\"colorbar\":{\"outlinewidth\":0,\"ticks\":\"\"}}}],\"scatter3d\":[{\"type\":\"scatter3d\",\"line\":{\"colorbar\":{\"outlinewidth\":0,\"ticks\":\"\"}},\"marker\":{\"colorbar\":{\"outlinewidth\":0,\"ticks\":\"\"}}}],\"scattermapbox\":[{\"type\":\"scattermapbox\",\"marker\":{\"colorbar\":{\"outlinewidth\":0,\"ticks\":\"\"}}}],\"scatterternary\":[{\"type\":\"scatterternary\",\"marker\":{\"colorbar\":{\"outlinewidth\":0,\"ticks\":\"\"}}}],\"scattercarpet\":[{\"type\":\"scattercarpet\",\"marker\":{\"colorbar\":{\"outlinewidth\":0,\"ticks\":\"\"}}}],\"carpet\":[{\"aaxis\":{\"endlinecolor\":\"#2a3f5f\",\"gridcolor\":\"white\",\"linecolor\":\"white\",\"minorgridcolor\":\"white\",\"startlinecolor\":\"#2a3f5f\"},\"baxis\":{\"endlinecolor\":\"#2a3f5f\",\"gridcolor\":\"white\",\"linecolor\":\"white\",\"minorgridcolor\":\"white\",\"startlinecolor\":\"#2a3f5f\"},\"type\":\"carpet\"}],\"table\":[{\"cells\":{\"fill\":{\"color\":\"#EBF0F8\"},\"line\":{\"color\":\"white\"}},\"header\":{\"fill\":{\"color\":\"#C8D4E3\"},\"line\":{\"color\":\"white\"}},\"type\":\"table\"}],\"barpolar\":[{\"marker\":{\"line\":{\"color\":\"#E5ECF6\",\"width\":0.5},\"pattern\":{\"fillmode\":\"overlay\",\"size\":10,\"solidity\":0.2}},\"type\":\"barpolar\"}],\"pie\":[{\"automargin\":true,\"type\":\"pie\"}]},\"layout\":{\"autotypenumbers\":\"strict\",\"colorway\":[\"#636efa\",\"#EF553B\",\"#00cc96\",\"#ab63fa\",\"#FFA15A\",\"#19d3f3\",\"#FF6692\",\"#B6E880\",\"#FF97FF\",\"#FECB52\"],\"font\":{\"color\":\"#2a3f5f\"},\"hovermode\":\"closest\",\"hoverlabel\":{\"align\":\"left\"},\"paper_bgcolor\":\"white\",\"plot_bgcolor\":\"#E5ECF6\",\"polar\":{\"bgcolor\":\"#E5ECF6\",\"angularaxis\":{\"gridcolor\":\"white\",\"linecolor\":\"white\",\"ticks\":\"\"},\"radialaxis\":{\"gridcolor\":\"white\",\"linecolor\":\"white\",\"ticks\":\"\"}},\"ternary\":{\"bgcolor\":\"#E5ECF6\",\"aaxis\":{\"gridcolor\":\"white\",\"linecolor\":\"white\",\"ticks\":\"\"},\"baxis\":{\"gridcolor\":\"white\",\"linecolor\":\"white\",\"ticks\":\"\"},\"caxis\":{\"gridcolor\":\"white\",\"linecolor\":\"white\",\"ticks\":\"\"}},\"coloraxis\":{\"colorbar\":{\"outlinewidth\":0,\"ticks\":\"\"}},\"colorscale\":{\"sequential\":[[0.0,\"#0d0887\"],[0.1111111111111111,\"#46039f\"],[0.2222222222222222,\"#7201a8\"],[0.3333333333333333,\"#9c179e\"],[0.4444444444444444,\"#bd3786\"],[0.5555555555555556,\"#d8576b\"],[0.6666666666666666,\"#ed7953\"],[0.7777777777777778,\"#fb9f3a\"],[0.8888888888888888,\"#fdca26\"],[1.0,\"#f0f921\"]],\"sequentialminus\":[[0.0,\"#0d0887\"],[0.1111111111111111,\"#46039f\"],[0.2222222222222222,\"#7201a8\"],[0.3333333333333333,\"#9c179e\"],[0.4444444444444444,\"#bd3786\"],[0.5555555555555556,\"#d8576b\"],[0.6666666666666666,\"#ed7953\"],[0.7777777777777778,\"#fb9f3a\"],[0.8888888888888888,\"#fdca26\"],[1.0,\"#f0f921\"]],\"diverging\":[[0,\"#8e0152\"],[0.1,\"#c51b7d\"],[0.2,\"#de77ae\"],[0.3,\"#f1b6da\"],[0.4,\"#fde0ef\"],[0.5,\"#f7f7f7\"],[0.6,\"#e6f5d0\"],[0.7,\"#b8e186\"],[0.8,\"#7fbc41\"],[0.9,\"#4d9221\"],[1,\"#276419\"]]},\"xaxis\":{\"gridcolor\":\"white\",\"linecolor\":\"white\",\"ticks\":\"\",\"title\":{\"standoff\":15},\"zerolinecolor\":\"white\",\"automargin\":true,\"zerolinewidth\":2},\"yaxis\":{\"gridcolor\":\"white\",\"linecolor\":\"white\",\"ticks\":\"\",\"title\":{\"standoff\":15},\"zerolinecolor\":\"white\",\"automargin\":true,\"zerolinewidth\":2},\"scene\":{\"xaxis\":{\"backgroundcolor\":\"#E5ECF6\",\"gridcolor\":\"white\",\"linecolor\":\"white\",\"showbackground\":true,\"ticks\":\"\",\"zerolinecolor\":\"white\",\"gridwidth\":2},\"yaxis\":{\"backgroundcolor\":\"#E5ECF6\",\"gridcolor\":\"white\",\"linecolor\":\"white\",\"showbackground\":true,\"ticks\":\"\",\"zerolinecolor\":\"white\",\"gridwidth\":2},\"zaxis\":{\"backgroundcolor\":\"#E5ECF6\",\"gridcolor\":\"white\",\"linecolor\":\"white\",\"showbackground\":true,\"ticks\":\"\",\"zerolinecolor\":\"white\",\"gridwidth\":2}},\"shapedefaults\":{\"line\":{\"color\":\"#2a3f5f\"}},\"annotationdefaults\":{\"arrowcolor\":\"#2a3f5f\",\"arrowhead\":0,\"arrowwidth\":1},\"geo\":{\"bgcolor\":\"white\",\"landcolor\":\"#E5ECF6\",\"subunitcolor\":\"white\",\"showland\":true,\"showlakes\":true,\"lakecolor\":\"white\"},\"title\":{\"x\":0.05},\"mapbox\":{\"style\":\"light\"}}},\"xaxis\":{\"anchor\":\"y\",\"domain\":[0.0,1.0],\"title\":{\"text\":\"Violations_Count\"},\"type\":\"log\"},\"yaxis\":{\"anchor\":\"x\",\"domain\":[0.0,1.0],\"title\":{\"text\":\"Total_ticket_value\"}},\"legend\":{\"title\":{\"text\":\"Infraction_State\"},\"tracegroupgap\":0,\"itemsizing\":\"constant\"},\"title\":{\"text\":\"Bubble PLOT\"}},                        {\"responsive\": true}                    ).then(function(){\n",
              "                            \n",
              "var gd = document.getElementById('5e417891-310c-4607-8938-7f7c8b30170b');\n",
              "var x = new MutationObserver(function (mutations, observer) {{\n",
              "        var display = window.getComputedStyle(gd).display;\n",
              "        if (!display || display === 'none') {{\n",
              "            console.log([gd, 'removed!']);\n",
              "            Plotly.purge(gd);\n",
              "            observer.disconnect();\n",
              "        }}\n",
              "}});\n",
              "\n",
              "// Listen for the removal of the full notebook cells\n",
              "var notebookContainer = gd.closest('#notebook-container');\n",
              "if (notebookContainer) {{\n",
              "    x.observe(notebookContainer, {childList: true});\n",
              "}}\n",
              "\n",
              "// Listen for the clearing of the current output cell\n",
              "var outputEl = gd.closest('.output');\n",
              "if (outputEl) {{\n",
              "    x.observe(outputEl, {childList: true});\n",
              "}}\n",
              "\n",
              "                        })                };                            </script>        </div>\n",
              "</body>\n",
              "</html>"
            ]
          },
          "metadata": {}
        }
      ]
    },
    {
      "cell_type": "code",
      "source": [
        "# Create another dataframe to check the ticket earned in each month\n",
        "\n",
        "from pyspark.sql.functions import col, month\n",
        "\n",
        "# Create a new column 'Month' extracting the month from the 'Data' column\n",
        "TV23 = TV23.withColumn('Month', month(col('Date_of_Violation_DD/MM/YYYY')))\n",
        "\n",
        "# Perform the group by and sum operation\n",
        "month_ticket_value = TV23.groupBy('Month').agg(spark_sum('Ticket_Value').alias('Ticket_Value')).orderBy('Month')\n",
        "\n",
        "month_ticket_value.show()\n"
      ],
      "metadata": {
        "colab": {
          "base_uri": "https://localhost:8080/"
        },
        "outputId": "895991e7-e06a-4138-a76b-0f06955b9644",
        "id": "2OaxmH0GRjQI"
      },
      "execution_count": 125,
      "outputs": [
        {
          "output_type": "stream",
          "name": "stdout",
          "text": [
            "+-----+-------------------+\n",
            "|Month|       Ticket_Value|\n",
            "+-----+-------------------+\n",
            "|    1|6.687653956601715E7|\n",
            "|    2|8.713000683026886E7|\n",
            "|    3|9.985583267733765E7|\n",
            "|    4|9.755676192194366E7|\n",
            "|    5|8.826874809881592E7|\n",
            "+-----+-------------------+\n",
            "\n"
          ]
        }
      ]
    },
    {
      "cell_type": "markdown",
      "source": [
        "### Saving the created dataframes on the datalake folder following the medallion architecture"
      ],
      "metadata": {
        "id": "PJVwYUmxnFWu"
      }
    },
    {
      "cell_type": "markdown",
      "source": [
        "Creating the folders"
      ],
      "metadata": {
        "id": "KuIsmciYnFWy"
      }
    },
    {
      "cell_type": "code",
      "source": [
        "# Create the datalake folder, where I will save some of the dataframes stored there\n",
        "folder_name = \"datalake/silver\"\n",
        "\n",
        "# Check if the folder exists\n",
        "if not os.path.exists(folder_name):\n",
        "    # Create the folder\n",
        "    os.makedirs(folder_name)\n",
        "    print(f\"Folder '{folder_name}' created successfully.\")\n",
        "else:\n",
        "    print(f\"Folder '{folder_name}' already exists.\")"
      ],
      "metadata": {
        "colab": {
          "base_uri": "https://localhost:8080/"
        },
        "outputId": "3cf71413-bd79-4f3b-cd88-dc1eb3b8b2f1",
        "id": "7N545BG7nFWz"
      },
      "execution_count": 126,
      "outputs": [
        {
          "output_type": "stream",
          "name": "stdout",
          "text": [
            "Folder 'datalake/silver' already exists.\n"
          ]
        }
      ]
    },
    {
      "cell_type": "code",
      "source": [
        "# Create the datalake folder, where I will save some of the dataframes stored there\n",
        "folder_name = \"datalake/gold\"\n",
        "\n",
        "# Check if the folder exists\n",
        "if not os.path.exists(folder_name):\n",
        "    # Create the folder\n",
        "    os.makedirs(folder_name)\n",
        "    print(f\"Folder '{folder_name}' created successfully.\")\n",
        "else:\n",
        "    print(f\"Folder '{folder_name}' already exists.\")"
      ],
      "metadata": {
        "colab": {
          "base_uri": "https://localhost:8080/"
        },
        "outputId": "96d8d329-54f2-4440-d961-e92440327b19",
        "id": "EDOst8rnnFW0"
      },
      "execution_count": 127,
      "outputs": [
        {
          "output_type": "stream",
          "name": "stdout",
          "text": [
            "Folder 'datalake/gold' already exists.\n"
          ]
        }
      ]
    },
    {
      "cell_type": "markdown",
      "source": [
        "Saving the dataframes TV22 and TV22 as parquet files on the silver folder, these dataframes are the ones that have all data, but they are treated."
      ],
      "metadata": {
        "id": "-ESaOB2PnFW1"
      }
    },
    {
      "cell_type": "code",
      "source": [
        "df_to_parquet(TV23,\"/content/datalake/silver/traffic_violations_2023.parquet\")"
      ],
      "metadata": {
        "colab": {
          "base_uri": "https://localhost:8080/"
        },
        "id": "JsduviWfnFW1",
        "outputId": "6b6cc31a-7408-4863-e0b8-ed714e193e14"
      },
      "execution_count": 128,
      "outputs": [
        {
          "output_type": "stream",
          "name": "stdout",
          "text": [
            "Parquet file was created and saved on /content/datalake/silver/traffic_violations_2023.parquet\n"
          ]
        }
      ]
    },
    {
      "cell_type": "code",
      "source": [
        "violations_per_day.write.csv(\"/content/datalake/gold/violations_per_day_2023.csv\")\n",
        "violations_per_state.write.csv(\"/content/datalake/gold/violations_per_state_2023.csv\")\n",
        "violations_month_state.write.csv(\"/content/datalake/gold/violations_month_state_2023.csv\")\n",
        "violation_type.write.csv(\"/content/datalake/gold/violation_type_2023.csv\")\n",
        "uf_tickets_value.write.csv(\"/content/datalake/gold/uf_tickets_value_2023.csv\")\n",
        "month_ticket_value.write.csv(\"/content/datalake/gold/month_ticket_value_2023.csv\")"
      ],
      "metadata": {
        "id": "j6uOCYUpnFW2"
      },
      "execution_count": 129,
      "outputs": []
    },
    {
      "cell_type": "markdown",
      "source": [
        "### Closing Spark Session"
      ],
      "metadata": {
        "id": "Pwbt190oRjQJ"
      }
    },
    {
      "cell_type": "code",
      "source": [
        "spark.stop()"
      ],
      "metadata": {
        "id": "FHvdqBUuRjQJ"
      },
      "execution_count": 130,
      "outputs": []
    }
  ]
}